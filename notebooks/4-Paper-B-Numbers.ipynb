{
 "cells": [
  {
   "cell_type": "code",
   "execution_count": 1,
   "id": "4fb6a9f7",
   "metadata": {},
   "outputs": [],
   "source": [
    "# Code\n",
    "import sys\n",
    "sys.path.append('../')\n",
    "from generative_formalism import *"
   ]
  },
  {
   "cell_type": "code",
   "execution_count": 2,
   "id": "57e8fed3",
   "metadata": {},
   "outputs": [],
   "source": [
    "data = {}"
   ]
  },
  {
   "cell_type": "code",
   "execution_count": 3,
   "id": "ce4913ac",
   "metadata": {},
   "outputs": [
    {
     "data": {
      "text/markdown": [
       "* Loading rhyme data for `corpus_sample_by_period` from `{REPO}/data/data_as_in_paper/corpus_sample_by_period.rhyme_data.csv`"
      ],
      "text/plain": [
       "<IPython.core.display.Markdown object>"
      ]
     },
     "metadata": {},
     "output_type": "display_data"
    }
   ],
   "source": [
    "# sample\n",
    "df_smpl = get_chadwyck_corpus_sampled_by('period')\n",
    "df_smpl_rhyme = get_rhyme_for_sample(df_smpl, with_sample=True)\n",
    "df_smpl_rhyme['pre_20C'] = ~df_smpl_rhyme.period.str.startswith('19')\n",
    "df_smpl_rhyme.groupby('pre_20C').rhyme_pred_perc.mean()\n",
    "pre20cdf = df_smpl_rhyme[df_smpl_rhyme.pre_20C]\n",
    "rhyme_by_period_pre20c = pre20cdf.groupby('period').rhyme_pred_perc.mean()\n",
    "rhyme_by_period = df_smpl_rhyme.groupby('period').rhyme_pred_perc.mean()\n",
    "data['MIN_RHYME_PRED_PERC_PRE_20C'] = int(round(rhyme_by_period_pre20c.min()))\n",
    "data['MAX_RHYME_PRED_PERC_PRE_20C'] = int(round(rhyme_by_period_pre20c.max()))\n",
    "data['C19l_RHYME_PRED_PERC'] = int(round(rhyme_by_period['1850-1900']))\n",
    "data['C20e_RHYME_PRED_PERC'] = int(round(rhyme_by_period['1900-1950']))\n",
    "data['C20l_RHYME_PRED_PERC'] = int(round(rhyme_by_period['1950-2000']))"
   ]
  },
  {
   "cell_type": "code",
   "execution_count": 4,
   "id": "343f7bc1",
   "metadata": {},
   "outputs": [
    {
     "data": {
      "text/markdown": [
       "\n",
       "* 13,849 generated responses\n",
       "* 13,700 unique poems\n",
       "* 23 unique prompts\n",
       "* 3 unique prompt types\n"
      ],
      "text/plain": [
       "<IPython.core.display.Markdown object>"
      ]
     },
     "metadata": {},
     "output_type": "display_data"
    },
    {
     "data": {
      "text/markdown": [
       "* Loading rhyme data for `genai_rhyme_promptings` from `{REPO}/data/data_as_in_paper/genai_rhyme_promptings.rhyme_data.csv`"
      ],
      "text/plain": [
       "<IPython.core.display.Markdown object>"
      ]
     },
     "metadata": {},
     "output_type": "display_data"
    }
   ],
   "source": [
    "# Number of prompted poems in total\n",
    "df = get_genai_rhyme_promptings()\n",
    "data['NUM_PROMPTED_POEMS'] = len(df)\n",
    "df_rhyme = get_rhyme_for_sample(df, with_sample=True)\n",
    "df_rhyme['model2'] = df_rhyme.model.apply(rename_model)\n",
    "df_rhyme['prompt_type2'] = df_rhyme.prompt_type!='do_NOT_rhyme'\n",
    "df_rhyme.groupby('prompt_type2').rhyme_pred_perc.mean()\n",
    "data['AVG_RHYME_PRED_PERC_NOT_DO_NOT_RHYME'] = int(round(df_rhyme.groupby('prompt_type2').rhyme_pred_perc.mean()[True]))\n",
    "data['AVG_RHYME_PRED_PERC_DO_NOT_RHYME'] = int(round(df_rhyme.groupby('prompt_type2').rhyme_pred_perc.mean()[False]))\n",
    "\n",
    "maybe_rhyme = df_rhyme[df_rhyme.prompt_type=='MAYBE_rhyme']\n",
    "data['MIN_RHYME_PRED_PERC_MAYBE_RHYME'] = int(round(maybe_rhyme.groupby('model2').rhyme_pred_perc.mean().min()))\n",
    "data['MAX_RHYME_PRED_PERC_MAYBE_RHYME'] = int(round(maybe_rhyme.groupby('model2').rhyme_pred_perc.mean().max()))\n",
    "\n",
    "no_rhyme = df_rhyme[df_rhyme.prompt_type=='do_NOT_rhyme']\n",
    "no_rhyme_model = no_rhyme.groupby('model2').rhyme_pred_perc.mean()\n",
    "\n",
    "data['NO_RHYME_GEMINI_PRED_PERC'] = int(round(no_rhyme_model['Gemini']))\n",
    "data['NO_RHYME_CLAUDE_PRED_PERC'] = int(round(no_rhyme_model['Claude']))\n",
    "data['NO_RHYME_CHATGPT_PRED_PERC'] = int(round(no_rhyme_model['ChatGPT']))\n",
    "data['NO_RHYME_LLAMA_PRED_PERC'] = int(round(no_rhyme_model['Llama']))\n",
    "data['NO_RHYME_DEEPSEEK_PRED_PERC'] = int(round(no_rhyme_model['DeepSeek']))\n",
    "data['NO_RHYME_OLMO_PRED_PERC'] = int(round(no_rhyme_model['Olmo']))\n",
    "\n",
    "\n"
   ]
  },
  {
   "cell_type": "code",
   "execution_count": 5,
   "id": "3f725778",
   "metadata": {},
   "outputs": [
    {
     "data": {
      "text/markdown": [
       "* Loading genai rhyme completions from `{REPO}/data/data_as_in_paper/genai_rhyme_completions.csv.gz`"
      ],
      "text/plain": [
       "<IPython.core.display.Markdown object>"
      ]
     },
     "metadata": {},
     "output_type": "display_data"
    },
    {
     "data": {
      "application/vnd.jupyter.widget-view+json": {
       "model_id": "2e014fc6a89d4575ac7bdc98cd90a824",
       "version_major": 2,
       "version_minor": 0
      },
      "text/plain": [
       "Computing line similarity:   0%|          | 0/326862 [00:00<?, ?it/s]"
      ]
     },
     "metadata": {},
     "output_type": "display_data"
    },
    {
     "data": {
      "application/vnd.jupyter.widget-view+json": {
       "model_id": "64f2c2c52cfb451c975d01cdae7eaaad",
       "version_major": 2,
       "version_minor": 0
      },
      "text/plain": [
       "Filtering out recognized completions:   0%|          | 0/21130 [00:00<?, ?it/s]"
      ]
     },
     "metadata": {},
     "output_type": "display_data"
    },
    {
     "data": {
      "text/markdown": [
       "* Filtered out 169 recognized poems"
      ],
      "text/plain": [
       "<IPython.core.display.Markdown object>"
      ]
     },
     "metadata": {},
     "output_type": "display_data"
    },
    {
     "data": {
      "text/markdown": [
       "* Converting to poem txt format (not keeping first lines from original poem)"
      ],
      "text/plain": [
       "<IPython.core.display.Markdown object>"
      ]
     },
     "metadata": {},
     "output_type": "display_data"
    },
    {
     "data": {
      "text/markdown": [
       "* Loading from `/Users/ryan/github/generative-formalism/data/raw/corpus/chadwyck_corpus_metadata.csv.gz`"
      ],
      "text/plain": [
       "<IPython.core.display.Markdown object>"
      ]
     },
     "metadata": {},
     "output_type": "display_data"
    }
   ],
   "source": [
    "# Number of completed poems\n",
    "df = get_genai_rhyme_completions(by_line=False)\n",
    "df['model2'] = df.model.map(rename_model)\n",
    "df=df[df.model2!='']\n",
    "len(df), df.id_human.nunique()\n",
    "\n",
    "data['NUM_COMPLETED_POEMS'] = len(df)\n",
    "data['NUM_COMPLETED_POEMS_UNIQUE'] = df.id_human.nunique()\n",
    "ps=df.groupby('period').id_human.nunique().sort_values()\n",
    "data['MIN_NUM_COMPLETIONS'] = int(ps.min())\n",
    "data['MIN_NUM_COMPLETIONS_PERIOD'] = ps.idxmin().replace('-','--')\n",
    "data['MAX_NUM_COMPLETIONS'] = int(ps.max())\n",
    "data['MAX_NUM_COMPLETIONS_PERIOD'] = ps.idxmax().replace('-','--')\n",
    "\n",
    "ps=df.groupby('model').id_human.nunique().sort_values()\n",
    "data['MIN_NUM_COMPLETIONS_MODEL'] = int(ps.min())\n",
    "data['MIN_NUM_COMPLETIONS_MODEL_NAME'] = rename_model(ps.idxmin())\n",
    "data['MAX_NUM_COMPLETIONS_MODEL'] = int(ps.max())\n",
    "data['MAX_NUM_COMPLETIONS_MODEL_NAME'] = rename_model(ps.idxmax())\n",
    "data['MEDIAN_NUM_COMPLETIONS_MODEL'] = int(ps.median())\n",
    "\n",
    "df['model_period'] = df.model.map(rename_model) + ' in ' + df.period\n",
    "ps = df.groupby(['model_period']).id_human.nunique().sort_values()\n",
    "data['MIN_NUM_COMPLETIONS_MODEL_PERIOD'] = int(ps.min())\n",
    "data['MIN_NUM_COMPLETIONS_MODEL_PERIOD_NAME'] = ps.idxmin().replace('-','--')\n",
    "data['MAX_NUM_COMPLETIONS_MODEL_PERIOD'] = int(ps.max())\n",
    "data['MAX_NUM_COMPLETIONS_MODEL_PERIOD_NAME'] = ps.idxmax().replace('-','--')\n",
    "data['MEDIAN_NUM_COMPLETIONS_MODEL_PERIOD'] = int(ps.median())"
   ]
  },
  {
   "cell_type": "code",
   "execution_count": null,
   "id": "177d31e7",
   "metadata": {},
   "outputs": [],
   "source": []
  },
  {
   "cell_type": "code",
   "execution_count": 6,
   "id": "5e6d2217",
   "metadata": {},
   "outputs": [
    {
     "data": {
      "text/markdown": [
       "* Loading genai rhyme completions from `{REPO}/data/data_as_in_paper/genai_rhyme_completions.csv.gz`"
      ],
      "text/plain": [
       "<IPython.core.display.Markdown object>"
      ]
     },
     "metadata": {},
     "output_type": "display_data"
    },
    {
     "data": {
      "application/vnd.jupyter.widget-view+json": {
       "model_id": "ffbb91ff147342ec973c6c3eee9c2e3e",
       "version_major": 2,
       "version_minor": 0
      },
      "text/plain": [
       "Computing line similarity:   0%|          | 0/326862 [00:00<?, ?it/s]"
      ]
     },
     "metadata": {},
     "output_type": "display_data"
    },
    {
     "data": {
      "application/vnd.jupyter.widget-view+json": {
       "model_id": "2d30078140fd484799c0f3ccdeea48bf",
       "version_major": 2,
       "version_minor": 0
      },
      "text/plain": [
       "Filtering out recognized completions:   0%|          | 0/21130 [00:00<?, ?it/s]"
      ]
     },
     "metadata": {},
     "output_type": "display_data"
    },
    {
     "data": {
      "text/markdown": [
       "* Filtered out 169 recognized poems"
      ],
      "text/plain": [
       "<IPython.core.display.Markdown object>"
      ]
     },
     "metadata": {},
     "output_type": "display_data"
    },
    {
     "data": {
      "text/markdown": [
       "* Converting to poem txt format (not keeping first lines from original poem)"
      ],
      "text/plain": [
       "<IPython.core.display.Markdown object>"
      ]
     },
     "metadata": {},
     "output_type": "display_data"
    },
    {
     "data": {
      "text/markdown": [
       "* Loading rhyme data for `genai_rhyme_completions_gen` from `{REPO}/data/data_as_in_paper/genai_rhyme_completions_gen.rhyme_data.csv`"
      ],
      "text/plain": [
       "<IPython.core.display.Markdown object>"
      ]
     },
     "metadata": {},
     "output_type": "display_data"
    },
    {
     "data": {
      "text/markdown": [
       "* Loading genai rhyme completions from `{REPO}/data/data_as_in_paper/genai_rhyme_completions.csv.gz`"
      ],
      "text/plain": [
       "<IPython.core.display.Markdown object>"
      ]
     },
     "metadata": {},
     "output_type": "display_data"
    },
    {
     "data": {
      "application/vnd.jupyter.widget-view+json": {
       "model_id": "8091242af545422b9161204ceb7d6af7",
       "version_major": 2,
       "version_minor": 0
      },
      "text/plain": [
       "Computing line similarity:   0%|          | 0/326862 [00:00<?, ?it/s]"
      ]
     },
     "metadata": {},
     "output_type": "display_data"
    },
    {
     "data": {
      "application/vnd.jupyter.widget-view+json": {
       "model_id": "8ad39eb0bbdd458b8b6393eda275e8f7",
       "version_major": 2,
       "version_minor": 0
      },
      "text/plain": [
       "Filtering out recognized completions:   0%|          | 0/21130 [00:00<?, ?it/s]"
      ]
     },
     "metadata": {},
     "output_type": "display_data"
    },
    {
     "data": {
      "text/markdown": [
       "* Filtered out 169 recognized poems"
      ],
      "text/plain": [
       "<IPython.core.display.Markdown object>"
      ]
     },
     "metadata": {},
     "output_type": "display_data"
    },
    {
     "data": {
      "text/markdown": [
       "* Converting to poem txt format (not keeping first lines from original poem)"
      ],
      "text/plain": [
       "<IPython.core.display.Markdown object>"
      ]
     },
     "metadata": {},
     "output_type": "display_data"
    },
    {
     "data": {
      "text/markdown": [
       "* Loading rhyme data for `genai_rhyme_completions_real` from `{REPO}/data/data_as_in_paper/genai_rhyme_completions_real.rhyme_data.csv`"
      ],
      "text/plain": [
       "<IPython.core.display.Markdown object>"
      ]
     },
     "metadata": {},
     "output_type": "display_data"
    }
   ],
   "source": [
    "df = get_rhyme_for_genai_human_completions()"
   ]
  },
  {
   "cell_type": "code",
   "execution_count": 7,
   "id": "f8a5ec0d",
   "metadata": {},
   "outputs": [],
   "source": [
    "df_c20l = df[df['period']=='1950-2000']"
   ]
  },
  {
   "cell_type": "code",
   "execution_count": 8,
   "id": "24f74526",
   "metadata": {},
   "outputs": [
    {
     "data": {
      "text/plain": [
       "model2\n",
       "(Historical)    404\n",
       "Llama           385\n",
       "               ... \n",
       "Claude          123\n",
       "ChatGPT         107\n",
       "Name: count, Length: 6, dtype: int64"
      ]
     },
     "execution_count": 8,
     "metadata": {},
     "output_type": "execute_result"
    }
   ],
   "source": [
    "df_c20l['model2'] = df_c20l.model.apply(rename_model)\n",
    "df_c20l = df_c20l[df_c20l.model2!='']\n",
    "df_c20l['model2'].value_counts()"
   ]
  },
  {
   "cell_type": "code",
   "execution_count": 9,
   "id": "9b50d53c",
   "metadata": {},
   "outputs": [
    {
     "data": {
      "application/vnd.jupyter.widget-view+json": {
       "model_id": "8bc420cde21d44cc948362141d12b269",
       "version_major": 2,
       "version_minor": 0
      },
      "text/plain": [
       "Computing comparisons:   0%|          | 0/15 [00:00<?, ?it/s]"
      ]
     },
     "metadata": {},
     "output_type": "display_data"
    }
   ],
   "source": [
    "df_stat = compute_stat_signif(df_c20l, 'model2', 'rhyme_pred_perc').set_index('comparison')\n",
    "df_stat = df_stat.loc[[x for x in df_stat.index if 'Historical' in x]]"
   ]
  },
  {
   "cell_type": "code",
   "execution_count": null,
   "id": "eca0d1e3",
   "metadata": {},
   "outputs": [],
   "source": []
  },
  {
   "cell_type": "code",
   "execution_count": 10,
   "id": "4d2c8e4f",
   "metadata": {},
   "outputs": [
    {
     "data": {
      "text/plain": [
       "{'MIN_RHYME_PRED_PERC_PRE_20C': 71,\n",
       " 'MAX_RHYME_PRED_PERC_PRE_20C': 90,\n",
       " 'C19l_RHYME_PRED_PERC': 71,\n",
       " 'C20e_RHYME_PRED_PERC': 15,\n",
       " 'C20l_RHYME_PRED_PERC': 7,\n",
       " 'NUM_PROMPTED_POEMS': 13838,\n",
       " 'AVG_RHYME_PRED_PERC_NOT_DO_NOT_RHYME': 95,\n",
       " 'AVG_RHYME_PRED_PERC_DO_NOT_RHYME': 50,\n",
       " 'MIN_RHYME_PRED_PERC_MAYBE_RHYME': 91,\n",
       " 'MAX_RHYME_PRED_PERC_MAYBE_RHYME': 100,\n",
       " 'NO_RHYME_GEMINI_PRED_PERC': 94,\n",
       " 'NO_RHYME_CLAUDE_PRED_PERC': 46,\n",
       " 'NO_RHYME_CHATGPT_PRED_PERC': 18,\n",
       " 'NO_RHYME_LLAMA_PRED_PERC': 25,\n",
       " 'NO_RHYME_DEEPSEEK_PRED_PERC': 31,\n",
       " 'NO_RHYME_OLMO_PRED_PERC': 83,\n",
       " 'NUM_COMPLETED_POEMS': 15866,\n",
       " 'NUM_COMPLETED_POEMS_UNIQUE': 10542,\n",
       " 'MIN_NUM_COMPLETIONS': 1069,\n",
       " 'MIN_NUM_COMPLETIONS_PERIOD': '1650--1700',\n",
       " 'MAX_NUM_COMPLETIONS': 1539,\n",
       " 'MAX_NUM_COMPLETIONS_PERIOD': '1800--1850',\n",
       " 'MIN_NUM_COMPLETIONS_MODEL': 1458,\n",
       " 'MIN_NUM_COMPLETIONS_MODEL_NAME': 'ChatGPT',\n",
       " 'MAX_NUM_COMPLETIONS_MODEL': 5338,\n",
       " 'MAX_NUM_COMPLETIONS_MODEL_NAME': 'Llama',\n",
       " 'MEDIAN_NUM_COMPLETIONS_MODEL': 2100,\n",
       " 'MIN_NUM_COMPLETIONS_MODEL_PERIOD': 164,\n",
       " 'MIN_NUM_COMPLETIONS_MODEL_PERIOD_NAME': 'ChatGPT in 1600--1650',\n",
       " 'MAX_NUM_COMPLETIONS_MODEL_PERIOD': 769,\n",
       " 'MAX_NUM_COMPLETIONS_MODEL_PERIOD_NAME': 'Olmo in 1800--1850',\n",
       " 'MEDIAN_NUM_COMPLETIONS_MODEL_PERIOD': 256,\n",
       " 'CLAUDE_COMPLETION_C20L_EFFECT_SIZE': 1.41,\n",
       " 'LLAMA_COMPLETION_C20L_EFFECT_SIZE': 0.96,\n",
       " 'OLMO_COMPLETION_C20L_EFFECT_SIZE': 0.8,\n",
       " 'CHATGPT_COMPLETION_C20L_EFFECT_SIZE': 0.43,\n",
       " 'DEEPSEEK_COMPLETION_C20L_EFFECT_SIZE': 0.61}"
      ]
     },
     "execution_count": 10,
     "metadata": {},
     "output_type": "execute_result"
    }
   ],
   "source": [
    "data['CLAUDE_COMPLETION_C20L_EFFECT_SIZE'] = float(round(df_stat.loc['Claude vs (Historical)']['effect_size'], 2))\n",
    "data['LLAMA_COMPLETION_C20L_EFFECT_SIZE'] = float(round(df_stat.loc['Llama vs (Historical)']['effect_size'], 2))\n",
    "data['OLMO_COMPLETION_C20L_EFFECT_SIZE'] = float(round(df_stat.loc['Olmo vs (Historical)']['effect_size'], 2))\n",
    "data['CHATGPT_COMPLETION_C20L_EFFECT_SIZE'] = float(round(df_stat.loc['ChatGPT vs (Historical)']['effect_size'], 2))\n",
    "data['DEEPSEEK_COMPLETION_C20L_EFFECT_SIZE'] = float(round(df_stat.loc['DeepSeek vs (Historical)']['effect_size'], 2))\n",
    "data"
   ]
  },
  {
   "cell_type": "code",
   "execution_count": 23,
   "id": "e314834b",
   "metadata": {},
   "outputs": [
    {
     "data": {
      "text/markdown": [
       "* Loading from `/Users/ryan/github/generative-formalism/data/raw/memorization/data.all_memorization_data.csv.gz`"
      ],
      "text/plain": [
       "<IPython.core.display.Markdown object>"
      ]
     },
     "metadata": {},
     "output_type": "display_data"
    },
    {
     "data": {
      "text/markdown": [
       "* Loading rhyme data for `all_memorization_data` from `{REPO}/data/data_as_in_paper/all_memorization_data.rhyme_data.csv`"
      ],
      "text/plain": [
       "<IPython.core.display.Markdown object>"
      ]
     },
     "metadata": {},
     "output_type": "display_data"
    }
   ],
   "source": [
    "df=get_rhyme_for_sample(get_all_memorization_data(), with_sample=True)\n",
    "data['NUM_WIMBDB'] = f\"{len(df[df.found_source_corpus=='open|chadwyck']):,}\"\n",
    "# compute_stat_signif(df, 'found_source_corpus')\n"
   ]
  },
  {
   "cell_type": "code",
   "execution_count": 30,
   "id": "fd25264a",
   "metadata": {},
   "outputs": [
    {
     "data": {
      "text/markdown": [
       "* Loading sonnet rhythm data from `{REPO}/data/data_as_in_paper/sonnet_rhythm_data_by_sonnet_period.csv.gz`"
      ],
      "text/plain": [
       "<IPython.core.display.Markdown object>"
      ]
     },
     "metadata": {},
     "output_type": "display_data"
    },
    {
     "data": {
      "text/plain": [
       "{'MIN_RHYME_PRED_PERC_PRE_20C': 71,\n",
       " 'MAX_RHYME_PRED_PERC_PRE_20C': 90,\n",
       " 'C19l_RHYME_PRED_PERC': 71,\n",
       " 'C20e_RHYME_PRED_PERC': 15,\n",
       " 'C20l_RHYME_PRED_PERC': 7,\n",
       " 'NUM_PROMPTED_POEMS': 13838,\n",
       " 'AVG_RHYME_PRED_PERC_NOT_DO_NOT_RHYME': 95,\n",
       " 'AVG_RHYME_PRED_PERC_DO_NOT_RHYME': 50,\n",
       " 'MIN_RHYME_PRED_PERC_MAYBE_RHYME': 91,\n",
       " 'MAX_RHYME_PRED_PERC_MAYBE_RHYME': 100,\n",
       " 'NO_RHYME_GEMINI_PRED_PERC': 94,\n",
       " 'NO_RHYME_CLAUDE_PRED_PERC': 46,\n",
       " 'NO_RHYME_CHATGPT_PRED_PERC': 18,\n",
       " 'NO_RHYME_LLAMA_PRED_PERC': 25,\n",
       " 'NO_RHYME_DEEPSEEK_PRED_PERC': 31,\n",
       " 'NO_RHYME_OLMO_PRED_PERC': 83,\n",
       " 'NUM_COMPLETED_POEMS': 15866,\n",
       " 'NUM_COMPLETED_POEMS_UNIQUE': 10542,\n",
       " 'MIN_NUM_COMPLETIONS': 1069,\n",
       " 'MIN_NUM_COMPLETIONS_PERIOD': '1650--1700',\n",
       " 'MAX_NUM_COMPLETIONS': 1539,\n",
       " 'MAX_NUM_COMPLETIONS_PERIOD': '1800--1850',\n",
       " 'MIN_NUM_COMPLETIONS_MODEL': 1458,\n",
       " 'MIN_NUM_COMPLETIONS_MODEL_NAME': 'ChatGPT',\n",
       " 'MAX_NUM_COMPLETIONS_MODEL': 5338,\n",
       " 'MAX_NUM_COMPLETIONS_MODEL_NAME': 'Llama',\n",
       " 'MEDIAN_NUM_COMPLETIONS_MODEL': 2100,\n",
       " 'MIN_NUM_COMPLETIONS_MODEL_PERIOD': 164,\n",
       " 'MIN_NUM_COMPLETIONS_MODEL_PERIOD_NAME': 'ChatGPT in 1600--1650',\n",
       " 'MAX_NUM_COMPLETIONS_MODEL_PERIOD': 769,\n",
       " 'MAX_NUM_COMPLETIONS_MODEL_PERIOD_NAME': 'Olmo in 1800--1850',\n",
       " 'MEDIAN_NUM_COMPLETIONS_MODEL_PERIOD': 256,\n",
       " 'CLAUDE_COMPLETION_C20L_EFFECT_SIZE': 1.41,\n",
       " 'LLAMA_COMPLETION_C20L_EFFECT_SIZE': 0.96,\n",
       " 'OLMO_COMPLETION_C20L_EFFECT_SIZE': 0.8,\n",
       " 'CHATGPT_COMPLETION_C20L_EFFECT_SIZE': 0.43,\n",
       " 'DEEPSEEK_COMPLETION_C20L_EFFECT_SIZE': 0.61,\n",
       " 'NUM_WIMBDB': '4,635',\n",
       " 'SYLL2_STRESS_C17-19': 69,\n",
       " 'SYLL2_STRESS_C20': 62,\n",
       " 'SYLL2_STRESS_LLM': 89,\n",
       " 'SYLL2_STRESS_SHAKESPEARE': 63,\n",
       " 'NUM_LLM_SONNETS': 449,\n",
       " 'SYLL2_STRESS_C17_19': 69}"
      ]
     },
     "execution_count": 30,
     "metadata": {},
     "output_type": "execute_result"
    }
   ],
   "source": [
    "df_rhythm = get_sonnet_rhythm_data(\n",
    "    sample_by='sonnet_period',\n",
    "    as_in_paper=True,\n",
    "    as_replicated=False,\n",
    "    force=False,\n",
    "    verbose=True,\n",
    ")\n",
    "df = get_rhythm_data_by_syll(df_rhythm)\n",
    "res=dict(df[df.syll_num==2].groupby(['group']).stress.mean())\n",
    "for k,v in res.items():\n",
    "    data[f'SYLL2_STRESS_{k.upper().replace(\"-\",\"_\")}'] = int(round(v))\n",
    "data"
   ]
  },
  {
   "cell_type": "code",
   "execution_count": 42,
   "id": "5c8a57bf",
   "metadata": {},
   "outputs": [
    {
     "data": {
      "text/plain": [
       "{'MIN_RHYME_PRED_PERC_PRE_20C': 71,\n",
       " 'MAX_RHYME_PRED_PERC_PRE_20C': 90,\n",
       " 'C19l_RHYME_PRED_PERC': 71,\n",
       " 'C20e_RHYME_PRED_PERC': 15,\n",
       " 'C20l_RHYME_PRED_PERC': 7,\n",
       " 'NUM_PROMPTED_POEMS': 13838,\n",
       " 'AVG_RHYME_PRED_PERC_NOT_DO_NOT_RHYME': 95,\n",
       " 'AVG_RHYME_PRED_PERC_DO_NOT_RHYME': 50,\n",
       " 'MIN_RHYME_PRED_PERC_MAYBE_RHYME': 91,\n",
       " 'MAX_RHYME_PRED_PERC_MAYBE_RHYME': 100,\n",
       " 'NO_RHYME_GEMINI_PRED_PERC': 94,\n",
       " 'NO_RHYME_CLAUDE_PRED_PERC': 46,\n",
       " 'NO_RHYME_CHATGPT_PRED_PERC': 18,\n",
       " 'NO_RHYME_LLAMA_PRED_PERC': 25,\n",
       " 'NO_RHYME_DEEPSEEK_PRED_PERC': 31,\n",
       " 'NO_RHYME_OLMO_PRED_PERC': 83,\n",
       " 'NUM_COMPLETED_POEMS': 15866,\n",
       " 'NUM_COMPLETED_POEMS_UNIQUE': 10542,\n",
       " 'MIN_NUM_COMPLETIONS': 1069,\n",
       " 'MIN_NUM_COMPLETIONS_PERIOD': '1650--1700',\n",
       " 'MAX_NUM_COMPLETIONS': 1539,\n",
       " 'MAX_NUM_COMPLETIONS_PERIOD': '1800--1850',\n",
       " 'MIN_NUM_COMPLETIONS_MODEL': 1458,\n",
       " 'MIN_NUM_COMPLETIONS_MODEL_NAME': 'ChatGPT',\n",
       " 'MAX_NUM_COMPLETIONS_MODEL': 5338,\n",
       " 'MAX_NUM_COMPLETIONS_MODEL_NAME': 'Llama',\n",
       " 'MEDIAN_NUM_COMPLETIONS_MODEL': 2100,\n",
       " 'MIN_NUM_COMPLETIONS_MODEL_PERIOD': 164,\n",
       " 'MIN_NUM_COMPLETIONS_MODEL_PERIOD_NAME': 'ChatGPT in 1600--1650',\n",
       " 'MAX_NUM_COMPLETIONS_MODEL_PERIOD': 769,\n",
       " 'MAX_NUM_COMPLETIONS_MODEL_PERIOD_NAME': 'Olmo in 1800--1850',\n",
       " 'MEDIAN_NUM_COMPLETIONS_MODEL_PERIOD': 256,\n",
       " 'CLAUDE_COMPLETION_C20L_EFFECT_SIZE': 1.41,\n",
       " 'LLAMA_COMPLETION_C20L_EFFECT_SIZE': 0.96,\n",
       " 'OLMO_COMPLETION_C20L_EFFECT_SIZE': 0.8,\n",
       " 'CHATGPT_COMPLETION_C20L_EFFECT_SIZE': 0.43,\n",
       " 'DEEPSEEK_COMPLETION_C20L_EFFECT_SIZE': 0.61,\n",
       " 'NUM_WIMBDB': '4,635',\n",
       " 'SYLL2_STRESS_C17-19': 69,\n",
       " 'SYLL2_STRESS_C20': 62,\n",
       " 'SYLL2_STRESS_LLM': 89,\n",
       " 'SYLL2_STRESS_SHAKESPEARE': 63,\n",
       " 'NUM_LLM_SONNETS': 449,\n",
       " 'SYLL2_STRESS_C17_19': 69,\n",
       " 'PENTAMETER_PERC_C17_19': 30,\n",
       " 'PENTAMETER_PERC_C20': 21,\n",
       " 'PENTAMETER_PERC_LLM': 53,\n",
       " 'PENTAMETER_PERC_SHAKESPEARE': 24,\n",
       " 'PENTAMETER_IMRPOVEMENT_LLM_C20': 2.5,\n",
       " 'PENTAMETER_IMRPOVEMENT_C1719_C20': 1.4}"
      ]
     },
     "execution_count": 42,
     "metadata": {},
     "output_type": "execute_result"
    }
   ],
   "source": [
    "res = dict(get_avgs_df(df_rhythm, [\"group\"], 'is_unambigously_iambic_pentameter').set_index('group')['mean'])\n",
    "for k,v in res.items():\n",
    "    data[f'PENTAMETER_PERC_{k.upper().replace(\"-\",\"_\")}'] = int(round(v*100))\n",
    "data['PENTAMETER_IMRPOVEMENT_LLM_C20'] = float(round(data['PENTAMETER_PERC_LLM']/data['PENTAMETER_PERC_C20'], 1))\n",
    "data['PENTAMETER_IMRPOVEMENT_C1719_C20'] = float(round(data['PENTAMETER_PERC_C17_19']/data['PENTAMETER_PERC_C20'], 1))\n",
    "data"
   ]
  },
  {
   "cell_type": "code",
   "execution_count": null,
   "id": "f38f59f9",
   "metadata": {},
   "outputs": [
    {
     "data": {
      "text/markdown": [
       "* Loading sonnet rhythm data from `{REPO}/data/data_as_in_paper/sonnet_rhythm_data_by_sonnet_period.csv.gz`"
      ],
      "text/plain": [
       "<IPython.core.display.Markdown object>"
      ]
     },
     "metadata": {},
     "output_type": "display_data"
    },
    {
     "data": {
      "text/plain": [
       "{'MIN_RHYME_PRED_PERC_PRE_20C': 71,\n",
       " 'MAX_RHYME_PRED_PERC_PRE_20C': 90,\n",
       " 'C19l_RHYME_PRED_PERC': 71,\n",
       " 'C20e_RHYME_PRED_PERC': 15,\n",
       " 'C20l_RHYME_PRED_PERC': 7,\n",
       " 'NUM_PROMPTED_POEMS': 13838,\n",
       " 'AVG_RHYME_PRED_PERC_NOT_DO_NOT_RHYME': 95,\n",
       " 'AVG_RHYME_PRED_PERC_DO_NOT_RHYME': 50,\n",
       " 'MIN_RHYME_PRED_PERC_MAYBE_RHYME': 91,\n",
       " 'MAX_RHYME_PRED_PERC_MAYBE_RHYME': 100,\n",
       " 'NO_RHYME_GEMINI_PRED_PERC': 94,\n",
       " 'NO_RHYME_CLAUDE_PRED_PERC': 46,\n",
       " 'NO_RHYME_CHATGPT_PRED_PERC': 18,\n",
       " 'NO_RHYME_LLAMA_PRED_PERC': 25,\n",
       " 'NO_RHYME_DEEPSEEK_PRED_PERC': 31,\n",
       " 'NO_RHYME_OLMO_PRED_PERC': 83,\n",
       " 'NUM_COMPLETED_POEMS': 15866,\n",
       " 'NUM_COMPLETED_POEMS_UNIQUE': 10542,\n",
       " 'MIN_NUM_COMPLETIONS': 1069,\n",
       " 'MIN_NUM_COMPLETIONS_PERIOD': '1650--1700',\n",
       " 'MAX_NUM_COMPLETIONS': 1539,\n",
       " 'MAX_NUM_COMPLETIONS_PERIOD': '1800--1850',\n",
       " 'MIN_NUM_COMPLETIONS_MODEL': 1458,\n",
       " 'MIN_NUM_COMPLETIONS_MODEL_NAME': 'ChatGPT',\n",
       " 'MAX_NUM_COMPLETIONS_MODEL': 5338,\n",
       " 'MAX_NUM_COMPLETIONS_MODEL_NAME': 'Llama',\n",
       " 'MEDIAN_NUM_COMPLETIONS_MODEL': 2100,\n",
       " 'MIN_NUM_COMPLETIONS_MODEL_PERIOD': 164,\n",
       " 'MIN_NUM_COMPLETIONS_MODEL_PERIOD_NAME': 'ChatGPT in 1600--1650',\n",
       " 'MAX_NUM_COMPLETIONS_MODEL_PERIOD': 769,\n",
       " 'MAX_NUM_COMPLETIONS_MODEL_PERIOD_NAME': 'Olmo in 1800--1850',\n",
       " 'MEDIAN_NUM_COMPLETIONS_MODEL_PERIOD': 256,\n",
       " 'CLAUDE_COMPLETION_C20L_EFFECT_SIZE': 1.41,\n",
       " 'LLAMA_COMPLETION_C20L_EFFECT_SIZE': 0.96,\n",
       " 'OLMO_COMPLETION_C20L_EFFECT_SIZE': 0.8,\n",
       " 'CHATGPT_COMPLETION_C20L_EFFECT_SIZE': 0.43,\n",
       " 'DEEPSEEK_COMPLETION_C20L_EFFECT_SIZE': 0.61,\n",
       " 'NUM_WIMBDB': '4,635',\n",
       " 'SYLL2_STRESS_C17-19': 69,\n",
       " 'SYLL2_STRESS_C20': 62,\n",
       " 'SYLL2_STRESS_LLM': 89,\n",
       " 'SYLL2_STRESS_SHAKESPEARE': 63,\n",
       " 'NUM_LLM_SONNETS': 449,\n",
       " 'SYLL2_STRESS_C17_19': 69,\n",
       " 'PENTAMETER_PERC_C17_19': 0,\n",
       " 'PENTAMETER_PERC_C20': 0,\n",
       " 'PENTAMETER_PERC_LLM': 1,\n",
       " 'PENTAMETER_PERC_SHAKESPEARE': 0}"
      ]
     },
     "execution_count": 36,
     "metadata": {},
     "output_type": "execute_result"
    }
   ],
   "source": [
    "df_sonnets = get_sonnet_rhythm_data().reset_index().drop_duplicates('id').set_index('id')\n",
    "df_sonnets['source2'] = df_sonnets.source.map({'chadwyck':'Historical', 'shakespeare':'Historical', 'genai':'LLM'})\n",
    "data['NUM_LLM_SONNETS'] = int(df_sonnets.source2.value_counts()['LLM'])\n",
    "data"
   ]
  },
  {
   "cell_type": "code",
   "execution_count": 59,
   "id": "40b68151",
   "metadata": {},
   "outputs": [
    {
     "data": {
      "text/markdown": [
       "* Loading sonnet rhythm data from `{REPO}/data/data_as_in_paper/sonnet_rhythm_data_by_sonnet_period.csv.gz`"
      ],
      "text/plain": [
       "<IPython.core.display.Markdown object>"
      ]
     },
     "metadata": {},
     "output_type": "display_data"
    },
    {
     "data": {
      "text/plain": [
       "{'MIN_RHYME_PRED_PERC_PRE_20C': 71,\n",
       " 'MAX_RHYME_PRED_PERC_PRE_20C': 90,\n",
       " 'C19l_RHYME_PRED_PERC': 71,\n",
       " 'C20e_RHYME_PRED_PERC': 15,\n",
       " 'C20l_RHYME_PRED_PERC': 7,\n",
       " 'NUM_PROMPTED_POEMS': 13838,\n",
       " 'AVG_RHYME_PRED_PERC_NOT_DO_NOT_RHYME': 95,\n",
       " 'AVG_RHYME_PRED_PERC_DO_NOT_RHYME': 50,\n",
       " 'MIN_RHYME_PRED_PERC_MAYBE_RHYME': 91,\n",
       " 'MAX_RHYME_PRED_PERC_MAYBE_RHYME': 100,\n",
       " 'NO_RHYME_GEMINI_PRED_PERC': 94,\n",
       " 'NO_RHYME_CLAUDE_PRED_PERC': 46,\n",
       " 'NO_RHYME_CHATGPT_PRED_PERC': 18,\n",
       " 'NO_RHYME_LLAMA_PRED_PERC': 25,\n",
       " 'NO_RHYME_DEEPSEEK_PRED_PERC': 31,\n",
       " 'NO_RHYME_OLMO_PRED_PERC': 83,\n",
       " 'NUM_COMPLETED_POEMS': 15866,\n",
       " 'NUM_COMPLETED_POEMS_UNIQUE': 10542,\n",
       " 'MIN_NUM_COMPLETIONS': 1069,\n",
       " 'MIN_NUM_COMPLETIONS_PERIOD': '1650--1700',\n",
       " 'MAX_NUM_COMPLETIONS': 1539,\n",
       " 'MAX_NUM_COMPLETIONS_PERIOD': '1800--1850',\n",
       " 'MIN_NUM_COMPLETIONS_MODEL': 1458,\n",
       " 'MIN_NUM_COMPLETIONS_MODEL_NAME': 'ChatGPT',\n",
       " 'MAX_NUM_COMPLETIONS_MODEL': 5338,\n",
       " 'MAX_NUM_COMPLETIONS_MODEL_NAME': 'Llama',\n",
       " 'MEDIAN_NUM_COMPLETIONS_MODEL': 2100,\n",
       " 'MIN_NUM_COMPLETIONS_MODEL_PERIOD': 164,\n",
       " 'MIN_NUM_COMPLETIONS_MODEL_PERIOD_NAME': 'ChatGPT in 1600--1650',\n",
       " 'MAX_NUM_COMPLETIONS_MODEL_PERIOD': 769,\n",
       " 'MAX_NUM_COMPLETIONS_MODEL_PERIOD_NAME': 'Olmo in 1800--1850',\n",
       " 'MEDIAN_NUM_COMPLETIONS_MODEL_PERIOD': 256,\n",
       " 'CLAUDE_COMPLETION_C20L_EFFECT_SIZE': 1.41,\n",
       " 'LLAMA_COMPLETION_C20L_EFFECT_SIZE': 0.96,\n",
       " 'OLMO_COMPLETION_C20L_EFFECT_SIZE': 0.8,\n",
       " 'CHATGPT_COMPLETION_C20L_EFFECT_SIZE': 0.43,\n",
       " 'DEEPSEEK_COMPLETION_C20L_EFFECT_SIZE': 0.61,\n",
       " 'NUM_WIMBDB': '4,635',\n",
       " 'SYLL2_STRESS_C17-19': 69,\n",
       " 'SYLL2_STRESS_C20': 62,\n",
       " 'SYLL2_STRESS_LLM': 89,\n",
       " 'SYLL2_STRESS_SHAKESPEARE': 63,\n",
       " 'NUM_LLM_SONNETS': 449,\n",
       " 'SYLL2_STRESS_C17_19': 69,\n",
       " 'PENTAMETER_PERC_C17_19': 30,\n",
       " 'PENTAMETER_PERC_C20': 21,\n",
       " 'PENTAMETER_PERC_LLM': 53,\n",
       " 'PENTAMETER_PERC_SHAKESPEARE': 24,\n",
       " 'PENTAMETER_IMRPOVEMENT_LLM_C20': 2.5,\n",
       " 'PENTAMETER_IMRPOVEMENT_C1719_C20': 1.4,\n",
       " 'TROCHAIC_INVERSION_PERC_CHADWYCK': 13.2,\n",
       " 'TROCHAIC_INVERSION_PERC_GENAI': 1.9,\n",
       " 'TROCHAIC_INVERSION_PERC_SHAKESPEARE': 12.8}"
      ]
     },
     "execution_count": 59,
     "metadata": {},
     "output_type": "execute_result"
    }
   ],
   "source": [
    "df_sonnets1 = get_sonnet_rhythm_data()\n",
    "def get_parse_str(txt):\n",
    "    txt=txt.replace('.', ' ')\n",
    "    return ''.join(\n",
    "        's' if x==x.upper() else 'w'\n",
    "        for x in txt.split()\n",
    "    )\n",
    "df_sonnets1['parse_str'] = df_sonnets1.parse_txt.apply(get_parse_str)\n",
    "df_sonnets1['has_trochaic_inversion'] = df_sonnets1['parse_str'].str.startswith('swws')\n",
    "trochaic_inversions = {\n",
    "    k:float(round(v*100,1))\n",
    "    for k,v in df_sonnets1.groupby('source').has_trochaic_inversion.mean().items()\n",
    "}\n",
    "for k,v in trochaic_inversions.items():\n",
    "    data[f'TROCHAIC_INVERSION_PERC_{k.upper().replace(\"-\",\"_\")}'] = v\n",
    "data\n"
   ]
  },
  {
   "cell_type": "code",
   "execution_count": 53,
   "id": "720aa426",
   "metadata": {},
   "outputs": [],
   "source": [
    "with open('result_values.json', 'w') as f:\n",
    "    json.dump(data, f, indent=4)"
   ]
  },
  {
   "cell_type": "code",
   "execution_count": null,
   "id": "c56dbc87",
   "metadata": {},
   "outputs": [],
   "source": []
  }
 ],
 "metadata": {
  "kernelspec": {
   "display_name": "venv",
   "language": "python",
   "name": "python3"
  },
  "language_info": {
   "codemirror_mode": {
    "name": "ipython",
    "version": 3
   },
   "file_extension": ".py",
   "mimetype": "text/x-python",
   "name": "python",
   "nbconvert_exporter": "python",
   "pygments_lexer": "ipython3",
   "version": "3.11.7"
  }
 },
 "nbformat": 4,
 "nbformat_minor": 5
}
