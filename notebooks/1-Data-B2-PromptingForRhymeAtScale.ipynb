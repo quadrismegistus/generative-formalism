{
 "cells": [
  {
   "cell_type": "markdown",
   "metadata": {},
   "source": [
    "# Prompting for un/rhyming poems at scale"
   ]
  },
  {
   "cell_type": "code",
   "execution_count": 1,
   "metadata": {},
   "outputs": [],
   "source": [
    "# Imports\n",
    "import sys\n",
    "sys.path.append('../')\n",
    "from generative_formalism import *"
   ]
  },
  {
   "cell_type": "code",
   "execution_count": 2,
   "metadata": {},
   "outputs": [],
   "source": [
    "# Set params\n",
    "MODELS_LIST_NOW = [\n",
    "    'claude-3-haiku-20240307',\n",
    "    # 'claude-3-opus-20240229',\n",
    "    # 'claude-3-sonnet-20240229',\n",
    "    'deepseek/deepseek-chat',\n",
    "    # 'gemini-pro',\n",
    "    # 'gpt-3.5-turbo',\n",
    "    # 'gpt-4-turbo',\n",
    "    # 'ollama/llama3.1:70b',\n",
    "    # 'ollama/llama3.1:8b',\n",
    "    # 'ollama/olmo2',\n",
    "    # 'ollama/olmo2:13b'\n",
    "]\n",
    "\n",
    "PROMPT_LIST_NOW = PROMPT_LIST\n",
    "\n",
    "# PROMPT_LIST_NOW = [\n",
    "#  'Write a poem.',\n",
    "#  'Write a long poem.',\n",
    "#  'Write a short poem.',\n",
    "#  'Write an rhyming poem.',\n",
    "#  'Write an unrhymed poem.',\n",
    "#  'Write a poem in free verse.',\n",
    "#  'Write a poem in blank verse.',\n",
    "#  'Write a poem that does rhyme.',\n",
    "#  'Write a poem (with 20+ lines).',\n",
    "#  'Write a poem in ballad stanzas.',\n",
    "#  'Write a poem in heroic couplets.',\n",
    "#  'Write a poem that does NOT rhyme.',\n",
    "#  'Write a long poem that does rhyme.',\n",
    "#  'Write a short poem that does rhyme.',\n",
    "#  'Write a poem in groups of two lines.',\n",
    "#  'Write a long poem that does NOT rhyme.',\n",
    "#  'Write a short poem that does NOT rhyme.',\n",
    "#  'Write a poem in stanzas of 4 lines each.',\n",
    "#  'Write a poem (with 20+ lines) that rhymes.',\n",
    "#  'Write a poem in the style of Walt Whitman.',\n",
    "#  'Write a poem in the style of Emily Dickinson.',\n",
    "#  'Write a poem (with 20+ lines) that does NOT rhyme.',\n",
    "#  \"Write an ryhmed poem in the style of Shakespeare's sonnets.\"\n",
    "# ]\n",
    "\n",
    "\n",
    "N_TO_GENERATE_NOW = 100\n",
    "\n",
    "VERBOSE_NOW = True\n",
    "\n",
    "TEMPERATURE_NOW = DEFAULT_TEMPERATURE  # 0.7\n",
    "\n",
    "REPLICATE_OVERWRITE_NOW = True\n",
    "\n",
    "REPLICATE_LLM_DATA_NOW = True"
   ]
  },
  {
   "cell_type": "code",
   "execution_count": 3,
   "metadata": {},
   "outputs": [
    {
     "name": "stdout",
     "output_type": "stream",
     "text": [
      "✓ Gemini API key\n",
      "✓ OpenAI API key\n",
      "✓ Anthropic API key\n",
      "✓ DeepSeek API key\n"
     ]
    }
   ],
   "source": [
    "check_api_keys()"
   ]
  },
  {
   "cell_type": "code",
   "execution_count": 4,
   "metadata": {},
   "outputs": [
    {
     "data": {
      "text/markdown": [
       "**`generate_more_poems_from_rhyme_prompts`**\n",
       "\n",
       "```md\n",
       "\n",
       "    Generate more poems from rhyme prompts using various models and configurations.\n",
       "    \n",
       "    This function generates additional poems by sampling from available models and prompts,\n",
       "    with intelligent prioritization of underrepresented combinations to ensure balanced\n",
       "    data collection across different model-prompt pairs.\n",
       "    \n",
       "    Args:\n",
       "        n (int, optional): Number of poems to generate. Defaults to 3.\n",
       "        df_sofar (pd.DataFrame, optional): Existing dataframe of generated poems to build upon.\n",
       "            If None, loads all existing rhyme promptings. Defaults to None.\n",
       "        models (list, optional): List of model identifiers to use for generation.\n",
       "            Defaults to MODEL_LIST from constants.\n",
       "        prompts (list, optional): List of prompt templates to use for generation.\n",
       "            Defaults to PROMPT_LIST from constants.\n",
       "        temperatures (list, optional): List of temperature values for generation.\n",
       "            If None, uses default temperature. Defaults to None.\n",
       "        verbose (bool, optional): Whether to print progress and status information.\n",
       "            Defaults to True.\n",
       "        force (bool, optional): Whether to force regeneration even if cached results exist.\n",
       "            Defaults to False.\n",
       "        max_n_combo (int, optional): Maximum number of entries allowed per model-prompt\n",
       "            combination. If provided, model-prompt pairs that already have this many\n",
       "            or more entries will be excluded from selection. Defaults to None (no limit).\n",
       "    \n",
       "    Returns:\n",
       "        list: List of dictionaries containing generated poem data, including model,\n",
       "            prompt, temperature, generated text, and metadata.\n",
       "    \n",
       "    Note:\n",
       "        The function uses inverse probability weighting to prioritize model-prompt\n",
       "        combinations that have been used less frequently, ensuring balanced sampling\n",
       "        across the available options. Models that consistently fail are temporarily\n",
       "        excluded from further attempts.\n",
       "    \n",
       "```\n",
       "----\n"
      ],
      "text/plain": [
       "<IPython.core.display.Markdown object>"
      ]
     },
     "metadata": {},
     "output_type": "display_data"
    }
   ],
   "source": [
    "# Generates poems according to least used model-prompt pairs\n",
    "documentation(generate_more_poems_from_rhyme_prompts)"
   ]
  },
  {
   "cell_type": "code",
   "execution_count": 5,
   "metadata": {},
   "outputs": [
    {
     "name": "stdout",
     "output_type": "stream",
     "text": [
      "* Collecting genai rhyme promptings as used in paper\n",
      "  * Collecting from /Users/ryan/github/generative-formalism/data/corpus_genai_promptings.csv.gz\n",
      "  * 17,988 generated responses\n",
      "  * 16,935 unique responses\n",
      "  * 16,871 unique poems\n",
      "  * 23 unique prompts\n",
      "  * 3 unique prompt types\n",
      "\n",
      "* Collecting genai rhyme promptings as replicated here\n",
      "  * Collecting from /Users/ryan/github/generative-formalism/data/stash/genai_rhyme_prompts.jsonl\n",
      "  * 401 generated poems\n",
      "  * 401 generated responses\n",
      "  * 288 unique responses\n",
      "  * 288 unique poems\n",
      "  * 23 unique prompts\n",
      "  * 3 unique prompt types\n",
      "  * Filtered out 202 model-prompt combinations with >= 25 entries\n",
      "  * Using 2 models and 4 prompts\n"
     ]
    },
    {
     "name": "stderr",
     "output_type": "stream",
     "text": [
      ">>> deepseek/deepseek-chat (n_model=710, n_prompt=157, n_combo=9): \"Write a short poem that does rhyme.\":   0%|          | 0/100 [00:00<?, ?it/s]"
     ]
    },
    {
     "data": {
      "text/markdown": [
       "----"
      ],
      "text/plain": [
       "<IPython.core.display.Markdown object>"
      ]
     },
     "metadata": {},
     "output_type": "display_data"
    },
    {
     "name": "stdout",
     "output_type": "stream",
     "text": [
      "* Generating text\n",
      "  * model: deepseek/deepseek-chat\n",
      "  * prompt: Write a short poem that does rhyme.\n",
      "  * temperature: 0.7\n",
      "  * force: True\n",
      "  * stash: JSONLHashStash(~/github/generative-formalism/data/stash/genai_rhyme_prompts.jsonl)\n",
      "  * from_cache: False\n",
      "\n",
      "The sun dips low, the day is done,\n",
      "A painted sky for everyone.\n",
      "The stars peek out, the moon does rise,\n",
      "A lullaby in evening's skies.> Response: The sun dips low, the day is done, A painted sky for everyone. The stars peek out, the moon does ris...\n"
     ]
    },
    {
     "data": {
      "text/markdown": [
       "----"
      ],
      "text/plain": [
       "<IPython.core.display.Markdown object>"
      ]
     },
     "metadata": {},
     "output_type": "display_data"
    },
    {
     "name": "stderr",
     "output_type": "stream",
     "text": [
      ">>> claude-3-haiku-20240307 (n_model=1,139, n_prompt=158, n_combo=0): \"Write a short poem that does rhyme.\":   1%|          | 1/100 [00:05<09:03,  5.49s/it]"
     ]
    },
    {
     "data": {
      "text/markdown": [
       "----"
      ],
      "text/plain": [
       "<IPython.core.display.Markdown object>"
      ]
     },
     "metadata": {},
     "output_type": "display_data"
    },
    {
     "name": "stdout",
     "output_type": "stream",
     "text": [
      "* Generating text\n",
      "  * model: claude-3-haiku-20240307\n",
      "  * prompt: Write a short poem that does rhyme.\n",
      "  * temperature: 0.7\n",
      "  * force: True\n",
      "  * stash: JSONLHashStash(~/github/generative-formalism/data/stash/genai_rhyme_prompts.jsonl)\n",
      "  * from_cache: False\n",
      "\n",
      "Here is a short rhyming poem:\n",
      "\n",
      "The sun shines bright, the sky so blue,\n",
      "A gentle breeze, a world anew.\n",
      "Flowers bloom, their colors fair,\n",
      "Enchanting all who wander there.\n",
      "\n",
      "Laughter echoes, spirits soar,\n",
      "As nature's gifts we all adore.\n",
      "This moment's peace, a precious time,\n",
      "A rhyming verse, a simple rhyme.> Response: Here is a short rhyming poem:  The sun shines bright, the sky so blue, A gentle breeze, a world anew...\n"
     ]
    },
    {
     "data": {
      "text/markdown": [
       "----"
      ],
      "text/plain": [
       "<IPython.core.display.Markdown object>"
      ]
     },
     "metadata": {},
     "output_type": "display_data"
    },
    {
     "name": "stderr",
     "output_type": "stream",
     "text": [
      ">>> claude-3-haiku-20240307 (n_model=1,139, n_prompt=158, n_combo=0): \"Write a short poem that does rhyme.\":   2%|▏         | 2/100 [00:06<04:44,  2.90s/it]"
     ]
    },
    {
     "name": "stdout",
     "output_type": "stream",
     "text": [
      "!!! Skipping deepseek/deepseek-chat + 'Write a short poem....' (would exceed max_n_combo=25)\n"
     ]
    },
    {
     "name": "stderr",
     "output_type": "stream",
     "text": [
      ">>> deepseek/deepseek-chat (n_model=711, n_prompt=421, n_combo=23): \"Write a poem in groups of two lines.\":   2%|▏         | 2/100 [00:06<04:44,  2.90s/it] "
     ]
    },
    {
     "data": {
      "text/markdown": [
       "----"
      ],
      "text/plain": [
       "<IPython.core.display.Markdown object>"
      ]
     },
     "metadata": {},
     "output_type": "display_data"
    },
    {
     "name": "stdout",
     "output_type": "stream",
     "text": [
      "* Generating text\n",
      "  * model: deepseek/deepseek-chat\n",
      "  * prompt: Write a poem in groups of two lines.\n",
      "  * temperature: 0.7\n",
      "  * force: True\n",
      "  * stash: JSONLHashStash(~/github/generative-formalism/data/stash/genai_rhyme_prompts.jsonl)\n",
      "  * from_cache: False\n",
      "\n",
      "The sun dips low in skies of gold,\n",
      "A story waiting to be told.\n",
      "\n",
      "The breeze whispers to ancient trees,\n",
      "And carries secrets on the breeze.\n",
      "\n",
      "A single star begins to gleam,\n",
      "Upon the edge of yesterday's dream.\n",
      "\n",
      "The world grows quiet, soft, and deep,\n",
      "As promises the night will keep.> Response: The sun dips low in skies of gold, A story waiting to be told.  The breeze whispers to ancient trees...\n"
     ]
    },
    {
     "data": {
      "text/markdown": [
       "----"
      ],
      "text/plain": [
       "<IPython.core.display.Markdown object>"
      ]
     },
     "metadata": {},
     "output_type": "display_data"
    },
    {
     "name": "stderr",
     "output_type": "stream",
     "text": [
      ">>> deepseek/deepseek-chat (n_model=712, n_prompt=159, n_combo=10): \"Write a short poem that does rhyme.\":   3%|▎         | 3/100 [00:12<07:16,  4.50s/it] "
     ]
    },
    {
     "data": {
      "text/markdown": [
       "----"
      ],
      "text/plain": [
       "<IPython.core.display.Markdown object>"
      ]
     },
     "metadata": {},
     "output_type": "display_data"
    },
    {
     "name": "stdout",
     "output_type": "stream",
     "text": [
      "* Generating text\n",
      "  * model: deepseek/deepseek-chat\n",
      "  * prompt: Write a short poem that does rhyme.\n",
      "  * temperature: 0.7\n",
      "  * force: True\n",
      "  * stash: JSONLHashStash(~/github/generative-formalism/data/stash/genai_rhyme_prompts.jsonl)\n",
      "  * from_cache: False\n",
      "\n",
      "The sun dips low, the day is done,\n",
      "A painted sky for everyone.\n",
      "The stars peek out, so sharp and bright,\n",
      "To guard the secrets of the night.> Response: The sun dips low, the day is done, A painted sky for everyone. The stars peek out, so sharp and brig...\n"
     ]
    },
    {
     "data": {
      "text/markdown": [
       "----"
      ],
      "text/plain": [
       "<IPython.core.display.Markdown object>"
      ]
     },
     "metadata": {},
     "output_type": "display_data"
    },
    {
     "name": "stderr",
     "output_type": "stream",
     "text": [
      ">>> claude-3-haiku-20240307 (n_model=1,140, n_prompt=160, n_combo=1): \"Write a short poem that does rhyme.\":   4%|▍         | 4/100 [00:18<07:38,  4.77s/it]"
     ]
    },
    {
     "data": {
      "text/markdown": [
       "----"
      ],
      "text/plain": [
       "<IPython.core.display.Markdown object>"
      ]
     },
     "metadata": {},
     "output_type": "display_data"
    },
    {
     "name": "stdout",
     "output_type": "stream",
     "text": [
      "* Generating text\n",
      "  * model: claude-3-haiku-20240307\n",
      "  * prompt: Write a short poem that does rhyme.\n",
      "  * temperature: 0.7\n",
      "  * force: True\n",
      "  * stash: JSONLHashStash(~/github/generative-formalism/data/stash/genai_rhyme_prompts.jsonl)\n",
      "  * from_cache: False\n",
      "\n",
      "Here is a short rhyming poem:\n",
      "\n",
      "The sun shines bright, the sky so blue,\n",
      "A gentle breeze, a world anew.\n",
      "Birds take flight, their songs so sweet,\n",
      "Nature's beauty, a true retreat.\n",
      "Flowers bloom in vibrant hues,\n",
      "Painting the world in wondrous views.\n",
      "A moment of peace, a time to pause,\n",
      "Appreciating nature's grand applause.> Response: Here is a short rhyming poem:  The sun shines bright, the sky so blue, A gentle breeze, a world anew...\n"
     ]
    },
    {
     "data": {
      "text/markdown": [
       "----"
      ],
      "text/plain": [
       "<IPython.core.display.Markdown object>"
      ]
     },
     "metadata": {},
     "output_type": "display_data"
    },
    {
     "name": "stderr",
     "output_type": "stream",
     "text": [
      ">>> deepseek/deepseek-chat (n_model=713, n_prompt=161, n_combo=11): \"Write a short poem that does rhyme.\":   5%|▌         | 5/100 [00:19<05:22,  3.39s/it]  "
     ]
    },
    {
     "name": "stdout",
     "output_type": "stream",
     "text": [
      "!!! Skipping claude-3-haiku-20240307 + 'Write a poem in groups of two ...' (would exceed max_n_combo=25)\n"
     ]
    },
    {
     "data": {
      "text/markdown": [
       "----"
      ],
      "text/plain": [
       "<IPython.core.display.Markdown object>"
      ]
     },
     "metadata": {},
     "output_type": "display_data"
    },
    {
     "name": "stdout",
     "output_type": "stream",
     "text": [
      "* Generating text\n",
      "  * model: deepseek/deepseek-chat\n",
      "  * prompt: Write a short poem that does rhyme.\n",
      "  * temperature: 0.7\n",
      "  * force: True\n",
      "  * stash: JSONLHashStash(~/github/generative-formalism/data/stash/genai_rhyme_prompts.jsonl)\n",
      "  * from_cache: False\n",
      "\n",
      "The sun dips low, the day is done,\n",
      "A painted sky for everyone.\n",
      "The stars peek out, a twinkling sight,\n",
      "To guard and guide us through the night.> Response: The sun dips low, the day is done, A painted sky for everyone. The stars peek out, a twinkling sight...\n"
     ]
    },
    {
     "data": {
      "text/markdown": [
       "----"
      ],
      "text/plain": [
       "<IPython.core.display.Markdown object>"
      ]
     },
     "metadata": {},
     "output_type": "display_data"
    },
    {
     "name": "stderr",
     "output_type": "stream",
     "text": [
      ">>> claude-3-haiku-20240307 (n_model=1,141, n_prompt=244, n_combo=3): \"Write a short poem.\":   6%|▌         | 6/100 [00:24<06:20,  4.04s/it]              "
     ]
    },
    {
     "name": "stdout",
     "output_type": "stream",
     "text": [
      "!!! Skipping claude-3-haiku-20240307 + 'Write a poem in groups of two ...' (would exceed max_n_combo=25)\n"
     ]
    },
    {
     "data": {
      "text/markdown": [
       "----"
      ],
      "text/plain": [
       "<IPython.core.display.Markdown object>"
      ]
     },
     "metadata": {},
     "output_type": "display_data"
    },
    {
     "name": "stdout",
     "output_type": "stream",
     "text": [
      "* Generating text\n",
      "  * model: claude-3-haiku-20240307\n",
      "  * prompt: Write a short poem.\n",
      "  * temperature: 0.7\n",
      "  * force: True\n",
      "  * stash: JSONLHashStash(~/github/generative-formalism/data/stash/genai_rhyme_prompts.jsonl)\n",
      "  * from_cache: False\n",
      "\n",
      "Here is a short poem:\n",
      "\n",
      "Whispers of the wind,\n",
      "Caressing the trees with grace.\n",
      "Nature's gentle song.> Response: Here is a short poem:  Whispers of the wind, Caressing the trees with grace. Nature's gentle song....\n"
     ]
    },
    {
     "data": {
      "text/markdown": [
       "----"
      ],
      "text/plain": [
       "<IPython.core.display.Markdown object>"
      ]
     },
     "metadata": {},
     "output_type": "display_data"
    },
    {
     "name": "stderr",
     "output_type": "stream",
     "text": [
      ">>> claude-3-haiku-20240307 (n_model=1,142, n_prompt=205, n_combo=6): \"Write a short poem that does NOT rhyme.\":   7%|▋         | 7/100 [00:24<04:28,  2.89s/it]"
     ]
    },
    {
     "data": {
      "text/markdown": [
       "----"
      ],
      "text/plain": [
       "<IPython.core.display.Markdown object>"
      ]
     },
     "metadata": {},
     "output_type": "display_data"
    },
    {
     "name": "stdout",
     "output_type": "stream",
     "text": [
      "* Generating text\n",
      "  * model: claude-3-haiku-20240307\n",
      "  * prompt: Write a short poem that does NOT rhyme.\n",
      "  * temperature: 0.7\n",
      "  * force: True\n",
      "  * stash: JSONLHashStash(~/github/generative-formalism/data/stash/genai_rhyme_prompts.jsonl)\n",
      "  * from_cache: False\n",
      "\n",
      "Here is a short poem that does not rhyme:\n",
      "\n",
      "Whispers of the wind,\n",
      "Caressing the trees with grace,\n",
      "Echoing nature's dance.> Response: Here is a short poem that does not rhyme:  Whispers of the wind, Caressing the trees with grace, Ech...\n"
     ]
    },
    {
     "data": {
      "text/markdown": [
       "----"
      ],
      "text/plain": [
       "<IPython.core.display.Markdown object>"
      ]
     },
     "metadata": {},
     "output_type": "display_data"
    },
    {
     "name": "stderr",
     "output_type": "stream",
     "text": [
      ">>> deepseek/deepseek-chat (n_model=714, n_prompt=422, n_combo=24): \"Write a poem in groups of two lines.\":   8%|▊         | 8/100 [00:25<03:18,  2.16s/it]     "
     ]
    },
    {
     "data": {
      "text/markdown": [
       "----"
      ],
      "text/plain": [
       "<IPython.core.display.Markdown object>"
      ]
     },
     "metadata": {},
     "output_type": "display_data"
    },
    {
     "name": "stdout",
     "output_type": "stream",
     "text": [
      "* Generating text\n",
      "  * model: deepseek/deepseek-chat\n",
      "  * prompt: Write a poem in groups of two lines.\n",
      "  * temperature: 0.7\n",
      "  * force: True\n",
      "  * stash: JSONLHashStash(~/github/generative-formalism/data/stash/genai_rhyme_prompts.jsonl)\n",
      "  * from_cache: False\n",
      "\n",
      "The sun dips low in skies of gold,\n",
      "A story waiting to be told.\n",
      "\n",
      "The breeze whispers through the trees,\n",
      "Carrying secrets on the ease.\n",
      "\n",
      "A single star begins to gleam,\n",
      "Upon the edge of night's dark dream.\n",
      "\n",
      "The world is hushed and holding still,\n",
      "Beneath the moon on yonder hill.> Response: The sun dips low in skies of gold, A story waiting to be told.  The breeze whispers through the tree...\n"
     ]
    },
    {
     "data": {
      "text/markdown": [
       "----"
      ],
      "text/plain": [
       "<IPython.core.display.Markdown object>"
      ]
     },
     "metadata": {},
     "output_type": "display_data"
    },
    {
     "name": "stderr",
     "output_type": "stream",
     "text": [
      ">>> claude-3-haiku-20240307 (n_model=1,143, n_prompt=162, n_combo=2): \"Write a short poem that does rhyme.\":   9%|▉         | 9/100 [00:32<05:22,  3.54s/it]"
     ]
    },
    {
     "data": {
      "text/markdown": [
       "----"
      ],
      "text/plain": [
       "<IPython.core.display.Markdown object>"
      ]
     },
     "metadata": {},
     "output_type": "display_data"
    },
    {
     "name": "stdout",
     "output_type": "stream",
     "text": [
      "* Generating text\n",
      "  * model: claude-3-haiku-20240307\n",
      "  * prompt: Write a short poem that does rhyme.\n",
      "  * temperature: 0.7\n",
      "  * force: True\n",
      "  * stash: JSONLHashStash(~/github/generative-formalism/data/stash/genai_rhyme_prompts.jsonl)\n",
      "  * from_cache: False\n",
      "\n",
      "Here is a short rhyming poem:\n",
      "\n",
      "The sun shines bright, the day is fair,\n",
      "A gentle breeze blows through the air.\n",
      "The flowers bloom, their colors bright,\n",
      "A peaceful scene, a true delight.> Response: Here is a short rhyming poem:  The sun shines bright, the day is fair, A gentle breeze blows through...\n"
     ]
    },
    {
     "data": {
      "text/markdown": [
       "----"
      ],
      "text/plain": [
       "<IPython.core.display.Markdown object>"
      ]
     },
     "metadata": {},
     "output_type": "display_data"
    },
    {
     "name": "stderr",
     "output_type": "stream",
     "text": [
      ">>> claude-3-haiku-20240307 (n_model=1,144, n_prompt=245, n_combo=4): \"Write a short poem.\":  10%|█         | 10/100 [00:32<03:58,  2.65s/it]                "
     ]
    },
    {
     "data": {
      "text/markdown": [
       "----"
      ],
      "text/plain": [
       "<IPython.core.display.Markdown object>"
      ]
     },
     "metadata": {},
     "output_type": "display_data"
    },
    {
     "name": "stdout",
     "output_type": "stream",
     "text": [
      "* Generating text\n",
      "  * model: claude-3-haiku-20240307\n",
      "  * prompt: Write a short poem.\n",
      "  * temperature: 0.7\n",
      "  * force: True\n",
      "  * stash: JSONLHashStash(~/github/generative-formalism/data/stash/genai_rhyme_prompts.jsonl)\n",
      "  * from_cache: False\n",
      "\n",
      "Here is a short poem:\n",
      "\n",
      "Whispers of the wind,\n",
      "Dancing through the trees,\n",
      "Carrying nature's song,\n",
      "A symphony to please.\n",
      "\n",
      "Sunlight's golden glow,\n",
      "Painting the world anew,\n",
      "Casting warmth and hope,\n",
      "A day filled with wonder too.\n",
      "\n",
      "Flowers blooming bright,\n",
      "Petals soft and fair,\n",
      "Fragrance sweet and light,\n",
      "Nature's beauty to share.> Response: Here is a short poem:  Whispers of the wind, Dancing through the trees, Carrying nature's song, A sy...\n"
     ]
    },
    {
     "data": {
      "text/markdown": [
       "----"
      ],
      "text/plain": [
       "<IPython.core.display.Markdown object>"
      ]
     },
     "metadata": {},
     "output_type": "display_data"
    },
    {
     "name": "stderr",
     "output_type": "stream",
     "text": [
      ">>> claude-3-haiku-20240307 (n_model=1,145, n_prompt=246, n_combo=5): \"Write a short poem.\":  11%|█         | 11/100 [00:33<03:09,  2.13s/it]"
     ]
    },
    {
     "data": {
      "text/markdown": [
       "----"
      ],
      "text/plain": [
       "<IPython.core.display.Markdown object>"
      ]
     },
     "metadata": {},
     "output_type": "display_data"
    },
    {
     "name": "stdout",
     "output_type": "stream",
     "text": [
      "* Generating text\n",
      "  * model: claude-3-haiku-20240307\n",
      "  * prompt: Write a short poem.\n",
      "  * temperature: 0.7\n",
      "  * force: True\n",
      "  * stash: JSONLHashStash(~/github/generative-formalism/data/stash/genai_rhyme_prompts.jsonl)\n",
      "  * from_cache: False\n",
      "\n",
      "Here is a short poem:\n",
      "\n",
      "Whispers of the wind,\n",
      "Caressing the weary soul,\n",
      "Soothing, calming, free.> Response: Here is a short poem:  Whispers of the wind, Caressing the weary soul, Soothing, calming, free....\n"
     ]
    },
    {
     "data": {
      "text/markdown": [
       "----"
      ],
      "text/plain": [
       "<IPython.core.display.Markdown object>"
      ]
     },
     "metadata": {},
     "output_type": "display_data"
    },
    {
     "name": "stderr",
     "output_type": "stream",
     "text": [
      ">>> claude-3-haiku-20240307 (n_model=1,146, n_prompt=206, n_combo=7): \"Write a short poem that does NOT rhyme.\":  12%|█▏        | 12/100 [00:34<02:25,  1.65s/it]"
     ]
    },
    {
     "data": {
      "text/markdown": [
       "----"
      ],
      "text/plain": [
       "<IPython.core.display.Markdown object>"
      ]
     },
     "metadata": {},
     "output_type": "display_data"
    },
    {
     "name": "stdout",
     "output_type": "stream",
     "text": [
      "* Generating text\n",
      "  * model: claude-3-haiku-20240307\n",
      "  * prompt: Write a short poem that does NOT rhyme.\n",
      "  * temperature: 0.7\n",
      "  * force: True\n",
      "  * stash: JSONLHashStash(~/github/generative-formalism/data/stash/genai_rhyme_prompts.jsonl)\n",
      "  * from_cache: False\n",
      "\n",
      "Here is a short poem that does not rhyme:\n",
      "\n",
      "Beneath the starry sky,\n",
      "Whispers of the wind,\n",
      "Echoing through the night.\n",
      "Moments of tranquility,\n",
      "Embracing the serene,\n",
      "Letting the soul unwind.> Response: Here is a short poem that does not rhyme:  Beneath the starry sky, Whispers of the wind, Echoing thr...\n"
     ]
    },
    {
     "data": {
      "text/markdown": [
       "----"
      ],
      "text/plain": [
       "<IPython.core.display.Markdown object>"
      ]
     },
     "metadata": {},
     "output_type": "display_data"
    },
    {
     "name": "stderr",
     "output_type": "stream",
     "text": [
      ">>> claude-3-haiku-20240307 (n_model=1,147, n_prompt=247, n_combo=6): \"Write a short poem.\":  13%|█▎        | 13/100 [00:34<01:59,  1.37s/it]                    "
     ]
    },
    {
     "data": {
      "text/markdown": [
       "----"
      ],
      "text/plain": [
       "<IPython.core.display.Markdown object>"
      ]
     },
     "metadata": {},
     "output_type": "display_data"
    },
    {
     "name": "stdout",
     "output_type": "stream",
     "text": [
      "* Generating text\n",
      "  * model: claude-3-haiku-20240307\n",
      "  * prompt: Write a short poem.\n",
      "  * temperature: 0.7\n",
      "  * force: True\n",
      "  * stash: JSONLHashStash(~/github/generative-formalism/data/stash/genai_rhyme_prompts.jsonl)\n",
      "  * from_cache: False\n",
      "\n",
      "Here is a short poem:\n",
      "\n",
      "The Whisper of the Wind\n",
      "\n",
      "Soft breeze caresses my face,\n",
      "Whispering secrets of nature's grace.\n",
      "Rustling leaves, a soothing sound,\n",
      "Tranquility all around.\n",
      "\n",
      "The wind's gentle, calming breath\n",
      "Carries me to a peaceful death.\n",
      "In this moment, I find my rest,\n",
      "Embraced by nature's loving quest.> Response: Here is a short poem:  The Whisper of the Wind  Soft breeze caresses my face, Whispering secrets of ...\n"
     ]
    },
    {
     "data": {
      "text/markdown": [
       "----"
      ],
      "text/plain": [
       "<IPython.core.display.Markdown object>"
      ]
     },
     "metadata": {},
     "output_type": "display_data"
    },
    {
     "name": "stderr",
     "output_type": "stream",
     "text": [
      ">>> claude-3-haiku-20240307 (n_model=1,148, n_prompt=163, n_combo=3): \"Write a short poem that does rhyme.\":  14%|█▍        | 14/100 [00:35<01:47,  1.25s/it]"
     ]
    },
    {
     "data": {
      "text/markdown": [
       "----"
      ],
      "text/plain": [
       "<IPython.core.display.Markdown object>"
      ]
     },
     "metadata": {},
     "output_type": "display_data"
    },
    {
     "name": "stdout",
     "output_type": "stream",
     "text": [
      "* Generating text\n",
      "  * model: claude-3-haiku-20240307\n",
      "  * prompt: Write a short poem that does rhyme.\n",
      "  * temperature: 0.7\n",
      "  * force: True\n",
      "  * stash: JSONLHashStash(~/github/generative-formalism/data/stash/genai_rhyme_prompts.jsonl)\n",
      "  * from_cache: False\n",
      "\n",
      "Here is a short rhyming poem:\n",
      "\n",
      "The sun shines bright, the sky so blue,\n",
      "A gentle breeze, a world anew.\n",
      "Flowers bloom and birds take flight,\n",
      "Nature's beauty, a wondrous sight.\n",
      "A moment of peace, a time to pause,\n",
      "Embrace the joy that nature draws.> Response: Here is a short rhyming poem:  The sun shines bright, the sky so blue, A gentle breeze, a world anew...\n"
     ]
    },
    {
     "data": {
      "text/markdown": [
       "----"
      ],
      "text/plain": [
       "<IPython.core.display.Markdown object>"
      ]
     },
     "metadata": {},
     "output_type": "display_data"
    },
    {
     "name": "stderr",
     "output_type": "stream",
     "text": [
      ">>> deepseek/deepseek-chat (n_model=715, n_prompt=207, n_combo=21): \"Write a short poem that does NOT rhyme.\":  15%|█▌        | 15/100 [00:36<01:34,  1.11s/it]"
     ]
    },
    {
     "name": "stdout",
     "output_type": "stream",
     "text": [
      "!!! Skipping deepseek/deepseek-chat + 'Write a poem in groups of two ...' (would exceed max_n_combo=25)\n"
     ]
    },
    {
     "data": {
      "text/markdown": [
       "----"
      ],
      "text/plain": [
       "<IPython.core.display.Markdown object>"
      ]
     },
     "metadata": {},
     "output_type": "display_data"
    },
    {
     "name": "stdout",
     "output_type": "stream",
     "text": [
      "* Generating text\n",
      "  * model: deepseek/deepseek-chat\n",
      "  * prompt: Write a short poem that does NOT rhyme.\n",
      "  * temperature: 0.7\n",
      "  * force: True\n",
      "  * stash: JSONLHashStash(~/github/generative-formalism/data/stash/genai_rhyme_prompts.jsonl)\n",
      "  * from_cache: False\n",
      "\n",
      "The sun dips low.\n",
      "A cool breeze stirs the dry grass.\n",
      "Shadows stretch long and thin.\n",
      "One last bird calls across the quieting field.\n",
      "The day lets go.> Response: The sun dips low. A cool breeze stirs the dry grass. Shadows stretch long and thin. One last bird ca...\n"
     ]
    },
    {
     "data": {
      "text/markdown": [
       "----"
      ],
      "text/plain": [
       "<IPython.core.display.Markdown object>"
      ]
     },
     "metadata": {},
     "output_type": "display_data"
    },
    {
     "name": "stderr",
     "output_type": "stream",
     "text": [
      ">>> deepseek/deepseek-chat (n_model=716, n_prompt=164, n_combo=12): \"Write a short poem that does rhyme.\":  16%|█▌        | 16/100 [00:41<03:12,  2.29s/it]    "
     ]
    },
    {
     "name": "stdout",
     "output_type": "stream",
     "text": [
      "!!! Skipping deepseek/deepseek-chat + 'Write a poem in groups of two ...' (would exceed max_n_combo=25)\n",
      "!!! Skipping deepseek/deepseek-chat + 'Write a short poem....' (would exceed max_n_combo=25)\n"
     ]
    },
    {
     "data": {
      "text/markdown": [
       "----"
      ],
      "text/plain": [
       "<IPython.core.display.Markdown object>"
      ]
     },
     "metadata": {},
     "output_type": "display_data"
    },
    {
     "name": "stdout",
     "output_type": "stream",
     "text": [
      "* Generating text\n",
      "  * model: deepseek/deepseek-chat\n",
      "  * prompt: Write a short poem that does rhyme.\n",
      "  * temperature: 0.7\n",
      "  * force: True\n",
      "  * stash: JSONLHashStash(~/github/generative-formalism/data/stash/genai_rhyme_prompts.jsonl)\n",
      "  * from_cache: False\n",
      "\n",
      "The sun dips low, the day is done,\n",
      "A painted sky for everyone.\n",
      "The stars peek out, the moon does rise,\n",
      "A lullaby in evening skies.> Response: The sun dips low, the day is done, A painted sky for everyone. The stars peek out, the moon does ris...\n"
     ]
    },
    {
     "data": {
      "text/markdown": [
       "----"
      ],
      "text/plain": [
       "<IPython.core.display.Markdown object>"
      ]
     },
     "metadata": {},
     "output_type": "display_data"
    },
    {
     "name": "stderr",
     "output_type": "stream",
     "text": [
      ">>> deepseek/deepseek-chat (n_model=717, n_prompt=165, n_combo=13): \"Write a short poem that does rhyme.\":  17%|█▋        | 17/100 [00:46<04:16,  3.09s/it]"
     ]
    },
    {
     "data": {
      "text/markdown": [
       "----"
      ],
      "text/plain": [
       "<IPython.core.display.Markdown object>"
      ]
     },
     "metadata": {},
     "output_type": "display_data"
    },
    {
     "name": "stdout",
     "output_type": "stream",
     "text": [
      "* Generating text\n",
      "  * model: deepseek/deepseek-chat\n",
      "  * prompt: Write a short poem that does rhyme.\n",
      "  * temperature: 0.7\n",
      "  * force: True\n",
      "  * stash: JSONLHashStash(~/github/generative-formalism/data/stash/genai_rhyme_prompts.jsonl)\n",
      "  * from_cache: False\n",
      "\n",
      "The sun dips low, the day is done,\n",
      "A painted sky for everyone.\n",
      "The stars peek out, a twinkling sight,\n",
      "To guard and keep the quiet night.> Response: The sun dips low, the day is done, A painted sky for everyone. The stars peek out, a twinkling sight...\n"
     ]
    },
    {
     "data": {
      "text/markdown": [
       "----"
      ],
      "text/plain": [
       "<IPython.core.display.Markdown object>"
      ]
     },
     "metadata": {},
     "output_type": "display_data"
    },
    {
     "name": "stderr",
     "output_type": "stream",
     "text": [
      ">>> claude-3-haiku-20240307 (n_model=1,149, n_prompt=248, n_combo=7): \"Write a short poem.\":  18%|█▊        | 18/100 [00:51<04:57,  3.63s/it]              "
     ]
    },
    {
     "data": {
      "text/markdown": [
       "----"
      ],
      "text/plain": [
       "<IPython.core.display.Markdown object>"
      ]
     },
     "metadata": {},
     "output_type": "display_data"
    },
    {
     "name": "stdout",
     "output_type": "stream",
     "text": [
      "* Generating text\n",
      "  * model: claude-3-haiku-20240307\n",
      "  * prompt: Write a short poem.\n",
      "  * temperature: 0.7\n",
      "  * force: True\n",
      "  * stash: JSONLHashStash(~/github/generative-formalism/data/stash/genai_rhyme_prompts.jsonl)\n",
      "  * from_cache: False\n",
      "\n",
      "Here is a short poem:\n",
      "\n",
      "The Whisper of the Wind\n",
      "\n",
      "Soft breeze caresses my face,\n",
      "Carrying secrets from distant places.\n",
      "Rustling leaves, a gentle sway,\n",
      "Nature's symphony, a sweet lullaby.\n",
      "\n",
      "The whisper of the wind,\n",
      "A song that never ends.\n",
      "Soothing my soul, calming my mind,\n",
      "In this tranquil moment, peace I find.> Response: Here is a short poem:  The Whisper of the Wind  Soft breeze caresses my face, Carrying secrets from ...\n"
     ]
    },
    {
     "data": {
      "text/markdown": [
       "----"
      ],
      "text/plain": [
       "<IPython.core.display.Markdown object>"
      ]
     },
     "metadata": {},
     "output_type": "display_data"
    },
    {
     "name": "stderr",
     "output_type": "stream",
     "text": [
      ">>> claude-3-haiku-20240307 (n_model=1,150, n_prompt=166, n_combo=4): \"Write a short poem that does rhyme.\":  19%|█▉        | 19/100 [00:52<03:49,  2.84s/it]"
     ]
    },
    {
     "data": {
      "text/markdown": [
       "----"
      ],
      "text/plain": [
       "<IPython.core.display.Markdown object>"
      ]
     },
     "metadata": {},
     "output_type": "display_data"
    },
    {
     "name": "stdout",
     "output_type": "stream",
     "text": [
      "* Generating text\n",
      "  * model: claude-3-haiku-20240307\n",
      "  * prompt: Write a short poem that does rhyme.\n",
      "  * temperature: 0.7\n",
      "  * force: True\n",
      "  * stash: JSONLHashStash(~/github/generative-formalism/data/stash/genai_rhyme_prompts.jsonl)\n",
      "  * from_cache: False\n",
      "\n",
      "Here is a short rhyming poem:\n",
      "\n",
      "Beneath the stars, the night is still,\n",
      "A gentle breeze blows o'er the hill.\n",
      "The moon shines bright, a silver glow,\n",
      "Illuminating all below.\n",
      "\n",
      "Crickets chirp their soothing song,\n",
      "As I wander, peaceful, along.\n",
      "The world is hushed, in tranquil rest,\n",
      "A moment of calm, I'm truly blessed.> Response: Here is a short rhyming poem:  Beneath the stars, the night is still, A gentle breeze blows o'er the...\n"
     ]
    },
    {
     "data": {
      "text/markdown": [
       "----"
      ],
      "text/plain": [
       "<IPython.core.display.Markdown object>"
      ]
     },
     "metadata": {},
     "output_type": "display_data"
    },
    {
     "name": "stderr",
     "output_type": "stream",
     "text": [
      ">>> claude-3-haiku-20240307 (n_model=1,150, n_prompt=166, n_combo=4): \"Write a short poem that does rhyme.\":  20%|██        | 20/100 [00:53<03:02,  2.29s/it]"
     ]
    },
    {
     "name": "stdout",
     "output_type": "stream",
     "text": [
      "!!! Skipping deepseek/deepseek-chat + 'Write a short poem....' (would exceed max_n_combo=25)"
     ]
    },
    {
     "name": "stderr",
     "output_type": "stream",
     "text": [
      ">>> deepseek/deepseek-chat (n_model=718, n_prompt=167, n_combo=14): \"Write a short poem that does rhyme.\":  20%|██        | 20/100 [00:53<03:02,  2.29s/it]  "
     ]
    },
    {
     "name": "stdout",
     "output_type": "stream",
     "text": [
      "\n"
     ]
    },
    {
     "data": {
      "text/markdown": [
       "----"
      ],
      "text/plain": [
       "<IPython.core.display.Markdown object>"
      ]
     },
     "metadata": {},
     "output_type": "display_data"
    },
    {
     "name": "stdout",
     "output_type": "stream",
     "text": [
      "* Generating text\n",
      "  * model: deepseek/deepseek-chat\n",
      "  * prompt: Write a short poem that does rhyme.\n",
      "  * temperature: 0.7\n",
      "  * force: True\n",
      "  * stash: JSONLHashStash(~/github/generative-formalism/data/stash/genai_rhyme_prompts.jsonl)\n",
      "  * from_cache: False\n",
      "\n",
      "The sun dips low, the day is done,\n",
      "A painted sky for everyone.\n",
      "The stars peek out, a twinkling sight,\n",
      "To guard and guide us through the night.> Response: The sun dips low, the day is done, A painted sky for everyone. The stars peek out, a twinkling sight...\n"
     ]
    },
    {
     "data": {
      "text/markdown": [
       "----"
      ],
      "text/plain": [
       "<IPython.core.display.Markdown object>"
      ]
     },
     "metadata": {},
     "output_type": "display_data"
    },
    {
     "name": "stderr",
     "output_type": "stream",
     "text": [
      ">>> deepseek/deepseek-chat (n_model=719, n_prompt=168, n_combo=15): \"Write a short poem that does rhyme.\":  21%|██        | 21/100 [00:58<04:11,  3.19s/it]"
     ]
    },
    {
     "name": "stdout",
     "output_type": "stream",
     "text": [
      "!!! Skipping deepseek/deepseek-chat + 'Write a short poem....' (would exceed max_n_combo=25)\n"
     ]
    },
    {
     "data": {
      "text/markdown": [
       "----"
      ],
      "text/plain": [
       "<IPython.core.display.Markdown object>"
      ]
     },
     "metadata": {},
     "output_type": "display_data"
    },
    {
     "name": "stdout",
     "output_type": "stream",
     "text": [
      "* Generating text\n",
      "  * model: deepseek/deepseek-chat\n",
      "  * prompt: Write a short poem that does rhyme.\n",
      "  * temperature: 0.7\n",
      "  * force: True\n",
      "  * stash: JSONLHashStash(~/github/generative-formalism/data/stash/genai_rhyme_prompts.jsonl)\n",
      "  * from_cache: False\n",
      "\n",
      "The sun dips low, the day is done,\n",
      "A final flash of gold.\n",
      "The busy world, now on the run,\n",
      "Gets quiet, dark, and cold.\n",
      "\n",
      "But then a light, a gentle hue,\n",
      "The moon begins to climb.\n",
      "To paint the night a silver blue,\n",
      "And mark the evening's time.> Response: The sun dips low, the day is done, A final flash of gold. The busy world, now on the run, Gets quiet...\n"
     ]
    },
    {
     "data": {
      "text/markdown": [
       "----"
      ],
      "text/plain": [
       "<IPython.core.display.Markdown object>"
      ]
     },
     "metadata": {},
     "output_type": "display_data"
    },
    {
     "name": "stderr",
     "output_type": "stream",
     "text": [
      ">>> deepseek/deepseek-chat (n_model=720, n_prompt=208, n_combo=22): \"Write a short poem that does NOT rhyme.\":  22%|██▏       | 22/100 [01:05<05:28,  4.21s/it]"
     ]
    },
    {
     "data": {
      "text/markdown": [
       "----"
      ],
      "text/plain": [
       "<IPython.core.display.Markdown object>"
      ]
     },
     "metadata": {},
     "output_type": "display_data"
    },
    {
     "name": "stdout",
     "output_type": "stream",
     "text": [
      "* Generating text\n",
      "  * model: deepseek/deepseek-chat\n",
      "  * prompt: Write a short poem that does NOT rhyme.\n",
      "  * temperature: 0.7\n",
      "  * force: True\n",
      "  * stash: JSONLHashStash(~/github/generative-formalism/data/stash/genai_rhyme_prompts.jsonl)\n",
      "  * from_cache: False\n",
      "\n",
      "The sun climbs the morning hill.\n",
      "A single cloud, a breath of white.\n",
      "The old pine stands on the ridge,\n",
      "its shadow a long, cool drink for the earth.\n",
      "Silence holds the canyon,\n",
      "a cup without a rim.> Response: The sun climbs the morning hill. A single cloud, a breath of white. The old pine stands on the ridge...\n"
     ]
    },
    {
     "data": {
      "text/markdown": [
       "----"
      ],
      "text/plain": [
       "<IPython.core.display.Markdown object>"
      ]
     },
     "metadata": {},
     "output_type": "display_data"
    },
    {
     "name": "stderr",
     "output_type": "stream",
     "text": [
      ">>> claude-3-haiku-20240307 (n_model=1,151, n_prompt=169, n_combo=5): \"Write a short poem that does rhyme.\":  23%|██▎       | 23/100 [01:11<05:55,  4.62s/it]  "
     ]
    },
    {
     "data": {
      "text/markdown": [
       "----"
      ],
      "text/plain": [
       "<IPython.core.display.Markdown object>"
      ]
     },
     "metadata": {},
     "output_type": "display_data"
    },
    {
     "name": "stdout",
     "output_type": "stream",
     "text": [
      "* Generating text\n",
      "  * model: claude-3-haiku-20240307\n",
      "  * prompt: Write a short poem that does rhyme.\n",
      "  * temperature: 0.7\n",
      "  * force: True\n",
      "  * stash: JSONLHashStash(~/github/generative-formalism/data/stash/genai_rhyme_prompts.jsonl)\n",
      "  * from_cache: False\n",
      "\n",
      "Here is a short rhyming poem:\n",
      "\n",
      "Beneath the stars, the night is still,\n",
      "A gentle breeze upon the hill.\n",
      "The moon shines bright, a silver light,\n",
      "Illuminating the world so bright.> Response: Here is a short rhyming poem:  Beneath the stars, the night is still, A gentle breeze upon the hill....\n"
     ]
    },
    {
     "data": {
      "text/markdown": [
       "----"
      ],
      "text/plain": [
       "<IPython.core.display.Markdown object>"
      ]
     },
     "metadata": {},
     "output_type": "display_data"
    },
    {
     "name": "stderr",
     "output_type": "stream",
     "text": [
      ">>> claude-3-haiku-20240307 (n_model=1,152, n_prompt=170, n_combo=6): \"Write a short poem that does rhyme.\":  24%|██▍       | 24/100 [01:11<04:23,  3.46s/it]"
     ]
    },
    {
     "name": "stdout",
     "output_type": "stream",
     "text": [
      "!!! Skipping deepseek/deepseek-chat + 'Write a short poem....' (would exceed max_n_combo=25)\n"
     ]
    },
    {
     "data": {
      "text/markdown": [
       "----"
      ],
      "text/plain": [
       "<IPython.core.display.Markdown object>"
      ]
     },
     "metadata": {},
     "output_type": "display_data"
    },
    {
     "name": "stdout",
     "output_type": "stream",
     "text": [
      "* Generating text\n",
      "  * model: claude-3-haiku-20240307\n",
      "  * prompt: Write a short poem that does rhyme.\n",
      "  * temperature: 0.7\n",
      "  * force: True\n",
      "  * stash: JSONLHashStash(~/github/generative-formalism/data/stash/genai_rhyme_prompts.jsonl)\n",
      "  * from_cache: False\n",
      "\n",
      "Here is a short rhyming poem:\n",
      "\n",
      "The sun shines bright, the sky is blue,\n",
      "A gentle breeze, a day so new.\n",
      "The flowers bloom, their colors bright,\n",
      "A peaceful scene, a true delight.\n",
      "Time to pause, to breathe and see,\n",
      "The beauty all around, so tranquilly.> Response: Here is a short rhyming poem:  The sun shines bright, the sky is blue, A gentle breeze, a day so new...\n"
     ]
    },
    {
     "data": {
      "text/markdown": [
       "----"
      ],
      "text/plain": [
       "<IPython.core.display.Markdown object>"
      ]
     },
     "metadata": {},
     "output_type": "display_data"
    },
    {
     "name": "stderr",
     "output_type": "stream",
     "text": [
      ">>> deepseek/deepseek-chat (n_model=721, n_prompt=171, n_combo=16): \"Write a short poem that does rhyme.\":  25%|██▌       | 25/100 [01:12<03:20,  2.67s/it]  "
     ]
    },
    {
     "data": {
      "text/markdown": [
       "----"
      ],
      "text/plain": [
       "<IPython.core.display.Markdown object>"
      ]
     },
     "metadata": {},
     "output_type": "display_data"
    },
    {
     "name": "stdout",
     "output_type": "stream",
     "text": [
      "* Generating text\n",
      "  * model: deepseek/deepseek-chat\n",
      "  * prompt: Write a short poem that does rhyme.\n",
      "  * temperature: 0.7\n",
      "  * force: True\n",
      "  * stash: JSONLHashStash(~/github/generative-formalism/data/stash/genai_rhyme_prompts.jsonl)\n",
      "  * from_cache: False\n",
      "\n",
      "The sun dips low, the day is done,\n",
      "A final flash of gold.\n",
      "The busy world, its race now run,\n",
      "Puts away the bold.\n",
      "\n",
      "The moon then climbs, a silver sphere,\n",
      "To watch the world at rest.\n",
      "And all the stars, so bright and clear,\n",
      "Decide which dreams are best.> Response: The sun dips low, the day is done, A final flash of gold. The busy world, its race now run, Puts awa...\n"
     ]
    },
    {
     "data": {
      "text/markdown": [
       "----"
      ],
      "text/plain": [
       "<IPython.core.display.Markdown object>"
      ]
     },
     "metadata": {},
     "output_type": "display_data"
    },
    {
     "name": "stderr",
     "output_type": "stream",
     "text": [
      ">>> deepseek/deepseek-chat (n_model=722, n_prompt=172, n_combo=17): \"Write a short poem that does rhyme.\":  26%|██▌       | 26/100 [01:19<04:41,  3.81s/it]"
     ]
    },
    {
     "data": {
      "text/markdown": [
       "----"
      ],
      "text/plain": [
       "<IPython.core.display.Markdown object>"
      ]
     },
     "metadata": {},
     "output_type": "display_data"
    },
    {
     "name": "stdout",
     "output_type": "stream",
     "text": [
      "* Generating text\n",
      "  * model: deepseek/deepseek-chat\n",
      "  * prompt: Write a short poem that does rhyme.\n",
      "  * temperature: 0.7\n",
      "  * force: True\n",
      "  * stash: JSONLHashStash(~/github/generative-formalism/data/stash/genai_rhyme_prompts.jsonl)\n",
      "  * from_cache: False\n",
      "\n",
      "The sun dips low, the day is done,\n",
      "A final flash of gold.\n",
      "The busy hum of bees is gone,\n",
      "The evening's chill takes hold.\n",
      "\n",
      "A single star begins to gleam,\n",
      "A promise in the deep.\n",
      "The world is settling to a dream,\n",
      "As all creatures sleep.> Response: The sun dips low, the day is done, A final flash of gold. The busy hum of bees is gone, The evening'...\n"
     ]
    },
    {
     "data": {
      "text/markdown": [
       "----"
      ],
      "text/plain": [
       "<IPython.core.display.Markdown object>"
      ]
     },
     "metadata": {},
     "output_type": "display_data"
    },
    {
     "name": "stderr",
     "output_type": "stream",
     "text": [
      ">>> deepseek/deepseek-chat (n_model=723, n_prompt=173, n_combo=18): \"Write a short poem that does rhyme.\":  27%|██▋       | 27/100 [01:25<05:37,  4.63s/it]"
     ]
    },
    {
     "name": "stdout",
     "output_type": "stream",
     "text": [
      "!!! Skipping deepseek/deepseek-chat + 'Write a poem in groups of two ...' (would exceed max_n_combo=25)\n"
     ]
    },
    {
     "data": {
      "text/markdown": [
       "----"
      ],
      "text/plain": [
       "<IPython.core.display.Markdown object>"
      ]
     },
     "metadata": {},
     "output_type": "display_data"
    },
    {
     "name": "stdout",
     "output_type": "stream",
     "text": [
      "* Generating text\n",
      "  * model: deepseek/deepseek-chat\n",
      "  * prompt: Write a short poem that does rhyme.\n",
      "  * temperature: 0.7\n",
      "  * force: True\n",
      "  * stash: JSONLHashStash(~/github/generative-formalism/data/stash/genai_rhyme_prompts.jsonl)\n",
      "  * from_cache: False\n",
      "\n",
      "The sun dips low, a golden hue,\n",
      "Upon the fields of morning dew.\n",
      "The sleepy birds have ceased their song,\n",
      "The quiet hours are growing long.> Response: The sun dips low, a golden hue, Upon the fields of morning dew. The sleepy birds have ceased their s...\n"
     ]
    },
    {
     "data": {
      "text/markdown": [
       "----"
      ],
      "text/plain": [
       "<IPython.core.display.Markdown object>"
      ]
     },
     "metadata": {},
     "output_type": "display_data"
    },
    {
     "name": "stderr",
     "output_type": "stream",
     "text": [
      ">>> deepseek/deepseek-chat (n_model=724, n_prompt=174, n_combo=19): \"Write a short poem that does rhyme.\":  28%|██▊       | 28/100 [01:30<05:35,  4.66s/it]"
     ]
    },
    {
     "data": {
      "text/markdown": [
       "----"
      ],
      "text/plain": [
       "<IPython.core.display.Markdown object>"
      ]
     },
     "metadata": {},
     "output_type": "display_data"
    },
    {
     "name": "stdout",
     "output_type": "stream",
     "text": [
      "* Generating text\n",
      "  * model: deepseek/deepseek-chat\n",
      "  * prompt: Write a short poem that does rhyme.\n",
      "  * temperature: 0.7\n",
      "  * force: True\n",
      "  * stash: JSONLHashStash(~/github/generative-formalism/data/stash/genai_rhyme_prompts.jsonl)\n",
      "  * from_cache: False\n",
      "\n",
      "The sun dips low, the day is done,\n",
      "A painted sky for everyone.\n",
      "The stars peek out, the moon does rise,\n",
      "A blanket spread across the skies.\n",
      "A gentle breeze, a whispered sigh,\n",
      "A sweet and soft goodnight lullaby.> Response: The sun dips low, the day is done, A painted sky for everyone. The stars peek out, the moon does ris...\n"
     ]
    },
    {
     "data": {
      "text/markdown": [
       "----"
      ],
      "text/plain": [
       "<IPython.core.display.Markdown object>"
      ]
     },
     "metadata": {},
     "output_type": "display_data"
    },
    {
     "name": "stderr",
     "output_type": "stream",
     "text": [
      ">>> claude-3-haiku-20240307 (n_model=1,153, n_prompt=175, n_combo=7): \"Write a short poem that does rhyme.\":  29%|██▉       | 29/100 [01:35<05:48,  4.91s/it]"
     ]
    },
    {
     "data": {
      "text/markdown": [
       "----"
      ],
      "text/plain": [
       "<IPython.core.display.Markdown object>"
      ]
     },
     "metadata": {},
     "output_type": "display_data"
    },
    {
     "name": "stdout",
     "output_type": "stream",
     "text": [
      "* Generating text\n",
      "  * model: claude-3-haiku-20240307\n",
      "  * prompt: Write a short poem that does rhyme.\n",
      "  * temperature: 0.7\n",
      "  * force: True\n",
      "  * stash: JSONLHashStash(~/github/generative-formalism/data/stash/genai_rhyme_prompts.jsonl)\n",
      "  * from_cache: False\n",
      "\n",
      "Here is a short rhyming poem:\n",
      "\n",
      "The sun shines bright, the day is clear,\n",
      "A gentle breeze, no need to fear.\n",
      "The flowers bloom, their colors bright,\n",
      "A peaceful scene, a joyful sight.\n",
      "Nature's beauty all around,\n",
      "Tranquil moments, peace profound.> Response: Here is a short rhyming poem:  The sun shines bright, the day is clear, A gentle breeze, no need to ...\n"
     ]
    },
    {
     "data": {
      "text/markdown": [
       "----"
      ],
      "text/plain": [
       "<IPython.core.display.Markdown object>"
      ]
     },
     "metadata": {},
     "output_type": "display_data"
    },
    {
     "name": "stderr",
     "output_type": "stream",
     "text": [
      ">>> claude-3-haiku-20240307 (n_model=1,154, n_prompt=249, n_combo=8): \"Write a short poem.\":  30%|███       | 30/100 [01:36<04:20,  3.72s/it]                "
     ]
    },
    {
     "data": {
      "text/markdown": [
       "----"
      ],
      "text/plain": [
       "<IPython.core.display.Markdown object>"
      ]
     },
     "metadata": {},
     "output_type": "display_data"
    },
    {
     "name": "stdout",
     "output_type": "stream",
     "text": [
      "* Generating text\n",
      "  * model: claude-3-haiku-20240307\n",
      "  * prompt: Write a short poem.\n",
      "  * temperature: 0.7\n",
      "  * force: True\n",
      "  * stash: JSONLHashStash(~/github/generative-formalism/data/stash/genai_rhyme_prompts.jsonl)\n",
      "  * from_cache: False\n",
      "\n",
      "Here is a short poem:\n",
      "\n",
      "Whispers of the wind,\n",
      "Caressing the trees so kind.\n",
      "Flowers bloom with grace,\n",
      "Nature's embrace.\n",
      "Peaceful moments, a tranquil mind.> Response: Here is a short poem:  Whispers of the wind, Caressing the trees so kind. Flowers bloom with grace, ...\n"
     ]
    },
    {
     "data": {
      "text/markdown": [
       "----"
      ],
      "text/plain": [
       "<IPython.core.display.Markdown object>"
      ]
     },
     "metadata": {},
     "output_type": "display_data"
    },
    {
     "name": "stderr",
     "output_type": "stream",
     "text": [
      ">>> claude-3-haiku-20240307 (n_model=1,154, n_prompt=249, n_combo=8): \"Write a short poem.\":  31%|███       | 31/100 [01:37<03:12,  2.79s/it]"
     ]
    },
    {
     "name": "stdout",
     "output_type": "stream",
     "text": [
      "!!! Skipping deepseek/deepseek-chat + 'Write a short poem....' (would exceed max_n_combo=25)\n"
     ]
    },
    {
     "name": "stderr",
     "output_type": "stream",
     "text": [
      ">>> deepseek/deepseek-chat (n_model=725, n_prompt=176, n_combo=20): \"Write a short poem that does rhyme.\":  31%|███       | 31/100 [01:37<03:12,  2.79s/it]"
     ]
    },
    {
     "name": "stdout",
     "output_type": "stream",
     "text": [
      "!!! Skipping deepseek/deepseek-chat + 'Write a short poem....' (would exceed max_n_combo=25)\n"
     ]
    },
    {
     "data": {
      "text/markdown": [
       "----"
      ],
      "text/plain": [
       "<IPython.core.display.Markdown object>"
      ]
     },
     "metadata": {},
     "output_type": "display_data"
    },
    {
     "name": "stdout",
     "output_type": "stream",
     "text": [
      "* Generating text\n",
      "  * model: deepseek/deepseek-chat\n",
      "  * prompt: Write a short poem that does rhyme.\n",
      "  * temperature: 0.7\n",
      "  * force: True\n",
      "  * stash: JSONLHashStash(~/github/generative-formalism/data/stash/genai_rhyme_prompts.jsonl)\n",
      "  * from_cache: False\n",
      "\n",
      "The sun dips low, the day is done,\n",
      "A painted sky for everyone.\n",
      "The stars peek out, the moon does rise,\n",
      "A lullaby in evening's sighs.> Response: The sun dips low, the day is done, A painted sky for everyone. The stars peek out, the moon does ris...\n"
     ]
    },
    {
     "data": {
      "text/markdown": [
       "----"
      ],
      "text/plain": [
       "<IPython.core.display.Markdown object>"
      ]
     },
     "metadata": {},
     "output_type": "display_data"
    },
    {
     "name": "stderr",
     "output_type": "stream",
     "text": [
      ">>> claude-3-haiku-20240307 (n_model=1,155, n_prompt=209, n_combo=8): \"Write a short poem that does NOT rhyme.\":  32%|███▏      | 32/100 [01:42<03:57,  3.50s/it]"
     ]
    },
    {
     "data": {
      "text/markdown": [
       "----"
      ],
      "text/plain": [
       "<IPython.core.display.Markdown object>"
      ]
     },
     "metadata": {},
     "output_type": "display_data"
    },
    {
     "name": "stdout",
     "output_type": "stream",
     "text": [
      "* Generating text\n",
      "  * model: claude-3-haiku-20240307\n",
      "  * prompt: Write a short poem that does NOT rhyme.\n",
      "  * temperature: 0.7\n",
      "  * force: True\n",
      "  * stash: JSONLHashStash(~/github/generative-formalism/data/stash/genai_rhyme_prompts.jsonl)\n",
      "  * from_cache: False\n",
      "\n",
      "Here is a short poem that does not rhyme:\n",
      "\n",
      "Whispers of the wind,\n",
      "Caressing the earth's embrace,\n",
      "Echoes of the soul.> Response: Here is a short poem that does not rhyme:  Whispers of the wind, Caressing the earth's embrace, Echo...\n"
     ]
    },
    {
     "data": {
      "text/markdown": [
       "----"
      ],
      "text/plain": [
       "<IPython.core.display.Markdown object>"
      ]
     },
     "metadata": {},
     "output_type": "display_data"
    },
    {
     "name": "stderr",
     "output_type": "stream",
     "text": [
      ">>> claude-3-haiku-20240307 (n_model=1,156, n_prompt=177, n_combo=8): \"Write a short poem that does rhyme.\":  33%|███▎      | 33/100 [01:43<02:57,  2.66s/it]    "
     ]
    },
    {
     "data": {
      "text/markdown": [
       "----"
      ],
      "text/plain": [
       "<IPython.core.display.Markdown object>"
      ]
     },
     "metadata": {},
     "output_type": "display_data"
    },
    {
     "name": "stdout",
     "output_type": "stream",
     "text": [
      "* Generating text\n",
      "  * model: claude-3-haiku-20240307\n",
      "  * prompt: Write a short poem that does rhyme.\n",
      "  * temperature: 0.7\n",
      "  * force: True\n",
      "  * stash: JSONLHashStash(~/github/generative-formalism/data/stash/genai_rhyme_prompts.jsonl)\n",
      "  * from_cache: False\n",
      "\n",
      "Here is a short rhyming poem:\n",
      "\n",
      "The wind whispers soft and low,\n",
      "Carrying secrets where it may go.\n",
      "The leaves dance and sway,\n",
      "On this autumn day.\n",
      "Nature's beauty puts on a show.> Response: Here is a short rhyming poem:  The wind whispers soft and low, Carrying secrets where it may go. The...\n"
     ]
    },
    {
     "data": {
      "text/markdown": [
       "----"
      ],
      "text/plain": [
       "<IPython.core.display.Markdown object>"
      ]
     },
     "metadata": {},
     "output_type": "display_data"
    },
    {
     "name": "stderr",
     "output_type": "stream",
     "text": [
      ">>> deepseek/deepseek-chat (n_model=726, n_prompt=210, n_combo=23): \"Write a short poem that does NOT rhyme.\":  34%|███▍      | 34/100 [01:43<02:15,  2.06s/it]"
     ]
    },
    {
     "data": {
      "text/markdown": [
       "----"
      ],
      "text/plain": [
       "<IPython.core.display.Markdown object>"
      ]
     },
     "metadata": {},
     "output_type": "display_data"
    },
    {
     "name": "stdout",
     "output_type": "stream",
     "text": [
      "* Generating text\n",
      "  * model: deepseek/deepseek-chat\n",
      "  * prompt: Write a short poem that does NOT rhyme.\n",
      "  * temperature: 0.7\n",
      "  * force: True\n",
      "  * stash: JSONLHashStash(~/github/generative-formalism/data/stash/genai_rhyme_prompts.jsonl)\n",
      "  * from_cache: False\n",
      "\n",
      "The sun climbs the morning sky.\n",
      "A single leaf falls in slow, spiraling silence.\n",
      "Shadows stretch across the field, long and deep.\n",
      "The cold air holds its breath, waiting.\n",
      "Nothing needs to be said.> Response: The sun climbs the morning sky. A single leaf falls in slow, spiraling silence. Shadows stretch acro...\n"
     ]
    },
    {
     "data": {
      "text/markdown": [
       "----"
      ],
      "text/plain": [
       "<IPython.core.display.Markdown object>"
      ]
     },
     "metadata": {},
     "output_type": "display_data"
    },
    {
     "name": "stderr",
     "output_type": "stream",
     "text": [
      ">>> claude-3-haiku-20240307 (n_model=1,157, n_prompt=211, n_combo=9): \"Write a short poem that does NOT rhyme.\":  35%|███▌      | 35/100 [01:49<03:24,  3.15s/it]"
     ]
    },
    {
     "data": {
      "text/markdown": [
       "----"
      ],
      "text/plain": [
       "<IPython.core.display.Markdown object>"
      ]
     },
     "metadata": {},
     "output_type": "display_data"
    },
    {
     "name": "stdout",
     "output_type": "stream",
     "text": [
      "* Generating text\n",
      "  * model: claude-3-haiku-20240307\n",
      "  * prompt: Write a short poem that does NOT rhyme.\n",
      "  * temperature: 0.7\n",
      "  * force: True\n",
      "  * stash: JSONLHashStash(~/github/generative-formalism/data/stash/genai_rhyme_prompts.jsonl)\n",
      "  * from_cache: False\n",
      "\n",
      "Here is a short poem that does not rhyme:\n",
      "\n",
      "The wind whispers,\n",
      "Caressing the leaves,\n",
      "A symphony of nature's breath.\n",
      "Silence echoes,\n",
      "Moments of stillness,\n",
      "Capturing the essence of time.> Response: Here is a short poem that does not rhyme:  The wind whispers, Caressing the leaves, A symphony of na...\n"
     ]
    },
    {
     "data": {
      "text/markdown": [
       "----"
      ],
      "text/plain": [
       "<IPython.core.display.Markdown object>"
      ]
     },
     "metadata": {},
     "output_type": "display_data"
    },
    {
     "name": "stderr",
     "output_type": "stream",
     "text": [
      ">>> deepseek/deepseek-chat (n_model=727, n_prompt=212, n_combo=24): \"Write a short poem that does NOT rhyme.\":  36%|███▌      | 36/100 [01:50<02:35,  2.43s/it]  "
     ]
    },
    {
     "data": {
      "text/markdown": [
       "----"
      ],
      "text/plain": [
       "<IPython.core.display.Markdown object>"
      ]
     },
     "metadata": {},
     "output_type": "display_data"
    },
    {
     "name": "stdout",
     "output_type": "stream",
     "text": [
      "* Generating text\n",
      "  * model: deepseek/deepseek-chat\n",
      "  * prompt: Write a short poem that does NOT rhyme.\n",
      "  * temperature: 0.7\n",
      "  * force: True\n",
      "  * stash: JSONLHashStash(~/github/generative-formalism/data/stash/genai_rhyme_prompts.jsonl)\n",
      "  * from_cache: False\n",
      "\n",
      "The sun climbs the morning.\n",
      "A single leaf falls,\n",
      "spiraling without sound.\n",
      "Shadows grow long and lean.\n",
      "The moon is a pale comma\n",
      "in the deepening blue.\n",
      "A cold cup of tea\n",
      "forgotten on the rail.\n",
      "This is how the day turns.> Response: The sun climbs the morning. A single leaf falls, spiraling without sound. Shadows grow long and lean...\n"
     ]
    },
    {
     "data": {
      "text/markdown": [
       "----"
      ],
      "text/plain": [
       "<IPython.core.display.Markdown object>"
      ]
     },
     "metadata": {},
     "output_type": "display_data"
    },
    {
     "name": "stderr",
     "output_type": "stream",
     "text": [
      ">>> deepseek/deepseek-chat (n_model=728, n_prompt=178, n_combo=21): \"Write a short poem that does rhyme.\":  37%|███▋      | 37/100 [01:57<03:57,  3.77s/it]    "
     ]
    },
    {
     "data": {
      "text/markdown": [
       "----"
      ],
      "text/plain": [
       "<IPython.core.display.Markdown object>"
      ]
     },
     "metadata": {},
     "output_type": "display_data"
    },
    {
     "name": "stdout",
     "output_type": "stream",
     "text": [
      "* Generating text\n",
      "  * model: deepseek/deepseek-chat\n",
      "  * prompt: Write a short poem that does rhyme.\n",
      "  * temperature: 0.7\n",
      "  * force: True\n",
      "  * stash: JSONLHashStash(~/github/generative-formalism/data/stash/genai_rhyme_prompts.jsonl)\n",
      "  * from_cache: False\n",
      "\n",
      "The sun dips low, the day is done,\n",
      "A painted sky for everyone.\n",
      "The stars peek out, so sharp and bright,\n",
      "To guard the quiet, gentle night.> Response: The sun dips low, the day is done, A painted sky for everyone. The stars peek out, so sharp and brig...\n"
     ]
    },
    {
     "data": {
      "text/markdown": [
       "----"
      ],
      "text/plain": [
       "<IPython.core.display.Markdown object>"
      ]
     },
     "metadata": {},
     "output_type": "display_data"
    },
    {
     "name": "stderr",
     "output_type": "stream",
     "text": [
      ">>> claude-3-haiku-20240307 (n_model=1,158, n_prompt=179, n_combo=9): \"Write a short poem that does rhyme.\":  38%|███▊      | 38/100 [02:01<04:09,  4.02s/it]"
     ]
    },
    {
     "data": {
      "text/markdown": [
       "----"
      ],
      "text/plain": [
       "<IPython.core.display.Markdown object>"
      ]
     },
     "metadata": {},
     "output_type": "display_data"
    },
    {
     "name": "stdout",
     "output_type": "stream",
     "text": [
      "* Generating text\n",
      "  * model: claude-3-haiku-20240307\n",
      "  * prompt: Write a short poem that does rhyme.\n",
      "  * temperature: 0.7\n",
      "  * force: True\n",
      "  * stash: JSONLHashStash(~/github/generative-formalism/data/stash/genai_rhyme_prompts.jsonl)\n",
      "  * from_cache: False\n",
      "\n",
      "Here is a short rhyming poem:\n",
      "\n",
      "The sun shines bright, the day is clear,\n",
      "A gentle breeze, no need to fear.\n",
      "The flowers bloom, their colors bright,\n",
      "Nature's beauty, a wondrous sight.\n",
      "A moment of peace, a time to pause,\n",
      "To appreciate life's simple laws.\n",
      "In this serene and tranquil place,\n",
      "I find solace, a moment to embrace.> Response: Here is a short rhyming poem:  The sun shines bright, the day is clear, A gentle breeze, no need to ...\n"
     ]
    },
    {
     "data": {
      "text/markdown": [
       "----"
      ],
      "text/plain": [
       "<IPython.core.display.Markdown object>"
      ]
     },
     "metadata": {},
     "output_type": "display_data"
    },
    {
     "name": "stderr",
     "output_type": "stream",
     "text": [
      ">>> deepseek/deepseek-chat (n_model=729, n_prompt=180, n_combo=22): \"Write a short poem that does rhyme.\":  39%|███▉      | 39/100 [02:02<03:11,  3.13s/it]  "
     ]
    },
    {
     "data": {
      "text/markdown": [
       "----"
      ],
      "text/plain": [
       "<IPython.core.display.Markdown object>"
      ]
     },
     "metadata": {},
     "output_type": "display_data"
    },
    {
     "name": "stdout",
     "output_type": "stream",
     "text": [
      "* Generating text\n",
      "  * model: deepseek/deepseek-chat\n",
      "  * prompt: Write a short poem that does rhyme.\n",
      "  * temperature: 0.7\n",
      "  * force: True\n",
      "  * stash: JSONLHashStash(~/github/generative-formalism/data/stash/genai_rhyme_prompts.jsonl)\n",
      "  * from_cache: False\n",
      "\n",
      "The sun dips low, the day is done,\n",
      "A painted sky for everyone.\n",
      "The stars peek out, a twinkling show,\n",
      "On silent feet the night will grow.> Response: The sun dips low, the day is done, A painted sky for everyone. The stars peek out, a twinkling show,...\n"
     ]
    },
    {
     "data": {
      "text/markdown": [
       "----"
      ],
      "text/plain": [
       "<IPython.core.display.Markdown object>"
      ]
     },
     "metadata": {},
     "output_type": "display_data"
    },
    {
     "name": "stderr",
     "output_type": "stream",
     "text": [
      ">>> claude-3-haiku-20240307 (n_model=1,159, n_prompt=213, n_combo=10): \"Write a short poem that does NOT rhyme.\":  40%|████      | 40/100 [02:08<03:42,  3.71s/it]"
     ]
    },
    {
     "name": "stdout",
     "output_type": "stream",
     "text": [
      "!!! Skipping deepseek/deepseek-chat + 'Write a short poem....' (would exceed max_n_combo=25)\n",
      "!!! Skipping deepseek/deepseek-chat + 'Write a short poem that does N...' (would exceed max_n_combo=25)\n",
      "!!! Skipping deepseek/deepseek-chat + 'Write a short poem that does N...' (would exceed max_n_combo=25)\n"
     ]
    },
    {
     "data": {
      "text/markdown": [
       "----"
      ],
      "text/plain": [
       "<IPython.core.display.Markdown object>"
      ]
     },
     "metadata": {},
     "output_type": "display_data"
    },
    {
     "name": "stdout",
     "output_type": "stream",
     "text": [
      "* Generating text\n",
      "  * model: claude-3-haiku-20240307\n",
      "  * prompt: Write a short poem that does NOT rhyme.\n",
      "  * temperature: 0.7\n",
      "  * force: True\n",
      "  * stash: JSONLHashStash(~/github/generative-formalism/data/stash/genai_rhyme_prompts.jsonl)\n",
      "  * from_cache: False\n",
      "\n",
      "Here is a short poem that does not rhyme:\n",
      "\n",
      "The Quiet Moment\n",
      "\n",
      "Stillness settles, a hush descends,\n",
      "Thoughts slow, senses attune.\n",
      "In this fleeting, tranquil pause,\n",
      "The world seems to hold its breath.\n",
      "A moment of peace, a moment of grace,\n",
      "Savored before the rhythm resumes.> Response: Here is a short poem that does not rhyme:  The Quiet Moment  Stillness settles, a hush descends, Tho...\n"
     ]
    },
    {
     "data": {
      "text/markdown": [
       "----"
      ],
      "text/plain": [
       "<IPython.core.display.Markdown object>"
      ]
     },
     "metadata": {},
     "output_type": "display_data"
    },
    {
     "name": "stderr",
     "output_type": "stream",
     "text": [
      ">>> claude-3-haiku-20240307 (n_model=1,160, n_prompt=214, n_combo=11): \"Write a short poem that does NOT rhyme.\":  41%|████      | 41/100 [02:08<02:48,  2.86s/it]"
     ]
    },
    {
     "data": {
      "text/markdown": [
       "----"
      ],
      "text/plain": [
       "<IPython.core.display.Markdown object>"
      ]
     },
     "metadata": {},
     "output_type": "display_data"
    },
    {
     "name": "stdout",
     "output_type": "stream",
     "text": [
      "* Generating text\n",
      "  * model: claude-3-haiku-20240307\n",
      "  * prompt: Write a short poem that does NOT rhyme.\n",
      "  * temperature: 0.7\n",
      "  * force: True\n",
      "  * stash: JSONLHashStash(~/github/generative-formalism/data/stash/genai_rhyme_prompts.jsonl)\n",
      "  * from_cache: False\n",
      "\n",
      "Here is a short poem that does not rhyme:\n",
      "\n",
      "Whispers of the wind,\n",
      "Rustling leaves in the night,\n",
      "Echoes of the soul.> Response: Here is a short poem that does not rhyme:  Whispers of the wind, Rustling leaves in the night, Echoe...\n"
     ]
    },
    {
     "data": {
      "text/markdown": [
       "----"
      ],
      "text/plain": [
       "<IPython.core.display.Markdown object>"
      ]
     },
     "metadata": {},
     "output_type": "display_data"
    },
    {
     "name": "stderr",
     "output_type": "stream",
     "text": [
      ">>> deepseek/deepseek-chat (n_model=730, n_prompt=181, n_combo=23): \"Write a short poem that does rhyme.\":  42%|████▏     | 42/100 [02:09<02:07,  2.19s/it]       "
     ]
    },
    {
     "name": "stdout",
     "output_type": "stream",
     "text": [
      "!!! Skipping deepseek/deepseek-chat + 'Write a short poem....' (would exceed max_n_combo=25)\n",
      "!!! Skipping deepseek/deepseek-chat + 'Write a short poem that does N...' (would exceed max_n_combo=25)\n"
     ]
    },
    {
     "data": {
      "text/markdown": [
       "----"
      ],
      "text/plain": [
       "<IPython.core.display.Markdown object>"
      ]
     },
     "metadata": {},
     "output_type": "display_data"
    },
    {
     "name": "stdout",
     "output_type": "stream",
     "text": [
      "* Generating text\n",
      "  * model: deepseek/deepseek-chat\n",
      "  * prompt: Write a short poem that does rhyme.\n",
      "  * temperature: 0.7\n",
      "  * force: True\n",
      "  * stash: JSONLHashStash(~/github/generative-formalism/data/stash/genai_rhyme_prompts.jsonl)\n",
      "  * from_cache: False\n",
      "\n",
      "The sun dips low, the day is done,\n",
      "A painted sky for everyone.\n",
      "The stars peek out, a twinkling sight\n",
      "To guard and guide us through the night.> Response: The sun dips low, the day is done, A painted sky for everyone. The stars peek out, a twinkling sight...\n"
     ]
    },
    {
     "data": {
      "text/markdown": [
       "----"
      ],
      "text/plain": [
       "<IPython.core.display.Markdown object>"
      ]
     },
     "metadata": {},
     "output_type": "display_data"
    },
    {
     "name": "stderr",
     "output_type": "stream",
     "text": [
      ">>> claude-3-haiku-20240307 (n_model=1,161, n_prompt=250, n_combo=9): \"Write a short poem.\":  43%|████▎     | 43/100 [02:14<02:57,  3.11s/it]              "
     ]
    },
    {
     "data": {
      "text/markdown": [
       "----"
      ],
      "text/plain": [
       "<IPython.core.display.Markdown object>"
      ]
     },
     "metadata": {},
     "output_type": "display_data"
    },
    {
     "name": "stdout",
     "output_type": "stream",
     "text": [
      "* Generating text\n",
      "  * model: claude-3-haiku-20240307\n",
      "  * prompt: Write a short poem.\n",
      "  * temperature: 0.7\n",
      "  * force: True\n",
      "  * stash: JSONLHashStash(~/github/generative-formalism/data/stash/genai_rhyme_prompts.jsonl)\n",
      "  * from_cache: False\n",
      "\n",
      "Here is a short poem:\n",
      "\n",
      "The sun sets, the moon rises,\n",
      "A new day begins, a new night surprises.\n",
      "The world turns, the seasons change,\n",
      "Life's wonders, ever rearrange.\n",
      "Embrace the moment, cherish the view,\n",
      "For each day brings something fresh and new.> Response: Here is a short poem:  The sun sets, the moon rises, A new day begins, a new night surprises. The wo...\n"
     ]
    },
    {
     "data": {
      "text/markdown": [
       "----"
      ],
      "text/plain": [
       "<IPython.core.display.Markdown object>"
      ]
     },
     "metadata": {},
     "output_type": "display_data"
    },
    {
     "name": "stderr",
     "output_type": "stream",
     "text": [
      ">>> deepseek/deepseek-chat (n_model=731, n_prompt=182, n_combo=24): \"Write a short poem that does rhyme.\":  44%|████▍     | 44/100 [02:15<02:16,  2.44s/it]"
     ]
    },
    {
     "data": {
      "text/markdown": [
       "----"
      ],
      "text/plain": [
       "<IPython.core.display.Markdown object>"
      ]
     },
     "metadata": {},
     "output_type": "display_data"
    },
    {
     "name": "stdout",
     "output_type": "stream",
     "text": [
      "* Generating text\n",
      "  * model: deepseek/deepseek-chat\n",
      "  * prompt: Write a short poem that does rhyme.\n",
      "  * temperature: 0.7\n",
      "  * force: True\n",
      "  * stash: JSONLHashStash(~/github/generative-formalism/data/stash/genai_rhyme_prompts.jsonl)\n",
      "  * from_cache: False\n",
      "\n",
      "The sun dips low, the day is done,\n",
      "A painted sky for everyone.\n",
      "The stars peek out, a twinkling show,\n",
      "On silent feet the night will grow.> Response: The sun dips low, the day is done, A painted sky for everyone. The stars peek out, a twinkling show,...\n"
     ]
    },
    {
     "data": {
      "text/markdown": [
       "----"
      ],
      "text/plain": [
       "<IPython.core.display.Markdown object>"
      ]
     },
     "metadata": {},
     "output_type": "display_data"
    },
    {
     "name": "stderr",
     "output_type": "stream",
     "text": [
      ">>> deepseek/deepseek-chat (n_model=731, n_prompt=182, n_combo=24): \"Write a short poem that does rhyme.\":  45%|████▌     | 45/100 [02:20<02:57,  3.22s/it]"
     ]
    },
    {
     "name": "stdout",
     "output_type": "stream",
     "text": [
      "!!! Skipping deepseek/deepseek-chat + 'Write a short poem....' (would exceed max_n_combo=25)\n"
     ]
    },
    {
     "name": "stderr",
     "output_type": "stream",
     "text": [
      ">>> claude-3-haiku-20240307 (n_model=1,162, n_prompt=251, n_combo=10): \"Write a short poem.\":  45%|████▌     | 45/100 [02:20<02:57,  3.22s/it]             "
     ]
    },
    {
     "data": {
      "text/markdown": [
       "----"
      ],
      "text/plain": [
       "<IPython.core.display.Markdown object>"
      ]
     },
     "metadata": {},
     "output_type": "display_data"
    },
    {
     "name": "stdout",
     "output_type": "stream",
     "text": [
      "* Generating text\n",
      "  * model: claude-3-haiku-20240307\n",
      "  * prompt: Write a short poem.\n",
      "  * temperature: 0.7\n",
      "  * force: True\n",
      "  * stash: JSONLHashStash(~/github/generative-formalism/data/stash/genai_rhyme_prompts.jsonl)\n",
      "  * from_cache: False\n",
      "\n",
      "Here is a short poem:\n",
      "\n",
      "Whispers of the wind,\n",
      "Caressing the leaves in dance,\n",
      "Nature's symphony.> Response: Here is a short poem:  Whispers of the wind, Caressing the leaves in dance, Nature's symphony....\n"
     ]
    },
    {
     "data": {
      "text/markdown": [
       "----"
      ],
      "text/plain": [
       "<IPython.core.display.Markdown object>"
      ]
     },
     "metadata": {},
     "output_type": "display_data"
    },
    {
     "name": "stderr",
     "output_type": "stream",
     "text": [
      ">>> claude-3-haiku-20240307 (n_model=1,162, n_prompt=251, n_combo=10): \"Write a short poem.\":  46%|████▌     | 46/100 [02:21<02:11,  2.44s/it]"
     ]
    },
    {
     "name": "stdout",
     "output_type": "stream",
     "text": [
      "!!! Skipping deepseek/deepseek-chat + 'Write a short poem....' (would exceed max_n_combo=25)\n",
      "!!! Skipping deepseek/deepseek-chat + 'Write a short poem that does N...' (would exceed max_n_combo=25)\n",
      "!!! Skipping deepseek/deepseek-chat + 'Write a short poem that does N...' (would exceed max_n_combo=25)\n",
      "!!! Skipping deepseek/deepseek-chat + 'Write a short poem....' (would exceed max_n_combo=25)\n",
      "!!! Skipping deepseek/deepseek-chat + 'Write a short poem that does r...' (would exceed max_n_combo=25)\n",
      "!!! Skipping deepseek/deepseek-chat + 'Write a short poem that does r...' (would exceed max_n_combo=25)\n",
      "!!! Skipping deepseek/deepseek-chat + 'Write a short poem that does r...' (would exceed max_n_combo=25)\n",
      "!!! Skipping deepseek/deepseek-chat + 'Write a short poem that does N...' (would exceed max_n_combo=25)\n"
     ]
    },
    {
     "name": "stderr",
     "output_type": "stream",
     "text": [
      ">>> claude-3-haiku-20240307 (n_model=1,163, n_prompt=183, n_combo=10): \"Write a short poem that does rhyme.\":  46%|████▌     | 46/100 [02:21<02:11,  2.44s/it]"
     ]
    },
    {
     "data": {
      "text/markdown": [
       "----"
      ],
      "text/plain": [
       "<IPython.core.display.Markdown object>"
      ]
     },
     "metadata": {},
     "output_type": "display_data"
    },
    {
     "name": "stdout",
     "output_type": "stream",
     "text": [
      "* Generating text\n",
      "  * model: claude-3-haiku-20240307\n",
      "  * prompt: Write a short poem that does rhyme.\n",
      "  * temperature: 0.7\n",
      "  * force: True\n",
      "  * stash: JSONLHashStash(~/github/generative-formalism/data/stash/genai_rhyme_prompts.jsonl)\n",
      "  * from_cache: False\n",
      "\n",
      "Here is a short rhyming poem:\n",
      "\n",
      "The sun shines bright, the day is new,\n",
      "A gentle breeze, the flowers grew.\n",
      "Birds take flight, their song so sweet,\n",
      "Nature's beauty, a pure retreat.> Response: Here is a short rhyming poem:  The sun shines bright, the day is new, A gentle breeze, the flowers g...\n"
     ]
    },
    {
     "data": {
      "text/markdown": [
       "----"
      ],
      "text/plain": [
       "<IPython.core.display.Markdown object>"
      ]
     },
     "metadata": {},
     "output_type": "display_data"
    },
    {
     "name": "stderr",
     "output_type": "stream",
     "text": [
      ">>> claude-3-haiku-20240307 (n_model=1,164, n_prompt=215, n_combo=12): \"Write a short poem that does NOT rhyme.\":  47%|████▋     | 47/100 [02:21<01:40,  1.90s/it]"
     ]
    },
    {
     "data": {
      "text/markdown": [
       "----"
      ],
      "text/plain": [
       "<IPython.core.display.Markdown object>"
      ]
     },
     "metadata": {},
     "output_type": "display_data"
    },
    {
     "name": "stdout",
     "output_type": "stream",
     "text": [
      "* Generating text\n",
      "  * model: claude-3-haiku-20240307\n",
      "  * prompt: Write a short poem that does NOT rhyme.\n",
      "  * temperature: 0.7\n",
      "  * force: True\n",
      "  * stash: JSONLHashStash(~/github/generative-formalism/data/stash/genai_rhyme_prompts.jsonl)\n",
      "  * from_cache: False\n",
      "\n",
      "Here is a short poem that does not rhyme:\n",
      "\n",
      "Whispers of the wind,\n",
      "Caressing the leaves with grace,\n",
      "Nature's symphony.> Response: Here is a short poem that does not rhyme:  Whispers of the wind, Caressing the leaves with grace, Na...\n"
     ]
    },
    {
     "data": {
      "text/markdown": [
       "----"
      ],
      "text/plain": [
       "<IPython.core.display.Markdown object>"
      ]
     },
     "metadata": {},
     "output_type": "display_data"
    },
    {
     "name": "stderr",
     "output_type": "stream",
     "text": [
      ">>> claude-3-haiku-20240307 (n_model=1,165, n_prompt=216, n_combo=13): \"Write a short poem that does NOT rhyme.\":  48%|████▊     | 48/100 [02:22<01:18,  1.51s/it]"
     ]
    },
    {
     "name": "stdout",
     "output_type": "stream",
     "text": [
      "!!! Skipping deepseek/deepseek-chat + 'Write a short poem that does N...' (would exceed max_n_combo=25)\n",
      "!!! Skipping claude-3-haiku-20240307 + 'Write a poem in groups of two ...' (would exceed max_n_combo=25)\n"
     ]
    },
    {
     "data": {
      "text/markdown": [
       "----"
      ],
      "text/plain": [
       "<IPython.core.display.Markdown object>"
      ]
     },
     "metadata": {},
     "output_type": "display_data"
    },
    {
     "name": "stdout",
     "output_type": "stream",
     "text": [
      "* Generating text\n",
      "  * model: claude-3-haiku-20240307\n",
      "  * prompt: Write a short poem that does NOT rhyme.\n",
      "  * temperature: 0.7\n",
      "  * force: True\n",
      "  * stash: JSONLHashStash(~/github/generative-formalism/data/stash/genai_rhyme_prompts.jsonl)\n",
      "  * from_cache: False\n",
      "\n",
      "Here is a short poem that does not rhyme:\n",
      "\n",
      "Whispers in the wind,\n",
      "Echoes of a distant past,\n",
      "Memories unfurled.\n",
      "\n",
      "Shadows dance and sway,\n",
      "Illuminating the unseen,\n",
      "Secrets of the night.\n",
      "\n",
      "Waves crash upon the shore,\n",
      "Rhythmic, eternal, sublime,\n",
      "Calling me to explore.> Response: Here is a short poem that does not rhyme:  Whispers in the wind, Echoes of a distant past, Memories ...\n"
     ]
    },
    {
     "data": {
      "text/markdown": [
       "----"
      ],
      "text/plain": [
       "<IPython.core.display.Markdown object>"
      ]
     },
     "metadata": {},
     "output_type": "display_data"
    },
    {
     "name": "stderr",
     "output_type": "stream",
     "text": [
      ">>> claude-3-haiku-20240307 (n_model=1,166, n_prompt=252, n_combo=11): \"Write a short poem.\":  49%|████▉     | 49/100 [02:23<01:07,  1.31s/it]                    "
     ]
    },
    {
     "name": "stdout",
     "output_type": "stream",
     "text": [
      "!!! Skipping deepseek/deepseek-chat + 'Write a short poem....' (would exceed max_n_combo=25)\n",
      "!!! Skipping deepseek/deepseek-chat + 'Write a poem in groups of two ...' (would exceed max_n_combo=25)\n",
      "!!! Skipping deepseek/deepseek-chat + 'Write a short poem that does r...' (would exceed max_n_combo=25)\n",
      "!!! Skipping deepseek/deepseek-chat + 'Write a short poem that does N...' (would exceed max_n_combo=25)\n"
     ]
    },
    {
     "data": {
      "text/markdown": [
       "----"
      ],
      "text/plain": [
       "<IPython.core.display.Markdown object>"
      ]
     },
     "metadata": {},
     "output_type": "display_data"
    },
    {
     "name": "stdout",
     "output_type": "stream",
     "text": [
      "* Generating text\n",
      "  * model: claude-3-haiku-20240307\n",
      "  * prompt: Write a short poem.\n",
      "  * temperature: 0.7\n",
      "  * force: True\n",
      "  * stash: JSONLHashStash(~/github/generative-formalism/data/stash/genai_rhyme_prompts.jsonl)\n",
      "  * from_cache: False\n",
      "\n",
      "Here is a short poem:\n",
      "\n",
      "Whispers of the wind,\n",
      "Caressing the leaves so tender,\n",
      "Nature's gentle song.> Response: Here is a short poem:  Whispers of the wind, Caressing the leaves so tender, Nature's gentle song....\n"
     ]
    },
    {
     "data": {
      "text/markdown": [
       "----"
      ],
      "text/plain": [
       "<IPython.core.display.Markdown object>"
      ]
     },
     "metadata": {},
     "output_type": "display_data"
    },
    {
     "name": "stderr",
     "output_type": "stream",
     "text": [
      ">>> claude-3-haiku-20240307 (n_model=1,167, n_prompt=217, n_combo=14): \"Write a short poem that does NOT rhyme.\":  50%|█████     | 50/100 [02:23<00:54,  1.09s/it]"
     ]
    },
    {
     "name": "stdout",
     "output_type": "stream",
     "text": [
      "!!! Skipping deepseek/deepseek-chat + 'Write a short poem that does N...' (would exceed max_n_combo=25)\n",
      "!!! Skipping deepseek/deepseek-chat + 'Write a short poem that does r...' (would exceed max_n_combo=25)\n",
      "!!! Skipping deepseek/deepseek-chat + 'Write a short poem....' (would exceed max_n_combo=25)\n"
     ]
    },
    {
     "data": {
      "text/markdown": [
       "----"
      ],
      "text/plain": [
       "<IPython.core.display.Markdown object>"
      ]
     },
     "metadata": {},
     "output_type": "display_data"
    },
    {
     "name": "stdout",
     "output_type": "stream",
     "text": [
      "* Generating text\n",
      "  * model: claude-3-haiku-20240307\n",
      "  * prompt: Write a short poem that does NOT rhyme.\n",
      "  * temperature: 0.7\n",
      "  * force: True\n",
      "  * stash: JSONLHashStash(~/github/generative-formalism/data/stash/genai_rhyme_prompts.jsonl)\n",
      "  * from_cache: False\n",
      "\n",
      "Here is a short poem that does not rhyme:\n",
      "\n",
      "The wind whispers secrets,\n",
      "Caressing the leaves with its gentle touch.\n",
      "Shadows dance across the ground,\n",
      "Shifting, changing, never the same.\n",
      "The world holds its breath,\n",
      "Waiting for the next moment to unfold.> Response: Here is a short poem that does not rhyme:  The wind whispers secrets, Caressing the leaves with its ...\n"
     ]
    },
    {
     "data": {
      "text/markdown": [
       "----"
      ],
      "text/plain": [
       "<IPython.core.display.Markdown object>"
      ]
     },
     "metadata": {},
     "output_type": "display_data"
    },
    {
     "name": "stderr",
     "output_type": "stream",
     "text": [
      ">>> claude-3-haiku-20240307 (n_model=1,168, n_prompt=184, n_combo=11): \"Write a short poem that does rhyme.\":  51%|█████     | 51/100 [02:24<00:48,  1.01it/s]    "
     ]
    },
    {
     "data": {
      "text/markdown": [
       "----"
      ],
      "text/plain": [
       "<IPython.core.display.Markdown object>"
      ]
     },
     "metadata": {},
     "output_type": "display_data"
    },
    {
     "name": "stdout",
     "output_type": "stream",
     "text": [
      "* Generating text\n",
      "  * model: claude-3-haiku-20240307\n",
      "  * prompt: Write a short poem that does rhyme.\n",
      "  * temperature: 0.7\n",
      "  * force: True\n",
      "  * stash: JSONLHashStash(~/github/generative-formalism/data/stash/genai_rhyme_prompts.jsonl)\n",
      "  * from_cache: False\n",
      "\n",
      "Here is a short rhyming poem:\n",
      "\n",
      "The sun shines bright, the sky so blue,\n",
      "A gentle breeze, a world anew.\n",
      "Flowers bloom and birds take flight,\n",
      "Nature's beauty, a wondrous sight.> Response: Here is a short rhyming poem:  The sun shines bright, the sky so blue, A gentle breeze, a world anew...\n"
     ]
    },
    {
     "data": {
      "text/markdown": [
       "----"
      ],
      "text/plain": [
       "<IPython.core.display.Markdown object>"
      ]
     },
     "metadata": {},
     "output_type": "display_data"
    },
    {
     "name": "stderr",
     "output_type": "stream",
     "text": [
      ">>> claude-3-haiku-20240307 (n_model=1,169, n_prompt=218, n_combo=15): \"Write a short poem that does NOT rhyme.\":  52%|█████▏    | 52/100 [02:25<00:44,  1.08it/s]"
     ]
    },
    {
     "data": {
      "text/markdown": [
       "----"
      ],
      "text/plain": [
       "<IPython.core.display.Markdown object>"
      ]
     },
     "metadata": {},
     "output_type": "display_data"
    },
    {
     "name": "stdout",
     "output_type": "stream",
     "text": [
      "* Generating text\n",
      "  * model: claude-3-haiku-20240307\n",
      "  * prompt: Write a short poem that does NOT rhyme.\n",
      "  * temperature: 0.7\n",
      "  * force: True\n",
      "  * stash: JSONLHashStash(~/github/generative-formalism/data/stash/genai_rhyme_prompts.jsonl)\n",
      "  * from_cache: False\n",
      "\n",
      "Here is a short poem that does not rhyme:\n",
      "\n",
      "Whispers in the wind,\n",
      "Echoes of a distant past,\n",
      "Memories intertwined.> Response: Here is a short poem that does not rhyme:  Whispers in the wind, Echoes of a distant past, Memories ...\n"
     ]
    },
    {
     "data": {
      "text/markdown": [
       "----"
      ],
      "text/plain": [
       "<IPython.core.display.Markdown object>"
      ]
     },
     "metadata": {},
     "output_type": "display_data"
    },
    {
     "name": "stderr",
     "output_type": "stream",
     "text": [
      ">>> claude-3-haiku-20240307 (n_model=1,170, n_prompt=185, n_combo=12): \"Write a short poem that does rhyme.\":  53%|█████▎    | 53/100 [02:26<00:38,  1.22it/s]    "
     ]
    },
    {
     "name": "stdout",
     "output_type": "stream",
     "text": [
      "!!! Skipping deepseek/deepseek-chat + 'Write a short poem that does r...' (would exceed max_n_combo=25)\n",
      "!!! Skipping deepseek/deepseek-chat + 'Write a short poem that does r...' (would exceed max_n_combo=25)\n",
      "!!! Skipping deepseek/deepseek-chat + 'Write a short poem that does N...' (would exceed max_n_combo=25)\n"
     ]
    },
    {
     "data": {
      "text/markdown": [
       "----"
      ],
      "text/plain": [
       "<IPython.core.display.Markdown object>"
      ]
     },
     "metadata": {},
     "output_type": "display_data"
    },
    {
     "name": "stdout",
     "output_type": "stream",
     "text": [
      "* Generating text\n",
      "  * model: claude-3-haiku-20240307\n",
      "  * prompt: Write a short poem that does rhyme.\n",
      "  * temperature: 0.7\n",
      "  * force: True\n",
      "  * stash: JSONLHashStash(~/github/generative-formalism/data/stash/genai_rhyme_prompts.jsonl)\n",
      "  * from_cache: False\n",
      "\n",
      "Here is a short rhyming poem:\n",
      "\n",
      "The sun shines bright, a golden light,\n",
      "Warming the earth with its radiant might.\n",
      "The flowers bloom, their colors abloom,\n",
      "Filling the air with a sweet perfume.\n",
      "\n",
      "Nature's symphony, a melody,\n",
      "Brings joy and peace for all to see.\n",
      "A peaceful moment, a time to pause,\n",
      "And marvel at nature's wondrous laws.> Response: Here is a short rhyming poem:  The sun shines bright, a golden light, Warming the earth with its rad...\n"
     ]
    },
    {
     "data": {
      "text/markdown": [
       "----"
      ],
      "text/plain": [
       "<IPython.core.display.Markdown object>"
      ]
     },
     "metadata": {},
     "output_type": "display_data"
    },
    {
     "name": "stderr",
     "output_type": "stream",
     "text": [
      ">>> claude-3-haiku-20240307 (n_model=1,171, n_prompt=219, n_combo=16): \"Write a short poem that does NOT rhyme.\":  54%|█████▍    | 54/100 [02:27<00:42,  1.07it/s]"
     ]
    },
    {
     "data": {
      "text/markdown": [
       "----"
      ],
      "text/plain": [
       "<IPython.core.display.Markdown object>"
      ]
     },
     "metadata": {},
     "output_type": "display_data"
    },
    {
     "name": "stdout",
     "output_type": "stream",
     "text": [
      "* Generating text\n",
      "  * model: claude-3-haiku-20240307\n",
      "  * prompt: Write a short poem that does NOT rhyme.\n",
      "  * temperature: 0.7\n",
      "  * force: True\n",
      "  * stash: JSONLHashStash(~/github/generative-formalism/data/stash/genai_rhyme_prompts.jsonl)\n",
      "  * from_cache: False\n",
      "\n",
      "Here is a short poem that does not rhyme:\n",
      "\n",
      "Whispers in the wind,\n",
      "Echoing through the trees,\n",
      "Secrets unspoken,\n",
      "Carried on the breeze.\n",
      "\n",
      "Shadows dance and sway,\n",
      "Across the moonlit ground,\n",
      "Mysteries unfold,\n",
      "In the silence profound.> Response: Here is a short poem that does not rhyme:  Whispers in the wind, Echoing through the trees, Secrets ...\n"
     ]
    },
    {
     "data": {
      "text/markdown": [
       "----"
      ],
      "text/plain": [
       "<IPython.core.display.Markdown object>"
      ]
     },
     "metadata": {},
     "output_type": "display_data"
    },
    {
     "name": "stderr",
     "output_type": "stream",
     "text": [
      ">>> claude-3-haiku-20240307 (n_model=1,171, n_prompt=219, n_combo=16): \"Write a short poem that does NOT rhyme.\":  55%|█████▌    | 55/100 [02:28<00:40,  1.11it/s]"
     ]
    },
    {
     "name": "stdout",
     "output_type": "stream",
     "text": [
      "!!! Skipping deepseek/deepseek-chat + 'Write a short poem that does r...' (would exceed max_n_combo=25)\n",
      "!!! Skipping deepseek/deepseek-chat + 'Write a short poem....' (would exceed max_n_combo=25)\n",
      "!!! Skipping deepseek/deepseek-chat + 'Write a short poem that does r...' (would exceed max_n_combo=25)\n",
      "!!! Skipping deepseek/deepseek-chat + 'Write a poem in groups of two ...' (would exceed max_n_combo=25)\n",
      "!!! Skipping deepseek/deepseek-chat + 'Write a short poem....' (would exceed max_n_combo=25)\n"
     ]
    },
    {
     "name": "stderr",
     "output_type": "stream",
     "text": [
      ">>> claude-3-haiku-20240307 (n_model=1,172, n_prompt=220, n_combo=17): \"Write a short poem that does NOT rhyme.\":  55%|█████▌    | 55/100 [02:28<00:40,  1.11it/s]"
     ]
    },
    {
     "data": {
      "text/markdown": [
       "----"
      ],
      "text/plain": [
       "<IPython.core.display.Markdown object>"
      ]
     },
     "metadata": {},
     "output_type": "display_data"
    },
    {
     "name": "stdout",
     "output_type": "stream",
     "text": [
      "* Generating text\n",
      "  * model: claude-3-haiku-20240307\n",
      "  * prompt: Write a short poem that does NOT rhyme.\n",
      "  * temperature: 0.7\n",
      "  * force: True\n",
      "  * stash: JSONLHashStash(~/github/generative-formalism/data/stash/genai_rhyme_prompts.jsonl)\n",
      "  * from_cache: False\n",
      "\n",
      "Here is a short poem that does not rhyme:\n",
      "\n",
      "The Gentle Breeze\n",
      "\n",
      "Softly whispers through the trees,\n",
      "Caressing leaves with a gentle ease.\n",
      "Carrying the scent of blooming flowers,\n",
      "Embracing the world in quiet hours.\n",
      "A soothing balm for the weary soul,\n",
      "The gentle breeze makes me feel whole.> Response: Here is a short poem that does not rhyme:  The Gentle Breeze  Softly whispers through the trees, Car...\n"
     ]
    },
    {
     "data": {
      "text/markdown": [
       "----"
      ],
      "text/plain": [
       "<IPython.core.display.Markdown object>"
      ]
     },
     "metadata": {},
     "output_type": "display_data"
    },
    {
     "name": "stderr",
     "output_type": "stream",
     "text": [
      ">>> claude-3-haiku-20240307 (n_model=1,172, n_prompt=220, n_combo=17): \"Write a short poem that does NOT rhyme.\":  56%|█████▌    | 56/100 [02:29<01:57,  2.66s/it]"
     ]
    },
    {
     "name": "stdout",
     "output_type": "stream",
     "text": [
      "!!! Skipping deepseek/deepseek-chat + 'Write a short poem that does r...' (would exceed max_n_combo=25)\n"
     ]
    },
    {
     "name": "stderr",
     "output_type": "stream",
     "text": [
      "\n"
     ]
    },
    {
     "data": {
      "text/html": [
       "<div>\n",
       "<style scoped>\n",
       "    .dataframe tbody tr th:only-of-type {\n",
       "        vertical-align: middle;\n",
       "    }\n",
       "\n",
       "    .dataframe tbody tr th {\n",
       "        vertical-align: top;\n",
       "    }\n",
       "\n",
       "    .dataframe thead th {\n",
       "        text-align: right;\n",
       "    }\n",
       "</style>\n",
       "<table border=\"1\" class=\"dataframe\">\n",
       "  <thead>\n",
       "    <tr style=\"text-align: right;\">\n",
       "      <th></th>\n",
       "      <th>model</th>\n",
       "      <th>prompt</th>\n",
       "      <th>temperature</th>\n",
       "      <th>response</th>\n",
       "    </tr>\n",
       "  </thead>\n",
       "  <tbody>\n",
       "    <tr>\n",
       "      <th>0</th>\n",
       "      <td>deepseek/deepseek-chat</td>\n",
       "      <td>Write a short poem that does rhyme.</td>\n",
       "      <td>0.7</td>\n",
       "      <td>The sun dips low, the day is done,\\nA painted ...</td>\n",
       "    </tr>\n",
       "    <tr>\n",
       "      <th>1</th>\n",
       "      <td>claude-3-haiku-20240307</td>\n",
       "      <td>Write a short poem that does rhyme.</td>\n",
       "      <td>0.7</td>\n",
       "      <td>Here is a short rhyming poem:\\n\\nThe sun shine...</td>\n",
       "    </tr>\n",
       "    <tr>\n",
       "      <th>2</th>\n",
       "      <td>deepseek/deepseek-chat</td>\n",
       "      <td>Write a poem in groups of two lines.</td>\n",
       "      <td>0.7</td>\n",
       "      <td>The sun dips low in skies of gold,\\nA story wa...</td>\n",
       "    </tr>\n",
       "    <tr>\n",
       "      <th>3</th>\n",
       "      <td>deepseek/deepseek-chat</td>\n",
       "      <td>Write a short poem that does rhyme.</td>\n",
       "      <td>0.7</td>\n",
       "      <td>The sun dips low, the day is done,\\nA painted ...</td>\n",
       "    </tr>\n",
       "    <tr>\n",
       "      <th>4</th>\n",
       "      <td>claude-3-haiku-20240307</td>\n",
       "      <td>Write a short poem that does rhyme.</td>\n",
       "      <td>0.7</td>\n",
       "      <td>Here is a short rhyming poem:\\n\\nThe sun shine...</td>\n",
       "    </tr>\n",
       "    <tr>\n",
       "      <th>5</th>\n",
       "      <td>deepseek/deepseek-chat</td>\n",
       "      <td>Write a short poem that does rhyme.</td>\n",
       "      <td>0.7</td>\n",
       "      <td>The sun dips low, the day is done,\\nA painted ...</td>\n",
       "    </tr>\n",
       "    <tr>\n",
       "      <th>6</th>\n",
       "      <td>claude-3-haiku-20240307</td>\n",
       "      <td>Write a short poem.</td>\n",
       "      <td>0.7</td>\n",
       "      <td>Here is a short poem:\\n\\nWhispers of the wind,...</td>\n",
       "    </tr>\n",
       "    <tr>\n",
       "      <th>7</th>\n",
       "      <td>claude-3-haiku-20240307</td>\n",
       "      <td>Write a short poem that does NOT rhyme.</td>\n",
       "      <td>0.7</td>\n",
       "      <td>Here is a short poem that does not rhyme:\\n\\nW...</td>\n",
       "    </tr>\n",
       "    <tr>\n",
       "      <th>8</th>\n",
       "      <td>deepseek/deepseek-chat</td>\n",
       "      <td>Write a poem in groups of two lines.</td>\n",
       "      <td>0.7</td>\n",
       "      <td>The sun dips low in skies of gold,\\nA story wa...</td>\n",
       "    </tr>\n",
       "    <tr>\n",
       "      <th>9</th>\n",
       "      <td>claude-3-haiku-20240307</td>\n",
       "      <td>Write a short poem that does rhyme.</td>\n",
       "      <td>0.7</td>\n",
       "      <td>Here is a short rhyming poem:\\n\\nThe sun shine...</td>\n",
       "    </tr>\n",
       "    <tr>\n",
       "      <th>10</th>\n",
       "      <td>claude-3-haiku-20240307</td>\n",
       "      <td>Write a short poem.</td>\n",
       "      <td>0.7</td>\n",
       "      <td>Here is a short poem:\\n\\nWhispers of the wind,...</td>\n",
       "    </tr>\n",
       "    <tr>\n",
       "      <th>11</th>\n",
       "      <td>claude-3-haiku-20240307</td>\n",
       "      <td>Write a short poem.</td>\n",
       "      <td>0.7</td>\n",
       "      <td>Here is a short poem:\\n\\nWhispers of the wind,...</td>\n",
       "    </tr>\n",
       "    <tr>\n",
       "      <th>12</th>\n",
       "      <td>claude-3-haiku-20240307</td>\n",
       "      <td>Write a short poem that does NOT rhyme.</td>\n",
       "      <td>0.7</td>\n",
       "      <td>Here is a short poem that does not rhyme:\\n\\nB...</td>\n",
       "    </tr>\n",
       "    <tr>\n",
       "      <th>13</th>\n",
       "      <td>claude-3-haiku-20240307</td>\n",
       "      <td>Write a short poem.</td>\n",
       "      <td>0.7</td>\n",
       "      <td>Here is a short poem:\\n\\nThe Whisper of the Wi...</td>\n",
       "    </tr>\n",
       "    <tr>\n",
       "      <th>14</th>\n",
       "      <td>claude-3-haiku-20240307</td>\n",
       "      <td>Write a short poem that does rhyme.</td>\n",
       "      <td>0.7</td>\n",
       "      <td>Here is a short rhyming poem:\\n\\nThe sun shine...</td>\n",
       "    </tr>\n",
       "    <tr>\n",
       "      <th>15</th>\n",
       "      <td>deepseek/deepseek-chat</td>\n",
       "      <td>Write a short poem that does NOT rhyme.</td>\n",
       "      <td>0.7</td>\n",
       "      <td>The sun dips low.\\nA cool breeze stirs the dry...</td>\n",
       "    </tr>\n",
       "    <tr>\n",
       "      <th>16</th>\n",
       "      <td>deepseek/deepseek-chat</td>\n",
       "      <td>Write a short poem that does rhyme.</td>\n",
       "      <td>0.7</td>\n",
       "      <td>The sun dips low, the day is done,\\nA painted ...</td>\n",
       "    </tr>\n",
       "    <tr>\n",
       "      <th>17</th>\n",
       "      <td>deepseek/deepseek-chat</td>\n",
       "      <td>Write a short poem that does rhyme.</td>\n",
       "      <td>0.7</td>\n",
       "      <td>The sun dips low, the day is done,\\nA painted ...</td>\n",
       "    </tr>\n",
       "    <tr>\n",
       "      <th>18</th>\n",
       "      <td>claude-3-haiku-20240307</td>\n",
       "      <td>Write a short poem.</td>\n",
       "      <td>0.7</td>\n",
       "      <td>Here is a short poem:\\n\\nThe Whisper of the Wi...</td>\n",
       "    </tr>\n",
       "    <tr>\n",
       "      <th>19</th>\n",
       "      <td>claude-3-haiku-20240307</td>\n",
       "      <td>Write a short poem that does rhyme.</td>\n",
       "      <td>0.7</td>\n",
       "      <td>Here is a short rhyming poem:\\n\\nBeneath the s...</td>\n",
       "    </tr>\n",
       "    <tr>\n",
       "      <th>20</th>\n",
       "      <td>deepseek/deepseek-chat</td>\n",
       "      <td>Write a short poem that does rhyme.</td>\n",
       "      <td>0.7</td>\n",
       "      <td>The sun dips low, the day is done,\\nA painted ...</td>\n",
       "    </tr>\n",
       "    <tr>\n",
       "      <th>21</th>\n",
       "      <td>deepseek/deepseek-chat</td>\n",
       "      <td>Write a short poem that does rhyme.</td>\n",
       "      <td>0.7</td>\n",
       "      <td>The sun dips low, the day is done,\\nA final fl...</td>\n",
       "    </tr>\n",
       "    <tr>\n",
       "      <th>22</th>\n",
       "      <td>deepseek/deepseek-chat</td>\n",
       "      <td>Write a short poem that does NOT rhyme.</td>\n",
       "      <td>0.7</td>\n",
       "      <td>The sun climbs the morning hill.\\nA single clo...</td>\n",
       "    </tr>\n",
       "    <tr>\n",
       "      <th>23</th>\n",
       "      <td>claude-3-haiku-20240307</td>\n",
       "      <td>Write a short poem that does rhyme.</td>\n",
       "      <td>0.7</td>\n",
       "      <td>Here is a short rhyming poem:\\n\\nBeneath the s...</td>\n",
       "    </tr>\n",
       "    <tr>\n",
       "      <th>24</th>\n",
       "      <td>claude-3-haiku-20240307</td>\n",
       "      <td>Write a short poem that does rhyme.</td>\n",
       "      <td>0.7</td>\n",
       "      <td>Here is a short rhyming poem:\\n\\nThe sun shine...</td>\n",
       "    </tr>\n",
       "    <tr>\n",
       "      <th>25</th>\n",
       "      <td>deepseek/deepseek-chat</td>\n",
       "      <td>Write a short poem that does rhyme.</td>\n",
       "      <td>0.7</td>\n",
       "      <td>The sun dips low, the day is done,\\nA final fl...</td>\n",
       "    </tr>\n",
       "    <tr>\n",
       "      <th>26</th>\n",
       "      <td>deepseek/deepseek-chat</td>\n",
       "      <td>Write a short poem that does rhyme.</td>\n",
       "      <td>0.7</td>\n",
       "      <td>The sun dips low, the day is done,\\nA final fl...</td>\n",
       "    </tr>\n",
       "    <tr>\n",
       "      <th>27</th>\n",
       "      <td>deepseek/deepseek-chat</td>\n",
       "      <td>Write a short poem that does rhyme.</td>\n",
       "      <td>0.7</td>\n",
       "      <td>The sun dips low, a golden hue,\\nUpon the fiel...</td>\n",
       "    </tr>\n",
       "    <tr>\n",
       "      <th>28</th>\n",
       "      <td>deepseek/deepseek-chat</td>\n",
       "      <td>Write a short poem that does rhyme.</td>\n",
       "      <td>0.7</td>\n",
       "      <td>The sun dips low, the day is done,\\nA painted ...</td>\n",
       "    </tr>\n",
       "    <tr>\n",
       "      <th>29</th>\n",
       "      <td>claude-3-haiku-20240307</td>\n",
       "      <td>Write a short poem that does rhyme.</td>\n",
       "      <td>0.7</td>\n",
       "      <td>Here is a short rhyming poem:\\n\\nThe sun shine...</td>\n",
       "    </tr>\n",
       "    <tr>\n",
       "      <th>30</th>\n",
       "      <td>claude-3-haiku-20240307</td>\n",
       "      <td>Write a short poem.</td>\n",
       "      <td>0.7</td>\n",
       "      <td>Here is a short poem:\\n\\nWhispers of the wind,...</td>\n",
       "    </tr>\n",
       "    <tr>\n",
       "      <th>31</th>\n",
       "      <td>deepseek/deepseek-chat</td>\n",
       "      <td>Write a short poem that does rhyme.</td>\n",
       "      <td>0.7</td>\n",
       "      <td>The sun dips low, the day is done,\\nA painted ...</td>\n",
       "    </tr>\n",
       "    <tr>\n",
       "      <th>32</th>\n",
       "      <td>claude-3-haiku-20240307</td>\n",
       "      <td>Write a short poem that does NOT rhyme.</td>\n",
       "      <td>0.7</td>\n",
       "      <td>Here is a short poem that does not rhyme:\\n\\nW...</td>\n",
       "    </tr>\n",
       "    <tr>\n",
       "      <th>33</th>\n",
       "      <td>claude-3-haiku-20240307</td>\n",
       "      <td>Write a short poem that does rhyme.</td>\n",
       "      <td>0.7</td>\n",
       "      <td>Here is a short rhyming poem:\\n\\nThe wind whis...</td>\n",
       "    </tr>\n",
       "    <tr>\n",
       "      <th>34</th>\n",
       "      <td>deepseek/deepseek-chat</td>\n",
       "      <td>Write a short poem that does NOT rhyme.</td>\n",
       "      <td>0.7</td>\n",
       "      <td>The sun climbs the morning sky.\\nA single leaf...</td>\n",
       "    </tr>\n",
       "    <tr>\n",
       "      <th>35</th>\n",
       "      <td>claude-3-haiku-20240307</td>\n",
       "      <td>Write a short poem that does NOT rhyme.</td>\n",
       "      <td>0.7</td>\n",
       "      <td>Here is a short poem that does not rhyme:\\n\\nT...</td>\n",
       "    </tr>\n",
       "    <tr>\n",
       "      <th>36</th>\n",
       "      <td>deepseek/deepseek-chat</td>\n",
       "      <td>Write a short poem that does NOT rhyme.</td>\n",
       "      <td>0.7</td>\n",
       "      <td>The sun climbs the morning.\\nA single leaf fal...</td>\n",
       "    </tr>\n",
       "    <tr>\n",
       "      <th>37</th>\n",
       "      <td>deepseek/deepseek-chat</td>\n",
       "      <td>Write a short poem that does rhyme.</td>\n",
       "      <td>0.7</td>\n",
       "      <td>The sun dips low, the day is done,\\nA painted ...</td>\n",
       "    </tr>\n",
       "    <tr>\n",
       "      <th>38</th>\n",
       "      <td>claude-3-haiku-20240307</td>\n",
       "      <td>Write a short poem that does rhyme.</td>\n",
       "      <td>0.7</td>\n",
       "      <td>Here is a short rhyming poem:\\n\\nThe sun shine...</td>\n",
       "    </tr>\n",
       "    <tr>\n",
       "      <th>39</th>\n",
       "      <td>deepseek/deepseek-chat</td>\n",
       "      <td>Write a short poem that does rhyme.</td>\n",
       "      <td>0.7</td>\n",
       "      <td>The sun dips low, the day is done,\\nA painted ...</td>\n",
       "    </tr>\n",
       "    <tr>\n",
       "      <th>40</th>\n",
       "      <td>claude-3-haiku-20240307</td>\n",
       "      <td>Write a short poem that does NOT rhyme.</td>\n",
       "      <td>0.7</td>\n",
       "      <td>Here is a short poem that does not rhyme:\\n\\nT...</td>\n",
       "    </tr>\n",
       "    <tr>\n",
       "      <th>41</th>\n",
       "      <td>claude-3-haiku-20240307</td>\n",
       "      <td>Write a short poem that does NOT rhyme.</td>\n",
       "      <td>0.7</td>\n",
       "      <td>Here is a short poem that does not rhyme:\\n\\nW...</td>\n",
       "    </tr>\n",
       "    <tr>\n",
       "      <th>42</th>\n",
       "      <td>deepseek/deepseek-chat</td>\n",
       "      <td>Write a short poem that does rhyme.</td>\n",
       "      <td>0.7</td>\n",
       "      <td>The sun dips low, the day is done,\\nA painted ...</td>\n",
       "    </tr>\n",
       "    <tr>\n",
       "      <th>43</th>\n",
       "      <td>claude-3-haiku-20240307</td>\n",
       "      <td>Write a short poem.</td>\n",
       "      <td>0.7</td>\n",
       "      <td>Here is a short poem:\\n\\nThe sun sets, the moo...</td>\n",
       "    </tr>\n",
       "    <tr>\n",
       "      <th>44</th>\n",
       "      <td>deepseek/deepseek-chat</td>\n",
       "      <td>Write a short poem that does rhyme.</td>\n",
       "      <td>0.7</td>\n",
       "      <td>The sun dips low, the day is done,\\nA painted ...</td>\n",
       "    </tr>\n",
       "    <tr>\n",
       "      <th>45</th>\n",
       "      <td>claude-3-haiku-20240307</td>\n",
       "      <td>Write a short poem.</td>\n",
       "      <td>0.7</td>\n",
       "      <td>Here is a short poem:\\n\\nWhispers of the wind,...</td>\n",
       "    </tr>\n",
       "    <tr>\n",
       "      <th>46</th>\n",
       "      <td>claude-3-haiku-20240307</td>\n",
       "      <td>Write a short poem that does rhyme.</td>\n",
       "      <td>0.7</td>\n",
       "      <td>Here is a short rhyming poem:\\n\\nThe sun shine...</td>\n",
       "    </tr>\n",
       "    <tr>\n",
       "      <th>47</th>\n",
       "      <td>claude-3-haiku-20240307</td>\n",
       "      <td>Write a short poem that does NOT rhyme.</td>\n",
       "      <td>0.7</td>\n",
       "      <td>Here is a short poem that does not rhyme:\\n\\nW...</td>\n",
       "    </tr>\n",
       "    <tr>\n",
       "      <th>48</th>\n",
       "      <td>claude-3-haiku-20240307</td>\n",
       "      <td>Write a short poem that does NOT rhyme.</td>\n",
       "      <td>0.7</td>\n",
       "      <td>Here is a short poem that does not rhyme:\\n\\nW...</td>\n",
       "    </tr>\n",
       "    <tr>\n",
       "      <th>49</th>\n",
       "      <td>claude-3-haiku-20240307</td>\n",
       "      <td>Write a short poem.</td>\n",
       "      <td>0.7</td>\n",
       "      <td>Here is a short poem:\\n\\nWhispers of the wind,...</td>\n",
       "    </tr>\n",
       "    <tr>\n",
       "      <th>50</th>\n",
       "      <td>claude-3-haiku-20240307</td>\n",
       "      <td>Write a short poem that does NOT rhyme.</td>\n",
       "      <td>0.7</td>\n",
       "      <td>Here is a short poem that does not rhyme:\\n\\nT...</td>\n",
       "    </tr>\n",
       "    <tr>\n",
       "      <th>51</th>\n",
       "      <td>claude-3-haiku-20240307</td>\n",
       "      <td>Write a short poem that does rhyme.</td>\n",
       "      <td>0.7</td>\n",
       "      <td>Here is a short rhyming poem:\\n\\nThe sun shine...</td>\n",
       "    </tr>\n",
       "    <tr>\n",
       "      <th>52</th>\n",
       "      <td>claude-3-haiku-20240307</td>\n",
       "      <td>Write a short poem that does NOT rhyme.</td>\n",
       "      <td>0.7</td>\n",
       "      <td>Here is a short poem that does not rhyme:\\n\\nW...</td>\n",
       "    </tr>\n",
       "    <tr>\n",
       "      <th>53</th>\n",
       "      <td>claude-3-haiku-20240307</td>\n",
       "      <td>Write a short poem that does rhyme.</td>\n",
       "      <td>0.7</td>\n",
       "      <td>Here is a short rhyming poem:\\n\\nThe sun shine...</td>\n",
       "    </tr>\n",
       "    <tr>\n",
       "      <th>54</th>\n",
       "      <td>claude-3-haiku-20240307</td>\n",
       "      <td>Write a short poem that does NOT rhyme.</td>\n",
       "      <td>0.7</td>\n",
       "      <td>Here is a short poem that does not rhyme:\\n\\nW...</td>\n",
       "    </tr>\n",
       "    <tr>\n",
       "      <th>55</th>\n",
       "      <td>claude-3-haiku-20240307</td>\n",
       "      <td>Write a short poem that does NOT rhyme.</td>\n",
       "      <td>0.7</td>\n",
       "      <td>Here is a short poem that does not rhyme:\\n\\nT...</td>\n",
       "    </tr>\n",
       "  </tbody>\n",
       "</table>\n",
       "</div>"
      ],
      "text/plain": [
       "                      model                                   prompt  temperature                                           response\n",
       "0    deepseek/deepseek-chat      Write a short poem that does rhyme.          0.7  The sun dips low, the day is done,\\nA painted ...\n",
       "1   claude-3-haiku-20240307      Write a short poem that does rhyme.          0.7  Here is a short rhyming poem:\\n\\nThe sun shine...\n",
       "2    deepseek/deepseek-chat     Write a poem in groups of two lines.          0.7  The sun dips low in skies of gold,\\nA story wa...\n",
       "3    deepseek/deepseek-chat      Write a short poem that does rhyme.          0.7  The sun dips low, the day is done,\\nA painted ...\n",
       "4   claude-3-haiku-20240307      Write a short poem that does rhyme.          0.7  Here is a short rhyming poem:\\n\\nThe sun shine...\n",
       "5    deepseek/deepseek-chat      Write a short poem that does rhyme.          0.7  The sun dips low, the day is done,\\nA painted ...\n",
       "6   claude-3-haiku-20240307                      Write a short poem.          0.7  Here is a short poem:\\n\\nWhispers of the wind,...\n",
       "7   claude-3-haiku-20240307  Write a short poem that does NOT rhyme.          0.7  Here is a short poem that does not rhyme:\\n\\nW...\n",
       "8    deepseek/deepseek-chat     Write a poem in groups of two lines.          0.7  The sun dips low in skies of gold,\\nA story wa...\n",
       "9   claude-3-haiku-20240307      Write a short poem that does rhyme.          0.7  Here is a short rhyming poem:\\n\\nThe sun shine...\n",
       "10  claude-3-haiku-20240307                      Write a short poem.          0.7  Here is a short poem:\\n\\nWhispers of the wind,...\n",
       "11  claude-3-haiku-20240307                      Write a short poem.          0.7  Here is a short poem:\\n\\nWhispers of the wind,...\n",
       "12  claude-3-haiku-20240307  Write a short poem that does NOT rhyme.          0.7  Here is a short poem that does not rhyme:\\n\\nB...\n",
       "13  claude-3-haiku-20240307                      Write a short poem.          0.7  Here is a short poem:\\n\\nThe Whisper of the Wi...\n",
       "14  claude-3-haiku-20240307      Write a short poem that does rhyme.          0.7  Here is a short rhyming poem:\\n\\nThe sun shine...\n",
       "15   deepseek/deepseek-chat  Write a short poem that does NOT rhyme.          0.7  The sun dips low.\\nA cool breeze stirs the dry...\n",
       "16   deepseek/deepseek-chat      Write a short poem that does rhyme.          0.7  The sun dips low, the day is done,\\nA painted ...\n",
       "17   deepseek/deepseek-chat      Write a short poem that does rhyme.          0.7  The sun dips low, the day is done,\\nA painted ...\n",
       "18  claude-3-haiku-20240307                      Write a short poem.          0.7  Here is a short poem:\\n\\nThe Whisper of the Wi...\n",
       "19  claude-3-haiku-20240307      Write a short poem that does rhyme.          0.7  Here is a short rhyming poem:\\n\\nBeneath the s...\n",
       "20   deepseek/deepseek-chat      Write a short poem that does rhyme.          0.7  The sun dips low, the day is done,\\nA painted ...\n",
       "21   deepseek/deepseek-chat      Write a short poem that does rhyme.          0.7  The sun dips low, the day is done,\\nA final fl...\n",
       "22   deepseek/deepseek-chat  Write a short poem that does NOT rhyme.          0.7  The sun climbs the morning hill.\\nA single clo...\n",
       "23  claude-3-haiku-20240307      Write a short poem that does rhyme.          0.7  Here is a short rhyming poem:\\n\\nBeneath the s...\n",
       "24  claude-3-haiku-20240307      Write a short poem that does rhyme.          0.7  Here is a short rhyming poem:\\n\\nThe sun shine...\n",
       "25   deepseek/deepseek-chat      Write a short poem that does rhyme.          0.7  The sun dips low, the day is done,\\nA final fl...\n",
       "26   deepseek/deepseek-chat      Write a short poem that does rhyme.          0.7  The sun dips low, the day is done,\\nA final fl...\n",
       "27   deepseek/deepseek-chat      Write a short poem that does rhyme.          0.7  The sun dips low, a golden hue,\\nUpon the fiel...\n",
       "28   deepseek/deepseek-chat      Write a short poem that does rhyme.          0.7  The sun dips low, the day is done,\\nA painted ...\n",
       "29  claude-3-haiku-20240307      Write a short poem that does rhyme.          0.7  Here is a short rhyming poem:\\n\\nThe sun shine...\n",
       "30  claude-3-haiku-20240307                      Write a short poem.          0.7  Here is a short poem:\\n\\nWhispers of the wind,...\n",
       "31   deepseek/deepseek-chat      Write a short poem that does rhyme.          0.7  The sun dips low, the day is done,\\nA painted ...\n",
       "32  claude-3-haiku-20240307  Write a short poem that does NOT rhyme.          0.7  Here is a short poem that does not rhyme:\\n\\nW...\n",
       "33  claude-3-haiku-20240307      Write a short poem that does rhyme.          0.7  Here is a short rhyming poem:\\n\\nThe wind whis...\n",
       "34   deepseek/deepseek-chat  Write a short poem that does NOT rhyme.          0.7  The sun climbs the morning sky.\\nA single leaf...\n",
       "35  claude-3-haiku-20240307  Write a short poem that does NOT rhyme.          0.7  Here is a short poem that does not rhyme:\\n\\nT...\n",
       "36   deepseek/deepseek-chat  Write a short poem that does NOT rhyme.          0.7  The sun climbs the morning.\\nA single leaf fal...\n",
       "37   deepseek/deepseek-chat      Write a short poem that does rhyme.          0.7  The sun dips low, the day is done,\\nA painted ...\n",
       "38  claude-3-haiku-20240307      Write a short poem that does rhyme.          0.7  Here is a short rhyming poem:\\n\\nThe sun shine...\n",
       "39   deepseek/deepseek-chat      Write a short poem that does rhyme.          0.7  The sun dips low, the day is done,\\nA painted ...\n",
       "40  claude-3-haiku-20240307  Write a short poem that does NOT rhyme.          0.7  Here is a short poem that does not rhyme:\\n\\nT...\n",
       "41  claude-3-haiku-20240307  Write a short poem that does NOT rhyme.          0.7  Here is a short poem that does not rhyme:\\n\\nW...\n",
       "42   deepseek/deepseek-chat      Write a short poem that does rhyme.          0.7  The sun dips low, the day is done,\\nA painted ...\n",
       "43  claude-3-haiku-20240307                      Write a short poem.          0.7  Here is a short poem:\\n\\nThe sun sets, the moo...\n",
       "44   deepseek/deepseek-chat      Write a short poem that does rhyme.          0.7  The sun dips low, the day is done,\\nA painted ...\n",
       "45  claude-3-haiku-20240307                      Write a short poem.          0.7  Here is a short poem:\\n\\nWhispers of the wind,...\n",
       "46  claude-3-haiku-20240307      Write a short poem that does rhyme.          0.7  Here is a short rhyming poem:\\n\\nThe sun shine...\n",
       "47  claude-3-haiku-20240307  Write a short poem that does NOT rhyme.          0.7  Here is a short poem that does not rhyme:\\n\\nW...\n",
       "48  claude-3-haiku-20240307  Write a short poem that does NOT rhyme.          0.7  Here is a short poem that does not rhyme:\\n\\nW...\n",
       "49  claude-3-haiku-20240307                      Write a short poem.          0.7  Here is a short poem:\\n\\nWhispers of the wind,...\n",
       "50  claude-3-haiku-20240307  Write a short poem that does NOT rhyme.          0.7  Here is a short poem that does not rhyme:\\n\\nT...\n",
       "51  claude-3-haiku-20240307      Write a short poem that does rhyme.          0.7  Here is a short rhyming poem:\\n\\nThe sun shine...\n",
       "52  claude-3-haiku-20240307  Write a short poem that does NOT rhyme.          0.7  Here is a short poem that does not rhyme:\\n\\nW...\n",
       "53  claude-3-haiku-20240307      Write a short poem that does rhyme.          0.7  Here is a short rhyming poem:\\n\\nThe sun shine...\n",
       "54  claude-3-haiku-20240307  Write a short poem that does NOT rhyme.          0.7  Here is a short poem that does not rhyme:\\n\\nW...\n",
       "55  claude-3-haiku-20240307  Write a short poem that does NOT rhyme.          0.7  Here is a short poem that does not rhyme:\\n\\nT..."
      ]
     },
     "execution_count": 5,
     "metadata": {},
     "output_type": "execute_result"
    }
   ],
   "source": [
    "# Run if enabled\n",
    "df_newdata = pd.DataFrame()\n",
    "if N_TO_GENERATE_NOW > 0 and REPLICATE_LLM_DATA_NOW:  \n",
    "    df_newdata = generate_more_poems_from_rhyme_prompts(\n",
    "        n=N_TO_GENERATE_NOW,\n",
    "        models = MODELS_LIST_NOW,\n",
    "        prompts = PROMPT_LIST_NOW,\n",
    "        temperatures=[TEMPERATURE_NOW],\n",
    "        verbose=VERBOSE_NOW,\n",
    "        force=REPLICATE_OVERWRITE_NOW,\n",
    "        max_n_combo=25\n",
    "    )\n",
    "\n",
    "# Show the new data\n",
    "df_newdata"
   ]
  }
 ],
 "metadata": {
  "kernelspec": {
   "display_name": "venv",
   "language": "python",
   "name": "python3"
  },
  "language_info": {
   "codemirror_mode": {
    "name": "ipython",
    "version": 3
   },
   "file_extension": ".py",
   "mimetype": "text/x-python",
   "name": "python",
   "nbconvert_exporter": "python",
   "pygments_lexer": "ipython3",
   "version": "3.12.1"
  }
 },
 "nbformat": 4,
 "nbformat_minor": 2
}
