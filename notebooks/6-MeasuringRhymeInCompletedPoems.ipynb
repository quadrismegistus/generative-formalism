{
 "cells": [
  {
   "cell_type": "markdown",
   "metadata": {},
   "source": [
    "# Rhyme"
   ]
  },
  {
   "cell_type": "code",
   "execution_count": 1,
   "metadata": {},
   "outputs": [],
   "source": [
    "# !pip install -r ../requirements.txt\n",
    "import sys\n",
    "sys.path.append('../')\n",
    "from generative_formalism import *"
   ]
  },
  {
   "cell_type": "code",
   "execution_count": 2,
   "metadata": {},
   "outputs": [
    {
     "name": "stderr",
     "output_type": "stream",
     "text": [
      "100%|██████████| 22458/22458 [00:05<00:00, 3769.20it/s]\n"
     ]
    },
    {
     "data": {
      "text/plain": [
       "np.float64(94.73684210526316)"
      ]
     },
     "execution_count": 2,
     "metadata": {},
     "output_type": "execute_result"
    }
   ],
   "source": [
    "df = get_rhyme_for_completed_poems()\n",
    "df.line_sim.max()"
   ]
  },
  {
   "cell_type": "code",
   "execution_count": 3,
   "metadata": {},
   "outputs": [
    {
     "data": {
      "text/plain": [
       "5823"
      ]
     },
     "execution_count": 3,
     "metadata": {},
     "output_type": "execute_result"
    }
   ],
   "source": [
    "df[df.model!=HIST].id_human.nunique()"
   ]
  },
  {
   "cell_type": "code",
   "execution_count": 4,
   "metadata": {},
   "outputs": [
    {
     "data": {
      "text/plain": [
       "8571"
      ]
     },
     "execution_count": 4,
     "metadata": {},
     "output_type": "execute_result"
    }
   ],
   "source": [
    "len(df[df.model!=HIST])"
   ]
  },
  {
   "cell_type": "code",
   "execution_count": 5,
   "metadata": {},
   "outputs": [
    {
     "data": {
      "text/plain": [
       "count     40.000000\n",
       "mean     214.275000\n",
       "std      122.988219\n",
       "min       63.000000\n",
       "25%      113.750000\n",
       "50%      151.500000\n",
       "75%      320.250000\n",
       "max      488.000000\n",
       "Name: count, dtype: float64"
      ]
     },
     "execution_count": 5,
     "metadata": {},
     "output_type": "execute_result"
    }
   ],
   "source": [
    "figdf_avg = get_avgs_df(df, gby=['period','model'])\n",
    "figdf_avg['count'].describe()"
   ]
  },
  {
   "cell_type": "code",
   "execution_count": 6,
   "metadata": {},
   "outputs": [
    {
     "data": {
      "text/plain": [
       "count     40.000000\n",
       "mean     214.275000\n",
       "std      122.988219\n",
       "min       63.000000\n",
       "25%      113.750000\n",
       "50%      151.500000\n",
       "75%      320.250000\n",
       "max      488.000000\n",
       "Name: count, dtype: float64"
      ]
     },
     "execution_count": 6,
     "metadata": {},
     "output_type": "execute_result"
    }
   ],
   "source": [
    "figdf_avg[figdf_avg.model!=HIST]['count'].describe()"
   ]
  },
  {
   "cell_type": "code",
   "execution_count": 7,
   "metadata": {},
   "outputs": [
    {
     "data": {
      "text/plain": [
       "np.int64(8571)"
      ]
     },
     "execution_count": 7,
     "metadata": {},
     "output_type": "execute_result"
    }
   ],
   "source": [
    "figdf_avg[figdf_avg.model!=HIST]['count'].sum()"
   ]
  },
  {
   "cell_type": "code",
   "execution_count": null,
   "metadata": {},
   "outputs": [
    {
     "ename": "NameError",
     "evalue": "name 'p9' is not defined",
     "output_type": "error",
     "traceback": [
      "\u001b[0;31m---------------------------------------------------------------------------\u001b[0m",
      "\u001b[0;31mNameError\u001b[0m                                 Traceback (most recent call last)",
      "Cell \u001b[0;32mIn[1], line 1\u001b[0m\n\u001b[0;32m----> 1\u001b[0m \u001b[43mp9\u001b[49m\u001b[38;5;241m.\u001b[39moptions\u001b[38;5;241m.\u001b[39mfigure_size \u001b[38;5;241m=\u001b[39m (\u001b[38;5;241m10\u001b[39m, \u001b[38;5;241m6\u001b[39m)\n\u001b[1;32m      2\u001b[0m models \u001b[38;5;241m=\u001b[39m [HIST] \u001b[38;5;241m+\u001b[39m [x \u001b[38;5;28;01mfor\u001b[39;00m x \u001b[38;5;129;01min\u001b[39;00m \u001b[38;5;28msorted\u001b[39m(figdf_avg\u001b[38;5;241m.\u001b[39mmodel\u001b[38;5;241m.\u001b[39munique()) \u001b[38;5;28;01mif\u001b[39;00m x\u001b[38;5;241m!=\u001b[39mHIST]\n\u001b[1;32m      3\u001b[0m figdf_avg[\u001b[38;5;124m'\u001b[39m\u001b[38;5;124mmodel\u001b[39m\u001b[38;5;124m'\u001b[39m] \u001b[38;5;241m=\u001b[39m pd\u001b[38;5;241m.\u001b[39mCategorical(figdf_avg\u001b[38;5;241m.\u001b[39mmodel, categories\u001b[38;5;241m=\u001b[39mmodels)\n",
      "\u001b[0;31mNameError\u001b[0m: name 'p9' is not defined"
     ]
    }
   ],
   "source": [
    "p9.options.figure_size = (10, 6)\n",
    "models = [HIST] + [x for x in sorted(figdf_avg.model.unique()) if x!=HIST]\n",
    "figdf_avg['model'] = pd.Categorical(figdf_avg.model, categories=models)\n",
    "\n",
    "fig = p9.ggplot(figdf_avg, p9.aes(x='period', y='mean', color='model', group='model'))\n",
    "fig += p9.geom_point(p9.aes(size='count'), shape='o', alpha=.3)\n",
    "fig += p9.geom_line()\n",
    "fig += p9.geom_errorbar(\n",
    "    p9.aes(ymin='mean - stderr', ymax='mean + stderr'),\n",
    "    width=0.25,\n",
    "    # alpha=0.6\n",
    ")\n",
    "fig += p9.theme_minimal()\n",
    "\n",
    "fig += p9.geom_text(\n",
    "    p9.aes(label='model'),\n",
    "    data=figdf_avg[figdf_avg.period=='1950-2000'],\n",
    "    adjust_text={'x':0.05, 'y':0.05, 'arrowprops': dict(arrowstyle='-', alpha=0)},\n",
    "    \n",
    "    show_legend=False,\n",
    ")\n",
    "\n",
    "fig += p9.theme(panel_background=p9.element_rect(fill='white'), plot_background=p9.element_rect(fill='white'))\n",
    "fig += p9.geom_hline(yintercept=50, color='gray', linetype='dashed')\n",
    "fig += p9.scale_y_continuous(limits=(0,100))\n",
    "fig += p9.labs(\n",
    "    x='Half-century of poet\\'s birth',\n",
    "    y='Predicted percentage of rhyming poems',\n",
    "    color='Model',\n",
    "    size='Number of poems',\n",
    "    title='Predicted percentage of rhyming poems in generative completions of poems by their historical period',\n",
    "\n",
    ")\n",
    "fig.save('../figures/rhyme_avgs_by_period_completions.png')\n",
    "fig"
   ]
  },
  {
   "cell_type": "code",
   "execution_count": 15,
   "metadata": {},
   "outputs": [
    {
     "data": {
      "text/plain": [
       "count    14813.000000\n",
       "mean        12.564707\n",
       "std          3.089484\n",
       "min         10.000000\n",
       "25%         11.000000\n",
       "50%         12.000000\n",
       "75%         14.000000\n",
       "max        108.000000\n",
       "Name: num_lines, dtype: float64"
      ]
     },
     "execution_count": 15,
     "metadata": {},
     "output_type": "execute_result"
    }
   ],
   "source": [
    "df['num_lines'].describe()"
   ]
  },
  {
   "cell_type": "code",
   "execution_count": null,
   "metadata": {},
   "outputs": [],
   "source": []
  },
  {
   "cell_type": "code",
   "execution_count": null,
   "metadata": {},
   "outputs": [
    {
     "data": {
      "text/html": [
       "<div>\n",
       "<style scoped>\n",
       "    .dataframe tbody tr th:only-of-type {\n",
       "        vertical-align: middle;\n",
       "    }\n",
       "\n",
       "    .dataframe tbody tr th {\n",
       "        vertical-align: top;\n",
       "    }\n",
       "\n",
       "    .dataframe thead th {\n",
       "        text-align: right;\n",
       "    }\n",
       "</style>\n",
       "<table border=\"1\" class=\"dataframe\">\n",
       "  <thead>\n",
       "    <tr style=\"text-align: right;\">\n",
       "      <th></th>\n",
       "      <th>groupby</th>\n",
       "      <th>comparison</th>\n",
       "      <th>p_value</th>\n",
       "      <th>effect_size</th>\n",
       "      <th>effect_size_str</th>\n",
       "      <th>mean1</th>\n",
       "      <th>mean2</th>\n",
       "      <th>significant</th>\n",
       "    </tr>\n",
       "  </thead>\n",
       "  <tbody>\n",
       "    <tr>\n",
       "      <th>0</th>\n",
       "      <td>1950-2000</td>\n",
       "      <td>(Historical) vs Claude</td>\n",
       "      <td>0.0000</td>\n",
       "      <td>1.461651</td>\n",
       "      <td>large</td>\n",
       "      <td>14.985994</td>\n",
       "      <td>69.672131</td>\n",
       "      <td>True</td>\n",
       "    </tr>\n",
       "    <tr>\n",
       "      <th>1</th>\n",
       "      <td>1950-2000</td>\n",
       "      <td>Llama vs (Historical)</td>\n",
       "      <td>0.0000</td>\n",
       "      <td>0.997358</td>\n",
       "      <td>large</td>\n",
       "      <td>55.968170</td>\n",
       "      <td>14.985994</td>\n",
       "      <td>True</td>\n",
       "    </tr>\n",
       "    <tr>\n",
       "      <th>2</th>\n",
       "      <td>1950-2000</td>\n",
       "      <td>Olmo vs (Historical)</td>\n",
       "      <td>0.0000</td>\n",
       "      <td>0.840839</td>\n",
       "      <td>large</td>\n",
       "      <td>49.421965</td>\n",
       "      <td>14.985994</td>\n",
       "      <td>True</td>\n",
       "    </tr>\n",
       "    <tr>\n",
       "      <th>5</th>\n",
       "      <td>1950-2000</td>\n",
       "      <td>(Historical) vs DeepSeek</td>\n",
       "      <td>0.0000</td>\n",
       "      <td>0.631730</td>\n",
       "      <td>medium</td>\n",
       "      <td>14.985994</td>\n",
       "      <td>39.189189</td>\n",
       "      <td>True</td>\n",
       "    </tr>\n",
       "    <tr>\n",
       "      <th>7</th>\n",
       "      <td>1950-2000</td>\n",
       "      <td>(Historical) vs ChatGPT</td>\n",
       "      <td>0.0001</td>\n",
       "      <td>0.449703</td>\n",
       "      <td>small</td>\n",
       "      <td>14.985994</td>\n",
       "      <td>31.775701</td>\n",
       "      <td>True</td>\n",
       "    </tr>\n",
       "  </tbody>\n",
       "</table>\n",
       "</div>"
      ],
      "text/plain": [
       "     groupby                comparison  p_value  effect_size effect_size_str      mean1      mean2  significant\n",
       "0  1950-2000    (Historical) vs Claude   0.0000     1.461651           large  14.985994  69.672131         True\n",
       "1  1950-2000     Llama vs (Historical)   0.0000     0.997358           large  55.968170  14.985994         True\n",
       "2  1950-2000      Olmo vs (Historical)   0.0000     0.840839           large  49.421965  14.985994         True\n",
       "5  1950-2000  (Historical) vs DeepSeek   0.0000     0.631730          medium  14.985994  39.189189         True\n",
       "7  1950-2000   (Historical) vs ChatGPT   0.0001     0.449703           small  14.985994  31.775701         True"
      ]
     },
     "execution_count": 78,
     "metadata": {},
     "output_type": "execute_result"
    }
   ],
   "source": [
    "df_stat_signif = compute_all_stat_signif(df).reset_index()\n",
    "df_stat_signif[df_stat_signif.comparison.str.contains(HIST)].query('groupby==\"1950-2000\"').sort_values('effect_size', ascending=False).head(25)"
   ]
  },
  {
   "cell_type": "code",
   "execution_count": null,
   "metadata": {},
   "outputs": [],
   "source": []
  }
 ],
 "metadata": {
  "kernelspec": {
   "display_name": "venv",
   "language": "python",
   "name": "python3"
  },
  "language_info": {
   "codemirror_mode": {
    "name": "ipython",
    "version": 3
   },
   "file_extension": ".py",
   "mimetype": "text/x-python",
   "name": "python",
   "nbconvert_exporter": "python",
   "pygments_lexer": "ipython3",
   "version": "3.9.13"
  }
 },
 "nbformat": 4,
 "nbformat_minor": 4
}
