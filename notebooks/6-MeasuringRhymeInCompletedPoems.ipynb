{
 "cells": [
  {
   "cell_type": "markdown",
   "metadata": {},
   "source": [
    "# Rhyme"
   ]
  },
  {
   "cell_type": "code",
   "execution_count": 1,
   "metadata": {},
   "outputs": [],
   "source": [
    "# !pip install -r ../requirements.txt\n",
    "import sys\n",
    "sys.path.append('../')\n",
    "from generative_formalism import *"
   ]
  },
  {
   "cell_type": "code",
   "execution_count": 2,
   "metadata": {},
   "outputs": [
    {
     "name": "stderr",
     "output_type": "stream",
     "text": [
      "100%|██████████| 22458/22458 [00:04<00:00, 5173.09it/s]\n"
     ]
    },
    {
     "data": {
      "text/plain": [
       "np.float64(94.73684210526316)"
      ]
     },
     "execution_count": 2,
     "metadata": {},
     "output_type": "execute_result"
    }
   ],
   "source": [
    "df = get_rhyme_for_completed_poems()\n",
    "df.line_sim.max()"
   ]
  },
  {
   "cell_type": "code",
   "execution_count": 3,
   "metadata": {},
   "outputs": [
    {
     "data": {
      "text/plain": [
       "5823"
      ]
     },
     "execution_count": 3,
     "metadata": {},
     "output_type": "execute_result"
    }
   ],
   "source": [
    "df[df.model!=HIST].id_human.nunique()"
   ]
  },
  {
   "cell_type": "code",
   "execution_count": 4,
   "metadata": {},
   "outputs": [
    {
     "data": {
      "text/plain": [
       "period\n",
       "1700-1750    1283\n",
       "1650-1700    1223\n",
       "1900-1950    1149\n",
       "1600-1650    1135\n",
       "1950-2000    1100\n",
       "1750-1800     965\n",
       "1850-1900     958\n",
       "1800-1850     758\n",
       "Name: count, dtype: int64"
      ]
     },
     "execution_count": 4,
     "metadata": {},
     "output_type": "execute_result"
    }
   ],
   "source": [
    "df[df.model!=HIST].period.value_counts()"
   ]
  },
  {
   "cell_type": "code",
   "execution_count": 5,
   "metadata": {},
   "outputs": [
    {
     "data": {
      "text/plain": [
       "8571"
      ]
     },
     "execution_count": 5,
     "metadata": {},
     "output_type": "execute_result"
    }
   ],
   "source": [
    "len(df[df.model!=HIST])"
   ]
  },
  {
   "cell_type": "code",
   "execution_count": 6,
   "metadata": {},
   "outputs": [
    {
     "data": {
      "text/plain": [
       "model9\n",
       "                   6269\n",
       "Llama3.1           3087\n",
       "Olmo2              2533\n",
       "Deepseek           1153\n",
       "Claude-3-Sonnet     987\n",
       "GPT-3.5-Turbo       811\n",
       "Name: count, dtype: int64"
      ]
     },
     "execution_count": 6,
     "metadata": {},
     "output_type": "execute_result"
    }
   ],
   "source": [
    "df.model9.value_counts()"
   ]
  },
  {
   "cell_type": "code",
   "execution_count": 14,
   "metadata": {},
   "outputs": [
    {
     "data": {
      "text/html": [
       "<div>\n",
       "<style scoped>\n",
       "    .dataframe tbody tr th:only-of-type {\n",
       "        vertical-align: middle;\n",
       "    }\n",
       "\n",
       "    .dataframe tbody tr th {\n",
       "        vertical-align: top;\n",
       "    }\n",
       "\n",
       "    .dataframe thead th {\n",
       "        text-align: right;\n",
       "    }\n",
       "</style>\n",
       "<table border=\"1\" class=\"dataframe\">\n",
       "  <thead>\n",
       "    <tr style=\"text-align: right;\">\n",
       "      <th>Model</th>\n",
       "      <th>Claude-3-Sonnet</th>\n",
       "      <th>Deepseek</th>\n",
       "      <th>GPT-3.5-Turbo</th>\n",
       "      <th>Llama3.1</th>\n",
       "      <th>Olmo2</th>\n",
       "    </tr>\n",
       "    <tr>\n",
       "      <th>Period</th>\n",
       "      <th></th>\n",
       "      <th></th>\n",
       "      <th></th>\n",
       "      <th></th>\n",
       "      <th></th>\n",
       "    </tr>\n",
       "  </thead>\n",
       "  <tbody>\n",
       "    <tr>\n",
       "      <th>1600-1650</th>\n",
       "      <td>145</td>\n",
       "      <td>187</td>\n",
       "      <td>95</td>\n",
       "      <td>403</td>\n",
       "      <td>305</td>\n",
       "    </tr>\n",
       "    <tr>\n",
       "      <th>1650-1700</th>\n",
       "      <td>126</td>\n",
       "      <td>182</td>\n",
       "      <td>105</td>\n",
       "      <td>466</td>\n",
       "      <td>344</td>\n",
       "    </tr>\n",
       "    <tr>\n",
       "      <th>1700-1750</th>\n",
       "      <td>152</td>\n",
       "      <td>175</td>\n",
       "      <td>151</td>\n",
       "      <td>488</td>\n",
       "      <td>317</td>\n",
       "    </tr>\n",
       "    <tr>\n",
       "      <th>1750-1800</th>\n",
       "      <td>117</td>\n",
       "      <td>122</td>\n",
       "      <td>116</td>\n",
       "      <td>330</td>\n",
       "      <td>280</td>\n",
       "    </tr>\n",
       "    <tr>\n",
       "      <th>1800-1850</th>\n",
       "      <td>84</td>\n",
       "      <td>88</td>\n",
       "      <td>63</td>\n",
       "      <td>264</td>\n",
       "      <td>259</td>\n",
       "    </tr>\n",
       "    <tr>\n",
       "      <th>1850-1900</th>\n",
       "      <td>101</td>\n",
       "      <td>103</td>\n",
       "      <td>78</td>\n",
       "      <td>364</td>\n",
       "      <td>312</td>\n",
       "    </tr>\n",
       "    <tr>\n",
       "      <th>1900-1950</th>\n",
       "      <td>140</td>\n",
       "      <td>148</td>\n",
       "      <td>96</td>\n",
       "      <td>395</td>\n",
       "      <td>370</td>\n",
       "    </tr>\n",
       "    <tr>\n",
       "      <th>1950-2000</th>\n",
       "      <td>122</td>\n",
       "      <td>148</td>\n",
       "      <td>107</td>\n",
       "      <td>377</td>\n",
       "      <td>346</td>\n",
       "    </tr>\n",
       "  </tbody>\n",
       "</table>\n",
       "</div>"
      ],
      "text/plain": [
       "Model      Claude-3-Sonnet  Deepseek  GPT-3.5-Turbo  Llama3.1  Olmo2\n",
       "Period                                                              \n",
       "1600-1650              145       187             95       403    305\n",
       "1650-1700              126       182            105       466    344\n",
       "1700-1750              152       175            151       488    317\n",
       "1750-1800              117       122            116       330    280\n",
       "1800-1850               84        88             63       264    259\n",
       "1850-1900              101       103             78       364    312\n",
       "1900-1950              140       148             96       395    370\n",
       "1950-2000              122       148            107       377    346"
      ]
     },
     "execution_count": 14,
     "metadata": {},
     "output_type": "execute_result"
    }
   ],
   "source": [
    "df_prompts = df.copy().query('model!=\"(Historical)\"')\n",
    "\n",
    "df_prompts_stats = pd.DataFrame([\n",
    "    {\n",
    "        'Period':period,\n",
    "        'Model':model,\n",
    "        '# Poems': len(gdf),\n",
    "        # '\\# Poems per model': int(round(len(gdf) / gdf.model.nunique())),\n",
    "        }\n",
    "    for (period,model),gdf in df_prompts.groupby(['period','model9'])\n",
    "])\n",
    "\n",
    "df_prompts_stats = df_prompts_stats.pivot_table(index='Period', columns='Model', values='# Poems', aggfunc='sum')\n",
    "df_prompts_stats.to_latex('table_completions_nums.tex')\n",
    "df_prompts_stats"
   ]
  },
  {
   "cell_type": "code",
   "execution_count": 22,
   "metadata": {},
   "outputs": [
    {
     "data": {
      "text/plain": [
       "array(['Olmo', '(Historical)', 'Llama', 'ChatGPT', 'Claude', 'DeepSeek'],\n",
       "      dtype=object)"
      ]
     },
     "execution_count": 22,
     "metadata": {},
     "output_type": "execute_result"
    }
   ],
   "source": [
    "df_prompts.model.unique()"
   ]
  },
  {
   "cell_type": "code",
   "execution_count": 6,
   "metadata": {},
   "outputs": [
    {
     "data": {
      "text/plain": [
       "count     48.000000\n",
       "mean     309.166667\n",
       "std      244.869338\n",
       "min       63.000000\n",
       "25%      120.750000\n",
       "50%      223.000000\n",
       "75%      381.500000\n",
       "max      944.000000\n",
       "Name: count, dtype: float64"
      ]
     },
     "execution_count": 6,
     "metadata": {},
     "output_type": "execute_result"
    }
   ],
   "source": [
    "figdf_avg = get_avgs_df(df, gby=['period','model'])\n",
    "figdf_avg['count'].describe()"
   ]
  },
  {
   "cell_type": "code",
   "execution_count": 7,
   "metadata": {},
   "outputs": [
    {
     "data": {
      "text/plain": [
       "count     40.000000\n",
       "mean     214.275000\n",
       "std      122.988219\n",
       "min       63.000000\n",
       "25%      113.750000\n",
       "50%      151.500000\n",
       "75%      320.250000\n",
       "max      488.000000\n",
       "Name: count, dtype: float64"
      ]
     },
     "execution_count": 7,
     "metadata": {},
     "output_type": "execute_result"
    }
   ],
   "source": [
    "figdf_avg[figdf_avg.model!=HIST]['count'].describe()"
   ]
  },
  {
   "cell_type": "code",
   "execution_count": 8,
   "metadata": {},
   "outputs": [
    {
     "data": {
      "text/plain": [
       "np.int64(8571)"
      ]
     },
     "execution_count": 8,
     "metadata": {},
     "output_type": "execute_result"
    }
   ],
   "source": [
    "figdf_avg[figdf_avg.model!=HIST]['count'].sum()"
   ]
  },
  {
   "cell_type": "code",
   "execution_count": 9,
   "metadata": {},
   "outputs": [
    {
     "ename": "ModuleNotFoundError",
     "evalue": "No module named 'adjustText'",
     "output_type": "error",
     "traceback": [
      "\u001b[31m---------------------------------------------------------------------------\u001b[39m",
      "\u001b[31mModuleNotFoundError\u001b[39m                       Traceback (most recent call last)",
      "\u001b[36mFile \u001b[39m\u001b[32m~/github/generative-formalism/venv/lib/python3.11/site-packages/IPython/core/formatters.py:984\u001b[39m, in \u001b[36mIPythonDisplayFormatter.__call__\u001b[39m\u001b[34m(self, obj)\u001b[39m\n\u001b[32m    982\u001b[39m method = get_real_method(obj, \u001b[38;5;28mself\u001b[39m.print_method)\n\u001b[32m    983\u001b[39m \u001b[38;5;28;01mif\u001b[39;00m method \u001b[38;5;129;01mis\u001b[39;00m \u001b[38;5;129;01mnot\u001b[39;00m \u001b[38;5;28;01mNone\u001b[39;00m:\n\u001b[32m--> \u001b[39m\u001b[32m984\u001b[39m     \u001b[43mmethod\u001b[49m\u001b[43m(\u001b[49m\u001b[43m)\u001b[49m\n\u001b[32m    985\u001b[39m     \u001b[38;5;28;01mreturn\u001b[39;00m \u001b[38;5;28;01mTrue\u001b[39;00m\n",
      "\u001b[36mFile \u001b[39m\u001b[32m~/github/generative-formalism/venv/lib/python3.11/site-packages/plotnine/ggplot.py:141\u001b[39m, in \u001b[36mggplot._ipython_display_\u001b[39m\u001b[34m(self)\u001b[39m\n\u001b[32m    134\u001b[39m \u001b[38;5;28;01mdef\u001b[39;00m\u001b[38;5;250m \u001b[39m\u001b[34m_ipython_display_\u001b[39m(\u001b[38;5;28mself\u001b[39m):\n\u001b[32m    135\u001b[39m \u001b[38;5;250m    \u001b[39m\u001b[33;03m\"\"\"\u001b[39;00m\n\u001b[32m    136\u001b[39m \u001b[33;03m    Display plot in the output of the cell\u001b[39;00m\n\u001b[32m    137\u001b[39m \n\u001b[32m    138\u001b[39m \u001b[33;03m    This method will always be called when a ggplot object is the\u001b[39;00m\n\u001b[32m    139\u001b[39m \u001b[33;03m    last in the cell.\u001b[39;00m\n\u001b[32m    140\u001b[39m \u001b[33;03m    \"\"\"\u001b[39;00m\n\u001b[32m--> \u001b[39m\u001b[32m141\u001b[39m     \u001b[38;5;28;43mself\u001b[39;49m\u001b[43m.\u001b[49m\u001b[43m_display\u001b[49m\u001b[43m(\u001b[49m\u001b[43m)\u001b[49m\n",
      "\u001b[36mFile \u001b[39m\u001b[32m~/github/generative-formalism/venv/lib/python3.11/site-packages/plotnine/ggplot.py:181\u001b[39m, in \u001b[36mggplot._display\u001b[39m\u001b[34m(self)\u001b[39m\n\u001b[32m    179\u001b[39m figure_size_px = \u001b[38;5;28mself\u001b[39m.theme._figure_size_px\n\u001b[32m    180\u001b[39m buf = BytesIO()\n\u001b[32m--> \u001b[39m\u001b[32m181\u001b[39m \u001b[38;5;28;43mself\u001b[39;49m\u001b[43m.\u001b[49m\u001b[43msave\u001b[49m\u001b[43m(\u001b[49m\u001b[43mbuf\u001b[49m\u001b[43m,\u001b[49m\u001b[43m \u001b[49m\u001b[38;5;28;43mformat\u001b[39;49m\u001b[43m=\u001b[49m\u001b[43msave_format\u001b[49m\u001b[43m,\u001b[49m\u001b[43m \u001b[49m\u001b[43mverbose\u001b[49m\u001b[43m=\u001b[49m\u001b[38;5;28;43;01mFalse\u001b[39;49;00m\u001b[43m)\u001b[49m\n\u001b[32m    182\u001b[39m display_func = get_display_function(\u001b[38;5;28mformat\u001b[39m, figure_size_px)\n\u001b[32m    183\u001b[39m display_func(buf.getvalue())\n",
      "\u001b[36mFile \u001b[39m\u001b[32m~/github/generative-formalism/venv/lib/python3.11/site-packages/plotnine/ggplot.py:673\u001b[39m, in \u001b[36mggplot.save\u001b[39m\u001b[34m(self, filename, format, path, width, height, units, dpi, limitsize, verbose, **kwargs)\u001b[39m\n\u001b[32m    624\u001b[39m \u001b[38;5;28;01mdef\u001b[39;00m\u001b[38;5;250m \u001b[39m\u001b[34msave\u001b[39m(\n\u001b[32m    625\u001b[39m     \u001b[38;5;28mself\u001b[39m,\n\u001b[32m    626\u001b[39m     filename: Optional[\u001b[38;5;28mstr\u001b[39m | Path | BytesIO] = \u001b[38;5;28;01mNone\u001b[39;00m,\n\u001b[32m   (...)\u001b[39m\u001b[32m    635\u001b[39m     **kwargs: Any,\n\u001b[32m    636\u001b[39m ):\n\u001b[32m    637\u001b[39m \u001b[38;5;250m    \u001b[39m\u001b[33;03m\"\"\"\u001b[39;00m\n\u001b[32m    638\u001b[39m \u001b[33;03m    Save a ggplot object as an image file\u001b[39;00m\n\u001b[32m    639\u001b[39m \n\u001b[32m   (...)\u001b[39m\u001b[32m    671\u001b[39m \u001b[33;03m        Additional arguments to pass to matplotlib `savefig()`.\u001b[39;00m\n\u001b[32m    672\u001b[39m \u001b[33;03m    \"\"\"\u001b[39;00m\n\u001b[32m--> \u001b[39m\u001b[32m673\u001b[39m     sv = \u001b[38;5;28;43mself\u001b[39;49m\u001b[43m.\u001b[49m\u001b[43msave_helper\u001b[49m\u001b[43m(\u001b[49m\n\u001b[32m    674\u001b[39m \u001b[43m        \u001b[49m\u001b[43mfilename\u001b[49m\u001b[43m=\u001b[49m\u001b[43mfilename\u001b[49m\u001b[43m,\u001b[49m\n\u001b[32m    675\u001b[39m \u001b[43m        \u001b[49m\u001b[38;5;28;43mformat\u001b[39;49m\u001b[43m=\u001b[49m\u001b[38;5;28;43mformat\u001b[39;49m\u001b[43m,\u001b[49m\n\u001b[32m    676\u001b[39m \u001b[43m        \u001b[49m\u001b[43mpath\u001b[49m\u001b[43m=\u001b[49m\u001b[43mpath\u001b[49m\u001b[43m,\u001b[49m\n\u001b[32m    677\u001b[39m \u001b[43m        \u001b[49m\u001b[43mwidth\u001b[49m\u001b[43m=\u001b[49m\u001b[43mwidth\u001b[49m\u001b[43m,\u001b[49m\n\u001b[32m    678\u001b[39m \u001b[43m        \u001b[49m\u001b[43mheight\u001b[49m\u001b[43m=\u001b[49m\u001b[43mheight\u001b[49m\u001b[43m,\u001b[49m\n\u001b[32m    679\u001b[39m \u001b[43m        \u001b[49m\u001b[43munits\u001b[49m\u001b[43m=\u001b[49m\u001b[43munits\u001b[49m\u001b[43m,\u001b[49m\n\u001b[32m    680\u001b[39m \u001b[43m        \u001b[49m\u001b[43mdpi\u001b[49m\u001b[43m=\u001b[49m\u001b[43mdpi\u001b[49m\u001b[43m,\u001b[49m\n\u001b[32m    681\u001b[39m \u001b[43m        \u001b[49m\u001b[43mlimitsize\u001b[49m\u001b[43m=\u001b[49m\u001b[43mlimitsize\u001b[49m\u001b[43m,\u001b[49m\n\u001b[32m    682\u001b[39m \u001b[43m        \u001b[49m\u001b[43mverbose\u001b[49m\u001b[43m=\u001b[49m\u001b[43mverbose\u001b[49m\u001b[43m,\u001b[49m\n\u001b[32m    683\u001b[39m \u001b[43m        \u001b[49m\u001b[43m*\u001b[49m\u001b[43m*\u001b[49m\u001b[43mkwargs\u001b[49m\u001b[43m,\u001b[49m\n\u001b[32m    684\u001b[39m \u001b[43m    \u001b[49m\u001b[43m)\u001b[49m\n\u001b[32m    686\u001b[39m     \u001b[38;5;28;01mwith\u001b[39;00m plot_context(\u001b[38;5;28mself\u001b[39m).rc_context:\n\u001b[32m    687\u001b[39m         sv.figure.savefig(**sv.kwargs)\n",
      "\u001b[36mFile \u001b[39m\u001b[32m~/github/generative-formalism/venv/lib/python3.11/site-packages/plotnine/ggplot.py:621\u001b[39m, in \u001b[36mggplot.save_helper\u001b[39m\u001b[34m(self, filename, format, path, width, height, units, dpi, limitsize, verbose, **kwargs)\u001b[39m\n\u001b[32m    618\u001b[39m \u001b[38;5;28;01mif\u001b[39;00m dpi \u001b[38;5;129;01mis\u001b[39;00m \u001b[38;5;129;01mnot\u001b[39;00m \u001b[38;5;28;01mNone\u001b[39;00m:\n\u001b[32m    619\u001b[39m     \u001b[38;5;28mself\u001b[39m.theme = \u001b[38;5;28mself\u001b[39m.theme + theme(dpi=dpi)\n\u001b[32m--> \u001b[39m\u001b[32m621\u001b[39m figure = \u001b[38;5;28;43mself\u001b[39;49m\u001b[43m.\u001b[49m\u001b[43mdraw\u001b[49m\u001b[43m(\u001b[49m\u001b[43mshow\u001b[49m\u001b[43m=\u001b[49m\u001b[38;5;28;43;01mFalse\u001b[39;49;00m\u001b[43m)\u001b[49m\n\u001b[32m    622\u001b[39m \u001b[38;5;28;01mreturn\u001b[39;00m mpl_save_view(figure, fig_kwargs)\n",
      "\u001b[36mFile \u001b[39m\u001b[32m~/github/generative-formalism/venv/lib/python3.11/site-packages/plotnine/ggplot.py:286\u001b[39m, in \u001b[36mggplot.draw\u001b[39m\u001b[34m(self, show)\u001b[39m\n\u001b[32m    283\u001b[39m \u001b[38;5;28mself\u001b[39m.theme.setup(\u001b[38;5;28mself\u001b[39m)\n\u001b[32m    285\u001b[39m \u001b[38;5;66;03m# Drawing\u001b[39;00m\n\u001b[32m--> \u001b[39m\u001b[32m286\u001b[39m \u001b[38;5;28;43mself\u001b[39;49m\u001b[43m.\u001b[49m\u001b[43m_draw_layers\u001b[49m\u001b[43m(\u001b[49m\u001b[43m)\u001b[49m\n\u001b[32m    287\u001b[39m \u001b[38;5;28mself\u001b[39m._draw_panel_borders()\n\u001b[32m    288\u001b[39m \u001b[38;5;28mself\u001b[39m._draw_breaks_and_labels()\n",
      "\u001b[36mFile \u001b[39m\u001b[32m~/github/generative-formalism/venv/lib/python3.11/site-packages/plotnine/ggplot.py:450\u001b[39m, in \u001b[36mggplot._draw_layers\u001b[39m\u001b[34m(self)\u001b[39m\n\u001b[32m    446\u001b[39m \u001b[38;5;250m\u001b[39m\u001b[33;03m\"\"\"\u001b[39;00m\n\u001b[32m    447\u001b[39m \u001b[33;03mDraw the main plot(s) onto the axes.\u001b[39;00m\n\u001b[32m    448\u001b[39m \u001b[33;03m\"\"\"\u001b[39;00m\n\u001b[32m    449\u001b[39m \u001b[38;5;66;03m# Draw the geoms\u001b[39;00m\n\u001b[32m--> \u001b[39m\u001b[32m450\u001b[39m \u001b[38;5;28;43mself\u001b[39;49m\u001b[43m.\u001b[49m\u001b[43mlayers\u001b[49m\u001b[43m.\u001b[49m\u001b[43mdraw\u001b[49m\u001b[43m(\u001b[49m\u001b[38;5;28;43mself\u001b[39;49m\u001b[43m.\u001b[49m\u001b[43mlayout\u001b[49m\u001b[43m,\u001b[49m\u001b[43m \u001b[49m\u001b[38;5;28;43mself\u001b[39;49m\u001b[43m.\u001b[49m\u001b[43mcoordinates\u001b[49m\u001b[43m)\u001b[49m\n",
      "\u001b[36mFile \u001b[39m\u001b[32m~/github/generative-formalism/venv/lib/python3.11/site-packages/plotnine/layer.py:464\u001b[39m, in \u001b[36mLayers.draw\u001b[39m\u001b[34m(self, layout, coord)\u001b[39m\n\u001b[32m    462\u001b[39m \u001b[38;5;28;01mfor\u001b[39;00m i, l \u001b[38;5;129;01min\u001b[39;00m \u001b[38;5;28menumerate\u001b[39m(\u001b[38;5;28mself\u001b[39m, start=\u001b[32m1\u001b[39m):\n\u001b[32m    463\u001b[39m     l.zorder = i\n\u001b[32m--> \u001b[39m\u001b[32m464\u001b[39m     \u001b[43ml\u001b[49m\u001b[43m.\u001b[49m\u001b[43mdraw\u001b[49m\u001b[43m(\u001b[49m\u001b[43mlayout\u001b[49m\u001b[43m,\u001b[49m\u001b[43m \u001b[49m\u001b[43mcoord\u001b[49m\u001b[43m)\u001b[49m\n",
      "\u001b[36mFile \u001b[39m\u001b[32m~/github/generative-formalism/venv/lib/python3.11/site-packages/plotnine/layer.py:367\u001b[39m, in \u001b[36mlayer.draw\u001b[39m\u001b[34m(self, layout, coord)\u001b[39m\n\u001b[32m    364\u001b[39m \u001b[38;5;28mself\u001b[39m.data = \u001b[38;5;28mself\u001b[39m.geom.handle_na(\u001b[38;5;28mself\u001b[39m.data)\n\u001b[32m    365\u001b[39m \u001b[38;5;66;03m# At this point each layer must have the data\u001b[39;00m\n\u001b[32m    366\u001b[39m \u001b[38;5;66;03m# that is created by the plot build process\u001b[39;00m\n\u001b[32m--> \u001b[39m\u001b[32m367\u001b[39m \u001b[38;5;28;43mself\u001b[39;49m\u001b[43m.\u001b[49m\u001b[43mgeom\u001b[49m\u001b[43m.\u001b[49m\u001b[43mdraw_layer\u001b[49m\u001b[43m(\u001b[49m\u001b[38;5;28;43mself\u001b[39;49m\u001b[43m.\u001b[49m\u001b[43mdata\u001b[49m\u001b[43m,\u001b[49m\u001b[43m \u001b[49m\u001b[43mlayout\u001b[49m\u001b[43m,\u001b[49m\u001b[43m \u001b[49m\u001b[43mcoord\u001b[49m\u001b[43m,\u001b[49m\u001b[43m \u001b[49m\u001b[43m*\u001b[49m\u001b[43m*\u001b[49m\u001b[43mparams\u001b[49m\u001b[43m)\u001b[49m\n",
      "\u001b[36mFile \u001b[39m\u001b[32m~/github/generative-formalism/venv/lib/python3.11/site-packages/plotnine/geoms/geom.py:292\u001b[39m, in \u001b[36mgeom.draw_layer\u001b[39m\u001b[34m(self, data, layout, coord, **params)\u001b[39m\n\u001b[32m    290\u001b[39m panel_params = layout.panel_params[ploc]\n\u001b[32m    291\u001b[39m ax = layout.axs[ploc]\n\u001b[32m--> \u001b[39m\u001b[32m292\u001b[39m \u001b[38;5;28;43mself\u001b[39;49m\u001b[43m.\u001b[49m\u001b[43mdraw_panel\u001b[49m\u001b[43m(\u001b[49m\u001b[43mpdata\u001b[49m\u001b[43m,\u001b[49m\u001b[43m \u001b[49m\u001b[43mpanel_params\u001b[49m\u001b[43m,\u001b[49m\u001b[43m \u001b[49m\u001b[43mcoord\u001b[49m\u001b[43m,\u001b[49m\u001b[43m \u001b[49m\u001b[43max\u001b[49m\u001b[43m,\u001b[49m\u001b[43m \u001b[49m\u001b[43m*\u001b[49m\u001b[43m*\u001b[49m\u001b[43mparams\u001b[49m\u001b[43m)\u001b[49m\n",
      "\u001b[36mFile \u001b[39m\u001b[32m~/github/generative-formalism/venv/lib/python3.11/site-packages/plotnine/geoms/geom_text.py:219\u001b[39m, in \u001b[36mgeom_text.draw_panel\u001b[39m\u001b[34m(self, data, panel_params, coord, ax, **params)\u001b[39m\n\u001b[32m    211\u001b[39m \u001b[38;5;28;01mdef\u001b[39;00m\u001b[38;5;250m \u001b[39m\u001b[34mdraw_panel\u001b[39m(\n\u001b[32m    212\u001b[39m     \u001b[38;5;28mself\u001b[39m,\n\u001b[32m    213\u001b[39m     data: pd.DataFrame,\n\u001b[32m   (...)\u001b[39m\u001b[32m    217\u001b[39m     **params: Any,\n\u001b[32m    218\u001b[39m ):\n\u001b[32m--> \u001b[39m\u001b[32m219\u001b[39m     \u001b[38;5;28;43msuper\u001b[39;49m\u001b[43m(\u001b[49m\u001b[43m)\u001b[49m\u001b[43m.\u001b[49m\u001b[43mdraw_panel\u001b[49m\u001b[43m(\u001b[49m\u001b[43mdata\u001b[49m\u001b[43m,\u001b[49m\u001b[43m \u001b[49m\u001b[43mpanel_params\u001b[49m\u001b[43m,\u001b[49m\u001b[43m \u001b[49m\u001b[43mcoord\u001b[49m\u001b[43m,\u001b[49m\u001b[43m \u001b[49m\u001b[43max\u001b[49m\u001b[43m,\u001b[49m\u001b[43m \u001b[49m\u001b[43m*\u001b[49m\u001b[43m*\u001b[49m\u001b[43mparams\u001b[49m\u001b[43m)\u001b[49m\n",
      "\u001b[36mFile \u001b[39m\u001b[32m~/github/generative-formalism/venv/lib/python3.11/site-packages/plotnine/geoms/geom.py:334\u001b[39m, in \u001b[36mgeom.draw_panel\u001b[39m\u001b[34m(self, data, panel_params, coord, ax, **params)\u001b[39m\n\u001b[32m    332\u001b[39m \u001b[38;5;28;01mfor\u001b[39;00m _, gdata \u001b[38;5;129;01min\u001b[39;00m data.groupby(\u001b[33m\"\u001b[39m\u001b[33mgroup\u001b[39m\u001b[33m\"\u001b[39m):\n\u001b[32m    333\u001b[39m     gdata.reset_index(inplace=\u001b[38;5;28;01mTrue\u001b[39;00m, drop=\u001b[38;5;28;01mTrue\u001b[39;00m)\n\u001b[32m--> \u001b[39m\u001b[32m334\u001b[39m     \u001b[38;5;28;43mself\u001b[39;49m\u001b[43m.\u001b[49m\u001b[43mdraw_group\u001b[49m\u001b[43m(\u001b[49m\u001b[43mgdata\u001b[49m\u001b[43m,\u001b[49m\u001b[43m \u001b[49m\u001b[43mpanel_params\u001b[49m\u001b[43m,\u001b[49m\u001b[43m \u001b[49m\u001b[43mcoord\u001b[49m\u001b[43m,\u001b[49m\u001b[43m \u001b[49m\u001b[43max\u001b[49m\u001b[43m,\u001b[49m\u001b[43m \u001b[49m\u001b[43m*\u001b[49m\u001b[43m*\u001b[49m\u001b[43mparams\u001b[49m\u001b[43m)\u001b[49m\n",
      "\u001b[36mFile \u001b[39m\u001b[32m~/github/generative-formalism/venv/lib/python3.11/site-packages/plotnine/geoms/geom_text.py:294\u001b[39m, in \u001b[36mgeom_text.draw_group\u001b[39m\u001b[34m(data, panel_params, coord, ax, **params)\u001b[39m\n\u001b[32m    288\u001b[39m \u001b[38;5;28;01mif\u001b[39;00m zorder == \u001b[32m1\u001b[39m:\n\u001b[32m    289\u001b[39m     warn(\n\u001b[32m    290\u001b[39m         \u001b[33m\"\u001b[39m\u001b[33mFor better results with adjust_text, it should \u001b[39m\u001b[33m\"\u001b[39m\n\u001b[32m    291\u001b[39m         \u001b[33m\"\u001b[39m\u001b[33mnot be the first layer or the only layer.\u001b[39m\u001b[33m\"\u001b[39m,\n\u001b[32m    292\u001b[39m         PlotnineWarning,\n\u001b[32m    293\u001b[39m     )\n\u001b[32m--> \u001b[39m\u001b[32m294\u001b[39m \u001b[43mdo_adjust_text\u001b[49m\u001b[43m(\u001b[49m\n\u001b[32m    295\u001b[39m \u001b[43m    \u001b[49m\u001b[43mtexts\u001b[49m\u001b[43m,\u001b[49m\n\u001b[32m    296\u001b[39m \u001b[43m    \u001b[49m\u001b[43max\u001b[49m\u001b[43m,\u001b[49m\n\u001b[32m    297\u001b[39m \u001b[43m    \u001b[49m\u001b[43mparams\u001b[49m\u001b[43m[\u001b[49m\u001b[33;43m\"\u001b[39;49m\u001b[33;43madjust_text\u001b[39;49m\u001b[33;43m\"\u001b[39;49m\u001b[43m]\u001b[49m\u001b[43m,\u001b[49m\n\u001b[32m    298\u001b[39m \u001b[43m    \u001b[49m\u001b[43mcolor\u001b[49m\u001b[43m[\u001b[49m\u001b[32;43m0\u001b[39;49m\u001b[43m]\u001b[49m\u001b[43m,\u001b[49m\n\u001b[32m    299\u001b[39m \u001b[43m    \u001b[49m\u001b[38;5;28;43mfloat\u001b[39;49m\u001b[43m(\u001b[49m\u001b[43mdata\u001b[49m\u001b[43m[\u001b[49m\u001b[33;43m\"\u001b[39;49m\u001b[33;43msize\u001b[39;49m\u001b[33;43m\"\u001b[39;49m\u001b[43m]\u001b[49m\u001b[43m.\u001b[49m\u001b[43mmean\u001b[49m\u001b[43m(\u001b[49m\u001b[43m)\u001b[49m\u001b[43m)\u001b[49m\u001b[43m,\u001b[49m\n\u001b[32m    300\u001b[39m \u001b[43m    \u001b[49m\u001b[43mzorder\u001b[49m\u001b[43m,\u001b[49m\n\u001b[32m    301\u001b[39m \u001b[43m\u001b[49m\u001b[43m)\u001b[49m\n",
      "\u001b[36mFile \u001b[39m\u001b[32m~/github/generative-formalism/venv/lib/python3.11/site-packages/plotnine/geoms/geom_text.py:369\u001b[39m, in \u001b[36mdo_adjust_text\u001b[39m\u001b[34m(texts, ax, params, color, size, zorder)\u001b[39m\n\u001b[32m    361\u001b[39m \u001b[38;5;28;01mdef\u001b[39;00m\u001b[38;5;250m \u001b[39m\u001b[34mdo_adjust_text\u001b[39m(\n\u001b[32m    362\u001b[39m     texts: Sequence[Text],\n\u001b[32m    363\u001b[39m     ax: Axes,\n\u001b[32m   (...)\u001b[39m\u001b[32m    367\u001b[39m     zorder: \u001b[38;5;28mfloat\u001b[39m,\n\u001b[32m    368\u001b[39m ):\n\u001b[32m--> \u001b[39m\u001b[32m369\u001b[39m     \u001b[38;5;28;01mfrom\u001b[39;00m\u001b[38;5;250m \u001b[39m\u001b[34;01madjustText\u001b[39;00m\u001b[38;5;250m \u001b[39m\u001b[38;5;28;01mimport\u001b[39;00m adjust_text\n\u001b[32m    371\u001b[39m     \u001b[38;5;66;03m# Mark all axis as stale\u001b[39;00m\n\u001b[32m    372\u001b[39m     \u001b[38;5;66;03m# When anything is drawn onto the axes, its limits become stable and\u001b[39;00m\n\u001b[32m    373\u001b[39m     \u001b[38;5;66;03m# have to be recalculated. When we use ax.add_collection directly, it is\u001b[39;00m\n\u001b[32m    374\u001b[39m     \u001b[38;5;66;03m# on us mark the axis limits as stale. For now the staleness only affects\u001b[39;00m\n\u001b[32m    375\u001b[39m     \u001b[38;5;66;03m# adjust_text, so we do a single \"reset\" here instead of all the places\u001b[39;00m\n\u001b[32m    376\u001b[39m     \u001b[38;5;66;03m# we use ax.add_collection.\u001b[39;00m\n\u001b[32m    377\u001b[39m     ax._request_autoscale_view()  \u001b[38;5;66;03m# pyright: ignore[reportAttributeAccessIssue]\u001b[39;00m\n",
      "\u001b[31mModuleNotFoundError\u001b[39m: No module named 'adjustText'"
     ]
    },
    {
     "data": {
      "text/plain": [
       "<plotnine.ggplot.ggplot at 0x6e7f8c210>"
      ]
     },
     "execution_count": 9,
     "metadata": {},
     "output_type": "execute_result"
    }
   ],
   "source": [
    "p9.options.figure_size = (10, 6)\n",
    "models = [HIST] + [x for x in sorted(figdf_avg.model.unique()) if x!=HIST]\n",
    "figdf_avg['model'] = pd.Categorical(figdf_avg.model, categories=models)\n",
    "\n",
    "fig = p9.ggplot(figdf_avg, p9.aes(x='period', y='mean', color='model', group='model'))\n",
    "fig += p9.geom_point(p9.aes(size='count'), shape='o', alpha=.3)\n",
    "fig += p9.geom_line()\n",
    "fig += p9.geom_errorbar(\n",
    "    p9.aes(ymin='mean - stderr', ymax='mean + stderr'),\n",
    "    width=0.25,\n",
    "    # alpha=0.6\n",
    ")\n",
    "fig += p9.theme_minimal()\n",
    "\n",
    "fig += p9.geom_text(\n",
    "    p9.aes(label='model'),\n",
    "    data=figdf_avg[figdf_avg.period=='1950-2000'],\n",
    "    adjust_text={'x':0.05, 'y':0.05, 'arrowprops': dict(arrowstyle='-', alpha=0)},\n",
    "    \n",
    "    show_legend=False,\n",
    ")\n",
    "\n",
    "fig += p9.theme(panel_background=p9.element_rect(fill='white'), plot_background=p9.element_rect(fill='white'))\n",
    "fig += p9.geom_hline(yintercept=50, color='gray', linetype='dashed')\n",
    "fig += p9.scale_y_continuous(limits=(0,100))\n",
    "fig += p9.labs(\n",
    "    x='Half-century of poet\\'s birth',\n",
    "    y='Predicted percentage of rhyming poems',\n",
    "    color='Model',\n",
    "    size='Number of poems',\n",
    "    title='Predicted percentage of rhyming poems in generative completions of poems by their historical period',\n",
    "\n",
    ")\n",
    "# fig.save('../figures/rhyme_avgs_by_period_completions2.png')\n",
    "fig"
   ]
  },
  {
   "cell_type": "code",
   "execution_count": 15,
   "metadata": {},
   "outputs": [
    {
     "data": {
      "text/plain": [
       "count    14813.000000\n",
       "mean        12.564707\n",
       "std          3.089484\n",
       "min         10.000000\n",
       "25%         11.000000\n",
       "50%         12.000000\n",
       "75%         14.000000\n",
       "max        108.000000\n",
       "Name: num_lines, dtype: float64"
      ]
     },
     "execution_count": 15,
     "metadata": {},
     "output_type": "execute_result"
    }
   ],
   "source": [
    "df['num_lines'].describe()"
   ]
  },
  {
   "cell_type": "code",
   "execution_count": null,
   "metadata": {},
   "outputs": [],
   "source": []
  },
  {
   "cell_type": "code",
   "execution_count": null,
   "metadata": {},
   "outputs": [
    {
     "data": {
      "text/html": [
       "<div>\n",
       "<style scoped>\n",
       "    .dataframe tbody tr th:only-of-type {\n",
       "        vertical-align: middle;\n",
       "    }\n",
       "\n",
       "    .dataframe tbody tr th {\n",
       "        vertical-align: top;\n",
       "    }\n",
       "\n",
       "    .dataframe thead th {\n",
       "        text-align: right;\n",
       "    }\n",
       "</style>\n",
       "<table border=\"1\" class=\"dataframe\">\n",
       "  <thead>\n",
       "    <tr style=\"text-align: right;\">\n",
       "      <th></th>\n",
       "      <th>groupby</th>\n",
       "      <th>comparison</th>\n",
       "      <th>p_value</th>\n",
       "      <th>effect_size</th>\n",
       "      <th>effect_size_str</th>\n",
       "      <th>mean1</th>\n",
       "      <th>mean2</th>\n",
       "      <th>significant</th>\n",
       "    </tr>\n",
       "  </thead>\n",
       "  <tbody>\n",
       "    <tr>\n",
       "      <th>0</th>\n",
       "      <td>1950-2000</td>\n",
       "      <td>(Historical) vs Claude</td>\n",
       "      <td>0.0000</td>\n",
       "      <td>1.461651</td>\n",
       "      <td>large</td>\n",
       "      <td>14.985994</td>\n",
       "      <td>69.672131</td>\n",
       "      <td>True</td>\n",
       "    </tr>\n",
       "    <tr>\n",
       "      <th>1</th>\n",
       "      <td>1950-2000</td>\n",
       "      <td>Llama vs (Historical)</td>\n",
       "      <td>0.0000</td>\n",
       "      <td>0.997358</td>\n",
       "      <td>large</td>\n",
       "      <td>55.968170</td>\n",
       "      <td>14.985994</td>\n",
       "      <td>True</td>\n",
       "    </tr>\n",
       "    <tr>\n",
       "      <th>2</th>\n",
       "      <td>1950-2000</td>\n",
       "      <td>Olmo vs (Historical)</td>\n",
       "      <td>0.0000</td>\n",
       "      <td>0.840839</td>\n",
       "      <td>large</td>\n",
       "      <td>49.421965</td>\n",
       "      <td>14.985994</td>\n",
       "      <td>True</td>\n",
       "    </tr>\n",
       "    <tr>\n",
       "      <th>5</th>\n",
       "      <td>1950-2000</td>\n",
       "      <td>(Historical) vs DeepSeek</td>\n",
       "      <td>0.0000</td>\n",
       "      <td>0.631730</td>\n",
       "      <td>medium</td>\n",
       "      <td>14.985994</td>\n",
       "      <td>39.189189</td>\n",
       "      <td>True</td>\n",
       "    </tr>\n",
       "    <tr>\n",
       "      <th>7</th>\n",
       "      <td>1950-2000</td>\n",
       "      <td>(Historical) vs ChatGPT</td>\n",
       "      <td>0.0001</td>\n",
       "      <td>0.449703</td>\n",
       "      <td>small</td>\n",
       "      <td>14.985994</td>\n",
       "      <td>31.775701</td>\n",
       "      <td>True</td>\n",
       "    </tr>\n",
       "  </tbody>\n",
       "</table>\n",
       "</div>"
      ],
      "text/plain": [
       "     groupby                comparison  p_value  effect_size effect_size_str      mean1      mean2  significant\n",
       "0  1950-2000    (Historical) vs Claude   0.0000     1.461651           large  14.985994  69.672131         True\n",
       "1  1950-2000     Llama vs (Historical)   0.0000     0.997358           large  55.968170  14.985994         True\n",
       "2  1950-2000      Olmo vs (Historical)   0.0000     0.840839           large  49.421965  14.985994         True\n",
       "5  1950-2000  (Historical) vs DeepSeek   0.0000     0.631730          medium  14.985994  39.189189         True\n",
       "7  1950-2000   (Historical) vs ChatGPT   0.0001     0.449703           small  14.985994  31.775701         True"
      ]
     },
     "execution_count": 78,
     "metadata": {},
     "output_type": "execute_result"
    }
   ],
   "source": [
    "df_stat_signif = compute_all_stat_signif(df).reset_index()\n",
    "df_stat_signif[df_stat_signif.comparison.str.contains(HIST)].query('groupby==\"1950-2000\"').sort_values('effect_size', ascending=False).head(25)"
   ]
  },
  {
   "cell_type": "code",
   "execution_count": null,
   "metadata": {},
   "outputs": [],
   "source": []
  }
 ],
 "metadata": {
  "kernelspec": {
   "display_name": "venv",
   "language": "python",
   "name": "python3"
  },
  "language_info": {
   "codemirror_mode": {
    "name": "ipython",
    "version": 3
   },
   "file_extension": ".py",
   "mimetype": "text/x-python",
   "name": "python",
   "nbconvert_exporter": "python",
   "pygments_lexer": "ipython3",
   "version": "3.11.9"
  }
 },
 "nbformat": 4,
 "nbformat_minor": 4
}
