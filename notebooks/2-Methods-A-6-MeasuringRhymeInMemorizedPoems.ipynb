{
 "cells": [
  {
   "cell_type": "markdown",
   "metadata": {},
   "source": [
    "# Rhyme"
   ]
  },
  {
   "cell_type": "code",
   "execution_count": 7,
   "metadata": {},
   "outputs": [],
   "source": [
    "# !pip install -r ../requirements.txt\n",
    "import sys\n",
    "sys.path.append('../')\n",
    "from generative_formalism import *"
   ]
  },
  {
   "cell_type": "code",
   "execution_count": 9,
   "metadata": {},
   "outputs": [
    {
     "data": {
      "text/markdown": [
       "**`get_all_memorization_data_with_rhyme_data`**\n",
       "\n",
       "```md\n",
       "Get comprehensive memorization data with rhyme analysis for all poems.\n",
       "\n",
       "    This function combines memorization detection results from multiple sources\n",
       "    (Antoniak et al., Chadwyck completions, Dolma) and enriches them with\n",
       "    rhyme analysis data.\n",
       "\n",
       "    Parameters\n",
       "    ----------\n",
       "    overwrite : bool, default False\n",
       "        If True, force reprocessing of all data sources instead of using cached results.\n",
       "    verbose : bool, default True\n",
       "        If True, print progress messages during processing.\n",
       "\n",
       "    Returns\n",
       "    -------\n",
       "    pd.DataFrame\n",
       "        DataFrame containing memorization data with rhyme analysis, indexed by poem ID.\n",
       "        Includes columns for:\n",
       "        - Memorization detection flags and sources\n",
       "        - Poem metadata (title, author, dates, etc.)\n",
       "        - Rhyme analysis metrics and features\n",
       "        - Unique ID hash for each poem\n",
       "\n",
       "    Notes\n",
       "    -----\n",
       "    The returned DataFrame combines data from:\n",
       "    - Antoniak et al. memorization study (closed and open source detection)\n",
       "    - Chadwyck poetry corpus completions (similarity-based detection)\n",
       "    - Dolma training corpus (open source detection)\n",
       "\n",
       "    Rhyme data is computed using get_rhyme_for_sample() and joined with\n",
       "    left suffix '_from_sample' to avoid column name conflicts.\n",
       "    \n",
       "```\n",
       "----\n"
      ],
      "text/plain": [
       "<IPython.core.display.Markdown object>"
      ]
     },
     "metadata": {},
     "output_type": "display_data"
    },
    {
     "name": "stdout",
     "output_type": "stream",
     "text": [
      "* Loading from /Users/rj416/github/generative-formalism/data/data.all_memorization_data.csv.gz\n"
     ]
    },
    {
     "name": "stderr",
     "output_type": "stream",
     "text": [
      "* Getting rhymes for sample: 100%|██████████| 24039/24039 [00:02<00:00, 9354.56it/s]\n"
     ]
    }
   ],
   "source": [
    "documentation(get_all_memorization_data_with_rhyme_data)\n",
    "df_mem_rhyme = get_all_memorization_data_with_rhyme_data()"
   ]
  },
  {
   "cell_type": "code",
   "execution_count": 10,
   "metadata": {},
   "outputs": [
    {
     "name": "stderr",
     "output_type": "stream",
     "text": [
      "Computing comparisons:   0%|          | 0/1 [00:00<?, ?it/s]"
     ]
    },
    {
     "name": "stderr",
     "output_type": "stream",
     "text": [
      "Computing comparisons: 100%|██████████| 1/1 [00:00<00:00,  2.35it/s]\n",
      "Computing comparisons: 100%|██████████| 1/1 [00:01<00:00,  1.06s/it]\n",
      "Computing comparisons: 100%|██████████| 1/1 [00:00<00:00,  2.67it/s]\n",
      "Computing comparisons: 100%|██████████| 1/1 [00:00<00:00,  2.16it/s]\n"
     ]
    },
    {
     "data": {
      "text/html": [
       "<div>\n",
       "<style scoped>\n",
       "    .dataframe tbody tr th:only-of-type {\n",
       "        vertical-align: middle;\n",
       "    }\n",
       "\n",
       "    .dataframe tbody tr th {\n",
       "        vertical-align: top;\n",
       "    }\n",
       "\n",
       "    .dataframe thead th {\n",
       "        text-align: right;\n",
       "    }\n",
       "</style>\n",
       "<table border=\"1\" class=\"dataframe\">\n",
       "  <thead>\n",
       "    <tr style=\"text-align: right;\">\n",
       "      <th></th>\n",
       "      <th>comparison</th>\n",
       "      <th>n1</th>\n",
       "      <th>n2</th>\n",
       "      <th>p_value</th>\n",
       "      <th>effect_size</th>\n",
       "      <th>effect_size_str</th>\n",
       "      <th>mean1</th>\n",
       "      <th>mean2</th>\n",
       "      <th>significant</th>\n",
       "      <th>found</th>\n",
       "      <th>groupby</th>\n",
       "    </tr>\n",
       "  </thead>\n",
       "  <tbody>\n",
       "    <tr>\n",
       "      <th>0</th>\n",
       "      <td>True vs False</td>\n",
       "      <td>1723</td>\n",
       "      <td>2330</td>\n",
       "      <td>0.0000</td>\n",
       "      <td>0.902182</td>\n",
       "      <td>large</td>\n",
       "      <td>53.105049</td>\n",
       "      <td>14.935622</td>\n",
       "      <td>True</td>\n",
       "      <td>False</td>\n",
       "      <td>closed|antoniak-et-al</td>\n",
       "    </tr>\n",
       "    <tr>\n",
       "      <th>0</th>\n",
       "      <td>False vs True</td>\n",
       "      <td>11227</td>\n",
       "      <td>71</td>\n",
       "      <td>0.0483</td>\n",
       "      <td>0.245205</td>\n",
       "      <td>small</td>\n",
       "      <td>72.111873</td>\n",
       "      <td>83.098592</td>\n",
       "      <td>True</td>\n",
       "      <td>True</td>\n",
       "      <td>closed|chadwyck</td>\n",
       "    </tr>\n",
       "    <tr>\n",
       "      <th>0</th>\n",
       "      <td>True vs False</td>\n",
       "      <td>1759</td>\n",
       "      <td>2294</td>\n",
       "      <td>0.0000</td>\n",
       "      <td>0.130050</td>\n",
       "      <td></td>\n",
       "      <td>34.565094</td>\n",
       "      <td>28.552746</td>\n",
       "      <td>True</td>\n",
       "      <td>False</td>\n",
       "      <td>open|antoniak-et-al</td>\n",
       "    </tr>\n",
       "    <tr>\n",
       "      <th>0</th>\n",
       "      <td>True vs False</td>\n",
       "      <td>406</td>\n",
       "      <td>4229</td>\n",
       "      <td>0.8130</td>\n",
       "      <td>0.014370</td>\n",
       "      <td></td>\n",
       "      <td>71.428571</td>\n",
       "      <td>72.073776</td>\n",
       "      <td>False</td>\n",
       "      <td>False</td>\n",
       "      <td>open|chadwyck</td>\n",
       "    </tr>\n",
       "  </tbody>\n",
       "</table>\n",
       "</div>"
      ],
      "text/plain": [
       "      comparison     n1    n2  p_value  effect_size effect_size_str      mean1      mean2  significant  found                groupby\n",
       "0  True vs False   1723  2330   0.0000     0.902182           large  53.105049  14.935622         True  False  closed|antoniak-et-al\n",
       "0  False vs True  11227    71   0.0483     0.245205           small  72.111873  83.098592         True   True        closed|chadwyck\n",
       "0  True vs False   1759  2294   0.0000     0.130050                  34.565094  28.552746         True  False    open|antoniak-et-al\n",
       "0  True vs False    406  4229   0.8130     0.014370                  71.428571  72.073776        False  False          open|chadwyck"
      ]
     },
     "execution_count": 10,
     "metadata": {},
     "output_type": "execute_result"
    }
   ],
   "source": [
    "compute_all_stat_signif(\n",
    "    df_mem_rhyme, \n",
    "    groupby='found_source_corpus',\n",
    "    groupby_stat='found',\n",
    "    valname='rhyme_pred_perc',\n",
    "    verbose=True,\n",
    ")"
   ]
  },
  {
   "cell_type": "code",
   "execution_count": null,
   "metadata": {},
   "outputs": [],
   "source": []
  },
  {
   "cell_type": "code",
   "execution_count": null,
   "metadata": {},
   "outputs": [],
   "source": []
  }
 ],
 "metadata": {
  "kernelspec": {
   "display_name": "venv",
   "language": "python",
   "name": "python3"
  },
  "language_info": {
   "codemirror_mode": {
    "name": "ipython",
    "version": 3
   },
   "file_extension": ".py",
   "mimetype": "text/x-python",
   "name": "python",
   "nbconvert_exporter": "python",
   "pygments_lexer": "ipython3",
   "version": "3.11.9"
  }
 },
 "nbformat": 4,
 "nbformat_minor": 4
}
