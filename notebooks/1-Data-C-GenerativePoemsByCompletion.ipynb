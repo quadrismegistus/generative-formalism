{
 "cells": [
  {
   "cell_type": "code",
   "execution_count": 1,
   "metadata": {
    "execution": {
     "iopub.execute_input": "2025-09-15T21:51:24.962111Z",
     "iopub.status.busy": "2025-09-15T21:51:24.961948Z",
     "iopub.status.idle": "2025-09-15T21:51:24.964437Z",
     "shell.execute_reply": "2025-09-15T21:51:24.964212Z"
    }
   },
   "outputs": [],
   "source": [
    "# Options\n",
    "RUN_LLM_COMPLETIONS = False\n",
    "N_TO_GENERATE = 1\n",
    "\n",
    "poem = \"\"\"\n",
    "While the water tower squats Like a Turkish bird\n",
    "on the ridge and smiles more nicely the other way in green\n",
    "and bougainvillaea to where the warmest houses face north,\n",
    "\n",
    "the dead well-to-do are ignored and grumble in the plumbing.\n",
    "This could be a local myth. There could be many.\n",
    "Stark living rooms made to be seen into\n",
    "\n",
    "stare at each other often across the streets and say secrets.\n",
    "No brass and marble now. But it's more humbling\n",
    "buying groceries on a teak floor and more Like us\n",
    "\n",
    "to prefer the peopled ruin. I see the gaping fanlight\n",
    "in the hallway behind a fruit-stall on the stoep\n",
    "after rugby and now when it's dry and the roads turn back\n",
    "\n",
    "to gravel into driveways, dust rises and sweet william and anthracite\n",
    "are there. There is a real side, where, when you never stopped before,\n",
    "you hear whispering on corners only you understand.\n",
    "\"\"\""
   ]
  },
  {
   "cell_type": "code",
   "execution_count": 2,
   "metadata": {},
   "outputs": [
    {
     "data": {
      "text/markdown": [
       "\n",
       "# Prompting for completions of poems\n",
       "## Running prompts and models\n",
       "\n",
       "### Prompt used\n",
       "#### System prompt\n",
       "\n",
       "```md\n",
       "The following is the first 2 lines from a poem given in the user prompt, whose true number of lines is stated there.\n",
       "\n",
       "Complete the poem – do this from memory if you know it; if not, imitate its style and theme for the same number of lines as in the original.\n",
       "\n",
       "Return lines in tab-separated form, starting from line 3 up to the stated number of lines:\n",
       "\n",
       "    line#\tline\n",
       "\n",
       "Do not return any other text besides these tab-separated lines.\n",
       "```\n",
       "\n",
       "#### User prompt (e.g.)\n",
       "\n",
       "```md\n",
       "NUMBER OF LINES: 15\n",
       "\n",
       "1\tWhile the water tower squats Like a Turkish bird\n",
       "2\ton the ridge and smiles more nicely the other way in green\n",
       "3\tand bougainvillaea to where the warmest houses face north,\n",
       "\n",
       "4\tthe dead well-to-do are ignored and grumble in the plumbing.\n",
       "5\tThis could be a local myth. There could be many.\n",
       "```"
      ],
      "text/plain": [
       "<IPython.core.display.Markdown object>"
      ]
     },
     "metadata": {},
     "output_type": "display_data"
    },
    {
     "data": {
      "text/markdown": [
       "## Collecting generated poem completions"
      ],
      "text/plain": [
       "<IPython.core.display.Markdown object>"
      ]
     },
     "metadata": {},
     "output_type": "display_data"
    },
    {
     "data": {
      "text/markdown": [
       "##### `get_genai_rhyme_completions`: Unified accessor for genai rhyme completions with source selection."
      ],
      "text/plain": [
       "<IPython.core.display.Markdown object>"
      ]
     },
     "metadata": {},
     "output_type": "display_data"
    },
    {
     "data": {
      "text/markdown": [
       "### Data as in paper"
      ],
      "text/plain": [
       "<IPython.core.display.Markdown object>"
      ]
     },
     "metadata": {},
     "output_type": "display_data"
    },
    {
     "name": "stdout",
     "output_type": "stream",
     "text": [
      "* Loading legacy genai rhyme completions from {PATH_REPO}/data/data_as_in_paper/genai_rhyme_completions.csv.gz\n"
     ]
    },
    {
     "name": "stderr",
     "output_type": "stream",
     "text": [
      "100%|██████████| 326862/326862 [00:03<00:00, 96768.74it/s] \n",
      "* Filtering out recognized completions: 100%|██████████| 11298/11298 [00:00<00:00, 20285.66it/s]\n"
     ]
    },
    {
     "name": "stdout",
     "output_type": "stream",
     "text": [
      "* Filtered out 140 recognized poems\n"
     ]
    },
    {
     "data": {
      "text/html": [
       "<div>\n",
       "<style scoped>\n",
       "    .dataframe tbody tr th:only-of-type {\n",
       "        vertical-align: middle;\n",
       "    }\n",
       "\n",
       "    .dataframe tbody tr th {\n",
       "        vertical-align: top;\n",
       "    }\n",
       "\n",
       "    .dataframe thead th {\n",
       "        text-align: right;\n",
       "    }\n",
       "</style>\n",
       "<table border=\"1\" class=\"dataframe\">\n",
       "  <thead>\n",
       "    <tr style=\"text-align: right;\">\n",
       "      <th></th>\n",
       "      <th>model</th>\n",
       "      <th>first_n_lines</th>\n",
       "      <th>version</th>\n",
       "      <th>id</th>\n",
       "      <th>stanza_num</th>\n",
       "      <th>line_num</th>\n",
       "      <th>say_poem</th>\n",
       "      <th>timestamp</th>\n",
       "      <th>line_real</th>\n",
       "      <th>line_gen</th>\n",
       "      <th>line_sim</th>\n",
       "    </tr>\n",
       "  </thead>\n",
       "  <tbody>\n",
       "    <tr>\n",
       "      <th>303086</th>\n",
       "      <td>ollama/llama3.1:8b</td>\n",
       "      <td>5</td>\n",
       "      <td>1</td>\n",
       "      <td>african-american/belljame/Z200277067</td>\n",
       "      <td>1</td>\n",
       "      <td>1</td>\n",
       "      <td>True</td>\n",
       "      <td>1.742863e+09</td>\n",
       "      <td>Moments of youth, o, how swiftly they roll,</td>\n",
       "      <td></td>\n",
       "      <td>NaN</td>\n",
       "    </tr>\n",
       "    <tr>\n",
       "      <th>303087</th>\n",
       "      <td>ollama/llama3.1:8b</td>\n",
       "      <td>5</td>\n",
       "      <td>1</td>\n",
       "      <td>african-american/belljame/Z200277067</td>\n",
       "      <td>1</td>\n",
       "      <td>2</td>\n",
       "      <td>True</td>\n",
       "      <td>1.742863e+09</td>\n",
       "      <td>And yet they are priceless as mountains of gold.</td>\n",
       "      <td></td>\n",
       "      <td>NaN</td>\n",
       "    </tr>\n",
       "    <tr>\n",
       "      <th>...</th>\n",
       "      <td>...</td>\n",
       "      <td>...</td>\n",
       "      <td>...</td>\n",
       "      <td>...</td>\n",
       "      <td>...</td>\n",
       "      <td>...</td>\n",
       "      <td>...</td>\n",
       "      <td>...</td>\n",
       "      <td>...</td>\n",
       "      <td>...</td>\n",
       "      <td>...</td>\n",
       "    </tr>\n",
       "    <tr>\n",
       "      <th>195174</th>\n",
       "      <td>ollama/llama3.1:8b-text-q4_K_M</td>\n",
       "      <td>5</td>\n",
       "      <td>1</td>\n",
       "      <td>modern/sci0101/Z200480982</td>\n",
       "      <td>6</td>\n",
       "      <td>16</td>\n",
       "      <td>True</td>\n",
       "      <td>1.742476e+09</td>\n",
       "      <td>they may easily be smoothed either by ironing</td>\n",
       "      <td>shed and the man standing in front of it.</td>\n",
       "      <td>41.860465</td>\n",
       "    </tr>\n",
       "    <tr>\n",
       "      <th>195175</th>\n",
       "      <td>ollama/llama3.1:8b-text-q4_K_M</td>\n",
       "      <td>5</td>\n",
       "      <td>1</td>\n",
       "      <td>modern/sci0101/Z200480982</td>\n",
       "      <td>6</td>\n",
       "      <td>17</td>\n",
       "      <td>True</td>\n",
       "      <td>1.742476e+09</td>\n",
       "      <td>or by being left some hours in a press.\"</td>\n",
       "      <td>Later, she would learn about the</td>\n",
       "      <td>36.111111</td>\n",
       "    </tr>\n",
       "  </tbody>\n",
       "</table>\n",
       "<p>319384 rows × 11 columns</p>\n",
       "</div>"
      ],
      "text/plain": [
       "                                 model  first_n_lines  version                                    id  stanza_num  line_num  say_poem     timestamp                                         line_real  \\\n",
       "303086              ollama/llama3.1:8b              5        1  african-american/belljame/Z200277067           1         1      True  1.742863e+09       Moments of youth, o, how swiftly they roll,   \n",
       "303087              ollama/llama3.1:8b              5        1  african-american/belljame/Z200277067           1         2      True  1.742863e+09  And yet they are priceless as mountains of gold.   \n",
       "...                                ...            ...      ...                                   ...         ...       ...       ...           ...                                               ...   \n",
       "195174  ollama/llama3.1:8b-text-q4_K_M              5        1             modern/sci0101/Z200480982           6        16      True  1.742476e+09     they may easily be smoothed either by ironing   \n",
       "195175  ollama/llama3.1:8b-text-q4_K_M              5        1             modern/sci0101/Z200480982           6        17      True  1.742476e+09          or by being left some hours in a press.\"   \n",
       "\n",
       "                                         line_gen   line_sim  \n",
       "303086                                                   NaN  \n",
       "303087                                                   NaN  \n",
       "...                                           ...        ...  \n",
       "195174  shed and the man standing in front of it.  41.860465  \n",
       "195175           Later, she would learn about the  36.111111  \n",
       "\n",
       "[319384 rows x 11 columns]"
      ]
     },
     "metadata": {},
     "output_type": "display_data"
    },
    {
     "data": {
      "text/markdown": [
       "### Data as replicated"
      ],
      "text/plain": [
       "<IPython.core.display.Markdown object>"
      ]
     },
     "metadata": {},
     "output_type": "display_data"
    },
    {
     "name": "stdout",
     "output_type": "stream",
     "text": [
      "* Collecting from /Users/rj416/github/generative-formalism/data/stash/genai_rhyme_completions/lmdb.hashstash.lz4+b64/data.db\n",
      "  * 8 generated completions\n"
     ]
    },
    {
     "data": {
      "text/html": [
       "<div>\n",
       "<style scoped>\n",
       "    .dataframe tbody tr th:only-of-type {\n",
       "        vertical-align: middle;\n",
       "    }\n",
       "\n",
       "    .dataframe tbody tr th {\n",
       "        vertical-align: top;\n",
       "    }\n",
       "\n",
       "    .dataframe thead th {\n",
       "        text-align: right;\n",
       "    }\n",
       "</style>\n",
       "<table border=\"1\" class=\"dataframe\">\n",
       "  <thead>\n",
       "    <tr style=\"text-align: right;\">\n",
       "      <th></th>\n",
       "      <th></th>\n",
       "      <th></th>\n",
       "      <th></th>\n",
       "      <th>id_hash</th>\n",
       "      <th>txt</th>\n",
       "      <th>num_lines</th>\n",
       "      <th>temperature</th>\n",
       "      <th>prompt</th>\n",
       "      <th>system_prompt</th>\n",
       "    </tr>\n",
       "    <tr>\n",
       "      <th>model</th>\n",
       "      <th>first_n_lines</th>\n",
       "      <th>id</th>\n",
       "      <th>keep_first_n_lines</th>\n",
       "      <th></th>\n",
       "      <th></th>\n",
       "      <th></th>\n",
       "      <th></th>\n",
       "      <th></th>\n",
       "      <th></th>\n",
       "    </tr>\n",
       "  </thead>\n",
       "  <tbody>\n",
       "    <tr>\n",
       "      <th rowspan=\"4\" valign=\"top\">claude-3-haiku-20240307</th>\n",
       "      <th rowspan=\"4\" valign=\"top\">5</th>\n",
       "      <th>da0aca4b</th>\n",
       "      <th>False</th>\n",
       "      <td>563216</td>\n",
       "      <td>The stories whispered in the night, echoing th...</td>\n",
       "      <td>10</td>\n",
       "      <td>0.7</td>\n",
       "      <td>NUMBER OF LINES: 15\\n\\n1\\tWhile the water towe...</td>\n",
       "      <td>The following is the first 5 lines from a poem...</td>\n",
       "    </tr>\n",
       "    <tr>\n",
       "      <th>64b19aac</th>\n",
       "      <th>False</th>\n",
       "      <td>257077</td>\n",
       "      <td>The living have their troubles, their worries ...</td>\n",
       "      <td>10</td>\n",
       "      <td>0.7</td>\n",
       "      <td>NUMBER OF LINES: 15\\n\\n1\\tWhile the water towe...</td>\n",
       "      <td>The following is the first 5 lines from a poem...</td>\n",
       "    </tr>\n",
       "    <tr>\n",
       "      <th>19fe1144</th>\n",
       "      <th>False</th>\n",
       "      <td>841235</td>\n",
       "      <td>Is my mind's love, that in thy soul doth lie:\\...</td>\n",
       "      <td>9</td>\n",
       "      <td>0.7</td>\n",
       "      <td>NUMBER OF LINES: 14\\n\\n1\\tWhen most I wink, th...</td>\n",
       "      <td>The following is the first 5 lines from a poem...</td>\n",
       "    </tr>\n",
       "    <tr>\n",
       "      <th>3aada5ef</th>\n",
       "      <th>False</th>\n",
       "      <td>556298</td>\n",
       "      <td>Is my soul's food, and thou art my soul's shad...</td>\n",
       "      <td>9</td>\n",
       "      <td>0.7</td>\n",
       "      <td>NUMBER OF LINES: 14\\n\\n1\\tWhen most I wink, th...</td>\n",
       "      <td>The following is the first 5 lines from a poem...</td>\n",
       "    </tr>\n",
       "  </tbody>\n",
       "</table>\n",
       "</div>"
      ],
      "text/plain": [
       "                                                                   id_hash                                                txt  num_lines  temperature  \\\n",
       "model                   first_n_lines id       keep_first_n_lines                                                                                       \n",
       "claude-3-haiku-20240307 5             da0aca4b False                563216  The stories whispered in the night, echoing th...         10          0.7   \n",
       "                                      64b19aac False                257077  The living have their troubles, their worries ...         10          0.7   \n",
       "                                      19fe1144 False                841235  Is my mind's love, that in thy soul doth lie:\\...          9          0.7   \n",
       "                                      3aada5ef False                556298  Is my soul's food, and thou art my soul's shad...          9          0.7   \n",
       "\n",
       "                                                                                                              prompt                                      system_prompt  \n",
       "model                   first_n_lines id       keep_first_n_lines                                                                                                        \n",
       "claude-3-haiku-20240307 5             da0aca4b False               NUMBER OF LINES: 15\\n\\n1\\tWhile the water towe...  The following is the first 5 lines from a poem...  \n",
       "                                      64b19aac False               NUMBER OF LINES: 15\\n\\n1\\tWhile the water towe...  The following is the first 5 lines from a poem...  \n",
       "                                      19fe1144 False               NUMBER OF LINES: 14\\n\\n1\\tWhen most I wink, th...  The following is the first 5 lines from a poem...  \n",
       "                                      3aada5ef False               NUMBER OF LINES: 14\\n\\n1\\tWhen most I wink, th...  The following is the first 5 lines from a poem...  "
      ]
     },
     "metadata": {},
     "output_type": "display_data"
    }
   ],
   "source": [
    "# Code\n",
    "import sys\n",
    "sys.path.append('../')\n",
    "from generative_formalism import *\n",
    "\n",
    "# Preface and prompts\n",
    "printm(f'''\n",
    "# Prompting for completions of poems\n",
    "## Running prompts and models\n",
    "\n",
    "### Prompt used\n",
    "#### System prompt\n",
    "\n",
    "```md\n",
    "{get_rhyme_completion_system_prompt()}\n",
    "```\n",
    "\n",
    "#### User prompt (e.g.)\n",
    "\n",
    "```md\n",
    "{get_rhyme_completion_user_prompt(poem, first_n_lines=FIRST_N_LINES)}\n",
    "```''')\n",
    "\n",
    "if RUN_LLM_COMPLETIONS:\n",
    "    documentation(complete_poem)\n",
    "    complete_poem(\n",
    "        poem,\n",
    "        first_n_lines=FIRST_N_LINES,\n",
    "        force=REPLICATE_OVERWRITE,\n",
    "        model=get_working_model(),\n",
    "        verbose=DEFAULT_VERBOSE,\n",
    "        temperature=DEFAULT_TEMPERATURE,\n",
    "        stash=STASH_GENAI_RHYME_COMPLETIONS,\n",
    "    )\n",
    "\n",
    "    if N_TO_GENERATE > 1:\n",
    "        max_n_combo=25\n",
    "        source_poems_sample='period'\n",
    "        n_to_gen = 3\n",
    "\n",
    "        generate_more_completions(\n",
    "            n=N_TO_GENERATE,\n",
    "            models=filter_available_models(models=MODEL_LIST, verbose=False),\n",
    "            first_n_lines=FIRST_N_LINES,\n",
    "            temperatures=[DEFAULT_TEMPERATURE],\n",
    "            verbose=DEFAULT_VERBOSE,\n",
    "            force=False,\n",
    "            max_n_combo=25,\n",
    "            source_poems_sample='period',\n",
    "        )\n",
    "\n",
    "printm('## Collecting generated poem completions')\n",
    "documentation(get_genai_rhyme_completions)\n",
    "\n",
    "\n",
    "printm('### Data as in paper')\n",
    "df_rhyme_completions_in_paper = get_genai_rhyme_completions()\n",
    "display(df_rhyme_completions_in_paper)\n",
    "\n",
    "printm('### Data as replicated')\n",
    "df_rhyme_completions_as_replicated = get_genai_rhyme_completions(as_in_paper=False, as_replicated=True)\n",
    "display(df_rhyme_completions_as_replicated)\n"
   ]
  },
  {
   "cell_type": "code",
   "execution_count": null,
   "metadata": {},
   "outputs": [],
   "source": []
  }
 ],
 "metadata": {
  "kernelspec": {
   "display_name": "venv",
   "language": "python",
   "name": "python3"
  },
  "language_info": {
   "codemirror_mode": {
    "name": "ipython",
    "version": 3
   },
   "file_extension": ".py",
   "mimetype": "text/x-python",
   "name": "python",
   "nbconvert_exporter": "python",
   "pygments_lexer": "ipython3",
   "version": "3.11.9"
  }
 },
 "nbformat": 4,
 "nbformat_minor": 2
}
