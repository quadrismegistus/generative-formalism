{
 "cells": [
  {
   "cell_type": "code",
   "execution_count": 7,
   "metadata": {
    "execution": {
     "iopub.execute_input": "2025-09-15T21:51:24.962111Z",
     "iopub.status.busy": "2025-09-15T21:51:24.961948Z",
     "iopub.status.idle": "2025-09-15T21:51:24.964437Z",
     "shell.execute_reply": "2025-09-15T21:51:24.964212Z"
    }
   },
   "outputs": [],
   "source": [
    "# Options\n",
    "RUN_LLM_COMPLETIONS = False\n",
    "N_TO_GENERATE = 1\n",
    "\n",
    "poem1=\"\"\"\n",
    "And if I have a soul my soul is green\n",
    "And if it sings it doesn't sing to me\n",
    "And if it loves it loves externally\n",
    "Both what it has and what it hasn't seen\n",
    "\n",
    "And if it's green it may as well be high\n",
    "And if ambition doesn't give it height\n",
    "And if it only rises with a fight\n",
    "Against itself and not against the sky\n",
    "\n",
    "If all the force it uses leaves me free\n",
    "This proves it not just definite but right\n",
    "\"\"\"\n",
    "\n",
    "poem2=\"\"\"\n",
    "When most I wink, then do mine eyes best see,\n",
    "For all the day they view things unrespected;\n",
    "But when I sleep, in dreams they look on thee,\n",
    "And darkly bright are bright in dark directed.\n",
    "Then thou, whose shadow shadows doth make bright,\n",
    "How would thy shadow's form form happy show\n",
    "To the clear day with thy much clearer light,\n",
    "When to unseeing eyes thy shade shines so!\n",
    "How would, I say, mine eyes be blessed made\n",
    "By looking on thee in the living day,\n",
    "When in dead night thy fair imperfect shade\n",
    "Through heavy sleep on sightless eyes doth stay!\n",
    "All days are nights to see till I see thee,\n",
    "And nights bright days when dreams do show thee me.\n",
    "\"\"\"\n",
    "\n",
    "poem3=\"\"\"\n",
    "While the water tower squats Like a Turkish bird\n",
    "on the ridge and smiles more nicely the other way in green\n",
    "and bougainvillaea to where the warmest houses face north,\n",
    "\n",
    "the dead well-to-do are ignored and grumble in the plumbing.\n",
    "This could be a local myth. There could be many.\n",
    "Stark living rooms made to be seen into\n",
    "\n",
    "stare at each other often across the streets and say secrets.\n",
    "No brass and marble now. But it's more humbling\n",
    "buying groceries on a teak floor and more Like us\n",
    "\n",
    "to prefer the peopled ruin. I see the gaping fanlight\n",
    "in the hallway behind a fruit-stall on the stoep\n",
    "after rugby and now when it's dry and the roads turn back\n",
    "\n",
    "to gravel into driveways, dust rises and sweet william and anthracite\n",
    "are there. There is a real side, where, when you never stopped before,\n",
    "you hear whispering on corners only you understand.\n",
    "\"\"\"\n",
    "\n",
    "# print(get_first_n_lines(poem, None))\n",
    "\n",
    "txt = poem3"
   ]
  },
  {
   "cell_type": "code",
   "execution_count": 8,
   "metadata": {},
   "outputs": [
    {
     "data": {
      "text/markdown": [
       "\n",
       "# Prompting for completions of poems\n",
       "## Running prompts and models\n",
       "\n",
       "### Prompt used\n",
       "#### System prompt\n",
       "\n",
       "```md\n",
       "The following is the first 2 lines from a poem given in the user prompt, whose true number of lines is stated there.\n",
       "\n",
       "Complete the poem – do this from memory if you know it; if not, imitate its style and theme for the same number of lines as in the original.\n",
       "\n",
       "Return lines in tab-separated form, starting from line 3 up to the stated number of lines:\n",
       "\n",
       "    line#\tline\n",
       "\n",
       "Do not return any other text besides these tab-separated lines.\n",
       "```\n",
       "\n",
       "#### User prompt (e.g.)\n",
       "\n",
       "```md\n",
       "NUMBER OF LINES: 15\n",
       "\n",
       "1\tWhile the water tower squats Like a Turkish bird\n",
       "2\ton the ridge and smiles more nicely the other way in green\n",
       "3\tand bougainvillaea to where the warmest houses face north,\n",
       "\n",
       "4\tthe dead well-to-do are ignored and grumble in the plumbing.\n",
       "5\tThis could be a local myth. There could be many.\n",
       "```"
      ],
      "text/plain": [
       "<IPython.core.display.Markdown object>"
      ]
     },
     "metadata": {},
     "output_type": "display_data"
    },
    {
     "data": {
      "text/markdown": [
       "## Collecting generated poem completions"
      ],
      "text/plain": [
       "<IPython.core.display.Markdown object>"
      ]
     },
     "metadata": {},
     "output_type": "display_data"
    },
    {
     "data": {
      "text/markdown": [
       "##### `preprocess_legacy_genai_rhyme_completions`: Preprocess legacy generative AI rhyme completions from raw pickle files."
      ],
      "text/plain": [
       "<IPython.core.display.Markdown object>"
      ]
     },
     "metadata": {},
     "output_type": "display_data"
    },
    {
     "data": {
      "text/markdown": [
       "##### `get_genai_rhyme_completions`: Unified accessor for genai rhyme completions with source selection."
      ],
      "text/plain": [
       "<IPython.core.display.Markdown object>"
      ]
     },
     "metadata": {},
     "output_type": "display_data"
    }
   ],
   "source": [
    "# Code\n",
    "import sys\n",
    "sys.path.append('../')\n",
    "from generative_formalism import *\n",
    "\n",
    "# Preface\n",
    "printm(f'''\n",
    "# Prompting for completions of poems\n",
    "## Running prompts and models\n",
    "\n",
    "### Prompt used\n",
    "#### System prompt\n",
    "\n",
    "```md\n",
    "{get_rhyme_completion_system_prompt()}\n",
    "```\n",
    "\n",
    "#### User prompt (e.g.)\n",
    "\n",
    "```md\n",
    "{get_rhyme_completion_user_prompt(txt, first_n_lines=FIRST_N_LINES)}\n",
    "```''')\n",
    "\n",
    "if RUN_LLM_COMPLETIONS:\n",
    "    documentation(complete_poem)\n",
    "    complete_poem(\n",
    "        txt,\n",
    "        first_n_lines=FIRST_N_LINES,\n",
    "        force=REPLICATE_OVERWRITE,\n",
    "        model=get_working_model(),\n",
    "        verbose=DEFAULT_VERBOSE,\n",
    "        temperature=DEFAULT_TEMPERATURE,\n",
    "        stash=STASH_GENAI_RHYME_COMPLETIONS,\n",
    "    )\n",
    "\n",
    "    if N_TO_GENERATE > 1:\n",
    "        max_n_combo=25\n",
    "        source_poems_sample='period'\n",
    "        n_to_gen = 3\n",
    "\n",
    "        generate_more_completions(\n",
    "            n=N_TO_GENERATE,\n",
    "            models=filter_available_models(models=MODEL_LIST, verbose=False),\n",
    "            first_n_lines=FIRST_N_LINES,\n",
    "            temperatures=[DEFAULT_TEMPERATURE],\n",
    "            verbose=DEFAULT_VERBOSE,\n",
    "            force=False,\n",
    "            max_n_combo=25,\n",
    "            source_poems_sample='period',\n",
    "        )\n",
    "\n",
    "printm('## Collecting generated poem completions')\n",
    "documentation(preprocess_legacy_genai_rhyme_completions)\n",
    "documentation(get_genai_rhyme_completions)\n"
   ]
  },
  {
   "cell_type": "code",
   "execution_count": 5,
   "metadata": {},
   "outputs": [
    {
     "data": {
      "text/plain": [
       "['claude-3-haiku-20240307',\n",
       " 'claude-3-opus-20240229',\n",
       " 'claude-3-sonnet-20240229',\n",
       " 'deepseek/deepseek-chat',\n",
       " 'gemini-pro',\n",
       " 'gpt-3.5-turbo',\n",
       " 'gpt-4-turbo',\n",
       " 'ollama/llama3.1:70b',\n",
       " 'ollama/llama3.1:8b',\n",
       " 'ollama/olmo2',\n",
       " 'ollama/olmo2:13b']"
      ]
     },
     "execution_count": 5,
     "metadata": {},
     "output_type": "execute_result"
    }
   ],
   "source": [
    "MODEL_LIST"
   ]
  },
  {
   "cell_type": "code",
   "execution_count": null,
   "metadata": {},
   "outputs": [],
   "source": []
  }
 ],
 "metadata": {
  "kernelspec": {
   "display_name": "venv",
   "language": "python",
   "name": "python3"
  },
  "language_info": {
   "codemirror_mode": {
    "name": "ipython",
    "version": 3
   },
   "file_extension": ".py",
   "mimetype": "text/x-python",
   "name": "python",
   "nbconvert_exporter": "python",
   "pygments_lexer": "ipython3",
   "version": "3.11.9"
  }
 },
 "nbformat": 4,
 "nbformat_minor": 2
}
