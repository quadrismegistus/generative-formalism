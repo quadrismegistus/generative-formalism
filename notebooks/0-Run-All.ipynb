{
 "cells": [
  {
   "cell_type": "code",
   "execution_count": null,
   "id": "5ee9a60d",
   "metadata": {},
   "outputs": [],
   "source": [
    "%run 1-Data-A-HistoricalPoems.ipynb\n",
    "%run 1-Data-B-GenerativePoemsByPrompt.ipynb\n",
    "%run 1-Data-C-GenerativePoemsByCompletion.ipynb"
   ]
  }
 ],
 "metadata": {
  "kernelspec": {
   "display_name": "venv",
   "language": "python",
   "name": "python3"
  },
  "language_info": {
   "codemirror_mode": {
    "name": "ipython",
    "version": 3
   },
   "file_extension": ".py",
   "mimetype": "text/x-python",
   "name": "python",
   "nbconvert_exporter": "python",
   "pygments_lexer": "ipython3",
   "version": "3.11.9"
  }
 },
 "nbformat": 4,
 "nbformat_minor": 5
}
