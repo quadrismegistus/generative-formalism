{
 "cells": [
  {
   "cell_type": "markdown",
   "metadata": {},
   "source": [
    "# Corpus: Chadwyck-Healey poetry collections"
   ]
  },
  {
   "cell_type": "markdown",
   "metadata": {},
   "source": [
    "## Loading corpus from source"
   ]
  },
  {
   "cell_type": "code",
   "execution_count": 1,
   "metadata": {},
   "outputs": [
    {
     "name": "stdout",
     "output_type": "stream",
     "text": [
      "✓ Chadwyck-Healey corpus path: /Users/rj416/github/generative-formalism/data/chadwyck_poetry/txt\n",
      "✓ Chadwyck-Healey metadata path: /Users/rj416/github/generative-formalism/data/chadwyck_poetry/metadata.csv\n",
      "✓ Metadata file URL set in environment (.env or shell)\n",
      "✓ Corpus text file URL set in environment (.env or shell)\n"
     ]
    }
   ],
   "source": [
    "import sys\n",
    "sys.path.append('../')\n",
    "from generative_formalism import *\n",
    "\n",
    "# Get the Chadwyck-Healey corpus path\n",
    "print(f\"\"\"{\"✓\" if PATH_CHADWYCK_HEALEY_TXT and os.path.exists(PATH_CHADWYCK_HEALEY_TXT) else \"X\"} Chadwyck-Healey corpus path: {PATH_CHADWYCK_HEALEY_TXT}\"\"\")\n",
    "print(f\"\"\"{\"✓\" if PATH_CHADWYCK_HEALEY_METADATA and os.path.exists(PATH_CHADWYCK_HEALEY_METADATA) else \"X\"} Chadwyck-Healey metadata path: {PATH_CHADWYCK_HEALEY_METADATA}\"\"\")\n",
    "\n",
    "# Download if necessary?\n",
    "print(f\"\"\"{\"✓\" if URL_CHADWYCK_HEALEY_METADATA and URL_CHADWYCK_HEALEY_METADATA else \"X\"} Metadata file URL set in environment (.env or shell)\"\"\")\n",
    "print(f\"\"\"{\"✓\" if URL_CHADWYCK_HEALEY_TXT and URL_CHADWYCK_HEALEY_TXT else \"X\"} Corpus text file URL set in environment (.env or shell)\"\"\")"
   ]
  },
  {
   "cell_type": "code",
   "execution_count": 2,
   "metadata": {},
   "outputs": [
    {
     "data": {
      "text/markdown": [
       "### Loading corpus metadata"
      ],
      "text/plain": [
       "<IPython.core.display.Markdown object>"
      ]
     },
     "metadata": {},
     "output_type": "display_data"
    },
    {
     "data": {
      "text/markdown": [
       "#### Getting Chadwyck-Healey corpus metadata"
      ],
      "text/plain": [
       "<IPython.core.display.Markdown object>"
      ]
     },
     "metadata": {},
     "output_type": "display_data"
    },
    {
     "name": "stdout",
     "output_type": "stream",
     "text": [
      "* Loading metadata from /Users/rj416/github/generative-formalism/data/chadwyck_poetry/metadata.csv\n",
      "* Loaded 336180 rows of metadata\n",
      "* Filtering: 259,310 rows after author birth year >= 1600\n",
      "* Filtering: 259,310 rows after author birth year <= 2000\n",
      "* Filtering: 225,986 rows after number of lines >= 10\n",
      "* Filtering: 204,514 rows after number of lines <= 100\n"
     ]
    },
    {
     "data": {
      "text/markdown": [
       "----"
      ],
      "text/plain": [
       "<IPython.core.display.Markdown object>"
      ]
     },
     "metadata": {},
     "output_type": "display_data"
    },
    {
     "data": {
      "text/markdown": [
       "#### Subcorpus breakdown"
      ],
      "text/plain": [
       "<IPython.core.display.Markdown object>"
      ]
     },
     "metadata": {},
     "output_type": "display_data"
    },
    {
     "name": "stdout",
     "output_type": "stream",
     "text": [
      "subcorpus\n",
      "English Poetry              127738\n",
      "American Poetry              62116\n",
      "Modern Poetry                 6478\n",
      "African-American Poetry       5063\n",
      "The Faber Poetry Library      3119\n",
      "Name: count, dtype: int64\n",
      "\n"
     ]
    },
    {
     "data": {
      "text/markdown": [
       "----"
      ],
      "text/plain": [
       "<IPython.core.display.Markdown object>"
      ]
     },
     "metadata": {},
     "output_type": "display_data"
    },
    {
     "data": {
      "text/markdown": [
       "#### Historical period breakdown (from metadata)"
      ],
      "text/plain": [
       "<IPython.core.display.Markdown object>"
      ]
     },
     "metadata": {},
     "output_type": "display_data"
    },
    {
     "name": "stdout",
     "output_type": "stream",
     "text": [
      "period_meta\n",
      "1900-1999 Twentieth-Century                    60865\n",
      "1835-1869 Mid Nineteenth-Century               37829\n",
      "1870-1899 Later Nineteenth-Century             29684\n",
      "1800-1834 Early Nineteenth-Century             22029\n",
      "                                               20723\n",
      "1700-1749 Early Eighteenth-Century             10693\n",
      "1750-1799 Later Eighteenth-Century              9740\n",
      "1603-1660 Jacobean and Caroline                 5701\n",
      "1660-1700 Restoration                           4808\n",
      "1550-1900 Miscellanies and Collections          1600\n",
      "1500-1700 Emblems, Epigrams, Formal Satires      461\n",
      "1500-1580 Tudor                                  149\n",
      "1880-1901 Late Victorian                         134\n",
      "1860-1880 Mid-Victorian                           78\n",
      "1837-1860 Early Victorian                         12\n",
      "1500-1700 Songbooks                                6\n",
      "1901-1914 Edwardian Period                         2\n",
      "Name: count, dtype: int64\n",
      "\n"
     ]
    },
    {
     "data": {
      "text/markdown": [
       "----"
      ],
      "text/plain": [
       "<IPython.core.display.Markdown object>"
      ]
     },
     "metadata": {},
     "output_type": "display_data"
    },
    {
     "data": {
      "text/markdown": [
       "#### Historical period breakdown (from author birth year)"
      ],
      "text/plain": [
       "<IPython.core.display.Markdown object>"
      ]
     },
     "metadata": {},
     "output_type": "display_data"
    },
    {
     "name": "stdout",
     "output_type": "stream",
     "text": [
      "period\n",
      "1800-1850    64434\n",
      "1900-1950    39044\n",
      "1850-1900    32164\n",
      "1750-1800    30135\n",
      "1700-1750    14511\n",
      "1600-1650     9076\n",
      "1650-1700     7741\n",
      "1950-2000     7409\n",
      "Name: count, dtype: int64\n",
      "\n"
     ]
    },
    {
     "data": {
      "text/markdown": [
       "----"
      ],
      "text/plain": [
       "<IPython.core.display.Markdown object>"
      ]
     },
     "metadata": {},
     "output_type": "display_data"
    },
    {
     "data": {
      "text/markdown": [
       "#### Historical period + subcorpus breakdown"
      ],
      "text/plain": [
       "<IPython.core.display.Markdown object>"
      ]
     },
     "metadata": {},
     "output_type": "display_data"
    },
    {
     "name": "stdout",
     "output_type": "stream",
     "text": [
      "                                    count\n",
      "period    subcorpus                      \n",
      "1600-1650 American Poetry             361\n",
      "          English Poetry             8715\n",
      "1650-1700 American Poetry              74\n",
      "          English Poetry             7667\n",
      "1700-1750 African-American Poetry       3\n",
      "          American Poetry             340\n",
      "          English Poetry            14166\n",
      "          The Faber Poetry Library      2\n",
      "1750-1800 African-American Poetry     284\n",
      "          American Poetry            4935\n",
      "          English Poetry            24914\n",
      "          The Faber Poetry Library      2\n",
      "1800-1850 African-American Poetry     542\n",
      "          American Poetry           20934\n",
      "          English Poetry            42956\n",
      "          Modern Poetry                 1\n",
      "          The Faber Poetry Library      1\n",
      "1850-1900 African-American Poetry    1883\n",
      "          American Poetry           10171\n",
      "          English Poetry            18438\n",
      "          Modern Poetry               809\n",
      "          The Faber Poetry Library    863\n",
      "1900-1950 African-American Poetry    1531\n",
      "          American Poetry           23050\n",
      "          English Poetry             8201\n",
      "          Modern Poetry              4627\n",
      "          The Faber Poetry Library   1635\n",
      "1950-2000 African-American Poetry     820\n",
      "          American Poetry            2251\n",
      "          English Poetry             2681\n",
      "          Modern Poetry              1041\n",
      "          The Faber Poetry Library    616\n",
      "\n"
     ]
    },
    {
     "data": {
      "text/markdown": [
       "----"
      ],
      "text/plain": [
       "<IPython.core.display.Markdown object>"
      ]
     },
     "metadata": {},
     "output_type": "display_data"
    },
    {
     "data": {
      "text/markdown": [
       "#### Author birth year distribution"
      ],
      "text/plain": [
       "<IPython.core.display.Markdown object>"
      ]
     },
     "metadata": {},
     "output_type": "display_data"
    },
    {
     "name": "stdout",
     "output_type": "stream",
     "text": [
      "author_dob\n",
      "1600 ------- [ 1793   | 1830 |   1892 ] -------- 1974\n",
      "\n"
     ]
    },
    {
     "data": {
      "text/markdown": [
       "----"
      ],
      "text/plain": [
       "<IPython.core.display.Markdown object>"
      ]
     },
     "metadata": {},
     "output_type": "display_data"
    },
    {
     "data": {
      "text/markdown": [
       "#### Number of lines in poems"
      ],
      "text/plain": [
       "<IPython.core.display.Markdown object>"
      ]
     },
     "metadata": {},
     "output_type": "display_data"
    },
    {
     "name": "stdout",
     "output_type": "stream",
     "text": [
      "num_lines\n",
      "10 ------- [ 16   | 24 |   40 ] -------- 100\n",
      "\n"
     ]
    },
    {
     "data": {
      "text/markdown": [
       "----"
      ],
      "text/plain": [
       "<IPython.core.display.Markdown object>"
      ]
     },
     "metadata": {},
     "output_type": "display_data"
    },
    {
     "data": {
      "text/markdown": [
       "#### Annotated rhyme distribution"
      ],
      "text/plain": [
       "<IPython.core.display.Markdown object>"
      ]
     },
     "metadata": {},
     "output_type": "display_data"
    },
    {
     "name": "stdout",
     "output_type": "stream",
     "text": [
      "rhyme\n",
      "y      142007\n",
      "        58062\n",
      "n        4302\n",
      "y n       139\n",
      "Y           4\n",
      "Name: count, dtype: int64\n",
      "\n"
     ]
    },
    {
     "data": {
      "text/markdown": [
       "----"
      ],
      "text/plain": [
       "<IPython.core.display.Markdown object>"
      ]
     },
     "metadata": {},
     "output_type": "display_data"
    },
    {
     "data": {
      "text/markdown": [
       "#### Metadata"
      ],
      "text/plain": [
       "<IPython.core.display.Markdown object>"
      ]
     },
     "metadata": {},
     "output_type": "display_data"
    },
    {
     "data": {
      "text/html": [
       "<div>\n",
       "<style scoped>\n",
       "    .dataframe tbody tr th:only-of-type {\n",
       "        vertical-align: middle;\n",
       "    }\n",
       "\n",
       "    .dataframe tbody tr th {\n",
       "        vertical-align: top;\n",
       "    }\n",
       "\n",
       "    .dataframe thead th {\n",
       "        text-align: right;\n",
       "    }\n",
       "</style>\n",
       "<table border=\"1\" class=\"dataframe\">\n",
       "  <thead>\n",
       "    <tr style=\"text-align: right;\">\n",
       "      <th></th>\n",
       "      <th>id</th>\n",
       "      <th>period_meta</th>\n",
       "      <th>subcorpus</th>\n",
       "      <th>author</th>\n",
       "      <th>author_dob</th>\n",
       "      <th>title</th>\n",
       "      <th>year</th>\n",
       "      <th>num_lines</th>\n",
       "      <th>volume</th>\n",
       "      <th>line</th>\n",
       "      <th>rhyme</th>\n",
       "      <th>genre</th>\n",
       "      <th>period</th>\n",
       "    </tr>\n",
       "    <tr>\n",
       "      <th>id_hash</th>\n",
       "      <th></th>\n",
       "      <th></th>\n",
       "      <th></th>\n",
       "      <th></th>\n",
       "      <th></th>\n",
       "      <th></th>\n",
       "      <th></th>\n",
       "      <th></th>\n",
       "      <th></th>\n",
       "      <th></th>\n",
       "      <th></th>\n",
       "      <th></th>\n",
       "      <th></th>\n",
       "    </tr>\n",
       "  </thead>\n",
       "  <tbody>\n",
       "    <tr>\n",
       "      <th>552316</th>\n",
       "      <td>english/bartonbe/Z200274127</td>\n",
       "      <td>1800-1834 Early Nineteenth-Century</td>\n",
       "      <td>English Poetry</td>\n",
       "      <td>Barton, Bernard, 1784-1849</td>\n",
       "      <td>1784.0</td>\n",
       "      <td>SONNET. II.  [The night seems darkest ere the ...</td>\n",
       "      <td>1814</td>\n",
       "      <td>14</td>\n",
       "      <td>The Reliquary (1836)</td>\n",
       "      <td>&amp;indent;Rises with light and gladness on its w...</td>\n",
       "      <td>y</td>\n",
       "      <td>Sonnet</td>\n",
       "      <td>1750-1800</td>\n",
       "    </tr>\n",
       "    <tr>\n",
       "      <th>889984</th>\n",
       "      <td>c20-american/am20129/Z300227191</td>\n",
       "      <td>1900-1999 Twentieth-Century</td>\n",
       "      <td>American Poetry</td>\n",
       "      <td>Pound, Ezra, 1885-1972</td>\n",
       "      <td>1885.0</td>\n",
       "      <td>LAMENT OF THE FRONTIER GUARD</td>\n",
       "      <td>1915</td>\n",
       "      <td>24</td>\n",
       "      <td></td>\n",
       "      <td>By the North Gate, the wind blows full of sand,</td>\n",
       "      <td></td>\n",
       "      <td></td>\n",
       "      <td>1850-1900</td>\n",
       "    </tr>\n",
       "    <tr>\n",
       "      <th>729937</th>\n",
       "      <td>c20-english/ep20128/Z200582770</td>\n",
       "      <td>1900-1999 Twentieth-Century</td>\n",
       "      <td>English Poetry</td>\n",
       "      <td>Rodker, John, 1894-</td>\n",
       "      <td>1894.0</td>\n",
       "      <td>Married</td>\n",
       "      <td>1924</td>\n",
       "      <td>27</td>\n",
       "      <td></td>\n",
       "      <td>This roof tree holds us</td>\n",
       "      <td></td>\n",
       "      <td></td>\n",
       "      <td>1850-1900</td>\n",
       "    </tr>\n",
       "    <tr>\n",
       "      <th>100137</th>\n",
       "      <td>english-ed2/ep2527/Z300669174</td>\n",
       "      <td></td>\n",
       "      <td>English Poetry</td>\n",
       "      <td>Barton, Emily M., 1817-1909</td>\n",
       "      <td>1817.0</td>\n",
       "      <td>Reply to the Question: “What is the Wealth  of...</td>\n",
       "      <td>1847</td>\n",
       "      <td>31</td>\n",
       "      <td>Straws on the Stream: by E. M. B. (1910)</td>\n",
       "      <td>Tin, copper, iron; silver, gems untold?</td>\n",
       "      <td>y</td>\n",
       "      <td></td>\n",
       "      <td>1800-1850</td>\n",
       "    </tr>\n",
       "    <tr>\n",
       "      <th>922011</th>\n",
       "      <td>english-ed2/miscell3/Z200441103</td>\n",
       "      <td>1550-1900 Miscellanies and Collections</td>\n",
       "      <td>English Poetry</td>\n",
       "      <td>De Vere, Aubrey, 1814-1902</td>\n",
       "      <td>1814.0</td>\n",
       "      <td>CXXII EVENING MELODY</td>\n",
       "      <td>1844</td>\n",
       "      <td>25</td>\n",
       "      <td></td>\n",
       "      <td>O that the pines which crown yon steep</td>\n",
       "      <td>y</td>\n",
       "      <td>Lyric</td>\n",
       "      <td>1800-1850</td>\n",
       "    </tr>\n",
       "    <tr>\n",
       "      <th>...</th>\n",
       "      <td>...</td>\n",
       "      <td>...</td>\n",
       "      <td>...</td>\n",
       "      <td>...</td>\n",
       "      <td>...</td>\n",
       "      <td>...</td>\n",
       "      <td>...</td>\n",
       "      <td>...</td>\n",
       "      <td>...</td>\n",
       "      <td>...</td>\n",
       "      <td>...</td>\n",
       "      <td>...</td>\n",
       "      <td>...</td>\n",
       "    </tr>\n",
       "    <tr>\n",
       "      <th>814011</th>\n",
       "      <td>english/merival1/Z300428527</td>\n",
       "      <td>1800-1834 Early Nineteenth-Century</td>\n",
       "      <td>English Poetry</td>\n",
       "      <td>Merivale, John Herman, 1779-1844</td>\n",
       "      <td>1779.0</td>\n",
       "      <td>FROM CHATTERTON'S “ÆLLA.”</td>\n",
       "      <td>1809</td>\n",
       "      <td>48</td>\n",
       "      <td>Poems original and translated (1844)</td>\n",
       "      <td>&amp;indent;&amp;indent;The meads are sprinkled with a...</td>\n",
       "      <td>y</td>\n",
       "      <td></td>\n",
       "      <td>1750-1800</td>\n",
       "    </tr>\n",
       "    <tr>\n",
       "      <th>845120</th>\n",
       "      <td>english/cowperwi/Z300323182</td>\n",
       "      <td>1750-1799 Later Eighteenth-Century</td>\n",
       "      <td>English Poetry</td>\n",
       "      <td>Cowper, William, 1731-1800</td>\n",
       "      <td>1731.0</td>\n",
       "      <td>SELF&amp;hyphen;LOVE AND TRUTH INCOMPATIBLE.</td>\n",
       "      <td>1761</td>\n",
       "      <td>32</td>\n",
       "      <td>The Works (1835–1837): TRANSLATIONS FROM THE F...</td>\n",
       "      <td>That fill'd my soul with fear and shame;</td>\n",
       "      <td>y</td>\n",
       "      <td>Lyric</td>\n",
       "      <td>1700-1750</td>\n",
       "    </tr>\n",
       "    <tr>\n",
       "      <th>890213</th>\n",
       "      <td>english/colersam/Z300317557</td>\n",
       "      <td>1800-1834 Early Nineteenth-Century</td>\n",
       "      <td>English Poetry</td>\n",
       "      <td>Coleridge, Samuel Taylor, 1772-1834</td>\n",
       "      <td>1772.0</td>\n",
       "      <td>34  EPITAPH  ON A BAD MAN</td>\n",
       "      <td>1802</td>\n",
       "      <td>12</td>\n",
       "      <td>The Complete Poetical Works (1912)</td>\n",
       "      <td>&amp;indent;This sad brief tale is all that Truth ...</td>\n",
       "      <td>y</td>\n",
       "      <td>Epitaph</td>\n",
       "      <td>1750-1800</td>\n",
       "    </tr>\n",
       "    <tr>\n",
       "      <th>345093</th>\n",
       "      <td>american/am0232/Z200151866</td>\n",
       "      <td>1835-1869 Mid Nineteenth-Century</td>\n",
       "      <td>American Poetry</td>\n",
       "      <td>Osgood, Frances Sargent Locke, 1811-1850</td>\n",
       "      <td>1811.0</td>\n",
       "      <td>LITTLE MAY.  SUGGESTED BY A CONVERSATION WITH ...</td>\n",
       "      <td>1841</td>\n",
       "      <td>28</td>\n",
       "      <td>[Poems, in] The memento (1849)</td>\n",
       "      <td>&amp;indent;Till you are ready too!</td>\n",
       "      <td>y</td>\n",
       "      <td></td>\n",
       "      <td>1800-1850</td>\n",
       "    </tr>\n",
       "    <tr>\n",
       "      <th>928966</th>\n",
       "      <td>african-american/dunbarpa/Z200343754</td>\n",
       "      <td>1870-1899 Later Nineteenth-Century</td>\n",
       "      <td>African-American Poetry</td>\n",
       "      <td>Dunbar, Paul Laurence, 1872-1906</td>\n",
       "      <td>1872.0</td>\n",
       "      <td>THE CAPTURE</td>\n",
       "      <td>1902</td>\n",
       "      <td>24</td>\n",
       "      <td>The Collected Poetry (1993)</td>\n",
       "      <td>&amp;indent;Hi, oh, Miss Lady!</td>\n",
       "      <td>y</td>\n",
       "      <td></td>\n",
       "      <td>1850-1900</td>\n",
       "    </tr>\n",
       "  </tbody>\n",
       "</table>\n",
       "<p>204514 rows × 13 columns</p>\n",
       "</div>"
      ],
      "text/plain": [
       "                                           id                             period_meta                subcorpus                                    author author_dob  \\\n",
       "id_hash                                                                                                                                                               \n",
       "552316            english/bartonbe/Z200274127      1800-1834 Early Nineteenth-Century           English Poetry                Barton, Bernard, 1784-1849     1784.0   \n",
       "889984        c20-american/am20129/Z300227191             1900-1999 Twentieth-Century          American Poetry                    Pound, Ezra, 1885-1972     1885.0   \n",
       "729937         c20-english/ep20128/Z200582770             1900-1999 Twentieth-Century           English Poetry                       Rodker, John, 1894-     1894.0   \n",
       "100137          english-ed2/ep2527/Z300669174                                                   English Poetry               Barton, Emily M., 1817-1909     1817.0   \n",
       "922011        english-ed2/miscell3/Z200441103  1550-1900 Miscellanies and Collections           English Poetry                De Vere, Aubrey, 1814-1902     1814.0   \n",
       "...                                       ...                                     ...                      ...                                       ...        ...   \n",
       "814011            english/merival1/Z300428527      1800-1834 Early Nineteenth-Century           English Poetry          Merivale, John Herman, 1779-1844     1779.0   \n",
       "845120            english/cowperwi/Z300323182      1750-1799 Later Eighteenth-Century           English Poetry                Cowper, William, 1731-1800     1731.0   \n",
       "890213            english/colersam/Z300317557      1800-1834 Early Nineteenth-Century           English Poetry       Coleridge, Samuel Taylor, 1772-1834     1772.0   \n",
       "345093             american/am0232/Z200151866        1835-1869 Mid Nineteenth-Century          American Poetry  Osgood, Frances Sargent Locke, 1811-1850     1811.0   \n",
       "928966   african-american/dunbarpa/Z200343754      1870-1899 Later Nineteenth-Century  African-American Poetry          Dunbar, Paul Laurence, 1872-1906     1872.0   \n",
       "\n",
       "                                                     title  year  num_lines                                             volume                                               line rhyme    genre  \\\n",
       "id_hash                                                                                                                                                                                            \n",
       "552316   SONNET. II.  [The night seems darkest ere the ...  1814         14                               The Reliquary (1836)  &indent;Rises with light and gladness on its w...     y   Sonnet   \n",
       "889984                        LAMENT OF THE FRONTIER GUARD  1915         24                                                       By the North Gate, the wind blows full of sand,                  \n",
       "729937                                             Married  1924         27                                                                               This roof tree holds us                  \n",
       "100137   Reply to the Question: “What is the Wealth  of...  1847         31           Straws on the Stream: by E. M. B. (1910)            Tin, copper, iron; silver, gems untold?     y            \n",
       "922011                                CXXII EVENING MELODY  1844         25                                                                O that the pines which crown yon steep     y    Lyric   \n",
       "...                                                    ...   ...        ...                                                ...                                                ...   ...      ...   \n",
       "814011                           FROM CHATTERTON'S “ÆLLA.”  1809         48               Poems original and translated (1844)  &indent;&indent;The meads are sprinkled with a...     y            \n",
       "845120            SELF&hyphen;LOVE AND TRUTH INCOMPATIBLE.  1761         32  The Works (1835–1837): TRANSLATIONS FROM THE F...           That fill'd my soul with fear and shame;     y    Lyric   \n",
       "890213                           34  EPITAPH  ON A BAD MAN  1802         12                 The Complete Poetical Works (1912)  &indent;This sad brief tale is all that Truth ...     y  Epitaph   \n",
       "345093   LITTLE MAY.  SUGGESTED BY A CONVERSATION WITH ...  1841         28                     [Poems, in] The memento (1849)                    &indent;Till you are ready too!     y            \n",
       "928966                                         THE CAPTURE  1902         24                        The Collected Poetry (1993)                         &indent;Hi, oh, Miss Lady!     y            \n",
       "\n",
       "            period  \n",
       "id_hash             \n",
       "552316   1750-1800  \n",
       "889984   1850-1900  \n",
       "729937   1850-1900  \n",
       "100137   1800-1850  \n",
       "922011   1800-1850  \n",
       "...            ...  \n",
       "814011   1750-1800  \n",
       "845120   1700-1750  \n",
       "890213   1750-1800  \n",
       "345093   1800-1850  \n",
       "928966   1850-1900  \n",
       "\n",
       "[204514 rows x 13 columns]"
      ]
     },
     "execution_count": 2,
     "metadata": {},
     "output_type": "execute_result"
    }
   ],
   "source": [
    "printm(f'### Loading corpus metadata')\n",
    "df_meta = get_chadwyck_corpus_metadata(\n",
    "    fields=CHADWYCK_CORPUS_FIELDS,\n",
    "    period_by=50,\n",
    "    download_if_necessary=True,\n",
    "    overwrite=False,\n",
    "    min_num_lines=10,\n",
    "    max_num_lines=100,\n",
    "    min_author_dob=1600,\n",
    "    max_author_dob=2000,\n",
    ")\n",
    "\n",
    "describe_corpus(df_meta)"
   ]
  },
  {
   "cell_type": "code",
   "execution_count": 3,
   "metadata": {},
   "outputs": [
    {
     "data": {
      "text/markdown": [
       "### Loading corpus text files"
      ],
      "text/plain": [
       "<IPython.core.display.Markdown object>"
      ]
     },
     "metadata": {},
     "output_type": "display_data"
    },
    {
     "data": {
      "text/markdown": [
       "##### Loading Chadwyck-Healey corpus (metadata + txt)"
      ],
      "text/plain": [
       "<IPython.core.display.Markdown object>"
      ]
     },
     "metadata": {},
     "output_type": "display_data"
    },
    {
     "name": "stdout",
     "output_type": "stream",
     "text": [
      "* Loading corpus metadata from memory\n",
      "* Loading 204514 texts\n"
     ]
    },
    {
     "name": "stderr",
     "output_type": "stream",
     "text": [
      "  : 100%|██████████| 204514/204514 [00:07<00:00, 28469.70it/s]\n"
     ]
    },
    {
     "data": {
      "text/html": [
       "<div>\n",
       "<style scoped>\n",
       "    .dataframe tbody tr th:only-of-type {\n",
       "        vertical-align: middle;\n",
       "    }\n",
       "\n",
       "    .dataframe tbody tr th {\n",
       "        vertical-align: top;\n",
       "    }\n",
       "\n",
       "    .dataframe thead th {\n",
       "        text-align: right;\n",
       "    }\n",
       "</style>\n",
       "<table border=\"1\" class=\"dataframe\">\n",
       "  <thead>\n",
       "    <tr style=\"text-align: right;\">\n",
       "      <th></th>\n",
       "      <th>id</th>\n",
       "      <th>period_meta</th>\n",
       "      <th>subcorpus</th>\n",
       "      <th>author</th>\n",
       "      <th>author_dob</th>\n",
       "      <th>title</th>\n",
       "      <th>year</th>\n",
       "      <th>num_lines</th>\n",
       "      <th>volume</th>\n",
       "      <th>line</th>\n",
       "      <th>rhyme</th>\n",
       "      <th>genre</th>\n",
       "      <th>period</th>\n",
       "      <th>txt</th>\n",
       "    </tr>\n",
       "    <tr>\n",
       "      <th>id_hash</th>\n",
       "      <th></th>\n",
       "      <th></th>\n",
       "      <th></th>\n",
       "      <th></th>\n",
       "      <th></th>\n",
       "      <th></th>\n",
       "      <th></th>\n",
       "      <th></th>\n",
       "      <th></th>\n",
       "      <th></th>\n",
       "      <th></th>\n",
       "      <th></th>\n",
       "      <th></th>\n",
       "      <th></th>\n",
       "    </tr>\n",
       "  </thead>\n",
       "  <tbody>\n",
       "    <tr>\n",
       "      <th>552316</th>\n",
       "      <td>english/bartonbe/Z200274127</td>\n",
       "      <td>1800-1834 Early Nineteenth-Century</td>\n",
       "      <td>English Poetry</td>\n",
       "      <td>Barton, Bernard, 1784-1849</td>\n",
       "      <td>1784.0</td>\n",
       "      <td>SONNET. II.  [The night seems darkest ere the ...</td>\n",
       "      <td>1814</td>\n",
       "      <td>14</td>\n",
       "      <td>The Reliquary (1836)</td>\n",
       "      <td>&amp;indent;Rises with light and gladness on its w...</td>\n",
       "      <td>y</td>\n",
       "      <td>Sonnet</td>\n",
       "      <td>1750-1800</td>\n",
       "      <td>The night seems darkest ere the dawn of day\\n ...</td>\n",
       "    </tr>\n",
       "    <tr>\n",
       "      <th>889984</th>\n",
       "      <td>c20-american/am20129/Z300227191</td>\n",
       "      <td>1900-1999 Twentieth-Century</td>\n",
       "      <td>American Poetry</td>\n",
       "      <td>Pound, Ezra, 1885-1972</td>\n",
       "      <td>1885.0</td>\n",
       "      <td>LAMENT OF THE FRONTIER GUARD</td>\n",
       "      <td>1915</td>\n",
       "      <td>24</td>\n",
       "      <td></td>\n",
       "      <td>By the North Gate, the wind blows full of sand,</td>\n",
       "      <td></td>\n",
       "      <td></td>\n",
       "      <td>1850-1900</td>\n",
       "      <td>By the North Gate, the wind blows full of sand...</td>\n",
       "    </tr>\n",
       "    <tr>\n",
       "      <th>729937</th>\n",
       "      <td>c20-english/ep20128/Z200582770</td>\n",
       "      <td>1900-1999 Twentieth-Century</td>\n",
       "      <td>English Poetry</td>\n",
       "      <td>Rodker, John, 1894-</td>\n",
       "      <td>1894.0</td>\n",
       "      <td>Married</td>\n",
       "      <td>1924</td>\n",
       "      <td>27</td>\n",
       "      <td></td>\n",
       "      <td>This roof tree holds us</td>\n",
       "      <td></td>\n",
       "      <td></td>\n",
       "      <td>1850-1900</td>\n",
       "      <td>This roof tree holds us\\nwith trembling darkne...</td>\n",
       "    </tr>\n",
       "    <tr>\n",
       "      <th>100137</th>\n",
       "      <td>english-ed2/ep2527/Z300669174</td>\n",
       "      <td></td>\n",
       "      <td>English Poetry</td>\n",
       "      <td>Barton, Emily M., 1817-1909</td>\n",
       "      <td>1817.0</td>\n",
       "      <td>Reply to the Question: “What is the Wealth  of...</td>\n",
       "      <td>1847</td>\n",
       "      <td>31</td>\n",
       "      <td>Straws on the Stream: by E. M. B. (1910)</td>\n",
       "      <td>Tin, copper, iron; silver, gems untold?</td>\n",
       "      <td>y</td>\n",
       "      <td></td>\n",
       "      <td>1800-1850</td>\n",
       "      <td>Australia's Wealth? Has she not mines of gold,...</td>\n",
       "    </tr>\n",
       "    <tr>\n",
       "      <th>922011</th>\n",
       "      <td>english-ed2/miscell3/Z200441103</td>\n",
       "      <td>1550-1900 Miscellanies and Collections</td>\n",
       "      <td>English Poetry</td>\n",
       "      <td>De Vere, Aubrey, 1814-1902</td>\n",
       "      <td>1814.0</td>\n",
       "      <td>CXXII EVENING MELODY</td>\n",
       "      <td>1844</td>\n",
       "      <td>25</td>\n",
       "      <td></td>\n",
       "      <td>O that the pines which crown yon steep</td>\n",
       "      <td>y</td>\n",
       "      <td>Lyric</td>\n",
       "      <td>1800-1850</td>\n",
       "      <td>O that the pines which crown yond steep\\n    T...</td>\n",
       "    </tr>\n",
       "    <tr>\n",
       "      <th>...</th>\n",
       "      <td>...</td>\n",
       "      <td>...</td>\n",
       "      <td>...</td>\n",
       "      <td>...</td>\n",
       "      <td>...</td>\n",
       "      <td>...</td>\n",
       "      <td>...</td>\n",
       "      <td>...</td>\n",
       "      <td>...</td>\n",
       "      <td>...</td>\n",
       "      <td>...</td>\n",
       "      <td>...</td>\n",
       "      <td>...</td>\n",
       "      <td>...</td>\n",
       "    </tr>\n",
       "    <tr>\n",
       "      <th>814011</th>\n",
       "      <td>english/merival1/Z300428527</td>\n",
       "      <td>1800-1834 Early Nineteenth-Century</td>\n",
       "      <td>English Poetry</td>\n",
       "      <td>Merivale, John Herman, 1779-1844</td>\n",
       "      <td>1779.0</td>\n",
       "      <td>FROM CHATTERTON'S “ÆLLA.”</td>\n",
       "      <td>1809</td>\n",
       "      <td>48</td>\n",
       "      <td>Poems original and translated (1844)</td>\n",
       "      <td>&amp;indent;&amp;indent;The meads are sprinkled with a...</td>\n",
       "      <td>y</td>\n",
       "      <td></td>\n",
       "      <td>1750-1800</td>\n",
       "      <td>The budding floweret blushes at the light,\\n  ...</td>\n",
       "    </tr>\n",
       "    <tr>\n",
       "      <th>845120</th>\n",
       "      <td>english/cowperwi/Z300323182</td>\n",
       "      <td>1750-1799 Later Eighteenth-Century</td>\n",
       "      <td>English Poetry</td>\n",
       "      <td>Cowper, William, 1731-1800</td>\n",
       "      <td>1731.0</td>\n",
       "      <td>SELF&amp;hyphen;LOVE AND TRUTH INCOMPATIBLE.</td>\n",
       "      <td>1761</td>\n",
       "      <td>32</td>\n",
       "      <td>The Works (1835–1837): TRANSLATIONS FROM THE F...</td>\n",
       "      <td>That fill'd my soul with fear and shame;</td>\n",
       "      <td>y</td>\n",
       "      <td>Lyric</td>\n",
       "      <td>1700-1750</td>\n",
       "      <td>From thorny wilds a monster came,\\nThat filled...</td>\n",
       "    </tr>\n",
       "    <tr>\n",
       "      <th>890213</th>\n",
       "      <td>english/colersam/Z300317557</td>\n",
       "      <td>1800-1834 Early Nineteenth-Century</td>\n",
       "      <td>English Poetry</td>\n",
       "      <td>Coleridge, Samuel Taylor, 1772-1834</td>\n",
       "      <td>1772.0</td>\n",
       "      <td>34  EPITAPH  ON A BAD MAN</td>\n",
       "      <td>1802</td>\n",
       "      <td>12</td>\n",
       "      <td>The Complete Poetical Works (1912)</td>\n",
       "      <td>&amp;indent;This sad brief tale is all that Truth ...</td>\n",
       "      <td>y</td>\n",
       "      <td>Epitaph</td>\n",
       "      <td>1750-1800</td>\n",
       "      <td>Of him that in this gorgeous tomb does lie,\\n ...</td>\n",
       "    </tr>\n",
       "    <tr>\n",
       "      <th>345093</th>\n",
       "      <td>american/am0232/Z200151866</td>\n",
       "      <td>1835-1869 Mid Nineteenth-Century</td>\n",
       "      <td>American Poetry</td>\n",
       "      <td>Osgood, Frances Sargent Locke, 1811-1850</td>\n",
       "      <td>1811.0</td>\n",
       "      <td>LITTLE MAY.  SUGGESTED BY A CONVERSATION WITH ...</td>\n",
       "      <td>1841</td>\n",
       "      <td>28</td>\n",
       "      <td>[Poems, in] The memento (1849)</td>\n",
       "      <td>&amp;indent;Till you are ready too!</td>\n",
       "      <td>y</td>\n",
       "      <td></td>\n",
       "      <td>1800-1850</td>\n",
       "      <td>Mamma, you must not let me die\\n    Till you a...</td>\n",
       "    </tr>\n",
       "    <tr>\n",
       "      <th>928966</th>\n",
       "      <td>african-american/dunbarpa/Z200343754</td>\n",
       "      <td>1870-1899 Later Nineteenth-Century</td>\n",
       "      <td>African-American Poetry</td>\n",
       "      <td>Dunbar, Paul Laurence, 1872-1906</td>\n",
       "      <td>1872.0</td>\n",
       "      <td>THE CAPTURE</td>\n",
       "      <td>1902</td>\n",
       "      <td>24</td>\n",
       "      <td>The Collected Poetry (1993)</td>\n",
       "      <td>&amp;indent;Hi, oh, Miss Lady!</td>\n",
       "      <td>y</td>\n",
       "      <td></td>\n",
       "      <td>1850-1900</td>\n",
       "      <td>Duck come switchin' 'cross de lot\\n    Hi, o, ...</td>\n",
       "    </tr>\n",
       "  </tbody>\n",
       "</table>\n",
       "<p>204514 rows × 14 columns</p>\n",
       "</div>"
      ],
      "text/plain": [
       "                                           id                             period_meta                subcorpus                                    author author_dob  \\\n",
       "id_hash                                                                                                                                                               \n",
       "552316            english/bartonbe/Z200274127      1800-1834 Early Nineteenth-Century           English Poetry                Barton, Bernard, 1784-1849     1784.0   \n",
       "889984        c20-american/am20129/Z300227191             1900-1999 Twentieth-Century          American Poetry                    Pound, Ezra, 1885-1972     1885.0   \n",
       "729937         c20-english/ep20128/Z200582770             1900-1999 Twentieth-Century           English Poetry                       Rodker, John, 1894-     1894.0   \n",
       "100137          english-ed2/ep2527/Z300669174                                                   English Poetry               Barton, Emily M., 1817-1909     1817.0   \n",
       "922011        english-ed2/miscell3/Z200441103  1550-1900 Miscellanies and Collections           English Poetry                De Vere, Aubrey, 1814-1902     1814.0   \n",
       "...                                       ...                                     ...                      ...                                       ...        ...   \n",
       "814011            english/merival1/Z300428527      1800-1834 Early Nineteenth-Century           English Poetry          Merivale, John Herman, 1779-1844     1779.0   \n",
       "845120            english/cowperwi/Z300323182      1750-1799 Later Eighteenth-Century           English Poetry                Cowper, William, 1731-1800     1731.0   \n",
       "890213            english/colersam/Z300317557      1800-1834 Early Nineteenth-Century           English Poetry       Coleridge, Samuel Taylor, 1772-1834     1772.0   \n",
       "345093             american/am0232/Z200151866        1835-1869 Mid Nineteenth-Century          American Poetry  Osgood, Frances Sargent Locke, 1811-1850     1811.0   \n",
       "928966   african-american/dunbarpa/Z200343754      1870-1899 Later Nineteenth-Century  African-American Poetry          Dunbar, Paul Laurence, 1872-1906     1872.0   \n",
       "\n",
       "                                                     title  year  num_lines                                             volume                                               line rhyme    genre  \\\n",
       "id_hash                                                                                                                                                                                            \n",
       "552316   SONNET. II.  [The night seems darkest ere the ...  1814         14                               The Reliquary (1836)  &indent;Rises with light and gladness on its w...     y   Sonnet   \n",
       "889984                        LAMENT OF THE FRONTIER GUARD  1915         24                                                       By the North Gate, the wind blows full of sand,                  \n",
       "729937                                             Married  1924         27                                                                               This roof tree holds us                  \n",
       "100137   Reply to the Question: “What is the Wealth  of...  1847         31           Straws on the Stream: by E. M. B. (1910)            Tin, copper, iron; silver, gems untold?     y            \n",
       "922011                                CXXII EVENING MELODY  1844         25                                                                O that the pines which crown yon steep     y    Lyric   \n",
       "...                                                    ...   ...        ...                                                ...                                                ...   ...      ...   \n",
       "814011                           FROM CHATTERTON'S “ÆLLA.”  1809         48               Poems original and translated (1844)  &indent;&indent;The meads are sprinkled with a...     y            \n",
       "845120            SELF&hyphen;LOVE AND TRUTH INCOMPATIBLE.  1761         32  The Works (1835–1837): TRANSLATIONS FROM THE F...           That fill'd my soul with fear and shame;     y    Lyric   \n",
       "890213                           34  EPITAPH  ON A BAD MAN  1802         12                 The Complete Poetical Works (1912)  &indent;This sad brief tale is all that Truth ...     y  Epitaph   \n",
       "345093   LITTLE MAY.  SUGGESTED BY A CONVERSATION WITH ...  1841         28                     [Poems, in] The memento (1849)                    &indent;Till you are ready too!     y            \n",
       "928966                                         THE CAPTURE  1902         24                        The Collected Poetry (1993)                         &indent;Hi, oh, Miss Lady!     y            \n",
       "\n",
       "            period                                                txt  \n",
       "id_hash                                                                \n",
       "552316   1750-1800  The night seems darkest ere the dawn of day\\n ...  \n",
       "889984   1850-1900  By the North Gate, the wind blows full of sand...  \n",
       "729937   1850-1900  This roof tree holds us\\nwith trembling darkne...  \n",
       "100137   1800-1850  Australia's Wealth? Has she not mines of gold,...  \n",
       "922011   1800-1850  O that the pines which crown yond steep\\n    T...  \n",
       "...            ...                                                ...  \n",
       "814011   1750-1800  The budding floweret blushes at the light,\\n  ...  \n",
       "845120   1700-1750  From thorny wilds a monster came,\\nThat filled...  \n",
       "890213   1750-1800  Of him that in this gorgeous tomb does lie,\\n ...  \n",
       "345093   1800-1850  Mamma, you must not let me die\\n    Till you a...  \n",
       "928966   1850-1900  Duck come switchin' 'cross de lot\\n    Hi, o, ...  \n",
       "\n",
       "[204514 rows x 14 columns]"
      ]
     },
     "execution_count": 3,
     "metadata": {},
     "output_type": "execute_result"
    }
   ],
   "source": [
    "printm(f'### Loading corpus text files')\n",
    "df_corpus = get_chadwyck_corpus()\n",
    "df_corpus"
   ]
  },
  {
   "cell_type": "markdown",
   "metadata": {},
   "source": [
    "## Sampling corpus"
   ]
  },
  {
   "cell_type": "code",
   "execution_count": 4,
   "metadata": {},
   "outputs": [
    {
     "data": {
      "text/markdown": [
       "### Loading period sample in paper"
      ],
      "text/plain": [
       "<IPython.core.display.Markdown object>"
      ]
     },
     "metadata": {},
     "output_type": "display_data"
    },
    {
     "data": {
      "text/markdown": [
       "#### Getting sampled corpus by period"
      ],
      "text/plain": [
       "<IPython.core.display.Markdown object>"
      ]
     },
     "metadata": {},
     "output_type": "display_data"
    },
    {
     "name": "stdout",
     "output_type": "stream",
     "text": [
      "* Loading data as in paper: /Users/rj416/github/generative-formalism/data/corpus_sample_by_period.data_as_in_paper.csv.gz\n"
     ]
    },
    {
     "data": {
      "text/markdown": [
       "----"
      ],
      "text/plain": [
       "<IPython.core.display.Markdown object>"
      ]
     },
     "metadata": {},
     "output_type": "display_data"
    },
    {
     "data": {
      "text/markdown": [
       "#### Subcorpus breakdown"
      ],
      "text/plain": [
       "<IPython.core.display.Markdown object>"
      ]
     },
     "metadata": {},
     "output_type": "display_data"
    },
    {
     "name": "stdout",
     "output_type": "stream",
     "text": [
      "subcorpus\n",
      "English Poetry              5573\n",
      "American Poetry             1731\n",
      "Modern Poetry                286\n",
      "African-American Poetry      250\n",
      "The Faber Poetry Library     160\n",
      "Name: count, dtype: int64\n",
      "\n"
     ]
    },
    {
     "data": {
      "text/markdown": [
       "----"
      ],
      "text/plain": [
       "<IPython.core.display.Markdown object>"
      ]
     },
     "metadata": {},
     "output_type": "display_data"
    },
    {
     "data": {
      "text/markdown": [
       "#### Historical period breakdown (from metadata)"
      ],
      "text/plain": [
       "<IPython.core.display.Markdown object>"
      ]
     },
     "metadata": {},
     "output_type": "display_data"
    },
    {
     "name": "stdout",
     "output_type": "stream",
     "text": [
      "period_meta\n",
      "1900-1999 Twentieth-Century                    2437\n",
      "1700-1749 Early Eighteenth-Century             1023\n",
      "1800-1834 Early Nineteenth-Century              721\n",
      "1835-1869 Mid Nineteenth-Century                644\n",
      "1603-1660 Jacobean and Caroline                 617\n",
      "1870-1899 Later Nineteenth-Century              603\n",
      "1750-1799 Later Eighteenth-Century              600\n",
      "1660-1700 Restoration                           495\n",
      "1550-1900 Miscellanies and Collections           79\n",
      "1500-1700 Emblems, Epigrams, Formal Satires      71\n",
      "1500-1580 Tudor                                  16\n",
      "1880-1901 Late Victorian                          3\n",
      "1860-1880 Mid-Victorian                           1\n",
      "Name: count, dtype: int64\n",
      "\n"
     ]
    },
    {
     "data": {
      "text/markdown": [
       "----"
      ],
      "text/plain": [
       "<IPython.core.display.Markdown object>"
      ]
     },
     "metadata": {},
     "output_type": "display_data"
    },
    {
     "data": {
      "text/markdown": [
       "#### Historical period breakdown (from author birth year)"
      ],
      "text/plain": [
       "<IPython.core.display.Markdown object>"
      ]
     },
     "metadata": {},
     "output_type": "display_data"
    },
    {
     "name": "stdout",
     "output_type": "stream",
     "text": [
      "period\n",
      "1850-1900    1000\n",
      "1650-1700    1000\n",
      "1800-1850    1000\n",
      "1900-1950    1000\n",
      "1700-1750    1000\n",
      "1600-1650    1000\n",
      "1750-1800    1000\n",
      "1950-2000    1000\n",
      "Name: count, dtype: int64\n",
      "\n"
     ]
    },
    {
     "data": {
      "text/markdown": [
       "----"
      ],
      "text/plain": [
       "<IPython.core.display.Markdown object>"
      ]
     },
     "metadata": {},
     "output_type": "display_data"
    },
    {
     "data": {
      "text/markdown": [
       "#### Historical period + subcorpus breakdown"
      ],
      "text/plain": [
       "<IPython.core.display.Markdown object>"
      ]
     },
     "metadata": {},
     "output_type": "display_data"
    },
    {
     "name": "stdout",
     "output_type": "stream",
     "text": [
      "                                    count\n",
      "period    subcorpus                      \n",
      "1600-1650 American Poetry              43\n",
      "          English Poetry              957\n",
      "1650-1700 American Poetry              11\n",
      "          English Poetry              989\n",
      "1700-1750 American Poetry              15\n",
      "          English Poetry              985\n",
      "1750-1800 African-American Poetry      10\n",
      "          American Poetry             161\n",
      "          English Poetry              829\n",
      "1800-1850 African-American Poetry       5\n",
      "          American Poetry             304\n",
      "          English Poetry              691\n",
      "1850-1900 African-American Poetry      71\n",
      "          American Poetry             296\n",
      "          English Poetry              583\n",
      "          Modern Poetry                23\n",
      "          The Faber Poetry Library     27\n",
      "1900-1950 African-American Poetry      36\n",
      "          American Poetry             599\n",
      "          English Poetry              200\n",
      "          Modern Poetry               116\n",
      "          The Faber Poetry Library     49\n",
      "1950-2000 African-American Poetry     128\n",
      "          American Poetry             302\n",
      "          English Poetry              339\n",
      "          Modern Poetry               147\n",
      "          The Faber Poetry Library     84\n",
      "\n"
     ]
    },
    {
     "data": {
      "text/markdown": [
       "----"
      ],
      "text/plain": [
       "<IPython.core.display.Markdown object>"
      ]
     },
     "metadata": {},
     "output_type": "display_data"
    },
    {
     "data": {
      "text/markdown": [
       "#### Author birth year distribution"
      ],
      "text/plain": [
       "<IPython.core.display.Markdown object>"
      ]
     },
     "metadata": {},
     "output_type": "display_data"
    },
    {
     "name": "stdout",
     "output_type": "stream",
     "text": [
      "author_dob\n",
      "1600 ------- [ 1699   | 1799 |   1899 ] -------- 1974\n",
      "\n"
     ]
    },
    {
     "data": {
      "text/markdown": [
       "----"
      ],
      "text/plain": [
       "<IPython.core.display.Markdown object>"
      ]
     },
     "metadata": {},
     "output_type": "display_data"
    },
    {
     "data": {
      "text/markdown": [
       "#### Number of lines in poems"
      ],
      "text/plain": [
       "<IPython.core.display.Markdown object>"
      ]
     },
     "metadata": {},
     "output_type": "display_data"
    },
    {
     "name": "stdout",
     "output_type": "stream",
     "text": [
      "num_lines\n",
      "10 ------- [ 16   | 26 |   42 ] -------- 100\n",
      "\n"
     ]
    },
    {
     "data": {
      "text/markdown": [
       "----"
      ],
      "text/plain": [
       "<IPython.core.display.Markdown object>"
      ]
     },
     "metadata": {},
     "output_type": "display_data"
    },
    {
     "data": {
      "text/markdown": [
       "#### Annotated rhyme distribution"
      ],
      "text/plain": [
       "<IPython.core.display.Markdown object>"
      ]
     },
     "metadata": {},
     "output_type": "display_data"
    },
    {
     "name": "stdout",
     "output_type": "stream",
     "text": [
      "rhyme\n",
      "y      5517\n",
      "n       124\n",
      "y n       3\n",
      "Name: count, dtype: int64\n",
      "\n"
     ]
    },
    {
     "data": {
      "text/markdown": [
       "----"
      ],
      "text/plain": [
       "<IPython.core.display.Markdown object>"
      ]
     },
     "metadata": {},
     "output_type": "display_data"
    },
    {
     "data": {
      "text/markdown": [
       "#### Metadata"
      ],
      "text/plain": [
       "<IPython.core.display.Markdown object>"
      ]
     },
     "metadata": {},
     "output_type": "display_data"
    },
    {
     "data": {
      "text/html": [
       "<div>\n",
       "<style scoped>\n",
       "    .dataframe tbody tr th:only-of-type {\n",
       "        vertical-align: middle;\n",
       "    }\n",
       "\n",
       "    .dataframe tbody tr th {\n",
       "        vertical-align: top;\n",
       "    }\n",
       "\n",
       "    .dataframe thead th {\n",
       "        text-align: right;\n",
       "    }\n",
       "</style>\n",
       "<table border=\"1\" class=\"dataframe\">\n",
       "  <thead>\n",
       "    <tr style=\"text-align: right;\">\n",
       "      <th></th>\n",
       "      <th>id</th>\n",
       "      <th>period_meta</th>\n",
       "      <th>subcorpus</th>\n",
       "      <th>author</th>\n",
       "      <th>author_dob</th>\n",
       "      <th>title</th>\n",
       "      <th>year</th>\n",
       "      <th>num_lines</th>\n",
       "      <th>volume</th>\n",
       "      <th>line</th>\n",
       "      <th>rhyme</th>\n",
       "      <th>genre</th>\n",
       "      <th>period</th>\n",
       "      <th>txt</th>\n",
       "      <th>data_origin</th>\n",
       "    </tr>\n",
       "    <tr>\n",
       "      <th>id_hash</th>\n",
       "      <th></th>\n",
       "      <th></th>\n",
       "      <th></th>\n",
       "      <th></th>\n",
       "      <th></th>\n",
       "      <th></th>\n",
       "      <th></th>\n",
       "      <th></th>\n",
       "      <th></th>\n",
       "      <th></th>\n",
       "      <th></th>\n",
       "      <th></th>\n",
       "      <th></th>\n",
       "      <th></th>\n",
       "      <th></th>\n",
       "    </tr>\n",
       "  </thead>\n",
       "  <tbody>\n",
       "    <tr>\n",
       "      <th>1</th>\n",
       "      <td>english-ed2/ep2438/Z300661875</td>\n",
       "      <td>NaN</td>\n",
       "      <td>English Poetry</td>\n",
       "      <td>Price, Herbert, b. 1858</td>\n",
       "      <td>1858.0</td>\n",
       "      <td>THE FORSAKEN GARDEN</td>\n",
       "      <td>1888</td>\n",
       "      <td>35</td>\n",
       "      <td>Poems and Sonnets by Herbert Price (1914)</td>\n",
       "      <td>In the garden we loved that is now a waste,</td>\n",
       "      <td>y</td>\n",
       "      <td>NaN</td>\n",
       "      <td>1850-1900</td>\n",
       "      <td>Ah! sweet were the days, and the nights and th...</td>\n",
       "      <td>in_paper</td>\n",
       "    </tr>\n",
       "    <tr>\n",
       "      <th>1</th>\n",
       "      <td>english/pennecu1/Z200459978</td>\n",
       "      <td>1660-1700 Restoration</td>\n",
       "      <td>English Poetry</td>\n",
       "      <td>Pennecuik, Alexander, 1652-1722</td>\n",
       "      <td>1652.0</td>\n",
       "      <td>THE CITY AND COUNTRY MOUSE.</td>\n",
       "      <td>1682</td>\n",
       "      <td>50</td>\n",
       "      <td>The Works (1815)</td>\n",
       "      <td>&amp;indent;Met with a city mouse, right smooth an...</td>\n",
       "      <td>y</td>\n",
       "      <td>NaN</td>\n",
       "      <td>1650-1700</td>\n",
       "      <td>A country mouse, upon a winter's day,\\n    Met...</td>\n",
       "      <td>in_paper</td>\n",
       "    </tr>\n",
       "    <tr>\n",
       "      <th>2</th>\n",
       "      <td>english/wattsisa/Z300523040</td>\n",
       "      <td>1750-1799 Later Eighteenth-Century</td>\n",
       "      <td>English Poetry</td>\n",
       "      <td>Watts, Isaac, 1674-1748</td>\n",
       "      <td>1674.0</td>\n",
       "      <td>SONG 11. Heaven and Hell.</td>\n",
       "      <td>1704</td>\n",
       "      <td>16</td>\n",
       "      <td>The Works (1810)</td>\n",
       "      <td>&amp;indent;A heav'n of joy and love;</td>\n",
       "      <td>y</td>\n",
       "      <td>Lyric</td>\n",
       "      <td>1650-1700</td>\n",
       "      <td>There is beyond the sky\\n    A heaven of joy a...</td>\n",
       "      <td>in_paper</td>\n",
       "    </tr>\n",
       "    <tr>\n",
       "      <th>3</th>\n",
       "      <td>english/hardytho/Z200137433</td>\n",
       "      <td>1870-1899 Later Nineteenth-Century</td>\n",
       "      <td>English Poetry</td>\n",
       "      <td>Hardy, Thomas, 1840-1928</td>\n",
       "      <td>1840.0</td>\n",
       "      <td>WHEN DEAD</td>\n",
       "      <td>1870</td>\n",
       "      <td>16</td>\n",
       "      <td>NaN</td>\n",
       "      <td>&amp;indent;&amp;indent;I am under the bough;</td>\n",
       "      <td>y</td>\n",
       "      <td>NaN</td>\n",
       "      <td>1800-1850</td>\n",
       "      <td>It will be much better when\\n        I am unde...</td>\n",
       "      <td>in_paper</td>\n",
       "    </tr>\n",
       "    <tr>\n",
       "      <th>3</th>\n",
       "      <td>c20-american/da22040/Z300203417</td>\n",
       "      <td>1900-1999 Twentieth-Century</td>\n",
       "      <td>American Poetry</td>\n",
       "      <td>Walker, Margaret, 1915-1998</td>\n",
       "      <td>1915.0</td>\n",
       "      <td>BALLAD OF THE HOPPY&amp;hyphen;TOAD</td>\n",
       "      <td>1945</td>\n",
       "      <td>84</td>\n",
       "      <td>NaN</td>\n",
       "      <td>Ain't been on Market Street for nothing</td>\n",
       "      <td>NaN</td>\n",
       "      <td>NaN</td>\n",
       "      <td>1900-1950</td>\n",
       "      <td>Ain't been on Market Street for nothing\\nWith ...</td>\n",
       "      <td>in_paper</td>\n",
       "    </tr>\n",
       "    <tr>\n",
       "      <th>...</th>\n",
       "      <td>...</td>\n",
       "      <td>...</td>\n",
       "      <td>...</td>\n",
       "      <td>...</td>\n",
       "      <td>...</td>\n",
       "      <td>...</td>\n",
       "      <td>...</td>\n",
       "      <td>...</td>\n",
       "      <td>...</td>\n",
       "      <td>...</td>\n",
       "      <td>...</td>\n",
       "      <td>...</td>\n",
       "      <td>...</td>\n",
       "      <td>...</td>\n",
       "      <td>...</td>\n",
       "    </tr>\n",
       "    <tr>\n",
       "      <th>135713</th>\n",
       "      <td>c20-american/am20062/Z300213749</td>\n",
       "      <td>1900-1999 Twentieth-Century</td>\n",
       "      <td>American Poetry</td>\n",
       "      <td>Hinsey, Ellen, 1960-</td>\n",
       "      <td>1960.0</td>\n",
       "      <td>THE STAIRWELL, BERGGASSE 19, VIENNA</td>\n",
       "      <td>1990</td>\n",
       "      <td>78</td>\n",
       "      <td>NaN</td>\n",
       "      <td>The stairwell bore the weight of their visits—</td>\n",
       "      <td>NaN</td>\n",
       "      <td>NaN</td>\n",
       "      <td>1950-2000</td>\n",
       "      <td>The stairwell boar the weight of their visits ...</td>\n",
       "      <td>in_paper</td>\n",
       "    </tr>\n",
       "    <tr>\n",
       "      <th>135765</th>\n",
       "      <td>c20-english/ep20015/Z200594457</td>\n",
       "      <td>1900-1999 Twentieth-Century</td>\n",
       "      <td>English Poetry</td>\n",
       "      <td>McMillan, Ian, 1956-</td>\n",
       "      <td>1956.0</td>\n",
       "      <td>Poem Badly Translated from the Language</td>\n",
       "      <td>1986</td>\n",
       "      <td>20</td>\n",
       "      <td>NaN</td>\n",
       "      <td>Tell me why you have died and when</td>\n",
       "      <td>NaN</td>\n",
       "      <td>NaN</td>\n",
       "      <td>1950-2000</td>\n",
       "      <td>Tell me why you have died and when\\nin not mor...</td>\n",
       "      <td>in_paper</td>\n",
       "    </tr>\n",
       "    <tr>\n",
       "      <th>135796</th>\n",
       "      <td>c20-english/maxwell/Z200610338</td>\n",
       "      <td>1900-1999 Twentieth-Century</td>\n",
       "      <td>English Poetry</td>\n",
       "      <td>Maxwell, Glyn, 1962-</td>\n",
       "      <td>1962.0</td>\n",
       "      <td>The Stakes</td>\n",
       "      <td>1992</td>\n",
       "      <td>19</td>\n",
       "      <td>NaN</td>\n",
       "      <td>Forget that in the three&amp;hyphen;fifteen</td>\n",
       "      <td>NaN</td>\n",
       "      <td>NaN</td>\n",
       "      <td>1950-2000</td>\n",
       "      <td>Forget that in the three-fifteen\\nMy love was ...</td>\n",
       "      <td>in_paper</td>\n",
       "    </tr>\n",
       "    <tr>\n",
       "      <th>135926</th>\n",
       "      <td>c20-english/ep20015/Z200594449</td>\n",
       "      <td>1900-1999 Twentieth-Century</td>\n",
       "      <td>English Poetry</td>\n",
       "      <td>McMillan, Ian, 1956-</td>\n",
       "      <td>1956.0</td>\n",
       "      <td>Elegy for an Hour of Daylight</td>\n",
       "      <td>1986</td>\n",
       "      <td>27</td>\n",
       "      <td>NaN</td>\n",
       "      <td>The tilt of the Earth is beautiful;</td>\n",
       "      <td>NaN</td>\n",
       "      <td>NaN</td>\n",
       "      <td>1950-2000</td>\n",
       "      <td>The tilt of the Earth is beautiful;\\nthe day i...</td>\n",
       "      <td>in_paper</td>\n",
       "    </tr>\n",
       "    <tr>\n",
       "      <th>135947</th>\n",
       "      <td>c20-english/ep20160/Z300601647</td>\n",
       "      <td>1900-1999 Twentieth-Century</td>\n",
       "      <td>English Poetry</td>\n",
       "      <td>Bhatt, Sujata, 1956-.</td>\n",
       "      <td>1956.0</td>\n",
       "      <td>Bear's Garlic at Nevern</td>\n",
       "      <td>1986</td>\n",
       "      <td>87</td>\n",
       "      <td>NaN</td>\n",
       "      <td>‘Look, look!’ You call out</td>\n",
       "      <td>NaN</td>\n",
       "      <td>NaN</td>\n",
       "      <td>1950-2000</td>\n",
       "      <td>'Look, look!' You call out\\n    as you run:\\n\\...</td>\n",
       "      <td>in_paper</td>\n",
       "    </tr>\n",
       "  </tbody>\n",
       "</table>\n",
       "<p>8000 rows × 15 columns</p>\n",
       "</div>"
      ],
      "text/plain": [
       "                                      id                         period_meta        subcorpus                           author  author_dob                                    title  year  num_lines  \\\n",
       "id_hash                                                                                                                                                                                                \n",
       "1          english-ed2/ep2438/Z300661875                                 NaN   English Poetry          Price, Herbert, b. 1858      1858.0                      THE FORSAKEN GARDEN  1888         35   \n",
       "1            english/pennecu1/Z200459978               1660-1700 Restoration   English Poetry  Pennecuik, Alexander, 1652-1722      1652.0              THE CITY AND COUNTRY MOUSE.  1682         50   \n",
       "2            english/wattsisa/Z300523040  1750-1799 Later Eighteenth-Century   English Poetry          Watts, Isaac, 1674-1748      1674.0                SONG 11. Heaven and Hell.  1704         16   \n",
       "3            english/hardytho/Z200137433  1870-1899 Later Nineteenth-Century   English Poetry         Hardy, Thomas, 1840-1928      1840.0                                WHEN DEAD  1870         16   \n",
       "3        c20-american/da22040/Z300203417         1900-1999 Twentieth-Century  American Poetry      Walker, Margaret, 1915-1998      1915.0          BALLAD OF THE HOPPY&hyphen;TOAD  1945         84   \n",
       "...                                  ...                                 ...              ...                              ...         ...                                      ...   ...        ...   \n",
       "135713   c20-american/am20062/Z300213749         1900-1999 Twentieth-Century  American Poetry             Hinsey, Ellen, 1960-      1960.0      THE STAIRWELL, BERGGASSE 19, VIENNA  1990         78   \n",
       "135765    c20-english/ep20015/Z200594457         1900-1999 Twentieth-Century   English Poetry             McMillan, Ian, 1956-      1956.0  Poem Badly Translated from the Language  1986         20   \n",
       "135796    c20-english/maxwell/Z200610338         1900-1999 Twentieth-Century   English Poetry             Maxwell, Glyn, 1962-      1962.0                               The Stakes  1992         19   \n",
       "135926    c20-english/ep20015/Z200594449         1900-1999 Twentieth-Century   English Poetry             McMillan, Ian, 1956-      1956.0            Elegy for an Hour of Daylight  1986         27   \n",
       "135947    c20-english/ep20160/Z300601647         1900-1999 Twentieth-Century   English Poetry            Bhatt, Sujata, 1956-.      1956.0                  Bear's Garlic at Nevern  1986         87   \n",
       "\n",
       "                                            volume                                               line rhyme  genre     period                                                txt data_origin  \n",
       "id_hash                                                                                                                                                                                       \n",
       "1        Poems and Sonnets by Herbert Price (1914)        In the garden we loved that is now a waste,     y    NaN  1850-1900  Ah! sweet were the days, and the nights and th...    in_paper  \n",
       "1                                 The Works (1815)  &indent;Met with a city mouse, right smooth an...     y    NaN  1650-1700  A country mouse, upon a winter's day,\\n    Met...    in_paper  \n",
       "2                                 The Works (1810)                  &indent;A heav'n of joy and love;     y  Lyric  1650-1700  There is beyond the sky\\n    A heaven of joy a...    in_paper  \n",
       "3                                              NaN              &indent;&indent;I am under the bough;     y    NaN  1800-1850  It will be much better when\\n        I am unde...    in_paper  \n",
       "3                                              NaN            Ain't been on Market Street for nothing   NaN    NaN  1900-1950  Ain't been on Market Street for nothing\\nWith ...    in_paper  \n",
       "...                                            ...                                                ...   ...    ...        ...                                                ...         ...  \n",
       "135713                                         NaN     The stairwell bore the weight of their visits—   NaN    NaN  1950-2000  The stairwell boar the weight of their visits ...    in_paper  \n",
       "135765                                         NaN                 Tell me why you have died and when   NaN    NaN  1950-2000  Tell me why you have died and when\\nin not mor...    in_paper  \n",
       "135796                                         NaN            Forget that in the three&hyphen;fifteen   NaN    NaN  1950-2000  Forget that in the three-fifteen\\nMy love was ...    in_paper  \n",
       "135926                                         NaN                The tilt of the Earth is beautiful;   NaN    NaN  1950-2000  The tilt of the Earth is beautiful;\\nthe day i...    in_paper  \n",
       "135947                                         NaN                         ‘Look, look!’ You call out   NaN    NaN  1950-2000  'Look, look!' You call out\\n    as you run:\\n\\...    in_paper  \n",
       "\n",
       "[8000 rows x 15 columns]"
      ]
     },
     "execution_count": 4,
     "metadata": {},
     "output_type": "execute_result"
    }
   ],
   "source": [
    "printm(f'### Loading period sample in paper')\n",
    "df_smpl_by_period_in_paper = get_chadwyck_corpus_sampled_by_period_as_in_paper()\n",
    "describe_corpus(df_smpl_by_period_in_paper)"
   ]
  },
  {
   "cell_type": "code",
   "execution_count": null,
   "metadata": {},
   "outputs": [
    {
     "data": {
      "text/markdown": [
       "### Replicating period sample"
      ],
      "text/plain": [
       "<IPython.core.display.Markdown object>"
      ]
     },
     "metadata": {},
     "output_type": "display_data"
    },
    {
     "data": {
      "text/markdown": [
       "#### Getting sampled corpus by period"
      ],
      "text/plain": [
       "<IPython.core.display.Markdown object>"
      ]
     },
     "metadata": {},
     "output_type": "display_data"
    },
    {
     "name": "stdout",
     "output_type": "stream",
     "text": [
      "* Loading data as replicated: /Users/rj416/github/generative-formalism/data/corpus_sample_by_period.data_as_replicated.csv.gz\n"
     ]
    },
    {
     "data": {
      "text/markdown": [
       "----"
      ],
      "text/plain": [
       "<IPython.core.display.Markdown object>"
      ]
     },
     "metadata": {},
     "output_type": "display_data"
    },
    {
     "data": {
      "text/markdown": [
       "#### Subcorpus breakdown"
      ],
      "text/plain": [
       "<IPython.core.display.Markdown object>"
      ]
     },
     "metadata": {},
     "output_type": "display_data"
    },
    {
     "name": "stdout",
     "output_type": "stream",
     "text": [
      "subcorpus\n",
      "English Poetry              5573\n",
      "American Poetry             1746\n",
      "Modern Poetry                308\n",
      "African-American Poetry      228\n",
      "The Faber Poetry Library     145\n",
      "Name: count, dtype: int64\n",
      "\n"
     ]
    },
    {
     "data": {
      "text/markdown": [
       "----"
      ],
      "text/plain": [
       "<IPython.core.display.Markdown object>"
      ]
     },
     "metadata": {},
     "output_type": "display_data"
    },
    {
     "data": {
      "text/markdown": [
       "#### Historical period breakdown (from metadata)"
      ],
      "text/plain": [
       "<IPython.core.display.Markdown object>"
      ]
     },
     "metadata": {},
     "output_type": "display_data"
    },
    {
     "name": "stdout",
     "output_type": "stream",
     "text": [
      "period_meta\n",
      "1900-1999 Twentieth-Century                    2434\n",
      "1700-1749 Early Eighteenth-Century              996\n",
      "1800-1834 Early Nineteenth-Century              718\n",
      "1835-1869 Mid Nineteenth-Century                654\n",
      "1603-1660 Jacobean and Caroline                 634\n",
      "1750-1799 Later Eighteenth-Century              611\n",
      "1870-1899 Later Nineteenth-Century              609\n",
      "1660-1700 Restoration                           528\n",
      "1550-1900 Miscellanies and Collections           67\n",
      "1500-1700 Emblems, Epigrams, Formal Satires      52\n",
      "1500-1580 Tudor                                  11\n",
      "1837-1860 Early Victorian                         2\n",
      "1860-1880 Mid-Victorian                           2\n",
      "1880-1901 Late Victorian                          2\n",
      "1500-1700 Songbooks                               1\n",
      "Name: count, dtype: int64\n",
      "\n"
     ]
    },
    {
     "data": {
      "text/markdown": [
       "----"
      ],
      "text/plain": [
       "<IPython.core.display.Markdown object>"
      ]
     },
     "metadata": {},
     "output_type": "display_data"
    },
    {
     "data": {
      "text/markdown": [
       "#### Historical period breakdown (from author birth year)"
      ],
      "text/plain": [
       "<IPython.core.display.Markdown object>"
      ]
     },
     "metadata": {},
     "output_type": "display_data"
    },
    {
     "name": "stdout",
     "output_type": "stream",
     "text": [
      "period\n",
      "1800-1850    1000\n",
      "1900-1950    1000\n",
      "1950-2000    1000\n",
      "1850-1900    1000\n",
      "1700-1750    1000\n",
      "1750-1800    1000\n",
      "1650-1700    1000\n",
      "1600-1650    1000\n",
      "Name: count, dtype: int64\n",
      "\n"
     ]
    },
    {
     "data": {
      "text/markdown": [
       "----"
      ],
      "text/plain": [
       "<IPython.core.display.Markdown object>"
      ]
     },
     "metadata": {},
     "output_type": "display_data"
    },
    {
     "data": {
      "text/markdown": [
       "#### Historical period + subcorpus breakdown"
      ],
      "text/plain": [
       "<IPython.core.display.Markdown object>"
      ]
     },
     "metadata": {},
     "output_type": "display_data"
    },
    {
     "name": "stdout",
     "output_type": "stream",
     "text": [
      "                                    count\n",
      "period    subcorpus                      \n",
      "1600-1650 American Poetry              39\n",
      "          English Poetry              961\n",
      "1650-1700 American Poetry               5\n",
      "          English Poetry              995\n",
      "1700-1750 American Poetry              26\n",
      "          English Poetry              974\n",
      "1750-1800 African-American Poetry      13\n",
      "          American Poetry             160\n",
      "          English Poetry              827\n",
      "1800-1850 African-American Poetry       8\n",
      "          American Poetry             330\n",
      "          English Poetry              662\n",
      "1850-1900 African-American Poetry      53\n",
      "          American Poetry             295\n",
      "          English Poetry              604\n",
      "          Modern Poetry                28\n",
      "          The Faber Poetry Library     20\n",
      "1900-1950 African-American Poetry      41\n",
      "          American Poetry             592\n",
      "          English Poetry              202\n",
      "          Modern Poetry               117\n",
      "          The Faber Poetry Library     48\n",
      "1950-2000 African-American Poetry     113\n",
      "          American Poetry             299\n",
      "          English Poetry              348\n",
      "          Modern Poetry               163\n",
      "          The Faber Poetry Library     77\n",
      "\n"
     ]
    },
    {
     "data": {
      "text/markdown": [
       "----"
      ],
      "text/plain": [
       "<IPython.core.display.Markdown object>"
      ]
     },
     "metadata": {},
     "output_type": "display_data"
    },
    {
     "data": {
      "text/markdown": [
       "#### Author birth year distribution"
      ],
      "text/plain": [
       "<IPython.core.display.Markdown object>"
      ]
     },
     "metadata": {},
     "output_type": "display_data"
    },
    {
     "name": "stdout",
     "output_type": "stream",
     "text": [
      "author_dob\n",
      "1600 ------- [ 1699   | 1799 |   1899 ] -------- 1974\n",
      "\n"
     ]
    },
    {
     "data": {
      "text/markdown": [
       "----"
      ],
      "text/plain": [
       "<IPython.core.display.Markdown object>"
      ]
     },
     "metadata": {},
     "output_type": "display_data"
    },
    {
     "data": {
      "text/markdown": [
       "#### Number of lines in poems"
      ],
      "text/plain": [
       "<IPython.core.display.Markdown object>"
      ]
     },
     "metadata": {},
     "output_type": "display_data"
    },
    {
     "name": "stdout",
     "output_type": "stream",
     "text": [
      "num_lines\n",
      "10 ------- [ 16   | 26 |   41 ] -------- 100\n",
      "\n"
     ]
    },
    {
     "data": {
      "text/markdown": [
       "----"
      ],
      "text/plain": [
       "<IPython.core.display.Markdown object>"
      ]
     },
     "metadata": {},
     "output_type": "display_data"
    },
    {
     "data": {
      "text/markdown": [
       "#### Annotated rhyme distribution"
      ],
      "text/plain": [
       "<IPython.core.display.Markdown object>"
      ]
     },
     "metadata": {},
     "output_type": "display_data"
    },
    {
     "name": "stdout",
     "output_type": "stream",
     "text": [
      "rhyme\n",
      "y      5529\n",
      "n       118\n",
      "y n       9\n",
      "Name: count, dtype: int64\n",
      "\n"
     ]
    },
    {
     "data": {
      "text/markdown": [
       "----"
      ],
      "text/plain": [
       "<IPython.core.display.Markdown object>"
      ]
     },
     "metadata": {},
     "output_type": "display_data"
    },
    {
     "data": {
      "text/markdown": [
       "#### Metadata"
      ],
      "text/plain": [
       "<IPython.core.display.Markdown object>"
      ]
     },
     "metadata": {},
     "output_type": "display_data"
    },
    {
     "data": {
      "text/html": [
       "<div>\n",
       "<style scoped>\n",
       "    .dataframe tbody tr th:only-of-type {\n",
       "        vertical-align: middle;\n",
       "    }\n",
       "\n",
       "    .dataframe tbody tr th {\n",
       "        vertical-align: top;\n",
       "    }\n",
       "\n",
       "    .dataframe thead th {\n",
       "        text-align: right;\n",
       "    }\n",
       "</style>\n",
       "<table border=\"1\" class=\"dataframe\">\n",
       "  <thead>\n",
       "    <tr style=\"text-align: right;\">\n",
       "      <th></th>\n",
       "      <th>id</th>\n",
       "      <th>period_meta</th>\n",
       "      <th>subcorpus</th>\n",
       "      <th>author</th>\n",
       "      <th>author_dob</th>\n",
       "      <th>title</th>\n",
       "      <th>year</th>\n",
       "      <th>num_lines</th>\n",
       "      <th>volume</th>\n",
       "      <th>line</th>\n",
       "      <th>rhyme</th>\n",
       "      <th>genre</th>\n",
       "      <th>period</th>\n",
       "      <th>txt</th>\n",
       "      <th>data_origin</th>\n",
       "    </tr>\n",
       "    <tr>\n",
       "      <th>id_hash</th>\n",
       "      <th></th>\n",
       "      <th></th>\n",
       "      <th></th>\n",
       "      <th></th>\n",
       "      <th></th>\n",
       "      <th></th>\n",
       "      <th></th>\n",
       "      <th></th>\n",
       "      <th></th>\n",
       "      <th></th>\n",
       "      <th></th>\n",
       "      <th></th>\n",
       "      <th></th>\n",
       "      <th></th>\n",
       "      <th></th>\n",
       "    </tr>\n",
       "  </thead>\n",
       "  <tbody>\n",
       "    <tr>\n",
       "      <th>11</th>\n",
       "      <td>american/am1208/Z200193522</td>\n",
       "      <td>1870-1899 Later Nineteenth-Century</td>\n",
       "      <td>American Poetry</td>\n",
       "      <td>Stoddard, Richard Henry, 1825-1903</td>\n",
       "      <td>1825.0</td>\n",
       "      <td>THE FALCON.</td>\n",
       "      <td>1855</td>\n",
       "      <td>12</td>\n",
       "      <td>Songs of summer (1857)</td>\n",
       "      <td>&amp;indent;I pine with a fancied wrong;</td>\n",
       "      <td>y</td>\n",
       "      <td>NaN</td>\n",
       "      <td>1800-1850</td>\n",
       "      <td>In-doors in a summer day, Like this,\\n    I pi...</td>\n",
       "      <td>replicated</td>\n",
       "    </tr>\n",
       "    <tr>\n",
       "      <th>16</th>\n",
       "      <td>c20-american/am20034/Z300211527</td>\n",
       "      <td>1900-1999 Twentieth-Century</td>\n",
       "      <td>American Poetry</td>\n",
       "      <td>Bensko, John, 1949-</td>\n",
       "      <td>1949.0</td>\n",
       "      <td>Troop Train</td>\n",
       "      <td>1979</td>\n",
       "      <td>34</td>\n",
       "      <td>NaN</td>\n",
       "      <td>The survivors for the front regret their wounds</td>\n",
       "      <td>NaN</td>\n",
       "      <td>NaN</td>\n",
       "      <td>1900-1950</td>\n",
       "      <td>The survivors for the front regret their wound...</td>\n",
       "      <td>replicated</td>\n",
       "    </tr>\n",
       "    <tr>\n",
       "      <th>19</th>\n",
       "      <td>c20-american/am23006/Z300250508</td>\n",
       "      <td>1900-1999 Twentieth-Century</td>\n",
       "      <td>American Poetry</td>\n",
       "      <td>Burkard, Michael, 1947-</td>\n",
       "      <td>1947.0</td>\n",
       "      <td>Zane Grey</td>\n",
       "      <td>1977</td>\n",
       "      <td>41</td>\n",
       "      <td>NaN</td>\n",
       "      <td>I have no desire to be this green wood.</td>\n",
       "      <td>NaN</td>\n",
       "      <td>NaN</td>\n",
       "      <td>1900-1950</td>\n",
       "      <td>I have no desire to be this green wood.\\nI hav...</td>\n",
       "      <td>replicated</td>\n",
       "    </tr>\n",
       "    <tr>\n",
       "      <th>23</th>\n",
       "      <td>english/davieswi/Z200335516</td>\n",
       "      <td>1835-1869 Mid Nineteenth-Century</td>\n",
       "      <td>English Poetry</td>\n",
       "      <td>Davies, William, 1830-1896</td>\n",
       "      <td>1830.0</td>\n",
       "      <td>LIPS AND ROSES.</td>\n",
       "      <td>1860</td>\n",
       "      <td>18</td>\n",
       "      <td>The Shepherd's Garden (1873)</td>\n",
       "      <td>&amp;indent;The joys with Time foregone,</td>\n",
       "      <td>y</td>\n",
       "      <td>NaN</td>\n",
       "      <td>1800-1850</td>\n",
       "      <td>Red roses of whose sweets were made\\n    The j...</td>\n",
       "      <td>replicated</td>\n",
       "    </tr>\n",
       "    <tr>\n",
       "      <th>25</th>\n",
       "      <td>english-ed2/ep2358/Z200655703</td>\n",
       "      <td>NaN</td>\n",
       "      <td>English Poetry</td>\n",
       "      <td>Wilson, Anne, Lady, 1848-1930</td>\n",
       "      <td>1848.0</td>\n",
       "      <td>PENSEES.</td>\n",
       "      <td>1878</td>\n",
       "      <td>19</td>\n",
       "      <td>Themes and Variations: by Mrs James Glenny Wil...</td>\n",
       "      <td>With wear, and fret, and toil of many hands,</td>\n",
       "      <td>y</td>\n",
       "      <td>NaN</td>\n",
       "      <td>1800-1850</td>\n",
       "      <td>Columbus, wandering by the Iberian shore,\\n   ...</td>\n",
       "      <td>replicated</td>\n",
       "    </tr>\n",
       "    <tr>\n",
       "      <th>...</th>\n",
       "      <td>...</td>\n",
       "      <td>...</td>\n",
       "      <td>...</td>\n",
       "      <td>...</td>\n",
       "      <td>...</td>\n",
       "      <td>...</td>\n",
       "      <td>...</td>\n",
       "      <td>...</td>\n",
       "      <td>...</td>\n",
       "      <td>...</td>\n",
       "      <td>...</td>\n",
       "      <td>...</td>\n",
       "      <td>...</td>\n",
       "      <td>...</td>\n",
       "      <td>...</td>\n",
       "    </tr>\n",
       "    <tr>\n",
       "      <th>133010</th>\n",
       "      <td>c20-american/am23056/Z300255204</td>\n",
       "      <td>1900-1999 Twentieth-Century</td>\n",
       "      <td>American Poetry</td>\n",
       "      <td>Howe, Marie, 1950-</td>\n",
       "      <td>1950.0</td>\n",
       "      <td>Without Music</td>\n",
       "      <td>1980</td>\n",
       "      <td>14</td>\n",
       "      <td>NaN</td>\n",
       "      <td>Only the car radio</td>\n",
       "      <td>NaN</td>\n",
       "      <td>NaN</td>\n",
       "      <td>1950-2000</td>\n",
       "      <td>Only the car radio\\ndriving from the drugstore...</td>\n",
       "      <td>replicated</td>\n",
       "    </tr>\n",
       "    <tr>\n",
       "      <th>133316</th>\n",
       "      <td>c20-english/ep32001/Z200305144</td>\n",
       "      <td>1900-1999 Twentieth-Century</td>\n",
       "      <td>English Poetry</td>\n",
       "      <td>Wilkins, Paul, 1951-</td>\n",
       "      <td>1951.0</td>\n",
       "      <td>It</td>\n",
       "      <td>1981</td>\n",
       "      <td>63</td>\n",
       "      <td>NaN</td>\n",
       "      <td>Seeing them gripped close,</td>\n",
       "      <td>NaN</td>\n",
       "      <td>NaN</td>\n",
       "      <td>1950-2000</td>\n",
       "      <td>Seeing them gripped close,\\none with a leg til...</td>\n",
       "      <td>replicated</td>\n",
       "    </tr>\n",
       "    <tr>\n",
       "      <th>133422</th>\n",
       "      <td>c20-english/armitage/Z200608786</td>\n",
       "      <td>1900-1999 Twentieth-Century</td>\n",
       "      <td>English Poetry</td>\n",
       "      <td>Armitage, Simon, 1963-</td>\n",
       "      <td>1963.0</td>\n",
       "      <td>Bylot Island</td>\n",
       "      <td>1993</td>\n",
       "      <td>48</td>\n",
       "      <td>NaN</td>\n",
       "      <td>Arrived midday and it felt like heaven. Just t...</td>\n",
       "      <td>NaN</td>\n",
       "      <td>Lyric</td>\n",
       "      <td>1950-2000</td>\n",
       "      <td>Arrived midday and it felt Like heaven. Just t...</td>\n",
       "      <td>replicated</td>\n",
       "    </tr>\n",
       "    <tr>\n",
       "      <th>133615</th>\n",
       "      <td>c20-american/am22067/Z300234813</td>\n",
       "      <td>1900-1999 Twentieth-Century</td>\n",
       "      <td>American Poetry</td>\n",
       "      <td>Shumaker, Peggy, 1952-</td>\n",
       "      <td>1952.0</td>\n",
       "      <td>Ticking</td>\n",
       "      <td>1982</td>\n",
       "      <td>32</td>\n",
       "      <td>NaN</td>\n",
       "      <td>My doctor, Clarice, says if I want</td>\n",
       "      <td>NaN</td>\n",
       "      <td>NaN</td>\n",
       "      <td>1950-2000</td>\n",
       "      <td>My doctor, Clarice, says if I want\\nto have ch...</td>\n",
       "      <td>replicated</td>\n",
       "    </tr>\n",
       "    <tr>\n",
       "      <th>133689</th>\n",
       "      <td>c20-american/am23019/Z300251734</td>\n",
       "      <td>1900-1999 Twentieth-Century</td>\n",
       "      <td>American Poetry</td>\n",
       "      <td>Espada, Martin, 1957-</td>\n",
       "      <td>1957.0</td>\n",
       "      <td>The Other Alamo</td>\n",
       "      <td>1987</td>\n",
       "      <td>64</td>\n",
       "      <td>NaN</td>\n",
       "      <td>In the Crockett Hotel dining room,</td>\n",
       "      <td>NaN</td>\n",
       "      <td>NaN</td>\n",
       "      <td>1950-2000</td>\n",
       "      <td>In the Crockett Hotel dining room,\\na chalk-fa...</td>\n",
       "      <td>replicated</td>\n",
       "    </tr>\n",
       "  </tbody>\n",
       "</table>\n",
       "<p>8000 rows × 15 columns</p>\n",
       "</div>"
      ],
      "text/plain": [
       "                                      id                         period_meta        subcorpus                              author  author_dob            title  year  num_lines  \\\n",
       "id_hash                                                                                                                                                                           \n",
       "11            american/am1208/Z200193522  1870-1899 Later Nineteenth-Century  American Poetry  Stoddard, Richard Henry, 1825-1903      1825.0      THE FALCON.  1855         12   \n",
       "16       c20-american/am20034/Z300211527         1900-1999 Twentieth-Century  American Poetry                 Bensko, John, 1949-      1949.0      Troop Train  1979         34   \n",
       "19       c20-american/am23006/Z300250508         1900-1999 Twentieth-Century  American Poetry             Burkard, Michael, 1947-      1947.0        Zane Grey  1977         41   \n",
       "23           english/davieswi/Z200335516    1835-1869 Mid Nineteenth-Century   English Poetry          Davies, William, 1830-1896      1830.0  LIPS AND ROSES.  1860         18   \n",
       "25         english-ed2/ep2358/Z200655703                                 NaN   English Poetry       Wilson, Anne, Lady, 1848-1930      1848.0         PENSEES.  1878         19   \n",
       "...                                  ...                                 ...              ...                                 ...         ...              ...   ...        ...   \n",
       "133010   c20-american/am23056/Z300255204         1900-1999 Twentieth-Century  American Poetry                  Howe, Marie, 1950-      1950.0    Without Music  1980         14   \n",
       "133316    c20-english/ep32001/Z200305144         1900-1999 Twentieth-Century   English Poetry                Wilkins, Paul, 1951-      1951.0               It  1981         63   \n",
       "133422   c20-english/armitage/Z200608786         1900-1999 Twentieth-Century   English Poetry              Armitage, Simon, 1963-      1963.0     Bylot Island  1993         48   \n",
       "133615   c20-american/am22067/Z300234813         1900-1999 Twentieth-Century  American Poetry              Shumaker, Peggy, 1952-      1952.0          Ticking  1982         32   \n",
       "133689   c20-american/am23019/Z300251734         1900-1999 Twentieth-Century  American Poetry               Espada, Martin, 1957-      1957.0  The Other Alamo  1987         64   \n",
       "\n",
       "                                                    volume                                               line rhyme  genre     period                                                txt data_origin  \n",
       "id_hash                                                                                                                                                                                               \n",
       "11                                  Songs of summer (1857)               &indent;I pine with a fancied wrong;     y    NaN  1800-1850  In-doors in a summer day, Like this,\\n    I pi...  replicated  \n",
       "16                                                     NaN    The survivors for the front regret their wounds   NaN    NaN  1900-1950  The survivors for the front regret their wound...  replicated  \n",
       "19                                                     NaN            I have no desire to be this green wood.   NaN    NaN  1900-1950  I have no desire to be this green wood.\\nI hav...  replicated  \n",
       "23                            The Shepherd's Garden (1873)               &indent;The joys with Time foregone,     y    NaN  1800-1850  Red roses of whose sweets were made\\n    The j...  replicated  \n",
       "25       Themes and Variations: by Mrs James Glenny Wil...       With wear, and fret, and toil of many hands,     y    NaN  1800-1850  Columbus, wandering by the Iberian shore,\\n   ...  replicated  \n",
       "...                                                    ...                                                ...   ...    ...        ...                                                ...         ...  \n",
       "133010                                                 NaN                                 Only the car radio   NaN    NaN  1950-2000  Only the car radio\\ndriving from the drugstore...  replicated  \n",
       "133316                                                 NaN                         Seeing them gripped close,   NaN    NaN  1950-2000  Seeing them gripped close,\\none with a leg til...  replicated  \n",
       "133422                                                 NaN  Arrived midday and it felt like heaven. Just t...   NaN  Lyric  1950-2000  Arrived midday and it felt Like heaven. Just t...  replicated  \n",
       "133615                                                 NaN                 My doctor, Clarice, says if I want   NaN    NaN  1950-2000  My doctor, Clarice, says if I want\\nto have ch...  replicated  \n",
       "133689                                                 NaN                 In the Crockett Hotel dining room,   NaN    NaN  1950-2000  In the Crockett Hotel dining room,\\na chalk-fa...  replicated  \n",
       "\n",
       "[8000 rows x 15 columns]"
      ]
     },
     "execution_count": 5,
     "metadata": {},
     "output_type": "execute_result"
    }
   ],
   "source": [
    "printm(f'### Replicating period sample')\n",
    "df_smpl_by_period_replicated = get_chadwyck_corpus_sampled_by_period_as_replicated()\n",
    "describe_corpus(df_smpl_by_period_replicated)"
   ]
  },
  {
   "cell_type": "code",
   "execution_count": 8,
   "metadata": {},
   "outputs": [
    {
     "data": {
      "text/markdown": [
       "### Loading rhyme sample in paper"
      ],
      "text/plain": [
       "<IPython.core.display.Markdown object>"
      ]
     },
     "metadata": {},
     "output_type": "display_data"
    },
    {
     "data": {
      "text/markdown": [
       "#### Getting sampled corpus by rhyme"
      ],
      "text/plain": [
       "<IPython.core.display.Markdown object>"
      ]
     },
     "metadata": {},
     "output_type": "display_data"
    },
    {
     "name": "stdout",
     "output_type": "stream",
     "text": [
      "* Loading data as in paper: /Users/rj416/github/generative-formalism/data/corpus_sample_by_rhyme.data_as_in_paper.csv.gz\n"
     ]
    },
    {
     "data": {
      "text/html": [
       "<div>\n",
       "<style scoped>\n",
       "    .dataframe tbody tr th:only-of-type {\n",
       "        vertical-align: middle;\n",
       "    }\n",
       "\n",
       "    .dataframe tbody tr th {\n",
       "        vertical-align: top;\n",
       "    }\n",
       "\n",
       "    .dataframe thead th {\n",
       "        text-align: right;\n",
       "    }\n",
       "</style>\n",
       "<table border=\"1\" class=\"dataframe\">\n",
       "  <thead>\n",
       "    <tr style=\"text-align: right;\">\n",
       "      <th></th>\n",
       "      <th>prompt_type</th>\n",
       "      <th>prompt</th>\n",
       "      <th>model</th>\n",
       "      <th>temperature</th>\n",
       "      <th>txt</th>\n",
       "      <th>num_lines</th>\n",
       "      <th>data_origin</th>\n",
       "    </tr>\n",
       "    <tr>\n",
       "      <th>id_hash</th>\n",
       "      <th></th>\n",
       "      <th></th>\n",
       "      <th></th>\n",
       "      <th></th>\n",
       "      <th></th>\n",
       "      <th></th>\n",
       "      <th></th>\n",
       "    </tr>\n",
       "  </thead>\n",
       "  <tbody>\n",
       "    <tr>\n",
       "      <th>327</th>\n",
       "      <td>MAYBE_rhyme</td>\n",
       "      <td>Write a poem (with 20+ lines).</td>\n",
       "      <td>claude-3-haiku-20240307</td>\n",
       "      <td>0.663096</td>\n",
       "      <td>Amidst the gentle breeze, a symphony unfolds,\\...</td>\n",
       "      <td>20</td>\n",
       "      <td>in_paper</td>\n",
       "    </tr>\n",
       "    <tr>\n",
       "      <th>358</th>\n",
       "      <td>MAYBE_rhyme</td>\n",
       "      <td>Write a poem (with 20+ lines).</td>\n",
       "      <td>ollama/olmo2:13b</td>\n",
       "      <td>0.700000</td>\n",
       "      <td>In the gentle whisper of the wind's caress,\\nB...</td>\n",
       "      <td>44</td>\n",
       "      <td>in_paper</td>\n",
       "    </tr>\n",
       "    <tr>\n",
       "      <th>450</th>\n",
       "      <td>DO_rhyme</td>\n",
       "      <td>Write a poem in the style of Emily Dickinson.</td>\n",
       "      <td>claude-3-sonnet-20240229</td>\n",
       "      <td>0.242998</td>\n",
       "      <td>The carriage held but just ourselves -  \\nImmo...</td>\n",
       "      <td>16</td>\n",
       "      <td>in_paper</td>\n",
       "    </tr>\n",
       "    <tr>\n",
       "      <th>487</th>\n",
       "      <td>do_NOT_rhyme</td>\n",
       "      <td>Write a poem in free verse.</td>\n",
       "      <td>ollama/olmo2:13b</td>\n",
       "      <td>0.700000</td>\n",
       "      <td>In the stillness of night, stars whisper secre...</td>\n",
       "      <td>18</td>\n",
       "      <td>in_paper</td>\n",
       "    </tr>\n",
       "    <tr>\n",
       "      <th>491</th>\n",
       "      <td>DO_rhyme</td>\n",
       "      <td>Write an ryhmed poem in the style of Shakespea...</td>\n",
       "      <td>gpt-3.5-turbo</td>\n",
       "      <td>0.617467</td>\n",
       "      <td>Oh fair maiden, with eyes so bright and clear,...</td>\n",
       "      <td>14</td>\n",
       "      <td>in_paper</td>\n",
       "    </tr>\n",
       "    <tr>\n",
       "      <th>...</th>\n",
       "      <td>...</td>\n",
       "      <td>...</td>\n",
       "      <td>...</td>\n",
       "      <td>...</td>\n",
       "      <td>...</td>\n",
       "      <td>...</td>\n",
       "      <td>...</td>\n",
       "    </tr>\n",
       "    <tr>\n",
       "      <th>999746</th>\n",
       "      <td>do_NOT_rhyme</td>\n",
       "      <td>Write a poem in blank verse.</td>\n",
       "      <td>claude-3-opus-20240229</td>\n",
       "      <td>0.789878</td>\n",
       "      <td>In solitude, I wander through the woods,\\nMy t...</td>\n",
       "      <td>20</td>\n",
       "      <td>in_paper</td>\n",
       "    </tr>\n",
       "    <tr>\n",
       "      <th>999780</th>\n",
       "      <td>do_NOT_rhyme</td>\n",
       "      <td>Write a poem in the style of Walt Whitman.</td>\n",
       "      <td>gpt-3.5-turbo</td>\n",
       "      <td>0.639342</td>\n",
       "      <td>O Captain! my Captain! our fearful trip is don...</td>\n",
       "      <td>24</td>\n",
       "      <td>in_paper</td>\n",
       "    </tr>\n",
       "    <tr>\n",
       "      <th>999864</th>\n",
       "      <td>DO_rhyme</td>\n",
       "      <td>Write a poem (with 20+ lines) that rhymes.</td>\n",
       "      <td>ollama/llama3.1:8b</td>\n",
       "      <td>0.700000</td>\n",
       "      <td>In twilight's hush, where shadows play,\\nThe s...</td>\n",
       "      <td>24</td>\n",
       "      <td>in_paper</td>\n",
       "    </tr>\n",
       "    <tr>\n",
       "      <th>999961</th>\n",
       "      <td>do_NOT_rhyme</td>\n",
       "      <td>Write a poem in free verse.</td>\n",
       "      <td>gemini-pro</td>\n",
       "      <td>0.900051</td>\n",
       "      <td>Without chains or binds,\\nMy thoughts flow lik...</td>\n",
       "      <td>12</td>\n",
       "      <td>in_paper</td>\n",
       "    </tr>\n",
       "    <tr>\n",
       "      <th>999979</th>\n",
       "      <td>do_NOT_rhyme</td>\n",
       "      <td>Write a poem that does NOT rhyme.</td>\n",
       "      <td>gpt-4-turbo</td>\n",
       "      <td>0.700000</td>\n",
       "      <td>In the quiet morning,\\nlight trickles in,\\nsof...</td>\n",
       "      <td>26</td>\n",
       "      <td>in_paper</td>\n",
       "    </tr>\n",
       "  </tbody>\n",
       "</table>\n",
       "<p>13803 rows × 7 columns</p>\n",
       "</div>"
      ],
      "text/plain": [
       "          prompt_type                                             prompt                     model  temperature                                                txt  num_lines data_origin\n",
       "id_hash                                                                                                                                                                                  \n",
       "327       MAYBE_rhyme                     Write a poem (with 20+ lines).   claude-3-haiku-20240307     0.663096  Amidst the gentle breeze, a symphony unfolds,\\...         20    in_paper\n",
       "358       MAYBE_rhyme                     Write a poem (with 20+ lines).          ollama/olmo2:13b     0.700000  In the gentle whisper of the wind's caress,\\nB...         44    in_paper\n",
       "450          DO_rhyme      Write a poem in the style of Emily Dickinson.  claude-3-sonnet-20240229     0.242998  The carriage held but just ourselves -  \\nImmo...         16    in_paper\n",
       "487      do_NOT_rhyme                        Write a poem in free verse.          ollama/olmo2:13b     0.700000  In the stillness of night, stars whisper secre...         18    in_paper\n",
       "491          DO_rhyme  Write an ryhmed poem in the style of Shakespea...             gpt-3.5-turbo     0.617467  Oh fair maiden, with eyes so bright and clear,...         14    in_paper\n",
       "...               ...                                                ...                       ...          ...                                                ...        ...         ...\n",
       "999746   do_NOT_rhyme                       Write a poem in blank verse.    claude-3-opus-20240229     0.789878  In solitude, I wander through the woods,\\nMy t...         20    in_paper\n",
       "999780   do_NOT_rhyme         Write a poem in the style of Walt Whitman.             gpt-3.5-turbo     0.639342  O Captain! my Captain! our fearful trip is don...         24    in_paper\n",
       "999864       DO_rhyme         Write a poem (with 20+ lines) that rhymes.        ollama/llama3.1:8b     0.700000  In twilight's hush, where shadows play,\\nThe s...         24    in_paper\n",
       "999961   do_NOT_rhyme                        Write a poem in free verse.                gemini-pro     0.900051  Without chains or binds,\\nMy thoughts flow lik...         12    in_paper\n",
       "999979   do_NOT_rhyme                  Write a poem that does NOT rhyme.               gpt-4-turbo     0.700000  In the quiet morning,\\nlight trickles in,\\nsof...         26    in_paper\n",
       "\n",
       "[13803 rows x 7 columns]"
      ]
     },
     "execution_count": 8,
     "metadata": {},
     "output_type": "execute_result"
    }
   ],
   "source": [
    "printm(f'### Loading rhyme sample in paper')\n",
    "df_smpl_by_rhyme_in_paper = get_chadwyck_corpus_sampled_by_rhyme_as_in_paper()\n",
    "df_smpl_by_rhyme_in_paper"
   ]
  },
  {
   "cell_type": "code",
   "execution_count": 9,
   "metadata": {},
   "outputs": [
    {
     "data": {
      "text/markdown": [
       "### Replicating period sample"
      ],
      "text/plain": [
       "<IPython.core.display.Markdown object>"
      ]
     },
     "metadata": {},
     "output_type": "display_data"
    },
    {
     "data": {
      "text/markdown": [
       "#### Getting sampled corpus by period"
      ],
      "text/plain": [
       "<IPython.core.display.Markdown object>"
      ]
     },
     "metadata": {},
     "output_type": "display_data"
    },
    {
     "name": "stdout",
     "output_type": "stream",
     "text": [
      "* Loading data as replicated: /Users/rj416/github/generative-formalism/data/corpus_sample_by_period.data_as_replicated.csv.gz\n"
     ]
    },
    {
     "data": {
      "text/markdown": [
       "----"
      ],
      "text/plain": [
       "<IPython.core.display.Markdown object>"
      ]
     },
     "metadata": {},
     "output_type": "display_data"
    },
    {
     "data": {
      "text/markdown": [
       "#### Subcorpus breakdown"
      ],
      "text/plain": [
       "<IPython.core.display.Markdown object>"
      ]
     },
     "metadata": {},
     "output_type": "display_data"
    },
    {
     "name": "stdout",
     "output_type": "stream",
     "text": [
      "subcorpus\n",
      "English Poetry              5573\n",
      "American Poetry             1746\n",
      "Modern Poetry                308\n",
      "African-American Poetry      228\n",
      "The Faber Poetry Library     145\n",
      "Name: count, dtype: int64\n",
      "\n"
     ]
    },
    {
     "data": {
      "text/markdown": [
       "----"
      ],
      "text/plain": [
       "<IPython.core.display.Markdown object>"
      ]
     },
     "metadata": {},
     "output_type": "display_data"
    },
    {
     "data": {
      "text/markdown": [
       "#### Historical period breakdown (from metadata)"
      ],
      "text/plain": [
       "<IPython.core.display.Markdown object>"
      ]
     },
     "metadata": {},
     "output_type": "display_data"
    },
    {
     "name": "stdout",
     "output_type": "stream",
     "text": [
      "period_meta\n",
      "1900-1999 Twentieth-Century                    2434\n",
      "1700-1749 Early Eighteenth-Century              996\n",
      "1800-1834 Early Nineteenth-Century              718\n",
      "1835-1869 Mid Nineteenth-Century                654\n",
      "1603-1660 Jacobean and Caroline                 634\n",
      "1750-1799 Later Eighteenth-Century              611\n",
      "1870-1899 Later Nineteenth-Century              609\n",
      "1660-1700 Restoration                           528\n",
      "1550-1900 Miscellanies and Collections           67\n",
      "1500-1700 Emblems, Epigrams, Formal Satires      52\n",
      "1500-1580 Tudor                                  11\n",
      "1837-1860 Early Victorian                         2\n",
      "1860-1880 Mid-Victorian                           2\n",
      "1880-1901 Late Victorian                          2\n",
      "1500-1700 Songbooks                               1\n",
      "Name: count, dtype: int64\n",
      "\n"
     ]
    },
    {
     "data": {
      "text/markdown": [
       "----"
      ],
      "text/plain": [
       "<IPython.core.display.Markdown object>"
      ]
     },
     "metadata": {},
     "output_type": "display_data"
    },
    {
     "data": {
      "text/markdown": [
       "#### Historical period breakdown (from author birth year)"
      ],
      "text/plain": [
       "<IPython.core.display.Markdown object>"
      ]
     },
     "metadata": {},
     "output_type": "display_data"
    },
    {
     "name": "stdout",
     "output_type": "stream",
     "text": [
      "period\n",
      "1800-1850    1000\n",
      "1900-1950    1000\n",
      "1950-2000    1000\n",
      "1850-1900    1000\n",
      "1700-1750    1000\n",
      "1750-1800    1000\n",
      "1650-1700    1000\n",
      "1600-1650    1000\n",
      "Name: count, dtype: int64\n",
      "\n"
     ]
    },
    {
     "data": {
      "text/markdown": [
       "----"
      ],
      "text/plain": [
       "<IPython.core.display.Markdown object>"
      ]
     },
     "metadata": {},
     "output_type": "display_data"
    },
    {
     "data": {
      "text/markdown": [
       "#### Historical period + subcorpus breakdown"
      ],
      "text/plain": [
       "<IPython.core.display.Markdown object>"
      ]
     },
     "metadata": {},
     "output_type": "display_data"
    },
    {
     "name": "stdout",
     "output_type": "stream",
     "text": [
      "                                    count\n",
      "period    subcorpus                      \n",
      "1600-1650 American Poetry              39\n",
      "          English Poetry              961\n",
      "1650-1700 American Poetry               5\n",
      "          English Poetry              995\n",
      "1700-1750 American Poetry              26\n",
      "          English Poetry              974\n",
      "1750-1800 African-American Poetry      13\n",
      "          American Poetry             160\n",
      "          English Poetry              827\n",
      "1800-1850 African-American Poetry       8\n",
      "          American Poetry             330\n",
      "          English Poetry              662\n",
      "1850-1900 African-American Poetry      53\n",
      "          American Poetry             295\n",
      "          English Poetry              604\n",
      "          Modern Poetry                28\n",
      "          The Faber Poetry Library     20\n",
      "1900-1950 African-American Poetry      41\n",
      "          American Poetry             592\n",
      "          English Poetry              202\n",
      "          Modern Poetry               117\n",
      "          The Faber Poetry Library     48\n",
      "1950-2000 African-American Poetry     113\n",
      "          American Poetry             299\n",
      "          English Poetry              348\n",
      "          Modern Poetry               163\n",
      "          The Faber Poetry Library     77\n",
      "\n"
     ]
    },
    {
     "data": {
      "text/markdown": [
       "----"
      ],
      "text/plain": [
       "<IPython.core.display.Markdown object>"
      ]
     },
     "metadata": {},
     "output_type": "display_data"
    },
    {
     "data": {
      "text/markdown": [
       "#### Author birth year distribution"
      ],
      "text/plain": [
       "<IPython.core.display.Markdown object>"
      ]
     },
     "metadata": {},
     "output_type": "display_data"
    },
    {
     "name": "stdout",
     "output_type": "stream",
     "text": [
      "author_dob\n",
      "1600 ------- [ 1699   | 1799 |   1899 ] -------- 1974\n",
      "\n"
     ]
    },
    {
     "data": {
      "text/markdown": [
       "----"
      ],
      "text/plain": [
       "<IPython.core.display.Markdown object>"
      ]
     },
     "metadata": {},
     "output_type": "display_data"
    },
    {
     "data": {
      "text/markdown": [
       "#### Number of lines in poems"
      ],
      "text/plain": [
       "<IPython.core.display.Markdown object>"
      ]
     },
     "metadata": {},
     "output_type": "display_data"
    },
    {
     "name": "stdout",
     "output_type": "stream",
     "text": [
      "num_lines\n",
      "10 ------- [ 16   | 26 |   41 ] -------- 100\n",
      "\n"
     ]
    },
    {
     "data": {
      "text/markdown": [
       "----"
      ],
      "text/plain": [
       "<IPython.core.display.Markdown object>"
      ]
     },
     "metadata": {},
     "output_type": "display_data"
    },
    {
     "data": {
      "text/markdown": [
       "#### Annotated rhyme distribution"
      ],
      "text/plain": [
       "<IPython.core.display.Markdown object>"
      ]
     },
     "metadata": {},
     "output_type": "display_data"
    },
    {
     "name": "stdout",
     "output_type": "stream",
     "text": [
      "rhyme\n",
      "y      5529\n",
      "n       118\n",
      "y n       9\n",
      "Name: count, dtype: int64\n",
      "\n"
     ]
    },
    {
     "data": {
      "text/markdown": [
       "----"
      ],
      "text/plain": [
       "<IPython.core.display.Markdown object>"
      ]
     },
     "metadata": {},
     "output_type": "display_data"
    },
    {
     "data": {
      "text/markdown": [
       "#### Metadata"
      ],
      "text/plain": [
       "<IPython.core.display.Markdown object>"
      ]
     },
     "metadata": {},
     "output_type": "display_data"
    },
    {
     "data": {
      "text/html": [
       "<div>\n",
       "<style scoped>\n",
       "    .dataframe tbody tr th:only-of-type {\n",
       "        vertical-align: middle;\n",
       "    }\n",
       "\n",
       "    .dataframe tbody tr th {\n",
       "        vertical-align: top;\n",
       "    }\n",
       "\n",
       "    .dataframe thead th {\n",
       "        text-align: right;\n",
       "    }\n",
       "</style>\n",
       "<table border=\"1\" class=\"dataframe\">\n",
       "  <thead>\n",
       "    <tr style=\"text-align: right;\">\n",
       "      <th></th>\n",
       "      <th>id</th>\n",
       "      <th>period_meta</th>\n",
       "      <th>subcorpus</th>\n",
       "      <th>author</th>\n",
       "      <th>author_dob</th>\n",
       "      <th>title</th>\n",
       "      <th>year</th>\n",
       "      <th>num_lines</th>\n",
       "      <th>volume</th>\n",
       "      <th>line</th>\n",
       "      <th>rhyme</th>\n",
       "      <th>genre</th>\n",
       "      <th>period</th>\n",
       "      <th>txt</th>\n",
       "      <th>data_origin</th>\n",
       "    </tr>\n",
       "    <tr>\n",
       "      <th>id_hash</th>\n",
       "      <th></th>\n",
       "      <th></th>\n",
       "      <th></th>\n",
       "      <th></th>\n",
       "      <th></th>\n",
       "      <th></th>\n",
       "      <th></th>\n",
       "      <th></th>\n",
       "      <th></th>\n",
       "      <th></th>\n",
       "      <th></th>\n",
       "      <th></th>\n",
       "      <th></th>\n",
       "      <th></th>\n",
       "      <th></th>\n",
       "    </tr>\n",
       "  </thead>\n",
       "  <tbody>\n",
       "    <tr>\n",
       "      <th>11</th>\n",
       "      <td>american/am1208/Z200193522</td>\n",
       "      <td>1870-1899 Later Nineteenth-Century</td>\n",
       "      <td>American Poetry</td>\n",
       "      <td>Stoddard, Richard Henry, 1825-1903</td>\n",
       "      <td>1825.0</td>\n",
       "      <td>THE FALCON.</td>\n",
       "      <td>1855</td>\n",
       "      <td>12</td>\n",
       "      <td>Songs of summer (1857)</td>\n",
       "      <td>&amp;indent;I pine with a fancied wrong;</td>\n",
       "      <td>y</td>\n",
       "      <td>NaN</td>\n",
       "      <td>1800-1850</td>\n",
       "      <td>In-doors in a summer day, Like this,\\n    I pi...</td>\n",
       "      <td>replicated</td>\n",
       "    </tr>\n",
       "    <tr>\n",
       "      <th>16</th>\n",
       "      <td>c20-american/am20034/Z300211527</td>\n",
       "      <td>1900-1999 Twentieth-Century</td>\n",
       "      <td>American Poetry</td>\n",
       "      <td>Bensko, John, 1949-</td>\n",
       "      <td>1949.0</td>\n",
       "      <td>Troop Train</td>\n",
       "      <td>1979</td>\n",
       "      <td>34</td>\n",
       "      <td>NaN</td>\n",
       "      <td>The survivors for the front regret their wounds</td>\n",
       "      <td>NaN</td>\n",
       "      <td>NaN</td>\n",
       "      <td>1900-1950</td>\n",
       "      <td>The survivors for the front regret their wound...</td>\n",
       "      <td>replicated</td>\n",
       "    </tr>\n",
       "    <tr>\n",
       "      <th>19</th>\n",
       "      <td>c20-american/am23006/Z300250508</td>\n",
       "      <td>1900-1999 Twentieth-Century</td>\n",
       "      <td>American Poetry</td>\n",
       "      <td>Burkard, Michael, 1947-</td>\n",
       "      <td>1947.0</td>\n",
       "      <td>Zane Grey</td>\n",
       "      <td>1977</td>\n",
       "      <td>41</td>\n",
       "      <td>NaN</td>\n",
       "      <td>I have no desire to be this green wood.</td>\n",
       "      <td>NaN</td>\n",
       "      <td>NaN</td>\n",
       "      <td>1900-1950</td>\n",
       "      <td>I have no desire to be this green wood.\\nI hav...</td>\n",
       "      <td>replicated</td>\n",
       "    </tr>\n",
       "    <tr>\n",
       "      <th>23</th>\n",
       "      <td>english/davieswi/Z200335516</td>\n",
       "      <td>1835-1869 Mid Nineteenth-Century</td>\n",
       "      <td>English Poetry</td>\n",
       "      <td>Davies, William, 1830-1896</td>\n",
       "      <td>1830.0</td>\n",
       "      <td>LIPS AND ROSES.</td>\n",
       "      <td>1860</td>\n",
       "      <td>18</td>\n",
       "      <td>The Shepherd's Garden (1873)</td>\n",
       "      <td>&amp;indent;The joys with Time foregone,</td>\n",
       "      <td>y</td>\n",
       "      <td>NaN</td>\n",
       "      <td>1800-1850</td>\n",
       "      <td>Red roses of whose sweets were made\\n    The j...</td>\n",
       "      <td>replicated</td>\n",
       "    </tr>\n",
       "    <tr>\n",
       "      <th>25</th>\n",
       "      <td>english-ed2/ep2358/Z200655703</td>\n",
       "      <td>NaN</td>\n",
       "      <td>English Poetry</td>\n",
       "      <td>Wilson, Anne, Lady, 1848-1930</td>\n",
       "      <td>1848.0</td>\n",
       "      <td>PENSEES.</td>\n",
       "      <td>1878</td>\n",
       "      <td>19</td>\n",
       "      <td>Themes and Variations: by Mrs James Glenny Wil...</td>\n",
       "      <td>With wear, and fret, and toil of many hands,</td>\n",
       "      <td>y</td>\n",
       "      <td>NaN</td>\n",
       "      <td>1800-1850</td>\n",
       "      <td>Columbus, wandering by the Iberian shore,\\n   ...</td>\n",
       "      <td>replicated</td>\n",
       "    </tr>\n",
       "    <tr>\n",
       "      <th>...</th>\n",
       "      <td>...</td>\n",
       "      <td>...</td>\n",
       "      <td>...</td>\n",
       "      <td>...</td>\n",
       "      <td>...</td>\n",
       "      <td>...</td>\n",
       "      <td>...</td>\n",
       "      <td>...</td>\n",
       "      <td>...</td>\n",
       "      <td>...</td>\n",
       "      <td>...</td>\n",
       "      <td>...</td>\n",
       "      <td>...</td>\n",
       "      <td>...</td>\n",
       "      <td>...</td>\n",
       "    </tr>\n",
       "    <tr>\n",
       "      <th>133010</th>\n",
       "      <td>c20-american/am23056/Z300255204</td>\n",
       "      <td>1900-1999 Twentieth-Century</td>\n",
       "      <td>American Poetry</td>\n",
       "      <td>Howe, Marie, 1950-</td>\n",
       "      <td>1950.0</td>\n",
       "      <td>Without Music</td>\n",
       "      <td>1980</td>\n",
       "      <td>14</td>\n",
       "      <td>NaN</td>\n",
       "      <td>Only the car radio</td>\n",
       "      <td>NaN</td>\n",
       "      <td>NaN</td>\n",
       "      <td>1950-2000</td>\n",
       "      <td>Only the car radio\\ndriving from the drugstore...</td>\n",
       "      <td>replicated</td>\n",
       "    </tr>\n",
       "    <tr>\n",
       "      <th>133316</th>\n",
       "      <td>c20-english/ep32001/Z200305144</td>\n",
       "      <td>1900-1999 Twentieth-Century</td>\n",
       "      <td>English Poetry</td>\n",
       "      <td>Wilkins, Paul, 1951-</td>\n",
       "      <td>1951.0</td>\n",
       "      <td>It</td>\n",
       "      <td>1981</td>\n",
       "      <td>63</td>\n",
       "      <td>NaN</td>\n",
       "      <td>Seeing them gripped close,</td>\n",
       "      <td>NaN</td>\n",
       "      <td>NaN</td>\n",
       "      <td>1950-2000</td>\n",
       "      <td>Seeing them gripped close,\\none with a leg til...</td>\n",
       "      <td>replicated</td>\n",
       "    </tr>\n",
       "    <tr>\n",
       "      <th>133422</th>\n",
       "      <td>c20-english/armitage/Z200608786</td>\n",
       "      <td>1900-1999 Twentieth-Century</td>\n",
       "      <td>English Poetry</td>\n",
       "      <td>Armitage, Simon, 1963-</td>\n",
       "      <td>1963.0</td>\n",
       "      <td>Bylot Island</td>\n",
       "      <td>1993</td>\n",
       "      <td>48</td>\n",
       "      <td>NaN</td>\n",
       "      <td>Arrived midday and it felt like heaven. Just t...</td>\n",
       "      <td>NaN</td>\n",
       "      <td>Lyric</td>\n",
       "      <td>1950-2000</td>\n",
       "      <td>Arrived midday and it felt Like heaven. Just t...</td>\n",
       "      <td>replicated</td>\n",
       "    </tr>\n",
       "    <tr>\n",
       "      <th>133615</th>\n",
       "      <td>c20-american/am22067/Z300234813</td>\n",
       "      <td>1900-1999 Twentieth-Century</td>\n",
       "      <td>American Poetry</td>\n",
       "      <td>Shumaker, Peggy, 1952-</td>\n",
       "      <td>1952.0</td>\n",
       "      <td>Ticking</td>\n",
       "      <td>1982</td>\n",
       "      <td>32</td>\n",
       "      <td>NaN</td>\n",
       "      <td>My doctor, Clarice, says if I want</td>\n",
       "      <td>NaN</td>\n",
       "      <td>NaN</td>\n",
       "      <td>1950-2000</td>\n",
       "      <td>My doctor, Clarice, says if I want\\nto have ch...</td>\n",
       "      <td>replicated</td>\n",
       "    </tr>\n",
       "    <tr>\n",
       "      <th>133689</th>\n",
       "      <td>c20-american/am23019/Z300251734</td>\n",
       "      <td>1900-1999 Twentieth-Century</td>\n",
       "      <td>American Poetry</td>\n",
       "      <td>Espada, Martin, 1957-</td>\n",
       "      <td>1957.0</td>\n",
       "      <td>The Other Alamo</td>\n",
       "      <td>1987</td>\n",
       "      <td>64</td>\n",
       "      <td>NaN</td>\n",
       "      <td>In the Crockett Hotel dining room,</td>\n",
       "      <td>NaN</td>\n",
       "      <td>NaN</td>\n",
       "      <td>1950-2000</td>\n",
       "      <td>In the Crockett Hotel dining room,\\na chalk-fa...</td>\n",
       "      <td>replicated</td>\n",
       "    </tr>\n",
       "  </tbody>\n",
       "</table>\n",
       "<p>8000 rows × 15 columns</p>\n",
       "</div>"
      ],
      "text/plain": [
       "                                      id                         period_meta        subcorpus                              author  author_dob            title  year  num_lines  \\\n",
       "id_hash                                                                                                                                                                           \n",
       "11            american/am1208/Z200193522  1870-1899 Later Nineteenth-Century  American Poetry  Stoddard, Richard Henry, 1825-1903      1825.0      THE FALCON.  1855         12   \n",
       "16       c20-american/am20034/Z300211527         1900-1999 Twentieth-Century  American Poetry                 Bensko, John, 1949-      1949.0      Troop Train  1979         34   \n",
       "19       c20-american/am23006/Z300250508         1900-1999 Twentieth-Century  American Poetry             Burkard, Michael, 1947-      1947.0        Zane Grey  1977         41   \n",
       "23           english/davieswi/Z200335516    1835-1869 Mid Nineteenth-Century   English Poetry          Davies, William, 1830-1896      1830.0  LIPS AND ROSES.  1860         18   \n",
       "25         english-ed2/ep2358/Z200655703                                 NaN   English Poetry       Wilson, Anne, Lady, 1848-1930      1848.0         PENSEES.  1878         19   \n",
       "...                                  ...                                 ...              ...                                 ...         ...              ...   ...        ...   \n",
       "133010   c20-american/am23056/Z300255204         1900-1999 Twentieth-Century  American Poetry                  Howe, Marie, 1950-      1950.0    Without Music  1980         14   \n",
       "133316    c20-english/ep32001/Z200305144         1900-1999 Twentieth-Century   English Poetry                Wilkins, Paul, 1951-      1951.0               It  1981         63   \n",
       "133422   c20-english/armitage/Z200608786         1900-1999 Twentieth-Century   English Poetry              Armitage, Simon, 1963-      1963.0     Bylot Island  1993         48   \n",
       "133615   c20-american/am22067/Z300234813         1900-1999 Twentieth-Century  American Poetry              Shumaker, Peggy, 1952-      1952.0          Ticking  1982         32   \n",
       "133689   c20-american/am23019/Z300251734         1900-1999 Twentieth-Century  American Poetry               Espada, Martin, 1957-      1957.0  The Other Alamo  1987         64   \n",
       "\n",
       "                                                    volume                                               line rhyme  genre     period                                                txt data_origin  \n",
       "id_hash                                                                                                                                                                                               \n",
       "11                                  Songs of summer (1857)               &indent;I pine with a fancied wrong;     y    NaN  1800-1850  In-doors in a summer day, Like this,\\n    I pi...  replicated  \n",
       "16                                                     NaN    The survivors for the front regret their wounds   NaN    NaN  1900-1950  The survivors for the front regret their wound...  replicated  \n",
       "19                                                     NaN            I have no desire to be this green wood.   NaN    NaN  1900-1950  I have no desire to be this green wood.\\nI hav...  replicated  \n",
       "23                            The Shepherd's Garden (1873)               &indent;The joys with Time foregone,     y    NaN  1800-1850  Red roses of whose sweets were made\\n    The j...  replicated  \n",
       "25       Themes and Variations: by Mrs James Glenny Wil...       With wear, and fret, and toil of many hands,     y    NaN  1800-1850  Columbus, wandering by the Iberian shore,\\n   ...  replicated  \n",
       "...                                                    ...                                                ...   ...    ...        ...                                                ...         ...  \n",
       "133010                                                 NaN                                 Only the car radio   NaN    NaN  1950-2000  Only the car radio\\ndriving from the drugstore...  replicated  \n",
       "133316                                                 NaN                         Seeing them gripped close,   NaN    NaN  1950-2000  Seeing them gripped close,\\none with a leg til...  replicated  \n",
       "133422                                                 NaN  Arrived midday and it felt like heaven. Just t...   NaN  Lyric  1950-2000  Arrived midday and it felt Like heaven. Just t...  replicated  \n",
       "133615                                                 NaN                 My doctor, Clarice, says if I want   NaN    NaN  1950-2000  My doctor, Clarice, says if I want\\nto have ch...  replicated  \n",
       "133689                                                 NaN                 In the Crockett Hotel dining room,   NaN    NaN  1950-2000  In the Crockett Hotel dining room,\\na chalk-fa...  replicated  \n",
       "\n",
       "[8000 rows x 15 columns]"
      ]
     },
     "execution_count": 9,
     "metadata": {},
     "output_type": "execute_result"
    }
   ],
   "source": [
    "printm(f'### Replicating period sample')\n",
    "df_smpl_by_period_replicated = get_chadwyck_corpus_sampled_by_period_as_replicated()\n",
    "describe_corpus(df_smpl_by_period_replicated)"
   ]
  }
 ],
 "metadata": {
  "kernelspec": {
   "display_name": "venv",
   "language": "python",
   "name": "python3"
  },
  "language_info": {
   "codemirror_mode": {
    "name": "ipython",
    "version": 3
   },
   "file_extension": ".py",
   "mimetype": "text/x-python",
   "name": "python",
   "nbconvert_exporter": "python",
   "pygments_lexer": "ipython3",
   "version": "3.11.9"
  }
 },
 "nbformat": 4,
 "nbformat_minor": 4
}
