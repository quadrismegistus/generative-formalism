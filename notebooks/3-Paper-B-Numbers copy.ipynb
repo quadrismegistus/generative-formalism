{
 "cells": [
  {
   "cell_type": "code",
   "execution_count": null,
   "id": "4fb6a9f7",
   "metadata": {},
   "outputs": [],
   "source": [
    "# Code\n",
    "import sys\n",
    "sys.path.append('../')\n",
    "from generative_formalism import *"
   ]
  },
  {
   "cell_type": "code",
   "execution_count": null,
   "id": "57e8fed3",
   "metadata": {},
   "outputs": [],
   "source": [
    "data = {}"
   ]
  },
  {
   "cell_type": "code",
   "execution_count": null,
   "id": "ce4913ac",
   "metadata": {},
   "outputs": [],
   "source": [
    "# sample\n",
    "df_smpl = get_chadwyck_corpus_sampled_by('period')\n",
    "df_smpl_rhyme = get_rhyme_for_sample(df_smpl, with_sample=True)\n",
    "df_smpl_rhyme['pre_20C'] = ~df_smpl_rhyme.period.str.startswith('19')\n",
    "df_smpl_rhyme.groupby('pre_20C').rhyme_pred_perc.mean()\n",
    "pre20cdf = df_smpl_rhyme[df_smpl_rhyme.pre_20C]\n",
    "rhyme_by_period_pre20c = pre20cdf.groupby('period').rhyme_pred_perc.mean()\n",
    "rhyme_by_period = df_smpl_rhyme.groupby('period').rhyme_pred_perc.mean()\n",
    "data['MIN_RHYME_PRED_PERC_PRE_20C'] = int(round(rhyme_by_period_pre20c.min()))\n",
    "data['MAX_RHYME_PRED_PERC_PRE_20C'] = int(round(rhyme_by_period_pre20c.max()))\n",
    "data['C19l_RHYME_PRED_PERC'] = int(round(rhyme_by_period['1850-1900']))\n",
    "data['C20e_RHYME_PRED_PERC'] = int(round(rhyme_by_period['1900-1950']))\n",
    "data['C20l_RHYME_PRED_PERC'] = int(round(rhyme_by_period['1950-2000']))\n",
    "data"
   ]
  },
  {
   "cell_type": "code",
   "execution_count": null,
   "id": "343f7bc1",
   "metadata": {},
   "outputs": [],
   "source": [
    "# Number of prompted poems in total\n",
    "df = get_genai_rhyme_promptings()\n",
    "data['NUM_PROMPTED_POEMS'] = len(df)\n",
    "df_rhyme = get_rhyme_for_sample(df, with_sample=True)\n",
    "df_rhyme['model2'] = df_rhyme.model.apply(rename_model)\n",
    "df_rhyme['prompt_type2'] = df_rhyme.prompt_type!='do_NOT_rhyme'\n",
    "df_rhyme.groupby('prompt_type2').rhyme_pred_perc.mean()\n",
    "data['AVG_RHYME_PRED_PERC_NOT_DO_NOT_RHYME'] = int(round(df_rhyme.groupby('prompt_type2').rhyme_pred_perc.mean()[True]))\n",
    "data['AVG_RHYME_PRED_PERC_DO_NOT_RHYME'] = int(round(df_rhyme.groupby('prompt_type2').rhyme_pred_perc.mean()[False]))\n",
    "\n",
    "maybe_rhyme = df_rhyme[df_rhyme.prompt_type=='MAYBE_rhyme']\n",
    "data['MIN_RHYME_PRED_PERC_MAYBE_RHYME'] = int(round(maybe_rhyme.groupby('model2').rhyme_pred_perc.mean().min()))\n",
    "data['MAX_RHYME_PRED_PERC_MAYBE_RHYME'] = int(round(maybe_rhyme.groupby('model2').rhyme_pred_perc.mean().max()))\n",
    "\n",
    "no_rhyme = df_rhyme[df_rhyme.prompt_type=='do_NOT_rhyme']\n",
    "no_rhyme_model = no_rhyme.groupby('model2').rhyme_pred_perc.mean()\n",
    "\n",
    "data['NO_RHYME_GEMINI_PRED_PERC'] = int(round(no_rhyme_model['Gemini']))\n",
    "data['NO_RHYME_CLAUDE_PRED_PERC'] = int(round(no_rhyme_model['Claude']))\n",
    "data['NO_RHYME_CHATGPT_PRED_PERC'] = int(round(no_rhyme_model['ChatGPT']))\n",
    "data['NO_RHYME_LLAMA_PRED_PERC'] = int(round(no_rhyme_model['Llama']))\n",
    "data['NO_RHYME_DEEPSEEK_PRED_PERC'] = int(round(no_rhyme_model['DeepSeek']))\n",
    "data['NO_RHYME_OLMO_PRED_PERC'] = int(round(no_rhyme_model['Olmo']))\n",
    "\n",
    "\n",
    "data"
   ]
  },
  {
   "cell_type": "code",
   "execution_count": null,
   "id": "e9398275",
   "metadata": {},
   "outputs": [],
   "source": [
    "maybe_rhyme"
   ]
  },
  {
   "cell_type": "code",
   "execution_count": null,
   "id": "09d78c41",
   "metadata": {},
   "outputs": [],
   "source": []
  },
  {
   "cell_type": "code",
   "execution_count": null,
   "id": "cdfbdba5",
   "metadata": {},
   "outputs": [],
   "source": [
    "df.prompt_type.value_counts()"
   ]
  },
  {
   "cell_type": "code",
   "execution_count": null,
   "id": "3f725778",
   "metadata": {},
   "outputs": [],
   "source": [
    "# Number of completed poems\n",
    "df = get_genai_rhyme_completions(by_line=False)\n",
    "df['model2'] = df.model.map(rename_model)\n",
    "df=df[df.model2!='']\n",
    "len(df), df.id_human.nunique()\n",
    "\n",
    "data['NUM_COMPLETED_POEMS'] = len(df)\n",
    "data['NUM_COMPLETED_POEMS_UNIQUE'] = df.id_human.nunique()\n",
    "ps=df.groupby('period').id_human.nunique().sort_values()\n",
    "data['MIN_NUM_COMPLETIONS'] = int(ps.min())\n",
    "data['MIN_NUM_COMPLETIONS_PERIOD'] = ps.idxmin().replace('-','--')\n",
    "data['MAX_NUM_COMPLETIONS'] = int(ps.max())\n",
    "data['MAX_NUM_COMPLETIONS_PERIOD'] = ps.idxmax().replace('-','--')\n",
    "\n",
    "ps=df.groupby('model').id_human.nunique().sort_values()\n",
    "data['MIN_NUM_COMPLETIONS_MODEL'] = int(ps.min())\n",
    "data['MIN_NUM_COMPLETIONS_MODEL_NAME'] = rename_model(ps.idxmin())\n",
    "data['MAX_NUM_COMPLETIONS_MODEL'] = int(ps.max())\n",
    "data['MAX_NUM_COMPLETIONS_MODEL_NAME'] = rename_model(ps.idxmax())\n",
    "data['MEDIAN_NUM_COMPLETIONS_MODEL'] = int(ps.median())\n",
    "\n",
    "df['model_period'] = df.model.map(rename_model) + ' in ' + df.period\n",
    "ps = df.groupby(['model_period']).id_human.nunique().sort_values()\n",
    "data['MIN_NUM_COMPLETIONS_MODEL_PERIOD'] = int(ps.min())\n",
    "data['MIN_NUM_COMPLETIONS_MODEL_PERIOD_NAME'] = ps.idxmin().replace('-','--')\n",
    "data['MAX_NUM_COMPLETIONS_MODEL_PERIOD'] = int(ps.max())\n",
    "data['MAX_NUM_COMPLETIONS_MODEL_PERIOD_NAME'] = ps.idxmax().replace('-','--')\n",
    "data['MEDIAN_NUM_COMPLETIONS_MODEL_PERIOD'] = int(ps.median())"
   ]
  },
  {
   "cell_type": "code",
   "execution_count": null,
   "id": "177d31e7",
   "metadata": {},
   "outputs": [],
   "source": []
  },
  {
   "cell_type": "code",
   "execution_count": null,
   "id": "5e6d2217",
   "metadata": {},
   "outputs": [],
   "source": [
    "df = get_rhyme_for_genai_human_completions()"
   ]
  },
  {
   "cell_type": "code",
   "execution_count": null,
   "id": "f8a5ec0d",
   "metadata": {},
   "outputs": [],
   "source": [
    "df_c20l = df[df['period']=='1950-2000']"
   ]
  },
  {
   "cell_type": "code",
   "execution_count": null,
   "id": "24f74526",
   "metadata": {},
   "outputs": [],
   "source": [
    "df_c20l['model2'] = df_c20l.model.apply(rename_model)\n",
    "df_c20l = df_c20l[df_c20l.model2!='']\n",
    "df_c20l['model2'].value_counts()"
   ]
  },
  {
   "cell_type": "code",
   "execution_count": null,
   "id": "9b50d53c",
   "metadata": {},
   "outputs": [],
   "source": [
    "pd.set_option('display.max_rows', None)\n",
    "df_stat = compute_stat_signif(df_c20l, 'model2', 'rhyme_pred_perc').set_index('comparison')\n",
    "df_stat = df_stat.loc[[x for x in df_stat.index if 'Historical' in x]]\n",
    "df_stat"
   ]
  },
  {
   "cell_type": "code",
   "execution_count": null,
   "id": "eca0d1e3",
   "metadata": {},
   "outputs": [],
   "source": []
  },
  {
   "cell_type": "code",
   "execution_count": null,
   "id": "4d2c8e4f",
   "metadata": {},
   "outputs": [],
   "source": [
    "data['CLAUDE_COMPLETION_C20L_EFFECT_SIZE'] = float(round(df_stat.loc['Claude vs (Historical)']['effect_size'], 2))\n",
    "data['LLAMA_COMPLETION_C20L_EFFECT_SIZE'] = float(round(df_stat.loc['Llama vs (Historical)']['effect_size'], 2))\n",
    "data['OLMO_COMPLETION_C20L_EFFECT_SIZE'] = float(round(df_stat.loc['Olmo vs (Historical)']['effect_size'], 2))\n",
    "data['CHATGPT_COMPLETION_C20L_EFFECT_SIZE'] = float(round(df_stat.loc['ChatGPT vs (Historical)']['effect_size'], 2))\n",
    "data['DEEPSEEK_COMPLETION_C20L_EFFECT_SIZE'] = float(round(df_stat.loc['DeepSeek vs (Historical)']['effect_size'], 2))\n",
    "data"
   ]
  },
  {
   "cell_type": "code",
   "execution_count": null,
   "id": "e314834b",
   "metadata": {},
   "outputs": [],
   "source": [
    "df=get_rhyme_for_sample(get_all_memorization_data(), with_sample=True)\n",
    "data['NUM_WIMBDB'] = len(df[df.found_source_corpus=='open|chadwyck'])\n",
    "# compute_stat_signif(df, 'found_source_corpus')\n"
   ]
  },
  {
   "cell_type": "code",
   "execution_count": null,
   "id": "fd25264a",
   "metadata": {},
   "outputs": [],
   "source": [
    "df_rhythm = get_sonnet_rhythm_data(\n",
    "    sample_by='sonnet_period',\n",
    "    as_in_paper=True,\n",
    "    as_replicated=False,\n",
    "    force=False,\n",
    "    verbose=True,\n",
    ")\n",
    "df = get_rhythm_data_by_syll(df_rhythm)\n",
    "df"
   ]
  },
  {
   "cell_type": "code",
   "execution_count": null,
   "id": "5c8a57bf",
   "metadata": {},
   "outputs": [],
   "source": [
    "df"
   ]
  },
  {
   "cell_type": "code",
   "execution_count": null,
   "id": "f38f59f9",
   "metadata": {},
   "outputs": [],
   "source": []
  },
  {
   "cell_type": "code",
   "execution_count": null,
   "id": "720aa426",
   "metadata": {},
   "outputs": [],
   "source": [
    "with open('result_values.json', 'w') as f:\n",
    "    json.dump(data, f, indent=4)"
   ]
  },
  {
   "cell_type": "code",
   "execution_count": null,
   "id": "c56dbc87",
   "metadata": {},
   "outputs": [],
   "source": []
  }
 ],
 "metadata": {
  "kernelspec": {
   "display_name": "Python 3 (ipykernel)",
   "language": "python",
   "name": "python3"
  },
  "language_info": {
   "codemirror_mode": {
    "name": "ipython",
    "version": 3
   },
   "file_extension": ".py",
   "mimetype": "text/x-python",
   "name": "python",
   "nbconvert_exporter": "python",
   "pygments_lexer": "ipython3",
   "version": "3.11.7"
  }
 },
 "nbformat": 4,
 "nbformat_minor": 5
}
