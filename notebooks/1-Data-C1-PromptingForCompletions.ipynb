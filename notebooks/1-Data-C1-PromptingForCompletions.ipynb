{
 "cells": [
  {
   "cell_type": "markdown",
   "metadata": {},
   "source": [
    "# Prompting for completions of poems"
   ]
  },
  {
   "cell_type": "code",
   "execution_count": 1,
   "metadata": {
    "execution": {
     "iopub.execute_input": "2025-09-15T21:51:23.163772Z",
     "iopub.status.busy": "2025-09-15T21:51:23.163651Z",
     "iopub.status.idle": "2025-09-15T21:51:24.960470Z",
     "shell.execute_reply": "2025-09-15T21:51:24.960144Z"
    }
   },
   "outputs": [],
   "source": [
    "import sys\n",
    "sys.path.append('../')\n",
    "from generative_formalism import *"
   ]
  },
  {
   "cell_type": "code",
   "execution_count": 2,
   "metadata": {
    "execution": {
     "iopub.execute_input": "2025-09-15T21:51:24.962111Z",
     "iopub.status.busy": "2025-09-15T21:51:24.961948Z",
     "iopub.status.idle": "2025-09-15T21:51:24.964437Z",
     "shell.execute_reply": "2025-09-15T21:51:24.964212Z"
    }
   },
   "outputs": [],
   "source": [
    "poem1=\"\"\"\n",
    "And if I have a soul my soul is green\n",
    "And if it sings it doesn't sing to me\n",
    "And if it loves it loves externally\n",
    "Both what it has and what it hasn't seen\n",
    "\n",
    "And if it's green it may as well be high\n",
    "And if ambition doesn't give it height\n",
    "And if it only rises with a fight\n",
    "Against itself and not against the sky\n",
    "\n",
    "If all the force it uses leaves me free\n",
    "This proves it not just definite but right\n",
    "\"\"\"\n",
    "\n",
    "poem2=\"\"\"\n",
    "When most I wink, then do mine eyes best see,\n",
    "For all the day they view things unrespected;\n",
    "But when I sleep, in dreams they look on thee,\n",
    "And darkly bright are bright in dark directed.\n",
    "Then thou, whose shadow shadows doth make bright,\n",
    "How would thy shadow's form form happy show\n",
    "To the clear day with thy much clearer light,\n",
    "When to unseeing eyes thy shade shines so!\n",
    "How would, I say, mine eyes be blessed made\n",
    "By looking on thee in the living day,\n",
    "When in dead night thy fair imperfect shade\n",
    "Through heavy sleep on sightless eyes doth stay!\n",
    "All days are nights to see till I see thee,\n",
    "And nights bright days when dreams do show thee me.\n",
    "\"\"\"\n",
    "\n",
    "poem3=\"\"\"\n",
    "While the water tower squats Like a Turkish bird\n",
    "on the ridge and smiles more nicely the other way in green\n",
    "and bougainvillaea to where the warmest houses face north,\n",
    "\n",
    "the dead well-to-do are ignored and grumble in the plumbing.\n",
    "This could be a local myth. There could be many.\n",
    "Stark living rooms made to be seen into\n",
    "\n",
    "stare at each other often across the streets and say secrets.\n",
    "No brass and marble now. But it's more humbling\n",
    "buying groceries on a teak floor and more Like us\n",
    "\n",
    "to prefer the peopled ruin. I see the gaping fanlight\n",
    "in the hallway behind a fruit-stall on the stoep\n",
    "after rugby and now when it's dry and the roads turn back\n",
    "\n",
    "to gravel into driveways, dust rises and sweet william and anthracite\n",
    "are there. There is a real side, where, when you never stopped before,\n",
    "you hear whispering on corners only you understand.\n",
    "\"\"\"\n",
    "\n",
    "# print(get_first_n_lines(poem, None))\n",
    "\n",
    "txt = poem3"
   ]
  },
  {
   "cell_type": "code",
   "execution_count": 3,
   "metadata": {
    "execution": {
     "iopub.execute_input": "2025-09-15T21:51:24.965621Z",
     "iopub.status.busy": "2025-09-15T21:51:24.965523Z",
     "iopub.status.idle": "2025-09-15T21:51:24.969008Z",
     "shell.execute_reply": "2025-09-15T21:51:24.968689Z"
    }
   },
   "outputs": [
    {
     "data": {
      "text/markdown": [
       "#### System prompt\n",
       "\n",
       "```md\n",
       "The following is the first 5 lines from a poem given in the user prompt, whose true number of lines is stated there.\n",
       "\n",
       "Complete the poem – do this from memory if you know it; if not, imitate its style and theme for the same number of lines as in the original.\n",
       "\n",
       "Return lines in tab-separated form, starting from line 6 up to the stated number of lines:\n",
       "\n",
       "    line#\tline\n",
       "\n",
       "Do not return any other text besides these tab-separated lines.\n",
       "```\n",
       "\n",
       "----\n",
       "\n",
       "#### User prompt\n",
       "\n",
       "```md\n",
       "NUMBER OF LINES: 15\n",
       "\n",
       "1\tWhile the water tower squats Like a Turkish bird\n",
       "2\ton the ridge and smiles more nicely the other way in green\n",
       "3\tand bougainvillaea to where the warmest houses face north,\n",
       "\n",
       "4\tthe dead well-to-do are ignored and grumble in the plumbing.\n",
       "5\tThis could be a local myth. There could be many.\n",
       "```"
      ],
      "text/plain": [
       "<IPython.core.display.Markdown object>"
      ]
     },
     "metadata": {},
     "output_type": "display_data"
    }
   ],
   "source": [
    "first_n_lines = FIRST_N_LINES\n",
    "\n",
    "system_prompt = get_rhyme_completion_system_prompt(first_n_lines=first_n_lines)\n",
    "user_prompt = get_rhyme_completion_user_prompt(txt, first_n_lines=first_n_lines)\n",
    "printm(f'#### System prompt\\n\\n```md\\n{system_prompt}\\n```\\n\\n----\\n\\n#### User prompt\\n\\n```md\\n{user_prompt}\\n```')"
   ]
  },
  {
   "cell_type": "code",
   "execution_count": 4,
   "metadata": {
    "execution": {
     "iopub.execute_input": "2025-09-15T21:51:24.988309Z",
     "iopub.status.busy": "2025-09-15T21:51:24.988174Z",
     "iopub.status.idle": "2025-09-15T21:51:24.990406Z",
     "shell.execute_reply": "2025-09-15T21:51:24.990176Z"
    }
   },
   "outputs": [
    {
     "data": {
      "text/markdown": [
       "##### `complete_poem`\n",
       "\n",
       "```md\n",
       "Complete a poem using language models with streaming interface.\n",
       "\n",
       "    This function takes the first N lines of a poem and generates the remaining lines\n",
       "    using the specified language model. It uses the streaming LLM interface from llms.py\n",
       "    for efficient text generation with caching support.\n",
       "\n",
       "    Args:\n",
       "        txt (str): The complete original poem text to use as input\n",
       "        first_n_lines (int, optional): Number of initial lines to provide as context.\n",
       "            Defaults to 5.\n",
       "        force (bool, optional): Whether to bypass cache and force new generation.\n",
       "            Defaults to False.\n",
       "        model (str, optional): The model identifier to use for generation.\n",
       "            Defaults to 'deepseek/deepseek-chat'.\n",
       "        verbose (bool, optional): Whether to print verbose output during generation.\n",
       "            Defaults to False.\n",
       "        use_system_prompt (bool, optional): Whether to use a system prompt for the model.\n",
       "            Automatically disabled for text-only models. Defaults to True.\n",
       "        say_poem (bool, optional): Whether to instruct the model to generate a \"poem\"\n",
       "            vs generic \"text\". Affects system prompt. Defaults to True.\n",
       "        temperature (float, optional): Sampling temperature for text generation (0.0-1.0).\n",
       "            Defaults to DEFAULT_TEMPERATURE.\n",
       "        stash (BaseHashStash, optional): Cache storage backend for results.\n",
       "            Defaults to STASH_GENAI if None.\n",
       "        **meta: Additional metadata to include in the user prompt (e.g., AUTHOR, TITLE).\n",
       "\n",
       "    Returns:\n",
       "        pd.DataFrame: DataFrame containing line-by-line completion data with columns:\n",
       "            - stanza_num: Stanza number\n",
       "            - line_num: Line number within the poem\n",
       "            - line_real: Original line from input poem\n",
       "            - line_gen: Generated line from the model\n",
       "            Returns empty DataFrame if generation fails or line count mismatch occurs.\n",
       "\n",
       "    Note:\n",
       "        The function expects the model to return lines in tab-separated format:\n",
       "        \"line_number\tline_text\". If the generated response doesn't match the\n",
       "        expected number of lines, an empty DataFrame is returned.\n",
       "    \n",
       "```\n",
       "----\n",
       "\n",
       "\n",
       "*Call signature*\n",
       "\n",
       "```md\n",
       "complete_poem(\n",
       "    txt\n",
       "    first_n_lines=5\n",
       "    force=False\n",
       "    model='deepseek/deepseek-chat'\n",
       "    verbose=True\n",
       "    use_system_prompt=True\n",
       "    say_poem=True\n",
       "    temperature=0.7\n",
       "    stash=LMDBHashStash(~/github/generative-formalism/data/stash/genai_rhyme_completions/lmdb.hashstash.lz4+b64/data.db)\n",
       "    meta\n",
       ")\n",
       "```"
      ],
      "text/plain": [
       "<IPython.core.display.Markdown object>"
      ]
     },
     "metadata": {},
     "output_type": "display_data"
    }
   ],
   "source": [
    "documentation(complete_poem, signature=True)"
   ]
  },
  {
   "cell_type": "code",
   "execution_count": 5,
   "metadata": {
    "execution": {
     "iopub.execute_input": "2025-09-15T21:51:24.991568Z",
     "iopub.status.busy": "2025-09-15T21:51:24.991475Z",
     "iopub.status.idle": "2025-09-15T21:51:26.479878Z",
     "shell.execute_reply": "2025-09-15T21:51:26.479634Z"
    }
   },
   "outputs": [
    {
     "name": "stdout",
     "output_type": "stream",
     "text": [
      "* Generating text\n",
      "  * model: claude-3-haiku-20240307\n",
      "  * prompt: NUMBER OF LINES: 15  1\tWhile the water tower squats Like a Turkish bird 2\ton the ridge and smiles mo\n",
      "  * temperature: 0.7\n",
      "  * system_prompt: The following is the first 5 lines from a poem given in the user prompt, whose true number of lines \n",
      "  * force: True\n",
      "  * stash: LMDBHashStash(~/github/generative-formalism/data/stash/genai_rhyme_completions/lmdb.hashstash.lz4+b64/data.db)\n",
      "  * from_cache: False\n",
      "\n"
     ]
    },
    {
     "name": "stdout",
     "output_type": "stream",
     "text": [
      "6"
     ]
    },
    {
     "name": "stdout",
     "output_type": "stream",
     "text": [
      "\t"
     ]
    },
    {
     "name": "stdout",
     "output_type": "stream",
     "text": [
      "The"
     ]
    },
    {
     "name": "stdout",
     "output_type": "stream",
     "text": [
      " stories"
     ]
    },
    {
     "name": "stdout",
     "output_type": "stream",
     "text": [
      " whis"
     ]
    },
    {
     "name": "stdout",
     "output_type": "stream",
     "text": [
      "pere"
     ]
    },
    {
     "name": "stdout",
     "output_type": "stream",
     "text": [
      "d in the night"
     ]
    },
    {
     "name": "stdout",
     "output_type": "stream",
     "text": [
      ","
     ]
    },
    {
     "name": "stdout",
     "output_type": "stream",
     "text": [
      " ech"
     ]
    },
    {
     "name": "stdout",
     "output_type": "stream",
     "text": [
      "oing through"
     ]
    },
    {
     "name": "stdout",
     "output_type": "stream",
     "text": [
      " the streets"
     ]
    },
    {
     "name": "stdout",
     "output_type": "stream",
     "text": [
      ",\n",
      "7\t"
     ]
    },
    {
     "name": "stdout",
     "output_type": "stream",
     "text": [
      "We"
     ]
    },
    {
     "name": "stdout",
     "output_type": "stream",
     "text": [
      "aving tales of secrets"
     ]
    },
    {
     "name": "stdout",
     "output_type": "stream",
     "text": [
      " kept, hidden"
     ]
    },
    {
     "name": "stdout",
     "output_type": "stream",
     "text": [
      " from"
     ]
    },
    {
     "name": "stdout",
     "output_type": "stream",
     "text": [
      " the light"
     ]
    },
    {
     "name": "stdout",
     "output_type": "stream",
     "text": [
      ".\n",
      "8\t"
     ]
    },
    {
     "name": "stdout",
     "output_type": "stream",
     "text": [
      "The"
     ]
    },
    {
     "name": "stdout",
     "output_type": "stream",
     "text": [
      " old oak"
     ]
    },
    {
     "name": "stdout",
     "output_type": "stream",
     "text": [
      " tree, its"
     ]
    },
    {
     "name": "stdout",
     "output_type": "stream",
     "text": [
      " branches reaching high"
     ]
    },
    {
     "name": "stdout",
     "output_type": "stream",
     "text": [
      ","
     ]
    },
    {
     "name": "stdout",
     "output_type": "stream",
     "text": [
      "\n",
      "9\t"
     ]
    },
    {
     "name": "stdout",
     "output_type": "stream",
     "text": [
      "Holds memories"
     ]
    },
    {
     "name": "stdout",
     "output_type": "stream",
     "text": [
      " of"
     ]
    },
    {
     "name": "stdout",
     "output_type": "stream",
     "text": [
      " times"
     ]
    },
    {
     "name": "stdout",
     "output_type": "stream",
     "text": [
      " long"
     ]
    },
    {
     "name": "stdout",
     "output_type": "stream",
     "text": [
      " gone,"
     ]
    },
    {
     "name": "stdout",
     "output_type": "stream",
     "text": [
      " a"
     ]
    },
    {
     "name": "stdout",
     "output_type": "stream",
     "text": [
      " silent"
     ]
    },
    {
     "name": "stdout",
     "output_type": "stream",
     "text": [
      " witness to the lie"
     ]
    },
    {
     "name": "stdout",
     "output_type": "stream",
     "text": [
      "."
     ]
    },
    {
     "name": "stdout",
     "output_type": "stream",
     "text": [
      "\n",
      "10\tThe"
     ]
    },
    {
     "name": "stdout",
     "output_type": "stream",
     "text": [
      " sun"
     ]
    },
    {
     "name": "stdout",
     "output_type": "stream",
     "text": [
      " sets, casting"
     ]
    },
    {
     "name": "stdout",
     "output_type": "stream",
     "text": [
      " shadows"
     ]
    },
    {
     "name": "stdout",
     "output_type": "stream",
     "text": [
      " on the cob"
     ]
    },
    {
     "name": "stdout",
     "output_type": "stream",
     "text": [
      "blestone ways"
     ]
    },
    {
     "name": "stdout",
     "output_type": "stream",
     "text": [
      ",\n",
      "11\t"
     ]
    },
    {
     "name": "stdout",
     "output_type": "stream",
     "text": [
      "Revealing"
     ]
    },
    {
     "name": "stdout",
     "output_type": "stream",
     "text": [
      " the hidden"
     ]
    },
    {
     "name": "stdout",
     "output_type": "stream",
     "text": [
      " tru"
     ]
    },
    {
     "name": "stdout",
     "output_type": "stream",
     "text": [
      "ths that"
     ]
    },
    {
     "name": "stdout",
     "output_type": "stream",
     "text": [
      " ha"
     ]
    },
    {
     "name": "stdout",
     "output_type": "stream",
     "text": [
      "unt these"
     ]
    },
    {
     "name": "stdout",
     "output_type": "stream",
     "text": [
      " quiet"
     ]
    },
    {
     "name": "stdout",
     "output_type": "stream",
     "text": [
      " days."
     ]
    },
    {
     "name": "stdout",
     "output_type": "stream",
     "text": [
      "\n",
      "12\t"
     ]
    },
    {
     "name": "stdout",
     "output_type": "stream",
     "text": [
      "Beneath the surface,"
     ]
    },
    {
     "name": "stdout",
     "output_type": "stream",
     "text": [
      " a tap"
     ]
    },
    {
     "name": "stdout",
     "output_type": "stream",
     "text": [
      "estry of lives"
     ]
    },
    {
     "name": "stdout",
     "output_type": "stream",
     "text": [
      " en"
     ]
    },
    {
     "name": "stdout",
     "output_type": "stream",
     "text": [
      "twined,"
     ]
    },
    {
     "name": "stdout",
     "output_type": "stream",
     "text": [
      "\n",
      "13\tEach"
     ]
    },
    {
     "name": "stdout",
     "output_type": "stream",
     "text": [
      " threa"
     ]
    },
    {
     "name": "stdout",
     "output_type": "stream",
     "text": [
      "d a story waiting"
     ]
    },
    {
     "name": "stdout",
     "output_type": "stream",
     "text": [
      " to be define"
     ]
    },
    {
     "name": "stdout",
     "output_type": "stream",
     "text": [
      "d."
     ]
    },
    {
     "name": "stdout",
     "output_type": "stream",
     "text": [
      "\n",
      "14\tIn"
     ]
    },
    {
     "name": "stdout",
     "output_type": "stream",
     "text": [
      " this"
     ]
    },
    {
     "name": "stdout",
     "output_type": "stream",
     "text": [
      " place"
     ]
    },
    {
     "name": "stdout",
     "output_type": "stream",
     "text": [
      ", where the"
     ]
    },
    {
     "name": "stdout",
     "output_type": "stream",
     "text": [
      " past and present coll"
     ]
    },
    {
     "name": "stdout",
     "output_type": "stream",
     "text": [
      "ide,\n",
      "15"
     ]
    },
    {
     "name": "stdout",
     "output_type": "stream",
     "text": [
      "\tThe"
     ]
    },
    {
     "name": "stdout",
     "output_type": "stream",
     "text": [
      " true"
     ]
    },
    {
     "name": "stdout",
     "output_type": "stream",
     "text": [
      " nature"
     ]
    },
    {
     "name": "stdout",
     "output_type": "stream",
     "text": [
      " of the town"
     ]
    },
    {
     "name": "stdout",
     "output_type": "stream",
     "text": [
      " can"
     ]
    },
    {
     "name": "stdout",
     "output_type": "stream",
     "text": [
      " no"
     ]
    },
    {
     "name": "stdout",
     "output_type": "stream",
     "text": [
      " longer hide."
     ]
    },
    {
     "data": {
      "text/html": [
       "<div>\n",
       "<style scoped>\n",
       "    .dataframe tbody tr th:only-of-type {\n",
       "        vertical-align: middle;\n",
       "    }\n",
       "\n",
       "    .dataframe tbody tr th {\n",
       "        vertical-align: top;\n",
       "    }\n",
       "\n",
       "    .dataframe thead th {\n",
       "        text-align: right;\n",
       "    }\n",
       "</style>\n",
       "<table border=\"1\" class=\"dataframe\">\n",
       "  <thead>\n",
       "    <tr style=\"text-align: right;\">\n",
       "      <th></th>\n",
       "      <th></th>\n",
       "      <th></th>\n",
       "      <th>line_real</th>\n",
       "      <th>line_gen</th>\n",
       "      <th>line_sim</th>\n",
       "    </tr>\n",
       "    <tr>\n",
       "      <th>id</th>\n",
       "      <th>stanza_num</th>\n",
       "      <th>line_num</th>\n",
       "      <th></th>\n",
       "      <th></th>\n",
       "      <th></th>\n",
       "    </tr>\n",
       "  </thead>\n",
       "  <tbody>\n",
       "    <tr>\n",
       "      <th rowspan=\"15\" valign=\"top\">dab1fa95</th>\n",
       "      <th rowspan=\"3\" valign=\"top\">1</th>\n",
       "      <th>1</th>\n",
       "      <td>While the water tower squats Like a Turkish bird</td>\n",
       "      <td></td>\n",
       "      <td></td>\n",
       "    </tr>\n",
       "    <tr>\n",
       "      <th>2</th>\n",
       "      <td>on the ridge and smiles more nicely the other ...</td>\n",
       "      <td></td>\n",
       "      <td></td>\n",
       "    </tr>\n",
       "    <tr>\n",
       "      <th>3</th>\n",
       "      <td>and bougainvillaea to where the warmest houses...</td>\n",
       "      <td></td>\n",
       "      <td></td>\n",
       "    </tr>\n",
       "    <tr>\n",
       "      <th rowspan=\"3\" valign=\"top\">2</th>\n",
       "      <th>4</th>\n",
       "      <td>the dead well-to-do are ignored and grumble in...</td>\n",
       "      <td></td>\n",
       "      <td></td>\n",
       "    </tr>\n",
       "    <tr>\n",
       "      <th>5</th>\n",
       "      <td>This could be a local myth. There could be many.</td>\n",
       "      <td></td>\n",
       "      <td></td>\n",
       "    </tr>\n",
       "    <tr>\n",
       "      <th>6</th>\n",
       "      <td>Stark living rooms made to be seen into</td>\n",
       "      <td>The stories whispered in the night, echoing th...</td>\n",
       "      <td>36.893204</td>\n",
       "    </tr>\n",
       "    <tr>\n",
       "      <th rowspan=\"3\" valign=\"top\">3</th>\n",
       "      <th>7</th>\n",
       "      <td>stare at each other often across the streets a...</td>\n",
       "      <td>Weaving tales of secrets kept, hidden from the...</td>\n",
       "      <td>38.596491</td>\n",
       "    </tr>\n",
       "    <tr>\n",
       "      <th>8</th>\n",
       "      <td>No brass and marble now. But it's more humbling</td>\n",
       "      <td>The old oak tree, its branches reaching high,</td>\n",
       "      <td>39.130435</td>\n",
       "    </tr>\n",
       "    <tr>\n",
       "      <th>9</th>\n",
       "      <td>buying groceries on a teak floor and more Like us</td>\n",
       "      <td>Holds memories of times long gone, a silent wi...</td>\n",
       "      <td>42.857143</td>\n",
       "    </tr>\n",
       "    <tr>\n",
       "      <th rowspan=\"3\" valign=\"top\">4</th>\n",
       "      <th>10</th>\n",
       "      <td>to prefer the peopled ruin. I see the gaping f...</td>\n",
       "      <td>The sun sets, casting shadows on the cobblesto...</td>\n",
       "      <td>35.514019</td>\n",
       "    </tr>\n",
       "    <tr>\n",
       "      <th>11</th>\n",
       "      <td>in the hallway behind a fruit-stall on the stoep</td>\n",
       "      <td>Revealing the hidden truths that haunt these q...</td>\n",
       "      <td>48.076923</td>\n",
       "    </tr>\n",
       "    <tr>\n",
       "      <th>12</th>\n",
       "      <td>after rugby and now when it's dry and the road...</td>\n",
       "      <td>Beneath the surface, a tapestry of lives entwi...</td>\n",
       "      <td>35.514019</td>\n",
       "    </tr>\n",
       "    <tr>\n",
       "      <th rowspan=\"3\" valign=\"top\">5</th>\n",
       "      <th>13</th>\n",
       "      <td>to gravel into driveways, dust rises and sweet...</td>\n",
       "      <td>Each thread a story waiting to be defined.</td>\n",
       "      <td>37.837838</td>\n",
       "    </tr>\n",
       "    <tr>\n",
       "      <th>14</th>\n",
       "      <td>are there. There is a real side, where, when y...</td>\n",
       "      <td>In this place, where the past and present coll...</td>\n",
       "      <td>46.666667</td>\n",
       "    </tr>\n",
       "    <tr>\n",
       "      <th>15</th>\n",
       "      <td>you hear whispering on corners only you unders...</td>\n",
       "      <td>The true nature of the town can no longer hide.</td>\n",
       "      <td>44.897959</td>\n",
       "    </tr>\n",
       "  </tbody>\n",
       "</table>\n",
       "</div>"
      ],
      "text/plain": [
       "                                                                      line_real                                           line_gen   line_sim\n",
       "id       stanza_num line_num                                                                                                                 \n",
       "dab1fa95 1          1          While the water tower squats Like a Turkish bird                                                              \n",
       "                    2         on the ridge and smiles more nicely the other ...                                                              \n",
       "                    3         and bougainvillaea to where the warmest houses...                                                              \n",
       "         2          4         the dead well-to-do are ignored and grumble in...                                                              \n",
       "                    5          This could be a local myth. There could be many.                                                              \n",
       "                    6                   Stark living rooms made to be seen into  The stories whispered in the night, echoing th...  36.893204\n",
       "         3          7         stare at each other often across the streets a...  Weaving tales of secrets kept, hidden from the...  38.596491\n",
       "                    8           No brass and marble now. But it's more humbling      The old oak tree, its branches reaching high,  39.130435\n",
       "                    9         buying groceries on a teak floor and more Like us  Holds memories of times long gone, a silent wi...  42.857143\n",
       "         4          10        to prefer the peopled ruin. I see the gaping f...  The sun sets, casting shadows on the cobblesto...  35.514019\n",
       "                    11         in the hallway behind a fruit-stall on the stoep  Revealing the hidden truths that haunt these q...  48.076923\n",
       "                    12        after rugby and now when it's dry and the road...  Beneath the surface, a tapestry of lives entwi...  35.514019\n",
       "         5          13        to gravel into driveways, dust rises and sweet...         Each thread a story waiting to be defined.  37.837838\n",
       "                    14        are there. There is a real side, where, when y...  In this place, where the past and present coll...  46.666667\n",
       "                    15        you hear whispering on corners only you unders...    The true nature of the town can no longer hide.  44.897959"
      ]
     },
     "execution_count": 5,
     "metadata": {},
     "output_type": "execute_result"
    }
   ],
   "source": [
    "complete_poem(\n",
    "    txt,\n",
    "    first_n_lines=first_n_lines,\n",
    "    force=REPLICATE_OVERWRITE,\n",
    "    model=DEMO_MODEL,\n",
    "    verbose=DEFAULT_VERBOSE,\n",
    "    temperature=DEFAULT_TEMPERATURE,\n",
    "    stash=STASH_GENAI_RHYME_COMPLETIONS,\n",
    ")"
   ]
  },
  {
   "cell_type": "code",
   "execution_count": 6,
   "metadata": {
    "execution": {
     "iopub.execute_input": "2025-09-15T21:51:26.481066Z",
     "iopub.status.busy": "2025-09-15T21:51:26.480966Z",
     "iopub.status.idle": "2025-09-15T21:51:27.864323Z",
     "shell.execute_reply": "2025-09-15T21:51:27.864037Z"
    }
   },
   "outputs": [
    {
     "name": "stdout",
     "output_type": "stream",
     "text": [
      "* Generating text\n",
      "  * model: claude-3-haiku-20240307\n",
      "  * prompt: NUMBER OF LINES: 14  1\tWhen most I wink, then do mine eyes best see, 2\tFor all the day they view thi\n",
      "  * temperature: 0.7\n",
      "  * system_prompt: The following is the first 5 lines from a poem given in the user prompt, whose true number of lines \n",
      "  * force: True\n",
      "  * stash: LMDBHashStash(~/github/generative-formalism/data/stash/genai_rhyme_completions/lmdb.hashstash.lz4+b64/data.db)\n",
      "  * from_cache: False\n",
      "\n"
     ]
    },
    {
     "name": "stdout",
     "output_type": "stream",
     "text": [
      "6"
     ]
    },
    {
     "name": "stdout",
     "output_type": "stream",
     "text": [
      "\tIs"
     ]
    },
    {
     "name": "stdout",
     "output_type": "stream",
     "text": [
      " my"
     ]
    },
    {
     "name": "stdout",
     "output_type": "stream",
     "text": [
      " min"
     ]
    },
    {
     "name": "stdout",
     "output_type": "stream",
     "text": [
      "d's love"
     ]
    },
    {
     "name": "stdout",
     "output_type": "stream",
     "text": [
      ", that"
     ]
    },
    {
     "name": "stdout",
     "output_type": "stream",
     "text": [
      " in"
     ]
    },
    {
     "name": "stdout",
     "output_type": "stream",
     "text": [
      " thy soul"
     ]
    },
    {
     "name": "stdout",
     "output_type": "stream",
     "text": [
      " doth lie"
     ]
    },
    {
     "name": "stdout",
     "output_type": "stream",
     "text": [
      ":"
     ]
    },
    {
     "name": "stdout",
     "output_type": "stream",
     "text": [
      "\n",
      "7\tHow"
     ]
    },
    {
     "name": "stdout",
     "output_type": "stream",
     "text": [
      " can"
     ]
    },
    {
     "name": "stdout",
     "output_type": "stream",
     "text": [
      " it"
     ]
    },
    {
     "name": "stdout",
     "output_type": "stream",
     "text": [
      " be that"
     ]
    },
    {
     "name": "stdout",
     "output_type": "stream",
     "text": [
      " thou"
     ]
    },
    {
     "name": "stdout",
     "output_type": "stream",
     "text": [
      " can"
     ]
    },
    {
     "name": "stdout",
     "output_type": "stream",
     "text": [
      "st not"
     ]
    },
    {
     "name": "stdout",
     "output_type": "stream",
     "text": [
      " see right"
     ]
    },
    {
     "name": "stdout",
     "output_type": "stream",
     "text": [
      ","
     ]
    },
    {
     "name": "stdout",
     "output_type": "stream",
     "text": [
      "\n",
      "8\tWhen"
     ]
    },
    {
     "name": "stdout",
     "output_type": "stream",
     "text": [
      " in"
     ]
    },
    {
     "name": "stdout",
     "output_type": "stream",
     "text": [
      " thy"
     ]
    },
    {
     "name": "stdout",
     "output_type": "stream",
     "text": [
      " glass"
     ]
    },
    {
     "name": "stdout",
     "output_type": "stream",
     "text": [
      " thy"
     ]
    },
    {
     "name": "stdout",
     "output_type": "stream",
     "text": [
      " own"
     ]
    },
    {
     "name": "stdout",
     "output_type": "stream",
     "text": [
      " face"
     ]
    },
    {
     "name": "stdout",
     "output_type": "stream",
     "text": [
      " dost"
     ]
    },
    {
     "name": "stdout",
     "output_type": "stream",
     "text": [
      " desc"
     ]
    },
    {
     "name": "stdout",
     "output_type": "stream",
     "text": [
      "ry?\n",
      "9"
     ]
    },
    {
     "name": "stdout",
     "output_type": "stream",
     "text": [
      "\tIs"
     ]
    },
    {
     "name": "stdout",
     "output_type": "stream",
     "text": [
      " it"
     ]
    },
    {
     "name": "stdout",
     "output_type": "stream",
     "text": [
      " because"
     ]
    },
    {
     "name": "stdout",
     "output_type": "stream",
     "text": [
      " thou art"
     ]
    },
    {
     "name": "stdout",
     "output_type": "stream",
     "text": [
      " thy"
     ]
    },
    {
     "name": "stdout",
     "output_type": "stream",
     "text": [
      "self so"
     ]
    },
    {
     "name": "stdout",
     "output_type": "stream",
     "text": [
      " bright,\n",
      "10"
     ]
    },
    {
     "name": "stdout",
     "output_type": "stream",
     "text": [
      "\tThat in"
     ]
    },
    {
     "name": "stdout",
     "output_type": "stream",
     "text": [
      " thy"
     ]
    },
    {
     "name": "stdout",
     "output_type": "stream",
     "text": [
      " glass thy"
     ]
    },
    {
     "name": "stdout",
     "output_type": "stream",
     "text": [
      " beauty"
     ]
    },
    {
     "name": "stdout",
     "output_type": "stream",
     "text": [
      " doth appear"
     ]
    },
    {
     "name": "stdout",
     "output_type": "stream",
     "text": [
      "?\n",
      "11\t"
     ]
    },
    {
     "name": "stdout",
     "output_type": "stream",
     "text": [
      "Or is it but"
     ]
    },
    {
     "name": "stdout",
     "output_type": "stream",
     "text": [
      " a dream"
     ]
    },
    {
     "name": "stdout",
     "output_type": "stream",
     "text": [
      " that makes"
     ]
    },
    {
     "name": "stdout",
     "output_type": "stream",
     "text": [
      " thee see,"
     ]
    },
    {
     "name": "stdout",
     "output_type": "stream",
     "text": [
      "\n",
      "12\tAnd when"
     ]
    },
    {
     "name": "stdout",
     "output_type": "stream",
     "text": [
      " thou wak"
     ]
    },
    {
     "name": "stdout",
     "output_type": "stream",
     "text": [
      "est, thou "
     ]
    },
    {
     "name": "stdout",
     "output_type": "stream",
     "text": [
      "dost not believe"
     ]
    },
    {
     "name": "stdout",
     "output_type": "stream",
     "text": [
      " thy"
     ]
    },
    {
     "name": "stdout",
     "output_type": "stream",
     "text": [
      " sight"
     ]
    },
    {
     "name": "stdout",
     "output_type": "stream",
     "text": [
      "?\n",
      "13\t"
     ]
    },
    {
     "name": "stdout",
     "output_type": "stream",
     "text": [
      "Or"
     ]
    },
    {
     "name": "stdout",
     "output_type": "stream",
     "text": [
      " is"
     ]
    },
    {
     "name": "stdout",
     "output_type": "stream",
     "text": [
      " it but"
     ]
    },
    {
     "name": "stdout",
     "output_type": "stream",
     "text": [
      " a vision that "
     ]
    },
    {
     "name": "stdout",
     "output_type": "stream",
     "text": [
      "doth ch"
     ]
    },
    {
     "name": "stdout",
     "output_type": "stream",
     "text": [
      "eat"
     ]
    },
    {
     "name": "stdout",
     "output_type": "stream",
     "text": [
      "\n",
      "14\tThe"
     ]
    },
    {
     "name": "stdout",
     "output_type": "stream",
     "text": [
      " sleeping"
     ]
    },
    {
     "name": "stdout",
     "output_type": "stream",
     "text": [
      " sense"
     ]
    },
    {
     "name": "stdout",
     "output_type": "stream",
     "text": [
      ", and makes the"
     ]
    },
    {
     "name": "stdout",
     "output_type": "stream",
     "text": [
      " w"
     ]
    },
    {
     "name": "stdout",
     "output_type": "stream",
     "text": [
      "aking seem"
     ]
    },
    {
     "name": "stdout",
     "output_type": "stream",
     "text": [
      " but"
     ]
    },
    {
     "name": "stdout",
     "output_type": "stream",
     "text": [
      " dream"
     ]
    },
    {
     "name": "stdout",
     "output_type": "stream",
     "text": [
      "?"
     ]
    },
    {
     "data": {
      "text/html": [
       "<div>\n",
       "<style scoped>\n",
       "    .dataframe tbody tr th:only-of-type {\n",
       "        vertical-align: middle;\n",
       "    }\n",
       "\n",
       "    .dataframe tbody tr th {\n",
       "        vertical-align: top;\n",
       "    }\n",
       "\n",
       "    .dataframe thead th {\n",
       "        text-align: right;\n",
       "    }\n",
       "</style>\n",
       "<table border=\"1\" class=\"dataframe\">\n",
       "  <thead>\n",
       "    <tr style=\"text-align: right;\">\n",
       "      <th></th>\n",
       "      <th></th>\n",
       "      <th></th>\n",
       "      <th>line_real</th>\n",
       "      <th>line_gen</th>\n",
       "      <th>line_sim</th>\n",
       "    </tr>\n",
       "    <tr>\n",
       "      <th>id</th>\n",
       "      <th>stanza_num</th>\n",
       "      <th>line_num</th>\n",
       "      <th></th>\n",
       "      <th></th>\n",
       "      <th></th>\n",
       "    </tr>\n",
       "  </thead>\n",
       "  <tbody>\n",
       "    <tr>\n",
       "      <th rowspan=\"14\" valign=\"top\">79ac99d3</th>\n",
       "      <th rowspan=\"14\" valign=\"top\">1</th>\n",
       "      <th>1</th>\n",
       "      <td>When most I wink, then do mine eyes best see,</td>\n",
       "      <td></td>\n",
       "      <td></td>\n",
       "    </tr>\n",
       "    <tr>\n",
       "      <th>2</th>\n",
       "      <td>For all the day they view things unrespected;</td>\n",
       "      <td></td>\n",
       "      <td></td>\n",
       "    </tr>\n",
       "    <tr>\n",
       "      <th>3</th>\n",
       "      <td>But when I sleep, in dreams they look on thee,</td>\n",
       "      <td></td>\n",
       "      <td></td>\n",
       "    </tr>\n",
       "    <tr>\n",
       "      <th>4</th>\n",
       "      <td>And darkly bright are bright in dark directed.</td>\n",
       "      <td></td>\n",
       "      <td></td>\n",
       "    </tr>\n",
       "    <tr>\n",
       "      <th>5</th>\n",
       "      <td>Then thou, whose shadow shadows doth make bright,</td>\n",
       "      <td></td>\n",
       "      <td></td>\n",
       "    </tr>\n",
       "    <tr>\n",
       "      <th>6</th>\n",
       "      <td>How would thy shadow's form form happy show</td>\n",
       "      <td>Is my mind's love, that in thy soul doth lie:</td>\n",
       "      <td>34.090909</td>\n",
       "    </tr>\n",
       "    <tr>\n",
       "      <th>7</th>\n",
       "      <td>To the clear day with thy much clearer light,</td>\n",
       "      <td>How can it be that thou canst not see right,</td>\n",
       "      <td>49.438202</td>\n",
       "    </tr>\n",
       "    <tr>\n",
       "      <th>8</th>\n",
       "      <td>When to unseeing eyes thy shade shines so!</td>\n",
       "      <td>When in thy glass thy own face dost descry?</td>\n",
       "      <td>49.411765</td>\n",
       "    </tr>\n",
       "    <tr>\n",
       "      <th>9</th>\n",
       "      <td>How would, I say, mine eyes be blessed made</td>\n",
       "      <td>Is it because thou art thyself so bright,</td>\n",
       "      <td>28.571429</td>\n",
       "    </tr>\n",
       "    <tr>\n",
       "      <th>10</th>\n",
       "      <td>By looking on thee in the living day,</td>\n",
       "      <td>That in thy glass thy beauty doth appear?</td>\n",
       "      <td>35.897436</td>\n",
       "    </tr>\n",
       "    <tr>\n",
       "      <th>11</th>\n",
       "      <td>When in dead night thy fair imperfect shade</td>\n",
       "      <td>Or is it but a dream that makes thee see,</td>\n",
       "      <td>40.47619</td>\n",
       "    </tr>\n",
       "    <tr>\n",
       "      <th>12</th>\n",
       "      <td>Through heavy sleep on sightless eyes doth stay!</td>\n",
       "      <td>And when thou wakest, thou dost not believe th...</td>\n",
       "      <td>39.215686</td>\n",
       "    </tr>\n",
       "    <tr>\n",
       "      <th>13</th>\n",
       "      <td>All days are nights to see till I see thee,</td>\n",
       "      <td>Or is it but a vision that doth cheat</td>\n",
       "      <td>37.5</td>\n",
       "    </tr>\n",
       "    <tr>\n",
       "      <th>14</th>\n",
       "      <td>And nights bright days when dreams do show the...</td>\n",
       "      <td>The sleeping sense, and makes the waking seem ...</td>\n",
       "      <td>37.383178</td>\n",
       "    </tr>\n",
       "  </tbody>\n",
       "</table>\n",
       "</div>"
      ],
      "text/plain": [
       "                                                                      line_real                                           line_gen   line_sim\n",
       "id       stanza_num line_num                                                                                                                 \n",
       "79ac99d3 1          1             When most I wink, then do mine eyes best see,                                                              \n",
       "                    2             For all the day they view things unrespected;                                                              \n",
       "                    3            But when I sleep, in dreams they look on thee,                                                              \n",
       "                    4            And darkly bright are bright in dark directed.                                                              \n",
       "                    5         Then thou, whose shadow shadows doth make bright,                                                              \n",
       "                    6               How would thy shadow's form form happy show      Is my mind's love, that in thy soul doth lie:  34.090909\n",
       "                    7             To the clear day with thy much clearer light,       How can it be that thou canst not see right,  49.438202\n",
       "                    8                When to unseeing eyes thy shade shines so!        When in thy glass thy own face dost descry?  49.411765\n",
       "                    9               How would, I say, mine eyes be blessed made          Is it because thou art thyself so bright,  28.571429\n",
       "                    10                    By looking on thee in the living day,          That in thy glass thy beauty doth appear?  35.897436\n",
       "                    11              When in dead night thy fair imperfect shade          Or is it but a dream that makes thee see,   40.47619\n",
       "                    12         Through heavy sleep on sightless eyes doth stay!  And when thou wakest, thou dost not believe th...  39.215686\n",
       "                    13              All days are nights to see till I see thee,              Or is it but a vision that doth cheat       37.5\n",
       "                    14        And nights bright days when dreams do show the...  The sleeping sense, and makes the waking seem ...  37.383178"
      ]
     },
     "execution_count": 6,
     "metadata": {},
     "output_type": "execute_result"
    }
   ],
   "source": [
    "complete_poem(\n",
    "    poem2,\n",
    "    first_n_lines=first_n_lines,\n",
    "    force=REPLICATE_OVERWRITE,\n",
    "    model=DEMO_MODEL,\n",
    "    verbose=DEFAULT_VERBOSE,\n",
    "    temperature=DEFAULT_TEMPERATURE,\n",
    "    stash=STASH_GENAI_RHYME_COMPLETIONS,\n",
    ")"
   ]
  }
 ],
 "metadata": {
  "kernelspec": {
   "display_name": "venv",
   "language": "python",
   "name": "python3"
  },
  "language_info": {
   "codemirror_mode": {
    "name": "ipython",
    "version": 3
   },
   "file_extension": ".py",
   "mimetype": "text/x-python",
   "name": "python",
   "nbconvert_exporter": "python",
   "pygments_lexer": "ipython3",
   "version": "3.11.9"
  }
 },
 "nbformat": 4,
 "nbformat_minor": 2
}
