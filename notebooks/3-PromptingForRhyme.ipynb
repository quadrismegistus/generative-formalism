{
 "cells": [
  {
   "cell_type": "markdown",
   "metadata": {},
   "source": [
    "# Prompting for un/rhyming poems"
   ]
  },
  {
   "cell_type": "markdown",
   "metadata": {},
   "source": [
    "## Setting prompts and models\n",
    "\n",
    "Edit `PROMPTS` and `MODEL_LIST` in `constants.py` to change prompts and models."
   ]
  },
  {
   "cell_type": "code",
   "execution_count": 1,
   "metadata": {},
   "outputs": [],
   "source": [
    "# Imports\n",
    "import sys\n",
    "sys.path.append('../')\n",
    "from generative_formalism import *"
   ]
  },
  {
   "cell_type": "code",
   "execution_count": 2,
   "metadata": {},
   "outputs": [
    {
     "data": {
      "text/markdown": [
       "### Setting prompts from constant"
      ],
      "text/plain": [
       "<IPython.core.display.Markdown object>"
      ]
     },
     "metadata": {},
     "output_type": "display_data"
    },
    {
     "name": "stdout",
     "output_type": "stream",
     "text": [
      "* 23 unique prompts\n",
      "* 3 prompt types\n",
      "\n"
     ]
    }
   ],
   "source": [
    "# Prompts\n",
    "printm(f'''### Setting prompts from constant''')\n",
    "print(f'''* {len(PROMPT_SET)} unique prompts\n",
    "* {len(PROMPTS)} prompt types\n",
    "''')"
   ]
  },
  {
   "cell_type": "code",
   "execution_count": 3,
   "metadata": {},
   "outputs": [
    {
     "data": {
      "text/markdown": [
       "### Setting models from constant"
      ],
      "text/plain": [
       "<IPython.core.display.Markdown object>"
      ]
     },
     "metadata": {},
     "output_type": "display_data"
    },
    {
     "name": "stdout",
     "output_type": "stream",
     "text": [
      "* 11 models (counting parameter changes)\n",
      "* 9 model (discounting parameter changes)\n",
      "* 6 model providers (ChatGPT, Claude, DeepSeek, Gemini, Llama, Olmo)\n",
      "\n"
     ]
    }
   ],
   "source": [
    "# Models\n",
    "printm(f'''### Setting models from constant''')\n",
    "print(f'''* {len(MODEL_LIST)} models (counting parameter changes)\n",
    "* {len(set(MODEL_TO_NAME.values()))} model (discounting parameter changes)\n",
    "* {len(set(MODEL_TO_TYPE.values()))} model providers ({\", \".join(sorted(set(MODEL_TO_TYPE.values())))})\n",
    "''')"
   ]
  },
  {
   "cell_type": "markdown",
   "metadata": {},
   "source": [
    "## Collecting previous genai promptings\n",
    "\n",
    "from raw output data of prior project phases"
   ]
  },
  {
   "cell_type": "code",
   "execution_count": 4,
   "metadata": {},
   "outputs": [
    {
     "data": {
      "text/markdown": [
       "#### Collecting genai rhyme promptings"
      ],
      "text/plain": [
       "<IPython.core.display.Markdown object>"
      ]
     },
     "metadata": {},
     "output_type": "display_data"
    },
    {
     "data": {
      "text/markdown": [
       "##### Collecting legacy data"
      ],
      "text/plain": [
       "<IPython.core.display.Markdown object>"
      ]
     },
     "metadata": {},
     "output_type": "display_data"
    },
    {
     "name": "stdout",
     "output_type": "stream",
     "text": [
      "* Collecting from /Users/rj416/github/generative-formalism/data/raw/data.allpoems.pkl.gz\n",
      "  * 9081 generated poems\n",
      "* Collecting from /Users/rj416/github/generative-formalism/data/raw/data.newpoems2.json.gz\n",
      "  * 13337 generated poems\n"
     ]
    },
    {
     "data": {
      "text/markdown": [
       "##### Aggregated and filtered"
      ],
      "text/plain": [
       "<IPython.core.display.Markdown object>"
      ]
     },
     "metadata": {},
     "output_type": "display_data"
    },
    {
     "name": "stdout",
     "output_type": "stream",
     "text": [
      "* 17,988 generated responses\n",
      "* 16,935 unique responses\n",
      "* 16,871 unique poems\n",
      "* 23 unique prompts\n",
      "* 3 unique prompt types\n"
     ]
    },
    {
     "data": {
      "text/html": [
       "<div>\n",
       "<style scoped>\n",
       "    .dataframe tbody tr th:only-of-type {\n",
       "        vertical-align: middle;\n",
       "    }\n",
       "\n",
       "    .dataframe tbody tr th {\n",
       "        vertical-align: top;\n",
       "    }\n",
       "\n",
       "    .dataframe thead th {\n",
       "        text-align: right;\n",
       "    }\n",
       "</style>\n",
       "<table border=\"1\" class=\"dataframe\">\n",
       "  <thead>\n",
       "    <tr style=\"text-align: right;\">\n",
       "      <th></th>\n",
       "      <th>prompt_type</th>\n",
       "      <th>prompt</th>\n",
       "      <th>model</th>\n",
       "      <th>temperature</th>\n",
       "      <th>txt</th>\n",
       "      <th>num_lines</th>\n",
       "    </tr>\n",
       "    <tr>\n",
       "      <th>id_hash</th>\n",
       "      <th></th>\n",
       "      <th></th>\n",
       "      <th></th>\n",
       "      <th></th>\n",
       "      <th></th>\n",
       "      <th></th>\n",
       "    </tr>\n",
       "  </thead>\n",
       "  <tbody>\n",
       "    <tr>\n",
       "      <th>327</th>\n",
       "      <td>MAYBE_rhyme</td>\n",
       "      <td>Write a poem (with 20+ lines).</td>\n",
       "      <td>claude-3-haiku-20240307</td>\n",
       "      <td>0.663096</td>\n",
       "      <td>Amidst the gentle breeze, a symphony unfolds,\\...</td>\n",
       "      <td>20</td>\n",
       "    </tr>\n",
       "    <tr>\n",
       "      <th>358</th>\n",
       "      <td>MAYBE_rhyme</td>\n",
       "      <td>Write a poem (with 20+ lines).</td>\n",
       "      <td>ollama/olmo2:13b</td>\n",
       "      <td>0.700000</td>\n",
       "      <td>In the gentle whisper of the wind's caress,\\nB...</td>\n",
       "      <td>44</td>\n",
       "    </tr>\n",
       "    <tr>\n",
       "      <th>450</th>\n",
       "      <td>DO_rhyme</td>\n",
       "      <td>Write a poem in the style of Emily Dickinson.</td>\n",
       "      <td>claude-3-sonnet-20240229</td>\n",
       "      <td>0.242998</td>\n",
       "      <td>The carriage held but just ourselves -  \\nImmo...</td>\n",
       "      <td>16</td>\n",
       "    </tr>\n",
       "    <tr>\n",
       "      <th>487</th>\n",
       "      <td>do_NOT_rhyme</td>\n",
       "      <td>Write a poem in free verse.</td>\n",
       "      <td>ollama/olmo2:13b</td>\n",
       "      <td>0.700000</td>\n",
       "      <td>In the stillness of night, stars whisper secre...</td>\n",
       "      <td>18</td>\n",
       "    </tr>\n",
       "    <tr>\n",
       "      <th>491</th>\n",
       "      <td>DO_rhyme</td>\n",
       "      <td>Write an ryhmed poem in the style of Shakespea...</td>\n",
       "      <td>gpt-3.5-turbo</td>\n",
       "      <td>0.617467</td>\n",
       "      <td>Oh fair maiden, with eyes so bright and clear,...</td>\n",
       "      <td>14</td>\n",
       "    </tr>\n",
       "    <tr>\n",
       "      <th>...</th>\n",
       "      <td>...</td>\n",
       "      <td>...</td>\n",
       "      <td>...</td>\n",
       "      <td>...</td>\n",
       "      <td>...</td>\n",
       "      <td>...</td>\n",
       "    </tr>\n",
       "    <tr>\n",
       "      <th>999746</th>\n",
       "      <td>do_NOT_rhyme</td>\n",
       "      <td>Write a poem in blank verse.</td>\n",
       "      <td>claude-3-opus-20240229</td>\n",
       "      <td>0.789878</td>\n",
       "      <td>In solitude, I wander through the woods,\\nMy t...</td>\n",
       "      <td>20</td>\n",
       "    </tr>\n",
       "    <tr>\n",
       "      <th>999780</th>\n",
       "      <td>do_NOT_rhyme</td>\n",
       "      <td>Write a poem in the style of Walt Whitman.</td>\n",
       "      <td>gpt-3.5-turbo</td>\n",
       "      <td>0.639342</td>\n",
       "      <td>O Captain! my Captain! our fearful trip is don...</td>\n",
       "      <td>24</td>\n",
       "    </tr>\n",
       "    <tr>\n",
       "      <th>999864</th>\n",
       "      <td>DO_rhyme</td>\n",
       "      <td>Write a poem (with 20+ lines) that rhymes.</td>\n",
       "      <td>ollama/llama3.1:8b</td>\n",
       "      <td>0.700000</td>\n",
       "      <td>In twilight's hush, where shadows play,\\nThe s...</td>\n",
       "      <td>24</td>\n",
       "    </tr>\n",
       "    <tr>\n",
       "      <th>999961</th>\n",
       "      <td>do_NOT_rhyme</td>\n",
       "      <td>Write a poem in free verse.</td>\n",
       "      <td>gemini-pro</td>\n",
       "      <td>0.900051</td>\n",
       "      <td>Without chains or binds,\\nMy thoughts flow lik...</td>\n",
       "      <td>12</td>\n",
       "    </tr>\n",
       "    <tr>\n",
       "      <th>999979</th>\n",
       "      <td>do_NOT_rhyme</td>\n",
       "      <td>Write a poem that does NOT rhyme.</td>\n",
       "      <td>gpt-4-turbo</td>\n",
       "      <td>0.700000</td>\n",
       "      <td>In the quiet morning,\\nlight trickles in,\\nsof...</td>\n",
       "      <td>26</td>\n",
       "    </tr>\n",
       "  </tbody>\n",
       "</table>\n",
       "<p>13736 rows × 6 columns</p>\n",
       "</div>"
      ],
      "text/plain": [
       "          prompt_type                                             prompt                     model  temperature                                                txt  num_lines\n",
       "id_hash                                                                                                                                                                      \n",
       "327       MAYBE_rhyme                     Write a poem (with 20+ lines).   claude-3-haiku-20240307     0.663096  Amidst the gentle breeze, a symphony unfolds,\\...         20\n",
       "358       MAYBE_rhyme                     Write a poem (with 20+ lines).          ollama/olmo2:13b     0.700000  In the gentle whisper of the wind's caress,\\nB...         44\n",
       "450          DO_rhyme      Write a poem in the style of Emily Dickinson.  claude-3-sonnet-20240229     0.242998  The carriage held but just ourselves -  \\nImmo...         16\n",
       "487      do_NOT_rhyme                        Write a poem in free verse.          ollama/olmo2:13b     0.700000  In the stillness of night, stars whisper secre...         18\n",
       "491          DO_rhyme  Write an ryhmed poem in the style of Shakespea...             gpt-3.5-turbo     0.617467  Oh fair maiden, with eyes so bright and clear,...         14\n",
       "...               ...                                                ...                       ...          ...                                                ...        ...\n",
       "999746   do_NOT_rhyme                       Write a poem in blank verse.    claude-3-opus-20240229     0.789878  In solitude, I wander through the woods,\\nMy t...         20\n",
       "999780   do_NOT_rhyme         Write a poem in the style of Walt Whitman.             gpt-3.5-turbo     0.639342  O Captain! my Captain! our fearful trip is don...         24\n",
       "999864       DO_rhyme         Write a poem (with 20+ lines) that rhymes.        ollama/llama3.1:8b     0.700000  In twilight's hush, where shadows play,\\nThe s...         24\n",
       "999961   do_NOT_rhyme                        Write a poem in free verse.                gemini-pro     0.900051  Without chains or binds,\\nMy thoughts flow lik...         12\n",
       "999979   do_NOT_rhyme                  Write a poem that does NOT rhyme.               gpt-4-turbo     0.700000  In the quiet morning,\\nlight trickles in,\\nsof...         26\n",
       "\n",
       "[13736 rows x 6 columns]"
      ]
     },
     "execution_count": 4,
     "metadata": {},
     "output_type": "execute_result"
    }
   ],
   "source": [
    "# Loading legacy data\n",
    "df_legacy = collect_genai_rhyme_promptings(\n",
    "    collect_legacy=True, \n",
    "    collect_stash=False,\n",
    "    save=False\n",
    ")\n",
    "df_legacy"
   ]
  },
  {
   "cell_type": "markdown",
   "metadata": {},
   "source": [
    "## Replicating"
   ]
  },
  {
   "cell_type": "code",
   "execution_count": 5,
   "metadata": {},
   "outputs": [
    {
     "data": {
      "text/markdown": [
       "#### Demo for poem generation"
      ],
      "text/plain": [
       "<IPython.core.display.Markdown object>"
      ]
     },
     "metadata": {},
     "output_type": "display_data"
    },
    {
     "name": "stdout",
     "output_type": "stream",
     "text": [
      "* Demo model: claude-3-haiku-20240307\n",
      "* Demo prompt: Write a poem that does NOT rhyme.\n",
      "\n",
      "Here is a poem that does not rhyme:\n",
      "\n",
      "The Quiet Moments\n",
      "\n",
      "In the stillness of the night,\n",
      "When the world is fast asleep,\n",
      "I find solace in the quiet,\n",
      "A moment to pause and deeply breathe.\n",
      "\n",
      "The chaos of the day recedes,\n",
      "And I'm left with just my thoughts,\n",
      "A chance to reflect and ponder,\n",
      "To unravel the day's knotted thoughts.\n",
      "\n",
      "These quiet moments are a gift,\n",
      "A chance to recharge and reset,\n",
      "To find the peace within the storm,\n",
      "And rediscover my inner rest.\n",
      "\n",
      "Though the world may never stop,\n",
      "I'll cherish these tranquil times,\n",
      "For in the silence, I find my strength,\n",
      "And the clarity that my soul aligns.\n"
     ]
    },
    {
     "data": {
      "text/markdown": [
       "##### Extracting poem from response:"
      ],
      "text/plain": [
       "<IPython.core.display.Markdown object>"
      ]
     },
     "metadata": {},
     "output_type": "display_data"
    },
    {
     "data": {
      "text/markdown": [
       "```In the stillness of the night,\n",
       "When the world is fast asleep,\n",
       "I find solace in the quiet,\n",
       "A moment to pause and deeply breathe.\n",
       "\n",
       "The chaos of the day recedes,\n",
       "And I'm left with just my thoughts,\n",
       "A chance to reflect and ponder,\n",
       "To unravel the day's knotted thoughts.\n",
       "\n",
       "These quiet moments are a gift,\n",
       "A chance to recharge and reset,\n",
       "To find the peace within the storm,\n",
       "And rediscover my inner rest.\n",
       "\n",
       "Though the world may never stop,\n",
       "I'll cherish these tranquil times,\n",
       "For in the silence, I find my strength,\n",
       "And the clarity that my soul aligns.```"
      ],
      "text/plain": [
       "<IPython.core.display.Markdown object>"
      ]
     },
     "metadata": {},
     "output_type": "display_data"
    }
   ],
   "source": [
    "# Get demo\n",
    "printm(f'#### Demo for poem generation')\n",
    "print(f'''* Demo model: {DEMO_MODEL}\n",
    "* Demo prompt: {DEMO_PROMPT}\n",
    "''')\n",
    "\n",
    "response = generate_rhyme_prompt_text(\n",
    "    DEMO_MODEL,\n",
    "    DEMO_PROMPT,\n",
    "    verbose=True\n",
    ")\n",
    "\n",
    "printm(f'##### Extracting poem from response:')\n",
    "printm(f\"```{clean_poem_str(response)}```\")"
   ]
  },
  {
   "cell_type": "code",
   "execution_count": 9,
   "metadata": {},
   "outputs": [
    {
     "name": "stderr",
     "output_type": "stream",
     "text": [
      ">>> deepseek/deepseek-chat (0.4433): \"Write a poem that does NOT rhyme.\":   0%|          | 0/1 [00:00<?, ?it/s]"
     ]
    },
    {
     "data": {
      "text/markdown": [
       "----"
      ],
      "text/plain": [
       "<IPython.core.display.Markdown object>"
      ]
     },
     "metadata": {},
     "output_type": "display_data"
    },
    {
     "name": "stdout",
     "output_type": "stream",
     "text": [
      "The window holds a square of sky,\n",
      "a faded, endless blue.\n",
      "A single cloud, a smudge of white,\n",
      "drifts slowly out of view.\n",
      "\n",
      "Down on the street, a car door slams.\n",
      "A distant siren grows,\n",
      "then fades again, a dying sound\n",
      "that everybody knows.\n",
      "\n",
      "The clock upon the wall does not\n",
      "mark minutes, only weight.\n",
      "The dust motes dance their silent jig\n",
      "in a sunlit, golden state.\n",
      "\n",
      "This is the hour of the long shadows,\n",
      "the quiet, stretching deep.\n",
      "A held breath before the evening,\n",
      "a promise not to keep.\n",
      "\n",
      "Nothing happens here and now.\n",
      "Nothing ever will.\n",
      "And in this perfect, stillborn moment,\n",
      "all of time stands still."
     ]
    },
    {
     "data": {
      "text/markdown": [
       "----"
      ],
      "text/plain": [
       "<IPython.core.display.Markdown object>"
      ]
     },
     "metadata": {},
     "output_type": "display_data"
    },
    {
     "name": "stderr",
     "output_type": "stream",
     "text": [
      ">>> deepseek/deepseek-chat (0.4433): \"Write a poem that does NOT rhyme.\": 100%|██████████| 1/1 [00:26<00:00, 26.52s/it]\n"
     ]
    }
   ],
   "source": [
    "generate_more_poems_from_rhyme_prompts(\n",
    "    n=1,\n",
    "    models = MODEL_LIST,\n",
    "    # models = ['gemini-1.5-pro'],\n",
    "    prompts = PROMPT_LIST,\n",
    "    # prompts = PROMPTS['do_NOT_rhyme'],\n",
    "    verbose=True\n",
    ")"
   ]
  },
  {
   "cell_type": "code",
   "execution_count": 7,
   "metadata": {},
   "outputs": [
    {
     "data": {
      "text/markdown": [
       "#### Collecting genai rhyme promptings"
      ],
      "text/plain": [
       "<IPython.core.display.Markdown object>"
      ]
     },
     "metadata": {},
     "output_type": "display_data"
    },
    {
     "data": {
      "text/markdown": [
       "##### Collecting stash data"
      ],
      "text/plain": [
       "<IPython.core.display.Markdown object>"
      ]
     },
     "metadata": {},
     "output_type": "display_data"
    },
    {
     "name": "stdout",
     "output_type": "stream",
     "text": [
      "* Collecting from /Users/rj416/github/generative-formalism/data/stash/genai_rhyme_prompts.jsonl\n",
      "  * 82 generated poems\n"
     ]
    },
    {
     "data": {
      "text/markdown": [
       "##### Aggregated and filtered"
      ],
      "text/plain": [
       "<IPython.core.display.Markdown object>"
      ]
     },
     "metadata": {},
     "output_type": "display_data"
    },
    {
     "name": "stdout",
     "output_type": "stream",
     "text": [
      "* 81 generated responses\n",
      "* 81 unique responses\n",
      "* 81 unique poems\n",
      "* 23 unique prompts\n",
      "* 3 unique prompt types\n"
     ]
    },
    {
     "data": {
      "text/html": [
       "<div>\n",
       "<style scoped>\n",
       "    .dataframe tbody tr th:only-of-type {\n",
       "        vertical-align: middle;\n",
       "    }\n",
       "\n",
       "    .dataframe tbody tr th {\n",
       "        vertical-align: top;\n",
       "    }\n",
       "\n",
       "    .dataframe thead th {\n",
       "        text-align: right;\n",
       "    }\n",
       "</style>\n",
       "<table border=\"1\" class=\"dataframe\">\n",
       "  <thead>\n",
       "    <tr style=\"text-align: right;\">\n",
       "      <th></th>\n",
       "      <th>prompt_type</th>\n",
       "      <th>prompt</th>\n",
       "      <th>model</th>\n",
       "      <th>temperature</th>\n",
       "      <th>txt</th>\n",
       "      <th>num_lines</th>\n",
       "    </tr>\n",
       "  </thead>\n",
       "  <tbody>\n",
       "    <tr>\n",
       "      <th>0</th>\n",
       "      <td>do_NOT_rhyme</td>\n",
       "      <td>Write a poem that does NOT rhyme.</td>\n",
       "      <td>claude-3-haiku-20240307</td>\n",
       "      <td>0.7000</td>\n",
       "      <td>In the stillness of the night,\\nWhen the world...</td>\n",
       "      <td>16</td>\n",
       "    </tr>\n",
       "    <tr>\n",
       "      <th>2</th>\n",
       "      <td>do_NOT_rhyme</td>\n",
       "      <td>Write a poem in the style of Walt Whitman.</td>\n",
       "      <td>claude-3-haiku-20240307</td>\n",
       "      <td>0.3400</td>\n",
       "      <td>O, the vast and boundless expanse of this land...</td>\n",
       "      <td>16</td>\n",
       "    </tr>\n",
       "    <tr>\n",
       "      <th>3</th>\n",
       "      <td>DO_rhyme</td>\n",
       "      <td>Write a poem in ballad stanzas.</td>\n",
       "      <td>claude-3-haiku-20240307</td>\n",
       "      <td>0.6416</td>\n",
       "      <td>Through winding paths and forests deep,\\nThe w...</td>\n",
       "      <td>16</td>\n",
       "    </tr>\n",
       "    <tr>\n",
       "      <th>4</th>\n",
       "      <td>DO_rhyme</td>\n",
       "      <td>Write an rhyming poem.</td>\n",
       "      <td>claude-3-haiku-20240307</td>\n",
       "      <td>0.7754</td>\n",
       "      <td>The gentle breeze, a whisper sweet,\\nCaresses ...</td>\n",
       "      <td>12</td>\n",
       "    </tr>\n",
       "    <tr>\n",
       "      <th>5</th>\n",
       "      <td>DO_rhyme</td>\n",
       "      <td>Write a long poem that does rhyme.</td>\n",
       "      <td>claude-3-haiku-20240307</td>\n",
       "      <td>0.6923</td>\n",
       "      <td>In the depths of the forest, where sunlight da...</td>\n",
       "      <td>32</td>\n",
       "    </tr>\n",
       "    <tr>\n",
       "      <th>...</th>\n",
       "      <td>...</td>\n",
       "      <td>...</td>\n",
       "      <td>...</td>\n",
       "      <td>...</td>\n",
       "      <td>...</td>\n",
       "      <td>...</td>\n",
       "    </tr>\n",
       "    <tr>\n",
       "      <th>75</th>\n",
       "      <td>do_NOT_rhyme</td>\n",
       "      <td>Write a long poem that does NOT rhyme.</td>\n",
       "      <td>gpt-3.5-turbo</td>\n",
       "      <td>0.5428</td>\n",
       "      <td>In the stillness of the night, I find myself\\n...</td>\n",
       "      <td>36</td>\n",
       "    </tr>\n",
       "    <tr>\n",
       "      <th>76</th>\n",
       "      <td>do_NOT_rhyme</td>\n",
       "      <td>Write a long poem that does NOT rhyme.</td>\n",
       "      <td>claude-3-opus-20240229</td>\n",
       "      <td>0.6418</td>\n",
       "      <td>In the stillness of the night, when the world ...</td>\n",
       "      <td>32</td>\n",
       "    </tr>\n",
       "    <tr>\n",
       "      <th>77</th>\n",
       "      <td>do_NOT_rhyme</td>\n",
       "      <td>Write a poem that does NOT rhyme.</td>\n",
       "      <td>gemini-pro</td>\n",
       "      <td>0.7000</td>\n",
       "      <td>Fog hangs heavy.\\nThe streetlights blur,\\nsodi...</td>\n",
       "      <td>10</td>\n",
       "    </tr>\n",
       "    <tr>\n",
       "      <th>79</th>\n",
       "      <td>do_NOT_rhyme</td>\n",
       "      <td>Write a poem in blank verse.</td>\n",
       "      <td>gemini-pro</td>\n",
       "      <td>0.9901</td>\n",
       "      <td>The fog hangs heavy, a damp, clinging shroud,\\...</td>\n",
       "      <td>16</td>\n",
       "    </tr>\n",
       "    <tr>\n",
       "      <th>81</th>\n",
       "      <td>DO_rhyme</td>\n",
       "      <td>Write a long poem that does rhyme.</td>\n",
       "      <td>ollama/olmo2</td>\n",
       "      <td>0.1105</td>\n",
       "      <td>In the land of prose and rhyme, where words fl...</td>\n",
       "      <td>28</td>\n",
       "    </tr>\n",
       "  </tbody>\n",
       "</table>\n",
       "<p>67 rows × 6 columns</p>\n",
       "</div>"
      ],
      "text/plain": [
       "     prompt_type                                      prompt                    model  temperature                                                txt  num_lines\n",
       "0   do_NOT_rhyme           Write a poem that does NOT rhyme.  claude-3-haiku-20240307       0.7000  In the stillness of the night,\\nWhen the world...         16\n",
       "2   do_NOT_rhyme  Write a poem in the style of Walt Whitman.  claude-3-haiku-20240307       0.3400  O, the vast and boundless expanse of this land...         16\n",
       "3       DO_rhyme             Write a poem in ballad stanzas.  claude-3-haiku-20240307       0.6416  Through winding paths and forests deep,\\nThe w...         16\n",
       "4       DO_rhyme                      Write an rhyming poem.  claude-3-haiku-20240307       0.7754  The gentle breeze, a whisper sweet,\\nCaresses ...         12\n",
       "5       DO_rhyme          Write a long poem that does rhyme.  claude-3-haiku-20240307       0.6923  In the depths of the forest, where sunlight da...         32\n",
       "..           ...                                         ...                      ...          ...                                                ...        ...\n",
       "75  do_NOT_rhyme      Write a long poem that does NOT rhyme.            gpt-3.5-turbo       0.5428  In the stillness of the night, I find myself\\n...         36\n",
       "76  do_NOT_rhyme      Write a long poem that does NOT rhyme.   claude-3-opus-20240229       0.6418  In the stillness of the night, when the world ...         32\n",
       "77  do_NOT_rhyme           Write a poem that does NOT rhyme.               gemini-pro       0.7000  Fog hangs heavy.\\nThe streetlights blur,\\nsodi...         10\n",
       "79  do_NOT_rhyme                Write a poem in blank verse.               gemini-pro       0.9901  The fog hangs heavy, a damp, clinging shroud,\\...         16\n",
       "81      DO_rhyme          Write a long poem that does rhyme.             ollama/olmo2       0.1105  In the land of prose and rhyme, where words fl...         28\n",
       "\n",
       "[67 rows x 6 columns]"
      ]
     },
     "execution_count": 7,
     "metadata": {},
     "output_type": "execute_result"
    }
   ],
   "source": [
    "df_stash = collect_genai_rhyme_promptings(\n",
    "    collect_legacy=False, \n",
    "    collect_stash=True,\n",
    "    save=False\n",
    ")\n",
    "df_stash"
   ]
  },
  {
   "cell_type": "markdown",
   "metadata": {},
   "source": [
    "### Saving all rhyme promptings"
   ]
  },
  {
   "cell_type": "code",
   "execution_count": 10,
   "metadata": {},
   "outputs": [
    {
     "data": {
      "text/markdown": [
       "#### Collecting genai rhyme promptings"
      ],
      "text/plain": [
       "<IPython.core.display.Markdown object>"
      ]
     },
     "metadata": {},
     "output_type": "display_data"
    },
    {
     "data": {
      "text/markdown": [
       "##### Collecting legacy data"
      ],
      "text/plain": [
       "<IPython.core.display.Markdown object>"
      ]
     },
     "metadata": {},
     "output_type": "display_data"
    },
    {
     "name": "stdout",
     "output_type": "stream",
     "text": [
      "* Collecting from /Users/rj416/github/generative-formalism/data/raw/data.allpoems.pkl.gz\n",
      "  * 9081 generated poems\n",
      "* Collecting from /Users/rj416/github/generative-formalism/data/raw/data.newpoems2.json.gz\n",
      "  * 13337 generated poems\n"
     ]
    },
    {
     "data": {
      "text/markdown": [
       "##### Collecting stash data"
      ],
      "text/plain": [
       "<IPython.core.display.Markdown object>"
      ]
     },
     "metadata": {},
     "output_type": "display_data"
    },
    {
     "name": "stdout",
     "output_type": "stream",
     "text": [
      "* Collecting from /Users/rj416/github/generative-formalism/data/stash/genai_rhyme_prompts.jsonl\n",
      "  * 83 generated poems\n"
     ]
    },
    {
     "data": {
      "text/markdown": [
       "##### Aggregated and filtered"
      ],
      "text/plain": [
       "<IPython.core.display.Markdown object>"
      ]
     },
     "metadata": {},
     "output_type": "display_data"
    },
    {
     "name": "stdout",
     "output_type": "stream",
     "text": [
      "* 18,070 generated responses\n",
      "* 17,014 unique responses\n",
      "* 16,950 unique poems\n",
      "* 23 unique prompts\n",
      "* 3 unique prompt types\n",
      "* Saved sample to /Users/rj416/github/generative-formalism/data/corpus_sample_by_rhyme.csv.gz\n"
     ]
    },
    {
     "data": {
      "text/html": [
       "<div>\n",
       "<style scoped>\n",
       "    .dataframe tbody tr th:only-of-type {\n",
       "        vertical-align: middle;\n",
       "    }\n",
       "\n",
       "    .dataframe tbody tr th {\n",
       "        vertical-align: top;\n",
       "    }\n",
       "\n",
       "    .dataframe thead th {\n",
       "        text-align: right;\n",
       "    }\n",
       "</style>\n",
       "<table border=\"1\" class=\"dataframe\">\n",
       "  <thead>\n",
       "    <tr style=\"text-align: right;\">\n",
       "      <th></th>\n",
       "      <th>prompt_type</th>\n",
       "      <th>prompt</th>\n",
       "      <th>model</th>\n",
       "      <th>temperature</th>\n",
       "      <th>txt</th>\n",
       "      <th>num_lines</th>\n",
       "    </tr>\n",
       "    <tr>\n",
       "      <th>id_hash</th>\n",
       "      <th></th>\n",
       "      <th></th>\n",
       "      <th></th>\n",
       "      <th></th>\n",
       "      <th></th>\n",
       "      <th></th>\n",
       "    </tr>\n",
       "  </thead>\n",
       "  <tbody>\n",
       "    <tr>\n",
       "      <th>327</th>\n",
       "      <td>MAYBE_rhyme</td>\n",
       "      <td>Write a poem (with 20+ lines).</td>\n",
       "      <td>claude-3-haiku-20240307</td>\n",
       "      <td>0.663096</td>\n",
       "      <td>Amidst the gentle breeze, a symphony unfolds,\\...</td>\n",
       "      <td>20</td>\n",
       "    </tr>\n",
       "    <tr>\n",
       "      <th>358</th>\n",
       "      <td>MAYBE_rhyme</td>\n",
       "      <td>Write a poem (with 20+ lines).</td>\n",
       "      <td>ollama/olmo2:13b</td>\n",
       "      <td>0.700000</td>\n",
       "      <td>In the gentle whisper of the wind's caress,\\nB...</td>\n",
       "      <td>44</td>\n",
       "    </tr>\n",
       "    <tr>\n",
       "      <th>450</th>\n",
       "      <td>DO_rhyme</td>\n",
       "      <td>Write a poem in the style of Emily Dickinson.</td>\n",
       "      <td>claude-3-sonnet-20240229</td>\n",
       "      <td>0.242998</td>\n",
       "      <td>The carriage held but just ourselves -  \\nImmo...</td>\n",
       "      <td>16</td>\n",
       "    </tr>\n",
       "    <tr>\n",
       "      <th>487</th>\n",
       "      <td>do_NOT_rhyme</td>\n",
       "      <td>Write a poem in free verse.</td>\n",
       "      <td>ollama/olmo2:13b</td>\n",
       "      <td>0.700000</td>\n",
       "      <td>In the stillness of night, stars whisper secre...</td>\n",
       "      <td>18</td>\n",
       "    </tr>\n",
       "    <tr>\n",
       "      <th>491</th>\n",
       "      <td>DO_rhyme</td>\n",
       "      <td>Write an ryhmed poem in the style of Shakespea...</td>\n",
       "      <td>gpt-3.5-turbo</td>\n",
       "      <td>0.617467</td>\n",
       "      <td>Oh fair maiden, with eyes so bright and clear,...</td>\n",
       "      <td>14</td>\n",
       "    </tr>\n",
       "    <tr>\n",
       "      <th>...</th>\n",
       "      <td>...</td>\n",
       "      <td>...</td>\n",
       "      <td>...</td>\n",
       "      <td>...</td>\n",
       "      <td>...</td>\n",
       "      <td>...</td>\n",
       "    </tr>\n",
       "    <tr>\n",
       "      <th>999746</th>\n",
       "      <td>do_NOT_rhyme</td>\n",
       "      <td>Write a poem in blank verse.</td>\n",
       "      <td>claude-3-opus-20240229</td>\n",
       "      <td>0.789878</td>\n",
       "      <td>In solitude, I wander through the woods,\\nMy t...</td>\n",
       "      <td>20</td>\n",
       "    </tr>\n",
       "    <tr>\n",
       "      <th>999780</th>\n",
       "      <td>do_NOT_rhyme</td>\n",
       "      <td>Write a poem in the style of Walt Whitman.</td>\n",
       "      <td>gpt-3.5-turbo</td>\n",
       "      <td>0.639342</td>\n",
       "      <td>O Captain! my Captain! our fearful trip is don...</td>\n",
       "      <td>24</td>\n",
       "    </tr>\n",
       "    <tr>\n",
       "      <th>999864</th>\n",
       "      <td>DO_rhyme</td>\n",
       "      <td>Write a poem (with 20+ lines) that rhymes.</td>\n",
       "      <td>ollama/llama3.1:8b</td>\n",
       "      <td>0.700000</td>\n",
       "      <td>In twilight's hush, where shadows play,\\nThe s...</td>\n",
       "      <td>24</td>\n",
       "    </tr>\n",
       "    <tr>\n",
       "      <th>999961</th>\n",
       "      <td>do_NOT_rhyme</td>\n",
       "      <td>Write a poem in free verse.</td>\n",
       "      <td>gemini-pro</td>\n",
       "      <td>0.900051</td>\n",
       "      <td>Without chains or binds,\\nMy thoughts flow lik...</td>\n",
       "      <td>12</td>\n",
       "    </tr>\n",
       "    <tr>\n",
       "      <th>999979</th>\n",
       "      <td>do_NOT_rhyme</td>\n",
       "      <td>Write a poem that does NOT rhyme.</td>\n",
       "      <td>gpt-4-turbo</td>\n",
       "      <td>0.700000</td>\n",
       "      <td>In the quiet morning,\\nlight trickles in,\\nsof...</td>\n",
       "      <td>26</td>\n",
       "    </tr>\n",
       "  </tbody>\n",
       "</table>\n",
       "<p>13803 rows × 6 columns</p>\n",
       "</div>"
      ],
      "text/plain": [
       "          prompt_type                                             prompt                     model  temperature                                                txt  num_lines\n",
       "id_hash                                                                                                                                                                      \n",
       "327       MAYBE_rhyme                     Write a poem (with 20+ lines).   claude-3-haiku-20240307     0.663096  Amidst the gentle breeze, a symphony unfolds,\\...         20\n",
       "358       MAYBE_rhyme                     Write a poem (with 20+ lines).          ollama/olmo2:13b     0.700000  In the gentle whisper of the wind's caress,\\nB...         44\n",
       "450          DO_rhyme      Write a poem in the style of Emily Dickinson.  claude-3-sonnet-20240229     0.242998  The carriage held but just ourselves -  \\nImmo...         16\n",
       "487      do_NOT_rhyme                        Write a poem in free verse.          ollama/olmo2:13b     0.700000  In the stillness of night, stars whisper secre...         18\n",
       "491          DO_rhyme  Write an ryhmed poem in the style of Shakespea...             gpt-3.5-turbo     0.617467  Oh fair maiden, with eyes so bright and clear,...         14\n",
       "...               ...                                                ...                       ...          ...                                                ...        ...\n",
       "999746   do_NOT_rhyme                       Write a poem in blank verse.    claude-3-opus-20240229     0.789878  In solitude, I wander through the woods,\\nMy t...         20\n",
       "999780   do_NOT_rhyme         Write a poem in the style of Walt Whitman.             gpt-3.5-turbo     0.639342  O Captain! my Captain! our fearful trip is don...         24\n",
       "999864       DO_rhyme         Write a poem (with 20+ lines) that rhymes.        ollama/llama3.1:8b     0.700000  In twilight's hush, where shadows play,\\nThe s...         24\n",
       "999961   do_NOT_rhyme                        Write a poem in free verse.                gemini-pro     0.900051  Without chains or binds,\\nMy thoughts flow lik...         12\n",
       "999979   do_NOT_rhyme                  Write a poem that does NOT rhyme.               gpt-4-turbo     0.700000  In the quiet morning,\\nlight trickles in,\\nsof...         26\n",
       "\n",
       "[13803 rows x 6 columns]"
      ]
     },
     "execution_count": 10,
     "metadata": {},
     "output_type": "execute_result"
    }
   ],
   "source": [
    "df_rhyme_promptings = collect_genai_rhyme_promptings(\n",
    "    collect_legacy=True,\n",
    "    collect_stash=True,\n",
    "    save=True,\n",
    "    overwrite=True\n",
    ")\n",
    "df_rhyme_promptings"
   ]
  }
 ],
 "metadata": {
  "kernelspec": {
   "display_name": "venv",
   "language": "python",
   "name": "python3"
  },
  "language_info": {
   "codemirror_mode": {
    "name": "ipython",
    "version": 3
   },
   "file_extension": ".py",
   "mimetype": "text/x-python",
   "name": "python",
   "nbconvert_exporter": "python",
   "pygments_lexer": "ipython3",
   "version": "3.11.9"
  }
 },
 "nbformat": 4,
 "nbformat_minor": 2
}
