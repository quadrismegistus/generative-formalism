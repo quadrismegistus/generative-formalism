{
 "cells": [
  {
   "cell_type": "code",
   "execution_count": 1,
   "id": "4008c3df",
   "metadata": {},
   "outputs": [],
   "source": [
    "# Code\n",
    "import sys\n",
    "sys.path.append('../')\n",
    "from generative_formalism import *\n"
   ]
  },
  {
   "cell_type": "code",
   "execution_count": 2,
   "id": "2a633e54",
   "metadata": {},
   "outputs": [],
   "source": [
    "def save_latex_table_of_period_sample():\n",
    "    df_smpl = get_chadwyck_corpus_sampled_by('period')\n",
    "    path = get_path_for_df(df_smpl, is_table=True)\n",
    "    return get_period_subcorpus_table(df_smpl, save_latex_to=path, return_display=True)\n",
    "\n",
    "def save_latex_table_of_rhyme_promptings():\n",
    "    df = get_genai_rhyme_promptings()\n",
    "    return get_rhyme_promptings_table(df, return_display=True)\n",
    "\n",
    "def save_latex_table_of_num_poems_per_model():\n",
    "    df = get_genai_rhyme_promptings()\n",
    "    return get_num_poems_per_model_table(df, return_display=True)"
   ]
  },
  {
   "cell_type": "code",
   "execution_count": 3,
   "id": "b5648cf3",
   "metadata": {},
   "outputs": [],
   "source": [
    "# save_latex_table_of_period_sample()"
   ]
  },
  {
   "cell_type": "code",
   "execution_count": 4,
   "id": "c134d2b7",
   "metadata": {},
   "outputs": [],
   "source": [
    "# save_latex_table_of_num_poems_per_model()"
   ]
  },
  {
   "cell_type": "code",
   "execution_count": 5,
   "id": "eb24dc8f",
   "metadata": {},
   "outputs": [],
   "source": [
    "# save_latex_table_of_num_poems_per_model()"
   ]
  },
  {
   "cell_type": "code",
   "execution_count": 6,
   "id": "078f0459",
   "metadata": {},
   "outputs": [],
   "source": [
    "def save_latex_table_of_num_poems_completed_per_model():\n",
    "    df = get_genai_rhyme_completions(by_line=False)\n",
    "    df['model2'] = df.model.apply(rename_model)\n",
    "    df = df[df.model2 != '']\n",
    "    df_counts = df.groupby(['model2','period']).size().unstack().T\n",
    "    return get_num_poems_completed_per_model_table(df_counts, return_display=True)\n"
   ]
  },
  {
   "cell_type": "code",
   "execution_count": 7,
   "id": "409de918",
   "metadata": {},
   "outputs": [],
   "source": [
    "# save_latex_table_of_num_poems_completed_per_model()\n"
   ]
  },
  {
   "cell_type": "code",
   "execution_count": 8,
   "id": "bbc9fa4c",
   "metadata": {},
   "outputs": [],
   "source": [
    "def save_latex_table_of_rhyming_accuracy():\n",
    "    df_smpl = get_chadwyck_corpus_sampled_by('rhyme')\n",
    "    df_smpl_rhyme = get_rhyme_for_sample(df_smpl, with_sample=True)\n",
    "    df_preds = get_rhyming_accuracy_by_rhyme_threshold(df_smpl_rhyme)\n",
    "    df_preds_tbl = df_preds.reset_index().drop('pred_by',axis=1)[['opt','precision','recall','f1_score',]].set_index('opt').sort_index()\n",
    "    df_preds_tbl.columns = ['Precision', 'Recall', 'F1 score']\n",
    "    df_preds_tbl.rename_axis('# Rhymes per 10 lines', inplace=True)\n",
    "    df_preds_tbl = df_preds_tbl.round(2).applymap(lambda x: f'{x*100:.0f}%')\n",
    "    return get_rhyme_accuracy_table(df_preds_tbl)"
   ]
  },
  {
   "cell_type": "code",
   "execution_count": 9,
   "id": "0740aaba",
   "metadata": {},
   "outputs": [],
   "source": [
    "# save_latex_table_of_rhyming_accuracy()"
   ]
  },
  {
   "cell_type": "code",
   "execution_count": null,
   "id": "87d5192a",
   "metadata": {},
   "outputs": [],
   "source": []
  },
  {
   "cell_type": "code",
   "execution_count": 10,
   "id": "29c716e2",
   "metadata": {},
   "outputs": [],
   "source": [
    "def save_latex_table_of_memorization():\n",
    "    df_mem = get_all_memorization_data()\n",
    "    df_mem = df_mem[df_mem.found_source_corpus.str.contains('chadwyck')]\n",
    "    df_mem['found'] = df_mem.found.map({False:'Not found', True:'Found'})\n",
    "    df_mem['found_source'] = df_mem.found_source.map({'closed':'Closed model output', 'open':'Open training data'})\n",
    "    df_mem = df_mem.rename(columns={'period':'Period'})\n",
    "    df_counts = df_mem.groupby(['found_source', 'found', 'Period']).size().unstack().T\n",
    "    return get_memorization_table(df_counts, return_display=True)\n"
   ]
  },
  {
   "cell_type": "code",
   "execution_count": 11,
   "id": "c5186e18",
   "metadata": {},
   "outputs": [],
   "source": [
    "# df_sonnets = get_sonnet_rhythm_data()\n",
    "# df_sonnets['source2'] = df_sonnets.source.map({'chadwyck':'Historical', 'shakespeare':'Historical', 'genai':'LLM'})\n",
    "\n",
    "# def get_cent(period):\n",
    "#     y=int(period[:2])\n",
    "#     return f'C{y+1}'\n",
    "\n",
    "# def get_model2(row):\n",
    "#     if row.source2 == 'LLM':\n",
    "#         return rename_model(row.model)\n",
    "#     elif row.source == 'shakespeare':\n",
    "#         return 'Shakespeare'\n",
    "#     else:\n",
    "#         return get_cent(row.period)\n",
    "\n",
    "# df_sonnets['model2'] = df_sonnets.apply(get_model2, axis=1)\n",
    "# odf = df_sonnets.groupby(['source2', 'model2']).size().reset_index()\n",
    "# odf.columns = ['Source', '', '# Sonnets']\n",
    "# odf = odf.set_index(['Source', ''])\n",
    "# print(odf)"
   ]
  },
  {
   "cell_type": "code",
   "execution_count": 12,
   "id": "461c98c1",
   "metadata": {},
   "outputs": [],
   "source": [
    "# In your notebook:\n",
    "def save_latex_table_of_sonnets():\n",
    "    df_sonnets = get_sonnet_rhythm_data()\n",
    "    df_sonnets['source2'] = df_sonnets.source.map({'chadwyck':'Historical', 'shakespeare':'Historical', 'genai':'LLM'})\n",
    "    \n",
    "    def get_cent(period):\n",
    "        y=int(period[:2])\n",
    "        return f'C{y+1}'\n",
    "    \n",
    "    def get_model2(row):\n",
    "        if row.source2 == 'LLM':\n",
    "            return rename_model(row.model)\n",
    "        elif row.source == 'shakespeare':\n",
    "            return 'Shakespeare'\n",
    "        else:\n",
    "            return get_cent(row.period)\n",
    "    \n",
    "    df_sonnets['model2'] = df_sonnets.apply(get_model2, axis=1)\n",
    "    odf = df_sonnets.groupby(['source2', 'model2']).size().reset_index()\n",
    "    odf.columns = ['Source', '', '# Sonnets']\n",
    "    odf = odf.set_index(['Source', ''])\n",
    "    return get_sonnets_table(odf, return_display=True)"
   ]
  },
  {
   "cell_type": "code",
   "execution_count": 13,
   "id": "081e1952",
   "metadata": {},
   "outputs": [
    {
     "data": {
      "text/markdown": [
       "* Loading sonnet rhythm data from `{REPO}/data/data_as_in_paper/sonnet_rhythm_data_by_sonnet_period.csv.gz`"
      ],
      "text/plain": [
       "<IPython.core.display.Markdown object>"
      ]
     },
     "metadata": {},
     "output_type": "display_data"
    },
    {
     "data": {
      "text/markdown": [
       "* LaTeX compile failed: Command '['/Library/TeX/texbin/pdflatex', '-interaction=nonstopmode', '-halt-on-error', 'table.tex']' returned non-zero exit status 1."
      ],
      "text/plain": [
       "<IPython.core.display.Markdown object>"
      ]
     },
     "metadata": {},
     "output_type": "display_data"
    },
    {
     "data": {
      "text/plain": [
       "'/Users/ryan/github/generative-formalism/data/data_as_in_paper/tex/table.sonnets.tex'"
      ]
     },
     "execution_count": 13,
     "metadata": {},
     "output_type": "execute_result"
    }
   ],
   "source": [
    "save_latex_table_of_sonnets()"
   ]
  },
  {
   "cell_type": "code",
   "execution_count": 21,
   "id": "f38d9e66",
   "metadata": {},
   "outputs": [],
   "source": [
    "def save_latex_table_of_text_vs_instruct_completions():\n",
    "    df = get_text_vs_instruct_completions()\n",
    "    df_counts = df.groupby(['model','period']).size().unstack().T\n",
    "    return get_text_vs_instruct_table(df_counts, return_display=True)"
   ]
  },
  {
   "cell_type": "code",
   "execution_count": 22,
   "id": "4664077b",
   "metadata": {},
   "outputs": [
    {
     "ename": "NameError",
     "evalue": "name 'get_text_vs_instruct_table' is not defined",
     "output_type": "error",
     "traceback": [
      "\u001b[31m---------------------------------------------------------------------------\u001b[39m",
      "\u001b[31mNameError\u001b[39m                                 Traceback (most recent call last)",
      "\u001b[36mCell\u001b[39m\u001b[36m \u001b[39m\u001b[32mIn[22]\u001b[39m\u001b[32m, line 1\u001b[39m\n\u001b[32m----> \u001b[39m\u001b[32m1\u001b[39m \u001b[43msave_latex_table_of_text_vs_instruct_completions\u001b[49m\u001b[43m(\u001b[49m\u001b[43m)\u001b[49m\n",
      "\u001b[36mCell\u001b[39m\u001b[36m \u001b[39m\u001b[32mIn[21]\u001b[39m\u001b[32m, line 4\u001b[39m, in \u001b[36msave_latex_table_of_text_vs_instruct_completions\u001b[39m\u001b[34m()\u001b[39m\n\u001b[32m      2\u001b[39m df = get_text_vs_instruct_completions()\n\u001b[32m      3\u001b[39m df_counts = df.groupby([\u001b[33m'\u001b[39m\u001b[33mmodel\u001b[39m\u001b[33m'\u001b[39m,\u001b[33m'\u001b[39m\u001b[33mperiod\u001b[39m\u001b[33m'\u001b[39m]).size().unstack().T\n\u001b[32m----> \u001b[39m\u001b[32m4\u001b[39m \u001b[38;5;28;01mreturn\u001b[39;00m \u001b[43mget_text_vs_instruct_table\u001b[49m(df_counts, return_display=\u001b[38;5;28;01mTrue\u001b[39;00m)\n",
      "\u001b[31mNameError\u001b[39m: name 'get_text_vs_instruct_table' is not defined"
     ]
    }
   ],
   "source": [
    "save_latex_table_of_text_vs_instruct_completions()"
   ]
  },
  {
   "cell_type": "code",
   "execution_count": null,
   "id": "584449bd",
   "metadata": {},
   "outputs": [],
   "source": []
  }
 ],
 "metadata": {
  "kernelspec": {
   "display_name": "venv",
   "language": "python",
   "name": "python3"
  },
  "language_info": {
   "codemirror_mode": {
    "name": "ipython",
    "version": 3
   },
   "file_extension": ".py",
   "mimetype": "text/x-python",
   "name": "python",
   "nbconvert_exporter": "python",
   "pygments_lexer": "ipython3",
   "version": "3.11.7"
  }
 },
 "nbformat": 4,
 "nbformat_minor": 5
}
