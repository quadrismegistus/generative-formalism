{
 "cells": [
  {
   "cell_type": "code",
   "execution_count": 3,
   "id": "4008c3df",
   "metadata": {},
   "outputs": [],
   "source": [
    "# Code\n",
    "import sys\n",
    "sys.path.append('../')\n",
    "from generative_formalism import *\n"
   ]
  },
  {
   "cell_type": "code",
   "execution_count": null,
   "id": "b485a250",
   "metadata": {},
   "outputs": [
    {
     "data": {
      "text/markdown": [
       "* Loading sonnet rhythm data from `{REPO}/data/data_as_in_paper/sonnet_rhythm_data_by_sonnet_period.csv.gz`"
      ],
      "text/plain": [
       "<IPython.core.display.Markdown object>"
      ]
     },
     "metadata": {},
     "output_type": "display_data"
    },
    {
     "data": {
      "text/html": [
       "<div>\n",
       "<style scoped>\n",
       "    .dataframe tbody tr th:only-of-type {\n",
       "        vertical-align: middle;\n",
       "    }\n",
       "\n",
       "    .dataframe tbody tr th {\n",
       "        vertical-align: top;\n",
       "    }\n",
       "\n",
       "    .dataframe thead th {\n",
       "        text-align: right;\n",
       "    }\n",
       "</style>\n",
       "<table border=\"1\" class=\"dataframe\">\n",
       "  <thead>\n",
       "    <tr style=\"text-align: right;\">\n",
       "      <th></th>\n",
       "      <th>stanza_num</th>\n",
       "      <th>line_num</th>\n",
       "      <th>line_txt</th>\n",
       "      <th>linepart_num</th>\n",
       "      <th>parse_rank</th>\n",
       "      <th>parse_txt</th>\n",
       "      <th>is_iambic_pentameter</th>\n",
       "      <th>is_unambigously_iambic_pentameter</th>\n",
       "      <th>syll01_stress</th>\n",
       "      <th>syll02_stress</th>\n",
       "      <th>syll03_stress</th>\n",
       "      <th>syll04_stress</th>\n",
       "      <th>syll05_stress</th>\n",
       "      <th>forth_syllable_stressed</th>\n",
       "      <th>num_pos_ww</th>\n",
       "      <th>num_pos</th>\n",
       "      <th>num_sylls</th>\n",
       "      <th>perc_ww_in_meter</th>\n",
       "      <th>syll06_stress</th>\n",
       "      <th>syll07_stress</th>\n",
       "      <th>syll08_stress</th>\n",
       "      <th>syll09_stress</th>\n",
       "      <th>syll10_stress</th>\n",
       "      <th>id_hash</th>\n",
       "      <th>period_meta</th>\n",
       "      <th>subcorpus</th>\n",
       "      <th>author</th>\n",
       "      <th>author_dob</th>\n",
       "      <th>title</th>\n",
       "      <th>year</th>\n",
       "      <th>num_lines</th>\n",
       "      <th>volume</th>\n",
       "      <th>line</th>\n",
       "      <th>rhyme</th>\n",
       "      <th>genre</th>\n",
       "      <th>period</th>\n",
       "      <th>txt</th>\n",
       "      <th>group</th>\n",
       "      <th>source</th>\n",
       "      <th>data_source</th>\n",
       "      <th>prompt_type</th>\n",
       "      <th>prompt</th>\n",
       "      <th>model</th>\n",
       "      <th>temperature</th>\n",
       "      <th>model_type</th>\n",
       "    </tr>\n",
       "    <tr>\n",
       "      <th>id</th>\n",
       "      <th></th>\n",
       "      <th></th>\n",
       "      <th></th>\n",
       "      <th></th>\n",
       "      <th></th>\n",
       "      <th></th>\n",
       "      <th></th>\n",
       "      <th></th>\n",
       "      <th></th>\n",
       "      <th></th>\n",
       "      <th></th>\n",
       "      <th></th>\n",
       "      <th></th>\n",
       "      <th></th>\n",
       "      <th></th>\n",
       "      <th></th>\n",
       "      <th></th>\n",
       "      <th></th>\n",
       "      <th></th>\n",
       "      <th></th>\n",
       "      <th></th>\n",
       "      <th></th>\n",
       "      <th></th>\n",
       "      <th></th>\n",
       "      <th></th>\n",
       "      <th></th>\n",
       "      <th></th>\n",
       "      <th></th>\n",
       "      <th></th>\n",
       "      <th></th>\n",
       "      <th></th>\n",
       "      <th></th>\n",
       "      <th></th>\n",
       "      <th></th>\n",
       "      <th></th>\n",
       "      <th></th>\n",
       "      <th></th>\n",
       "      <th></th>\n",
       "      <th></th>\n",
       "      <th></th>\n",
       "      <th></th>\n",
       "      <th></th>\n",
       "      <th></th>\n",
       "      <th></th>\n",
       "      <th></th>\n",
       "    </tr>\n",
       "  </thead>\n",
       "  <tbody>\n",
       "    <tr>\n",
       "      <th>english/smithcha/Z300489005</th>\n",
       "      <td>1</td>\n",
       "      <td>1</td>\n",
       "      <td>Mute is thy wild harp, now, O Bard sublime!</td>\n",
       "      <td>1</td>\n",
       "      <td>1</td>\n",
       "      <td>MUTE is.thy WILD harp NOW o BARD su BLIME</td>\n",
       "      <td>0</td>\n",
       "      <td>0</td>\n",
       "      <td>1</td>\n",
       "      <td>0</td>\n",
       "      <td>0</td>\n",
       "      <td>1</td>\n",
       "      <td>1.0</td>\n",
       "      <td>1</td>\n",
       "      <td>1</td>\n",
       "      <td>9</td>\n",
       "      <td>10</td>\n",
       "      <td>0.111111</td>\n",
       "      <td>1.0</td>\n",
       "      <td>0.0</td>\n",
       "      <td>1.0</td>\n",
       "      <td>0.0</td>\n",
       "      <td>1.0</td>\n",
       "      <td>2155</td>\n",
       "      <td>1750-1799 Later Eighteenth-Century</td>\n",
       "      <td>English Poetry</td>\n",
       "      <td>Smith, Charlotte Turner, 1749-1806</td>\n",
       "      <td>1749.0</td>\n",
       "      <td>SONNET LXXXII. TO THE SHADE OF BURNS.</td>\n",
       "      <td>1779.0</td>\n",
       "      <td>14.0</td>\n",
       "      <td>Elegiac sonnets (1797–1800)</td>\n",
       "      <td>&amp;indent;Who, amid Scotia's mountain solitude,</td>\n",
       "      <td>y</td>\n",
       "      <td>Sonnet</td>\n",
       "      <td>1700-1750</td>\n",
       "      <td>Mute is thy wild harp, now, O Bard sublime!\\n ...</td>\n",
       "      <td>C17-19</td>\n",
       "      <td>chadwyck</td>\n",
       "      <td>NaN</td>\n",
       "      <td>NaN</td>\n",
       "      <td>NaN</td>\n",
       "      <td>NaN</td>\n",
       "      <td>NaN</td>\n",
       "      <td>NaN</td>\n",
       "    </tr>\n",
       "    <tr>\n",
       "      <th>english/keatsjoh/Z200408021</th>\n",
       "      <td>1</td>\n",
       "      <td>1</td>\n",
       "      <td>Four seasons fill the measure of the year;</td>\n",
       "      <td>1</td>\n",
       "      <td>1</td>\n",
       "      <td>four SEA sons FILL the MEA sure OF the YEAR</td>\n",
       "      <td>1</td>\n",
       "      <td>0</td>\n",
       "      <td>1</td>\n",
       "      <td>1</td>\n",
       "      <td>0</td>\n",
       "      <td>1</td>\n",
       "      <td>0.0</td>\n",
       "      <td>1</td>\n",
       "      <td>0</td>\n",
       "      <td>10</td>\n",
       "      <td>10</td>\n",
       "      <td>0.000000</td>\n",
       "      <td>1.0</td>\n",
       "      <td>0.0</td>\n",
       "      <td>0.0</td>\n",
       "      <td>0.0</td>\n",
       "      <td>1.0</td>\n",
       "      <td>3225</td>\n",
       "      <td>1800-1834 Early Nineteenth-Century</td>\n",
       "      <td>English Poetry</td>\n",
       "      <td>Keats, John, 1795-1821</td>\n",
       "      <td>1795.0</td>\n",
       "      <td>SONNET THE HUMAN SEASONS</td>\n",
       "      <td>1825.0</td>\n",
       "      <td>14.0</td>\n",
       "      <td>The Poetical Works (1906)</td>\n",
       "      <td>&amp;indent;There are four seasons in the mind of ...</td>\n",
       "      <td>y</td>\n",
       "      <td>Sonnet</td>\n",
       "      <td>1750-1800</td>\n",
       "      <td>Four seasons fill the measure of the year;\\n  ...</td>\n",
       "      <td>C17-19</td>\n",
       "      <td>chadwyck</td>\n",
       "      <td>NaN</td>\n",
       "      <td>NaN</td>\n",
       "      <td>NaN</td>\n",
       "      <td>NaN</td>\n",
       "      <td>NaN</td>\n",
       "      <td>NaN</td>\n",
       "    </tr>\n",
       "    <tr>\n",
       "      <th>...</th>\n",
       "      <td>...</td>\n",
       "      <td>...</td>\n",
       "      <td>...</td>\n",
       "      <td>...</td>\n",
       "      <td>...</td>\n",
       "      <td>...</td>\n",
       "      <td>...</td>\n",
       "      <td>...</td>\n",
       "      <td>...</td>\n",
       "      <td>...</td>\n",
       "      <td>...</td>\n",
       "      <td>...</td>\n",
       "      <td>...</td>\n",
       "      <td>...</td>\n",
       "      <td>...</td>\n",
       "      <td>...</td>\n",
       "      <td>...</td>\n",
       "      <td>...</td>\n",
       "      <td>...</td>\n",
       "      <td>...</td>\n",
       "      <td>...</td>\n",
       "      <td>...</td>\n",
       "      <td>...</td>\n",
       "      <td>...</td>\n",
       "      <td>...</td>\n",
       "      <td>...</td>\n",
       "      <td>...</td>\n",
       "      <td>...</td>\n",
       "      <td>...</td>\n",
       "      <td>...</td>\n",
       "      <td>...</td>\n",
       "      <td>...</td>\n",
       "      <td>...</td>\n",
       "      <td>...</td>\n",
       "      <td>...</td>\n",
       "      <td>...</td>\n",
       "      <td>...</td>\n",
       "      <td>...</td>\n",
       "      <td>...</td>\n",
       "      <td>...</td>\n",
       "      <td>...</td>\n",
       "      <td>...</td>\n",
       "      <td>...</td>\n",
       "      <td>...</td>\n",
       "      <td>...</td>\n",
       "    </tr>\n",
       "    <tr>\n",
       "      <th>1cacdafb</th>\n",
       "      <td>1</td>\n",
       "      <td>2</td>\n",
       "      <td>Thou dost enthrall my heart and senses bright.</td>\n",
       "      <td>3</td>\n",
       "      <td>1</td>\n",
       "      <td>thou DOST ent HRALL my HEART and SEN ses BRIGHT</td>\n",
       "      <td>1</td>\n",
       "      <td>1</td>\n",
       "      <td>0</td>\n",
       "      <td>1</td>\n",
       "      <td>0</td>\n",
       "      <td>1</td>\n",
       "      <td>0.0</td>\n",
       "      <td>1</td>\n",
       "      <td>0</td>\n",
       "      <td>10</td>\n",
       "      <td>10</td>\n",
       "      <td>0.000000</td>\n",
       "      <td>1.0</td>\n",
       "      <td>0.0</td>\n",
       "      <td>1.0</td>\n",
       "      <td>0.0</td>\n",
       "      <td>1.0</td>\n",
       "      <td>996436</td>\n",
       "      <td>NaN</td>\n",
       "      <td>NaN</td>\n",
       "      <td>NaN</td>\n",
       "      <td>NaN</td>\n",
       "      <td>NaN</td>\n",
       "      <td>NaN</td>\n",
       "      <td>14.0</td>\n",
       "      <td>NaN</td>\n",
       "      <td>NaN</td>\n",
       "      <td>NaN</td>\n",
       "      <td>NaN</td>\n",
       "      <td>NaN</td>\n",
       "      <td>Fairest maiden, with thy beauty's might,\\nThou...</td>\n",
       "      <td>LLM</td>\n",
       "      <td>genai</td>\n",
       "      <td>in_paper</td>\n",
       "      <td>DO_rhyme</td>\n",
       "      <td>Write an ryhmed poem in the style of Shakespea...</td>\n",
       "      <td>ollama/llama3.1:70b</td>\n",
       "      <td>0.7</td>\n",
       "      <td>Llama</td>\n",
       "    </tr>\n",
       "    <tr>\n",
       "      <th>cbf384da</th>\n",
       "      <td>1</td>\n",
       "      <td>2</td>\n",
       "      <td>Thou dost entice my heart to a sweet place,</td>\n",
       "      <td>3</td>\n",
       "      <td>1</td>\n",
       "      <td>thou DOST en TICE my HEART to.a SWEET place</td>\n",
       "      <td>0</td>\n",
       "      <td>0</td>\n",
       "      <td>0</td>\n",
       "      <td>1</td>\n",
       "      <td>0</td>\n",
       "      <td>1</td>\n",
       "      <td>0.0</td>\n",
       "      <td>1</td>\n",
       "      <td>1</td>\n",
       "      <td>9</td>\n",
       "      <td>10</td>\n",
       "      <td>0.111111</td>\n",
       "      <td>1.0</td>\n",
       "      <td>0.0</td>\n",
       "      <td>0.0</td>\n",
       "      <td>1.0</td>\n",
       "      <td>1.0</td>\n",
       "      <td>999252</td>\n",
       "      <td>NaN</td>\n",
       "      <td>NaN</td>\n",
       "      <td>NaN</td>\n",
       "      <td>NaN</td>\n",
       "      <td>NaN</td>\n",
       "      <td>NaN</td>\n",
       "      <td>14.0</td>\n",
       "      <td>NaN</td>\n",
       "      <td>NaN</td>\n",
       "      <td>NaN</td>\n",
       "      <td>NaN</td>\n",
       "      <td>NaN</td>\n",
       "      <td>Fairest beauty, with thy lovely face,\\nThou do...</td>\n",
       "      <td>LLM</td>\n",
       "      <td>genai</td>\n",
       "      <td>in_paper</td>\n",
       "      <td>DO_rhyme</td>\n",
       "      <td>Write an ryhmed poem in the style of Shakespea...</td>\n",
       "      <td>ollama/llama3.1:8b</td>\n",
       "      <td>0.7</td>\n",
       "      <td>Llama</td>\n",
       "    </tr>\n",
       "  </tbody>\n",
       "</table>\n",
       "<p>1571 rows × 45 columns</p>\n",
       "</div>"
      ],
      "text/plain": [
       "                             stanza_num  line_num                                        line_txt  linepart_num  parse_rank                                        parse_txt  is_iambic_pentameter  \\\n",
       "id                                                                                                                                                                                                   \n",
       "english/smithcha/Z300489005           1         1     Mute is thy wild harp, now, O Bard sublime!             1           1        MUTE is.thy WILD harp NOW o BARD su BLIME                     0   \n",
       "english/keatsjoh/Z200408021           1         1      Four seasons fill the measure of the year;             1           1      four SEA sons FILL the MEA sure OF the YEAR                     1   \n",
       "...                                 ...       ...                                             ...           ...         ...                                              ...                   ...   \n",
       "1cacdafb                              1         2  Thou dost enthrall my heart and senses bright.             3           1  thou DOST ent HRALL my HEART and SEN ses BRIGHT                     1   \n",
       "cbf384da                              1         2     Thou dost entice my heart to a sweet place,             3           1      thou DOST en TICE my HEART to.a SWEET place                     0   \n",
       "\n",
       "                             is_unambigously_iambic_pentameter  syll01_stress  syll02_stress  syll03_stress  syll04_stress  syll05_stress  forth_syllable_stressed  num_pos_ww  num_pos  num_sylls  \\\n",
       "id                                                                                                                                                                                                   \n",
       "english/smithcha/Z300489005                                  0              1              0              0              1            1.0                        1           1        9         10   \n",
       "english/keatsjoh/Z200408021                                  0              1              1              0              1            0.0                        1           0       10         10   \n",
       "...                                                        ...            ...            ...            ...            ...            ...                      ...         ...      ...        ...   \n",
       "1cacdafb                                                     1              0              1              0              1            0.0                        1           0       10         10   \n",
       "cbf384da                                                     0              0              1              0              1            0.0                        1           1        9         10   \n",
       "\n",
       "                             perc_ww_in_meter  syll06_stress  syll07_stress  syll08_stress  syll09_stress  syll10_stress  id_hash                         period_meta       subcorpus  \\\n",
       "id                                                                                                                                                                                      \n",
       "english/smithcha/Z300489005          0.111111            1.0            0.0            1.0            0.0            1.0     2155  1750-1799 Later Eighteenth-Century  English Poetry   \n",
       "english/keatsjoh/Z200408021          0.000000            1.0            0.0            0.0            0.0            1.0     3225  1800-1834 Early Nineteenth-Century  English Poetry   \n",
       "...                                       ...            ...            ...            ...            ...            ...      ...                                 ...             ...   \n",
       "1cacdafb                             0.000000            1.0            0.0            1.0            0.0            1.0   996436                                 NaN             NaN   \n",
       "cbf384da                             0.111111            1.0            0.0            0.0            1.0            1.0   999252                                 NaN             NaN   \n",
       "\n",
       "                                                         author  author_dob                                  title    year  num_lines                       volume  \\\n",
       "id                                                                                                                                                                   \n",
       "english/smithcha/Z300489005  Smith, Charlotte Turner, 1749-1806      1749.0  SONNET LXXXII. TO THE SHADE OF BURNS.  1779.0       14.0  Elegiac sonnets (1797–1800)   \n",
       "english/keatsjoh/Z200408021              Keats, John, 1795-1821      1795.0               SONNET THE HUMAN SEASONS  1825.0       14.0    The Poetical Works (1906)   \n",
       "...                                                         ...         ...                                    ...     ...        ...                          ...   \n",
       "1cacdafb                                                    NaN         NaN                                    NaN     NaN       14.0                          NaN   \n",
       "cbf384da                                                    NaN         NaN                                    NaN     NaN       14.0                          NaN   \n",
       "\n",
       "                                                                          line rhyme   genre     period                                                txt   group    source data_source prompt_type  \\\n",
       "id                                                                                                                                                                                                     \n",
       "english/smithcha/Z300489005      &indent;Who, amid Scotia's mountain solitude,     y  Sonnet  1700-1750  Mute is thy wild harp, now, O Bard sublime!\\n ...  C17-19  chadwyck         NaN         NaN   \n",
       "english/keatsjoh/Z200408021  &indent;There are four seasons in the mind of ...     y  Sonnet  1750-1800  Four seasons fill the measure of the year;\\n  ...  C17-19  chadwyck         NaN         NaN   \n",
       "...                                                                        ...   ...     ...        ...                                                ...     ...       ...         ...         ...   \n",
       "1cacdafb                                                                   NaN   NaN     NaN        NaN  Fairest maiden, with thy beauty's might,\\nThou...     LLM     genai    in_paper    DO_rhyme   \n",
       "cbf384da                                                                   NaN   NaN     NaN        NaN  Fairest beauty, with thy lovely face,\\nThou do...     LLM     genai    in_paper    DO_rhyme   \n",
       "\n",
       "                                                                        prompt                model  temperature model_type  \n",
       "id                                                                                                                           \n",
       "english/smithcha/Z300489005                                                NaN                  NaN          NaN        NaN  \n",
       "english/keatsjoh/Z200408021                                                NaN                  NaN          NaN        NaN  \n",
       "...                                                                        ...                  ...          ...        ...  \n",
       "1cacdafb                     Write an ryhmed poem in the style of Shakespea...  ollama/llama3.1:70b          0.7      Llama  \n",
       "cbf384da                     Write an ryhmed poem in the style of Shakespea...   ollama/llama3.1:8b          0.7      Llama  \n",
       "\n",
       "[1571 rows x 45 columns]"
      ]
     },
     "execution_count": 6,
     "metadata": {},
     "output_type": "execute_result"
    }
   ],
   "source": []
  },
  {
   "cell_type": "code",
   "execution_count": 2,
   "id": "2a633e54",
   "metadata": {},
   "outputs": [],
   "source": [
    "def save_latex_table_of_period_sample():\n",
    "    df_smpl = get_chadwyck_corpus_sampled_by('period')\n",
    "    path = get_path_for_df(df_smpl, is_table=True)\n",
    "    return get_period_subcorpus_table(df_smpl, save_latex_to=path, return_display=True)\n",
    "\n",
    "def save_latex_table_of_rhyme_promptings():\n",
    "    df = get_genai_rhyme_promptings()\n",
    "    return get_rhyme_promptings_table(df, return_display=True)\n",
    "\n",
    "def save_latex_table_of_num_poems_per_model():\n",
    "    df = get_genai_rhyme_promptings()\n",
    "    return get_num_poems_per_model_table(df, return_display=True)"
   ]
  },
  {
   "cell_type": "code",
   "execution_count": 3,
   "id": "b5648cf3",
   "metadata": {},
   "outputs": [],
   "source": [
    "# save_latex_table_of_period_sample()"
   ]
  },
  {
   "cell_type": "code",
   "execution_count": 4,
   "id": "c134d2b7",
   "metadata": {},
   "outputs": [],
   "source": [
    "# save_latex_table_of_num_poems_per_model()"
   ]
  },
  {
   "cell_type": "code",
   "execution_count": 5,
   "id": "eb24dc8f",
   "metadata": {},
   "outputs": [],
   "source": [
    "# save_latex_table_of_num_poems_per_model()"
   ]
  },
  {
   "cell_type": "code",
   "execution_count": 6,
   "id": "078f0459",
   "metadata": {},
   "outputs": [],
   "source": [
    "def save_latex_table_of_num_poems_completed_per_model():\n",
    "    df = get_genai_rhyme_completions(by_line=False)\n",
    "    df['model2'] = df.model.apply(rename_model)\n",
    "    df = df[df.model2 != '']\n",
    "    df_counts = df.groupby(['model2','period']).size().unstack().T\n",
    "    return get_num_poems_completed_per_model_table(df_counts, return_display=True)\n"
   ]
  },
  {
   "cell_type": "code",
   "execution_count": 7,
   "id": "409de918",
   "metadata": {},
   "outputs": [],
   "source": [
    "# save_latex_table_of_num_poems_completed_per_model()\n"
   ]
  },
  {
   "cell_type": "code",
   "execution_count": 8,
   "id": "bbc9fa4c",
   "metadata": {},
   "outputs": [],
   "source": [
    "def save_latex_table_of_rhyming_accuracy():\n",
    "    df_smpl = get_chadwyck_corpus_sampled_by('rhyme')\n",
    "    df_smpl_rhyme = get_rhyme_for_sample(df_smpl, with_sample=True)\n",
    "    df_preds = get_rhyming_accuracy_by_rhyme_threshold(df_smpl_rhyme)\n",
    "    df_preds_tbl = df_preds.reset_index().drop('pred_by',axis=1)[['opt','precision','recall','f1_score',]].set_index('opt').sort_index()\n",
    "    df_preds_tbl.columns = ['Precision', 'Recall', 'F1 score']\n",
    "    df_preds_tbl.rename_axis('# Rhymes per 10 lines', inplace=True)\n",
    "    df_preds_tbl = df_preds_tbl.round(2).applymap(lambda x: f'{x*100:.0f}%')\n",
    "    return get_rhyme_accuracy_table(df_preds_tbl)"
   ]
  },
  {
   "cell_type": "code",
   "execution_count": 9,
   "id": "0740aaba",
   "metadata": {},
   "outputs": [],
   "source": [
    "# save_latex_table_of_rhyming_accuracy()"
   ]
  },
  {
   "cell_type": "code",
   "execution_count": null,
   "id": "87d5192a",
   "metadata": {},
   "outputs": [],
   "source": []
  },
  {
   "cell_type": "code",
   "execution_count": 10,
   "id": "29c716e2",
   "metadata": {},
   "outputs": [],
   "source": [
    "def save_latex_table_of_memorization():\n",
    "    df_mem = get_all_memorization_data()\n",
    "    df_mem = df_mem[df_mem.found_source_corpus.str.contains('chadwyck')]\n",
    "    df_mem['found'] = df_mem.found.map({False:'Not found', True:'Found'})\n",
    "    df_mem['found_source'] = df_mem.found_source.map({'closed':'Closed model output', 'open':'Open training data'})\n",
    "    df_mem = df_mem.rename(columns={'period':'Period'})\n",
    "    df_counts = df_mem.groupby(['found_source', 'found', 'Period']).size().unstack().T\n",
    "    return get_memorization_table(df_counts, return_display=True)\n"
   ]
  },
  {
   "cell_type": "code",
   "execution_count": 1,
   "id": "c5186e18",
   "metadata": {},
   "outputs": [],
   "source": [
    "# df_sonnets = get_sonnet_rhythm_data()\n",
    "# df_sonnets['source2'] = df_sonnets.source.map({'chadwyck':'Historical', 'shakespeare':'Historical', 'genai':'LLM'})\n",
    "\n",
    "# def get_cent(period):\n",
    "#     y=int(period[:2])\n",
    "#     return f'C{y+1}'\n",
    "\n",
    "# def get_model2(row):\n",
    "#     if row.source2 == 'LLM':\n",
    "#         return rename_model(row.model)\n",
    "#     elif row.source == 'shakespeare':\n",
    "#         return 'Shakespeare'\n",
    "#     else:\n",
    "#         return get_cent(row.period)\n",
    "\n",
    "# df_sonnets['model2'] = df_sonnets.apply(get_model2, axis=1)\n",
    "# odf = df_sonnets.groupby(['source2', 'model2']).size().reset_index()\n",
    "# odf.columns = ['Source', '', '# Sonnets']\n",
    "# odf = odf.set_index(['Source', ''])\n",
    "# print(odf)"
   ]
  },
  {
   "cell_type": "code",
   "execution_count": null,
   "id": "b2c2254e",
   "metadata": {},
   "outputs": [
    {
     "ename": "NameError",
     "evalue": "name 'get_sonnet_rhythm_data' is not defined",
     "output_type": "error",
     "traceback": [
      "\u001b[31m---------------------------------------------------------------------------\u001b[39m",
      "\u001b[31mNameError\u001b[39m                                 Traceback (most recent call last)",
      "\u001b[36mCell\u001b[39m\u001b[36m \u001b[39m\u001b[32mIn[2]\u001b[39m\u001b[32m, line 1\u001b[39m\n\u001b[32m----> \u001b[39m\u001b[32m1\u001b[39m df_sonnets = \u001b[43mget_sonnet_rhythm_data\u001b[49m()\n\u001b[32m      2\u001b[39m df_sonnets\n",
      "\u001b[31mNameError\u001b[39m: name 'get_sonnet_rhythm_data' is not defined"
     ]
    }
   ],
   "source": []
  },
  {
   "cell_type": "code",
   "execution_count": null,
   "id": "461c98c1",
   "metadata": {},
   "outputs": [],
   "source": [
    "# In your notebook:\n",
    "def save_latex_table_of_sonnets():\n",
    "    df_sonnets = get_sonnet_rhythm_data().reset_index().drop_duplicates('id').set_index('id')\n",
    "    df_sonnets['source2'] = df_sonnets.source.map({'chadwyck':'Historical', 'shakespeare':'Historical', 'genai':'LLM'})\n",
    "    \n",
    "    def get_cent(period):\n",
    "        y=int(period[:2])\n",
    "        return f'C{y+1}'\n",
    "    \n",
    "    def get_model2(row):\n",
    "        if row.source2 == 'LLM':\n",
    "            return rename_model(row.model)\n",
    "        elif row.source == 'shakespeare':\n",
    "            return 'Shakespeare'\n",
    "        else:\n",
    "            return get_cent(row.period)\n",
    "    \n",
    "    df_sonnets['model2'] = df_sonnets.apply(get_model2, axis=1)\n",
    "    odf = df_sonnets.groupby(['source2', 'model2']).size().reset_index()\n",
    "    odf.columns = ['Source', '', '# Sonnets']\n",
    "    odf = odf.set_index(['Source', ''])\n",
    "    return get_sonnets_table(odf, return_display=True)"
   ]
  },
  {
   "cell_type": "code",
   "execution_count": 13,
   "id": "081e1952",
   "metadata": {},
   "outputs": [
    {
     "data": {
      "text/markdown": [
       "* Loading sonnet rhythm data from `{REPO}/data/data_as_in_paper/sonnet_rhythm_data_by_sonnet_period.csv.gz`"
      ],
      "text/plain": [
       "<IPython.core.display.Markdown object>"
      ]
     },
     "metadata": {},
     "output_type": "display_data"
    },
    {
     "data": {
      "text/markdown": [
       "* LaTeX compile failed: Command '['/Library/TeX/texbin/pdflatex', '-interaction=nonstopmode', '-halt-on-error', 'table.tex']' returned non-zero exit status 1."
      ],
      "text/plain": [
       "<IPython.core.display.Markdown object>"
      ]
     },
     "metadata": {},
     "output_type": "display_data"
    },
    {
     "data": {
      "text/plain": [
       "'/Users/ryan/github/generative-formalism/data/data_as_in_paper/tex/table.sonnets.tex'"
      ]
     },
     "execution_count": 13,
     "metadata": {},
     "output_type": "execute_result"
    }
   ],
   "source": [
    "save_latex_table_of_sonnets()"
   ]
  },
  {
   "cell_type": "code",
   "execution_count": 14,
   "id": "f38d9e66",
   "metadata": {},
   "outputs": [],
   "source": [
    "def save_latex_table_of_text_vs_instruct_completions():\n",
    "    df = get_text_vs_instruct_completions()\n",
    "    df_counts = df.groupby(['model','period']).size().unstack().T\n",
    "    return get_text_vs_instruct_table(df_counts, return_display=True)"
   ]
  },
  {
   "cell_type": "code",
   "execution_count": 15,
   "id": "4664077b",
   "metadata": {},
   "outputs": [
    {
     "data": {
      "text/markdown": [
       "* Loading genai rhyme completions from `{REPO}/data/data_as_in_paper/genai_rhyme_completions.csv.gz`"
      ],
      "text/plain": [
       "<IPython.core.display.Markdown object>"
      ]
     },
     "metadata": {},
     "output_type": "display_data"
    },
    {
     "data": {
      "application/vnd.jupyter.widget-view+json": {
       "model_id": "9d695012f672471ca451e68563b31444",
       "version_major": 2,
       "version_minor": 0
      },
      "text/plain": [
       "Computing line similarity:   0%|          | 0/326862 [00:00<?, ?it/s]"
      ]
     },
     "metadata": {},
     "output_type": "display_data"
    },
    {
     "data": {
      "application/vnd.jupyter.widget-view+json": {
       "model_id": "e8f8f72735114a629d0ba798530fe7c5",
       "version_major": 2,
       "version_minor": 0
      },
      "text/plain": [
       "Filtering out recognized completions:   0%|          | 0/21130 [00:00<?, ?it/s]"
      ]
     },
     "metadata": {},
     "output_type": "display_data"
    },
    {
     "data": {
      "text/markdown": [
       "* Filtered out 169 recognized poems"
      ],
      "text/plain": [
       "<IPython.core.display.Markdown object>"
      ]
     },
     "metadata": {},
     "output_type": "display_data"
    },
    {
     "data": {
      "text/markdown": [
       "* Converting to poem txt format (not keeping first lines from original poem)"
      ],
      "text/plain": [
       "<IPython.core.display.Markdown object>"
      ]
     },
     "metadata": {},
     "output_type": "display_data"
    },
    {
     "data": {
      "text/markdown": [
       "* Loading from `/Users/ryan/github/generative-formalism/data/raw/corpus/chadwyck_corpus_metadata.csv.gz`"
      ],
      "text/plain": [
       "<IPython.core.display.Markdown object>"
      ]
     },
     "metadata": {},
     "output_type": "display_data"
    },
    {
     "data": {
      "text/markdown": [
       "* LaTeX compile failed: Command '['/Library/TeX/texbin/pdflatex', '-interaction=nonstopmode', '-halt-on-error', 'table.tex']' returned non-zero exit status 1."
      ],
      "text/plain": [
       "<IPython.core.display.Markdown object>"
      ]
     },
     "metadata": {},
     "output_type": "display_data"
    },
    {
     "data": {
      "text/plain": [
       "'/Users/ryan/github/generative-formalism/data/data_as_in_paper/tex/table.text_vs_instruct.tex'"
      ]
     },
     "execution_count": 15,
     "metadata": {},
     "output_type": "execute_result"
    }
   ],
   "source": [
    "save_latex_table_of_text_vs_instruct_completions()"
   ]
  },
  {
   "cell_type": "code",
   "execution_count": null,
   "id": "584449bd",
   "metadata": {},
   "outputs": [],
   "source": []
  }
 ],
 "metadata": {
  "kernelspec": {
   "display_name": "venv",
   "language": "python",
   "name": "python3"
  },
  "language_info": {
   "codemirror_mode": {
    "name": "ipython",
    "version": 3
   },
   "file_extension": ".py",
   "mimetype": "text/x-python",
   "name": "python",
   "nbconvert_exporter": "python",
   "pygments_lexer": "ipython3",
   "version": "3.11.7"
  }
 },
 "nbformat": 4,
 "nbformat_minor": 5
}
