{
 "cells": [
  {
   "cell_type": "markdown",
   "metadata": {},
   "source": [
    "# Corpus: Chadwyck-Healey poetry collections"
   ]
  },
  {
   "cell_type": "markdown",
   "metadata": {},
   "source": [
    "## Loading corpus from source"
   ]
  },
  {
   "cell_type": "code",
   "execution_count": null,
   "metadata": {},
   "outputs": [],
   "source": [
    "import sys\n",
    "sys.path.append('../')\n",
    "from generative_formalism import *\n",
    "\n",
    "# Get the Chadwyck-Healey corpus path\n",
    "print(f\"\"\"{\"✓\" if PATH_CHADWYCK_HEALEY_TXT and os.path.exists(PATH_CHADWYCK_HEALEY_TXT) else \"X\"} Chadwyck-Healey corpus path: {PATH_CHADWYCK_HEALEY_TXT}\"\"\")\n",
    "print(f\"\"\"{\"✓\" if PATH_CHADWYCK_HEALEY_METADATA and os.path.exists(PATH_CHADWYCK_HEALEY_METADATA) else \"X\"} Chadwyck-Healey metadata path: {PATH_CHADWYCK_HEALEY_METADATA}\"\"\")\n",
    "\n",
    "# Download if necessary?\n",
    "print(f\"\"\"{\"✓\" if URL_CHADWYCK_HEALEY_METADATA and URL_CHADWYCK_HEALEY_METADATA else \"X\"} Metadata file URL set in environment (.env or shell)\"\"\")\n",
    "print(f\"\"\"{\"✓\" if URL_CHADWYCK_HEALEY_TXT and URL_CHADWYCK_HEALEY_TXT else \"X\"} Corpus text file URL set in environment (.env or shell)\"\"\")"
   ]
  },
  {
   "cell_type": "code",
   "execution_count": null,
   "metadata": {},
   "outputs": [],
   "source": [
    "printm(f'### Loading corpus metadata')\n",
    "df_meta = get_chadwyck_corpus_metadata()\n",
    "describe_corpus(df_meta)"
   ]
  },
  {
   "cell_type": "code",
   "execution_count": null,
   "metadata": {},
   "outputs": [],
   "source": [
    "printm(f'### Loading corpus text files')\n",
    "df_corpus = get_chadwyck_corpus()\n",
    "df_corpus"
   ]
  },
  {
   "cell_type": "markdown",
   "metadata": {},
   "source": [
    "## Sampling corpus by period"
   ]
  },
  {
   "cell_type": "code",
   "execution_count": null,
   "metadata": {},
   "outputs": [],
   "source": [
    "printm(f'### Loading period sample in paper')\n",
    "df_smpl_by_period_in_paper = get_chadwyck_corpus_sampled_by_period_as_in_paper()\n",
    "assert len(df_smpl_by_period_in_paper) == 8000\n",
    "describe_corpus(df_smpl_by_period_in_paper)"
   ]
  },
  {
   "cell_type": "code",
   "execution_count": 9,
   "metadata": {},
   "outputs": [
    {
     "data": {
      "text/markdown": [
       "### Replicating period sample"
      ],
      "text/plain": [
       "<IPython.core.display.Markdown object>"
      ]
     },
     "metadata": {},
     "output_type": "display_data"
    },
    {
     "name": "stdout",
     "output_type": "stream",
     "text": [
      "* Loading period sample from /Users/rj416/github/generative-formalism/data/corpus_sample_by_period.replicated.csv.gz\n"
     ]
    },
    {
     "data": {
      "text/markdown": [
       "----"
      ],
      "text/plain": [
       "<IPython.core.display.Markdown object>"
      ]
     },
     "metadata": {},
     "output_type": "display_data"
    },
    {
     "data": {
      "text/markdown": [
       "#### Subcorpus breakdown"
      ],
      "text/plain": [
       "<IPython.core.display.Markdown object>"
      ]
     },
     "metadata": {},
     "output_type": "display_data"
    },
    {
     "name": "stdout",
     "output_type": "stream",
     "text": [
      "subcorpus\n",
      "English Poetry              5549\n",
      "American Poetry             1797\n",
      "Modern Poetry                290\n",
      "African-American Poetry      219\n",
      "The Faber Poetry Library     145\n",
      "Name: count, dtype: int64\n",
      "\n"
     ]
    },
    {
     "data": {
      "text/markdown": [
       "----"
      ],
      "text/plain": [
       "<IPython.core.display.Markdown object>"
      ]
     },
     "metadata": {},
     "output_type": "display_data"
    },
    {
     "data": {
      "text/markdown": [
       "#### Historical period breakdown (from metadata)"
      ],
      "text/plain": [
       "<IPython.core.display.Markdown object>"
      ]
     },
     "metadata": {},
     "output_type": "display_data"
    },
    {
     "name": "stdout",
     "output_type": "stream",
     "text": [
      "period_meta\n",
      "1900-1999 Twentieth-Century                    2453\n",
      "1700-1749 Early Eighteenth-Century              998\n",
      "1800-1834 Early Nineteenth-Century              735\n",
      "1835-1869 Mid Nineteenth-Century                666\n",
      "1603-1660 Jacobean and Caroline                 658\n",
      "1750-1799 Later Eighteenth-Century              616\n",
      "1870-1899 Later Nineteenth-Century              565\n",
      "1660-1700 Restoration                           499\n",
      "1550-1900 Miscellanies and Collections           69\n",
      "1500-1700 Emblems, Epigrams, Formal Satires      50\n",
      "1500-1580 Tudor                                  20\n",
      "1880-1901 Late Victorian                          4\n",
      "1860-1880 Mid-Victorian                           2\n",
      "Name: count, dtype: int64\n",
      "\n"
     ]
    },
    {
     "data": {
      "text/markdown": [
       "----"
      ],
      "text/plain": [
       "<IPython.core.display.Markdown object>"
      ]
     },
     "metadata": {},
     "output_type": "display_data"
    },
    {
     "data": {
      "text/markdown": [
       "#### Historical period breakdown (from author birth year)"
      ],
      "text/plain": [
       "<IPython.core.display.Markdown object>"
      ]
     },
     "metadata": {},
     "output_type": "display_data"
    },
    {
     "name": "stdout",
     "output_type": "stream",
     "text": [
      "period\n",
      "1900-1950    1000\n",
      "1800-1850    1000\n",
      "1950-2000    1000\n",
      "1750-1800    1000\n",
      "1850-1900    1000\n",
      "1600-1650    1000\n",
      "1700-1750    1000\n",
      "1650-1700    1000\n",
      "Name: count, dtype: int64\n",
      "\n"
     ]
    },
    {
     "data": {
      "text/markdown": [
       "----"
      ],
      "text/plain": [
       "<IPython.core.display.Markdown object>"
      ]
     },
     "metadata": {},
     "output_type": "display_data"
    },
    {
     "data": {
      "text/markdown": [
       "#### Historical period + subcorpus breakdown"
      ],
      "text/plain": [
       "<IPython.core.display.Markdown object>"
      ]
     },
     "metadata": {},
     "output_type": "display_data"
    },
    {
     "name": "stdout",
     "output_type": "stream",
     "text": [
      "                                    count\n",
      "period    subcorpus                      \n",
      "1600-1650 American Poetry              44\n",
      "          English Poetry              956\n",
      "1650-1700 American Poetry              14\n",
      "          English Poetry              986\n",
      "1700-1750 American Poetry              20\n",
      "          English Poetry              980\n",
      "1750-1800 African-American Poetry       5\n",
      "          American Poetry             192\n",
      "          English Poetry              803\n",
      "1800-1850 African-American Poetry       6\n",
      "          American Poetry             331\n",
      "          English Poetry              663\n",
      "1850-1900 African-American Poetry      53\n",
      "          American Poetry             304\n",
      "          English Poetry              597\n",
      "          Modern Poetry                24\n",
      "          The Faber Poetry Library     22\n",
      "1900-1950 African-American Poetry      46\n",
      "          American Poetry             574\n",
      "          English Poetry              208\n",
      "          Modern Poetry               135\n",
      "          The Faber Poetry Library     37\n",
      "1950-2000 African-American Poetry     109\n",
      "          American Poetry             318\n",
      "          English Poetry              356\n",
      "          Modern Poetry               131\n",
      "          The Faber Poetry Library     86\n",
      "\n"
     ]
    },
    {
     "data": {
      "text/markdown": [
       "----"
      ],
      "text/plain": [
       "<IPython.core.display.Markdown object>"
      ]
     },
     "metadata": {},
     "output_type": "display_data"
    },
    {
     "data": {
      "text/markdown": [
       "#### Author birth year distribution"
      ],
      "text/plain": [
       "<IPython.core.display.Markdown object>"
      ]
     },
     "metadata": {},
     "output_type": "display_data"
    },
    {
     "name": "stdout",
     "output_type": "stream",
     "text": [
      "author_dob\n",
      "1600 ------- [ 1699   | 1799 |   1899 ] -------- 1974\n",
      "\n"
     ]
    },
    {
     "data": {
      "text/markdown": [
       "----"
      ],
      "text/plain": [
       "<IPython.core.display.Markdown object>"
      ]
     },
     "metadata": {},
     "output_type": "display_data"
    },
    {
     "data": {
      "text/markdown": [
       "#### Number of lines in poems"
      ],
      "text/plain": [
       "<IPython.core.display.Markdown object>"
      ]
     },
     "metadata": {},
     "output_type": "display_data"
    },
    {
     "name": "stdout",
     "output_type": "stream",
     "text": [
      "num_lines\n",
      "10 ------- [ 16   | 26 |   42 ] -------- 100\n",
      "\n"
     ]
    },
    {
     "data": {
      "text/markdown": [
       "----"
      ],
      "text/plain": [
       "<IPython.core.display.Markdown object>"
      ]
     },
     "metadata": {},
     "output_type": "display_data"
    },
    {
     "data": {
      "text/markdown": [
       "#### Annotated rhyme distribution"
      ],
      "text/plain": [
       "<IPython.core.display.Markdown object>"
      ]
     },
     "metadata": {},
     "output_type": "display_data"
    },
    {
     "name": "stdout",
     "output_type": "stream",
     "text": [
      "rhyme\n",
      "y      5534\n",
      "n       102\n",
      "y n       4\n",
      "Name: count, dtype: int64\n",
      "\n"
     ]
    },
    {
     "data": {
      "text/markdown": [
       "----"
      ],
      "text/plain": [
       "<IPython.core.display.Markdown object>"
      ]
     },
     "metadata": {},
     "output_type": "display_data"
    },
    {
     "data": {
      "text/markdown": [
       "#### Metadata"
      ],
      "text/plain": [
       "<IPython.core.display.Markdown object>"
      ]
     },
     "metadata": {},
     "output_type": "display_data"
    },
    {
     "data": {
      "text/html": [
       "<div>\n",
       "<style scoped>\n",
       "    .dataframe tbody tr th:only-of-type {\n",
       "        vertical-align: middle;\n",
       "    }\n",
       "\n",
       "    .dataframe tbody tr th {\n",
       "        vertical-align: top;\n",
       "    }\n",
       "\n",
       "    .dataframe thead th {\n",
       "        text-align: right;\n",
       "    }\n",
       "</style>\n",
       "<table border=\"1\" class=\"dataframe\">\n",
       "  <thead>\n",
       "    <tr style=\"text-align: right;\">\n",
       "      <th></th>\n",
       "      <th>id</th>\n",
       "      <th>period_meta</th>\n",
       "      <th>subcorpus</th>\n",
       "      <th>author</th>\n",
       "      <th>author_dob</th>\n",
       "      <th>title</th>\n",
       "      <th>year</th>\n",
       "      <th>num_lines</th>\n",
       "      <th>volume</th>\n",
       "      <th>line</th>\n",
       "      <th>rhyme</th>\n",
       "      <th>genre</th>\n",
       "      <th>period</th>\n",
       "      <th>txt</th>\n",
       "    </tr>\n",
       "    <tr>\n",
       "      <th>id_hash</th>\n",
       "      <th></th>\n",
       "      <th></th>\n",
       "      <th></th>\n",
       "      <th></th>\n",
       "      <th></th>\n",
       "      <th></th>\n",
       "      <th></th>\n",
       "      <th></th>\n",
       "      <th></th>\n",
       "      <th></th>\n",
       "      <th></th>\n",
       "      <th></th>\n",
       "      <th></th>\n",
       "      <th></th>\n",
       "    </tr>\n",
       "  </thead>\n",
       "  <tbody>\n",
       "    <tr>\n",
       "      <th>0</th>\n",
       "      <td>c20-american/am30024/Z300356635</td>\n",
       "      <td>1900-1999 Twentieth-Century</td>\n",
       "      <td>American Poetry</td>\n",
       "      <td>Clark, Tom, 1941-</td>\n",
       "      <td>1941.0</td>\n",
       "      <td>Burst Phase</td>\n",
       "      <td>1971</td>\n",
       "      <td>12</td>\n",
       "      <td>NaN</td>\n",
       "      <td>I dreamed I was in a green telephone booth</td>\n",
       "      <td>NaN</td>\n",
       "      <td>NaN</td>\n",
       "      <td>1900-1950</td>\n",
       "      <td>I dreamed I was in a green telephone booth\\nre...</td>\n",
       "    </tr>\n",
       "    <tr>\n",
       "      <th>1</th>\n",
       "      <td>american/am1041/Z200182991</td>\n",
       "      <td>1835-1869 Mid Nineteenth-Century</td>\n",
       "      <td>American Poetry</td>\n",
       "      <td>Embury, Emma C. (Emma Catherine), 1806-1863</td>\n",
       "      <td>1806.0</td>\n",
       "      <td>SONNET  TO WILLIAM CULLEN BRYANT, WRITTEN IMME...</td>\n",
       "      <td>1836</td>\n",
       "      <td>14</td>\n",
       "      <td>The poems of Mrs. Emma Catherine Embury (1869)</td>\n",
       "      <td>&amp;indent;I owe an hour of intellectual life,</td>\n",
       "      <td>y</td>\n",
       "      <td>Sonnet</td>\n",
       "      <td>1800-1850</td>\n",
       "      <td>My thanks are thine, most gifted one; to thee\\...</td>\n",
       "    </tr>\n",
       "    <tr>\n",
       "      <th>3</th>\n",
       "      <td>english/myersern/Z300449085</td>\n",
       "      <td>1870-1899 Later Nineteenth-Century</td>\n",
       "      <td>English Poetry</td>\n",
       "      <td>Myers, Ernest, 1844-1921</td>\n",
       "      <td>1844.0</td>\n",
       "      <td>ITALIA UNA</td>\n",
       "      <td>1874</td>\n",
       "      <td>28</td>\n",
       "      <td>Gathered Poems (1904)</td>\n",
       "      <td>And fit for winter flame,</td>\n",
       "      <td>y</td>\n",
       "      <td>NaN</td>\n",
       "      <td>1800-1850</td>\n",
       "      <td>\"What though the branch be broken\\nAnd fit for...</td>\n",
       "    </tr>\n",
       "    <tr>\n",
       "      <th>7</th>\n",
       "      <td>c20-english/fa21301/Z200610201</td>\n",
       "      <td>1900-1999 Twentieth-Century</td>\n",
       "      <td>English Poetry</td>\n",
       "      <td>Maxwell, Glyn, 1962-</td>\n",
       "      <td>1962.0</td>\n",
       "      <td>CAP D'AIL</td>\n",
       "      <td>1992</td>\n",
       "      <td>100</td>\n",
       "      <td>NaN</td>\n",
       "      <td>The chap on the next promontory began</td>\n",
       "      <td>NaN</td>\n",
       "      <td>NaN</td>\n",
       "      <td>1950-2000</td>\n",
       "      <td>The chap on the next promontory began\\nand fin...</td>\n",
       "    </tr>\n",
       "    <tr>\n",
       "      <th>9</th>\n",
       "      <td>english/bowlesca/Z200285205</td>\n",
       "      <td>1800-1834 Early Nineteenth-Century</td>\n",
       "      <td>English Poetry</td>\n",
       "      <td>Southey, Caroline Bowles, 1786-1854</td>\n",
       "      <td>1786.0</td>\n",
       "      <td>SONNET.—1818. [Autumnal leaves and flowerets! ...</td>\n",
       "      <td>1816</td>\n",
       "      <td>14</td>\n",
       "      <td>The Poetical Works (1867)</td>\n",
       "      <td>&amp;indent;Pale sickly children of the waning year!</td>\n",
       "      <td>y</td>\n",
       "      <td>Sonnet</td>\n",
       "      <td>1750-1800</td>\n",
       "      <td>Autumnal leaves and flowerets! lingering last ...</td>\n",
       "    </tr>\n",
       "    <tr>\n",
       "      <th>...</th>\n",
       "      <td>...</td>\n",
       "      <td>...</td>\n",
       "      <td>...</td>\n",
       "      <td>...</td>\n",
       "      <td>...</td>\n",
       "      <td>...</td>\n",
       "      <td>...</td>\n",
       "      <td>...</td>\n",
       "      <td>...</td>\n",
       "      <td>...</td>\n",
       "      <td>...</td>\n",
       "      <td>...</td>\n",
       "      <td>...</td>\n",
       "      <td>...</td>\n",
       "    </tr>\n",
       "    <tr>\n",
       "      <th>133723</th>\n",
       "      <td>c20-african-american/da20060/Z200329283</td>\n",
       "      <td>1900-1999 Twentieth-Century</td>\n",
       "      <td>African-American Poetry</td>\n",
       "      <td>McClane, Kenneth A., 1951-</td>\n",
       "      <td>1951.0</td>\n",
       "      <td>The Music of Hunger</td>\n",
       "      <td>1981</td>\n",
       "      <td>22</td>\n",
       "      <td>NaN</td>\n",
       "      <td>How delicately the blossoms fall</td>\n",
       "      <td>NaN</td>\n",
       "      <td>NaN</td>\n",
       "      <td>1950-2000</td>\n",
       "      <td>How delicately the blossoms fall\\nOver the fen...</td>\n",
       "    </tr>\n",
       "    <tr>\n",
       "      <th>133789</th>\n",
       "      <td>english/somervil/Z200490130</td>\n",
       "      <td>1700-1749 Early Eighteenth-Century</td>\n",
       "      <td>English Poetry</td>\n",
       "      <td>Somervile, William, 1675-1742</td>\n",
       "      <td>1675.0</td>\n",
       "      <td>From Martial. Epig. 47.</td>\n",
       "      <td>1705</td>\n",
       "      <td>37</td>\n",
       "      <td>Occasional Poems [etc.] (1727)</td>\n",
       "      <td>To live at Ease, and stem the Tide of Fate;</td>\n",
       "      <td>y</td>\n",
       "      <td>NaN</td>\n",
       "      <td>1650-1700</td>\n",
       "      <td>Wou'd you (my Friend) find out the true Receip...</td>\n",
       "    </tr>\n",
       "    <tr>\n",
       "      <th>133982</th>\n",
       "      <td>english/packrich/Z200454940</td>\n",
       "      <td>1700-1749 Early Eighteenth-Century</td>\n",
       "      <td>English Poetry</td>\n",
       "      <td>Pack, Richardson, 1682-1728</td>\n",
       "      <td>1682.0</td>\n",
       "      <td>STANZAS,  OCCASIONED By what happened at Aberd...</td>\n",
       "      <td>1712</td>\n",
       "      <td>12</td>\n",
       "      <td>Poetical Remains (1738)</td>\n",
       "      <td>&amp;indent;When the dear Cause of all his Smart,</td>\n",
       "      <td>y</td>\n",
       "      <td>NaN</td>\n",
       "      <td>1650-1700</td>\n",
       "      <td>How oddly is a Lover fated!\\n    When the dear...</td>\n",
       "    </tr>\n",
       "    <tr>\n",
       "      <th>133988</th>\n",
       "      <td>c20-african-american/da20060/Z200329253</td>\n",
       "      <td>1900-1999 Twentieth-Century</td>\n",
       "      <td>African-American Poetry</td>\n",
       "      <td>McClane, Kenneth A., 1951-</td>\n",
       "      <td>1951.0</td>\n",
       "      <td>At November's Turn</td>\n",
       "      <td>1981</td>\n",
       "      <td>32</td>\n",
       "      <td>NaN</td>\n",
       "      <td>Now I am worrying</td>\n",
       "      <td>NaN</td>\n",
       "      <td>NaN</td>\n",
       "      <td>1950-2000</td>\n",
       "      <td>Now I am worrying\\nthat the last maple might\\n...</td>\n",
       "    </tr>\n",
       "    <tr>\n",
       "      <th>134179</th>\n",
       "      <td>modern/ent1202/Z300575646</td>\n",
       "      <td>1900-1999 Twentieth-Century</td>\n",
       "      <td>Modern Poetry</td>\n",
       "      <td>Davies, Hilary, 1954-</td>\n",
       "      <td>1954.0</td>\n",
       "      <td>The Trail Is Not Obvious, Up Through the Blue ...</td>\n",
       "      <td>1984</td>\n",
       "      <td>13</td>\n",
       "      <td>NaN</td>\n",
       "      <td>The trail is not obvious, up through the blue ...</td>\n",
       "      <td>NaN</td>\n",
       "      <td>NaN</td>\n",
       "      <td>1950-2000</td>\n",
       "      <td>The trail is not obvious, up through the blue ...</td>\n",
       "    </tr>\n",
       "  </tbody>\n",
       "</table>\n",
       "<p>8000 rows × 14 columns</p>\n",
       "</div>"
      ],
      "text/plain": [
       "                                              id                         period_meta                subcorpus                                       author  author_dob  \\\n",
       "id_hash                                                                                                                                                                  \n",
       "0                c20-american/am30024/Z300356635         1900-1999 Twentieth-Century          American Poetry                            Clark, Tom, 1941-      1941.0   \n",
       "1                     american/am1041/Z200182991    1835-1869 Mid Nineteenth-Century          American Poetry  Embury, Emma C. (Emma Catherine), 1806-1863      1806.0   \n",
       "3                    english/myersern/Z300449085  1870-1899 Later Nineteenth-Century           English Poetry                     Myers, Ernest, 1844-1921      1844.0   \n",
       "7                 c20-english/fa21301/Z200610201         1900-1999 Twentieth-Century           English Poetry                         Maxwell, Glyn, 1962-      1962.0   \n",
       "9                    english/bowlesca/Z200285205  1800-1834 Early Nineteenth-Century           English Poetry          Southey, Caroline Bowles, 1786-1854      1786.0   \n",
       "...                                          ...                                 ...                      ...                                          ...         ...   \n",
       "133723   c20-african-american/da20060/Z200329283         1900-1999 Twentieth-Century  African-American Poetry                   McClane, Kenneth A., 1951-      1951.0   \n",
       "133789               english/somervil/Z200490130  1700-1749 Early Eighteenth-Century           English Poetry                Somervile, William, 1675-1742      1675.0   \n",
       "133982               english/packrich/Z200454940  1700-1749 Early Eighteenth-Century           English Poetry                  Pack, Richardson, 1682-1728      1682.0   \n",
       "133988   c20-african-american/da20060/Z200329253         1900-1999 Twentieth-Century  African-American Poetry                   McClane, Kenneth A., 1951-      1951.0   \n",
       "134179                 modern/ent1202/Z300575646         1900-1999 Twentieth-Century            Modern Poetry                        Davies, Hilary, 1954-      1954.0   \n",
       "\n",
       "                                                     title  year  num_lines                                          volume                                               line rhyme   genre  \\\n",
       "id_hash                                                                                                                                                                                        \n",
       "0                                              Burst Phase  1971         12                                             NaN         I dreamed I was in a green telephone booth   NaN     NaN   \n",
       "1        SONNET  TO WILLIAM CULLEN BRYANT, WRITTEN IMME...  1836         14  The poems of Mrs. Emma Catherine Embury (1869)        &indent;I owe an hour of intellectual life,     y  Sonnet   \n",
       "3                                               ITALIA UNA  1874         28                           Gathered Poems (1904)                          And fit for winter flame,     y     NaN   \n",
       "7                                                CAP D'AIL  1992        100                                             NaN              The chap on the next promontory began   NaN     NaN   \n",
       "9        SONNET.—1818. [Autumnal leaves and flowerets! ...  1816         14                       The Poetical Works (1867)   &indent;Pale sickly children of the waning year!     y  Sonnet   \n",
       "...                                                    ...   ...        ...                                             ...                                                ...   ...     ...   \n",
       "133723                                 The Music of Hunger  1981         22                                             NaN                   How delicately the blossoms fall   NaN     NaN   \n",
       "133789                             From Martial. Epig. 47.  1705         37                  Occasional Poems [etc.] (1727)        To live at Ease, and stem the Tide of Fate;     y     NaN   \n",
       "133982   STANZAS,  OCCASIONED By what happened at Aberd...  1712         12                         Poetical Remains (1738)      &indent;When the dear Cause of all his Smart,     y     NaN   \n",
       "133988                                  At November's Turn  1981         32                                             NaN                                  Now I am worrying   NaN     NaN   \n",
       "134179   The Trail Is Not Obvious, Up Through the Blue ...  1984         13                                             NaN  The trail is not obvious, up through the blue ...   NaN     NaN   \n",
       "\n",
       "            period                                                txt  \n",
       "id_hash                                                                \n",
       "0        1900-1950  I dreamed I was in a green telephone booth\\nre...  \n",
       "1        1800-1850  My thanks are thine, most gifted one; to thee\\...  \n",
       "3        1800-1850  \"What though the branch be broken\\nAnd fit for...  \n",
       "7        1950-2000  The chap on the next promontory began\\nand fin...  \n",
       "9        1750-1800  Autumnal leaves and flowerets! lingering last ...  \n",
       "...            ...                                                ...  \n",
       "133723   1950-2000  How delicately the blossoms fall\\nOver the fen...  \n",
       "133789   1650-1700  Wou'd you (my Friend) find out the true Receip...  \n",
       "133982   1650-1700  How oddly is a Lover fated!\\n    When the dear...  \n",
       "133988   1950-2000  Now I am worrying\\nthat the last maple might\\n...  \n",
       "134179   1950-2000  The trail is not obvious, up through the blue ...  \n",
       "\n",
       "[8000 rows x 14 columns]"
      ]
     },
     "execution_count": 9,
     "metadata": {},
     "output_type": "execute_result"
    }
   ],
   "source": [
    "printm(f'### Replicating period sample')\n",
    "df_smpl_by_period_replicated = get_chadwyck_corpus_sampled_by_period_as_replicated()\n",
    "assert len(df_smpl_by_period_replicated) == 8000\n",
    "describe_corpus(df_smpl_by_period_replicated)"
   ]
  },
  {
   "cell_type": "markdown",
   "metadata": {},
   "source": [
    "## Sampling corpus by rhyme"
   ]
  },
  {
   "cell_type": "code",
   "execution_count": 10,
   "metadata": {},
   "outputs": [
    {
     "data": {
      "text/markdown": [
       "### Loading rhyme sample in paper"
      ],
      "text/plain": [
       "<IPython.core.display.Markdown object>"
      ]
     },
     "metadata": {},
     "output_type": "display_data"
    },
    {
     "data": {
      "text/markdown": [
       "----"
      ],
      "text/plain": [
       "<IPython.core.display.Markdown object>"
      ]
     },
     "metadata": {},
     "output_type": "display_data"
    },
    {
     "data": {
      "text/markdown": [
       "#### Subcorpus breakdown"
      ],
      "text/plain": [
       "<IPython.core.display.Markdown object>"
      ]
     },
     "metadata": {},
     "output_type": "display_data"
    },
    {
     "name": "stdout",
     "output_type": "stream",
     "text": [
      "subcorpus\n",
      "English Poetry             1401\n",
      "American Poetry             582\n",
      "African-American Poetry      17\n",
      "Name: count, dtype: int64\n",
      "\n"
     ]
    },
    {
     "data": {
      "text/markdown": [
       "----"
      ],
      "text/plain": [
       "<IPython.core.display.Markdown object>"
      ]
     },
     "metadata": {},
     "output_type": "display_data"
    },
    {
     "data": {
      "text/markdown": [
       "#### Historical period breakdown (from metadata)"
      ],
      "text/plain": [
       "<IPython.core.display.Markdown object>"
      ]
     },
     "metadata": {},
     "output_type": "display_data"
    },
    {
     "name": "stdout",
     "output_type": "stream",
     "text": [
      "period_meta\n",
      "1835-1869 Mid Nineteenth-Century               636\n",
      "1870-1899 Later Nineteenth-Century             371\n",
      "1800-1834 Early Nineteenth-Century             298\n",
      "1750-1799 Later Eighteenth-Century              94\n",
      "1700-1749 Early Eighteenth-Century              88\n",
      "1603-1660 Jacobean and Caroline                 41\n",
      "1660-1700 Restoration                           37\n",
      "1900-1999 Twentieth-Century                     36\n",
      "1550-1900 Miscellanies and Collections          29\n",
      "1500-1700 Emblems, Epigrams, Formal Satires      2\n",
      "1880-1901 Late Victorian                         1\n",
      "1500-1580 Tudor                                  1\n",
      "1860-1880 Mid-Victorian                          1\n",
      "Name: count, dtype: int64\n",
      "\n"
     ]
    },
    {
     "data": {
      "text/markdown": [
       "----"
      ],
      "text/plain": [
       "<IPython.core.display.Markdown object>"
      ]
     },
     "metadata": {},
     "output_type": "display_data"
    },
    {
     "data": {
      "text/markdown": [
       "#### Historical period breakdown (from author birth year)"
      ],
      "text/plain": [
       "<IPython.core.display.Markdown object>"
      ]
     },
     "metadata": {},
     "output_type": "display_data"
    },
    {
     "name": "stdout",
     "output_type": "stream",
     "text": [
      "period\n",
      "1800-1850    956\n",
      "1750-1800    449\n",
      "1850-1900    348\n",
      "1700-1750    132\n",
      "1600-1650     60\n",
      "1650-1700     55\n",
      "Name: count, dtype: int64\n",
      "\n"
     ]
    },
    {
     "data": {
      "text/markdown": [
       "----"
      ],
      "text/plain": [
       "<IPython.core.display.Markdown object>"
      ]
     },
     "metadata": {},
     "output_type": "display_data"
    },
    {
     "data": {
      "text/markdown": [
       "#### Historical period + subcorpus breakdown"
      ],
      "text/plain": [
       "<IPython.core.display.Markdown object>"
      ]
     },
     "metadata": {},
     "output_type": "display_data"
    },
    {
     "name": "stdout",
     "output_type": "stream",
     "text": [
      "                                   count\n",
      "period    subcorpus                     \n",
      "1600-1650 American Poetry              3\n",
      "          English Poetry              57\n",
      "1650-1700 English Poetry              55\n",
      "1700-1750 American Poetry              3\n",
      "          English Poetry             129\n",
      "1750-1800 African-American Poetry      3\n",
      "          American Poetry            126\n",
      "          English Poetry             320\n",
      "1800-1850 African-American Poetry      1\n",
      "          American Poetry            371\n",
      "          English Poetry             584\n",
      "1850-1900 African-American Poetry     13\n",
      "          American Poetry             79\n",
      "          English Poetry             256\n",
      "\n"
     ]
    },
    {
     "data": {
      "text/markdown": [
       "----"
      ],
      "text/plain": [
       "<IPython.core.display.Markdown object>"
      ]
     },
     "metadata": {},
     "output_type": "display_data"
    },
    {
     "data": {
      "text/markdown": [
       "#### Author birth year distribution"
      ],
      "text/plain": [
       "<IPython.core.display.Markdown object>"
      ]
     },
     "metadata": {},
     "output_type": "display_data"
    },
    {
     "name": "stdout",
     "output_type": "stream",
     "text": [
      "author_dob\n",
      "1600 ------- [ 1791   | 1813 |   1841 ] -------- 1891\n",
      "\n"
     ]
    },
    {
     "data": {
      "text/markdown": [
       "----"
      ],
      "text/plain": [
       "<IPython.core.display.Markdown object>"
      ]
     },
     "metadata": {},
     "output_type": "display_data"
    },
    {
     "data": {
      "text/markdown": [
       "#### Number of lines in poems"
      ],
      "text/plain": [
       "<IPython.core.display.Markdown object>"
      ]
     },
     "metadata": {},
     "output_type": "display_data"
    },
    {
     "name": "stdout",
     "output_type": "stream",
     "text": [
      "num_lines\n",
      "10 ------- [ 18   | 30 |   48 ] -------- 100\n",
      "\n"
     ]
    },
    {
     "data": {
      "text/markdown": [
       "----"
      ],
      "text/plain": [
       "<IPython.core.display.Markdown object>"
      ]
     },
     "metadata": {},
     "output_type": "display_data"
    },
    {
     "data": {
      "text/markdown": [
       "#### Annotated rhyme distribution"
      ],
      "text/plain": [
       "<IPython.core.display.Markdown object>"
      ]
     },
     "metadata": {},
     "output_type": "display_data"
    },
    {
     "name": "stdout",
     "output_type": "stream",
     "text": [
      "rhyme\n",
      "y    1000\n",
      "n    1000\n",
      "Name: count, dtype: int64\n",
      "\n"
     ]
    },
    {
     "data": {
      "text/markdown": [
       "----"
      ],
      "text/plain": [
       "<IPython.core.display.Markdown object>"
      ]
     },
     "metadata": {},
     "output_type": "display_data"
    },
    {
     "data": {
      "text/markdown": [
       "#### Metadata"
      ],
      "text/plain": [
       "<IPython.core.display.Markdown object>"
      ]
     },
     "metadata": {},
     "output_type": "display_data"
    },
    {
     "data": {
      "text/html": [
       "<div>\n",
       "<style scoped>\n",
       "    .dataframe tbody tr th:only-of-type {\n",
       "        vertical-align: middle;\n",
       "    }\n",
       "\n",
       "    .dataframe tbody tr th {\n",
       "        vertical-align: top;\n",
       "    }\n",
       "\n",
       "    .dataframe thead th {\n",
       "        text-align: right;\n",
       "    }\n",
       "</style>\n",
       "<table border=\"1\" class=\"dataframe\">\n",
       "  <thead>\n",
       "    <tr style=\"text-align: right;\">\n",
       "      <th></th>\n",
       "      <th>id</th>\n",
       "      <th>period_meta</th>\n",
       "      <th>subcorpus</th>\n",
       "      <th>author</th>\n",
       "      <th>author_dob</th>\n",
       "      <th>title</th>\n",
       "      <th>year</th>\n",
       "      <th>num_lines</th>\n",
       "      <th>volume</th>\n",
       "      <th>line</th>\n",
       "      <th>rhyme</th>\n",
       "      <th>genre</th>\n",
       "      <th>period</th>\n",
       "      <th>txt</th>\n",
       "    </tr>\n",
       "    <tr>\n",
       "      <th>id_hash</th>\n",
       "      <th></th>\n",
       "      <th></th>\n",
       "      <th></th>\n",
       "      <th></th>\n",
       "      <th></th>\n",
       "      <th></th>\n",
       "      <th></th>\n",
       "      <th></th>\n",
       "      <th></th>\n",
       "      <th></th>\n",
       "      <th></th>\n",
       "      <th></th>\n",
       "      <th></th>\n",
       "      <th></th>\n",
       "    </tr>\n",
       "  </thead>\n",
       "  <tbody>\n",
       "    <tr>\n",
       "      <th>1</th>\n",
       "      <td>english-ed2/ep2438/Z300661875</td>\n",
       "      <td>NaN</td>\n",
       "      <td>English Poetry</td>\n",
       "      <td>Price, Herbert, b. 1858</td>\n",
       "      <td>1858.0</td>\n",
       "      <td>THE FORSAKEN GARDEN</td>\n",
       "      <td>1888</td>\n",
       "      <td>35</td>\n",
       "      <td>Poems and Sonnets by Herbert Price (1914)</td>\n",
       "      <td>In the garden we loved that is now a waste,</td>\n",
       "      <td>y</td>\n",
       "      <td>NaN</td>\n",
       "      <td>1850-1900</td>\n",
       "      <td>Ah! sweet were the days, and the nights and th...</td>\n",
       "    </tr>\n",
       "    <tr>\n",
       "      <th>1</th>\n",
       "      <td>english/pennecu1/Z200459978</td>\n",
       "      <td>1660-1700 Restoration</td>\n",
       "      <td>English Poetry</td>\n",
       "      <td>Pennecuik, Alexander, 1652-1722</td>\n",
       "      <td>1652.0</td>\n",
       "      <td>THE CITY AND COUNTRY MOUSE.</td>\n",
       "      <td>1682</td>\n",
       "      <td>50</td>\n",
       "      <td>The Works (1815)</td>\n",
       "      <td>&amp;indent;Met with a city mouse, right smooth an...</td>\n",
       "      <td>y</td>\n",
       "      <td>NaN</td>\n",
       "      <td>1650-1700</td>\n",
       "      <td>A country mouse, upon a winter's day,\\n    Met...</td>\n",
       "    </tr>\n",
       "    <tr>\n",
       "      <th>2</th>\n",
       "      <td>english/wattsisa/Z300523040</td>\n",
       "      <td>1750-1799 Later Eighteenth-Century</td>\n",
       "      <td>English Poetry</td>\n",
       "      <td>Watts, Isaac, 1674-1748</td>\n",
       "      <td>1674.0</td>\n",
       "      <td>SONG 11. Heaven and Hell.</td>\n",
       "      <td>1704</td>\n",
       "      <td>16</td>\n",
       "      <td>The Works (1810)</td>\n",
       "      <td>&amp;indent;A heav'n of joy and love;</td>\n",
       "      <td>y</td>\n",
       "      <td>Lyric</td>\n",
       "      <td>1650-1700</td>\n",
       "      <td>There is beyond the sky\\n    A heaven of joy a...</td>\n",
       "    </tr>\n",
       "    <tr>\n",
       "      <th>3</th>\n",
       "      <td>english/hardytho/Z200137433</td>\n",
       "      <td>1870-1899 Later Nineteenth-Century</td>\n",
       "      <td>English Poetry</td>\n",
       "      <td>Hardy, Thomas, 1840-1928</td>\n",
       "      <td>1840.0</td>\n",
       "      <td>WHEN DEAD</td>\n",
       "      <td>1870</td>\n",
       "      <td>16</td>\n",
       "      <td>NaN</td>\n",
       "      <td>&amp;indent;&amp;indent;I am under the bough;</td>\n",
       "      <td>y</td>\n",
       "      <td>NaN</td>\n",
       "      <td>1800-1850</td>\n",
       "      <td>It will be much better when\\n        I am unde...</td>\n",
       "    </tr>\n",
       "    <tr>\n",
       "      <th>4</th>\n",
       "      <td>english/fawkesfr/Z300372956</td>\n",
       "      <td>1750-1799 Later Eighteenth-Century</td>\n",
       "      <td>English Poetry</td>\n",
       "      <td>Fawkes, Francis, 1720-1777</td>\n",
       "      <td>1720.0</td>\n",
       "      <td>III. ON A WORTHY FRIEND,  Who was accomplished...</td>\n",
       "      <td>1750</td>\n",
       "      <td>10</td>\n",
       "      <td>Original Poems and Translations (1761)</td>\n",
       "      <td>Thou friendly, candid, virtuous mind, farewel!</td>\n",
       "      <td>y</td>\n",
       "      <td>NaN</td>\n",
       "      <td>1700-1750</td>\n",
       "      <td>Oh born in liberal studies to excel,\\nThou fri...</td>\n",
       "    </tr>\n",
       "    <tr>\n",
       "      <th>...</th>\n",
       "      <td>...</td>\n",
       "      <td>...</td>\n",
       "      <td>...</td>\n",
       "      <td>...</td>\n",
       "      <td>...</td>\n",
       "      <td>...</td>\n",
       "      <td>...</td>\n",
       "      <td>...</td>\n",
       "      <td>...</td>\n",
       "      <td>...</td>\n",
       "      <td>...</td>\n",
       "      <td>...</td>\n",
       "      <td>...</td>\n",
       "      <td>...</td>\n",
       "    </tr>\n",
       "    <tr>\n",
       "      <th>219124</th>\n",
       "      <td>english-ed2/ep2525/Z200668962</td>\n",
       "      <td>NaN</td>\n",
       "      <td>English Poetry</td>\n",
       "      <td>Armstrong, Edmund John, 1841-1865</td>\n",
       "      <td>1841.0</td>\n",
       "      <td>WOMAN'S SORROW.</td>\n",
       "      <td>1871</td>\n",
       "      <td>14</td>\n",
       "      <td>The Poetical Works of Edmund J. Armstrong. Edi...</td>\n",
       "      <td>Tost by a tempest, and ere long in calm</td>\n",
       "      <td>n</td>\n",
       "      <td>NaN</td>\n",
       "      <td>1800-1850</td>\n",
       "      <td>The sorrow of a man is Like the sea\\nTost by a...</td>\n",
       "    </tr>\n",
       "    <tr>\n",
       "      <th>219130</th>\n",
       "      <td>english-ed2/ep2316/Z200654162</td>\n",
       "      <td>NaN</td>\n",
       "      <td>English Poetry</td>\n",
       "      <td>Collins, Mortimer, 1827-1876</td>\n",
       "      <td>1827.0</td>\n",
       "      <td>A CAVALIER BALLAD.</td>\n",
       "      <td>1857</td>\n",
       "      <td>37</td>\n",
       "      <td>Idyls and Rhymes. By Mortimer Collins (1855)</td>\n",
       "      <td>Who is gone, in his glory and his sorrow, to the</td>\n",
       "      <td>n</td>\n",
       "      <td>NaN</td>\n",
       "      <td>1800-1850</td>\n",
       "      <td>O alas and alas for the King we could not save...</td>\n",
       "    </tr>\n",
       "    <tr>\n",
       "      <th>219174</th>\n",
       "      <td>english/colersam/Z300317124</td>\n",
       "      <td>1800-1834 Early Nineteenth-Century</td>\n",
       "      <td>English Poetry</td>\n",
       "      <td>Coleridge, Samuel Taylor, 1772-1834</td>\n",
       "      <td>1772.0</td>\n",
       "      <td>TO THE REV. GEORGE COLERIDGE  OF OTTERY ST. MA...</td>\n",
       "      <td>1802</td>\n",
       "      <td>77</td>\n",
       "      <td>The Complete Poetical Works (1912)</td>\n",
       "      <td>Notus in fratres animi paterni.</td>\n",
       "      <td>n</td>\n",
       "      <td>NaN</td>\n",
       "      <td>1750-1800</td>\n",
       "      <td>A blessed lot hath he, who having passed\\nHis ...</td>\n",
       "    </tr>\n",
       "    <tr>\n",
       "      <th>219178</th>\n",
       "      <td>american/am1066/Z200187826</td>\n",
       "      <td>1835-1869 Mid Nineteenth-Century</td>\n",
       "      <td>American Poetry</td>\n",
       "      <td>Whitman, Walt, 1819-1892</td>\n",
       "      <td>1819.0</td>\n",
       "      <td>KOSMOS.</td>\n",
       "      <td>1849</td>\n",
       "      <td>10</td>\n",
       "      <td>Leaves of grass (1860–61)</td>\n",
       "      <td>Who is the amplitude of the earth, and the coa...</td>\n",
       "      <td>n</td>\n",
       "      <td>NaN</td>\n",
       "      <td>1800-1850</td>\n",
       "      <td>Who includes diversity, and is Nature,\\nWho is...</td>\n",
       "    </tr>\n",
       "    <tr>\n",
       "      <th>219367</th>\n",
       "      <td>english/wattsala/Z200522075</td>\n",
       "      <td>1800-1834 Early Nineteenth-Century</td>\n",
       "      <td>English Poetry</td>\n",
       "      <td>Watts, Alaric Alexander, 1797-1864</td>\n",
       "      <td>1797.0</td>\n",
       "      <td>THE MELODY OF YOUTH.</td>\n",
       "      <td>1827</td>\n",
       "      <td>34</td>\n",
       "      <td>Lyrics of the Heart (1851)</td>\n",
       "      <td>Delicious strain! upon my charmed ear,</td>\n",
       "      <td>n</td>\n",
       "      <td>NaN</td>\n",
       "      <td>1750-1800</td>\n",
       "      <td>Delicious strain! upon my charmed ear,\\nAs eve...</td>\n",
       "    </tr>\n",
       "  </tbody>\n",
       "</table>\n",
       "<p>2000 rows × 14 columns</p>\n",
       "</div>"
      ],
      "text/plain": [
       "                                    id                         period_meta        subcorpus                               author  author_dob                                              title  year  \\\n",
       "id_hash                                                                                                                                                                                                 \n",
       "1        english-ed2/ep2438/Z300661875                                 NaN   English Poetry              Price, Herbert, b. 1858      1858.0                                THE FORSAKEN GARDEN  1888   \n",
       "1          english/pennecu1/Z200459978               1660-1700 Restoration   English Poetry      Pennecuik, Alexander, 1652-1722      1652.0                        THE CITY AND COUNTRY MOUSE.  1682   \n",
       "2          english/wattsisa/Z300523040  1750-1799 Later Eighteenth-Century   English Poetry              Watts, Isaac, 1674-1748      1674.0                          SONG 11. Heaven and Hell.  1704   \n",
       "3          english/hardytho/Z200137433  1870-1899 Later Nineteenth-Century   English Poetry             Hardy, Thomas, 1840-1928      1840.0                                          WHEN DEAD  1870   \n",
       "4          english/fawkesfr/Z300372956  1750-1799 Later Eighteenth-Century   English Poetry           Fawkes, Francis, 1720-1777      1720.0  III. ON A WORTHY FRIEND,  Who was accomplished...  1750   \n",
       "...                                ...                                 ...              ...                                  ...         ...                                                ...   ...   \n",
       "219124   english-ed2/ep2525/Z200668962                                 NaN   English Poetry    Armstrong, Edmund John, 1841-1865      1841.0                                    WOMAN'S SORROW.  1871   \n",
       "219130   english-ed2/ep2316/Z200654162                                 NaN   English Poetry         Collins, Mortimer, 1827-1876      1827.0                                 A CAVALIER BALLAD.  1857   \n",
       "219174     english/colersam/Z300317124  1800-1834 Early Nineteenth-Century   English Poetry  Coleridge, Samuel Taylor, 1772-1834      1772.0  TO THE REV. GEORGE COLERIDGE  OF OTTERY ST. MA...  1802   \n",
       "219178      american/am1066/Z200187826    1835-1869 Mid Nineteenth-Century  American Poetry             Whitman, Walt, 1819-1892      1819.0                                            KOSMOS.  1849   \n",
       "219367     english/wattsala/Z200522075  1800-1834 Early Nineteenth-Century   English Poetry   Watts, Alaric Alexander, 1797-1864      1797.0                               THE MELODY OF YOUTH.  1827   \n",
       "\n",
       "         num_lines                                             volume                                               line rhyme  genre     period                                                txt  \n",
       "id_hash                                                                                                                                                                                              \n",
       "1               35          Poems and Sonnets by Herbert Price (1914)        In the garden we loved that is now a waste,     y    NaN  1850-1900  Ah! sweet were the days, and the nights and th...  \n",
       "1               50                                   The Works (1815)  &indent;Met with a city mouse, right smooth an...     y    NaN  1650-1700  A country mouse, upon a winter's day,\\n    Met...  \n",
       "2               16                                   The Works (1810)                  &indent;A heav'n of joy and love;     y  Lyric  1650-1700  There is beyond the sky\\n    A heaven of joy a...  \n",
       "3               16                                                NaN              &indent;&indent;I am under the bough;     y    NaN  1800-1850  It will be much better when\\n        I am unde...  \n",
       "4               10             Original Poems and Translations (1761)     Thou friendly, candid, virtuous mind, farewel!     y    NaN  1700-1750  Oh born in liberal studies to excel,\\nThou fri...  \n",
       "...            ...                                                ...                                                ...   ...    ...        ...                                                ...  \n",
       "219124          14  The Poetical Works of Edmund J. Armstrong. Edi...            Tost by a tempest, and ere long in calm     n    NaN  1800-1850  The sorrow of a man is Like the sea\\nTost by a...  \n",
       "219130          37       Idyls and Rhymes. By Mortimer Collins (1855)   Who is gone, in his glory and his sorrow, to the     n    NaN  1800-1850  O alas and alas for the King we could not save...  \n",
       "219174          77                 The Complete Poetical Works (1912)                    Notus in fratres animi paterni.     n    NaN  1750-1800  A blessed lot hath he, who having passed\\nHis ...  \n",
       "219178          10                          Leaves of grass (1860–61)  Who is the amplitude of the earth, and the coa...     n    NaN  1800-1850  Who includes diversity, and is Nature,\\nWho is...  \n",
       "219367          34                         Lyrics of the Heart (1851)             Delicious strain! upon my charmed ear,     n    NaN  1750-1800  Delicious strain! upon my charmed ear,\\nAs eve...  \n",
       "\n",
       "[2000 rows x 14 columns]"
      ]
     },
     "execution_count": 10,
     "metadata": {},
     "output_type": "execute_result"
    }
   ],
   "source": [
    "printm(f'### Loading rhyme sample in paper')\n",
    "df_smpl_by_rhyme_in_paper = get_chadwyck_corpus_sampled_by_rhyme_as_in_paper()\n",
    "assert len(df_smpl_by_rhyme_in_paper) == 2000\n",
    "describe_corpus(df_smpl_by_rhyme_in_paper)"
   ]
  },
  {
   "cell_type": "code",
   "execution_count": 11,
   "metadata": {},
   "outputs": [
    {
     "data": {
      "text/markdown": [
       "### Replicating rhyme sample"
      ],
      "text/plain": [
       "<IPython.core.display.Markdown object>"
      ]
     },
     "metadata": {},
     "output_type": "display_data"
    },
    {
     "name": "stdout",
     "output_type": "stream",
     "text": [
      "* Loading rhyme sample from /Users/rj416/github/generative-formalism/data/corpus_sample_by_rhyme.replicated.csv.gz\n"
     ]
    },
    {
     "data": {
      "text/markdown": [
       "----"
      ],
      "text/plain": [
       "<IPython.core.display.Markdown object>"
      ]
     },
     "metadata": {},
     "output_type": "display_data"
    },
    {
     "data": {
      "text/markdown": [
       "#### Subcorpus breakdown"
      ],
      "text/plain": [
       "<IPython.core.display.Markdown object>"
      ]
     },
     "metadata": {},
     "output_type": "display_data"
    },
    {
     "name": "stdout",
     "output_type": "stream",
     "text": [
      "subcorpus\n",
      "English Poetry             1349\n",
      "American Poetry             635\n",
      "African-American Poetry      16\n",
      "Name: count, dtype: int64\n",
      "\n"
     ]
    },
    {
     "data": {
      "text/markdown": [
       "----"
      ],
      "text/plain": [
       "<IPython.core.display.Markdown object>"
      ]
     },
     "metadata": {},
     "output_type": "display_data"
    },
    {
     "data": {
      "text/markdown": [
       "#### Historical period breakdown (from metadata)"
      ],
      "text/plain": [
       "<IPython.core.display.Markdown object>"
      ]
     },
     "metadata": {},
     "output_type": "display_data"
    },
    {
     "name": "stdout",
     "output_type": "stream",
     "text": [
      "period_meta\n",
      "1835-1869 Mid Nineteenth-Century               645\n",
      "1870-1899 Later Nineteenth-Century             398\n",
      "1800-1834 Early Nineteenth-Century             291\n",
      "1750-1799 Later Eighteenth-Century              95\n",
      "1700-1749 Early Eighteenth-Century              80\n",
      "1603-1660 Jacobean and Caroline                 43\n",
      "1900-1999 Twentieth-Century                     37\n",
      "1660-1700 Restoration                           32\n",
      "1550-1900 Miscellanies and Collections          25\n",
      "1860-1880 Mid-Victorian                          4\n",
      "1500-1700 Emblems, Epigrams, Formal Satires      3\n",
      "1500-1580 Tudor                                  1\n",
      "Name: count, dtype: int64\n",
      "\n"
     ]
    },
    {
     "data": {
      "text/markdown": [
       "----"
      ],
      "text/plain": [
       "<IPython.core.display.Markdown object>"
      ]
     },
     "metadata": {},
     "output_type": "display_data"
    },
    {
     "data": {
      "text/markdown": [
       "#### Historical period breakdown (from author birth year)"
      ],
      "text/plain": [
       "<IPython.core.display.Markdown object>"
      ]
     },
     "metadata": {},
     "output_type": "display_data"
    },
    {
     "name": "stdout",
     "output_type": "stream",
     "text": [
      "period\n",
      "1800-1850    984\n",
      "1750-1800    441\n",
      "1850-1900    319\n",
      "1700-1750    119\n",
      "1600-1650     65\n",
      "1650-1700     64\n",
      "1900-1950      8\n",
      "Name: count, dtype: int64\n",
      "\n"
     ]
    },
    {
     "data": {
      "text/markdown": [
       "----"
      ],
      "text/plain": [
       "<IPython.core.display.Markdown object>"
      ]
     },
     "metadata": {},
     "output_type": "display_data"
    },
    {
     "data": {
      "text/markdown": [
       "#### Historical period + subcorpus breakdown"
      ],
      "text/plain": [
       "<IPython.core.display.Markdown object>"
      ]
     },
     "metadata": {},
     "output_type": "display_data"
    },
    {
     "name": "stdout",
     "output_type": "stream",
     "text": [
      "                                   count\n",
      "period    subcorpus                     \n",
      "1600-1650 American Poetry              4\n",
      "          English Poetry              61\n",
      "1650-1700 English Poetry              64\n",
      "1700-1750 American Poetry              2\n",
      "          English Poetry             117\n",
      "1750-1800 African-American Poetry      1\n",
      "          American Poetry            127\n",
      "          English Poetry             313\n",
      "1800-1850 African-American Poetry      6\n",
      "          American Poetry            432\n",
      "          English Poetry             546\n",
      "1850-1900 African-American Poetry      9\n",
      "          American Poetry             70\n",
      "          English Poetry             240\n",
      "1900-1950 English Poetry               8\n",
      "\n"
     ]
    },
    {
     "data": {
      "text/markdown": [
       "----"
      ],
      "text/plain": [
       "<IPython.core.display.Markdown object>"
      ]
     },
     "metadata": {},
     "output_type": "display_data"
    },
    {
     "data": {
      "text/markdown": [
       "#### Author birth year distribution"
      ],
      "text/plain": [
       "<IPython.core.display.Markdown object>"
      ]
     },
     "metadata": {},
     "output_type": "display_data"
    },
    {
     "name": "stdout",
     "output_type": "stream",
     "text": [
      "author_dob\n",
      "1600 ------- [ 1791   | 1814 |   1840 ] -------- 1923\n",
      "\n"
     ]
    },
    {
     "data": {
      "text/markdown": [
       "----"
      ],
      "text/plain": [
       "<IPython.core.display.Markdown object>"
      ]
     },
     "metadata": {},
     "output_type": "display_data"
    },
    {
     "data": {
      "text/markdown": [
       "#### Number of lines in poems"
      ],
      "text/plain": [
       "<IPython.core.display.Markdown object>"
      ]
     },
     "metadata": {},
     "output_type": "display_data"
    },
    {
     "name": "stdout",
     "output_type": "stream",
     "text": [
      "num_lines\n",
      "10 ------- [ 16   | 28 |   48 ] -------- 100\n",
      "\n"
     ]
    },
    {
     "data": {
      "text/markdown": [
       "----"
      ],
      "text/plain": [
       "<IPython.core.display.Markdown object>"
      ]
     },
     "metadata": {},
     "output_type": "display_data"
    },
    {
     "data": {
      "text/markdown": [
       "#### Annotated rhyme distribution"
      ],
      "text/plain": [
       "<IPython.core.display.Markdown object>"
      ]
     },
     "metadata": {},
     "output_type": "display_data"
    },
    {
     "name": "stdout",
     "output_type": "stream",
     "text": [
      "rhyme\n",
      "y    1000\n",
      "n    1000\n",
      "Name: count, dtype: int64\n",
      "\n"
     ]
    },
    {
     "data": {
      "text/markdown": [
       "----"
      ],
      "text/plain": [
       "<IPython.core.display.Markdown object>"
      ]
     },
     "metadata": {},
     "output_type": "display_data"
    },
    {
     "data": {
      "text/markdown": [
       "#### Metadata"
      ],
      "text/plain": [
       "<IPython.core.display.Markdown object>"
      ]
     },
     "metadata": {},
     "output_type": "display_data"
    },
    {
     "data": {
      "text/html": [
       "<div>\n",
       "<style scoped>\n",
       "    .dataframe tbody tr th:only-of-type {\n",
       "        vertical-align: middle;\n",
       "    }\n",
       "\n",
       "    .dataframe tbody tr th {\n",
       "        vertical-align: top;\n",
       "    }\n",
       "\n",
       "    .dataframe thead th {\n",
       "        text-align: right;\n",
       "    }\n",
       "</style>\n",
       "<table border=\"1\" class=\"dataframe\">\n",
       "  <thead>\n",
       "    <tr style=\"text-align: right;\">\n",
       "      <th></th>\n",
       "      <th>id</th>\n",
       "      <th>period_meta</th>\n",
       "      <th>subcorpus</th>\n",
       "      <th>author</th>\n",
       "      <th>author_dob</th>\n",
       "      <th>title</th>\n",
       "      <th>year</th>\n",
       "      <th>num_lines</th>\n",
       "      <th>volume</th>\n",
       "      <th>line</th>\n",
       "      <th>rhyme</th>\n",
       "      <th>genre</th>\n",
       "      <th>period</th>\n",
       "      <th>txt</th>\n",
       "    </tr>\n",
       "    <tr>\n",
       "      <th>id_hash</th>\n",
       "      <th></th>\n",
       "      <th></th>\n",
       "      <th></th>\n",
       "      <th></th>\n",
       "      <th></th>\n",
       "      <th></th>\n",
       "      <th></th>\n",
       "      <th></th>\n",
       "      <th></th>\n",
       "      <th></th>\n",
       "      <th></th>\n",
       "      <th></th>\n",
       "      <th></th>\n",
       "      <th></th>\n",
       "    </tr>\n",
       "  </thead>\n",
       "  <tbody>\n",
       "    <tr>\n",
       "      <th>15</th>\n",
       "      <td>american/am1183/Z300192343</td>\n",
       "      <td>1900-1999 Twentieth-Century</td>\n",
       "      <td>American Poetry</td>\n",
       "      <td>Robinson, Edwin Arlington, 1869-1935</td>\n",
       "      <td>1869.0</td>\n",
       "      <td>THREE QUATRAINS</td>\n",
       "      <td>1899</td>\n",
       "      <td>12</td>\n",
       "      <td>Collected poems (1937)</td>\n",
       "      <td>&amp;indent;Will poets mock it with crowned words ...</td>\n",
       "      <td>y</td>\n",
       "      <td>NaN</td>\n",
       "      <td>1850-1900</td>\n",
       "      <td>As long as Fame's imperious music rings\\n    W...</td>\n",
       "    </tr>\n",
       "    <tr>\n",
       "      <th>16</th>\n",
       "      <td>american/am0613/Z200167632</td>\n",
       "      <td>1835-1869 Mid Nineteenth-Century</td>\n",
       "      <td>American Poetry</td>\n",
       "      <td>Gallagher, William D. (William Davis), 1808-1894</td>\n",
       "      <td>1808.0</td>\n",
       "      <td>OUR EARLY DAYS.</td>\n",
       "      <td>1838</td>\n",
       "      <td>58</td>\n",
       "      <td>[Poems, in] Selections from the poetical liter...</td>\n",
       "      <td>We turn on Life's bewildering track,</td>\n",
       "      <td>y</td>\n",
       "      <td>NaN</td>\n",
       "      <td>1800-1850</td>\n",
       "      <td>Our EARLY DAYS! -- How often back\\nWe turn on ...</td>\n",
       "    </tr>\n",
       "    <tr>\n",
       "      <th>16</th>\n",
       "      <td>english/callanan/Z300294777</td>\n",
       "      <td>1800-1834 Early Nineteenth-Century</td>\n",
       "      <td>English Poetry</td>\n",
       "      <td>Callanan, Jeremiah Joseph, 1795-1829</td>\n",
       "      <td>1795.0</td>\n",
       "      <td>“SI JE DE PERDS, JE SUIS PERDU.”</td>\n",
       "      <td>1825</td>\n",
       "      <td>40</td>\n",
       "      <td>The Poems (1861)</td>\n",
       "      <td>Shine on thou bright beacon</td>\n",
       "      <td>y</td>\n",
       "      <td>NaN</td>\n",
       "      <td>1750-1800</td>\n",
       "      <td>Shine on thou bright beacon\\n    Unclouded and...</td>\n",
       "    </tr>\n",
       "    <tr>\n",
       "      <th>19</th>\n",
       "      <td>english/wattsisa/Z400522946</td>\n",
       "      <td>1750-1799 Later Eighteenth-Century</td>\n",
       "      <td>English Poetry</td>\n",
       "      <td>Watts, Isaac, 1674-1748</td>\n",
       "      <td>1674.0</td>\n",
       "      <td>HYMN 135. (L. M.) Types and Prophecies of Christ.</td>\n",
       "      <td>1704</td>\n",
       "      <td>16</td>\n",
       "      <td>The Works (1810)</td>\n",
       "      <td>Behold the great Messiah come!</td>\n",
       "      <td>y</td>\n",
       "      <td>Lyric</td>\n",
       "      <td>1650-1700</td>\n",
       "      <td>Behold the woman's promised seed!\\nBehold the ...</td>\n",
       "    </tr>\n",
       "    <tr>\n",
       "      <th>25</th>\n",
       "      <td>english/mooreedw/Z200444546</td>\n",
       "      <td>1700-1749 Early Eighteenth-Century</td>\n",
       "      <td>English Poetry</td>\n",
       "      <td>Moore, Edward, 1712-1757</td>\n",
       "      <td>1712.0</td>\n",
       "      <td>SONG the Eighth.</td>\n",
       "      <td>1742</td>\n",
       "      <td>24</td>\n",
       "      <td>Poems, Fables and Plays (1756)</td>\n",
       "      <td>I always have boasted, and seek not to hide;</td>\n",
       "      <td>y</td>\n",
       "      <td>NaN</td>\n",
       "      <td>1700-1750</td>\n",
       "      <td>That Jenny's my friend, my delight, and my pri...</td>\n",
       "    </tr>\n",
       "    <tr>\n",
       "      <th>...</th>\n",
       "      <td>...</td>\n",
       "      <td>...</td>\n",
       "      <td>...</td>\n",
       "      <td>...</td>\n",
       "      <td>...</td>\n",
       "      <td>...</td>\n",
       "      <td>...</td>\n",
       "      <td>...</td>\n",
       "      <td>...</td>\n",
       "      <td>...</td>\n",
       "      <td>...</td>\n",
       "      <td>...</td>\n",
       "      <td>...</td>\n",
       "      <td>...</td>\n",
       "    </tr>\n",
       "    <tr>\n",
       "      <th>233059</th>\n",
       "      <td>english/newmanfr/Z200449912</td>\n",
       "      <td>1835-1869 Mid Nineteenth-Century</td>\n",
       "      <td>English Poetry</td>\n",
       "      <td>Newman, Francis William, 1805-1897</td>\n",
       "      <td>1805.0</td>\n",
       "      <td>Epilogus.</td>\n",
       "      <td>1835</td>\n",
       "      <td>33</td>\n",
       "      <td>Theism (1858)</td>\n",
       "      <td>We praise thee in thy sanctity.</td>\n",
       "      <td>n</td>\n",
       "      <td>NaN</td>\n",
       "      <td>1800-1850</td>\n",
       "      <td>We praise thee in thy power, O God!\\nWe praise...</td>\n",
       "    </tr>\n",
       "    <tr>\n",
       "      <th>233439</th>\n",
       "      <td>american/am0338/Z200157116</td>\n",
       "      <td>1870-1899 Later Nineteenth-Century</td>\n",
       "      <td>American Poetry</td>\n",
       "      <td>Wilcox, Ella Wheeler, 1850-1919</td>\n",
       "      <td>1850.0</td>\n",
       "      <td>THOUGHTS ON LEAVING JAPAN</td>\n",
       "      <td>1880</td>\n",
       "      <td>30</td>\n",
       "      <td>The worlds and I [1918]</td>\n",
       "      <td>A changing medley of insistent sounds,</td>\n",
       "      <td>n</td>\n",
       "      <td>NaN</td>\n",
       "      <td>1850-1900</td>\n",
       "      <td>A changing medley of insistent sounds,\\nLike b...</td>\n",
       "    </tr>\n",
       "    <tr>\n",
       "      <th>233475</th>\n",
       "      <td>english/landorwa/Z200413028</td>\n",
       "      <td>1800-1834 Early Nineteenth-Century</td>\n",
       "      <td>English Poetry</td>\n",
       "      <td>Landor, Walter Savage, 1775-1864</td>\n",
       "      <td>1775.0</td>\n",
       "      <td>LORD DUDLEY STUART</td>\n",
       "      <td>1805</td>\n",
       "      <td>22</td>\n",
       "      <td>To Elizabeth Barrett Browning (1917)</td>\n",
       "      <td>By the grave's coldness palsied is the hand</td>\n",
       "      <td>n</td>\n",
       "      <td>Elegy</td>\n",
       "      <td>1750-1800</td>\n",
       "      <td>By the grave's coldness palsied is the hand\\nO...</td>\n",
       "    </tr>\n",
       "    <tr>\n",
       "      <th>233932</th>\n",
       "      <td>american/am1066/Z300185691</td>\n",
       "      <td>1835-1869 Mid Nineteenth-Century</td>\n",
       "      <td>American Poetry</td>\n",
       "      <td>Whitman, Walt, 1819-1892</td>\n",
       "      <td>1819.0</td>\n",
       "      <td>RESPONDEZ!</td>\n",
       "      <td>1849</td>\n",
       "      <td>68</td>\n",
       "      <td>Leaves of grass (1872)</td>\n",
       "      <td>(The war is completed—the price is paid—the ti...</td>\n",
       "      <td>n</td>\n",
       "      <td>NaN</td>\n",
       "      <td>1800-1850</td>\n",
       "      <td>Respondez! Respondez!\\n(The war is completed -...</td>\n",
       "    </tr>\n",
       "    <tr>\n",
       "      <th>234114</th>\n",
       "      <td>english/rhoadesj/Z200473606</td>\n",
       "      <td>1870-1899 Later Nineteenth-Century</td>\n",
       "      <td>English Poetry</td>\n",
       "      <td>Rhoades, James, 1841-1923</td>\n",
       "      <td>1841.0</td>\n",
       "      <td>XXVII.HOW BROTHER BERNARD OF QUINTAVALLE WAS E...</td>\n",
       "      <td>1871</td>\n",
       "      <td>56</td>\n",
       "      <td>The little flowers of St. Francis of Assisi (1...</td>\n",
       "      <td>Poor gospellers, who for God's love the world</td>\n",
       "      <td>n</td>\n",
       "      <td>NaN</td>\n",
       "      <td>1800-1850</td>\n",
       "      <td>What grace full many a time God wrought in tho...</td>\n",
       "    </tr>\n",
       "  </tbody>\n",
       "</table>\n",
       "<p>2000 rows × 14 columns</p>\n",
       "</div>"
      ],
      "text/plain": [
       "                                  id                         period_meta        subcorpus                                            author  author_dob  \\\n",
       "id_hash                                                                                                                                                   \n",
       "15        american/am1183/Z300192343         1900-1999 Twentieth-Century  American Poetry              Robinson, Edwin Arlington, 1869-1935      1869.0   \n",
       "16        american/am0613/Z200167632    1835-1869 Mid Nineteenth-Century  American Poetry  Gallagher, William D. (William Davis), 1808-1894      1808.0   \n",
       "16       english/callanan/Z300294777  1800-1834 Early Nineteenth-Century   English Poetry              Callanan, Jeremiah Joseph, 1795-1829      1795.0   \n",
       "19       english/wattsisa/Z400522946  1750-1799 Later Eighteenth-Century   English Poetry                           Watts, Isaac, 1674-1748      1674.0   \n",
       "25       english/mooreedw/Z200444546  1700-1749 Early Eighteenth-Century   English Poetry                          Moore, Edward, 1712-1757      1712.0   \n",
       "...                              ...                                 ...              ...                                               ...         ...   \n",
       "233059   english/newmanfr/Z200449912    1835-1869 Mid Nineteenth-Century   English Poetry                Newman, Francis William, 1805-1897      1805.0   \n",
       "233439    american/am0338/Z200157116  1870-1899 Later Nineteenth-Century  American Poetry                   Wilcox, Ella Wheeler, 1850-1919      1850.0   \n",
       "233475   english/landorwa/Z200413028  1800-1834 Early Nineteenth-Century   English Poetry                  Landor, Walter Savage, 1775-1864      1775.0   \n",
       "233932    american/am1066/Z300185691    1835-1869 Mid Nineteenth-Century  American Poetry                          Whitman, Walt, 1819-1892      1819.0   \n",
       "234114   english/rhoadesj/Z200473606  1870-1899 Later Nineteenth-Century   English Poetry                         Rhoades, James, 1841-1923      1841.0   \n",
       "\n",
       "                                                     title  year  num_lines                                             volume                                               line rhyme  genre  \\\n",
       "id_hash                                                                                                                                                                                          \n",
       "15                                         THREE QUATRAINS  1899         12                             Collected poems (1937)  &indent;Will poets mock it with crowned words ...     y    NaN   \n",
       "16                                         OUR EARLY DAYS.  1838         58  [Poems, in] Selections from the poetical liter...               We turn on Life's bewildering track,     y    NaN   \n",
       "16                        “SI JE DE PERDS, JE SUIS PERDU.”  1825         40                                   The Poems (1861)                        Shine on thou bright beacon     y    NaN   \n",
       "19       HYMN 135. (L. M.) Types and Prophecies of Christ.  1704         16                                   The Works (1810)                     Behold the great Messiah come!     y  Lyric   \n",
       "25                                        SONG the Eighth.  1742         24                     Poems, Fables and Plays (1756)       I always have boasted, and seek not to hide;     y    NaN   \n",
       "...                                                    ...   ...        ...                                                ...                                                ...   ...    ...   \n",
       "233059                                           Epilogus.  1835         33                                      Theism (1858)                    We praise thee in thy sanctity.     n    NaN   \n",
       "233439                           THOUGHTS ON LEAVING JAPAN  1880         30                            The worlds and I [1918]             A changing medley of insistent sounds,     n    NaN   \n",
       "233475                                  LORD DUDLEY STUART  1805         22               To Elizabeth Barrett Browning (1917)        By the grave's coldness palsied is the hand     n  Elegy   \n",
       "233932                                          RESPONDEZ!  1849         68                             Leaves of grass (1872)  (The war is completed—the price is paid—the ti...     n    NaN   \n",
       "234114   XXVII.HOW BROTHER BERNARD OF QUINTAVALLE WAS E...  1871         56  The little flowers of St. Francis of Assisi (1...      Poor gospellers, who for God's love the world     n    NaN   \n",
       "\n",
       "            period                                                txt  \n",
       "id_hash                                                                \n",
       "15       1850-1900  As long as Fame's imperious music rings\\n    W...  \n",
       "16       1800-1850  Our EARLY DAYS! -- How often back\\nWe turn on ...  \n",
       "16       1750-1800  Shine on thou bright beacon\\n    Unclouded and...  \n",
       "19       1650-1700  Behold the woman's promised seed!\\nBehold the ...  \n",
       "25       1700-1750  That Jenny's my friend, my delight, and my pri...  \n",
       "...            ...                                                ...  \n",
       "233059   1800-1850  We praise thee in thy power, O God!\\nWe praise...  \n",
       "233439   1850-1900  A changing medley of insistent sounds,\\nLike b...  \n",
       "233475   1750-1800  By the grave's coldness palsied is the hand\\nO...  \n",
       "233932   1800-1850  Respondez! Respondez!\\n(The war is completed -...  \n",
       "234114   1800-1850  What grace full many a time God wrought in tho...  \n",
       "\n",
       "[2000 rows x 14 columns]"
      ]
     },
     "execution_count": 11,
     "metadata": {},
     "output_type": "execute_result"
    }
   ],
   "source": [
    "printm(f'### Replicating rhyme sample')\n",
    "df_smpl_by_rhyme_replicated = get_chadwyck_corpus_sampled_by_rhyme_as_replicated()\n",
    "assert len(df_smpl_by_rhyme_replicated) == 2000\n",
    "describe_corpus(df_smpl_by_rhyme_replicated)"
   ]
  },
  {
   "cell_type": "markdown",
   "metadata": {},
   "source": [
    "## Sampling corpus by period/subcorpus"
   ]
  },
  {
   "cell_type": "code",
   "execution_count": 12,
   "metadata": {},
   "outputs": [
    {
     "data": {
      "text/markdown": [
       "### Loading period/subcorpus sample in paper"
      ],
      "text/plain": [
       "<IPython.core.display.Markdown object>"
      ]
     },
     "metadata": {},
     "output_type": "display_data"
    },
    {
     "data": {
      "text/markdown": [
       "----"
      ],
      "text/plain": [
       "<IPython.core.display.Markdown object>"
      ]
     },
     "metadata": {},
     "output_type": "display_data"
    },
    {
     "data": {
      "text/markdown": [
       "#### Subcorpus breakdown"
      ],
      "text/plain": [
       "<IPython.core.display.Markdown object>"
      ]
     },
     "metadata": {},
     "output_type": "display_data"
    },
    {
     "name": "stdout",
     "output_type": "stream",
     "text": [
      "subcorpus\n",
      "English Poetry              8000\n",
      "American Poetry             5775\n",
      "African-American Poetry     3649\n",
      "Modern Poetry               2810\n",
      "The Faber Poetry Library    2484\n",
      "Name: count, dtype: int64\n",
      "\n"
     ]
    },
    {
     "data": {
      "text/markdown": [
       "----"
      ],
      "text/plain": [
       "<IPython.core.display.Markdown object>"
      ]
     },
     "metadata": {},
     "output_type": "display_data"
    },
    {
     "data": {
      "text/markdown": [
       "#### Historical period breakdown (from metadata)"
      ],
      "text/plain": [
       "<IPython.core.display.Markdown object>"
      ]
     },
     "metadata": {},
     "output_type": "display_data"
    },
    {
     "name": "stdout",
     "output_type": "stream",
     "text": [
      "period_meta\n",
      "1900-1999 Twentieth-Century                    12630\n",
      "1835-1869 Mid Nineteenth-Century                2042\n",
      "1870-1899 Later Nineteenth-Century              1962\n",
      "1800-1834 Early Nineteenth-Century              1172\n",
      "1700-1749 Early Eighteenth-Century              1117\n",
      "1750-1799 Later Eighteenth-Century              1074\n",
      "1603-1660 Jacobean and Caroline                  951\n",
      "1660-1700 Restoration                            566\n",
      "1550-1900 Miscellanies and Collections           158\n",
      "1500-1700 Emblems, Epigrams, Formal Satires       51\n",
      "1500-1580 Tudor                                   22\n",
      "1880-1901 Late Victorian                           5\n",
      "1837-1860 Early Victorian                          1\n",
      "1860-1880 Mid-Victorian                            1\n",
      "1500-1700 Songbooks                                1\n",
      "Name: count, dtype: int64\n",
      "\n"
     ]
    },
    {
     "data": {
      "text/markdown": [
       "----"
      ],
      "text/plain": [
       "<IPython.core.display.Markdown object>"
      ]
     },
     "metadata": {},
     "output_type": "display_data"
    },
    {
     "data": {
      "text/markdown": [
       "#### Historical period breakdown (from author birth year)"
      ],
      "text/plain": [
       "<IPython.core.display.Markdown object>"
      ]
     },
     "metadata": {},
     "output_type": "display_data"
    },
    {
     "name": "stdout",
     "output_type": "stream",
     "text": [
      "period\n",
      "1900-1950    5000\n",
      "1850-1900    4672\n",
      "1950-2000    4436\n",
      "1800-1850    2544\n",
      "1750-1800    2286\n",
      "1600-1650    1361\n",
      "1700-1750    1345\n",
      "1650-1700    1074\n",
      "Name: count, dtype: int64\n",
      "\n"
     ]
    },
    {
     "data": {
      "text/markdown": [
       "----"
      ],
      "text/plain": [
       "<IPython.core.display.Markdown object>"
      ]
     },
     "metadata": {},
     "output_type": "display_data"
    },
    {
     "data": {
      "text/markdown": [
       "#### Historical period + subcorpus breakdown"
      ],
      "text/plain": [
       "<IPython.core.display.Markdown object>"
      ]
     },
     "metadata": {},
     "output_type": "display_data"
    },
    {
     "name": "stdout",
     "output_type": "stream",
     "text": [
      "                                    count\n",
      "period    subcorpus                      \n",
      "1600-1650 American Poetry             361\n",
      "          English Poetry             1000\n",
      "1650-1700 American Poetry              74\n",
      "          English Poetry             1000\n",
      "1700-1750 African-American Poetry       3\n",
      "          American Poetry             340\n",
      "          English Poetry             1000\n",
      "          The Faber Poetry Library      2\n",
      "1750-1800 African-American Poetry     284\n",
      "          American Poetry            1000\n",
      "          English Poetry             1000\n",
      "          The Faber Poetry Library      2\n",
      "1800-1850 African-American Poetry     542\n",
      "          American Poetry            1000\n",
      "          English Poetry             1000\n",
      "          Modern Poetry                 1\n",
      "          The Faber Poetry Library      1\n",
      "1850-1900 African-American Poetry    1000\n",
      "          American Poetry            1000\n",
      "          English Poetry             1000\n",
      "          Modern Poetry               809\n",
      "          The Faber Poetry Library    863\n",
      "1900-1950 African-American Poetry    1000\n",
      "          American Poetry            1000\n",
      "          English Poetry             1000\n",
      "          Modern Poetry              1000\n",
      "          The Faber Poetry Library   1000\n",
      "1950-2000 African-American Poetry     820\n",
      "          American Poetry            1000\n",
      "          English Poetry             1000\n",
      "          Modern Poetry              1000\n",
      "          The Faber Poetry Library    616\n",
      "\n"
     ]
    },
    {
     "data": {
      "text/markdown": [
       "----"
      ],
      "text/plain": [
       "<IPython.core.display.Markdown object>"
      ]
     },
     "metadata": {},
     "output_type": "display_data"
    },
    {
     "data": {
      "text/markdown": [
       "#### Author birth year distribution"
      ],
      "text/plain": [
       "<IPython.core.display.Markdown object>"
      ]
     },
     "metadata": {},
     "output_type": "display_data"
    },
    {
     "name": "stdout",
     "output_type": "stream",
     "text": [
      "author_dob\n",
      "1600 ------- [ 1795   | 1886 |   1940 ] -------- 1974\n",
      "\n"
     ]
    },
    {
     "data": {
      "text/markdown": [
       "----"
      ],
      "text/plain": [
       "<IPython.core.display.Markdown object>"
      ]
     },
     "metadata": {},
     "output_type": "display_data"
    },
    {
     "data": {
      "text/markdown": [
       "#### Number of lines in poems"
      ],
      "text/plain": [
       "<IPython.core.display.Markdown object>"
      ]
     },
     "metadata": {},
     "output_type": "display_data"
    },
    {
     "name": "stdout",
     "output_type": "stream",
     "text": [
      "num_lines\n",
      "10 ------- [ 16   | 25 |   40 ] -------- 100\n",
      "\n"
     ]
    },
    {
     "data": {
      "text/markdown": [
       "----"
      ],
      "text/plain": [
       "<IPython.core.display.Markdown object>"
      ]
     },
     "metadata": {},
     "output_type": "display_data"
    },
    {
     "data": {
      "text/markdown": [
       "#### Annotated rhyme distribution"
      ],
      "text/plain": [
       "<IPython.core.display.Markdown object>"
      ]
     },
     "metadata": {},
     "output_type": "display_data"
    },
    {
     "name": "stdout",
     "output_type": "stream",
     "text": [
      "rhyme\n",
      "y      10336\n",
      "n        253\n",
      "y n        8\n",
      "Name: count, dtype: int64\n",
      "\n"
     ]
    },
    {
     "data": {
      "text/markdown": [
       "----"
      ],
      "text/plain": [
       "<IPython.core.display.Markdown object>"
      ]
     },
     "metadata": {},
     "output_type": "display_data"
    },
    {
     "data": {
      "text/markdown": [
       "#### Metadata"
      ],
      "text/plain": [
       "<IPython.core.display.Markdown object>"
      ]
     },
     "metadata": {},
     "output_type": "display_data"
    },
    {
     "data": {
      "text/html": [
       "<div>\n",
       "<style scoped>\n",
       "    .dataframe tbody tr th:only-of-type {\n",
       "        vertical-align: middle;\n",
       "    }\n",
       "\n",
       "    .dataframe tbody tr th {\n",
       "        vertical-align: top;\n",
       "    }\n",
       "\n",
       "    .dataframe thead th {\n",
       "        text-align: right;\n",
       "    }\n",
       "</style>\n",
       "<table border=\"1\" class=\"dataframe\">\n",
       "  <thead>\n",
       "    <tr style=\"text-align: right;\">\n",
       "      <th></th>\n",
       "      <th>id</th>\n",
       "      <th>period_meta</th>\n",
       "      <th>subcorpus</th>\n",
       "      <th>author</th>\n",
       "      <th>author_dob</th>\n",
       "      <th>title</th>\n",
       "      <th>year</th>\n",
       "      <th>num_lines</th>\n",
       "      <th>volume</th>\n",
       "      <th>line</th>\n",
       "      <th>rhyme</th>\n",
       "      <th>genre</th>\n",
       "      <th>period</th>\n",
       "      <th>txt</th>\n",
       "    </tr>\n",
       "    <tr>\n",
       "      <th>id_hash</th>\n",
       "      <th></th>\n",
       "      <th></th>\n",
       "      <th></th>\n",
       "      <th></th>\n",
       "      <th></th>\n",
       "      <th></th>\n",
       "      <th></th>\n",
       "      <th></th>\n",
       "      <th></th>\n",
       "      <th></th>\n",
       "      <th></th>\n",
       "      <th></th>\n",
       "      <th></th>\n",
       "      <th></th>\n",
       "    </tr>\n",
       "  </thead>\n",
       "  <tbody>\n",
       "    <tr>\n",
       "      <th>2</th>\n",
       "      <td>c20-english/ep20152/Z200586158</td>\n",
       "      <td>1900-1999 Twentieth-Century</td>\n",
       "      <td>English Poetry</td>\n",
       "      <td>Rosenberg, Isaac, 1890-1918</td>\n",
       "      <td>1890.0</td>\n",
       "      <td>‘I KNOW YOU GOLDEN’</td>\n",
       "      <td>1920</td>\n",
       "      <td>12</td>\n",
       "      <td>NaN</td>\n",
       "      <td>I know you golden</td>\n",
       "      <td>NaN</td>\n",
       "      <td>NaN</td>\n",
       "      <td>1850-1900</td>\n",
       "      <td>I know you golden\\nAs summer and pale\\nAs the ...</td>\n",
       "    </tr>\n",
       "    <tr>\n",
       "      <th>3</th>\n",
       "      <td>english/kerpeter/Z300410015</td>\n",
       "      <td>1660-1700 Restoration</td>\n",
       "      <td>English Poetry</td>\n",
       "      <td>Ker, Patrick, fl. 1691</td>\n",
       "      <td>1691.0</td>\n",
       "      <td>On the Memory of a Married Maid.</td>\n",
       "      <td>1721</td>\n",
       "      <td>16</td>\n",
       "      <td>Flosculum Poeticum (1684)</td>\n",
       "      <td>A Marrie'd&amp;hyphen;Virgin to remain.</td>\n",
       "      <td>y</td>\n",
       "      <td>NaN</td>\n",
       "      <td>1650-1700</td>\n",
       "      <td>Within this Coffin here does lie,\\nA Pattern o...</td>\n",
       "    </tr>\n",
       "    <tr>\n",
       "      <th>7</th>\n",
       "      <td>american/am1258/Z200196105</td>\n",
       "      <td>1835-1869 Mid Nineteenth-Century</td>\n",
       "      <td>American Poetry</td>\n",
       "      <td>Emerson, Ralph Waldo, 1803-1882</td>\n",
       "      <td>1803.0</td>\n",
       "      <td>SEPTEMBER</td>\n",
       "      <td>1833</td>\n",
       "      <td>16</td>\n",
       "      <td>Poems [1904]</td>\n",
       "      <td>&amp;indent;Of a gusty Autumn day,</td>\n",
       "      <td>y</td>\n",
       "      <td>NaN</td>\n",
       "      <td>1800-1850</td>\n",
       "      <td>In the turbulent beauty\\n    Of a gusty Autumn...</td>\n",
       "    </tr>\n",
       "    <tr>\n",
       "      <th>8</th>\n",
       "      <td>english/gilfilla/Z400379001</td>\n",
       "      <td>1800-1834 Early Nineteenth-Century</td>\n",
       "      <td>English Poetry</td>\n",
       "      <td>Gilfillan, Robert, 1798-1850</td>\n",
       "      <td>1798.0</td>\n",
       "      <td>NORWEGIAN SMUGGLER'S SONG.</td>\n",
       "      <td>1828</td>\n",
       "      <td>36</td>\n",
       "      <td>Poems and Songs (1851)</td>\n",
       "      <td>&amp;indent;The storm is loud and high,</td>\n",
       "      <td>y</td>\n",
       "      <td>NaN</td>\n",
       "      <td>1750-1800</td>\n",
       "      <td>Awake, you midnight mariners!\\n    The storm i...</td>\n",
       "    </tr>\n",
       "    <tr>\n",
       "      <th>18</th>\n",
       "      <td>english/wattwill/Z300523577</td>\n",
       "      <td>1800-1834 Early Nineteenth-Century</td>\n",
       "      <td>English Poetry</td>\n",
       "      <td>Watt, William, 1793-1859</td>\n",
       "      <td>1793.0</td>\n",
       "      <td>BAB AT THE BOWSTER.</td>\n",
       "      <td>1823</td>\n",
       "      <td>40</td>\n",
       "      <td>Poems and Songs (1860)</td>\n",
       "      <td>Wi' touslet hair and drowsy een?</td>\n",
       "      <td>y</td>\n",
       "      <td>Ballad</td>\n",
       "      <td>1750-1800</td>\n",
       "      <td>Lassie, whare were you yestreen,\\nWi' touslet ...</td>\n",
       "    </tr>\n",
       "    <tr>\n",
       "      <th>...</th>\n",
       "      <td>...</td>\n",
       "      <td>...</td>\n",
       "      <td>...</td>\n",
       "      <td>...</td>\n",
       "      <td>...</td>\n",
       "      <td>...</td>\n",
       "      <td>...</td>\n",
       "      <td>...</td>\n",
       "      <td>...</td>\n",
       "      <td>...</td>\n",
       "      <td>...</td>\n",
       "      <td>...</td>\n",
       "      <td>...</td>\n",
       "      <td>...</td>\n",
       "    </tr>\n",
       "    <tr>\n",
       "      <th>999109</th>\n",
       "      <td>faber/fa0401/Z300557474</td>\n",
       "      <td>1900-1999 Twentieth-Century</td>\n",
       "      <td>The Faber Poetry Library</td>\n",
       "      <td>Boyle, Charles, 1951-</td>\n",
       "      <td>1951.0</td>\n",
       "      <td>(i) Underground</td>\n",
       "      <td>1981</td>\n",
       "      <td>18</td>\n",
       "      <td>NaN</td>\n",
       "      <td>A woman sleeping on the underground:</td>\n",
       "      <td>NaN</td>\n",
       "      <td>NaN</td>\n",
       "      <td>1950-2000</td>\n",
       "      <td>A woman sleeping on the underground:\\nneat, As...</td>\n",
       "    </tr>\n",
       "    <tr>\n",
       "      <th>999377</th>\n",
       "      <td>c20-african-american/da20076/Z300330273</td>\n",
       "      <td>1900-1999 Twentieth-Century</td>\n",
       "      <td>African-American Poetry</td>\n",
       "      <td>Weaver, Michael S., 1951-</td>\n",
       "      <td>1951.0</td>\n",
       "      <td>Duke Ellington and His Mistress Make Love</td>\n",
       "      <td>1981</td>\n",
       "      <td>34</td>\n",
       "      <td>NaN</td>\n",
       "      <td>I draw the sheets written with life</td>\n",
       "      <td>NaN</td>\n",
       "      <td>NaN</td>\n",
       "      <td>1950-2000</td>\n",
       "      <td>I draw the sheets written with life\\naround me...</td>\n",
       "    </tr>\n",
       "    <tr>\n",
       "      <th>999379</th>\n",
       "      <td>african-american/hortonge/Z200399812</td>\n",
       "      <td>1835-1869 Mid Nineteenth-Century</td>\n",
       "      <td>African-American Poetry</td>\n",
       "      <td>Horton, George Moses, 1798?-ca.1880</td>\n",
       "      <td>1798.0</td>\n",
       "      <td>THE POWERS OF LOVE.</td>\n",
       "      <td>1828</td>\n",
       "      <td>35</td>\n",
       "      <td>Naked Genius (1865)</td>\n",
       "      <td>It lifts the poor man from his cell</td>\n",
       "      <td>y</td>\n",
       "      <td>NaN</td>\n",
       "      <td>1750-1800</td>\n",
       "      <td>It lifts the poor man from his cell\\n    To fo...</td>\n",
       "    </tr>\n",
       "    <tr>\n",
       "      <th>999421</th>\n",
       "      <td>c20-african-american/da22011/Z300262800</td>\n",
       "      <td>1900-1999 Twentieth-Century</td>\n",
       "      <td>African-American Poetry</td>\n",
       "      <td>Jackson, Angela, 1951-</td>\n",
       "      <td>1951.0</td>\n",
       "      <td>george, after all, means farmer</td>\n",
       "      <td>1981</td>\n",
       "      <td>39</td>\n",
       "      <td>NaN</td>\n",
       "      <td>he carried a tomato plant &amp;</td>\n",
       "      <td>NaN</td>\n",
       "      <td>NaN</td>\n",
       "      <td>1950-2000</td>\n",
       "      <td>he carried a tomato plant &amp;\\nwatermelon\\nacros...</td>\n",
       "    </tr>\n",
       "    <tr>\n",
       "      <th>999841</th>\n",
       "      <td>c20-english/ent0801/Z300576356</td>\n",
       "      <td>1900-1999 Twentieth-Century</td>\n",
       "      <td>Modern Poetry</td>\n",
       "      <td>Cornford, Frances Darwin, 1886-1960</td>\n",
       "      <td>1886.0</td>\n",
       "      <td>THE WATCH</td>\n",
       "      <td>1916</td>\n",
       "      <td>10</td>\n",
       "      <td>NaN</td>\n",
       "      <td>I wakened on my hot, hard bed,</td>\n",
       "      <td>NaN</td>\n",
       "      <td>NaN</td>\n",
       "      <td>1850-1900</td>\n",
       "      <td>I wakened on my hight, hard bed,\\nUpon the pil...</td>\n",
       "    </tr>\n",
       "  </tbody>\n",
       "</table>\n",
       "<p>22718 rows × 14 columns</p>\n",
       "</div>"
      ],
      "text/plain": [
       "                                              id                         period_meta                 subcorpus                               author  author_dob  \\\n",
       "id_hash                                                                                                                                                           \n",
       "2                 c20-english/ep20152/Z200586158         1900-1999 Twentieth-Century            English Poetry          Rosenberg, Isaac, 1890-1918      1890.0   \n",
       "3                    english/kerpeter/Z300410015               1660-1700 Restoration            English Poetry               Ker, Patrick, fl. 1691      1691.0   \n",
       "7                     american/am1258/Z200196105    1835-1869 Mid Nineteenth-Century           American Poetry      Emerson, Ralph Waldo, 1803-1882      1803.0   \n",
       "8                    english/gilfilla/Z400379001  1800-1834 Early Nineteenth-Century            English Poetry         Gilfillan, Robert, 1798-1850      1798.0   \n",
       "18                   english/wattwill/Z300523577  1800-1834 Early Nineteenth-Century            English Poetry             Watt, William, 1793-1859      1793.0   \n",
       "...                                          ...                                 ...                       ...                                  ...         ...   \n",
       "999109                   faber/fa0401/Z300557474         1900-1999 Twentieth-Century  The Faber Poetry Library                Boyle, Charles, 1951-      1951.0   \n",
       "999377   c20-african-american/da20076/Z300330273         1900-1999 Twentieth-Century   African-American Poetry            Weaver, Michael S., 1951-      1951.0   \n",
       "999379      african-american/hortonge/Z200399812    1835-1869 Mid Nineteenth-Century   African-American Poetry  Horton, George Moses, 1798?-ca.1880      1798.0   \n",
       "999421   c20-african-american/da22011/Z300262800         1900-1999 Twentieth-Century   African-American Poetry               Jackson, Angela, 1951-      1951.0   \n",
       "999841            c20-english/ent0801/Z300576356         1900-1999 Twentieth-Century             Modern Poetry  Cornford, Frances Darwin, 1886-1960      1886.0   \n",
       "\n",
       "                                             title  year  num_lines                     volume                                  line rhyme   genre     period  \\\n",
       "id_hash                                                                                                                                                         \n",
       "2                              ‘I KNOW YOU GOLDEN’  1920         12                        NaN                     I know you golden   NaN     NaN  1850-1900   \n",
       "3                 On the Memory of a Married Maid.  1721         16  Flosculum Poeticum (1684)   A Marrie'd&hyphen;Virgin to remain.     y     NaN  1650-1700   \n",
       "7                                        SEPTEMBER  1833         16               Poems [1904]        &indent;Of a gusty Autumn day,     y     NaN  1800-1850   \n",
       "8                       NORWEGIAN SMUGGLER'S SONG.  1828         36     Poems and Songs (1851)   &indent;The storm is loud and high,     y     NaN  1750-1800   \n",
       "18                             BAB AT THE BOWSTER.  1823         40     Poems and Songs (1860)      Wi' touslet hair and drowsy een?     y  Ballad  1750-1800   \n",
       "...                                            ...   ...        ...                        ...                                   ...   ...     ...        ...   \n",
       "999109                             (i) Underground  1981         18                        NaN  A woman sleeping on the underground:   NaN     NaN  1950-2000   \n",
       "999377   Duke Ellington and His Mistress Make Love  1981         34                        NaN   I draw the sheets written with life   NaN     NaN  1950-2000   \n",
       "999379                         THE POWERS OF LOVE.  1828         35        Naked Genius (1865)   It lifts the poor man from his cell     y     NaN  1750-1800   \n",
       "999421             george, after all, means farmer  1981         39                        NaN           he carried a tomato plant &   NaN     NaN  1950-2000   \n",
       "999841                                   THE WATCH  1916         10                        NaN        I wakened on my hot, hard bed,   NaN     NaN  1850-1900   \n",
       "\n",
       "                                                       txt  \n",
       "id_hash                                                     \n",
       "2        I know you golden\\nAs summer and pale\\nAs the ...  \n",
       "3        Within this Coffin here does lie,\\nA Pattern o...  \n",
       "7        In the turbulent beauty\\n    Of a gusty Autumn...  \n",
       "8        Awake, you midnight mariners!\\n    The storm i...  \n",
       "18       Lassie, whare were you yestreen,\\nWi' touslet ...  \n",
       "...                                                    ...  \n",
       "999109   A woman sleeping on the underground:\\nneat, As...  \n",
       "999377   I draw the sheets written with life\\naround me...  \n",
       "999379   It lifts the poor man from his cell\\n    To fo...  \n",
       "999421   he carried a tomato plant &\\nwatermelon\\nacros...  \n",
       "999841   I wakened on my hight, hard bed,\\nUpon the pil...  \n",
       "\n",
       "[22718 rows x 14 columns]"
      ]
     },
     "execution_count": 12,
     "metadata": {},
     "output_type": "execute_result"
    }
   ],
   "source": [
    "printm(f'### Loading period/subcorpus sample in paper')\n",
    "df_smpl_by_period_subcorpus_in_paper = get_chadwyck_corpus_sampled_by_period_subcorpus_as_in_paper()\n",
    "assert len(df_smpl_by_period_subcorpus_in_paper) > 8000\n",
    "describe_corpus(df_smpl_by_period_subcorpus_in_paper)"
   ]
  },
  {
   "cell_type": "code",
   "execution_count": 13,
   "metadata": {},
   "outputs": [
    {
     "data": {
      "text/markdown": [
       "### Replicating period/subcorpus sample"
      ],
      "text/plain": [
       "<IPython.core.display.Markdown object>"
      ]
     },
     "metadata": {},
     "output_type": "display_data"
    },
    {
     "name": "stdout",
     "output_type": "stream",
     "text": [
      "* Generating period subcorpus sample\n"
     ]
    },
    {
     "data": {
      "text/markdown": [
       "##### Loading Chadwyck-Healey corpus (metadata + txt)"
      ],
      "text/plain": [
       "<IPython.core.display.Markdown object>"
      ]
     },
     "metadata": {},
     "output_type": "display_data"
    },
    {
     "name": "stdout",
     "output_type": "stream",
     "text": [
      "* Loading corpus from memory\n"
     ]
    },
    {
     "data": {
      "text/markdown": [
       "#### Sampling corpus by ['period', 'subcorpus'] (min 10, max 1000)"
      ],
      "text/plain": [
       "<IPython.core.display.Markdown object>"
      ]
     },
     "metadata": {},
     "output_type": "display_data"
    },
    {
     "name": "stdout",
     "output_type": "stream",
     "text": [
      "period     subcorpus               \n",
      "1600-1650  American Poetry              361\n",
      "           English Poetry              1000\n",
      "1650-1700  American Poetry               74\n",
      "           English Poetry              1000\n",
      "1700-1750  American Poetry              340\n",
      "           English Poetry              1000\n",
      "1750-1800  African-American Poetry      284\n",
      "           American Poetry             1000\n",
      "           English Poetry              1000\n",
      "1800-1850  African-American Poetry      542\n",
      "           American Poetry             1000\n",
      "           English Poetry              1000\n",
      "1850-1900  African-American Poetry     1000\n",
      "           American Poetry             1000\n",
      "           English Poetry              1000\n",
      "           Modern Poetry                809\n",
      "           The Faber Poetry Library     863\n",
      "1900-1950  African-American Poetry     1000\n",
      "           American Poetry             1000\n",
      "           English Poetry              1000\n",
      "           Modern Poetry               1000\n",
      "           The Faber Poetry Library    1000\n",
      "1950-2000  African-American Poetry      820\n",
      "           American Poetry             1000\n",
      "           English Poetry              1000\n",
      "           Modern Poetry               1000\n",
      "           The Faber Poetry Library     616\n",
      "dtype: int64\n",
      "* Saved sample to /Users/rj416/github/generative-formalism/data/corpus_sample_by_period_subcorpus.replicated.csv.gz\n"
     ]
    },
    {
     "data": {
      "text/markdown": [
       "----"
      ],
      "text/plain": [
       "<IPython.core.display.Markdown object>"
      ]
     },
     "metadata": {},
     "output_type": "display_data"
    },
    {
     "data": {
      "text/markdown": [
       "#### Subcorpus breakdown"
      ],
      "text/plain": [
       "<IPython.core.display.Markdown object>"
      ]
     },
     "metadata": {},
     "output_type": "display_data"
    },
    {
     "name": "stdout",
     "output_type": "stream",
     "text": [
      "subcorpus\n",
      "English Poetry              8000\n",
      "American Poetry             5775\n",
      "African-American Poetry     3646\n",
      "Modern Poetry               2809\n",
      "The Faber Poetry Library    2479\n",
      "Name: count, dtype: int64\n",
      "\n"
     ]
    },
    {
     "data": {
      "text/markdown": [
       "----"
      ],
      "text/plain": [
       "<IPython.core.display.Markdown object>"
      ]
     },
     "metadata": {},
     "output_type": "display_data"
    },
    {
     "data": {
      "text/markdown": [
       "#### Historical period breakdown (from metadata)"
      ],
      "text/plain": [
       "<IPython.core.display.Markdown object>"
      ]
     },
     "metadata": {},
     "output_type": "display_data"
    },
    {
     "name": "stdout",
     "output_type": "stream",
     "text": [
      "period_meta\n",
      "1900-1999 Twentieth-Century                    12638\n",
      "1835-1869 Mid Nineteenth-Century                2060\n",
      "1870-1899 Later Nineteenth-Century              1953\n",
      "1800-1834 Early Nineteenth-Century              1142\n",
      "1750-1799 Later Eighteenth-Century              1118\n",
      "1700-1749 Early Eighteenth-Century              1049\n",
      "                                                 986\n",
      "1603-1660 Jacobean and Caroline                  920\n",
      "1660-1700 Restoration                            587\n",
      "1550-1900 Miscellanies and Collections           180\n",
      "1500-1700 Emblems, Epigrams, Formal Satires       58\n",
      "1500-1580 Tudor                                   13\n",
      "1860-1880 Mid-Victorian                            3\n",
      "1880-1901 Late Victorian                           1\n",
      "1500-1700 Songbooks                                1\n",
      "Name: count, dtype: int64\n",
      "\n"
     ]
    },
    {
     "data": {
      "text/markdown": [
       "----"
      ],
      "text/plain": [
       "<IPython.core.display.Markdown object>"
      ]
     },
     "metadata": {},
     "output_type": "display_data"
    },
    {
     "data": {
      "text/markdown": [
       "#### Historical period breakdown (from author birth year)"
      ],
      "text/plain": [
       "<IPython.core.display.Markdown object>"
      ]
     },
     "metadata": {},
     "output_type": "display_data"
    },
    {
     "name": "stdout",
     "output_type": "stream",
     "text": [
      "period\n",
      "1900-1950    5000\n",
      "1850-1900    4672\n",
      "1950-2000    4436\n",
      "1800-1850    2542\n",
      "1750-1800    2284\n",
      "1600-1650    1361\n",
      "1700-1750    1340\n",
      "1650-1700    1074\n",
      "Name: count, dtype: int64\n",
      "\n"
     ]
    },
    {
     "data": {
      "text/markdown": [
       "----"
      ],
      "text/plain": [
       "<IPython.core.display.Markdown object>"
      ]
     },
     "metadata": {},
     "output_type": "display_data"
    },
    {
     "data": {
      "text/markdown": [
       "#### Historical period + subcorpus breakdown"
      ],
      "text/plain": [
       "<IPython.core.display.Markdown object>"
      ]
     },
     "metadata": {},
     "output_type": "display_data"
    },
    {
     "name": "stdout",
     "output_type": "stream",
     "text": [
      "                                    count\n",
      "period    subcorpus                      \n",
      "1600-1650 American Poetry             361\n",
      "          English Poetry             1000\n",
      "1650-1700 American Poetry              74\n",
      "          English Poetry             1000\n",
      "1700-1750 American Poetry             340\n",
      "          English Poetry             1000\n",
      "1750-1800 African-American Poetry     284\n",
      "          American Poetry            1000\n",
      "          English Poetry             1000\n",
      "1800-1850 African-American Poetry     542\n",
      "          American Poetry            1000\n",
      "          English Poetry             1000\n",
      "1850-1900 African-American Poetry    1000\n",
      "          American Poetry            1000\n",
      "          English Poetry             1000\n",
      "          Modern Poetry               809\n",
      "          The Faber Poetry Library    863\n",
      "1900-1950 African-American Poetry    1000\n",
      "          American Poetry            1000\n",
      "          English Poetry             1000\n",
      "          Modern Poetry              1000\n",
      "          The Faber Poetry Library   1000\n",
      "1950-2000 African-American Poetry     820\n",
      "          American Poetry            1000\n",
      "          English Poetry             1000\n",
      "          Modern Poetry              1000\n",
      "          The Faber Poetry Library    616\n",
      "\n"
     ]
    },
    {
     "data": {
      "text/markdown": [
       "----"
      ],
      "text/plain": [
       "<IPython.core.display.Markdown object>"
      ]
     },
     "metadata": {},
     "output_type": "display_data"
    },
    {
     "data": {
      "text/markdown": [
       "#### Author birth year distribution"
      ],
      "text/plain": [
       "<IPython.core.display.Markdown object>"
      ]
     },
     "metadata": {},
     "output_type": "display_data"
    },
    {
     "name": "stdout",
     "output_type": "stream",
     "text": [
      "author_dob\n",
      "1600 ------- [ 1795   | 1886 |   1940 ] -------- 1974\n",
      "\n"
     ]
    },
    {
     "data": {
      "text/markdown": [
       "----"
      ],
      "text/plain": [
       "<IPython.core.display.Markdown object>"
      ]
     },
     "metadata": {},
     "output_type": "display_data"
    },
    {
     "data": {
      "text/markdown": [
       "#### Number of lines in poems"
      ],
      "text/plain": [
       "<IPython.core.display.Markdown object>"
      ]
     },
     "metadata": {},
     "output_type": "display_data"
    },
    {
     "name": "stdout",
     "output_type": "stream",
     "text": [
      "num_lines\n",
      "10 ------- [ 16   | 25 |   40 ] -------- 100\n",
      "\n"
     ]
    },
    {
     "data": {
      "text/markdown": [
       "----"
      ],
      "text/plain": [
       "<IPython.core.display.Markdown object>"
      ]
     },
     "metadata": {},
     "output_type": "display_data"
    },
    {
     "data": {
      "text/markdown": [
       "#### Annotated rhyme distribution"
      ],
      "text/plain": [
       "<IPython.core.display.Markdown object>"
      ]
     },
     "metadata": {},
     "output_type": "display_data"
    },
    {
     "name": "stdout",
     "output_type": "stream",
     "text": [
      "rhyme\n",
      "       12128\n",
      "y      10274\n",
      "n        291\n",
      "y n       16\n",
      "Name: count, dtype: int64\n",
      "\n"
     ]
    },
    {
     "data": {
      "text/markdown": [
       "----"
      ],
      "text/plain": [
       "<IPython.core.display.Markdown object>"
      ]
     },
     "metadata": {},
     "output_type": "display_data"
    },
    {
     "data": {
      "text/markdown": [
       "#### Metadata"
      ],
      "text/plain": [
       "<IPython.core.display.Markdown object>"
      ]
     },
     "metadata": {},
     "output_type": "display_data"
    },
    {
     "data": {
      "text/html": [
       "<div>\n",
       "<style scoped>\n",
       "    .dataframe tbody tr th:only-of-type {\n",
       "        vertical-align: middle;\n",
       "    }\n",
       "\n",
       "    .dataframe tbody tr th {\n",
       "        vertical-align: top;\n",
       "    }\n",
       "\n",
       "    .dataframe thead th {\n",
       "        text-align: right;\n",
       "    }\n",
       "</style>\n",
       "<table border=\"1\" class=\"dataframe\">\n",
       "  <thead>\n",
       "    <tr style=\"text-align: right;\">\n",
       "      <th></th>\n",
       "      <th>id</th>\n",
       "      <th>period_meta</th>\n",
       "      <th>subcorpus</th>\n",
       "      <th>author</th>\n",
       "      <th>author_dob</th>\n",
       "      <th>title</th>\n",
       "      <th>year</th>\n",
       "      <th>num_lines</th>\n",
       "      <th>volume</th>\n",
       "      <th>line</th>\n",
       "      <th>rhyme</th>\n",
       "      <th>genre</th>\n",
       "      <th>period</th>\n",
       "      <th>txt</th>\n",
       "    </tr>\n",
       "    <tr>\n",
       "      <th>id_hash</th>\n",
       "      <th></th>\n",
       "      <th></th>\n",
       "      <th></th>\n",
       "      <th></th>\n",
       "      <th></th>\n",
       "      <th></th>\n",
       "      <th></th>\n",
       "      <th></th>\n",
       "      <th></th>\n",
       "      <th></th>\n",
       "      <th></th>\n",
       "      <th></th>\n",
       "      <th></th>\n",
       "      <th></th>\n",
       "    </tr>\n",
       "  </thead>\n",
       "  <tbody>\n",
       "    <tr>\n",
       "      <th>6</th>\n",
       "      <td>c20-english/ep20106/Z200598332</td>\n",
       "      <td>1900-1999 Twentieth-Century</td>\n",
       "      <td>English Poetry</td>\n",
       "      <td>Ní Chuilleanáin, Eiléan, 1942–</td>\n",
       "      <td>1942.0</td>\n",
       "      <td>Survivors</td>\n",
       "      <td>1972</td>\n",
       "      <td>51</td>\n",
       "      <td></td>\n",
       "      <td>Where the loose wheel swings at the stern</td>\n",
       "      <td></td>\n",
       "      <td></td>\n",
       "      <td>1900-1950</td>\n",
       "      <td>Where the lose wheel swings at the stern\\nOf N...</td>\n",
       "    </tr>\n",
       "    <tr>\n",
       "      <th>7</th>\n",
       "      <td>c20-english/ep20151/Z200600821</td>\n",
       "      <td>1900-1999 Twentieth-Century</td>\n",
       "      <td>English Poetry</td>\n",
       "      <td>Thomas, R. S. (Ronald Stuart), 1913-</td>\n",
       "      <td>1913.0</td>\n",
       "      <td>Newts</td>\n",
       "      <td>1943</td>\n",
       "      <td>20</td>\n",
       "      <td></td>\n",
       "      <td>In a pool</td>\n",
       "      <td></td>\n",
       "      <td></td>\n",
       "      <td>1900-1950</td>\n",
       "      <td>In a pool\\non the mountain\\nnewts live, semi-\\...</td>\n",
       "    </tr>\n",
       "    <tr>\n",
       "      <th>15</th>\n",
       "      <td>american/am1183/Z300192343</td>\n",
       "      <td>1900-1999 Twentieth-Century</td>\n",
       "      <td>American Poetry</td>\n",
       "      <td>Robinson, Edwin Arlington, 1869-1935</td>\n",
       "      <td>1869.0</td>\n",
       "      <td>THREE QUATRAINS</td>\n",
       "      <td>1899</td>\n",
       "      <td>12</td>\n",
       "      <td>Collected poems (1937)</td>\n",
       "      <td>&amp;indent;Will poets mock it with crowned words ...</td>\n",
       "      <td>y</td>\n",
       "      <td></td>\n",
       "      <td>1850-1900</td>\n",
       "      <td>As long as Fame's imperious music rings\\n    W...</td>\n",
       "    </tr>\n",
       "    <tr>\n",
       "      <th>16</th>\n",
       "      <td>american/am0613/Z200167632</td>\n",
       "      <td>1835-1869 Mid Nineteenth-Century</td>\n",
       "      <td>American Poetry</td>\n",
       "      <td>Gallagher, William D. (William Davis), 1808-1894</td>\n",
       "      <td>1808.0</td>\n",
       "      <td>OUR EARLY DAYS.</td>\n",
       "      <td>1838</td>\n",
       "      <td>58</td>\n",
       "      <td>[Poems, in] Selections from the poetical liter...</td>\n",
       "      <td>We turn on Life's bewildering track,</td>\n",
       "      <td>y</td>\n",
       "      <td></td>\n",
       "      <td>1800-1850</td>\n",
       "      <td>Our EARLY DAYS! -- How often back\\nWe turn on ...</td>\n",
       "    </tr>\n",
       "    <tr>\n",
       "      <th>16</th>\n",
       "      <td>english/callanan/Z300294777</td>\n",
       "      <td>1800-1834 Early Nineteenth-Century</td>\n",
       "      <td>English Poetry</td>\n",
       "      <td>Callanan, Jeremiah Joseph, 1795-1829</td>\n",
       "      <td>1795.0</td>\n",
       "      <td>“SI JE DE PERDS, JE SUIS PERDU.”</td>\n",
       "      <td>1825</td>\n",
       "      <td>40</td>\n",
       "      <td>The Poems (1861)</td>\n",
       "      <td>Shine on thou bright beacon</td>\n",
       "      <td>y</td>\n",
       "      <td></td>\n",
       "      <td>1750-1800</td>\n",
       "      <td>Shine on thou bright beacon\\n    Unclouded and...</td>\n",
       "    </tr>\n",
       "    <tr>\n",
       "      <th>...</th>\n",
       "      <td>...</td>\n",
       "      <td>...</td>\n",
       "      <td>...</td>\n",
       "      <td>...</td>\n",
       "      <td>...</td>\n",
       "      <td>...</td>\n",
       "      <td>...</td>\n",
       "      <td>...</td>\n",
       "      <td>...</td>\n",
       "      <td>...</td>\n",
       "      <td>...</td>\n",
       "      <td>...</td>\n",
       "      <td>...</td>\n",
       "      <td>...</td>\n",
       "    </tr>\n",
       "    <tr>\n",
       "      <th>999566</th>\n",
       "      <td>faber/fa20301/Z300297127</td>\n",
       "      <td>1900-1999 Twentieth-Century</td>\n",
       "      <td>The Faber Poetry Library</td>\n",
       "      <td>Joyce, James, 1882-1941</td>\n",
       "      <td>1882.0</td>\n",
       "      <td>44 Post Ulixem Scriptum  (Air: Molly Brannigan)</td>\n",
       "      <td>1912</td>\n",
       "      <td>25</td>\n",
       "      <td></td>\n",
       "      <td>Man dear, did you never hear of buxom Molly Bl...</td>\n",
       "      <td></td>\n",
       "      <td></td>\n",
       "      <td>1850-1900</td>\n",
       "      <td>Man dear, did you never hear of buxom Molly Bl...</td>\n",
       "    </tr>\n",
       "    <tr>\n",
       "      <th>999865</th>\n",
       "      <td>african-american/hortonge/Z200399915</td>\n",
       "      <td>1835-1869 Mid Nineteenth-Century</td>\n",
       "      <td>African-American Poetry</td>\n",
       "      <td>Horton, George Moses, 1798?-ca.1880</td>\n",
       "      <td>1798.0</td>\n",
       "      <td>NEW FASHIONS.</td>\n",
       "      <td>1828</td>\n",
       "      <td>54</td>\n",
       "      <td>Naked Genius (1865)</td>\n",
       "      <td>There was a time when death was terror,</td>\n",
       "      <td>y</td>\n",
       "      <td></td>\n",
       "      <td>1750-1800</td>\n",
       "      <td>There was a time when death was terror,\\n    S...</td>\n",
       "    </tr>\n",
       "    <tr>\n",
       "      <th>999874</th>\n",
       "      <td>faber/fa1201/Z300559934</td>\n",
       "      <td>1900-1999 Twentieth-Century</td>\n",
       "      <td>The Faber Poetry Library</td>\n",
       "      <td>Hofmann, Michael, 1957-</td>\n",
       "      <td>1957.0</td>\n",
       "      <td>Fucking</td>\n",
       "      <td>1987</td>\n",
       "      <td>12</td>\n",
       "      <td></td>\n",
       "      <td>A zero sum game, our extravagant happiness,</td>\n",
       "      <td></td>\n",
       "      <td></td>\n",
       "      <td>1950-2000</td>\n",
       "      <td>A zero sum game, our extravagant happiness,\\nm...</td>\n",
       "    </tr>\n",
       "    <tr>\n",
       "      <th>999878</th>\n",
       "      <td>american/am1218/Z200193650</td>\n",
       "      <td>1750-1799 Later Eighteenth-Century</td>\n",
       "      <td>American Poetry</td>\n",
       "      <td>Hopkinson, Francis, 1737-1791</td>\n",
       "      <td>1737.0</td>\n",
       "      <td>CHARITY, A POEM.  Delivered by the author at a...</td>\n",
       "      <td>1767</td>\n",
       "      <td>74</td>\n",
       "      <td>The miscellaneous essays and occasional writin...</td>\n",
       "      <td>Once more with joy, we swell th' advent'rous lay.</td>\n",
       "      <td>y</td>\n",
       "      <td>Ode</td>\n",
       "      <td>1700-1750</td>\n",
       "      <td>To grace the pomp of this auspicious day,\\nOnc...</td>\n",
       "    </tr>\n",
       "    <tr>\n",
       "      <th>999981</th>\n",
       "      <td>faber/fa20402/Z200564721</td>\n",
       "      <td>1900-1999 Twentieth-Century</td>\n",
       "      <td>The Faber Poetry Library</td>\n",
       "      <td>Sassoon, Siegfried, 1886-1967</td>\n",
       "      <td>1886.0</td>\n",
       "      <td>Does it Matter?</td>\n",
       "      <td>1916</td>\n",
       "      <td>15</td>\n",
       "      <td></td>\n",
       "      <td>Does it matter?—losing your legs? ...</td>\n",
       "      <td></td>\n",
       "      <td></td>\n",
       "      <td>1850-1900</td>\n",
       "      <td>Does it matter? -- losing your legs? ...\\nFor ...</td>\n",
       "    </tr>\n",
       "  </tbody>\n",
       "</table>\n",
       "<p>22709 rows × 14 columns</p>\n",
       "</div>"
      ],
      "text/plain": [
       "                                           id                         period_meta                 subcorpus                                            author author_dob  \\\n",
       "id_hash                                                                                                                                                                    \n",
       "6              c20-english/ep20106/Z200598332         1900-1999 Twentieth-Century            English Poetry                    Ní Chuilleanáin, Eiléan, 1942–     1942.0   \n",
       "7              c20-english/ep20151/Z200600821         1900-1999 Twentieth-Century            English Poetry              Thomas, R. S. (Ronald Stuart), 1913-     1913.0   \n",
       "15                 american/am1183/Z300192343         1900-1999 Twentieth-Century           American Poetry              Robinson, Edwin Arlington, 1869-1935     1869.0   \n",
       "16                 american/am0613/Z200167632    1835-1869 Mid Nineteenth-Century           American Poetry  Gallagher, William D. (William Davis), 1808-1894     1808.0   \n",
       "16                english/callanan/Z300294777  1800-1834 Early Nineteenth-Century            English Poetry              Callanan, Jeremiah Joseph, 1795-1829     1795.0   \n",
       "...                                       ...                                 ...                       ...                                               ...        ...   \n",
       "999566               faber/fa20301/Z300297127         1900-1999 Twentieth-Century  The Faber Poetry Library                           Joyce, James, 1882-1941     1882.0   \n",
       "999865   african-american/hortonge/Z200399915    1835-1869 Mid Nineteenth-Century   African-American Poetry               Horton, George Moses, 1798?-ca.1880     1798.0   \n",
       "999874                faber/fa1201/Z300559934         1900-1999 Twentieth-Century  The Faber Poetry Library                           Hofmann, Michael, 1957-     1957.0   \n",
       "999878             american/am1218/Z200193650  1750-1799 Later Eighteenth-Century           American Poetry                     Hopkinson, Francis, 1737-1791     1737.0   \n",
       "999981               faber/fa20402/Z200564721         1900-1999 Twentieth-Century  The Faber Poetry Library                     Sassoon, Siegfried, 1886-1967     1886.0   \n",
       "\n",
       "                                                     title  year  num_lines                                             volume                                               line rhyme genre  \\\n",
       "id_hash                                                                                                                                                                                         \n",
       "6                                                Survivors  1972         51                                                             Where the loose wheel swings at the stern               \n",
       "7                                                    Newts  1943         20                                                                                             In a pool               \n",
       "15                                         THREE QUATRAINS  1899         12                             Collected poems (1937)  &indent;Will poets mock it with crowned words ...     y         \n",
       "16                                         OUR EARLY DAYS.  1838         58  [Poems, in] Selections from the poetical liter...               We turn on Life's bewildering track,     y         \n",
       "16                        “SI JE DE PERDS, JE SUIS PERDU.”  1825         40                                   The Poems (1861)                        Shine on thou bright beacon     y         \n",
       "...                                                    ...   ...        ...                                                ...                                                ...   ...   ...   \n",
       "999566     44 Post Ulixem Scriptum  (Air: Molly Brannigan)  1912         25                                                     Man dear, did you never hear of buxom Molly Bl...               \n",
       "999865                                       NEW FASHIONS.  1828         54                                Naked Genius (1865)            There was a time when death was terror,     y         \n",
       "999874                                             Fucking  1987         12                                                           A zero sum game, our extravagant happiness,               \n",
       "999878   CHARITY, A POEM.  Delivered by the author at a...  1767         74  The miscellaneous essays and occasional writin...  Once more with joy, we swell th' advent'rous lay.     y   Ode   \n",
       "999981                                     Does it Matter?  1916         15                                                                 Does it matter?—losing your legs? ...               \n",
       "\n",
       "            period                                                txt  \n",
       "id_hash                                                                \n",
       "6        1900-1950  Where the lose wheel swings at the stern\\nOf N...  \n",
       "7        1900-1950  In a pool\\non the mountain\\nnewts live, semi-\\...  \n",
       "15       1850-1900  As long as Fame's imperious music rings\\n    W...  \n",
       "16       1800-1850  Our EARLY DAYS! -- How often back\\nWe turn on ...  \n",
       "16       1750-1800  Shine on thou bright beacon\\n    Unclouded and...  \n",
       "...            ...                                                ...  \n",
       "999566   1850-1900  Man dear, did you never hear of buxom Molly Bl...  \n",
       "999865   1750-1800  There was a time when death was terror,\\n    S...  \n",
       "999874   1950-2000  A zero sum game, our extravagant happiness,\\nm...  \n",
       "999878   1700-1750  To grace the pomp of this auspicious day,\\nOnc...  \n",
       "999981   1850-1900  Does it matter? -- losing your legs? ...\\nFor ...  \n",
       "\n",
       "[22709 rows x 14 columns]"
      ]
     },
     "execution_count": 13,
     "metadata": {},
     "output_type": "execute_result"
    }
   ],
   "source": [
    "printm(f'### Replicating period/subcorpus sample')\n",
    "df_smpl_by_period_subcorpus_replicated = get_chadwyck_corpus_sampled_by_period_subcorpus_as_replicated()\n",
    "assert len(df_smpl_by_period_subcorpus_replicated) > 8000\n",
    "describe_corpus(df_smpl_by_period_subcorpus_replicated)"
   ]
  },
  {
   "cell_type": "code",
   "execution_count": 18,
   "metadata": {},
   "outputs": [],
   "source": [
    "# Final tests for inequality between replicated and paper-originating samples\n",
    "assert not df_smpl_by_period_in_paper.index.equals(df_smpl_by_period_replicated.index)\n",
    "assert not df_smpl_by_period_subcorpus_in_paper.index.equals(df_smpl_by_period_subcorpus_replicated.index)\n",
    "assert not df_smpl_by_rhyme_in_paper.index.equals(df_smpl_by_rhyme_replicated.index)"
   ]
  }
 ],
 "metadata": {
  "kernelspec": {
   "display_name": "venv",
   "language": "python",
   "name": "python3"
  },
  "language_info": {
   "codemirror_mode": {
    "name": "ipython",
    "version": 3
   },
   "file_extension": ".py",
   "mimetype": "text/x-python",
   "name": "python",
   "nbconvert_exporter": "python",
   "pygments_lexer": "ipython3",
   "version": "3.11.9"
  }
 },
 "nbformat": 4,
 "nbformat_minor": 4
}
