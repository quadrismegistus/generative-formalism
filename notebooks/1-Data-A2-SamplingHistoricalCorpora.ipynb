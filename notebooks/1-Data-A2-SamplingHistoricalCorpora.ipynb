{
 "cells": [
  {
   "cell_type": "markdown",
   "metadata": {},
   "source": [
    "# Sampling Chadwyck-Healey poetry collections"
   ]
  },
  {
   "cell_type": "code",
   "execution_count": null,
   "metadata": {
    "execution": {
     "iopub.execute_input": "2025-09-15T21:50:44.122361Z",
     "iopub.status.busy": "2025-09-15T21:50:44.122246Z",
     "iopub.status.idle": "2025-09-15T21:50:46.270043Z",
     "shell.execute_reply": "2025-09-15T21:50:46.269697Z"
    }
   },
   "outputs": [],
   "source": [
    "import sys\n",
    "sys.path.append('../')\n",
    "from generative_formalism import *"
   ]
  },
  {
   "cell_type": "markdown",
   "metadata": {},
   "source": [
    "## Data as in paper"
   ]
  },
  {
   "cell_type": "code",
   "execution_count": null,
   "metadata": {
    "execution": {
     "iopub.execute_input": "2025-09-15T21:50:46.271991Z",
     "iopub.status.busy": "2025-09-15T21:50:46.271703Z",
     "iopub.status.idle": "2025-09-15T21:50:46.274910Z",
     "shell.execute_reply": "2025-09-15T21:50:46.274678Z"
    }
   },
   "outputs": [],
   "source": [
    "documentation(get_chadwyck_corpus_sampled_by)"
   ]
  },
  {
   "cell_type": "markdown",
   "metadata": {},
   "source": [
    "### Sampled by period"
   ]
  },
  {
   "cell_type": "code",
   "execution_count": null,
   "metadata": {
    "execution": {
     "iopub.execute_input": "2025-09-15T21:50:46.293662Z",
     "iopub.status.busy": "2025-09-15T21:50:46.293521Z",
     "iopub.status.idle": "2025-09-15T21:50:46.427527Z",
     "shell.execute_reply": "2025-09-15T21:50:46.427235Z"
    }
   },
   "outputs": [],
   "source": [
    "# Docs\n",
    "documentation(get_chadwyck_corpus_sampled_by)\n",
    "\n",
    "# Run\n",
    "df_smpl_by_period_in_paper = get_chadwyck_corpus_sampled_by(\n",
    "    'period', \n",
    "    as_in_paper=True, \n",
    "    verbose=True, \n",
    "    display=True\n",
    ")\n",
    "\n",
    "# Test\n",
    "assert len(df_smpl_by_period_in_paper) == 8000\n",
    "\n",
    "# Display\n",
    "df_smpl_by_period_in_paper"
   ]
  },
  {
   "cell_type": "markdown",
   "metadata": {},
   "source": [
    "### Sampled by rhyme"
   ]
  },
  {
   "cell_type": "code",
   "execution_count": null,
   "metadata": {
    "execution": {
     "iopub.execute_input": "2025-09-15T21:50:46.428785Z",
     "iopub.status.busy": "2025-09-15T21:50:46.428697Z",
     "iopub.status.idle": "2025-09-15T21:50:46.471879Z",
     "shell.execute_reply": "2025-09-15T21:50:46.471571Z"
    }
   },
   "outputs": [],
   "source": [
    "# Run\n",
    "df_smpl_by_rhyme_in_paper = get_chadwyck_corpus_sampled_by(\n",
    "    'rhyme', \n",
    "    as_in_paper=True, \n",
    "    verbose=True, \n",
    "    display=True\n",
    ")\n",
    "\n",
    "# Test\n",
    "assert len(df_smpl_by_rhyme_in_paper) == 2000\n",
    "\n",
    "# Display\n",
    "df_smpl_by_rhyme_in_paper"
   ]
  },
  {
   "cell_type": "markdown",
   "metadata": {},
   "source": [
    "### Sampled by period/subcorpus"
   ]
  },
  {
   "cell_type": "code",
   "execution_count": null,
   "metadata": {
    "execution": {
     "iopub.execute_input": "2025-09-15T21:50:46.473189Z",
     "iopub.status.busy": "2025-09-15T21:50:46.473082Z",
     "iopub.status.idle": "2025-09-15T21:50:46.807327Z",
     "shell.execute_reply": "2025-09-15T21:50:46.807049Z"
    }
   },
   "outputs": [],
   "source": [
    "# Run\n",
    "df_smpl_by_period_subcorpus_in_paper = get_chadwyck_corpus_sampled_by(\n",
    "    'period_subcorpus',\n",
    "    as_in_paper=True, \n",
    "    display=True, \n",
    "    verbose=True\n",
    ")\n",
    "\n",
    "# Test\n",
    "assert len(df_smpl_by_period_subcorpus_in_paper) > 20_000\n",
    "\n",
    "# Display\n",
    "df_smpl_by_period_subcorpus_in_paper"
   ]
  },
  {
   "cell_type": "markdown",
   "metadata": {},
   "source": [
    "### Sampled by sonnet/period"
   ]
  },
  {
   "cell_type": "code",
   "execution_count": null,
   "metadata": {
    "execution": {
     "iopub.execute_input": "2025-09-15T21:50:46.808633Z",
     "iopub.status.busy": "2025-09-15T21:50:46.808542Z",
     "iopub.status.idle": "2025-09-15T21:50:46.827070Z",
     "shell.execute_reply": "2025-09-15T21:50:46.826833Z"
    }
   },
   "outputs": [],
   "source": [
    "# Run\n",
    "df_smpl_by_sonnet_period_in_paper = get_chadwyck_corpus_sampled_by('sonnet_period', as_in_paper=True, display=True, verbose=True)\n",
    "\n",
    "\n",
    "# Display\n",
    "df_smpl_by_sonnet_period_in_paper"
   ]
  },
  {
   "cell_type": "markdown",
   "metadata": {},
   "source": [
    "## Replicating new samples\n",
    "\n",
    "Must have access to Chadwyck-Healey corpora."
   ]
  },
  {
   "cell_type": "code",
   "execution_count": null,
   "metadata": {
    "execution": {
     "iopub.execute_input": "2025-09-15T21:50:46.828263Z",
     "iopub.status.busy": "2025-09-15T21:50:46.828177Z",
     "iopub.status.idle": "2025-09-15T21:50:46.831037Z",
     "shell.execute_reply": "2025-09-15T21:50:46.830806Z"
    }
   },
   "outputs": [],
   "source": [
    "documentation(get_chadwyck_corpus_sampled_by_replicated)\n",
    "documentation(gen_chadwyck_corpus_sampled_by)\n",
    "documentation(sample_chadwyck_corpus)"
   ]
  },
  {
   "cell_type": "code",
   "execution_count": null,
   "metadata": {
    "execution": {
     "iopub.execute_input": "2025-09-15T21:50:46.832207Z",
     "iopub.status.busy": "2025-09-15T21:50:46.832116Z",
     "iopub.status.idle": "2025-09-15T21:51:04.363107Z",
     "shell.execute_reply": "2025-09-15T21:51:04.362829Z"
    }
   },
   "outputs": [],
   "source": [
    "## By period\n",
    "df_replicated_smpl_by_period = get_chadwyck_corpus_sampled_by('period', as_replicated=True, display=True, verbose=True, force=True)"
   ]
  },
  {
   "cell_type": "code",
   "execution_count": null,
   "metadata": {
    "execution": {
     "iopub.execute_input": "2025-09-15T21:51:04.364574Z",
     "iopub.status.busy": "2025-09-15T21:51:04.364460Z",
     "iopub.status.idle": "2025-09-15T21:51:06.101415Z",
     "shell.execute_reply": "2025-09-15T21:51:06.101008Z"
    }
   },
   "outputs": [],
   "source": [
    "## By period\n",
    "df_replicated_smpl_by_period = get_chadwyck_corpus_sampled_by('period', as_replicated=True, display=True, verbose=True, force=True)\n",
    "\n",
    "# By rhyme\n",
    "df_smpl_by_rhyme_replicated = get_chadwyck_corpus_sampled_by('rhyme', as_replicated=True, display=True, verbose=True, force=True)\n",
    "\n",
    "# By period/subcorpus\n",
    "df_smpl_by_period_subcorpus_replicated = get_chadwyck_corpus_sampled_by('period_subcorpus', as_replicated=True, display=True, verbose=True)\n",
    "\n",
    "# By sonnet/period\n",
    "df_smpl_by_sonnet_period_replicated = get_chadwyck_corpus_sampled_by('sonnet_period', as_replicated=True, as_in_paper=False, display=True, verbose=True, force=True)"
   ]
  }
 ],
 "metadata": {
  "kernelspec": {
   "display_name": "venv",
   "language": "python",
   "name": "python3"
  },
  "language_info": {
   "codemirror_mode": {
    "name": "ipython",
    "version": 3
   },
   "file_extension": ".py",
   "mimetype": "text/x-python",
   "name": "python",
   "nbconvert_exporter": "python",
   "pygments_lexer": "ipython3",
   "version": "3.11.9"
  }
 },
 "nbformat": 4,
 "nbformat_minor": 4
}
