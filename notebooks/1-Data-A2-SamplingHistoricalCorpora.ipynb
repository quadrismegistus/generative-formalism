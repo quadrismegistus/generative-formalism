{
 "cells": [
  {
   "cell_type": "markdown",
   "metadata": {},
   "source": [
    "# Sampling Chadwyck-Healey poetry collections"
   ]
  },
  {
   "cell_type": "code",
   "execution_count": 2,
   "metadata": {},
   "outputs": [],
   "source": [
    "import sys\n",
    "sys.path.append('../')\n",
    "from generative_formalism import *"
   ]
  },
  {
   "cell_type": "markdown",
   "metadata": {},
   "source": [
    "## Data as in paper"
   ]
  },
  {
   "cell_type": "code",
   "execution_count": null,
   "metadata": {},
   "outputs": [],
   "source": [
    "documentation(get_chadwyck_corpus_sampled_by)"
   ]
  },
  {
   "cell_type": "markdown",
   "metadata": {},
   "source": [
    "### Sampled by period"
   ]
  },
  {
   "cell_type": "code",
   "execution_count": null,
   "metadata": {},
   "outputs": [],
   "source": [
    "# Docs\n",
    "documentation(get_chadwyck_corpus_sampled_by)\n",
    "\n",
    "# Run\n",
    "df_smpl_by_period_in_paper = get_chadwyck_corpus_sampled_by(\n",
    "    'period', \n",
    "    as_in_paper=True, \n",
    "    verbose=True, \n",
    "    display=True\n",
    ")\n",
    "\n",
    "# Test\n",
    "assert len(df_smpl_by_period_in_paper) == 8000\n",
    "\n",
    "# Display\n",
    "# df_smpl_by_period_in_paper"
   ]
  },
  {
   "cell_type": "markdown",
   "metadata": {},
   "source": [
    "### Sampled by rhyme"
   ]
  },
  {
   "cell_type": "code",
   "execution_count": null,
   "metadata": {},
   "outputs": [],
   "source": [
    "# Run\n",
    "df_smpl_by_rhyme_in_paper = get_chadwyck_corpus_sampled_by(\n",
    "    'rhyme', \n",
    "    as_in_paper=True, \n",
    "    verbose=True, \n",
    "    display=True\n",
    ")\n",
    "\n",
    "# Test\n",
    "assert len(df_smpl_by_rhyme_in_paper) == 2000\n",
    "\n",
    "# Display\n",
    "# df_smpl_by_rhyme_in_paper"
   ]
  },
  {
   "cell_type": "markdown",
   "metadata": {},
   "source": [
    "### Sampled by period/subcorpus"
   ]
  },
  {
   "cell_type": "code",
   "execution_count": null,
   "metadata": {},
   "outputs": [],
   "source": [
    "# Run\n",
    "df_smpl_by_period_subcorpus_in_paper = get_chadwyck_corpus_sampled_by(\n",
    "    'period_subcorpus',\n",
    "    as_in_paper=True, \n",
    "    display=True, \n",
    "    verbose=True\n",
    ")\n",
    "\n",
    "# Test\n",
    "assert len(df_smpl_by_period_subcorpus_in_paper) > 20_000\n",
    "\n",
    "# Display\n",
    "# df_smpl_by_period_subcorpus_in_paper"
   ]
  },
  {
   "cell_type": "markdown",
   "metadata": {},
   "source": [
    "### Sampled by sonnet/period"
   ]
  },
  {
   "cell_type": "code",
   "execution_count": null,
   "metadata": {},
   "outputs": [],
   "source": [
    "# Run\n",
    "df_smpl_by_sonnet_period_in_paper = get_chadwyck_corpus_sampled_by('sonnet_period', as_in_paper=True, display=True, verbose=True)\n",
    "\n",
    "\n",
    "# Display\n",
    "# df_smpl_by_sonnet_period_in_paper"
   ]
  },
  {
   "cell_type": "markdown",
   "metadata": {},
   "source": [
    "## Replicating new samples\n",
    "\n",
    "Must have access to Chadwyck-Healey corpora."
   ]
  },
  {
   "cell_type": "code",
   "execution_count": null,
   "metadata": {},
   "outputs": [],
   "source": [
    "documentation(get_chadwyck_corpus_sampled_by_replicated)\n",
    "documentation(gen_chadwyck_corpus_sampled_by)\n",
    "documentation(sample_chadwyck_corpus)"
   ]
  },
  {
   "cell_type": "code",
   "execution_count": null,
   "metadata": {},
   "outputs": [],
   "source": [
    "## By period\n",
    "\n",
    "# Regenerated (attempts to reapply random sorting preference)\n",
    "df_regen_smpl_by_period = get_chadwyck_corpus_sampled_by('period', as_regenerated=True, display=True, verbose=True, force=True)\n",
    "\n",
    "# Replicated (entirely new sample)\n",
    "df_replicated_smpl_by_period = get_chadwyck_corpus_sampled_by('period', as_replicated=True, display=True, verbose=True, force=True)"
   ]
  },
  {
   "cell_type": "code",
   "execution_count": null,
   "metadata": {},
   "outputs": [],
   "source": [
    "##  Others\n",
    "\n",
    "df_smpl_by_rhyme_replicated = get_chadwyck_corpus_sampled_by('rhyme', as_replicated=True, display=True, verbose=True, force=True)\n",
    "df_smpl_by_period_subcorpus_replicated = get_chadwyck_corpus_sampled_by('period_subcorpus', as_replicated=True, display=True, verbose=True)\n",
    "df_smpl_by_sonnet_period_replicated = get_chadwyck_corpus_sampled_by('sonnet_period', as_replicated=True, as_in_paper=False, display=True, verbose=True, force=True)"
   ]
  },
  {
   "cell_type": "code",
   "execution_count": null,
   "metadata": {},
   "outputs": [],
   "source": []
  }
 ],
 "metadata": {
  "kernelspec": {
   "display_name": "venv",
   "language": "python",
   "name": "python3"
  },
  "language_info": {
   "codemirror_mode": {
    "name": "ipython",
    "version": 3
   },
   "file_extension": ".py",
   "mimetype": "text/x-python",
   "name": "python",
   "nbconvert_exporter": "python",
   "pygments_lexer": "ipython3",
   "version": "3.11.9"
  }
 },
 "nbformat": 4,
 "nbformat_minor": 4
}
