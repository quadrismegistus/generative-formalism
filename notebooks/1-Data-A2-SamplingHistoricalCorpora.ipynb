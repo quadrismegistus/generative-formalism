{
 "cells": [
  {
   "cell_type": "markdown",
   "metadata": {},
   "source": [
    "# Sampling Chadwyck-Healey poetry collections"
   ]
  },
  {
   "cell_type": "code",
   "execution_count": 1,
   "metadata": {},
   "outputs": [],
   "source": [
    "import sys\n",
    "sys.path.append('../')\n",
    "from generative_formalism import *"
   ]
  },
  {
   "cell_type": "markdown",
   "metadata": {},
   "source": [
    "## Data as in paper"
   ]
  },
  {
   "cell_type": "code",
   "execution_count": 2,
   "metadata": {},
   "outputs": [
    {
     "data": {
      "text/markdown": [
       "**`get_chadwyck_corpus_sampled_by`**\n",
       "\n",
       "```md\n",
       "Load or generate a sampled corpus by the specified criteria.\n",
       "\n",
       "    Parameters\n",
       "    - sample_by: Sampling criteria ('period', 'period_subcorpus', 'rhyme', 'sonnet_period')\n",
       "    - as_in_paper: If True, load precomputed sample from paper\n",
       "    - as_replicated: If True, load/generate replicated sample\n",
       "    - as_regenerated: If True, load/generate regenrated sample\n",
       "    - **kwargs: Additional arguments passed to generation/display functions\n",
       "\n",
       "    Returns\n",
       "    - pd.DataFrame containing the sampled corpus\n",
       "\n",
       "    Calls\n",
       "    -----\n",
       "    - get_path(data_name, as_in_paper=True, as_replicated=False)\n",
       "\n",
       "    \n",
       "```\n",
       "----\n"
      ],
      "text/plain": [
       "<IPython.core.display.Markdown object>"
      ]
     },
     "metadata": {},
     "output_type": "display_data"
    }
   ],
   "source": [
    "documentation(get_chadwyck_corpus_sampled_by)"
   ]
  },
  {
   "cell_type": "markdown",
   "metadata": {},
   "source": [
    "### Sampled by period"
   ]
  },
  {
   "cell_type": "code",
   "execution_count": 3,
   "metadata": {},
   "outputs": [
    {
     "data": {
      "text/markdown": [
       "**`get_chadwyck_corpus_sampled_by`**\n",
       "\n",
       "```md\n",
       "Load or generate a sampled corpus by the specified criteria.\n",
       "\n",
       "    Parameters\n",
       "    - sample_by: Sampling criteria ('period', 'period_subcorpus', 'rhyme', 'sonnet_period')\n",
       "    - as_in_paper: If True, load precomputed sample from paper\n",
       "    - as_replicated: If True, load/generate replicated sample\n",
       "    - as_regenerated: If True, load/generate regenrated sample\n",
       "    - **kwargs: Additional arguments passed to generation/display functions\n",
       "\n",
       "    Returns\n",
       "    - pd.DataFrame containing the sampled corpus\n",
       "\n",
       "    Calls\n",
       "    -----\n",
       "    - get_path(data_name, as_in_paper=True, as_replicated=False)\n",
       "\n",
       "    \n",
       "```\n",
       "----\n"
      ],
      "text/plain": [
       "<IPython.core.display.Markdown object>"
      ]
     },
     "metadata": {},
     "output_type": "display_data"
    },
    {
     "name": "stdout",
     "output_type": "stream",
     "text": [
      "* Breakdown for period\n",
      "           count\n",
      "period          \n",
      "1600-1650   1000\n",
      "1650-1700   1000\n",
      "1700-1750   1000\n",
      "1750-1800   1000\n",
      "1800-1850   1000\n",
      "1850-1900   1000\n",
      "1900-1950   1000\n",
      "1950-2000   1000\n",
      "\n"
     ]
    }
   ],
   "source": [
    "# Docs\n",
    "documentation(get_chadwyck_corpus_sampled_by)\n",
    "\n",
    "# Run\n",
    "df_smpl_by_period_in_paper = get_chadwyck_corpus_sampled_by(\n",
    "    'period', \n",
    "    as_in_paper=True, \n",
    "    verbose=True, \n",
    "    display=True\n",
    ")\n",
    "\n",
    "# Test\n",
    "assert len(df_smpl_by_period_in_paper) == 8000\n",
    "\n",
    "# Display\n",
    "# df_smpl_by_period_in_paper"
   ]
  },
  {
   "cell_type": "markdown",
   "metadata": {},
   "source": [
    "### Sampled by rhyme"
   ]
  },
  {
   "cell_type": "code",
   "execution_count": 4,
   "metadata": {},
   "outputs": [
    {
     "name": "stdout",
     "output_type": "stream",
     "text": [
      "* Breakdown for rhyme\n",
      "       count\n",
      "rhyme       \n",
      "n       1000\n",
      "y       1000\n",
      "\n"
     ]
    }
   ],
   "source": [
    "# Run\n",
    "df_smpl_by_rhyme_in_paper = get_chadwyck_corpus_sampled_by(\n",
    "    'rhyme', \n",
    "    as_in_paper=True, \n",
    "    verbose=True, \n",
    "    display=True\n",
    ")\n",
    "\n",
    "# Test\n",
    "assert len(df_smpl_by_rhyme_in_paper) == 2000\n",
    "\n",
    "# Display\n",
    "# df_smpl_by_rhyme_in_paper"
   ]
  },
  {
   "cell_type": "markdown",
   "metadata": {},
   "source": [
    "### Sampled by period/subcorpus"
   ]
  },
  {
   "cell_type": "code",
   "execution_count": 5,
   "metadata": {},
   "outputs": [
    {
     "name": "stdout",
     "output_type": "stream",
     "text": [
      "* Breakdown for period_subcorpus\n",
      "                                    count\n",
      "period    subcorpus                      \n",
      "1600-1650 American Poetry             361\n",
      "          English Poetry             1000\n",
      "1650-1700 American Poetry              74\n",
      "          English Poetry             1000\n",
      "1700-1750 African-American Poetry       3\n",
      "          American Poetry             340\n",
      "          English Poetry             1000\n",
      "          The Faber Poetry Library      2\n",
      "1750-1800 African-American Poetry     284\n",
      "          American Poetry            1000\n",
      "          English Poetry             1000\n",
      "          The Faber Poetry Library      2\n",
      "1800-1850 African-American Poetry     542\n",
      "          American Poetry            1000\n",
      "          English Poetry             1000\n",
      "          Modern Poetry                 1\n",
      "          The Faber Poetry Library      1\n",
      "1850-1900 African-American Poetry    1000\n",
      "          American Poetry            1000\n",
      "          English Poetry             1000\n",
      "          Modern Poetry               809\n",
      "          The Faber Poetry Library    863\n",
      "1900-1950 African-American Poetry    1000\n",
      "          American Poetry            1000\n",
      "          English Poetry             1000\n",
      "          Modern Poetry              1000\n",
      "          The Faber Poetry Library   1000\n",
      "1950-2000 African-American Poetry     820\n",
      "          American Poetry            1000\n",
      "          English Poetry             1000\n",
      "          Modern Poetry              1000\n",
      "          The Faber Poetry Library    616\n",
      "\n"
     ]
    }
   ],
   "source": [
    "# Run\n",
    "df_smpl_by_period_subcorpus_in_paper = get_chadwyck_corpus_sampled_by(\n",
    "    'period_subcorpus',\n",
    "    as_in_paper=True, \n",
    "    display=True, \n",
    "    verbose=True\n",
    ")\n",
    "\n",
    "# Test\n",
    "assert len(df_smpl_by_period_subcorpus_in_paper) > 20_000\n",
    "\n",
    "# Display\n",
    "# df_smpl_by_period_subcorpus_in_paper"
   ]
  },
  {
   "cell_type": "markdown",
   "metadata": {},
   "source": [
    "### Sampled by sonnet/period"
   ]
  },
  {
   "cell_type": "code",
   "execution_count": 6,
   "metadata": {},
   "outputs": [
    {
     "name": "stdout",
     "output_type": "stream",
     "text": [
      "* Breakdown for sonnet_period\n",
      "           count\n",
      "period          \n",
      "1600-1650    152\n",
      "1650-1700     65\n",
      "1700-1750    325\n",
      "1750-1800   1000\n",
      "1800-1850   1000\n",
      "1850-1900   1000\n",
      "1900-1950    180\n",
      "1950-2000     12\n",
      "\n"
     ]
    }
   ],
   "source": [
    "# Run\n",
    "df_smpl_by_sonnet_period_in_paper = get_chadwyck_corpus_sampled_by('sonnet_period', as_in_paper=True, display=True, verbose=True)\n",
    "\n",
    "\n",
    "# Display\n",
    "# df_smpl_by_sonnet_period_in_paper"
   ]
  },
  {
   "cell_type": "markdown",
   "metadata": {},
   "source": [
    "## Replicating new samples\n",
    "\n",
    "Must have access to Chadwyck-Healey corpora."
   ]
  },
  {
   "cell_type": "code",
   "execution_count": 7,
   "metadata": {},
   "outputs": [
    {
     "data": {
      "text/markdown": [
       "**`get_chadwyck_corpus_sampled_by_replicated`**\n",
       "\n",
       "```md\n",
       "Load or generate a stratified sample with disk caching.\n",
       "\n",
       "    Loads a pre-generated stratified sample from disk if available, otherwise\n",
       "    generates a new sample and caches it. This ensures efficient reuse of\n",
       "    expensive sampling operations.\n",
       "\n",
       "    Parameters\n",
       "    ----------\n",
       "    sample_by : str\n",
       "        Sampling criteria ('rhyme', 'period', 'period_subcorpus', 'sonnet_period').\n",
       "    force : bool, default=False\n",
       "        If True, regenerate the sample even if a cached version exists.\n",
       "    display : bool, default=False\n",
       "        If True, display summary tables for certain sample types.\n",
       "    verbose : bool, default=False\n",
       "        If True, print progress information.\n",
       "    as_in_paper : bool, default=True\n",
       "        If True, use precomputed sample from paper.\n",
       "    as_replicated : bool, default=False\n",
       "        If True, use replicated sample.\n",
       "    as_regenerated : bool, default=False\n",
       "        If True, use regenrated sample.\n",
       "    **kwargs: Additional arguments passed to gen_chadwyck_corpus_sampled_by\n",
       "\n",
       "    Returns\n",
       "    -------\n",
       "    pd.DataFrame\n",
       "        DataFrame containing the stratified sample.\n",
       "\n",
       "    Calls\n",
       "    -----\n",
       "    - gen_chadwyck_corpus_sampled_by(sample_by, display=display) [if generating new sample]\n",
       "    - save_sample(odf, path, overwrite=True) [if saving generated sample]\n",
       "    - pd.read_csv(path).set_index('id').sort_values('id_hash') [if loading cached sample]\n",
       "    - get_period_subcorpus_table(odf, return_display=True) [if display=True for period_subcorpus]\n",
       "    - display(img) [if display=True and IPython available]\n",
       "    \n",
       "```\n",
       "----\n"
      ],
      "text/plain": [
       "<IPython.core.display.Markdown object>"
      ]
     },
     "metadata": {},
     "output_type": "display_data"
    },
    {
     "data": {
      "text/markdown": [
       "**`gen_chadwyck_corpus_sampled_by`**\n",
       "\n",
       "```md\n",
       "Generate a stratified sample from the full Chadwyck-Healey corpus.\n",
       "\n",
       "    Creates a balanced sample of poems using the specified stratification criteria.\n",
       "    Handles different sampling types including rhyme, period, period×subcorpus,\n",
       "    and sonnet-based sampling.\n",
       "\n",
       "    Parameters\n",
       "    ----------\n",
       "    sample_by : str\n",
       "        Sampling criteria ('rhyme', 'period', 'period_subcorpus', 'sonnet_period').\n",
       "    display : bool, default=False\n",
       "        If True, display summary tables for certain sample types (e.g., period).\n",
       "    **kwargs: Additional arguments passed to sample_chadwyck_corpus\n",
       "\n",
       "    Returns\n",
       "    -------\n",
       "    pd.DataFrame\n",
       "        DataFrame containing the stratified sample with balanced representation.\n",
       "\n",
       "    Calls\n",
       "    -----\n",
       "    - get_chadwyck_corpus() [to load the full corpus]\n",
       "    - sample_chadwyck_corpus(df_corpus, sample_by=...) [to create stratified sample]\n",
       "    - get_period_subcorpus_table(df, return_display=True) [if display=True for period samples]\n",
       "    - display(img) [if display=True and IPython available]\n",
       "    \n",
       "```\n",
       "----\n"
      ],
      "text/plain": [
       "<IPython.core.display.Markdown object>"
      ]
     },
     "metadata": {},
     "output_type": "display_data"
    },
    {
     "data": {
      "text/markdown": [
       "**`sample_chadwyck_corpus`**\n",
       "\n",
       "```md\n",
       "Deterministically sample the corpus by one or more grouping criteria.\n",
       "\n",
       "    Creates a balanced sample from the corpus by grouping on specified criteria,\n",
       "    filtering groups by size constraints, and taking deterministic subsets within\n",
       "    each group. Uses id_hash sorting to ensure reproducible results across runs.\n",
       "\n",
       "    Parameters\n",
       "    ----------\n",
       "    df_corpus : pd.DataFrame\n",
       "        Corpus DataFrame to sample from (e.g., from get_chadwyck_corpus()).\n",
       "        Must contain the columns specified in sample_by plus 'id_hash'.\n",
       "    sample_by : str or list[str]\n",
       "        Column name(s) to group by for stratified sampling.\n",
       "    min_sample_n : int, default=MIN_SAMPLE_N\n",
       "        Minimum number of items required in a group to be included.\n",
       "    max_sample_n : int, default=MAX_SAMPLE_N\n",
       "        Maximum number of items to take from each group.\n",
       "    prefer_min_id_hash : bool, default=False\n",
       "        If True, prefer items with smaller id_hash values when sampling.\n",
       "    sort_id_hash : bool, default=True\n",
       "        If True, sort the sample by id_hash.\n",
       "    verbose : bool, default=False\n",
       "        If True, print progress information.\n",
       "\n",
       "\n",
       "    Returns\n",
       "    -------\n",
       "    pd.DataFrame\n",
       "        Sampled DataFrame containing the selected rows from df_corpus.\n",
       "\n",
       "    Calls\n",
       "    -----\n",
       "    - describe_qual(s, count=False) [to display group size distribution]\n",
       "    \n",
       "```\n",
       "----\n"
      ],
      "text/plain": [
       "<IPython.core.display.Markdown object>"
      ]
     },
     "metadata": {},
     "output_type": "display_data"
    }
   ],
   "source": [
    "documentation(get_chadwyck_corpus_sampled_by_replicated)\n",
    "documentation(gen_chadwyck_corpus_sampled_by)\n",
    "documentation(sample_chadwyck_corpus)"
   ]
  },
  {
   "cell_type": "code",
   "execution_count": 8,
   "metadata": {},
   "outputs": [
    {
     "name": "stdout",
     "output_type": "stream",
     "text": [
      "* Generating period sample\n",
      "* Loading Chadwyck-Healey corpus (metadata + txt)\n"
     ]
    },
    {
     "name": "stderr",
     "output_type": "stream",
     "text": [
      "  : 100%|██████████| 204514/204514 [00:06<00:00, 29447.48it/s]\n"
     ]
    },
    {
     "name": "stdout",
     "output_type": "stream",
     "text": [
      "* Saved sample to /Users/rj416/github/generative-formalism/data/data_as_regenerated/corpus_sample_by_period.csv.gz\n",
      "* Breakdown for period\n",
      "           count\n",
      "period          \n",
      "1600-1650   1000\n",
      "1650-1700   1000\n",
      "1700-1750   1000\n",
      "1750-1800   1000\n",
      "1800-1850   1000\n",
      "1850-1900   1000\n",
      "1900-1950   1000\n",
      "1950-2000   1000\n",
      "\n",
      "* Generating period sample\n",
      "* Loading Chadwyck-Healey corpus (metadata + txt)\n",
      "* Loading corpus from memory\n",
      "* Saved sample to /Users/rj416/github/generative-formalism/data/data_as_replicated/corpus_sample_by_period.csv.gz\n",
      "* Breakdown for period\n",
      "           count\n",
      "period          \n",
      "1600-1650   1000\n",
      "1650-1700   1000\n",
      "1700-1750   1000\n",
      "1750-1800   1000\n",
      "1800-1850   1000\n",
      "1850-1900   1000\n",
      "1900-1950   1000\n",
      "1950-2000   1000\n",
      "\n"
     ]
    }
   ],
   "source": [
    "## By period\n",
    "\n",
    "# Regenerated (attempts to reapply random sorting preference)\n",
    "df_regen_smpl_by_period = get_chadwyck_corpus_sampled_by('period', as_regenerated=True, display=True, verbose=True, force=True)\n",
    "\n",
    "# Replicated (entirely new sample)\n",
    "df_replicated_smpl_by_period = get_chadwyck_corpus_sampled_by('period', as_replicated=True, display=True, verbose=True, force=True)"
   ]
  },
  {
   "cell_type": "code",
   "execution_count": 9,
   "metadata": {},
   "outputs": [
    {
     "name": "stdout",
     "output_type": "stream",
     "text": [
      "* Generating rhyme sample\n",
      "* Loading Chadwyck-Healey corpus (metadata + txt)\n",
      "* Loading corpus from memory\n",
      "* Saved sample to /Users/rj416/github/generative-formalism/data/data_as_replicated/corpus_sample_by_rhyme.csv.gz\n",
      "* Breakdown for rhyme\n",
      "       count\n",
      "rhyme       \n",
      "n       1000\n",
      "y       1000\n",
      "\n",
      "* Loading period_subcorpus sample from /Users/rj416/github/generative-formalism/data/data_as_replicated/corpus_sample_by_period_subcorpus.csv.gz\n",
      "* Breakdown for period_subcorpus\n",
      "                                    count\n",
      "period    subcorpus                      \n",
      "1600-1650 American Poetry             361\n",
      "          English Poetry             1000\n",
      "1650-1700 American Poetry              74\n",
      "          English Poetry             1000\n",
      "1700-1750 American Poetry             340\n",
      "          English Poetry             1000\n",
      "1750-1800 African-American Poetry     284\n",
      "          American Poetry            1000\n",
      "          English Poetry             1000\n",
      "1800-1850 African-American Poetry     542\n",
      "          American Poetry            1000\n",
      "          English Poetry             1000\n",
      "1850-1900 African-American Poetry    1000\n",
      "          American Poetry            1000\n",
      "          English Poetry             1000\n",
      "          Modern Poetry               809\n",
      "          The Faber Poetry Library    863\n",
      "1900-1950 African-American Poetry    1000\n",
      "          American Poetry            1000\n",
      "          English Poetry             1000\n",
      "          Modern Poetry              1000\n",
      "          The Faber Poetry Library   1000\n",
      "1950-2000 African-American Poetry     820\n",
      "          American Poetry            1000\n",
      "          English Poetry             1000\n",
      "          Modern Poetry              1000\n",
      "          The Faber Poetry Library    616\n",
      "\n",
      "* Generating sonnet_period sample\n",
      "* Loading Chadwyck-Healey corpus (metadata + txt)\n",
      "* Loading corpus from memory\n",
      "* Saved sample to /Users/rj416/github/generative-formalism/data/data_as_replicated/corpus_sample_by_sonnet_period.csv.gz\n",
      "* Breakdown for sonnet_period\n",
      "           count\n",
      "period          \n",
      "1600-1650    152\n",
      "1650-1700     65\n",
      "1700-1750    154\n",
      "1750-1800    154\n",
      "1800-1850    154\n",
      "1850-1900    154\n",
      "1900-1950    154\n",
      "1950-2000     12\n",
      "\n"
     ]
    }
   ],
   "source": [
    "##  Others\n",
    "\n",
    "df_smpl_by_rhyme_replicated = get_chadwyck_corpus_sampled_by('rhyme', as_replicated=True, display=True, verbose=True, force=True)\n",
    "df_smpl_by_period_subcorpus_replicated = get_chadwyck_corpus_sampled_by('period_subcorpus', as_replicated=True, display=True, verbose=True)\n",
    "df_smpl_by_sonnet_period_replicated = get_chadwyck_corpus_sampled_by('sonnet_period', as_replicated=True, as_in_paper=False, display=True, verbose=True, force=True)"
   ]
  },
  {
   "cell_type": "code",
   "execution_count": null,
   "metadata": {},
   "outputs": [],
   "source": []
  }
 ],
 "metadata": {
  "kernelspec": {
   "display_name": "venv",
   "language": "python",
   "name": "python3"
  },
  "language_info": {
   "codemirror_mode": {
    "name": "ipython",
    "version": 3
   },
   "file_extension": ".py",
   "mimetype": "text/x-python",
   "name": "python",
   "nbconvert_exporter": "python",
   "pygments_lexer": "ipython3",
   "version": "3.11.9"
  }
 },
 "nbformat": 4,
 "nbformat_minor": 4
}
