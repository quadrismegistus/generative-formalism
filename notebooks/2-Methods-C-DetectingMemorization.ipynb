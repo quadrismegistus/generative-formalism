{
 "cells": [
  {
   "cell_type": "code",
   "execution_count": 1,
   "metadata": {},
   "outputs": [
    {
     "data": {
      "text/markdown": [
       "# Detecting memorized poems"
      ],
      "text/plain": [
       "<IPython.core.display.Markdown object>"
      ]
     },
     "metadata": {},
     "output_type": "display_data"
    },
    {
     "data": {
      "text/markdown": [
       "## From open-source training data"
      ],
      "text/plain": [
       "<IPython.core.display.Markdown object>"
      ]
     },
     "metadata": {},
     "output_type": "display_data"
    },
    {
     "data": {
      "text/markdown": [
       "### Antoniak et al (Dolma)"
      ],
      "text/plain": [
       "<IPython.core.display.Markdown object>"
      ]
     },
     "metadata": {},
     "output_type": "display_data"
    },
    {
     "data": {
      "text/markdown": [
       "##### `get_antoniak_et_al_memorization_data`: Load Antoniak et al. memorization data with caching support."
      ],
      "text/plain": [
       "<IPython.core.display.Markdown object>"
      ]
     },
     "metadata": {},
     "output_type": "display_data"
    },
    {
     "data": {
      "text/markdown": [
       "##### `preprocess_antoniak_et_al_memorization_data`: Preprocess Antoniak et al. memorization data from raw files."
      ],
      "text/plain": [
       "<IPython.core.display.Markdown object>"
      ]
     },
     "metadata": {},
     "output_type": "display_data"
    },
    {
     "data": {
      "text/markdown": [
       "* Loading from `{REPO}/data/raw/memorization/data.antoniak_et_al_memorization_results.csv.gz`"
      ],
      "text/plain": [
       "<IPython.core.display.Markdown object>"
      ]
     },
     "metadata": {},
     "output_type": "display_data"
    },
    {
     "data": {
      "text/html": [
       "<div>\n",
       "<style scoped>\n",
       "    .dataframe tbody tr th:only-of-type {\n",
       "        vertical-align: middle;\n",
       "    }\n",
       "\n",
       "    .dataframe tbody tr th {\n",
       "        vertical-align: top;\n",
       "    }\n",
       "\n",
       "    .dataframe thead th {\n",
       "        text-align: right;\n",
       "    }\n",
       "</style>\n",
       "<table border=\"1\" class=\"dataframe\">\n",
       "  <thead>\n",
       "    <tr style=\"text-align: right;\">\n",
       "      <th></th>\n",
       "      <th>found</th>\n",
       "      <th>found_source</th>\n",
       "      <th>found_corpus</th>\n",
       "      <th>author</th>\n",
       "      <th>birth_death_dates</th>\n",
       "      <th>title</th>\n",
       "      <th>txt</th>\n",
       "      <th>form</th>\n",
       "      <th>form_group</th>\n",
       "      <th>tags</th>\n",
       "      <th>...</th>\n",
       "      <th>author_link</th>\n",
       "      <th>pub_year</th>\n",
       "      <th>extracted_birth_year</th>\n",
       "      <th>extracted_death_year</th>\n",
       "      <th>form_tags</th>\n",
       "      <th>theme_tags</th>\n",
       "      <th>occasion_tags</th>\n",
       "      <th>collected_from</th>\n",
       "      <th>author_dob_str</th>\n",
       "      <th>author_dob</th>\n",
       "    </tr>\n",
       "    <tr>\n",
       "      <th>id</th>\n",
       "      <th></th>\n",
       "      <th></th>\n",
       "      <th></th>\n",
       "      <th></th>\n",
       "      <th></th>\n",
       "      <th></th>\n",
       "      <th></th>\n",
       "      <th></th>\n",
       "      <th></th>\n",
       "      <th></th>\n",
       "      <th></th>\n",
       "      <th></th>\n",
       "      <th></th>\n",
       "      <th></th>\n",
       "      <th></th>\n",
       "      <th></th>\n",
       "      <th></th>\n",
       "      <th></th>\n",
       "      <th></th>\n",
       "      <th></th>\n",
       "      <th></th>\n",
       "    </tr>\n",
       "  </thead>\n",
       "  <tbody>\n",
       "    <tr>\n",
       "      <th>poem/alas-tis-true-i-have-gone-here-and-there-sonnet-110</th>\n",
       "      <td>True</td>\n",
       "      <td>open</td>\n",
       "      <td>antoniak-et-al</td>\n",
       "      <td>William Shakespeare</td>\n",
       "      <td>1564 – 1616</td>\n",
       "      <td>Alas, 'tis true I have gone here and there (So...</td>\n",
       "      <td>Alas, ’tis true I have gone here and there\\nAn...</td>\n",
       "      <td>sonnet</td>\n",
       "      <td>verse forms</td>\n",
       "      <td>['Sonnet', 'Public Domain']</td>\n",
       "      <td>...</td>\n",
       "      <td>https://poets.org/poet/william-shakespeare</td>\n",
       "      <td>1904.0</td>\n",
       "      <td>1564.0</td>\n",
       "      <td>1616.0</td>\n",
       "      <td>['Sonnet']</td>\n",
       "      <td>['Public Domain']</td>\n",
       "      <td>[]</td>\n",
       "      <td>Academy of American Poets</td>\n",
       "      <td>1564</td>\n",
       "      <td>1564.0</td>\n",
       "    </tr>\n",
       "    <tr>\n",
       "      <th>43742/sonnets-from-the-portuguese-43-how-do-i-love-thee-let-me-count-the-ways</th>\n",
       "      <td>False</td>\n",
       "      <td>open</td>\n",
       "      <td>antoniak-et-al</td>\n",
       "      <td>Elizabeth Barrett Browning</td>\n",
       "      <td>1806–1861</td>\n",
       "      <td>Sonnets from the Portuguese 43: How do I love ...</td>\n",
       "      <td>How do I love thee? Let me count the ways.\\nI ...</td>\n",
       "      <td>sonnet</td>\n",
       "      <td>verse forms</td>\n",
       "      <td>['Related Audio', 'Living', 'Marriage &amp; Compan...</td>\n",
       "      <td>...</td>\n",
       "      <td>https://www.poetryfoundation.org/poets/elizabe...</td>\n",
       "      <td>NaN</td>\n",
       "      <td>1806.0</td>\n",
       "      <td>1861.0</td>\n",
       "      <td>[]</td>\n",
       "      <td>[]</td>\n",
       "      <td>[]</td>\n",
       "      <td>Poetry Foundation</td>\n",
       "      <td>1806</td>\n",
       "      <td>1806.0</td>\n",
       "    </tr>\n",
       "    <tr>\n",
       "      <th>...</th>\n",
       "      <td>...</td>\n",
       "      <td>...</td>\n",
       "      <td>...</td>\n",
       "      <td>...</td>\n",
       "      <td>...</td>\n",
       "      <td>...</td>\n",
       "      <td>...</td>\n",
       "      <td>...</td>\n",
       "      <td>...</td>\n",
       "      <td>...</td>\n",
       "      <td>...</td>\n",
       "      <td>...</td>\n",
       "      <td>...</td>\n",
       "      <td>...</td>\n",
       "      <td>...</td>\n",
       "      <td>...</td>\n",
       "      <td>...</td>\n",
       "      <td>...</td>\n",
       "      <td>...</td>\n",
       "      <td>...</td>\n",
       "      <td>...</td>\n",
       "    </tr>\n",
       "    <tr>\n",
       "      <th>142852/essay-on-craft</th>\n",
       "      <td>False</td>\n",
       "      <td>closed</td>\n",
       "      <td>antoniak-et-al</td>\n",
       "      <td>NaN</td>\n",
       "      <td>NaN</td>\n",
       "      <td>NaN</td>\n",
       "      <td>NaN</td>\n",
       "      <td>NaN</td>\n",
       "      <td>NaN</td>\n",
       "      <td>NaN</td>\n",
       "      <td>...</td>\n",
       "      <td>NaN</td>\n",
       "      <td>NaN</td>\n",
       "      <td>NaN</td>\n",
       "      <td>NaN</td>\n",
       "      <td>NaN</td>\n",
       "      <td>NaN</td>\n",
       "      <td>NaN</td>\n",
       "      <td>NaN</td>\n",
       "      <td>NaN</td>\n",
       "      <td>NaN</td>\n",
       "    </tr>\n",
       "    <tr>\n",
       "      <th>54525/kora-in-hell-improvisations-ii</th>\n",
       "      <td>False</td>\n",
       "      <td>closed</td>\n",
       "      <td>antoniak-et-al</td>\n",
       "      <td>NaN</td>\n",
       "      <td>NaN</td>\n",
       "      <td>NaN</td>\n",
       "      <td>NaN</td>\n",
       "      <td>NaN</td>\n",
       "      <td>NaN</td>\n",
       "      <td>NaN</td>\n",
       "      <td>...</td>\n",
       "      <td>NaN</td>\n",
       "      <td>NaN</td>\n",
       "      <td>NaN</td>\n",
       "      <td>NaN</td>\n",
       "      <td>NaN</td>\n",
       "      <td>NaN</td>\n",
       "      <td>NaN</td>\n",
       "      <td>NaN</td>\n",
       "      <td>NaN</td>\n",
       "      <td>NaN</td>\n",
       "    </tr>\n",
       "  </tbody>\n",
       "</table>\n",
       "<p>8106 rows × 22 columns</p>\n",
       "</div>"
      ],
      "text/plain": [
       "                                                    found found_source    found_corpus                      author birth_death_dates                                              title  \\\n",
       "id                                                                                                                                                                                        \n",
       "poem/alas-tis-true-i-have-gone-here-and-there-s...   True         open  antoniak-et-al         William Shakespeare       1564 – 1616  Alas, 'tis true I have gone here and there (So...   \n",
       "43742/sonnets-from-the-portuguese-43-how-do-i-l...  False         open  antoniak-et-al  Elizabeth Barrett Browning         1806–1861  Sonnets from the Portuguese 43: How do I love ...   \n",
       "...                                                   ...          ...             ...                         ...               ...                                                ...   \n",
       "142852/essay-on-craft                               False       closed  antoniak-et-al                         NaN               NaN                                                NaN   \n",
       "54525/kora-in-hell-improvisations-ii                False       closed  antoniak-et-al                         NaN               NaN                                                NaN   \n",
       "\n",
       "                                                                                                  txt    form   form_group                                               tags  ...  \\\n",
       "id                                                                                                                                                                             ...   \n",
       "poem/alas-tis-true-i-have-gone-here-and-there-s...  Alas, ’tis true I have gone here and there\\nAn...  sonnet  verse forms                        ['Sonnet', 'Public Domain']  ...   \n",
       "43742/sonnets-from-the-portuguese-43-how-do-i-l...  How do I love thee? Let me count the ways.\\nI ...  sonnet  verse forms  ['Related Audio', 'Living', 'Marriage & Compan...  ...   \n",
       "...                                                                                               ...     ...          ...                                                ...  ...   \n",
       "142852/essay-on-craft                                                                             NaN     NaN          NaN                                                NaN  ...   \n",
       "54525/kora-in-hell-improvisations-ii                                                              NaN     NaN          NaN                                                NaN  ...   \n",
       "\n",
       "                                                                                          author_link pub_year extracted_birth_year  extracted_death_year   form_tags         theme_tags  \\\n",
       "id                                                                                                                                                                                         \n",
       "poem/alas-tis-true-i-have-gone-here-and-there-s...         https://poets.org/poet/william-shakespeare   1904.0               1564.0                1616.0  ['Sonnet']  ['Public Domain']   \n",
       "43742/sonnets-from-the-portuguese-43-how-do-i-l...  https://www.poetryfoundation.org/poets/elizabe...      NaN               1806.0                1861.0          []                 []   \n",
       "...                                                                                               ...      ...                  ...                   ...         ...                ...   \n",
       "142852/essay-on-craft                                                                             NaN      NaN                  NaN                   NaN         NaN                NaN   \n",
       "54525/kora-in-hell-improvisations-ii                                                              NaN      NaN                  NaN                   NaN         NaN                NaN   \n",
       "\n",
       "                                                   occasion_tags             collected_from author_dob_str author_dob  \n",
       "id                                                                                                                     \n",
       "poem/alas-tis-true-i-have-gone-here-and-there-s...            []  Academy of American Poets           1564     1564.0  \n",
       "43742/sonnets-from-the-portuguese-43-how-do-i-l...            []          Poetry Foundation           1806     1806.0  \n",
       "...                                                          ...                        ...            ...        ...  \n",
       "142852/essay-on-craft                                        NaN                        NaN            NaN        NaN  \n",
       "54525/kora-in-hell-improvisations-ii                         NaN                        NaN            NaN        NaN  \n",
       "\n",
       "[8106 rows x 22 columns]"
      ]
     },
     "metadata": {},
     "output_type": "display_data"
    },
    {
     "data": {
      "text/markdown": [
       "### From Dolma + Chadwyck-Healey"
      ],
      "text/plain": [
       "<IPython.core.display.Markdown object>"
      ]
     },
     "metadata": {},
     "output_type": "display_data"
    },
    {
     "data": {
      "text/markdown": [
       "##### `get_memorized_poems_in_dolma`: Get memorized poems detected in the Dolma training corpus."
      ],
      "text/plain": [
       "<IPython.core.display.Markdown object>"
      ]
     },
     "metadata": {},
     "output_type": "display_data"
    },
    {
     "data": {
      "text/markdown": [
       "* Loading from `/Users/ryan/github/generative-formalism/data/raw/memorization/data.memorized_poems_in_dolma.csv.gz`"
      ],
      "text/plain": [
       "<IPython.core.display.Markdown object>"
      ]
     },
     "metadata": {},
     "output_type": "display_data"
    },
    {
     "data": {
      "text/html": [
       "<div>\n",
       "<style scoped>\n",
       "    .dataframe tbody tr th:only-of-type {\n",
       "        vertical-align: middle;\n",
       "    }\n",
       "\n",
       "    .dataframe tbody tr th {\n",
       "        vertical-align: top;\n",
       "    }\n",
       "\n",
       "    .dataframe thead th {\n",
       "        text-align: right;\n",
       "    }\n",
       "</style>\n",
       "<table border=\"1\" class=\"dataframe\">\n",
       "  <thead>\n",
       "    <tr style=\"text-align: right;\">\n",
       "      <th></th>\n",
       "      <th>txt</th>\n",
       "      <th>num_lines</th>\n",
       "      <th>num_rhyming_lines</th>\n",
       "      <th>perc_rhyming_lines</th>\n",
       "      <th>lines</th>\n",
       "      <th>count</th>\n",
       "      <th>found</th>\n",
       "      <th>found_source</th>\n",
       "      <th>found_corpus</th>\n",
       "      <th>id_hash</th>\n",
       "      <th>...</th>\n",
       "      <th>author</th>\n",
       "      <th>author_dob</th>\n",
       "      <th>title</th>\n",
       "      <th>year</th>\n",
       "      <th>num_lines_from_corpus</th>\n",
       "      <th>volume</th>\n",
       "      <th>line</th>\n",
       "      <th>rhyme</th>\n",
       "      <th>genre</th>\n",
       "      <th>period</th>\n",
       "    </tr>\n",
       "    <tr>\n",
       "      <th>id</th>\n",
       "      <th></th>\n",
       "      <th></th>\n",
       "      <th></th>\n",
       "      <th></th>\n",
       "      <th></th>\n",
       "      <th></th>\n",
       "      <th></th>\n",
       "      <th></th>\n",
       "      <th></th>\n",
       "      <th></th>\n",
       "      <th></th>\n",
       "      <th></th>\n",
       "      <th></th>\n",
       "      <th></th>\n",
       "      <th></th>\n",
       "      <th></th>\n",
       "      <th></th>\n",
       "      <th></th>\n",
       "      <th></th>\n",
       "      <th></th>\n",
       "      <th></th>\n",
       "    </tr>\n",
       "  </thead>\n",
       "  <tbody>\n",
       "    <tr>\n",
       "      <th>c20-american/am20114/Z300221220</th>\n",
       "      <td>Tambourines!\\nTambourines!\\nTambourines\\nTo th...</td>\n",
       "      <td>14</td>\n",
       "      <td>0</td>\n",
       "      <td>0.000000</td>\n",
       "      <td>['Tambourines!', 'Tambourines!', 'Tambourines'...</td>\n",
       "      <td>219</td>\n",
       "      <td>True</td>\n",
       "      <td>open</td>\n",
       "      <td>chadwyck</td>\n",
       "      <td>323918</td>\n",
       "      <td>...</td>\n",
       "      <td>Hughes, Langston, 1902-1967.</td>\n",
       "      <td>1902.0</td>\n",
       "      <td>Tambourines</td>\n",
       "      <td>1932</td>\n",
       "      <td>16</td>\n",
       "      <td>NaN</td>\n",
       "      <td>Tambourines!</td>\n",
       "      <td>NaN</td>\n",
       "      <td>NaN</td>\n",
       "      <td>1900-1950</td>\n",
       "    </tr>\n",
       "    <tr>\n",
       "      <th>english/wattsisa/Z400522989</th>\n",
       "      <td>When I survey the wondrous cross\\nOn which the...</td>\n",
       "      <td>20</td>\n",
       "      <td>16</td>\n",
       "      <td>80.000000</td>\n",
       "      <td>['When I survey the wondrous cross', 'On which...</td>\n",
       "      <td>99</td>\n",
       "      <td>True</td>\n",
       "      <td>open</td>\n",
       "      <td>chadwyck</td>\n",
       "      <td>656874</td>\n",
       "      <td>...</td>\n",
       "      <td>Watts, Isaac, 1674-1748</td>\n",
       "      <td>1674.0</td>\n",
       "      <td>HYMN 7. (L. M.) Crucifixion to the World by th...</td>\n",
       "      <td>1704</td>\n",
       "      <td>20</td>\n",
       "      <td>The Works (1810)</td>\n",
       "      <td>On which the prince of glory dy'd,</td>\n",
       "      <td>y</td>\n",
       "      <td>Lyric</td>\n",
       "      <td>1650-1700</td>\n",
       "    </tr>\n",
       "    <tr>\n",
       "      <th>...</th>\n",
       "      <td>...</td>\n",
       "      <td>...</td>\n",
       "      <td>...</td>\n",
       "      <td>...</td>\n",
       "      <td>...</td>\n",
       "      <td>...</td>\n",
       "      <td>...</td>\n",
       "      <td>...</td>\n",
       "      <td>...</td>\n",
       "      <td>...</td>\n",
       "      <td>...</td>\n",
       "      <td>...</td>\n",
       "      <td>...</td>\n",
       "      <td>...</td>\n",
       "      <td>...</td>\n",
       "      <td>...</td>\n",
       "      <td>...</td>\n",
       "      <td>...</td>\n",
       "      <td>...</td>\n",
       "      <td>...</td>\n",
       "      <td>...</td>\n",
       "    </tr>\n",
       "    <tr>\n",
       "      <th>american/am0076/Z200145561</th>\n",
       "      <td>Thine eyes shall see the light of distant skie...</td>\n",
       "      <td>14</td>\n",
       "      <td>10</td>\n",
       "      <td>71.428571</td>\n",
       "      <td>['Thine eyes shall see the light of distant sk...</td>\n",
       "      <td>0</td>\n",
       "      <td>False</td>\n",
       "      <td>open</td>\n",
       "      <td>chadwyck</td>\n",
       "      <td>310302</td>\n",
       "      <td>...</td>\n",
       "      <td>Bryant, William Cullen, 1794-1878</td>\n",
       "      <td>1794.0</td>\n",
       "      <td>TO COLE, THE PAINTER, DEPARTING FOR EUROPE.</td>\n",
       "      <td>1824</td>\n",
       "      <td>14</td>\n",
       "      <td>The Poetical Works (1903)</td>\n",
       "      <td>&amp;indent;A living image of our own bright land,</td>\n",
       "      <td>y</td>\n",
       "      <td>Sonnet</td>\n",
       "      <td>1750-1800</td>\n",
       "    </tr>\n",
       "    <tr>\n",
       "      <th>english/rawnsley/Z300472911</th>\n",
       "      <td>The corn was yellow by the Lowland braes,\\n   ...</td>\n",
       "      <td>14</td>\n",
       "      <td>12</td>\n",
       "      <td>85.714286</td>\n",
       "      <td>['The corn was yellow by the Lowland braes,', ...</td>\n",
       "      <td>0</td>\n",
       "      <td>False</td>\n",
       "      <td>open</td>\n",
       "      <td>chadwyck</td>\n",
       "      <td>736654</td>\n",
       "      <td>...</td>\n",
       "      <td>Rawnsley, H. D. (Hardwicke Drummond), 1851-1920</td>\n",
       "      <td>1851.0</td>\n",
       "      <td>Lord Justice General Inglis.</td>\n",
       "      <td>1881</td>\n",
       "      <td>14</td>\n",
       "      <td>Valete: Tennyson [etc.] (1893)</td>\n",
       "      <td>&amp;indent;The Highland heather purple on the hill,</td>\n",
       "      <td>y</td>\n",
       "      <td>Sonnet</td>\n",
       "      <td>1850-1900</td>\n",
       "    </tr>\n",
       "  </tbody>\n",
       "</table>\n",
       "<p>4635 rows × 22 columns</p>\n",
       "</div>"
      ],
      "text/plain": [
       "                                                                               txt  num_lines  num_rhyming_lines  perc_rhyming_lines                                              lines  count  found  \\\n",
       "id                                                                                                                                                                                                      \n",
       "c20-american/am20114/Z300221220  Tambourines!\\nTambourines!\\nTambourines\\nTo th...         14                  0            0.000000  ['Tambourines!', 'Tambourines!', 'Tambourines'...    219   True   \n",
       "english/wattsisa/Z400522989      When I survey the wondrous cross\\nOn which the...         20                 16           80.000000  ['When I survey the wondrous cross', 'On which...     99   True   \n",
       "...                                                                            ...        ...                ...                 ...                                                ...    ...    ...   \n",
       "american/am0076/Z200145561       Thine eyes shall see the light of distant skie...         14                 10           71.428571  ['Thine eyes shall see the light of distant sk...      0  False   \n",
       "english/rawnsley/Z300472911      The corn was yellow by the Lowland braes,\\n   ...         14                 12           85.714286  ['The corn was yellow by the Lowland braes,', ...      0  False   \n",
       "\n",
       "                                found_source found_corpus  id_hash  ...                                           author author_dob                                              title  year  \\\n",
       "id                                                                  ...                                                                                                                        \n",
       "c20-american/am20114/Z300221220         open     chadwyck   323918  ...                     Hughes, Langston, 1902-1967.     1902.0                                        Tambourines  1932   \n",
       "english/wattsisa/Z400522989             open     chadwyck   656874  ...                          Watts, Isaac, 1674-1748     1674.0  HYMN 7. (L. M.) Crucifixion to the World by th...  1704   \n",
       "...                                      ...          ...      ...  ...                                              ...        ...                                                ...   ...   \n",
       "american/am0076/Z200145561              open     chadwyck   310302  ...                Bryant, William Cullen, 1794-1878     1794.0        TO COLE, THE PAINTER, DEPARTING FOR EUROPE.  1824   \n",
       "english/rawnsley/Z300472911             open     chadwyck   736654  ...  Rawnsley, H. D. (Hardwicke Drummond), 1851-1920     1851.0                       Lord Justice General Inglis.  1881   \n",
       "\n",
       "                                num_lines_from_corpus                          volume                                              line rhyme   genre     period  \n",
       "id                                                                                                                                                                \n",
       "c20-american/am20114/Z300221220                    16                             NaN                                      Tambourines!   NaN     NaN  1900-1950  \n",
       "english/wattsisa/Z400522989                        20                The Works (1810)                On which the prince of glory dy'd,     y   Lyric  1650-1700  \n",
       "...                                               ...                             ...                                               ...   ...     ...        ...  \n",
       "american/am0076/Z200145561                         14       The Poetical Works (1903)    &indent;A living image of our own bright land,     y  Sonnet  1750-1800  \n",
       "english/rawnsley/Z300472911                        14  Valete: Tennyson [etc.] (1893)  &indent;The Highland heather purple on the hill,     y  Sonnet  1850-1900  \n",
       "\n",
       "[4635 rows x 22 columns]"
      ]
     },
     "metadata": {},
     "output_type": "display_data"
    },
    {
     "data": {
      "text/markdown": [
       "## From memorization detection from closed-source models"
      ],
      "text/plain": [
       "<IPython.core.display.Markdown object>"
      ]
     },
     "metadata": {},
     "output_type": "display_data"
    },
    {
     "data": {
      "text/markdown": [
       "##### `get_memorized_poems_in_completions`: Core function for detecting memorized poems in GenAI completions using similarity."
      ],
      "text/plain": [
       "<IPython.core.display.Markdown object>"
      ]
     },
     "metadata": {},
     "output_type": "display_data"
    },
    {
     "data": {
      "text/markdown": [
       "* Loading legacy genai rhyme completions from `{REPO}/data/data_as_in_paper/genai_rhyme_completions.csv.gz`"
      ],
      "text/plain": [
       "<IPython.core.display.Markdown object>"
      ]
     },
     "metadata": {},
     "output_type": "display_data"
    },
    {
     "data": {
      "application/vnd.jupyter.widget-view+json": {
       "model_id": "f3b8444898244bfd94937da835d055a2",
       "version_major": 2,
       "version_minor": 0
      },
      "text/plain": [
       "Computing line similarity:   0%|          | 0/326862 [00:00<?, ?it/s]"
      ]
     },
     "metadata": {},
     "output_type": "display_data"
    },
    {
     "data": {
      "text/markdown": [
       "* Converting to poem txt format (not keeping first lines from original poem)"
      ],
      "text/plain": [
       "<IPython.core.display.Markdown object>"
      ]
     },
     "metadata": {},
     "output_type": "display_data"
    },
    {
     "data": {
      "text/html": [
       "<div>\n",
       "<style scoped>\n",
       "    .dataframe tbody tr th:only-of-type {\n",
       "        vertical-align: middle;\n",
       "    }\n",
       "\n",
       "    .dataframe tbody tr th {\n",
       "        vertical-align: top;\n",
       "    }\n",
       "\n",
       "    .dataframe thead th {\n",
       "        text-align: right;\n",
       "    }\n",
       "</style>\n",
       "<table border=\"1\" class=\"dataframe\">\n",
       "  <thead>\n",
       "    <tr style=\"text-align: right;\">\n",
       "      <th></th>\n",
       "      <th>model</th>\n",
       "      <th>first_n_lines</th>\n",
       "      <th>id_gen</th>\n",
       "      <th>keep_first_n_lines</th>\n",
       "      <th>id_hash</th>\n",
       "      <th>txt</th>\n",
       "      <th>num_lines</th>\n",
       "      <th>line_sim</th>\n",
       "      <th>found</th>\n",
       "      <th>found_source</th>\n",
       "      <th>found_corpus</th>\n",
       "    </tr>\n",
       "    <tr>\n",
       "      <th>id</th>\n",
       "      <th></th>\n",
       "      <th></th>\n",
       "      <th></th>\n",
       "      <th></th>\n",
       "      <th></th>\n",
       "      <th></th>\n",
       "      <th></th>\n",
       "      <th></th>\n",
       "      <th></th>\n",
       "      <th></th>\n",
       "      <th></th>\n",
       "    </tr>\n",
       "  </thead>\n",
       "  <tbody>\n",
       "    <tr>\n",
       "      <th>african-american/belljame/Z200277067</th>\n",
       "      <td>ollama/llama3.1:8b</td>\n",
       "      <td>5</td>\n",
       "      <td>44e64e0c</td>\n",
       "      <td>False</td>\n",
       "      <td>464890</td>\n",
       "      <td>Reap the moments that are your own time's gift...</td>\n",
       "      <td>9</td>\n",
       "      <td>44.680851</td>\n",
       "      <td>False</td>\n",
       "      <td>closed</td>\n",
       "      <td>chadwyck</td>\n",
       "    </tr>\n",
       "    <tr>\n",
       "      <th>african-american/benjamin/Z200277076</th>\n",
       "      <td>ollama/olmo2:latest</td>\n",
       "      <td>5</td>\n",
       "      <td>b6451886</td>\n",
       "      <td>False</td>\n",
       "      <td>675304</td>\n",
       "      <td>\\n\\n\\n Embrace equality, let no chains confoun...</td>\n",
       "      <td>15</td>\n",
       "      <td>43.678161</td>\n",
       "      <td>False</td>\n",
       "      <td>closed</td>\n",
       "      <td>chadwyck</td>\n",
       "    </tr>\n",
       "    <tr>\n",
       "      <th>...</th>\n",
       "      <td>...</td>\n",
       "      <td>...</td>\n",
       "      <td>...</td>\n",
       "      <td>...</td>\n",
       "      <td>...</td>\n",
       "      <td>...</td>\n",
       "      <td>...</td>\n",
       "      <td>...</td>\n",
       "      <td>...</td>\n",
       "      <td>...</td>\n",
       "      <td>...</td>\n",
       "    </tr>\n",
       "    <tr>\n",
       "      <th>modern/sci0101/Z200480980</th>\n",
       "      <td>ollama/llama3.1:8b</td>\n",
       "      <td>5</td>\n",
       "      <td>02891a61</td>\n",
       "      <td>False</td>\n",
       "      <td>345397</td>\n",
       "      <td>I'd rather be elsewhere tonight\\nwhere darknes...</td>\n",
       "      <td>19</td>\n",
       "      <td>46.376812</td>\n",
       "      <td>False</td>\n",
       "      <td>closed</td>\n",
       "      <td>chadwyck</td>\n",
       "    </tr>\n",
       "    <tr>\n",
       "      <th>modern/sci0101/Z200480982</th>\n",
       "      <td>ollama/olmo2:latest</td>\n",
       "      <td>5</td>\n",
       "      <td>0a73cde6</td>\n",
       "      <td>False</td>\n",
       "      <td>320878</td>\n",
       "      <td>\"of hope,\" for they held so much promise,\\nthr...</td>\n",
       "      <td>80</td>\n",
       "      <td>46.753247</td>\n",
       "      <td>False</td>\n",
       "      <td>closed</td>\n",
       "      <td>chadwyck</td>\n",
       "    </tr>\n",
       "  </tbody>\n",
       "</table>\n",
       "<p>11298 rows × 11 columns</p>\n",
       "</div>"
      ],
      "text/plain": [
       "                                                    model  first_n_lines    id_gen  keep_first_n_lines  id_hash                                                txt  num_lines   line_sim  found  \\\n",
       "id                                                                                                                                                                                                \n",
       "african-american/belljame/Z200277067   ollama/llama3.1:8b              5  44e64e0c               False   464890  Reap the moments that are your own time's gift...          9  44.680851  False   \n",
       "african-american/benjamin/Z200277076  ollama/olmo2:latest              5  b6451886               False   675304  \\n\\n\\n Embrace equality, let no chains confoun...         15  43.678161  False   \n",
       "...                                                   ...            ...       ...                 ...      ...                                                ...        ...        ...    ...   \n",
       "modern/sci0101/Z200480980              ollama/llama3.1:8b              5  02891a61               False   345397  I'd rather be elsewhere tonight\\nwhere darknes...         19  46.376812  False   \n",
       "modern/sci0101/Z200480982             ollama/olmo2:latest              5  0a73cde6               False   320878  \"of hope,\" for they held so much promise,\\nthr...         80  46.753247  False   \n",
       "\n",
       "                                     found_source found_corpus  \n",
       "id                                                              \n",
       "african-american/belljame/Z200277067       closed     chadwyck  \n",
       "african-american/benjamin/Z200277076       closed     chadwyck  \n",
       "...                                           ...          ...  \n",
       "modern/sci0101/Z200480980                  closed     chadwyck  \n",
       "modern/sci0101/Z200480982                  closed     chadwyck  \n",
       "\n",
       "[11298 rows x 11 columns]"
      ]
     },
     "metadata": {},
     "output_type": "display_data"
    },
    {
     "data": {
      "text/markdown": [
       "## All together"
      ],
      "text/plain": [
       "<IPython.core.display.Markdown object>"
      ]
     },
     "metadata": {},
     "output_type": "display_data"
    },
    {
     "data": {
      "text/markdown": [
       "##### `get_all_memorization_data`: Aggregate memorization detection results from all available data sources."
      ],
      "text/plain": [
       "<IPython.core.display.Markdown object>"
      ]
     },
     "metadata": {},
     "output_type": "display_data"
    },
    {
     "data": {
      "text/markdown": [
       "* Preprocessing from `/Users/ryan/github/generative-formalism/data/raw/memorization/antoniak-et-al`"
      ],
      "text/plain": [
       "<IPython.core.display.Markdown object>"
      ]
     },
     "metadata": {},
     "output_type": "display_data"
    },
    {
     "data": {
      "text/markdown": [
       "* Preprocessing Antoniak et al. memorization data from `/Users/ryan/github/generative-formalism/data/raw/memorization/antoniak-et-al`"
      ],
      "text/plain": [
       "<IPython.core.display.Markdown object>"
      ]
     },
     "metadata": {},
     "output_type": "display_data"
    },
    {
     "data": {
      "text/markdown": [
       "* Writing to `/Users/ryan/github/generative-formalism/data/raw/memorization/data.antoniak_et_al_memorization_results.csv.gz`"
      ],
      "text/plain": [
       "<IPython.core.display.Markdown object>"
      ]
     },
     "metadata": {},
     "output_type": "display_data"
    },
    {
     "data": {
      "text/markdown": [
       "* Loading legacy genai rhyme completions from `{REPO}/data/data_as_in_paper/genai_rhyme_completions.csv.gz`"
      ],
      "text/plain": [
       "<IPython.core.display.Markdown object>"
      ]
     },
     "metadata": {},
     "output_type": "display_data"
    },
    {
     "data": {
      "application/vnd.jupyter.widget-view+json": {
       "model_id": "8a982f1680774edd8eb42b1c36eed4f7",
       "version_major": 2,
       "version_minor": 0
      },
      "text/plain": [
       "Computing line similarity:   0%|          | 0/326862 [00:00<?, ?it/s]"
      ]
     },
     "metadata": {},
     "output_type": "display_data"
    },
    {
     "data": {
      "text/markdown": [
       "* Converting to poem txt format (not keeping first lines from original poem)"
      ],
      "text/plain": [
       "<IPython.core.display.Markdown object>"
      ]
     },
     "metadata": {},
     "output_type": "display_data"
    },
    {
     "data": {
      "text/markdown": [
       "* Loading from `/Users/ryan/github/generative-formalism/data/raw/memorization/data.memorized_poems_in_dolma.csv.gz`"
      ],
      "text/plain": [
       "<IPython.core.display.Markdown object>"
      ]
     },
     "metadata": {},
     "output_type": "display_data"
    },
    {
     "data": {
      "text/markdown": [
       "* Writing to `/Users/ryan/github/generative-formalism/data/raw/memorization/data.all_memorization_data.csv.gz`"
      ],
      "text/plain": [
       "<IPython.core.display.Markdown object>"
      ]
     },
     "metadata": {},
     "output_type": "display_data"
    },
    {
     "name": "stdout",
     "output_type": "stream",
     "text": [
      "*Breakdown for poems found by corpus and source\n",
      "                                   count\n",
      "found_corpus   found_source found       \n",
      "antoniak-et-al closed       False   2330\n",
      "                            True    1723\n",
      "...                                  ...\n",
      "chadwyck       open         False   4229\n",
      "                            True     406\n",
      "\n",
      "[8 rows x 1 columns]\n",
      "\n"
     ]
    },
    {
     "data": {
      "text/plain": [
       "found_corpus    found_source  found\n",
       "antoniak-et-al  closed        False    2330\n",
       "                              True     1723\n",
       "                                       ... \n",
       "chadwyck        open          False    4229\n",
       "                              True      406\n",
       "Length: 8, dtype: int64"
      ]
     },
     "metadata": {},
     "output_type": "display_data"
    },
    {
     "data": {
      "text/html": [
       "<div>\n",
       "<style scoped>\n",
       "    .dataframe tbody tr th:only-of-type {\n",
       "        vertical-align: middle;\n",
       "    }\n",
       "\n",
       "    .dataframe tbody tr th {\n",
       "        vertical-align: top;\n",
       "    }\n",
       "\n",
       "    .dataframe thead th {\n",
       "        text-align: right;\n",
       "    }\n",
       "</style>\n",
       "<table border=\"1\" class=\"dataframe\">\n",
       "  <thead>\n",
       "    <tr style=\"text-align: right;\">\n",
       "      <th></th>\n",
       "      <th>found</th>\n",
       "      <th>found_source</th>\n",
       "      <th>found_corpus</th>\n",
       "      <th>txt</th>\n",
       "      <th>author</th>\n",
       "      <th>birth_death_dates</th>\n",
       "      <th>title</th>\n",
       "      <th>form</th>\n",
       "      <th>form_group</th>\n",
       "      <th>tags</th>\n",
       "      <th>...</th>\n",
       "      <th>period_meta</th>\n",
       "      <th>subcorpus</th>\n",
       "      <th>year</th>\n",
       "      <th>num_lines_from_corpus</th>\n",
       "      <th>volume</th>\n",
       "      <th>line</th>\n",
       "      <th>rhyme</th>\n",
       "      <th>genre</th>\n",
       "      <th>period</th>\n",
       "      <th>found_source_corpus</th>\n",
       "    </tr>\n",
       "    <tr>\n",
       "      <th>id</th>\n",
       "      <th></th>\n",
       "      <th></th>\n",
       "      <th></th>\n",
       "      <th></th>\n",
       "      <th></th>\n",
       "      <th></th>\n",
       "      <th></th>\n",
       "      <th></th>\n",
       "      <th></th>\n",
       "      <th></th>\n",
       "      <th></th>\n",
       "      <th></th>\n",
       "      <th></th>\n",
       "      <th></th>\n",
       "      <th></th>\n",
       "      <th></th>\n",
       "      <th></th>\n",
       "      <th></th>\n",
       "      <th></th>\n",
       "      <th></th>\n",
       "      <th></th>\n",
       "    </tr>\n",
       "  </thead>\n",
       "  <tbody>\n",
       "    <tr>\n",
       "      <th>poem/alas-tis-true-i-have-gone-here-and-there-sonnet-110</th>\n",
       "      <td>True</td>\n",
       "      <td>open</td>\n",
       "      <td>antoniak-et-al</td>\n",
       "      <td>Alas, ’tis true I have gone here and there\\nAn...</td>\n",
       "      <td>William Shakespeare</td>\n",
       "      <td>1564 – 1616</td>\n",
       "      <td>Alas, 'tis true I have gone here and there (So...</td>\n",
       "      <td>sonnet</td>\n",
       "      <td>verse forms</td>\n",
       "      <td>['Sonnet', 'Public Domain']</td>\n",
       "      <td>...</td>\n",
       "      <td></td>\n",
       "      <td></td>\n",
       "      <td></td>\n",
       "      <td></td>\n",
       "      <td></td>\n",
       "      <td></td>\n",
       "      <td></td>\n",
       "      <td></td>\n",
       "      <td></td>\n",
       "      <td>open|antoniak-et-al</td>\n",
       "    </tr>\n",
       "    <tr>\n",
       "      <th>43742/sonnets-from-the-portuguese-43-how-do-i-love-thee-let-me-count-the-ways</th>\n",
       "      <td>False</td>\n",
       "      <td>open</td>\n",
       "      <td>antoniak-et-al</td>\n",
       "      <td>How do I love thee? Let me count the ways.\\nI ...</td>\n",
       "      <td>Elizabeth Barrett Browning</td>\n",
       "      <td>1806–1861</td>\n",
       "      <td>Sonnets from the Portuguese 43: How do I love ...</td>\n",
       "      <td>sonnet</td>\n",
       "      <td>verse forms</td>\n",
       "      <td>['Related Audio', 'Living', 'Marriage &amp; Compan...</td>\n",
       "      <td>...</td>\n",
       "      <td></td>\n",
       "      <td></td>\n",
       "      <td></td>\n",
       "      <td></td>\n",
       "      <td></td>\n",
       "      <td></td>\n",
       "      <td></td>\n",
       "      <td></td>\n",
       "      <td></td>\n",
       "      <td>open|antoniak-et-al</td>\n",
       "    </tr>\n",
       "    <tr>\n",
       "      <th>...</th>\n",
       "      <td>...</td>\n",
       "      <td>...</td>\n",
       "      <td>...</td>\n",
       "      <td>...</td>\n",
       "      <td>...</td>\n",
       "      <td>...</td>\n",
       "      <td>...</td>\n",
       "      <td>...</td>\n",
       "      <td>...</td>\n",
       "      <td>...</td>\n",
       "      <td>...</td>\n",
       "      <td>...</td>\n",
       "      <td>...</td>\n",
       "      <td>...</td>\n",
       "      <td>...</td>\n",
       "      <td>...</td>\n",
       "      <td>...</td>\n",
       "      <td>...</td>\n",
       "      <td>...</td>\n",
       "      <td>...</td>\n",
       "      <td>...</td>\n",
       "    </tr>\n",
       "    <tr>\n",
       "      <th>american/am0076/Z200145561</th>\n",
       "      <td>False</td>\n",
       "      <td>open</td>\n",
       "      <td>chadwyck</td>\n",
       "      <td>Thine eyes shall see the light of distant skie...</td>\n",
       "      <td>Bryant, William Cullen, 1794-1878</td>\n",
       "      <td></td>\n",
       "      <td>TO COLE, THE PAINTER, DEPARTING FOR EUROPE.</td>\n",
       "      <td></td>\n",
       "      <td></td>\n",
       "      <td></td>\n",
       "      <td>...</td>\n",
       "      <td>1835-1869 Mid Nineteenth-Century</td>\n",
       "      <td>American Poetry</td>\n",
       "      <td>1824.0</td>\n",
       "      <td>14.0</td>\n",
       "      <td>The Poetical Works (1903)</td>\n",
       "      <td>&amp;indent;A living image of our own bright land,</td>\n",
       "      <td>y</td>\n",
       "      <td>Sonnet</td>\n",
       "      <td>1750-1800</td>\n",
       "      <td>open|chadwyck</td>\n",
       "    </tr>\n",
       "    <tr>\n",
       "      <th>english/rawnsley/Z300472911</th>\n",
       "      <td>False</td>\n",
       "      <td>open</td>\n",
       "      <td>chadwyck</td>\n",
       "      <td>The corn was yellow by the Lowland braes,\\n   ...</td>\n",
       "      <td>Rawnsley, H. D. (Hardwicke Drummond), 1851-1920</td>\n",
       "      <td></td>\n",
       "      <td>Lord Justice General Inglis.</td>\n",
       "      <td></td>\n",
       "      <td></td>\n",
       "      <td></td>\n",
       "      <td>...</td>\n",
       "      <td>1870-1899 Later Nineteenth-Century</td>\n",
       "      <td>English Poetry</td>\n",
       "      <td>1881.0</td>\n",
       "      <td>14.0</td>\n",
       "      <td>Valete: Tennyson [etc.] (1893)</td>\n",
       "      <td>&amp;indent;The Highland heather purple on the hill,</td>\n",
       "      <td>y</td>\n",
       "      <td>Sonnet</td>\n",
       "      <td>1850-1900</td>\n",
       "      <td>open|chadwyck</td>\n",
       "    </tr>\n",
       "  </tbody>\n",
       "</table>\n",
       "<p>24039 rows × 43 columns</p>\n",
       "</div>"
      ],
      "text/plain": [
       "                                                    found found_source    found_corpus                                                txt                                           author  \\\n",
       "id                                                                                                                                                                                           \n",
       "poem/alas-tis-true-i-have-gone-here-and-there-s...   True         open  antoniak-et-al  Alas, ’tis true I have gone here and there\\nAn...                              William Shakespeare   \n",
       "43742/sonnets-from-the-portuguese-43-how-do-i-l...  False         open  antoniak-et-al  How do I love thee? Let me count the ways.\\nI ...                       Elizabeth Barrett Browning   \n",
       "...                                                   ...          ...             ...                                                ...                                              ...   \n",
       "american/am0076/Z200145561                          False         open        chadwyck  Thine eyes shall see the light of distant skie...                Bryant, William Cullen, 1794-1878   \n",
       "english/rawnsley/Z300472911                         False         open        chadwyck  The corn was yellow by the Lowland braes,\\n   ...  Rawnsley, H. D. (Hardwicke Drummond), 1851-1920   \n",
       "\n",
       "                                                   birth_death_dates                                              title    form   form_group                                               tags  ...  \\\n",
       "id                                                                                                                                                                                               ...   \n",
       "poem/alas-tis-true-i-have-gone-here-and-there-s...       1564 – 1616  Alas, 'tis true I have gone here and there (So...  sonnet  verse forms                        ['Sonnet', 'Public Domain']  ...   \n",
       "43742/sonnets-from-the-portuguese-43-how-do-i-l...         1806–1861  Sonnets from the Portuguese 43: How do I love ...  sonnet  verse forms  ['Related Audio', 'Living', 'Marriage & Compan...  ...   \n",
       "...                                                              ...                                                ...     ...          ...                                                ...  ...   \n",
       "american/am0076/Z200145561                                                  TO COLE, THE PAINTER, DEPARTING FOR EUROPE.                                                                          ...   \n",
       "english/rawnsley/Z300472911                                                                Lord Justice General Inglis.                                                                          ...   \n",
       "\n",
       "                                                                           period_meta        subcorpus    year num_lines_from_corpus                          volume  \\\n",
       "id                                                                                                                                                                      \n",
       "poem/alas-tis-true-i-have-gone-here-and-there-s...                                                                                                                      \n",
       "43742/sonnets-from-the-portuguese-43-how-do-i-l...                                                                                                                      \n",
       "...                                                                                ...              ...     ...                   ...                             ...   \n",
       "american/am0076/Z200145561                            1835-1869 Mid Nineteenth-Century  American Poetry  1824.0                  14.0       The Poetical Works (1903)   \n",
       "english/rawnsley/Z300472911                         1870-1899 Later Nineteenth-Century   English Poetry  1881.0                  14.0  Valete: Tennyson [etc.] (1893)   \n",
       "\n",
       "                                                                                                line rhyme   genre     period  found_source_corpus  \n",
       "id                                                                                                                                                  \n",
       "poem/alas-tis-true-i-have-gone-here-and-there-s...                                                                             open|antoniak-et-al  \n",
       "43742/sonnets-from-the-portuguese-43-how-do-i-l...                                                                             open|antoniak-et-al  \n",
       "...                                                                                              ...   ...     ...        ...                  ...  \n",
       "american/am0076/Z200145561                            &indent;A living image of our own bright land,     y  Sonnet  1750-1800        open|chadwyck  \n",
       "english/rawnsley/Z300472911                         &indent;The Highland heather purple on the hill,     y  Sonnet  1850-1900        open|chadwyck  \n",
       "\n",
       "[24039 rows x 43 columns]"
      ]
     },
     "metadata": {},
     "output_type": "display_data"
    }
   ],
   "source": [
    "# Code\n",
    "import sys\n",
    "sys.path.insert(0,'..')\n",
    "from generative_formalism import * \n",
    "\n",
    "printm('# Detecting memorized poems')\n",
    "\n",
    "printm('## From open-source training data')\n",
    "printm('### Antoniak et al (Dolma)')\n",
    "\n",
    "documentation(get_antoniak_et_al_memorization_data)\n",
    "documentation(preprocess_antoniak_et_al_memorization_data)\n",
    "\n",
    "df_antoniak_et_al_memorization_data = get_antoniak_et_al_memorization_data()\n",
    "display(df_antoniak_et_al_memorization_data)\n",
    "\n",
    "printm('### From Dolma + Chadwyck-Healey')\n",
    "documentation(get_memorized_poems_in_dolma)\n",
    "df_mem_chadwyck_open = get_memorized_poems_in_dolma()\n",
    "display(df_mem_chadwyck_open)\n",
    "\n",
    "printm('## From memorization detection from closed-source models')\n",
    "documentation(get_memorized_poems_in_completions)\n",
    "df_mem_chadwyck_closed = get_memorized_poems_in_completions()\n",
    "display(df_mem_chadwyck_closed)\n",
    "\n",
    "printm('## All together')\n",
    "documentation(get_all_memorization_data)\n",
    "df_mem = get_all_memorization_data(force=True)\n",
    "display(df_mem.groupby(['found_corpus', 'found_source','found']).size())\n",
    "display(df_mem)"
   ]
  },
  {
   "cell_type": "code",
   "execution_count": null,
   "metadata": {},
   "outputs": [],
   "source": []
  }
 ],
 "metadata": {
  "kernelspec": {
   "display_name": "venv",
   "language": "python",
   "name": "python3"
  },
  "language_info": {
   "codemirror_mode": {
    "name": "ipython",
    "version": 3
   },
   "file_extension": ".py",
   "mimetype": "text/x-python",
   "name": "python",
   "nbconvert_exporter": "python",
   "pygments_lexer": "ipython3",
   "version": "3.11.7"
  }
 },
 "nbformat": 4,
 "nbformat_minor": 2
}
