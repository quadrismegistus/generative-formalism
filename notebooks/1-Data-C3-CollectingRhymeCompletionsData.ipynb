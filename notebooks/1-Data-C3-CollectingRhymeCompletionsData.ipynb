{
 "cells": [
  {
   "cell_type": "markdown",
   "metadata": {},
   "source": [
    "# Prompting for completions of poems"
   ]
  },
  {
   "cell_type": "code",
   "execution_count": null,
   "metadata": {},
   "outputs": [],
   "source": [
    "import sys\n",
    "sys.path.append('../')\n",
    "from generative_formalism.rhyme_completions import *"
   ]
  },
  {
   "cell_type": "markdown",
   "metadata": {},
   "source": [
    "## Preprocessing raw data"
   ]
  },
  {
   "cell_type": "code",
   "execution_count": null,
   "metadata": {},
   "outputs": [],
   "source": [
    "documentation(preprocess_legacy_genai_rhyme_completions)"
   ]
  },
  {
   "cell_type": "code",
   "execution_count": null,
   "metadata": {},
   "outputs": [],
   "source": [
    "# Get data from raw data of past generations\n",
    "df_preprocessed_rhyme_completions = preprocess_legacy_genai_rhyme_completions(overwrite=False)\n",
    "df_preprocessed_rhyme_completions"
   ]
  },
  {
   "cell_type": "code",
   "execution_count": null,
   "metadata": {},
   "outputs": [],
   "source": [
    "documentation(get_genai_rhyme_completions_as_in_paper)"
   ]
  },
  {
   "cell_type": "code",
   "execution_count": null,
   "metadata": {},
   "outputs": [],
   "source": [
    "# Data as in paper\n",
    "df_rhyme_completions_by_line = get_genai_rhyme_completions_as_in_paper(by_line=True, filter_recognized=False)\n",
    "df_rhyme_completions_by_line.head()"
   ]
  },
  {
   "cell_type": "code",
   "execution_count": null,
   "metadata": {},
   "outputs": [],
   "source": [
    "# Preprocessed data should be equal to data as in paper\n",
    "pd.testing.assert_frame_equal(df_rhyme_completions_by_line, df_preprocessed_rhyme_completions)"
   ]
  },
  {
   "cell_type": "code",
   "execution_count": null,
   "metadata": {},
   "outputs": [],
   "source": [
    "# Show data by poem\n",
    "df_rhyme_completions_by_poem_including_first_n_lines = get_genai_rhyme_completions_as_in_paper(by_line=False, keep_first_n_lines=True)\n",
    "df_rhyme_completions_by_poem_including_first_n_lines.head()"
   ]
  },
  {
   "cell_type": "code",
   "execution_count": null,
   "metadata": {},
   "outputs": [],
   "source": [
    "# Show data by poem excluding first n lines\n",
    "df_rhyme_completions_by_poem_excluding_first_n_lines = get_genai_rhyme_completions_as_in_paper(by_line=False, keep_first_n_lines=False)\n",
    "df_rhyme_completions_by_poem_excluding_first_n_lines.head()"
   ]
  },
  {
   "cell_type": "markdown",
   "metadata": {},
   "source": [
    "### Replicated data"
   ]
  },
  {
   "cell_type": "code",
   "execution_count": null,
   "metadata": {},
   "outputs": [],
   "source": [
    "get_genai_rhyme_completions_as_replicated()"
   ]
  },
  {
   "cell_type": "code",
   "execution_count": null,
   "metadata": {},
   "outputs": [],
   "source": []
  }
 ],
 "metadata": {
  "kernelspec": {
   "display_name": "venv",
   "language": "python",
   "name": "python3"
  },
  "language_info": {
   "codemirror_mode": {
    "name": "ipython",
    "version": 3
   },
   "file_extension": ".py",
   "mimetype": "text/x-python",
   "name": "python",
   "nbconvert_exporter": "python",
   "pygments_lexer": "ipython3",
   "version": "3.11.9"
  }
 },
 "nbformat": 4,
 "nbformat_minor": 2
}
