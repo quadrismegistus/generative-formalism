{
 "cells": [
  {
   "cell_type": "markdown",
   "metadata": {},
   "source": [
    "# Corpus: Chadwyck-Healey poetry collections"
   ]
  },
  {
   "cell_type": "markdown",
   "metadata": {},
   "source": [
    "## Loading corpus from source"
   ]
  },
  {
   "cell_type": "code",
   "execution_count": 1,
   "metadata": {
    "execution": {
     "iopub.execute_input": "2025-09-15T21:50:12.963011Z",
     "iopub.status.busy": "2025-09-15T21:50:12.962892Z",
     "iopub.status.idle": "2025-09-15T21:50:14.822561Z",
     "shell.execute_reply": "2025-09-15T21:50:14.822218Z"
    }
   },
   "outputs": [],
   "source": [
    "import sys\n",
    "sys.path.append('../')\n",
    "from generative_formalism import *"
   ]
  },
  {
   "cell_type": "code",
   "execution_count": 2,
   "metadata": {
    "execution": {
     "iopub.execute_input": "2025-09-15T21:50:14.824189Z",
     "iopub.status.busy": "2025-09-15T21:50:14.824021Z",
     "iopub.status.idle": "2025-09-15T21:50:14.827436Z",
     "shell.execute_reply": "2025-09-15T21:50:14.827217Z"
    }
   },
   "outputs": [
    {
     "data": {
      "text/markdown": [
       "##### `check_paths`\n",
       "\n",
       "```md\n",
       "Check if the paths to the Chadwyck-Healey corpus and metadata are set and exist.\n",
       "\n",
       "    Validates the configuration and availability of corpus files and URLs.\n",
       "    Prints status indicators for each required path and URL.\n",
       "\n",
       "    Returns\n",
       "    -------\n",
       "    None\n",
       "        Prints status information but doesn't return a value.\n",
       "\n",
       "    Calls\n",
       "    -----\n",
       "    - os.path.exists(PATH_CHADWYCK_HEALEY_TXT)\n",
       "    - os.path.exists(PATH_CHADWYCK_HEALEY_METADATA)\n",
       "    \n",
       "```\n",
       "----\n"
      ],
      "text/plain": [
       "<IPython.core.display.Markdown object>"
      ]
     },
     "metadata": {},
     "output_type": "display_data"
    },
    {
     "name": "stdout",
     "output_type": "stream",
     "text": [
      "✓ Chadwyck-Healey corpus path: /Users/rj416/github/generative-formalism/data/chadwyck_poetry/txt\n",
      "✓ Chadwyck-Healey metadata path: /Users/rj416/github/generative-formalism/data/chadwyck_poetry/metadata.csv\n",
      "✓ Metadata file URL set in environment (.env or shell)\n",
      "✓ Corpus text file URL set in environment (.env or shell)\n"
     ]
    }
   ],
   "source": [
    "documentation(check_paths,signature=False)\n",
    "check_paths()"
   ]
  },
  {
   "cell_type": "markdown",
   "metadata": {},
   "source": [
    "### Loading corpus metadata"
   ]
  },
  {
   "cell_type": "code",
   "execution_count": 3,
   "metadata": {
    "execution": {
     "iopub.execute_input": "2025-09-15T21:50:14.846136Z",
     "iopub.status.busy": "2025-09-15T21:50:14.845997Z",
     "iopub.status.idle": "2025-09-15T21:50:14.848400Z",
     "shell.execute_reply": "2025-09-15T21:50:14.848163Z"
    }
   },
   "outputs": [
    {
     "data": {
      "text/markdown": [
       "##### `get_chadwyck_corpus_metadata`\n",
       "\n",
       "```md\n",
       "Load and normalize Chadwyck-Healey corpus metadata.\n",
       "\n",
       "    This function reads `PATH_CHADWYCK_HEALEY_METADATA`, downloading and unzipping\n",
       "    if missing. It coerces numeric fields, derives `id_hash` and binned `period`,\n",
       "    applies min/max filters, and caches the resulting DataFrame in `CORPUS_METADATA`.\n",
       "\n",
       "    Parameters\n",
       "    - fields: Mapping from raw column names to canonical names used downstream.\n",
       "    - period_by: Size of year bin for `period` derived from `author_dob`.\n",
       "    - download_if_necessary: If True, download metadata when not present on disk.\n",
       "    - overwrite: If True, force re-download when files exist.\n",
       "    - min_num_lines, max_num_lines: Optional poem-length filters.\n",
       "    - min_author_dob, max_author_dob: Optional birth-year filters.\n",
       "\n",
       "    Returns\n",
       "    - pd.DataFrame indexed by `id`, sorted by `id_hash`, including normalized fields\n",
       "      and derived `period`.\n",
       "    - Caches the DataFrame in the module-level `CORPUS_METADATA`.\n",
       "    \n",
       "```\n",
       "----\n"
      ],
      "text/plain": [
       "<IPython.core.display.Markdown object>"
      ]
     },
     "metadata": {},
     "output_type": "display_data"
    }
   ],
   "source": [
    "documentation(get_chadwyck_corpus_metadata)"
   ]
  },
  {
   "cell_type": "code",
   "execution_count": 4,
   "metadata": {
    "execution": {
     "iopub.execute_input": "2025-09-15T21:50:14.849539Z",
     "iopub.status.busy": "2025-09-15T21:50:14.849441Z",
     "iopub.status.idle": "2025-09-15T21:50:22.375248Z",
     "shell.execute_reply": "2025-09-15T21:50:22.374997Z"
    }
   },
   "outputs": [
    {
     "data": {
      "text/html": [
       "<div>\n",
       "<style scoped>\n",
       "    .dataframe tbody tr th:only-of-type {\n",
       "        vertical-align: middle;\n",
       "    }\n",
       "\n",
       "    .dataframe tbody tr th {\n",
       "        vertical-align: top;\n",
       "    }\n",
       "\n",
       "    .dataframe thead th {\n",
       "        text-align: right;\n",
       "    }\n",
       "</style>\n",
       "<table border=\"1\" class=\"dataframe\">\n",
       "  <thead>\n",
       "    <tr style=\"text-align: right;\">\n",
       "      <th></th>\n",
       "      <th>id_hash</th>\n",
       "      <th>period_meta</th>\n",
       "      <th>subcorpus</th>\n",
       "      <th>author</th>\n",
       "      <th>author_dob</th>\n",
       "      <th>title</th>\n",
       "      <th>year</th>\n",
       "      <th>num_lines</th>\n",
       "      <th>volume</th>\n",
       "      <th>line</th>\n",
       "      <th>rhyme</th>\n",
       "      <th>genre</th>\n",
       "      <th>period</th>\n",
       "    </tr>\n",
       "    <tr>\n",
       "      <th>id</th>\n",
       "      <th></th>\n",
       "      <th></th>\n",
       "      <th></th>\n",
       "      <th></th>\n",
       "      <th></th>\n",
       "      <th></th>\n",
       "      <th></th>\n",
       "      <th></th>\n",
       "      <th></th>\n",
       "      <th></th>\n",
       "      <th></th>\n",
       "      <th></th>\n",
       "      <th></th>\n",
       "    </tr>\n",
       "  </thead>\n",
       "  <tbody>\n",
       "    <tr>\n",
       "      <th>english-ed2/ep2432/Z200661628</th>\n",
       "      <td>0</td>\n",
       "      <td></td>\n",
       "      <td>English Poetry</td>\n",
       "      <td>Dutt, Govin Chunder, 1828-1884 / Dutt, Hur Chu...</td>\n",
       "      <td>1828.0</td>\n",
       "      <td>CHARADE.[It was a noble west&amp;hyphen;end lord]</td>\n",
       "      <td>1858</td>\n",
       "      <td>32</td>\n",
       "      <td></td>\n",
       "      <td>It was a noble west&amp;hyphen;end lord,</td>\n",
       "      <td>y</td>\n",
       "      <td></td>\n",
       "      <td>1800-1850</td>\n",
       "    </tr>\n",
       "    <tr>\n",
       "      <th>english/matherjo/Z200427380</th>\n",
       "      <td>3</td>\n",
       "      <td>1750-1799 Later Eighteenth-Century</td>\n",
       "      <td>English Poetry</td>\n",
       "      <td>Mather, Joseph, 1737-1804</td>\n",
       "      <td>1737.0</td>\n",
       "      <td>SONG XXXIV. NOTHING LIKE LEATHER.</td>\n",
       "      <td>1767</td>\n",
       "      <td>30</td>\n",
       "      <td>The Songs (1862)</td>\n",
       "      <td>All you that wear breeches, both women and men,</td>\n",
       "      <td>y</td>\n",
       "      <td></td>\n",
       "      <td>1700-1750</td>\n",
       "    </tr>\n",
       "    <tr>\n",
       "      <th>english/mackaych/Z200421893</th>\n",
       "      <td>14</td>\n",
       "      <td>1835-1869 Mid Nineteenth-Century</td>\n",
       "      <td>English Poetry</td>\n",
       "      <td>Mackay, Charles, 1814-1889</td>\n",
       "      <td>1814.0</td>\n",
       "      <td>GOOD&amp;hyphen;MORROW.</td>\n",
       "      <td>1844</td>\n",
       "      <td>16</td>\n",
       "      <td>Ballads and Lyrical poems (1856)</td>\n",
       "      <td>&amp;indent;Thou gale, soft odours bring her;</td>\n",
       "      <td>y</td>\n",
       "      <td></td>\n",
       "      <td>1800-1850</td>\n",
       "    </tr>\n",
       "    <tr>\n",
       "      <th>english-ed2/galenorm/Z200678343</th>\n",
       "      <td>17</td>\n",
       "      <td></td>\n",
       "      <td>English Poetry</td>\n",
       "      <td>Gale, Norman, 1862-1942</td>\n",
       "      <td>1862.0</td>\n",
       "      <td>COLUMBUS</td>\n",
       "      <td>1892</td>\n",
       "      <td>32</td>\n",
       "      <td>A Flight of Fancies: By Norman Gale [1926]</td>\n",
       "      <td>Columbus, long and long ago</td>\n",
       "      <td>y</td>\n",
       "      <td></td>\n",
       "      <td>1850-1900</td>\n",
       "    </tr>\n",
       "    <tr>\n",
       "      <th>english-ed2/ep2464/Z200663430</th>\n",
       "      <td>18</td>\n",
       "      <td></td>\n",
       "      <td>English Poetry</td>\n",
       "      <td>Field, Barron, 1786-1846.</td>\n",
       "      <td>1786.0</td>\n",
       "      <td>SONNET,  ON AFFIXING  A TABLET TO THE MEMORY  ...</td>\n",
       "      <td>1816</td>\n",
       "      <td>19</td>\n",
       "      <td>First Fruits of Australian Poetry. Second Edit...</td>\n",
       "      <td>And Cook, had they had second sight, that here</td>\n",
       "      <td>y</td>\n",
       "      <td>Sonnet</td>\n",
       "      <td>1750-1800</td>\n",
       "    </tr>\n",
       "    <tr>\n",
       "      <th>...</th>\n",
       "      <td>...</td>\n",
       "      <td>...</td>\n",
       "      <td>...</td>\n",
       "      <td>...</td>\n",
       "      <td>...</td>\n",
       "      <td>...</td>\n",
       "      <td>...</td>\n",
       "      <td>...</td>\n",
       "      <td>...</td>\n",
       "      <td>...</td>\n",
       "      <td>...</td>\n",
       "      <td>...</td>\n",
       "      <td>...</td>\n",
       "    </tr>\n",
       "    <tr>\n",
       "      <th>c20-english/car2902/Z300134689</th>\n",
       "      <td>999969</td>\n",
       "      <td>1900-1999 Twentieth-Century</td>\n",
       "      <td>Modern Poetry</td>\n",
       "      <td>Morgan, Edwin, 1920-</td>\n",
       "      <td>1920.0</td>\n",
       "      <td>A Crow</td>\n",
       "      <td>1950</td>\n",
       "      <td>19</td>\n",
       "      <td></td>\n",
       "      <td>The summer grows late, cool, ragged, precious.</td>\n",
       "      <td></td>\n",
       "      <td></td>\n",
       "      <td>1900-1950</td>\n",
       "    </tr>\n",
       "    <tr>\n",
       "      <th>american/am0453/Z200160262</th>\n",
       "      <td>999975</td>\n",
       "      <td>1870-1899 Later Nineteenth-Century</td>\n",
       "      <td>American Poetry</td>\n",
       "      <td>Riley, James Whitcomb, 1849-1916</td>\n",
       "      <td>1849.0</td>\n",
       "      <td>AT MADAME MANICURE'S</td>\n",
       "      <td>1879</td>\n",
       "      <td>30</td>\n",
       "      <td>The Complete Works of James Whitcomb Riley [1916]</td>\n",
       "      <td>What a cunning hand is yours;</td>\n",
       "      <td>y</td>\n",
       "      <td></td>\n",
       "      <td>1800-1850</td>\n",
       "    </tr>\n",
       "    <tr>\n",
       "      <th>english/cookeliz/Z300319767</th>\n",
       "      <td>999975</td>\n",
       "      <td>1835-1869 Mid Nineteenth-Century</td>\n",
       "      <td>English Poetry</td>\n",
       "      <td>Cook, Eliza, 1818-1889</td>\n",
       "      <td>1818.0</td>\n",
       "      <td>TO A CRICKET.</td>\n",
       "      <td>1848</td>\n",
       "      <td>52</td>\n",
       "      <td>The Poetical Works (1870)</td>\n",
       "      <td>How I love to hear thee sing!</td>\n",
       "      <td>y</td>\n",
       "      <td></td>\n",
       "      <td>1800-1850</td>\n",
       "    </tr>\n",
       "    <tr>\n",
       "      <th>english/wordswwi/Z300543657</th>\n",
       "      <td>999977</td>\n",
       "      <td>1800-1834 Early Nineteenth-Century</td>\n",
       "      <td>English Poetry</td>\n",
       "      <td>Wordsworth, William, 1770-1850</td>\n",
       "      <td>1770.0</td>\n",
       "      <td>III. LINES WRITTEN IN EARLY SPRING.</td>\n",
       "      <td>1800</td>\n",
       "      <td>24</td>\n",
       "      <td>The Poetical Works (1849–1850)</td>\n",
       "      <td>While in a grove I sate reclined,</td>\n",
       "      <td>y</td>\n",
       "      <td>Lyric</td>\n",
       "      <td>1750-1800</td>\n",
       "    </tr>\n",
       "    <tr>\n",
       "      <th>english/rodgeral/Z200476030</th>\n",
       "      <td>999993</td>\n",
       "      <td>1800-1834 Early Nineteenth-Century</td>\n",
       "      <td>English Poetry</td>\n",
       "      <td>Rodger, Alexander, 1784-1846</td>\n",
       "      <td>1784.0</td>\n",
       "      <td>“THE BILL, THE WHOLE BILL, AND NOTHING BUT THE...</td>\n",
       "      <td>1814</td>\n",
       "      <td>32</td>\n",
       "      <td>Poems and Songs (1838)</td>\n",
       "      <td>&amp;indent;Can't you keep gnawing your bone and b...</td>\n",
       "      <td>y</td>\n",
       "      <td></td>\n",
       "      <td>1750-1800</td>\n",
       "    </tr>\n",
       "  </tbody>\n",
       "</table>\n",
       "<p>204514 rows × 13 columns</p>\n",
       "</div>"
      ],
      "text/plain": [
       "                                 id_hash                         period_meta        subcorpus                                             author author_dob  \\\n",
       "id                                                                                                                                                            \n",
       "english-ed2/ep2432/Z200661628          0                                       English Poetry  Dutt, Govin Chunder, 1828-1884 / Dutt, Hur Chu...     1828.0   \n",
       "english/matherjo/Z200427380            3  1750-1799 Later Eighteenth-Century   English Poetry                          Mather, Joseph, 1737-1804     1737.0   \n",
       "english/mackaych/Z200421893           14    1835-1869 Mid Nineteenth-Century   English Poetry                         Mackay, Charles, 1814-1889     1814.0   \n",
       "english-ed2/galenorm/Z200678343       17                                       English Poetry                            Gale, Norman, 1862-1942     1862.0   \n",
       "english-ed2/ep2464/Z200663430         18                                       English Poetry                          Field, Barron, 1786-1846.     1786.0   \n",
       "...                                  ...                                 ...              ...                                                ...        ...   \n",
       "c20-english/car2902/Z300134689    999969         1900-1999 Twentieth-Century    Modern Poetry                               Morgan, Edwin, 1920-     1920.0   \n",
       "american/am0453/Z200160262        999975  1870-1899 Later Nineteenth-Century  American Poetry                   Riley, James Whitcomb, 1849-1916     1849.0   \n",
       "english/cookeliz/Z300319767       999975    1835-1869 Mid Nineteenth-Century   English Poetry                             Cook, Eliza, 1818-1889     1818.0   \n",
       "english/wordswwi/Z300543657       999977  1800-1834 Early Nineteenth-Century   English Poetry                     Wordsworth, William, 1770-1850     1770.0   \n",
       "english/rodgeral/Z200476030       999993  1800-1834 Early Nineteenth-Century   English Poetry                       Rodger, Alexander, 1784-1846     1784.0   \n",
       "\n",
       "                                                                             title  year  num_lines                                             volume  \\\n",
       "id                                                                                                                                                       \n",
       "english-ed2/ep2432/Z200661628        CHARADE.[It was a noble west&hyphen;end lord]  1858         32                                                      \n",
       "english/matherjo/Z200427380                      SONG XXXIV. NOTHING LIKE LEATHER.  1767         30                                   The Songs (1862)   \n",
       "english/mackaych/Z200421893                                    GOOD&hyphen;MORROW.  1844         16                   Ballads and Lyrical poems (1856)   \n",
       "english-ed2/galenorm/Z200678343                                           COLUMBUS  1892         32         A Flight of Fancies: By Norman Gale [1926]   \n",
       "english-ed2/ep2464/Z200663430    SONNET,  ON AFFIXING  A TABLET TO THE MEMORY  ...  1816         19  First Fruits of Australian Poetry. Second Edit...   \n",
       "...                                                                            ...   ...        ...                                                ...   \n",
       "c20-english/car2902/Z300134689                                              A Crow  1950         19                                                      \n",
       "american/am0453/Z200160262                                    AT MADAME MANICURE'S  1879         30  The Complete Works of James Whitcomb Riley [1916]   \n",
       "english/cookeliz/Z300319767                                          TO A CRICKET.  1848         52                          The Poetical Works (1870)   \n",
       "english/wordswwi/Z300543657                    III. LINES WRITTEN IN EARLY SPRING.  1800         24                     The Poetical Works (1849–1850)   \n",
       "english/rodgeral/Z200476030      “THE BILL, THE WHOLE BILL, AND NOTHING BUT THE...  1814         32                             Poems and Songs (1838)   \n",
       "\n",
       "                                                                              line rhyme   genre     period  \n",
       "id                                                                                                           \n",
       "english-ed2/ep2432/Z200661628                 It was a noble west&hyphen;end lord,     y          1800-1850  \n",
       "english/matherjo/Z200427380        All you that wear breeches, both women and men,     y          1700-1750  \n",
       "english/mackaych/Z200421893              &indent;Thou gale, soft odours bring her;     y          1800-1850  \n",
       "english-ed2/galenorm/Z200678343                        Columbus, long and long ago     y          1850-1900  \n",
       "english-ed2/ep2464/Z200663430       And Cook, had they had second sight, that here     y  Sonnet  1750-1800  \n",
       "...                                                                            ...   ...     ...        ...  \n",
       "c20-english/car2902/Z300134689      The summer grows late, cool, ragged, precious.                1900-1950  \n",
       "american/am0453/Z200160262                           What a cunning hand is yours;     y          1800-1850  \n",
       "english/cookeliz/Z300319767                          How I love to hear thee sing!     y          1800-1850  \n",
       "english/wordswwi/Z300543657                      While in a grove I sate reclined,     y   Lyric  1750-1800  \n",
       "english/rodgeral/Z200476030      &indent;Can't you keep gnawing your bone and b...     y          1750-1800  \n",
       "\n",
       "[204514 rows x 13 columns]"
      ]
     },
     "execution_count": 4,
     "metadata": {},
     "output_type": "execute_result"
    }
   ],
   "source": [
    "df_meta = get_chadwyck_corpus_metadata()\n",
    "df_meta"
   ]
  },
  {
   "cell_type": "markdown",
   "metadata": {},
   "source": [
    "### Loading corpus texts"
   ]
  },
  {
   "cell_type": "code",
   "execution_count": 5,
   "metadata": {
    "execution": {
     "iopub.execute_input": "2025-09-15T21:50:22.376525Z",
     "iopub.status.busy": "2025-09-15T21:50:22.376446Z",
     "iopub.status.idle": "2025-09-15T21:50:41.818695Z",
     "shell.execute_reply": "2025-09-15T21:50:41.818311Z"
    }
   },
   "outputs": [
    {
     "data": {
      "text/markdown": [
       "##### `get_chadwyck_corpus`\n",
       "\n",
       "```md\n",
       "Load metadata and poem texts into a single corpus DataFrame.\n",
       "\n",
       "    Combines corpus metadata with poem text content into a single DataFrame.\n",
       "    Uses in-memory caching to avoid repeated expensive loading operations.\n",
       "\n",
       "    Parameters\n",
       "    ----------\n",
       "    df_meta : pd.DataFrame, optional\n",
       "        Pre-loaded metadata DataFrame. If None, loads using get_chadwyck_corpus_metadata.\n",
       "    clean_poem : bool, default=True\n",
       "        If True, apply text cleaning/normalization to poem texts.\n",
       "    force : bool, default=False\n",
       "        If True, ignore in-memory cache and rebuild corpus.\n",
       "    download_if_necessary : bool, default=True\n",
       "        If True, download corpus files if not present locally.\n",
       "    *args, **kwargs\n",
       "        Additional arguments passed to get_chadwyck_corpus_metadata.\n",
       "\n",
       "    Returns\n",
       "    -------\n",
       "    pd.DataFrame\n",
       "        DataFrame with metadata plus a 'txt' column containing poem text.\n",
       "\n",
       "    Calls\n",
       "    -----\n",
       "    - get_chadwyck_corpus_metadata(*args, **kwargs) [if df_meta is None]\n",
       "    - download_chadwyck_corpus_txt() [if download_if_necessary=True and corpus text not found]\n",
       "    - get_chadwyck_corpus_texts(df_meta, clean_poem=clean_poem) [to load poem texts]\n",
       "    \n",
       "```\n",
       "----\n"
      ],
      "text/plain": [
       "<IPython.core.display.Markdown object>"
      ]
     },
     "metadata": {},
     "output_type": "display_data"
    },
    {
     "name": "stdout",
     "output_type": "stream",
     "text": [
      "* Loading Chadwyck-Healey corpus (metadata + txt)\n"
     ]
    },
    {
     "name": "stderr",
     "output_type": "stream",
     "text": [
      "\r",
      "  :   0%|          | 0/204514 [00:00<?, ?it/s]"
     ]
    },
    {
     "name": "stderr",
     "output_type": "stream",
     "text": [
      "\r",
      "  :   1%|          | 1211/204514 [00:00<00:16, 12107.59it/s]"
     ]
    },
    {
     "name": "stderr",
     "output_type": "stream",
     "text": [
      "\r",
      "  :   1%|          | 2450/204514 [00:00<00:16, 12260.84it/s]"
     ]
    },
    {
     "name": "stderr",
     "output_type": "stream",
     "text": [
      "\r",
      "  :   2%|▏         | 3716/204514 [00:00<00:16, 12439.25it/s]"
     ]
    },
    {
     "name": "stderr",
     "output_type": "stream",
     "text": [
      "\r",
      "  :   2%|▏         | 4960/204514 [00:00<00:16, 12341.23it/s]"
     ]
    },
    {
     "name": "stderr",
     "output_type": "stream",
     "text": [
      "\r",
      "  :   3%|▎         | 6201/204514 [00:00<00:16, 12365.80it/s]"
     ]
    },
    {
     "name": "stderr",
     "output_type": "stream",
     "text": [
      "\r",
      "  :   4%|▎         | 7449/204514 [00:00<00:15, 12395.75it/s]"
     ]
    },
    {
     "name": "stderr",
     "output_type": "stream",
     "text": [
      "\r",
      "  :   4%|▍         | 8754/204514 [00:00<00:15, 12608.33it/s]"
     ]
    },
    {
     "name": "stderr",
     "output_type": "stream",
     "text": [
      "\r",
      "  :   5%|▍         | 10015/204514 [00:00<00:15, 12541.40it/s]"
     ]
    },
    {
     "name": "stderr",
     "output_type": "stream",
     "text": [
      "\r",
      "  :   6%|▌         | 11270/204514 [00:00<00:15, 12425.58it/s]"
     ]
    },
    {
     "name": "stderr",
     "output_type": "stream",
     "text": [
      "\r",
      "  :   6%|▌         | 12633/204514 [00:01<00:15, 12787.93it/s]"
     ]
    },
    {
     "name": "stderr",
     "output_type": "stream",
     "text": [
      "\r",
      "  :   7%|▋         | 13913/204514 [00:01<00:15, 12686.11it/s]"
     ]
    },
    {
     "name": "stderr",
     "output_type": "stream",
     "text": [
      "\r",
      "  :   7%|▋         | 15183/204514 [00:01<00:15, 12545.77it/s]"
     ]
    },
    {
     "name": "stderr",
     "output_type": "stream",
     "text": [
      "\r",
      "  :   8%|▊         | 16439/204514 [00:01<00:15, 12526.92it/s]"
     ]
    },
    {
     "name": "stderr",
     "output_type": "stream",
     "text": [
      "\r",
      "  :   9%|▊         | 17693/204514 [00:01<00:14, 12499.47it/s]"
     ]
    },
    {
     "name": "stderr",
     "output_type": "stream",
     "text": [
      "\r",
      "  :   9%|▉         | 18957/204514 [00:01<00:14, 12540.83it/s]"
     ]
    },
    {
     "name": "stderr",
     "output_type": "stream",
     "text": [
      "\r",
      "  :  10%|▉         | 20255/204514 [00:01<00:14, 12669.11it/s]"
     ]
    },
    {
     "name": "stderr",
     "output_type": "stream",
     "text": [
      "\r",
      "  :  11%|█         | 21523/204514 [00:01<00:14, 12463.95it/s]"
     ]
    },
    {
     "name": "stderr",
     "output_type": "stream",
     "text": [
      "\r",
      "  :  11%|█         | 22771/204514 [00:01<00:14, 12242.67it/s]"
     ]
    },
    {
     "name": "stderr",
     "output_type": "stream",
     "text": [
      "\r",
      "  :  12%|█▏        | 23997/204514 [00:01<00:15, 11833.88it/s]"
     ]
    },
    {
     "name": "stderr",
     "output_type": "stream",
     "text": [
      "\r",
      "  :  12%|█▏        | 25184/204514 [00:02<00:15, 11290.17it/s]"
     ]
    },
    {
     "name": "stderr",
     "output_type": "stream",
     "text": [
      "\r",
      "  :  13%|█▎        | 26377/204514 [00:02<00:15, 11470.41it/s]"
     ]
    },
    {
     "name": "stderr",
     "output_type": "stream",
     "text": [
      "\r",
      "  :  13%|█▎        | 27530/204514 [00:02<00:15, 11150.97it/s]"
     ]
    },
    {
     "name": "stderr",
     "output_type": "stream",
     "text": [
      "\r",
      "  :  14%|█▍        | 28731/204514 [00:02<00:15, 11394.84it/s]"
     ]
    },
    {
     "name": "stderr",
     "output_type": "stream",
     "text": [
      "\r",
      "  :  15%|█▍        | 29987/204514 [00:02<00:14, 11730.64it/s]"
     ]
    },
    {
     "name": "stderr",
     "output_type": "stream",
     "text": [
      "\r",
      "  :  15%|█▌        | 31222/204514 [00:02<00:14, 11908.01it/s]"
     ]
    },
    {
     "name": "stderr",
     "output_type": "stream",
     "text": [
      "\r",
      "  :  16%|█▌        | 32481/204514 [00:02<00:14, 12108.11it/s]"
     ]
    },
    {
     "name": "stderr",
     "output_type": "stream",
     "text": [
      "\r",
      "  :  16%|█▋        | 33738/204514 [00:02<00:13, 12243.24it/s]"
     ]
    },
    {
     "name": "stderr",
     "output_type": "stream",
     "text": [
      "\r",
      "  :  17%|█▋        | 35030/204514 [00:02<00:13, 12442.11it/s]"
     ]
    },
    {
     "name": "stderr",
     "output_type": "stream",
     "text": [
      "\r",
      "  :  18%|█▊        | 36276/204514 [00:02<00:13, 12285.00it/s]"
     ]
    },
    {
     "name": "stderr",
     "output_type": "stream",
     "text": [
      "\r",
      "  :  18%|█▊        | 37507/204514 [00:03<00:13, 12287.96it/s]"
     ]
    },
    {
     "name": "stderr",
     "output_type": "stream",
     "text": [
      "\r",
      "  :  19%|█▉        | 38737/204514 [00:03<00:13, 12245.01it/s]"
     ]
    },
    {
     "name": "stderr",
     "output_type": "stream",
     "text": [
      "\r",
      "  :  20%|█▉        | 39988/204514 [00:03<00:13, 12322.36it/s]"
     ]
    },
    {
     "name": "stderr",
     "output_type": "stream",
     "text": [
      "\r",
      "  :  20%|██        | 41221/204514 [00:03<00:13, 12081.43it/s]"
     ]
    },
    {
     "name": "stderr",
     "output_type": "stream",
     "text": [
      "\r",
      "  :  21%|██        | 42460/204514 [00:03<00:13, 12164.61it/s]"
     ]
    },
    {
     "name": "stderr",
     "output_type": "stream",
     "text": [
      "\r",
      "  :  21%|██▏       | 43678/204514 [00:03<00:13, 12064.12it/s]"
     ]
    },
    {
     "name": "stderr",
     "output_type": "stream",
     "text": [
      "\r",
      "  :  22%|██▏       | 44886/204514 [00:03<00:13, 11831.72it/s]"
     ]
    },
    {
     "name": "stderr",
     "output_type": "stream",
     "text": [
      "\r",
      "  :  23%|██▎       | 46071/204514 [00:03<00:13, 11509.67it/s]"
     ]
    },
    {
     "name": "stderr",
     "output_type": "stream",
     "text": [
      "\r",
      "  :  23%|██▎       | 47278/204514 [00:03<00:13, 11665.93it/s]"
     ]
    },
    {
     "name": "stderr",
     "output_type": "stream",
     "text": [
      "\r",
      "  :  24%|██▎       | 48521/204514 [00:03<00:13, 11885.22it/s]"
     ]
    },
    {
     "name": "stderr",
     "output_type": "stream",
     "text": [
      "\r",
      "  :  24%|██▍       | 49789/204514 [00:04<00:12, 12116.96it/s]"
     ]
    },
    {
     "name": "stderr",
     "output_type": "stream",
     "text": [
      "\r",
      "  :  25%|██▍       | 51006/204514 [00:04<00:12, 12125.99it/s]"
     ]
    },
    {
     "name": "stderr",
     "output_type": "stream",
     "text": [
      "\r",
      "  :  26%|██▌       | 52220/204514 [00:04<00:12, 11763.78it/s]"
     ]
    },
    {
     "name": "stderr",
     "output_type": "stream",
     "text": [
      "\r",
      "  :  26%|██▌       | 53438/204514 [00:04<00:12, 11884.41it/s]"
     ]
    },
    {
     "name": "stderr",
     "output_type": "stream",
     "text": [
      "\r",
      "  :  27%|██▋       | 54638/204514 [00:04<00:12, 11913.95it/s]"
     ]
    },
    {
     "name": "stderr",
     "output_type": "stream",
     "text": [
      "\r",
      "  :  27%|██▋       | 55832/204514 [00:04<00:12, 11901.41it/s]"
     ]
    },
    {
     "name": "stderr",
     "output_type": "stream",
     "text": [
      "\r",
      "  :  28%|██▊       | 57024/204514 [00:04<00:12, 11795.72it/s]"
     ]
    },
    {
     "name": "stderr",
     "output_type": "stream",
     "text": [
      "\r",
      "  :  28%|██▊       | 58205/204514 [00:04<00:12, 11796.70it/s]"
     ]
    },
    {
     "name": "stderr",
     "output_type": "stream",
     "text": [
      "\r",
      "  :  29%|██▉       | 59386/204514 [00:04<00:12, 11726.11it/s]"
     ]
    },
    {
     "name": "stderr",
     "output_type": "stream",
     "text": [
      "\r",
      "  :  30%|██▉       | 60595/204514 [00:05<00:12, 11833.51it/s]"
     ]
    },
    {
     "name": "stderr",
     "output_type": "stream",
     "text": [
      "\r",
      "  :  30%|███       | 61849/204514 [00:05<00:11, 12043.51it/s]"
     ]
    },
    {
     "name": "stderr",
     "output_type": "stream",
     "text": [
      "\r",
      "  :  31%|███       | 63097/204514 [00:05<00:11, 12171.37it/s]"
     ]
    },
    {
     "name": "stderr",
     "output_type": "stream",
     "text": [
      "\r",
      "  :  31%|███▏      | 64315/204514 [00:05<00:11, 11982.29it/s]"
     ]
    },
    {
     "name": "stderr",
     "output_type": "stream",
     "text": [
      "\r",
      "  :  32%|███▏      | 65515/204514 [00:05<00:11, 11938.58it/s]"
     ]
    },
    {
     "name": "stderr",
     "output_type": "stream",
     "text": [
      "\r",
      "  :  33%|███▎      | 66753/204514 [00:05<00:11, 12069.22it/s]"
     ]
    },
    {
     "name": "stderr",
     "output_type": "stream",
     "text": [
      "\r",
      "  :  33%|███▎      | 67965/204514 [00:05<00:11, 12082.49it/s]"
     ]
    },
    {
     "name": "stderr",
     "output_type": "stream",
     "text": [
      "\r",
      "  :  34%|███▍      | 69187/204514 [00:05<00:11, 12120.30it/s]"
     ]
    },
    {
     "name": "stderr",
     "output_type": "stream",
     "text": [
      "\r",
      "  :  34%|███▍      | 70447/204514 [00:05<00:10, 12256.55it/s]"
     ]
    },
    {
     "name": "stderr",
     "output_type": "stream",
     "text": [
      "\r",
      "  :  35%|███▌      | 71678/204514 [00:05<00:10, 12272.46it/s]"
     ]
    },
    {
     "name": "stderr",
     "output_type": "stream",
     "text": [
      "\r",
      "  :  36%|███▌      | 72907/204514 [00:06<00:10, 12277.27it/s]"
     ]
    },
    {
     "name": "stderr",
     "output_type": "stream",
     "text": [
      "\r",
      "  :  36%|███▌      | 74135/204514 [00:06<00:10, 12266.14it/s]"
     ]
    },
    {
     "name": "stderr",
     "output_type": "stream",
     "text": [
      "\r",
      "  :  37%|███▋      | 75362/204514 [00:06<00:11, 11413.76it/s]"
     ]
    },
    {
     "name": "stderr",
     "output_type": "stream",
     "text": [
      "\r",
      "  :  37%|███▋      | 76516/204514 [00:06<00:11, 10697.70it/s]"
     ]
    },
    {
     "name": "stderr",
     "output_type": "stream",
     "text": [
      "\r",
      "  :  38%|███▊      | 77625/204514 [00:06<00:11, 10805.57it/s]"
     ]
    },
    {
     "name": "stderr",
     "output_type": "stream",
     "text": [
      "\r",
      "  :  39%|███▊      | 78789/204514 [00:06<00:11, 11040.38it/s]"
     ]
    },
    {
     "name": "stderr",
     "output_type": "stream",
     "text": [
      "\r",
      "  :  39%|███▉      | 80001/204514 [00:06<00:10, 11350.05it/s]"
     ]
    },
    {
     "name": "stderr",
     "output_type": "stream",
     "text": [
      "\r",
      "  :  40%|███▉      | 81227/204514 [00:06<00:10, 11611.20it/s]"
     ]
    },
    {
     "name": "stderr",
     "output_type": "stream",
     "text": [
      "\r",
      "  :  40%|████      | 82395/204514 [00:06<00:10, 11502.40it/s]"
     ]
    },
    {
     "name": "stderr",
     "output_type": "stream",
     "text": [
      "\r",
      "  :  41%|████      | 83550/204514 [00:06<00:10, 11454.59it/s]"
     ]
    },
    {
     "name": "stderr",
     "output_type": "stream",
     "text": [
      "\r",
      "  :  41%|████▏     | 84699/204514 [00:07<00:10, 11281.16it/s]"
     ]
    },
    {
     "name": "stderr",
     "output_type": "stream",
     "text": [
      "\r",
      "  :  42%|████▏     | 85830/204514 [00:07<00:10, 11120.24it/s]"
     ]
    },
    {
     "name": "stderr",
     "output_type": "stream",
     "text": [
      "\r",
      "  :  43%|████▎     | 86944/204514 [00:07<00:11, 10656.65it/s]"
     ]
    },
    {
     "name": "stderr",
     "output_type": "stream",
     "text": [
      "\r",
      "  :  43%|████▎     | 88015/204514 [00:07<00:10, 10602.71it/s]"
     ]
    },
    {
     "name": "stderr",
     "output_type": "stream",
     "text": [
      "\r",
      "  :  44%|████▎     | 89091/204514 [00:07<00:10, 10647.54it/s]"
     ]
    },
    {
     "name": "stderr",
     "output_type": "stream",
     "text": [
      "\r",
      "  :  44%|████▍     | 90217/204514 [00:07<00:10, 10825.43it/s]"
     ]
    },
    {
     "name": "stderr",
     "output_type": "stream",
     "text": [
      "\r",
      "  :  45%|████▍     | 91302/204514 [00:07<00:10, 10769.82it/s]"
     ]
    },
    {
     "name": "stderr",
     "output_type": "stream",
     "text": [
      "\r",
      "  :  45%|████▌     | 92402/204514 [00:07<00:10, 10834.93it/s]"
     ]
    },
    {
     "name": "stderr",
     "output_type": "stream",
     "text": [
      "\r",
      "  :  46%|████▌     | 93487/204514 [00:07<00:10, 10831.47it/s]"
     ]
    },
    {
     "name": "stderr",
     "output_type": "stream",
     "text": [
      "\r",
      "  :  46%|████▋     | 94612/204514 [00:08<00:10, 10954.72it/s]"
     ]
    },
    {
     "name": "stderr",
     "output_type": "stream",
     "text": [
      "\r",
      "  :  47%|████▋     | 95726/204514 [00:08<00:09, 11008.13it/s]"
     ]
    },
    {
     "name": "stderr",
     "output_type": "stream",
     "text": [
      "\r",
      "  :  47%|████▋     | 96911/204514 [00:08<00:09, 11255.13it/s]"
     ]
    },
    {
     "name": "stderr",
     "output_type": "stream",
     "text": [
      "\r",
      "  :  48%|████▊     | 98053/204514 [00:08<00:09, 11304.10it/s]"
     ]
    },
    {
     "name": "stderr",
     "output_type": "stream",
     "text": [
      "\r",
      "  :  49%|████▊     | 99226/204514 [00:08<00:09, 11429.70it/s]"
     ]
    },
    {
     "name": "stderr",
     "output_type": "stream",
     "text": [
      "\r",
      "  :  49%|████▉     | 100370/204514 [00:08<00:09, 11326.92it/s]"
     ]
    },
    {
     "name": "stderr",
     "output_type": "stream",
     "text": [
      "\r",
      "  :  50%|████▉     | 101504/204514 [00:08<00:09, 11234.08it/s]"
     ]
    },
    {
     "name": "stderr",
     "output_type": "stream",
     "text": [
      "\r",
      "  :  50%|█████     | 102631/204514 [00:08<00:09, 11243.00it/s]"
     ]
    },
    {
     "name": "stderr",
     "output_type": "stream",
     "text": [
      "\r",
      "  :  51%|█████     | 103766/204514 [00:08<00:08, 11267.84it/s]"
     ]
    },
    {
     "name": "stderr",
     "output_type": "stream",
     "text": [
      "\r",
      "  :  51%|█████▏    | 104893/204514 [00:08<00:08, 11091.04it/s]"
     ]
    },
    {
     "name": "stderr",
     "output_type": "stream",
     "text": [
      "\r",
      "  :  52%|█████▏    | 106003/204514 [00:09<00:08, 11032.09it/s]"
     ]
    },
    {
     "name": "stderr",
     "output_type": "stream",
     "text": [
      "\r",
      "  :  52%|█████▏    | 107108/204514 [00:09<00:08, 11030.45it/s]"
     ]
    },
    {
     "name": "stderr",
     "output_type": "stream",
     "text": [
      "\r",
      "  :  53%|█████▎    | 108212/204514 [00:09<00:08, 10850.57it/s]"
     ]
    },
    {
     "name": "stderr",
     "output_type": "stream",
     "text": [
      "\r",
      "  :  53%|█████▎    | 109298/204514 [00:09<00:08, 10739.32it/s]"
     ]
    },
    {
     "name": "stderr",
     "output_type": "stream",
     "text": [
      "\r",
      "  :  54%|█████▍    | 110421/204514 [00:09<00:08, 10882.47it/s]"
     ]
    },
    {
     "name": "stderr",
     "output_type": "stream",
     "text": [
      "\r",
      "  :  55%|█████▍    | 111510/204514 [00:09<00:08, 10869.63it/s]"
     ]
    },
    {
     "name": "stderr",
     "output_type": "stream",
     "text": [
      "\r",
      "  :  55%|█████▌    | 112598/204514 [00:09<00:08, 10744.69it/s]"
     ]
    },
    {
     "name": "stderr",
     "output_type": "stream",
     "text": [
      "\r",
      "  :  56%|█████▌    | 113679/204514 [00:09<00:08, 10763.30it/s]"
     ]
    },
    {
     "name": "stderr",
     "output_type": "stream",
     "text": [
      "\r",
      "  :  56%|█████▌    | 114788/204514 [00:09<00:08, 10857.17it/s]"
     ]
    },
    {
     "name": "stderr",
     "output_type": "stream",
     "text": [
      "\r",
      "  :  57%|█████▋    | 115875/204514 [00:09<00:08, 10756.36it/s]"
     ]
    },
    {
     "name": "stderr",
     "output_type": "stream",
     "text": [
      "\r",
      "  :  57%|█████▋    | 116963/204514 [00:10<00:08, 10789.44it/s]"
     ]
    },
    {
     "name": "stderr",
     "output_type": "stream",
     "text": [
      "\r",
      "  :  58%|█████▊    | 118063/204514 [00:10<00:07, 10848.27it/s]"
     ]
    },
    {
     "name": "stderr",
     "output_type": "stream",
     "text": [
      "\r",
      "  :  58%|█████▊    | 119149/204514 [00:10<00:07, 10738.15it/s]"
     ]
    },
    {
     "name": "stderr",
     "output_type": "stream",
     "text": [
      "\r",
      "  :  59%|█████▉    | 120251/204514 [00:10<00:07, 10818.78it/s]"
     ]
    },
    {
     "name": "stderr",
     "output_type": "stream",
     "text": [
      "\r",
      "  :  59%|█████▉    | 121336/204514 [00:10<00:07, 10823.75it/s]"
     ]
    },
    {
     "name": "stderr",
     "output_type": "stream",
     "text": [
      "\r",
      "  :  60%|█████▉    | 122419/204514 [00:10<00:07, 10749.92it/s]"
     ]
    },
    {
     "name": "stderr",
     "output_type": "stream",
     "text": [
      "\r",
      "  :  60%|██████    | 123517/204514 [00:10<00:07, 10814.29it/s]"
     ]
    },
    {
     "name": "stderr",
     "output_type": "stream",
     "text": [
      "\r",
      "  :  61%|██████    | 124606/204514 [00:10<00:07, 10829.49it/s]"
     ]
    },
    {
     "name": "stderr",
     "output_type": "stream",
     "text": [
      "\r",
      "  :  61%|██████▏   | 125699/204514 [00:10<00:07, 10858.51it/s]"
     ]
    },
    {
     "name": "stderr",
     "output_type": "stream",
     "text": [
      "\r",
      "  :  62%|██████▏   | 126800/204514 [00:10<00:07, 10901.14it/s]"
     ]
    },
    {
     "name": "stderr",
     "output_type": "stream",
     "text": [
      "\r",
      "  :  63%|██████▎   | 127891/204514 [00:11<00:07, 10694.87it/s]"
     ]
    },
    {
     "name": "stderr",
     "output_type": "stream",
     "text": [
      "\r",
      "  :  63%|██████▎   | 128962/204514 [00:11<00:07, 10595.41it/s]"
     ]
    },
    {
     "name": "stderr",
     "output_type": "stream",
     "text": [
      "\r",
      "  :  64%|██████▎   | 130045/204514 [00:11<00:06, 10663.92it/s]"
     ]
    },
    {
     "name": "stderr",
     "output_type": "stream",
     "text": [
      "\r",
      "  :  64%|██████▍   | 131113/204514 [00:11<00:06, 10505.01it/s]"
     ]
    },
    {
     "name": "stderr",
     "output_type": "stream",
     "text": [
      "\r",
      "  :  65%|██████▍   | 132165/204514 [00:11<00:06, 10452.20it/s]"
     ]
    },
    {
     "name": "stderr",
     "output_type": "stream",
     "text": [
      "\r",
      "  :  65%|██████▌   | 133211/204514 [00:11<00:06, 10291.51it/s]"
     ]
    },
    {
     "name": "stderr",
     "output_type": "stream",
     "text": [
      "\r",
      "  :  66%|██████▌   | 134241/204514 [00:11<00:06, 10291.07it/s]"
     ]
    },
    {
     "name": "stderr",
     "output_type": "stream",
     "text": [
      "\r",
      "  :  66%|██████▌   | 135271/204514 [00:11<00:06, 10087.90it/s]"
     ]
    },
    {
     "name": "stderr",
     "output_type": "stream",
     "text": [
      "\r",
      "  :  67%|██████▋   | 136329/204514 [00:11<00:06, 10228.25it/s]"
     ]
    },
    {
     "name": "stderr",
     "output_type": "stream",
     "text": [
      "\r",
      "  :  67%|██████▋   | 137422/204514 [00:11<00:06, 10433.66it/s]"
     ]
    },
    {
     "name": "stderr",
     "output_type": "stream",
     "text": [
      "\r",
      "  :  68%|██████▊   | 138467/204514 [00:12<00:06, 10167.50it/s]"
     ]
    },
    {
     "name": "stderr",
     "output_type": "stream",
     "text": [
      "\r",
      "  :  68%|██████▊   | 139563/204514 [00:12<00:06, 10394.66it/s]"
     ]
    },
    {
     "name": "stderr",
     "output_type": "stream",
     "text": [
      "\r",
      "  :  69%|██████▉   | 140618/204514 [00:12<00:06, 10439.71it/s]"
     ]
    },
    {
     "name": "stderr",
     "output_type": "stream",
     "text": [
      "\r",
      "  :  69%|██████▉   | 141664/204514 [00:12<00:06, 10340.29it/s]"
     ]
    },
    {
     "name": "stderr",
     "output_type": "stream",
     "text": [
      "\r",
      "  :  70%|██████▉   | 142700/204514 [00:12<00:06, 10293.21it/s]"
     ]
    },
    {
     "name": "stderr",
     "output_type": "stream",
     "text": [
      "\r",
      "  :  70%|███████   | 143731/204514 [00:12<00:05, 10269.14it/s]"
     ]
    },
    {
     "name": "stderr",
     "output_type": "stream",
     "text": [
      "\r",
      "  :  71%|███████   | 144759/204514 [00:12<00:05, 10221.15it/s]"
     ]
    },
    {
     "name": "stderr",
     "output_type": "stream",
     "text": [
      "\r",
      "  :  71%|███████▏  | 145782/204514 [00:12<00:05, 10143.17it/s]"
     ]
    },
    {
     "name": "stderr",
     "output_type": "stream",
     "text": [
      "\r",
      "  :  72%|███████▏  | 146797/204514 [00:12<00:05, 10129.29it/s]"
     ]
    },
    {
     "name": "stderr",
     "output_type": "stream",
     "text": [
      "\r",
      "  :  72%|███████▏  | 147811/204514 [00:13<00:05, 10010.46it/s]"
     ]
    },
    {
     "name": "stderr",
     "output_type": "stream",
     "text": [
      "\r",
      "  :  73%|███████▎  | 148813/204514 [00:13<00:05, 9952.97it/s] "
     ]
    },
    {
     "name": "stderr",
     "output_type": "stream",
     "text": [
      "\r",
      "  :  73%|███████▎  | 149809/204514 [00:13<00:05, 9892.56it/s]"
     ]
    },
    {
     "name": "stderr",
     "output_type": "stream",
     "text": [
      "\r",
      "  :  74%|███████▎  | 150799/204514 [00:13<00:05, 9850.26it/s]"
     ]
    },
    {
     "name": "stderr",
     "output_type": "stream",
     "text": [
      "\r",
      "  :  74%|███████▍  | 151802/204514 [00:13<00:05, 9898.57it/s]"
     ]
    },
    {
     "name": "stderr",
     "output_type": "stream",
     "text": [
      "\r",
      "  :  75%|███████▍  | 152797/204514 [00:13<00:05, 9911.08it/s]"
     ]
    },
    {
     "name": "stderr",
     "output_type": "stream",
     "text": [
      "\r",
      "  :  75%|███████▌  | 153816/204514 [00:13<00:05, 9993.52it/s]"
     ]
    },
    {
     "name": "stderr",
     "output_type": "stream",
     "text": [
      "\r",
      "  :  76%|███████▌  | 154877/204514 [00:13<00:04, 10177.14it/s]"
     ]
    },
    {
     "name": "stderr",
     "output_type": "stream",
     "text": [
      "\r",
      "  :  76%|███████▌  | 155895/204514 [00:13<00:04, 10106.41it/s]"
     ]
    },
    {
     "name": "stderr",
     "output_type": "stream",
     "text": [
      "\r",
      "  :  77%|███████▋  | 156912/204514 [00:13<00:04, 10123.77it/s]"
     ]
    },
    {
     "name": "stderr",
     "output_type": "stream",
     "text": [
      "\r",
      "  :  77%|███████▋  | 157972/204514 [00:14<00:04, 10259.84it/s]"
     ]
    },
    {
     "name": "stderr",
     "output_type": "stream",
     "text": [
      "\r",
      "  :  78%|███████▊  | 158999/204514 [00:14<00:04, 10182.57it/s]"
     ]
    },
    {
     "name": "stderr",
     "output_type": "stream",
     "text": [
      "\r",
      "  :  78%|███████▊  | 160018/204514 [00:14<00:04, 10068.98it/s]"
     ]
    },
    {
     "name": "stderr",
     "output_type": "stream",
     "text": [
      "\r",
      "  :  79%|███████▉  | 161061/204514 [00:14<00:04, 10175.28it/s]"
     ]
    },
    {
     "name": "stderr",
     "output_type": "stream",
     "text": [
      "\r",
      "  :  79%|███████▉  | 162131/204514 [00:14<00:04, 10329.50it/s]"
     ]
    },
    {
     "name": "stderr",
     "output_type": "stream",
     "text": [
      "\r",
      "  :  80%|███████▉  | 163165/204514 [00:14<00:04, 10260.16it/s]"
     ]
    },
    {
     "name": "stderr",
     "output_type": "stream",
     "text": [
      "\r",
      "  :  80%|████████  | 164192/204514 [00:14<00:03, 10173.71it/s]"
     ]
    },
    {
     "name": "stderr",
     "output_type": "stream",
     "text": [
      "\r",
      "  :  81%|████████  | 165210/204514 [00:14<00:03, 10144.67it/s]"
     ]
    },
    {
     "name": "stderr",
     "output_type": "stream",
     "text": [
      "\r",
      "  :  81%|████████▏ | 166225/204514 [00:14<00:03, 10135.79it/s]"
     ]
    },
    {
     "name": "stderr",
     "output_type": "stream",
     "text": [
      "\r",
      "  :  82%|████████▏ | 167239/204514 [00:14<00:03, 9758.01it/s] "
     ]
    },
    {
     "name": "stderr",
     "output_type": "stream",
     "text": [
      "\r",
      "  :  82%|████████▏ | 168251/204514 [00:15<00:03, 9856.30it/s]"
     ]
    },
    {
     "name": "stderr",
     "output_type": "stream",
     "text": [
      "\r",
      "  :  83%|████████▎ | 169239/204514 [00:15<00:03, 9852.13it/s]"
     ]
    },
    {
     "name": "stderr",
     "output_type": "stream",
     "text": [
      "\r",
      "  :  83%|████████▎ | 170259/204514 [00:15<00:03, 9950.51it/s]"
     ]
    },
    {
     "name": "stderr",
     "output_type": "stream",
     "text": [
      "\r",
      "  :  84%|████████▍ | 171305/204514 [00:15<00:03, 10098.58it/s]"
     ]
    },
    {
     "name": "stderr",
     "output_type": "stream",
     "text": [
      "\r",
      "  :  84%|████████▍ | 172316/204514 [00:15<00:03, 10074.65it/s]"
     ]
    },
    {
     "name": "stderr",
     "output_type": "stream",
     "text": [
      "\r",
      "  :  85%|████████▍ | 173335/204514 [00:15<00:03, 10103.18it/s]"
     ]
    },
    {
     "name": "stderr",
     "output_type": "stream",
     "text": [
      "\r",
      "  :  85%|████████▌ | 174346/204514 [00:15<00:02, 10067.27it/s]"
     ]
    },
    {
     "name": "stderr",
     "output_type": "stream",
     "text": [
      "\r",
      "  :  86%|████████▌ | 175371/204514 [00:15<00:02, 10120.63it/s]"
     ]
    },
    {
     "name": "stderr",
     "output_type": "stream",
     "text": [
      "\r",
      "  :  86%|████████▌ | 176384/204514 [00:15<00:03, 9152.73it/s] "
     ]
    },
    {
     "name": "stderr",
     "output_type": "stream",
     "text": [
      "\r",
      "  :  87%|████████▋ | 177317/204514 [00:15<00:02, 9087.05it/s]"
     ]
    },
    {
     "name": "stderr",
     "output_type": "stream",
     "text": [
      "\r",
      "  :  87%|████████▋ | 178248/204514 [00:16<00:02, 9149.13it/s]"
     ]
    },
    {
     "name": "stderr",
     "output_type": "stream",
     "text": [
      "\r",
      "  :  88%|████████▊ | 179184/204514 [00:16<00:02, 9208.77it/s]"
     ]
    },
    {
     "name": "stderr",
     "output_type": "stream",
     "text": [
      "\r",
      "  :  88%|████████▊ | 180112/204514 [00:16<00:02, 9177.49it/s]"
     ]
    },
    {
     "name": "stderr",
     "output_type": "stream",
     "text": [
      "\r",
      "  :  89%|████████▊ | 181035/204514 [00:16<00:02, 9177.82it/s]"
     ]
    },
    {
     "name": "stderr",
     "output_type": "stream",
     "text": [
      "\r",
      "  :  89%|████████▉ | 181956/204514 [00:16<00:02, 8961.61it/s]"
     ]
    },
    {
     "name": "stderr",
     "output_type": "stream",
     "text": [
      "\r",
      "  :  89%|████████▉ | 182912/204514 [00:16<00:02, 9135.27it/s]"
     ]
    },
    {
     "name": "stderr",
     "output_type": "stream",
     "text": [
      "\r",
      "  :  90%|████████▉ | 183858/204514 [00:16<00:02, 9228.41it/s]"
     ]
    },
    {
     "name": "stderr",
     "output_type": "stream",
     "text": [
      "\r",
      "  :  90%|█████████ | 184783/204514 [00:16<00:02, 8939.28it/s]"
     ]
    },
    {
     "name": "stderr",
     "output_type": "stream",
     "text": [
      "\r",
      "  :  91%|█████████ | 185680/204514 [00:16<00:02, 8915.14it/s]"
     ]
    },
    {
     "name": "stderr",
     "output_type": "stream",
     "text": [
      "\r",
      "  :  91%|█████████ | 186574/204514 [00:17<00:02, 8836.21it/s]"
     ]
    },
    {
     "name": "stderr",
     "output_type": "stream",
     "text": [
      "\r",
      "  :  92%|█████████▏| 187460/204514 [00:17<00:01, 8741.97it/s]"
     ]
    },
    {
     "name": "stderr",
     "output_type": "stream",
     "text": [
      "\r",
      "  :  92%|█████████▏| 188339/204514 [00:17<00:01, 8754.33it/s]"
     ]
    },
    {
     "name": "stderr",
     "output_type": "stream",
     "text": [
      "\r",
      "  :  93%|█████████▎| 189216/204514 [00:17<00:01, 8417.83it/s]"
     ]
    },
    {
     "name": "stderr",
     "output_type": "stream",
     "text": [
      "\r",
      "  :  93%|█████████▎| 190061/204514 [00:17<00:01, 8362.91it/s]"
     ]
    },
    {
     "name": "stderr",
     "output_type": "stream",
     "text": [
      "\r",
      "  :  93%|█████████▎| 190900/204514 [00:17<00:01, 8336.79it/s]"
     ]
    },
    {
     "name": "stderr",
     "output_type": "stream",
     "text": [
      "\r",
      "  :  94%|█████████▍| 191755/204514 [00:17<00:01, 8394.24it/s]"
     ]
    },
    {
     "name": "stderr",
     "output_type": "stream",
     "text": [
      "\r",
      "  :  94%|█████████▍| 192596/204514 [00:17<00:01, 8394.53it/s]"
     ]
    },
    {
     "name": "stderr",
     "output_type": "stream",
     "text": [
      "\r",
      "  :  95%|█████████▍| 193437/204514 [00:17<00:01, 8376.46it/s]"
     ]
    },
    {
     "name": "stderr",
     "output_type": "stream",
     "text": [
      "\r",
      "  :  95%|█████████▍| 194287/204514 [00:17<00:01, 8411.51it/s]"
     ]
    },
    {
     "name": "stderr",
     "output_type": "stream",
     "text": [
      "\r",
      "  :  95%|█████████▌| 195129/204514 [00:18<00:01, 8329.07it/s]"
     ]
    },
    {
     "name": "stderr",
     "output_type": "stream",
     "text": [
      "\r",
      "  :  96%|█████████▌| 195963/204514 [00:18<00:01, 7841.01it/s]"
     ]
    },
    {
     "name": "stderr",
     "output_type": "stream",
     "text": [
      "\r",
      "  :  96%|█████████▌| 196753/204514 [00:18<00:00, 7838.23it/s]"
     ]
    },
    {
     "name": "stderr",
     "output_type": "stream",
     "text": [
      "\r",
      "  :  97%|█████████▋| 197541/204514 [00:18<00:00, 7804.65it/s]"
     ]
    },
    {
     "name": "stderr",
     "output_type": "stream",
     "text": [
      "\r",
      "  :  97%|█████████▋| 198335/204514 [00:18<00:00, 7843.87it/s]"
     ]
    },
    {
     "name": "stderr",
     "output_type": "stream",
     "text": [
      "\r",
      "  :  97%|█████████▋| 199122/204514 [00:18<00:00, 7813.40it/s]"
     ]
    },
    {
     "name": "stderr",
     "output_type": "stream",
     "text": [
      "\r",
      "  :  98%|█████████▊| 199905/204514 [00:18<00:00, 7811.14it/s]"
     ]
    },
    {
     "name": "stderr",
     "output_type": "stream",
     "text": [
      "\r",
      "  :  98%|█████████▊| 200688/204514 [00:18<00:00, 7645.29it/s]"
     ]
    },
    {
     "name": "stderr",
     "output_type": "stream",
     "text": [
      "\r",
      "  :  99%|█████████▊| 201454/204514 [00:18<00:00, 7513.84it/s]"
     ]
    },
    {
     "name": "stderr",
     "output_type": "stream",
     "text": [
      "\r",
      "  :  99%|█████████▉| 202207/204514 [00:18<00:00, 7381.46it/s]"
     ]
    },
    {
     "name": "stderr",
     "output_type": "stream",
     "text": [
      "\r",
      "  :  99%|█████████▉| 202947/204514 [00:19<00:00, 7346.91it/s]"
     ]
    },
    {
     "name": "stderr",
     "output_type": "stream",
     "text": [
      "\r",
      "  : 100%|█████████▉| 203683/204514 [00:19<00:00, 7327.25it/s]"
     ]
    },
    {
     "name": "stderr",
     "output_type": "stream",
     "text": [
      "\r",
      "  : 100%|█████████▉| 204417/204514 [00:19<00:00, 7017.27it/s]"
     ]
    },
    {
     "name": "stderr",
     "output_type": "stream",
     "text": [
      "\r",
      "  : 100%|██████████| 204514/204514 [00:19<00:00, 10586.18it/s]"
     ]
    },
    {
     "name": "stderr",
     "output_type": "stream",
     "text": [
      "\n"
     ]
    },
    {
     "data": {
      "text/html": [
       "<div>\n",
       "<style scoped>\n",
       "    .dataframe tbody tr th:only-of-type {\n",
       "        vertical-align: middle;\n",
       "    }\n",
       "\n",
       "    .dataframe tbody tr th {\n",
       "        vertical-align: top;\n",
       "    }\n",
       "\n",
       "    .dataframe thead th {\n",
       "        text-align: right;\n",
       "    }\n",
       "</style>\n",
       "<table border=\"1\" class=\"dataframe\">\n",
       "  <thead>\n",
       "    <tr style=\"text-align: right;\">\n",
       "      <th></th>\n",
       "      <th>id_hash</th>\n",
       "      <th>period_meta</th>\n",
       "      <th>subcorpus</th>\n",
       "      <th>author</th>\n",
       "      <th>author_dob</th>\n",
       "      <th>title</th>\n",
       "      <th>year</th>\n",
       "      <th>num_lines</th>\n",
       "      <th>volume</th>\n",
       "      <th>line</th>\n",
       "      <th>rhyme</th>\n",
       "      <th>genre</th>\n",
       "      <th>period</th>\n",
       "      <th>txt</th>\n",
       "    </tr>\n",
       "    <tr>\n",
       "      <th>id</th>\n",
       "      <th></th>\n",
       "      <th></th>\n",
       "      <th></th>\n",
       "      <th></th>\n",
       "      <th></th>\n",
       "      <th></th>\n",
       "      <th></th>\n",
       "      <th></th>\n",
       "      <th></th>\n",
       "      <th></th>\n",
       "      <th></th>\n",
       "      <th></th>\n",
       "      <th></th>\n",
       "      <th></th>\n",
       "    </tr>\n",
       "  </thead>\n",
       "  <tbody>\n",
       "    <tr>\n",
       "      <th>english-ed2/ep2432/Z200661628</th>\n",
       "      <td>0</td>\n",
       "      <td></td>\n",
       "      <td>English Poetry</td>\n",
       "      <td>Dutt, Govin Chunder, 1828-1884 / Dutt, Hur Chu...</td>\n",
       "      <td>1828.0</td>\n",
       "      <td>CHARADE.[It was a noble west&amp;hyphen;end lord]</td>\n",
       "      <td>1858</td>\n",
       "      <td>32</td>\n",
       "      <td></td>\n",
       "      <td>It was a noble west&amp;hyphen;end lord,</td>\n",
       "      <td>y</td>\n",
       "      <td></td>\n",
       "      <td>1800-1850</td>\n",
       "      <td>It was a noble west-end lord,\\n    Dundreary-s...</td>\n",
       "    </tr>\n",
       "    <tr>\n",
       "      <th>english/matherjo/Z200427380</th>\n",
       "      <td>3</td>\n",
       "      <td>1750-1799 Later Eighteenth-Century</td>\n",
       "      <td>English Poetry</td>\n",
       "      <td>Mather, Joseph, 1737-1804</td>\n",
       "      <td>1737.0</td>\n",
       "      <td>SONG XXXIV. NOTHING LIKE LEATHER.</td>\n",
       "      <td>1767</td>\n",
       "      <td>30</td>\n",
       "      <td>The Songs (1862)</td>\n",
       "      <td>All you that wear breeches, both women and men,</td>\n",
       "      <td>y</td>\n",
       "      <td></td>\n",
       "      <td>1700-1750</td>\n",
       "      <td>All you that wear breeches, both women and men...</td>\n",
       "    </tr>\n",
       "    <tr>\n",
       "      <th>english/mackaych/Z200421893</th>\n",
       "      <td>14</td>\n",
       "      <td>1835-1869 Mid Nineteenth-Century</td>\n",
       "      <td>English Poetry</td>\n",
       "      <td>Mackay, Charles, 1814-1889</td>\n",
       "      <td>1814.0</td>\n",
       "      <td>GOOD&amp;hyphen;MORROW.</td>\n",
       "      <td>1844</td>\n",
       "      <td>16</td>\n",
       "      <td>Ballads and Lyrical poems (1856)</td>\n",
       "      <td>&amp;indent;Thou gale, soft odours bring her;</td>\n",
       "      <td>y</td>\n",
       "      <td></td>\n",
       "      <td>1800-1850</td>\n",
       "      <td>Shine brightly through her casement, sun;\\n   ...</td>\n",
       "    </tr>\n",
       "    <tr>\n",
       "      <th>english-ed2/galenorm/Z200678343</th>\n",
       "      <td>17</td>\n",
       "      <td></td>\n",
       "      <td>English Poetry</td>\n",
       "      <td>Gale, Norman, 1862-1942</td>\n",
       "      <td>1862.0</td>\n",
       "      <td>COLUMBUS</td>\n",
       "      <td>1892</td>\n",
       "      <td>32</td>\n",
       "      <td>A Flight of Fancies: By Norman Gale [1926]</td>\n",
       "      <td>Columbus, long and long ago</td>\n",
       "      <td>y</td>\n",
       "      <td></td>\n",
       "      <td>1850-1900</td>\n",
       "      <td>Columbus, long and long ago\\n    You bravely l...</td>\n",
       "    </tr>\n",
       "    <tr>\n",
       "      <th>english-ed2/ep2464/Z200663430</th>\n",
       "      <td>18</td>\n",
       "      <td></td>\n",
       "      <td>English Poetry</td>\n",
       "      <td>Field, Barron, 1786-1846.</td>\n",
       "      <td>1786.0</td>\n",
       "      <td>SONNET,  ON AFFIXING  A TABLET TO THE MEMORY  ...</td>\n",
       "      <td>1816</td>\n",
       "      <td>19</td>\n",
       "      <td>First Fruits of Australian Poetry. Second Edit...</td>\n",
       "      <td>And Cook, had they had second sight, that here</td>\n",
       "      <td>y</td>\n",
       "      <td>Sonnet</td>\n",
       "      <td>1750-1800</td>\n",
       "      <td>AGAINST THE ROCK OF THEIR FIRST LANDING IN BOT...</td>\n",
       "    </tr>\n",
       "    <tr>\n",
       "      <th>...</th>\n",
       "      <td>...</td>\n",
       "      <td>...</td>\n",
       "      <td>...</td>\n",
       "      <td>...</td>\n",
       "      <td>...</td>\n",
       "      <td>...</td>\n",
       "      <td>...</td>\n",
       "      <td>...</td>\n",
       "      <td>...</td>\n",
       "      <td>...</td>\n",
       "      <td>...</td>\n",
       "      <td>...</td>\n",
       "      <td>...</td>\n",
       "      <td>...</td>\n",
       "    </tr>\n",
       "    <tr>\n",
       "      <th>c20-english/car2902/Z300134689</th>\n",
       "      <td>999969</td>\n",
       "      <td>1900-1999 Twentieth-Century</td>\n",
       "      <td>Modern Poetry</td>\n",
       "      <td>Morgan, Edwin, 1920-</td>\n",
       "      <td>1920.0</td>\n",
       "      <td>A Crow</td>\n",
       "      <td>1950</td>\n",
       "      <td>19</td>\n",
       "      <td></td>\n",
       "      <td>The summer grows late, cool, ragged, precious.</td>\n",
       "      <td></td>\n",
       "      <td></td>\n",
       "      <td>1900-1950</td>\n",
       "      <td>The summer grows late, cool, ragged, precious....</td>\n",
       "    </tr>\n",
       "    <tr>\n",
       "      <th>american/am0453/Z200160262</th>\n",
       "      <td>999975</td>\n",
       "      <td>1870-1899 Later Nineteenth-Century</td>\n",
       "      <td>American Poetry</td>\n",
       "      <td>Riley, James Whitcomb, 1849-1916</td>\n",
       "      <td>1849.0</td>\n",
       "      <td>AT MADAME MANICURE'S</td>\n",
       "      <td>1879</td>\n",
       "      <td>30</td>\n",
       "      <td>The Complete Works of James Whitcomb Riley [1916]</td>\n",
       "      <td>What a cunning hand is yours;</td>\n",
       "      <td>y</td>\n",
       "      <td></td>\n",
       "      <td>1800-1850</td>\n",
       "      <td>Daintiest of Manicures!\\nWhat a cunning hand i...</td>\n",
       "    </tr>\n",
       "    <tr>\n",
       "      <th>english/cookeliz/Z300319767</th>\n",
       "      <td>999975</td>\n",
       "      <td>1835-1869 Mid Nineteenth-Century</td>\n",
       "      <td>English Poetry</td>\n",
       "      <td>Cook, Eliza, 1818-1889</td>\n",
       "      <td>1818.0</td>\n",
       "      <td>TO A CRICKET.</td>\n",
       "      <td>1848</td>\n",
       "      <td>52</td>\n",
       "      <td>The Poetical Works (1870)</td>\n",
       "      <td>How I love to hear thee sing!</td>\n",
       "      <td>y</td>\n",
       "      <td></td>\n",
       "      <td>1800-1850</td>\n",
       "      <td>Merry Cricket, twittering thing,\\nHow I love t...</td>\n",
       "    </tr>\n",
       "    <tr>\n",
       "      <th>english/wordswwi/Z300543657</th>\n",
       "      <td>999977</td>\n",
       "      <td>1800-1834 Early Nineteenth-Century</td>\n",
       "      <td>English Poetry</td>\n",
       "      <td>Wordsworth, William, 1770-1850</td>\n",
       "      <td>1770.0</td>\n",
       "      <td>III. LINES WRITTEN IN EARLY SPRING.</td>\n",
       "      <td>1800</td>\n",
       "      <td>24</td>\n",
       "      <td>The Poetical Works (1849–1850)</td>\n",
       "      <td>While in a grove I sate reclined,</td>\n",
       "      <td>y</td>\n",
       "      <td>Lyric</td>\n",
       "      <td>1750-1800</td>\n",
       "      <td>I herd a thousand blended notes,\\nWhile in a g...</td>\n",
       "    </tr>\n",
       "    <tr>\n",
       "      <th>english/rodgeral/Z200476030</th>\n",
       "      <td>999993</td>\n",
       "      <td>1800-1834 Early Nineteenth-Century</td>\n",
       "      <td>English Poetry</td>\n",
       "      <td>Rodger, Alexander, 1784-1846</td>\n",
       "      <td>1784.0</td>\n",
       "      <td>“THE BILL, THE WHOLE BILL, AND NOTHING BUT THE...</td>\n",
       "      <td>1814</td>\n",
       "      <td>32</td>\n",
       "      <td>Poems and Songs (1838)</td>\n",
       "      <td>&amp;indent;Can't you keep gnawing your bone and b...</td>\n",
       "      <td>y</td>\n",
       "      <td></td>\n",
       "      <td>1750-1800</td>\n",
       "      <td>Peace, peace! Johnny Bull, what the deuce are ...</td>\n",
       "    </tr>\n",
       "  </tbody>\n",
       "</table>\n",
       "<p>204514 rows × 14 columns</p>\n",
       "</div>"
      ],
      "text/plain": [
       "                                 id_hash                         period_meta        subcorpus                                             author author_dob  \\\n",
       "id                                                                                                                                                            \n",
       "english-ed2/ep2432/Z200661628          0                                       English Poetry  Dutt, Govin Chunder, 1828-1884 / Dutt, Hur Chu...     1828.0   \n",
       "english/matherjo/Z200427380            3  1750-1799 Later Eighteenth-Century   English Poetry                          Mather, Joseph, 1737-1804     1737.0   \n",
       "english/mackaych/Z200421893           14    1835-1869 Mid Nineteenth-Century   English Poetry                         Mackay, Charles, 1814-1889     1814.0   \n",
       "english-ed2/galenorm/Z200678343       17                                       English Poetry                            Gale, Norman, 1862-1942     1862.0   \n",
       "english-ed2/ep2464/Z200663430         18                                       English Poetry                          Field, Barron, 1786-1846.     1786.0   \n",
       "...                                  ...                                 ...              ...                                                ...        ...   \n",
       "c20-english/car2902/Z300134689    999969         1900-1999 Twentieth-Century    Modern Poetry                               Morgan, Edwin, 1920-     1920.0   \n",
       "american/am0453/Z200160262        999975  1870-1899 Later Nineteenth-Century  American Poetry                   Riley, James Whitcomb, 1849-1916     1849.0   \n",
       "english/cookeliz/Z300319767       999975    1835-1869 Mid Nineteenth-Century   English Poetry                             Cook, Eliza, 1818-1889     1818.0   \n",
       "english/wordswwi/Z300543657       999977  1800-1834 Early Nineteenth-Century   English Poetry                     Wordsworth, William, 1770-1850     1770.0   \n",
       "english/rodgeral/Z200476030       999993  1800-1834 Early Nineteenth-Century   English Poetry                       Rodger, Alexander, 1784-1846     1784.0   \n",
       "\n",
       "                                                                             title  year  num_lines                                             volume  \\\n",
       "id                                                                                                                                                       \n",
       "english-ed2/ep2432/Z200661628        CHARADE.[It was a noble west&hyphen;end lord]  1858         32                                                      \n",
       "english/matherjo/Z200427380                      SONG XXXIV. NOTHING LIKE LEATHER.  1767         30                                   The Songs (1862)   \n",
       "english/mackaych/Z200421893                                    GOOD&hyphen;MORROW.  1844         16                   Ballads and Lyrical poems (1856)   \n",
       "english-ed2/galenorm/Z200678343                                           COLUMBUS  1892         32         A Flight of Fancies: By Norman Gale [1926]   \n",
       "english-ed2/ep2464/Z200663430    SONNET,  ON AFFIXING  A TABLET TO THE MEMORY  ...  1816         19  First Fruits of Australian Poetry. Second Edit...   \n",
       "...                                                                            ...   ...        ...                                                ...   \n",
       "c20-english/car2902/Z300134689                                              A Crow  1950         19                                                      \n",
       "american/am0453/Z200160262                                    AT MADAME MANICURE'S  1879         30  The Complete Works of James Whitcomb Riley [1916]   \n",
       "english/cookeliz/Z300319767                                          TO A CRICKET.  1848         52                          The Poetical Works (1870)   \n",
       "english/wordswwi/Z300543657                    III. LINES WRITTEN IN EARLY SPRING.  1800         24                     The Poetical Works (1849–1850)   \n",
       "english/rodgeral/Z200476030      “THE BILL, THE WHOLE BILL, AND NOTHING BUT THE...  1814         32                             Poems and Songs (1838)   \n",
       "\n",
       "                                                                              line rhyme   genre     period                                                txt  \n",
       "id                                                                                                                                                              \n",
       "english-ed2/ep2432/Z200661628                 It was a noble west&hyphen;end lord,     y          1800-1850  It was a noble west-end lord,\\n    Dundreary-s...  \n",
       "english/matherjo/Z200427380        All you that wear breeches, both women and men,     y          1700-1750  All you that wear breeches, both women and men...  \n",
       "english/mackaych/Z200421893              &indent;Thou gale, soft odours bring her;     y          1800-1850  Shine brightly through her casement, sun;\\n   ...  \n",
       "english-ed2/galenorm/Z200678343                        Columbus, long and long ago     y          1850-1900  Columbus, long and long ago\\n    You bravely l...  \n",
       "english-ed2/ep2464/Z200663430       And Cook, had they had second sight, that here     y  Sonnet  1750-1800  AGAINST THE ROCK OF THEIR FIRST LANDING IN BOT...  \n",
       "...                                                                            ...   ...     ...        ...                                                ...  \n",
       "c20-english/car2902/Z300134689      The summer grows late, cool, ragged, precious.                1900-1950  The summer grows late, cool, ragged, precious....  \n",
       "american/am0453/Z200160262                           What a cunning hand is yours;     y          1800-1850  Daintiest of Manicures!\\nWhat a cunning hand i...  \n",
       "english/cookeliz/Z300319767                          How I love to hear thee sing!     y          1800-1850  Merry Cricket, twittering thing,\\nHow I love t...  \n",
       "english/wordswwi/Z300543657                      While in a grove I sate reclined,     y   Lyric  1750-1800  I herd a thousand blended notes,\\nWhile in a g...  \n",
       "english/rodgeral/Z200476030      &indent;Can't you keep gnawing your bone and b...     y          1750-1800  Peace, peace! Johnny Bull, what the deuce are ...  \n",
       "\n",
       "[204514 rows x 14 columns]"
      ]
     },
     "execution_count": 5,
     "metadata": {},
     "output_type": "execute_result"
    }
   ],
   "source": [
    "documentation(get_chadwyck_corpus)\n",
    "df_corpus = get_chadwyck_corpus(df_meta)\n",
    "df_corpus"
   ]
  }
 ],
 "metadata": {
  "kernelspec": {
   "display_name": "venv",
   "language": "python",
   "name": "python3"
  },
  "language_info": {
   "codemirror_mode": {
    "name": "ipython",
    "version": 3
   },
   "file_extension": ".py",
   "mimetype": "text/x-python",
   "name": "python",
   "nbconvert_exporter": "python",
   "pygments_lexer": "ipython3",
   "version": "3.11.9"
  }
 },
 "nbformat": 4,
 "nbformat_minor": 4
}
