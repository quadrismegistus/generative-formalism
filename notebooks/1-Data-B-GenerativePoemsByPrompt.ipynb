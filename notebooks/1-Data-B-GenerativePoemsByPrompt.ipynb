{
 "cells": [
  {
   "cell_type": "code",
   "execution_count": 1,
   "metadata": {},
   "outputs": [],
   "source": [
    "# Options\n",
    "REPLICATE_LLM_DEMO = False\n",
    "REPLICATE_LLM_MANY = False\n",
    "N_TO_GENERATE = 3"
   ]
  },
  {
   "cell_type": "code",
   "execution_count": 2,
   "metadata": {},
   "outputs": [
    {
     "data": {
      "text/markdown": [
       "# Generative poems: prompted for un/rhymed poems"
      ],
      "text/plain": [
       "<IPython.core.display.Markdown object>"
      ]
     },
     "metadata": {},
     "output_type": "display_data"
    },
    {
     "data": {
      "text/markdown": [
       "## Prompting models"
      ],
      "text/plain": [
       "<IPython.core.display.Markdown object>"
      ]
     },
     "metadata": {},
     "output_type": "display_data"
    },
    {
     "data": {
      "text/markdown": [
       "Edit `PROMPTS` and `MODEL_LIST` in `constants.py` to change prompts and models."
      ],
      "text/plain": [
       "<IPython.core.display.Markdown object>"
      ]
     },
     "metadata": {},
     "output_type": "display_data"
    },
    {
     "data": {
      "text/markdown": [
       "### Current prompts "
      ],
      "text/plain": [
       "<IPython.core.display.Markdown object>"
      ]
     },
     "metadata": {},
     "output_type": "display_data"
    },
    {
     "name": "stdout",
     "output_type": "stream",
     "text": [
      "* 23 unique prompts\n",
      "* 3 prompt types\n",
      "  * MAYBE_rhyme:\n",
      "    - Write a poem (with 20+ lines).\n",
      "    - Write a long poem.\n",
      "    - Write a poem in groups of two lines.\n",
      "    - Write a poem.\n",
      "    - Write a poem in stanzas of 4 lines each.\n",
      "    - Write a short poem.\n",
      "\n",
      "  * do_NOT_rhyme:\n",
      "    - Write a poem that does NOT rhyme.\n",
      "    - Write a poem (with 20+ lines) that does NOT rhyme.\n",
      "    - Write a long poem that does NOT rhyme.\n",
      "    - Write a poem in the style of Walt Whitman.\n",
      "    - Write a poem in free verse.\n",
      "    - Write a poem in blank verse.\n",
      "    - Write an unrhymed poem.\n",
      "    - Write a short poem that does NOT rhyme.\n",
      "\n",
      "  * DO_rhyme:\n",
      "    - Write a poem in ballad stanzas.\n",
      "    - Write an ryhmed poem in the style of Shakespeare's sonnets.\n",
      "    - Write a long poem that does rhyme.\n",
      "    - Write a poem in the style of Emily Dickinson.\n",
      "    - Write a poem in heroic couplets.\n",
      "    - Write an rhyming poem.\n",
      "    - Write a poem (with 20+ lines) that rhymes.\n",
      "    - Write a poem that does rhyme.\n",
      "    - Write a short poem that does rhyme.\n",
      "\n"
     ]
    },
    {
     "data": {
      "text/markdown": [
       "### Current models"
      ],
      "text/plain": [
       "<IPython.core.display.Markdown object>"
      ]
     },
     "metadata": {},
     "output_type": "display_data"
    },
    {
     "name": "stdout",
     "output_type": "stream",
     "text": [
      "* 11 models (counting parameter changes)\n",
      "* 6 model types (ChatGPT, Claude, DeepSeek, Gemini, Llama, Olmo)\n",
      "  * Claude: claude-3-haiku-20240307, claude-3-opus-20240229, claude-3-sonnet-20240229\n",
      "  * DeepSeek: deepseek/deepseek-chat\n",
      "  * ChatGPT: gpt-3.5-turbo, gpt-4-turbo\n",
      "  * Llama: ollama/llama3.1:70b, ollama/llama3.1:8b\n",
      "  * Gemini: gemini-pro\n",
      "  * Olmo: ollama/olmo2, ollama/olmo2:13b\n",
      "\n",
      "* Demo model: claude-3-haiku-20240307\n",
      "* Demo prompt: Write a poem that does NOT rhyme.\n",
      "\n",
      "* Generating text\n",
      "  * model: claude-3-haiku-20240307\n",
      "  * prompt: Write a poem that does NOT rhyme.\n",
      "  * temperature: 0.7\n",
      "  * force: True\n",
      "  * stash: LMDBHashStash(~/github/generative-formalism/data/stash/genai_rhyme_prompts/lmdb.hashstash.lz4+b64/data.db)\n",
      "  * from_cache: False\n",
      "\n",
      "Here is a poem that does not rhyme:\n",
      "\n",
      "Whispers in the wind,\n",
      "Echoing through the trees,\n",
      "Secrets untold, mysteries.\n",
      "Shadows dance and sway,\n",
      "Moonlight guides the way,\n",
      "A tranquil symphony plays.\n",
      "Stillness fills the air,\n",
      "Moments of pure bliss,\n",
      "Cherished memories to reminisce.\n",
      "Time stands still, a pause,\n",
      "Reflecting on life's flaws,\n",
      "Finding solace in nature's laws."
     ]
    },
    {
     "data": {
      "text/markdown": [
       "## Collecting all prompted poems"
      ],
      "text/plain": [
       "<IPython.core.display.Markdown object>"
      ]
     },
     "metadata": {},
     "output_type": "display_data"
    },
    {
     "data": {
      "text/markdown": [
       "##### `get_genai_rhyme_promptings`: Unified accessor for genai rhyme promptings with source selection."
      ],
      "text/plain": [
       "<IPython.core.display.Markdown object>"
      ]
     },
     "metadata": {},
     "output_type": "display_data"
    },
    {
     "data": {
      "text/markdown": [
       "### Data used in paper"
      ],
      "text/plain": [
       "<IPython.core.display.Markdown object>"
      ]
     },
     "metadata": {},
     "output_type": "display_data"
    },
    {
     "data": {
      "text/markdown": [
       "##### `preprocess_rhyme_promptings`: Preprocess rhyme promptings data."
      ],
      "text/plain": [
       "<IPython.core.display.Markdown object>"
      ]
     },
     "metadata": {},
     "output_type": "display_data"
    },
    {
     "name": "stdout",
     "output_type": "stream",
     "text": [
      "  * 13,849 generated responses\n",
      "  * 13,700 unique poems\n",
      "  * 23 unique prompts\n",
      "  * 3 unique prompt types\n"
     ]
    },
    {
     "data": {
      "text/html": [
       "<div>\n",
       "<style scoped>\n",
       "    .dataframe tbody tr th:only-of-type {\n",
       "        vertical-align: middle;\n",
       "    }\n",
       "\n",
       "    .dataframe tbody tr th {\n",
       "        vertical-align: top;\n",
       "    }\n",
       "\n",
       "    .dataframe thead th {\n",
       "        text-align: right;\n",
       "    }\n",
       "</style>\n",
       "<table border=\"1\" class=\"dataframe\">\n",
       "  <thead>\n",
       "    <tr style=\"text-align: right;\">\n",
       "      <th></th>\n",
       "      <th>data_source</th>\n",
       "      <th>id_hash</th>\n",
       "      <th>prompt_type</th>\n",
       "      <th>prompt</th>\n",
       "      <th>model</th>\n",
       "      <th>temperature</th>\n",
       "      <th>txt</th>\n",
       "      <th>num_lines</th>\n",
       "    </tr>\n",
       "    <tr>\n",
       "      <th>id</th>\n",
       "      <th></th>\n",
       "      <th></th>\n",
       "      <th></th>\n",
       "      <th></th>\n",
       "      <th></th>\n",
       "      <th></th>\n",
       "      <th></th>\n",
       "      <th></th>\n",
       "    </tr>\n",
       "  </thead>\n",
       "  <tbody>\n",
       "    <tr>\n",
       "      <th>b94c5975</th>\n",
       "      <td>in_paper</td>\n",
       "      <td>66</td>\n",
       "      <td>MAYBE_rhyme</td>\n",
       "      <td>Write a poem in groups of two lines.</td>\n",
       "      <td>gpt-3.5-turbo</td>\n",
       "      <td>1.130264</td>\n",
       "      <td>In fields of gold, the sunsets glow,\\nWhispers...</td>\n",
       "      <td>10</td>\n",
       "    </tr>\n",
       "    <tr>\n",
       "      <th>a64c68e6</th>\n",
       "      <td>in_paper</td>\n",
       "      <td>233</td>\n",
       "      <td>DO_rhyme</td>\n",
       "      <td>Write an ryhmed poem in the style of Shakespea...</td>\n",
       "      <td>claude-3-opus-20240229</td>\n",
       "      <td>0.776011</td>\n",
       "      <td>Shall I compare thee to a summer's day?\\nThou ...</td>\n",
       "      <td>13</td>\n",
       "    </tr>\n",
       "    <tr>\n",
       "      <th>...</th>\n",
       "      <td>...</td>\n",
       "      <td>...</td>\n",
       "      <td>...</td>\n",
       "      <td>...</td>\n",
       "      <td>...</td>\n",
       "      <td>...</td>\n",
       "      <td>...</td>\n",
       "      <td>...</td>\n",
       "    </tr>\n",
       "    <tr>\n",
       "      <th>0990a7f6</th>\n",
       "      <td>in_paper</td>\n",
       "      <td>999977</td>\n",
       "      <td>DO_rhyme</td>\n",
       "      <td>Write a poem (with 20+ lines) that rhymes.</td>\n",
       "      <td>claude-3-opus-20240229</td>\n",
       "      <td>0.648217</td>\n",
       "      <td>In a world where dreams and hopes reside,\\nA p...</td>\n",
       "      <td>32</td>\n",
       "    </tr>\n",
       "    <tr>\n",
       "      <th>c641191a</th>\n",
       "      <td>in_paper</td>\n",
       "      <td>999995</td>\n",
       "      <td>MAYBE_rhyme</td>\n",
       "      <td>Write a short poem.</td>\n",
       "      <td>claude-3-haiku-20240307</td>\n",
       "      <td>0.850284</td>\n",
       "      <td>The whisper of the wind,\\nCaressing my skin,\\n...</td>\n",
       "      <td>12</td>\n",
       "    </tr>\n",
       "  </tbody>\n",
       "</table>\n",
       "<p>13838 rows × 8 columns</p>\n",
       "</div>"
      ],
      "text/plain": [
       "         data_source  id_hash  prompt_type                                             prompt                    model  temperature                                                txt  num_lines\n",
       "id                                                                                                                                                                                               \n",
       "b94c5975    in_paper       66  MAYBE_rhyme               Write a poem in groups of two lines.            gpt-3.5-turbo     1.130264  In fields of gold, the sunsets glow,\\nWhispers...         10\n",
       "a64c68e6    in_paper      233     DO_rhyme  Write an ryhmed poem in the style of Shakespea...   claude-3-opus-20240229     0.776011  Shall I compare thee to a summer's day?\\nThou ...         13\n",
       "...              ...      ...          ...                                                ...                      ...          ...                                                ...        ...\n",
       "0990a7f6    in_paper   999977     DO_rhyme         Write a poem (with 20+ lines) that rhymes.   claude-3-opus-20240229     0.648217  In a world where dreams and hopes reside,\\nA p...         32\n",
       "c641191a    in_paper   999995  MAYBE_rhyme                                Write a short poem.  claude-3-haiku-20240307     0.850284  The whisper of the wind,\\nCaressing my skin,\\n...         12\n",
       "\n",
       "[13838 rows x 8 columns]"
      ]
     },
     "metadata": {},
     "output_type": "display_data"
    },
    {
     "data": {
      "text/markdown": [
       "### Replicated data"
      ],
      "text/plain": [
       "<IPython.core.display.Markdown object>"
      ]
     },
     "metadata": {},
     "output_type": "display_data"
    },
    {
     "name": "stdout",
     "output_type": "stream",
     "text": [
      "\n",
      "* Collecting genai rhyme promptings as replicated here\n",
      "  * Collecting from /Users/rj416/github/generative-formalism/data/stash/genai_rhyme_prompts/lmdb.hashstash.lz4+b64/data.db\n",
      "  * 1219 generated poems\n",
      "  * 1,219 generated responses\n",
      "  * 1,053 unique poems\n",
      "  * 22 unique prompts\n",
      "  * 3 unique prompt types\n"
     ]
    },
    {
     "data": {
      "text/html": [
       "<div>\n",
       "<style scoped>\n",
       "    .dataframe tbody tr th:only-of-type {\n",
       "        vertical-align: middle;\n",
       "    }\n",
       "\n",
       "    .dataframe tbody tr th {\n",
       "        vertical-align: top;\n",
       "    }\n",
       "\n",
       "    .dataframe thead th {\n",
       "        text-align: right;\n",
       "    }\n",
       "</style>\n",
       "<table border=\"1\" class=\"dataframe\">\n",
       "  <thead>\n",
       "    <tr style=\"text-align: right;\">\n",
       "      <th></th>\n",
       "      <th>data_source</th>\n",
       "      <th>id_hash</th>\n",
       "      <th>prompt_type</th>\n",
       "      <th>prompt</th>\n",
       "      <th>model</th>\n",
       "      <th>temperature</th>\n",
       "      <th>txt</th>\n",
       "      <th>num_lines</th>\n",
       "    </tr>\n",
       "    <tr>\n",
       "      <th>id</th>\n",
       "      <th></th>\n",
       "      <th></th>\n",
       "      <th></th>\n",
       "      <th></th>\n",
       "      <th></th>\n",
       "      <th></th>\n",
       "      <th></th>\n",
       "      <th></th>\n",
       "    </tr>\n",
       "  </thead>\n",
       "  <tbody>\n",
       "    <tr>\n",
       "      <th>b200e305</th>\n",
       "      <td>replicated</td>\n",
       "      <td>2023</td>\n",
       "      <td>MAYBE_rhyme</td>\n",
       "      <td>Write a poem in groups of two lines.</td>\n",
       "      <td>gemini-pro</td>\n",
       "      <td>0.7</td>\n",
       "      <td>The wind whispers secrets,\\nThrough leaves of ...</td>\n",
       "      <td>12</td>\n",
       "    </tr>\n",
       "    <tr>\n",
       "      <th>890c4fc2</th>\n",
       "      <td>replicated</td>\n",
       "      <td>3057</td>\n",
       "      <td>DO_rhyme</td>\n",
       "      <td>Write a poem in heroic couplets.</td>\n",
       "      <td>gemini-pro</td>\n",
       "      <td>0.7</td>\n",
       "      <td>The sun descends, a fiery, fading gleam,\\nAnd ...</td>\n",
       "      <td>16</td>\n",
       "    </tr>\n",
       "    <tr>\n",
       "      <th>...</th>\n",
       "      <td>...</td>\n",
       "      <td>...</td>\n",
       "      <td>...</td>\n",
       "      <td>...</td>\n",
       "      <td>...</td>\n",
       "      <td>...</td>\n",
       "      <td>...</td>\n",
       "      <td>...</td>\n",
       "    </tr>\n",
       "    <tr>\n",
       "      <th>2df6c65a</th>\n",
       "      <td>replicated</td>\n",
       "      <td>988230</td>\n",
       "      <td>DO_rhyme</td>\n",
       "      <td>Write a poem in ballad stanzas.</td>\n",
       "      <td>gemini-pro</td>\n",
       "      <td>0.7</td>\n",
       "      <td>The wind howled fierce 'round Widow Gray's sma...</td>\n",
       "      <td>28</td>\n",
       "    </tr>\n",
       "    <tr>\n",
       "      <th>d8caa0ac</th>\n",
       "      <td>replicated</td>\n",
       "      <td>995031</td>\n",
       "      <td>DO_rhyme</td>\n",
       "      <td>Write a poem that does rhyme.</td>\n",
       "      <td>gemini-pro</td>\n",
       "      <td>0.7</td>\n",
       "      <td>The whispering wind through the willows so gre...</td>\n",
       "      <td>16</td>\n",
       "    </tr>\n",
       "  </tbody>\n",
       "</table>\n",
       "<p>306 rows × 8 columns</p>\n",
       "</div>"
      ],
      "text/plain": [
       "         data_source  id_hash  prompt_type                                prompt       model  temperature                                                txt  num_lines\n",
       "id                                                                                                                                                                     \n",
       "b200e305  replicated     2023  MAYBE_rhyme  Write a poem in groups of two lines.  gemini-pro          0.7  The wind whispers secrets,\\nThrough leaves of ...         12\n",
       "890c4fc2  replicated     3057     DO_rhyme      Write a poem in heroic couplets.  gemini-pro          0.7  The sun descends, a fiery, fading gleam,\\nAnd ...         16\n",
       "...              ...      ...          ...                                   ...         ...          ...                                                ...        ...\n",
       "2df6c65a  replicated   988230     DO_rhyme       Write a poem in ballad stanzas.  gemini-pro          0.7  The wind howled fierce 'round Widow Gray's sma...         28\n",
       "d8caa0ac  replicated   995031     DO_rhyme         Write a poem that does rhyme.  gemini-pro          0.7  The whispering wind through the willows so gre...         16\n",
       "\n",
       "[306 rows x 8 columns]"
      ]
     },
     "metadata": {},
     "output_type": "display_data"
    },
    {
     "data": {
      "text/markdown": [
       "### Aggregating paper + replicated data"
      ],
      "text/plain": [
       "<IPython.core.display.Markdown object>"
      ]
     },
     "metadata": {},
     "output_type": "display_data"
    },
    {
     "name": "stdout",
     "output_type": "stream",
     "text": [
      "\n",
      "* Collecting genai rhyme promptings as replicated here\n",
      "  * Collecting from /Users/rj416/github/generative-formalism/data/stash/genai_rhyme_prompts/lmdb.hashstash.lz4+b64/data.db\n",
      "  * 1219 generated poems\n",
      "  * 15,068 generated responses\n",
      "  * 14,750 unique poems\n",
      "  * 23 unique prompts\n",
      "  * 3 unique prompt types\n"
     ]
    },
    {
     "data": {
      "text/html": [
       "<div>\n",
       "<style scoped>\n",
       "    .dataframe tbody tr th:only-of-type {\n",
       "        vertical-align: middle;\n",
       "    }\n",
       "\n",
       "    .dataframe tbody tr th {\n",
       "        vertical-align: top;\n",
       "    }\n",
       "\n",
       "    .dataframe thead th {\n",
       "        text-align: right;\n",
       "    }\n",
       "</style>\n",
       "<table border=\"1\" class=\"dataframe\">\n",
       "  <thead>\n",
       "    <tr style=\"text-align: right;\">\n",
       "      <th></th>\n",
       "      <th>data_source</th>\n",
       "      <th>id_hash</th>\n",
       "      <th>prompt_type</th>\n",
       "      <th>prompt</th>\n",
       "      <th>model</th>\n",
       "      <th>temperature</th>\n",
       "      <th>txt</th>\n",
       "      <th>num_lines</th>\n",
       "    </tr>\n",
       "    <tr>\n",
       "      <th>id</th>\n",
       "      <th></th>\n",
       "      <th></th>\n",
       "      <th></th>\n",
       "      <th></th>\n",
       "      <th></th>\n",
       "      <th></th>\n",
       "      <th></th>\n",
       "      <th></th>\n",
       "    </tr>\n",
       "  </thead>\n",
       "  <tbody>\n",
       "    <tr>\n",
       "      <th>b94c5975</th>\n",
       "      <td>in_paper</td>\n",
       "      <td>66</td>\n",
       "      <td>MAYBE_rhyme</td>\n",
       "      <td>Write a poem in groups of two lines.</td>\n",
       "      <td>gpt-3.5-turbo</td>\n",
       "      <td>1.130264</td>\n",
       "      <td>In fields of gold, the sunsets glow,\\nWhispers...</td>\n",
       "      <td>10</td>\n",
       "    </tr>\n",
       "    <tr>\n",
       "      <th>a64c68e6</th>\n",
       "      <td>in_paper</td>\n",
       "      <td>233</td>\n",
       "      <td>DO_rhyme</td>\n",
       "      <td>Write an ryhmed poem in the style of Shakespea...</td>\n",
       "      <td>claude-3-opus-20240229</td>\n",
       "      <td>0.776011</td>\n",
       "      <td>Shall I compare thee to a summer's day?\\nThou ...</td>\n",
       "      <td>13</td>\n",
       "    </tr>\n",
       "    <tr>\n",
       "      <th>...</th>\n",
       "      <td>...</td>\n",
       "      <td>...</td>\n",
       "      <td>...</td>\n",
       "      <td>...</td>\n",
       "      <td>...</td>\n",
       "      <td>...</td>\n",
       "      <td>...</td>\n",
       "      <td>...</td>\n",
       "    </tr>\n",
       "    <tr>\n",
       "      <th>0990a7f6</th>\n",
       "      <td>in_paper</td>\n",
       "      <td>999977</td>\n",
       "      <td>DO_rhyme</td>\n",
       "      <td>Write a poem (with 20+ lines) that rhymes.</td>\n",
       "      <td>claude-3-opus-20240229</td>\n",
       "      <td>0.648217</td>\n",
       "      <td>In a world where dreams and hopes reside,\\nA p...</td>\n",
       "      <td>32</td>\n",
       "    </tr>\n",
       "    <tr>\n",
       "      <th>c641191a</th>\n",
       "      <td>in_paper</td>\n",
       "      <td>999995</td>\n",
       "      <td>MAYBE_rhyme</td>\n",
       "      <td>Write a short poem.</td>\n",
       "      <td>claude-3-haiku-20240307</td>\n",
       "      <td>0.850284</td>\n",
       "      <td>The whisper of the wind,\\nCaressing my skin,\\n...</td>\n",
       "      <td>12</td>\n",
       "    </tr>\n",
       "  </tbody>\n",
       "</table>\n",
       "<p>14142 rows × 8 columns</p>\n",
       "</div>"
      ],
      "text/plain": [
       "         data_source  id_hash  prompt_type                                             prompt                    model  temperature                                                txt  num_lines\n",
       "id                                                                                                                                                                                               \n",
       "b94c5975    in_paper       66  MAYBE_rhyme               Write a poem in groups of two lines.            gpt-3.5-turbo     1.130264  In fields of gold, the sunsets glow,\\nWhispers...         10\n",
       "a64c68e6    in_paper      233     DO_rhyme  Write an ryhmed poem in the style of Shakespea...   claude-3-opus-20240229     0.776011  Shall I compare thee to a summer's day?\\nThou ...         13\n",
       "...              ...      ...          ...                                                ...                      ...          ...                                                ...        ...\n",
       "0990a7f6    in_paper   999977     DO_rhyme         Write a poem (with 20+ lines) that rhymes.   claude-3-opus-20240229     0.648217  In a world where dreams and hopes reside,\\nA p...         32\n",
       "c641191a    in_paper   999995  MAYBE_rhyme                                Write a short poem.  claude-3-haiku-20240307     0.850284  The whisper of the wind,\\nCaressing my skin,\\n...         12\n",
       "\n",
       "[14142 rows x 8 columns]"
      ]
     },
     "metadata": {},
     "output_type": "display_data"
    }
   ],
   "source": [
    "# Code\n",
    "import sys\n",
    "sys.path.append('../')\n",
    "from generative_formalism import *\n",
    "\n",
    "printm('# Generative poems: prompted for un/rhymed poems')\n",
    "printm('## Prompting models')\n",
    "printm('Edit `PROMPTS` and `MODEL_LIST` in `constants.py` to change prompts and models.')\n",
    "\n",
    "printm('### Current prompts ')\n",
    "describe_prompts()\n",
    "\n",
    "printm('### Current models')\n",
    "describe_models()\n",
    "\n",
    "# Run a demo?\n",
    "if REPLICATE_LLM_DEMO and check_api_keys():\n",
    "\n",
    "    demo_model, demo_prompt = get_demo_model_prompt()\n",
    "    printm(f'*Demo model: {demo_model}')\n",
    "    printm(f'*Demo prompt: {demo_prompt}\\n')\n",
    "\n",
    "    response_str = generate_rhyme_prompt_text(\n",
    "        model=demo_model,\n",
    "        prompt=demo_prompt,\n",
    "        verbose=True,\n",
    "        force=True\n",
    "    )\n",
    "\n",
    "\n",
    "# Run if enabled\n",
    "if REPLICATE_LLM_MANY and N_TO_GENERATE > 0:\n",
    "    documentation(generate_more_poems_from_rhyme_prompts)\n",
    "    \n",
    "    # Run\n",
    "    df_newdata = generate_more_poems_from_rhyme_prompts(\n",
    "        # df_sofar=pd.DataFrame(),\n",
    "        n=N_TO_GENERATE,\n",
    "        models = filter_available_models(models=MODEL_LIST),\n",
    "        prompts = PROMPT_LIST,\n",
    "        temperatures=[DEFAULT_TEMPERATURE],\n",
    "        verbose=False,\n",
    "        force=True,\n",
    "        max_n_combo=25\n",
    "    )\n",
    "\n",
    "    # Display\n",
    "    display(df_newdata)\n",
    "\n",
    "\n",
    "printm('## Collecting all prompted poems')\n",
    "documentation(get_genai_rhyme_promptings)\n",
    "\n",
    "\n",
    "printm('### Data used in paper')\n",
    "documentation(preprocess_rhyme_promptings)\n",
    "df_genai_rhyme_promptings_as_in_paper = get_genai_rhyme_promptings()\n",
    "display(df_genai_rhyme_promptings_as_in_paper)\n",
    "\n",
    "printm('### Replicated data')\n",
    "df_genai_rhyme_promptings_as_replicated = get_genai_rhyme_promptings(as_in_paper=False, as_replicated=True)\n",
    "display(df_genai_rhyme_promptings_as_replicated)\n",
    "\n",
    "printm('### Aggregating paper + replicated data')\n",
    "df_all_genai_rhyme_promptings_as_in_paper = get_genai_rhyme_promptings(as_in_paper=True, as_replicated=True)\n",
    "display(df_all_genai_rhyme_promptings_as_in_paper)"
   ]
  }
 ],
 "metadata": {
  "kernelspec": {
   "display_name": "venv",
   "language": "python",
   "name": "python3"
  },
  "language_info": {
   "codemirror_mode": {
    "name": "ipython",
    "version": 3
   },
   "file_extension": ".py",
   "mimetype": "text/x-python",
   "name": "python",
   "nbconvert_exporter": "python",
   "pygments_lexer": "ipython3",
   "version": "3.11.9"
  }
 },
 "nbformat": 4,
 "nbformat_minor": 2
}
