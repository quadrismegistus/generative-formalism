{
 "cells": [
  {
   "cell_type": "code",
   "execution_count": 1,
   "metadata": {},
   "outputs": [],
   "source": [
    "# Options\n",
    "REPLICATE_LLM_DEMO = False\n",
    "REPLICATE_LLM_MANY = False\n",
    "N_TO_GENERATE = 3"
   ]
  },
  {
   "cell_type": "code",
   "execution_count": 2,
   "metadata": {},
   "outputs": [
    {
     "data": {
      "text/markdown": [
       "# Generative poems: prompted for un/rhymed poems"
      ],
      "text/plain": [
       "<IPython.core.display.Markdown object>"
      ]
     },
     "metadata": {},
     "output_type": "display_data"
    },
    {
     "data": {
      "text/markdown": [
       "## Prompting models"
      ],
      "text/plain": [
       "<IPython.core.display.Markdown object>"
      ]
     },
     "metadata": {},
     "output_type": "display_data"
    },
    {
     "data": {
      "text/markdown": [
       "Edit `PROMPTS` and `MODEL_LIST` in `constants.py` to change prompts and models."
      ],
      "text/plain": [
       "<IPython.core.display.Markdown object>"
      ]
     },
     "metadata": {},
     "output_type": "display_data"
    },
    {
     "data": {
      "text/markdown": [
       "### Current prompts "
      ],
      "text/plain": [
       "<IPython.core.display.Markdown object>"
      ]
     },
     "metadata": {},
     "output_type": "display_data"
    },
    {
     "name": "stdout",
     "output_type": "stream",
     "text": [
      "* 23 unique prompts\n",
      "* 3 prompt types\n",
      "  * DO_rhyme:\n",
      "    - Write a poem in ballad stanzas.\n",
      "    - Write an ryhmed poem in the style of Shakespeare's sonnets.\n",
      "    - Write a long poem that does rhyme.\n",
      "    - Write a poem in the style of Emily Dickinson.\n",
      "    - Write a poem in heroic couplets.\n",
      "    - Write an rhyming poem.\n",
      "    - Write a poem (with 20+ lines) that rhymes.\n",
      "    - Write a poem that does rhyme.\n",
      "    - Write a short poem that does rhyme.\n",
      "\n",
      "  * MAYBE_rhyme:\n",
      "    - Write a poem (with 20+ lines).\n",
      "    - Write a long poem.\n",
      "    - Write a poem in groups of two lines.\n",
      "    - Write a poem.\n",
      "    - Write a poem in stanzas of 4 lines each.\n",
      "    - Write a short poem.\n",
      "\n",
      "  * do_NOT_rhyme:\n",
      "    - Write a poem that does NOT rhyme.\n",
      "    - Write a poem (with 20+ lines) that does NOT rhyme.\n",
      "    - Write a long poem that does NOT rhyme.\n",
      "    - Write a poem in the style of Walt Whitman.\n",
      "    - Write a poem in free verse.\n",
      "    - Write a poem in blank verse.\n",
      "    - Write an unrhymed poem.\n",
      "    - Write a short poem that does NOT rhyme.\n",
      "\n"
     ]
    },
    {
     "data": {
      "text/markdown": [
       "### Current models"
      ],
      "text/plain": [
       "<IPython.core.display.Markdown object>"
      ]
     },
     "metadata": {},
     "output_type": "display_data"
    },
    {
     "name": "stdout",
     "output_type": "stream",
     "text": [
      "* 11 models (counting parameter changes)\n",
      "* 6 model types (ChatGPT, Claude, DeepSeek, Gemini, Llama, Olmo)\n",
      "  * DeepSeek: deepseek/deepseek-chat\n",
      "  * Llama: ollama/llama3.1:70b, ollama/llama3.1:8b\n",
      "  * Claude: claude-3-haiku-20240307, claude-3-opus-20240229, claude-3-sonnet-20240229\n",
      "  * ChatGPT: gpt-3.5-turbo, gpt-4-turbo\n",
      "  * Olmo: ollama/olmo2, ollama/olmo2:13b\n",
      "  * Gemini: gemini-pro\n",
      "\n",
      "* Demo model: claude-3-haiku-20240307\n",
      "* Demo prompt: Write a poem that does NOT rhyme.\n",
      "\n",
      "* Generating text\n",
      "  * model: claude-3-haiku-20240307\n",
      "  * prompt: Write a poem that does NOT rhyme.\n",
      "  * temperature: 0.7\n",
      "  * force: True\n",
      "  * stash: LMDBHashStash(~/github/generative-formalism/data/stash/genai_rhyme_prompts/lmdb.hashstash.raw+b64/data.db)\n",
      "  * from_cache: False\n",
      "\n",
      "Here is a poem that does not rhyme:\n",
      "\n",
      "The Whispers of the Wind\n",
      "\n",
      "Softly, the wind whispers through the trees,\n",
      "Caressing the leaves with gentle ease.\n",
      "Its breath carries secrets, unspoken and true,\n",
      "Echoing the stories that nature knew.\n",
      "\n",
      "The grass sways in a rhythmic dance,\n",
      "Responding to the wind's subtle advance.\n",
      "Clouds drift by, a canvas in the sky,\n",
      "Casting shadows that come and go, like a sigh.\n",
      "\n",
      "In this tranquil moment, time seems to slow,\n",
      "As the world embraces the wind's ebb and flow.\n",
      "A symphony of nature, a melody sublime,\n",
      "Inviting us to pause and savor the sublime."
     ]
    },
    {
     "data": {
      "text/markdown": [
       "## Collecting all prompted poems"
      ],
      "text/plain": [
       "<IPython.core.display.Markdown object>"
      ]
     },
     "metadata": {},
     "output_type": "display_data"
    },
    {
     "data": {
      "text/markdown": [
       "##### `get_genai_rhyme_promptings`: Unified accessor for genai rhyme promptings with source selection."
      ],
      "text/plain": [
       "<IPython.core.display.Markdown object>"
      ]
     },
     "metadata": {},
     "output_type": "display_data"
    },
    {
     "data": {
      "text/markdown": [
       "### Data used in paper"
      ],
      "text/plain": [
       "<IPython.core.display.Markdown object>"
      ]
     },
     "metadata": {},
     "output_type": "display_data"
    },
    {
     "data": {
      "text/markdown": [
       "##### `preprocess_rhyme_promptings`: Preprocess rhyme promptings data."
      ],
      "text/plain": [
       "<IPython.core.display.Markdown object>"
      ]
     },
     "metadata": {},
     "output_type": "display_data"
    },
    {
     "name": "stdout",
     "output_type": "stream",
     "text": [
      "  * 13,849 generated responses\n",
      "  * 13,700 unique poems\n",
      "  * 23 unique prompts\n",
      "  * 3 unique prompt types\n"
     ]
    },
    {
     "data": {
      "text/html": [
       "<div>\n",
       "<style scoped>\n",
       "    .dataframe tbody tr th:only-of-type {\n",
       "        vertical-align: middle;\n",
       "    }\n",
       "\n",
       "    .dataframe tbody tr th {\n",
       "        vertical-align: top;\n",
       "    }\n",
       "\n",
       "    .dataframe thead th {\n",
       "        text-align: right;\n",
       "    }\n",
       "</style>\n",
       "<table border=\"1\" class=\"dataframe\">\n",
       "  <thead>\n",
       "    <tr style=\"text-align: right;\">\n",
       "      <th></th>\n",
       "      <th>data_source</th>\n",
       "      <th>id_hash</th>\n",
       "      <th>prompt_type</th>\n",
       "      <th>prompt</th>\n",
       "      <th>model</th>\n",
       "      <th>temperature</th>\n",
       "      <th>txt</th>\n",
       "      <th>num_lines</th>\n",
       "    </tr>\n",
       "    <tr>\n",
       "      <th>id</th>\n",
       "      <th></th>\n",
       "      <th></th>\n",
       "      <th></th>\n",
       "      <th></th>\n",
       "      <th></th>\n",
       "      <th></th>\n",
       "      <th></th>\n",
       "      <th></th>\n",
       "    </tr>\n",
       "  </thead>\n",
       "  <tbody>\n",
       "    <tr>\n",
       "      <th>1ea8f1ed</th>\n",
       "      <td>in_paper</td>\n",
       "      <td>52</td>\n",
       "      <td>DO_rhyme</td>\n",
       "      <td>Write a poem in ballad stanzas.</td>\n",
       "      <td>ollama/llama3.1:8b</td>\n",
       "      <td>0.700000</td>\n",
       "      <td>In twilight's hush, where shadows play,\\nAmids...</td>\n",
       "      <td>16</td>\n",
       "    </tr>\n",
       "    <tr>\n",
       "      <th>1cbe0812</th>\n",
       "      <td>in_paper</td>\n",
       "      <td>77</td>\n",
       "      <td>DO_rhyme</td>\n",
       "      <td>Write a poem that does rhyme.</td>\n",
       "      <td>claude-3-haiku-20240307</td>\n",
       "      <td>0.180891</td>\n",
       "      <td>The autumn breeze blows soft and cool,\\nLeaves...</td>\n",
       "      <td>12</td>\n",
       "    </tr>\n",
       "    <tr>\n",
       "      <th>...</th>\n",
       "      <td>...</td>\n",
       "      <td>...</td>\n",
       "      <td>...</td>\n",
       "      <td>...</td>\n",
       "      <td>...</td>\n",
       "      <td>...</td>\n",
       "      <td>...</td>\n",
       "      <td>...</td>\n",
       "    </tr>\n",
       "    <tr>\n",
       "      <th>8d703562</th>\n",
       "      <td>in_paper</td>\n",
       "      <td>999962</td>\n",
       "      <td>do_NOT_rhyme</td>\n",
       "      <td>Write a long poem that does NOT rhyme.</td>\n",
       "      <td>gemini-pro</td>\n",
       "      <td>1.100878</td>\n",
       "      <td>In realms devoid of measured verse,\\nWhere tho...</td>\n",
       "      <td>44</td>\n",
       "    </tr>\n",
       "    <tr>\n",
       "      <th>1c9d7b16</th>\n",
       "      <td>in_paper</td>\n",
       "      <td>999965</td>\n",
       "      <td>do_NOT_rhyme</td>\n",
       "      <td>Write a poem in blank verse.</td>\n",
       "      <td>ollama/llama3.1:8b</td>\n",
       "      <td>0.700000</td>\n",
       "      <td>The sun sets slow and paints the sky,\\nA fiery...</td>\n",
       "      <td>12</td>\n",
       "    </tr>\n",
       "  </tbody>\n",
       "</table>\n",
       "<p>13838 rows × 8 columns</p>\n",
       "</div>"
      ],
      "text/plain": [
       "         data_source  id_hash   prompt_type                                  prompt                    model  temperature                                                txt  num_lines\n",
       "id                                                                                                                                                                                     \n",
       "1ea8f1ed    in_paper       52      DO_rhyme         Write a poem in ballad stanzas.       ollama/llama3.1:8b     0.700000  In twilight's hush, where shadows play,\\nAmids...         16\n",
       "1cbe0812    in_paper       77      DO_rhyme           Write a poem that does rhyme.  claude-3-haiku-20240307     0.180891  The autumn breeze blows soft and cool,\\nLeaves...         12\n",
       "...              ...      ...           ...                                     ...                      ...          ...                                                ...        ...\n",
       "8d703562    in_paper   999962  do_NOT_rhyme  Write a long poem that does NOT rhyme.               gemini-pro     1.100878  In realms devoid of measured verse,\\nWhere tho...         44\n",
       "1c9d7b16    in_paper   999965  do_NOT_rhyme            Write a poem in blank verse.       ollama/llama3.1:8b     0.700000  The sun sets slow and paints the sky,\\nA fiery...         12\n",
       "\n",
       "[13838 rows x 8 columns]"
      ]
     },
     "metadata": {},
     "output_type": "display_data"
    },
    {
     "data": {
      "text/markdown": [
       "### Replicated data"
      ],
      "text/plain": [
       "<IPython.core.display.Markdown object>"
      ]
     },
     "metadata": {},
     "output_type": "display_data"
    },
    {
     "name": "stdout",
     "output_type": "stream",
     "text": [
      "\n",
      "* Collecting genai rhyme promptings as replicated here\n",
      "  * Collecting from /Users/rj416/github/generative-formalism/data/stash/genai_rhyme_prompts/lmdb.hashstash.raw+b64/data.db\n",
      "  * 27 generated poems\n",
      "  * 27 generated responses\n",
      "  * 24 unique poems\n",
      "  * 8 unique prompts\n",
      "  * 3 unique prompt types\n"
     ]
    },
    {
     "data": {
      "text/html": [
       "<div>\n",
       "<style scoped>\n",
       "    .dataframe tbody tr th:only-of-type {\n",
       "        vertical-align: middle;\n",
       "    }\n",
       "\n",
       "    .dataframe tbody tr th {\n",
       "        vertical-align: top;\n",
       "    }\n",
       "\n",
       "    .dataframe thead th {\n",
       "        text-align: right;\n",
       "    }\n",
       "</style>\n",
       "<table border=\"1\" class=\"dataframe\">\n",
       "  <thead>\n",
       "    <tr style=\"text-align: right;\">\n",
       "      <th></th>\n",
       "      <th>data_source</th>\n",
       "      <th>id_hash</th>\n",
       "      <th>prompt_type</th>\n",
       "      <th>prompt</th>\n",
       "      <th>model</th>\n",
       "      <th>temperature</th>\n",
       "      <th>txt</th>\n",
       "      <th>num_lines</th>\n",
       "    </tr>\n",
       "    <tr>\n",
       "      <th>id</th>\n",
       "      <th></th>\n",
       "      <th></th>\n",
       "      <th></th>\n",
       "      <th></th>\n",
       "      <th></th>\n",
       "      <th></th>\n",
       "      <th></th>\n",
       "      <th></th>\n",
       "    </tr>\n",
       "  </thead>\n",
       "  <tbody>\n",
       "    <tr>\n",
       "      <th>0e9f30a0</th>\n",
       "      <td>replicated</td>\n",
       "      <td>82156</td>\n",
       "      <td>DO_rhyme</td>\n",
       "      <td>Write an rhyming poem.</td>\n",
       "      <td>deepseek/deepseek-chat</td>\n",
       "      <td>0.7</td>\n",
       "      <td>The sun has climbed its golden stair,\\nThe bre...</td>\n",
       "      <td>16</td>\n",
       "    </tr>\n",
       "    <tr>\n",
       "      <th>0cbbba44</th>\n",
       "      <td>replicated</td>\n",
       "      <td>84883</td>\n",
       "      <td>do_NOT_rhyme</td>\n",
       "      <td>Write a poem that does NOT rhyme.</td>\n",
       "      <td>claude-3-haiku-20240307</td>\n",
       "      <td>0.7</td>\n",
       "      <td>The gentle breeze caresses my face,\\nCarrying ...</td>\n",
       "      <td>12</td>\n",
       "    </tr>\n",
       "    <tr>\n",
       "      <th>...</th>\n",
       "      <td>...</td>\n",
       "      <td>...</td>\n",
       "      <td>...</td>\n",
       "      <td>...</td>\n",
       "      <td>...</td>\n",
       "      <td>...</td>\n",
       "      <td>...</td>\n",
       "      <td>...</td>\n",
       "    </tr>\n",
       "    <tr>\n",
       "      <th>de424130</th>\n",
       "      <td>replicated</td>\n",
       "      <td>845922</td>\n",
       "      <td>do_NOT_rhyme</td>\n",
       "      <td>Write a poem that does NOT rhyme.</td>\n",
       "      <td>claude-3-haiku-20240307</td>\n",
       "      <td>0.7</td>\n",
       "      <td>Beneath the endless sky,\\nClouds drift, a symp...</td>\n",
       "      <td>12</td>\n",
       "    </tr>\n",
       "    <tr>\n",
       "      <th>f77a1ec2</th>\n",
       "      <td>replicated</td>\n",
       "      <td>987192</td>\n",
       "      <td>do_NOT_rhyme</td>\n",
       "      <td>Write a poem that does NOT rhyme.</td>\n",
       "      <td>claude-3-haiku-20240307</td>\n",
       "      <td>0.7</td>\n",
       "      <td>Beneath the veil of night, I stand,\\nEmbracing...</td>\n",
       "      <td>12</td>\n",
       "    </tr>\n",
       "  </tbody>\n",
       "</table>\n",
       "<p>22 rows × 8 columns</p>\n",
       "</div>"
      ],
      "text/plain": [
       "         data_source  id_hash   prompt_type                             prompt                    model  temperature                                                txt  num_lines\n",
       "id                                                                                                                                                                                \n",
       "0e9f30a0  replicated    82156      DO_rhyme             Write an rhyming poem.   deepseek/deepseek-chat          0.7  The sun has climbed its golden stair,\\nThe bre...         16\n",
       "0cbbba44  replicated    84883  do_NOT_rhyme  Write a poem that does NOT rhyme.  claude-3-haiku-20240307          0.7  The gentle breeze caresses my face,\\nCarrying ...         12\n",
       "...              ...      ...           ...                                ...                      ...          ...                                                ...        ...\n",
       "de424130  replicated   845922  do_NOT_rhyme  Write a poem that does NOT rhyme.  claude-3-haiku-20240307          0.7  Beneath the endless sky,\\nClouds drift, a symp...         12\n",
       "f77a1ec2  replicated   987192  do_NOT_rhyme  Write a poem that does NOT rhyme.  claude-3-haiku-20240307          0.7  Beneath the veil of night, I stand,\\nEmbracing...         12\n",
       "\n",
       "[22 rows x 8 columns]"
      ]
     },
     "metadata": {},
     "output_type": "display_data"
    },
    {
     "data": {
      "text/markdown": [
       "### Aggregating paper + replicated data"
      ],
      "text/plain": [
       "<IPython.core.display.Markdown object>"
      ]
     },
     "metadata": {},
     "output_type": "display_data"
    },
    {
     "name": "stdout",
     "output_type": "stream",
     "text": [
      "\n",
      "* Collecting genai rhyme promptings as replicated here\n",
      "  * Collecting from /Users/rj416/github/generative-formalism/data/stash/genai_rhyme_prompts/lmdb.hashstash.raw+b64/data.db\n",
      "  * 27 generated poems\n",
      "  * 13,876 generated responses\n",
      "  * 13,724 unique poems\n",
      "  * 23 unique prompts\n",
      "  * 3 unique prompt types\n"
     ]
    },
    {
     "data": {
      "text/html": [
       "<div>\n",
       "<style scoped>\n",
       "    .dataframe tbody tr th:only-of-type {\n",
       "        vertical-align: middle;\n",
       "    }\n",
       "\n",
       "    .dataframe tbody tr th {\n",
       "        vertical-align: top;\n",
       "    }\n",
       "\n",
       "    .dataframe thead th {\n",
       "        text-align: right;\n",
       "    }\n",
       "</style>\n",
       "<table border=\"1\" class=\"dataframe\">\n",
       "  <thead>\n",
       "    <tr style=\"text-align: right;\">\n",
       "      <th></th>\n",
       "      <th>data_source</th>\n",
       "      <th>id_hash</th>\n",
       "      <th>prompt_type</th>\n",
       "      <th>prompt</th>\n",
       "      <th>model</th>\n",
       "      <th>temperature</th>\n",
       "      <th>txt</th>\n",
       "      <th>num_lines</th>\n",
       "    </tr>\n",
       "    <tr>\n",
       "      <th>id</th>\n",
       "      <th></th>\n",
       "      <th></th>\n",
       "      <th></th>\n",
       "      <th></th>\n",
       "      <th></th>\n",
       "      <th></th>\n",
       "      <th></th>\n",
       "      <th></th>\n",
       "    </tr>\n",
       "  </thead>\n",
       "  <tbody>\n",
       "    <tr>\n",
       "      <th>1ea8f1ed</th>\n",
       "      <td>in_paper</td>\n",
       "      <td>52</td>\n",
       "      <td>DO_rhyme</td>\n",
       "      <td>Write a poem in ballad stanzas.</td>\n",
       "      <td>ollama/llama3.1:8b</td>\n",
       "      <td>0.700000</td>\n",
       "      <td>In twilight's hush, where shadows play,\\nAmids...</td>\n",
       "      <td>16</td>\n",
       "    </tr>\n",
       "    <tr>\n",
       "      <th>1cbe0812</th>\n",
       "      <td>in_paper</td>\n",
       "      <td>77</td>\n",
       "      <td>DO_rhyme</td>\n",
       "      <td>Write a poem that does rhyme.</td>\n",
       "      <td>claude-3-haiku-20240307</td>\n",
       "      <td>0.180891</td>\n",
       "      <td>The autumn breeze blows soft and cool,\\nLeaves...</td>\n",
       "      <td>12</td>\n",
       "    </tr>\n",
       "    <tr>\n",
       "      <th>...</th>\n",
       "      <td>...</td>\n",
       "      <td>...</td>\n",
       "      <td>...</td>\n",
       "      <td>...</td>\n",
       "      <td>...</td>\n",
       "      <td>...</td>\n",
       "      <td>...</td>\n",
       "      <td>...</td>\n",
       "    </tr>\n",
       "    <tr>\n",
       "      <th>8d703562</th>\n",
       "      <td>in_paper</td>\n",
       "      <td>999962</td>\n",
       "      <td>do_NOT_rhyme</td>\n",
       "      <td>Write a long poem that does NOT rhyme.</td>\n",
       "      <td>gemini-pro</td>\n",
       "      <td>1.100878</td>\n",
       "      <td>In realms devoid of measured verse,\\nWhere tho...</td>\n",
       "      <td>44</td>\n",
       "    </tr>\n",
       "    <tr>\n",
       "      <th>1c9d7b16</th>\n",
       "      <td>in_paper</td>\n",
       "      <td>999965</td>\n",
       "      <td>do_NOT_rhyme</td>\n",
       "      <td>Write a poem in blank verse.</td>\n",
       "      <td>ollama/llama3.1:8b</td>\n",
       "      <td>0.700000</td>\n",
       "      <td>The sun sets slow and paints the sky,\\nA fiery...</td>\n",
       "      <td>12</td>\n",
       "    </tr>\n",
       "  </tbody>\n",
       "</table>\n",
       "<p>13860 rows × 8 columns</p>\n",
       "</div>"
      ],
      "text/plain": [
       "         data_source  id_hash   prompt_type                                  prompt                    model  temperature                                                txt  num_lines\n",
       "id                                                                                                                                                                                     \n",
       "1ea8f1ed    in_paper       52      DO_rhyme         Write a poem in ballad stanzas.       ollama/llama3.1:8b     0.700000  In twilight's hush, where shadows play,\\nAmids...         16\n",
       "1cbe0812    in_paper       77      DO_rhyme           Write a poem that does rhyme.  claude-3-haiku-20240307     0.180891  The autumn breeze blows soft and cool,\\nLeaves...         12\n",
       "...              ...      ...           ...                                     ...                      ...          ...                                                ...        ...\n",
       "8d703562    in_paper   999962  do_NOT_rhyme  Write a long poem that does NOT rhyme.               gemini-pro     1.100878  In realms devoid of measured verse,\\nWhere tho...         44\n",
       "1c9d7b16    in_paper   999965  do_NOT_rhyme            Write a poem in blank verse.       ollama/llama3.1:8b     0.700000  The sun sets slow and paints the sky,\\nA fiery...         12\n",
       "\n",
       "[13860 rows x 8 columns]"
      ]
     },
     "metadata": {},
     "output_type": "display_data"
    }
   ],
   "source": [
    "# Code\n",
    "import sys\n",
    "sys.path.append('../')\n",
    "from generative_formalism import *\n",
    "\n",
    "printm('# Generative poems: prompted for un/rhymed poems')\n",
    "printm('## Prompting models')\n",
    "printm('Edit `PROMPTS` and `MODEL_LIST` in `constants.py` to change prompts and models.')\n",
    "\n",
    "printm('### Current prompts ')\n",
    "describe_prompts()\n",
    "\n",
    "printm('### Current models')\n",
    "describe_models()\n",
    "\n",
    "# Run a demo?\n",
    "if REPLICATE_LLM_DEMO and check_api_keys():\n",
    "\n",
    "    demo_model, demo_prompt = get_demo_model_prompt()\n",
    "    print(f'* Demo model: {demo_model}')\n",
    "    print(f'* Demo prompt: {demo_prompt}\\n')\n",
    "\n",
    "    response_str = generate_rhyme_prompt_text(\n",
    "        model=demo_model,\n",
    "        prompt=demo_prompt,\n",
    "        verbose=True,\n",
    "        force=True\n",
    "    )\n",
    "\n",
    "\n",
    "# Run if enabled\n",
    "if REPLICATE_LLM_MANY and N_TO_GENERATE > 0:\n",
    "    documentation(generate_more_poems_from_rhyme_prompts)\n",
    "    \n",
    "    # Run\n",
    "    df_newdata = generate_more_poems_from_rhyme_prompts(\n",
    "        # df_sofar=pd.DataFrame(),\n",
    "        n=N_TO_GENERATE,\n",
    "        models = filter_available_models(models=MODEL_LIST),\n",
    "        prompts = PROMPT_LIST,\n",
    "        temperatures=[DEFAULT_TEMPERATURE],\n",
    "        verbose=False,\n",
    "        force=True,\n",
    "        max_n_combo=25\n",
    "    )\n",
    "\n",
    "    # Display\n",
    "    display(df_newdata)\n",
    "\n",
    "\n",
    "printm('## Collecting all prompted poems')\n",
    "documentation(get_genai_rhyme_promptings)\n",
    "\n",
    "\n",
    "printm('### Data used in paper')\n",
    "documentation(preprocess_rhyme_promptings)\n",
    "df_genai_rhyme_promptings_as_in_paper = get_genai_rhyme_promptings()\n",
    "display(df_genai_rhyme_promptings_as_in_paper)\n",
    "\n",
    "printm('### Replicated data')\n",
    "df_genai_rhyme_promptings_as_replicated = get_genai_rhyme_promptings(as_in_paper=False, as_replicated=True)\n",
    "display(df_genai_rhyme_promptings_as_replicated)\n",
    "\n",
    "printm('### Aggregating paper + replicated data')\n",
    "df_all_genai_rhyme_promptings_as_in_paper = get_genai_rhyme_promptings(as_in_paper=True, as_replicated=True)\n",
    "display(df_all_genai_rhyme_promptings_as_in_paper)"
   ]
  }
 ],
 "metadata": {
  "kernelspec": {
   "display_name": "venv",
   "language": "python",
   "name": "python3"
  },
  "language_info": {
   "codemirror_mode": {
    "name": "ipython",
    "version": 3
   },
   "file_extension": ".py",
   "mimetype": "text/x-python",
   "name": "python",
   "nbconvert_exporter": "python",
   "pygments_lexer": "ipython3",
   "version": "3.11.9"
  }
 },
 "nbformat": 4,
 "nbformat_minor": 2
}
