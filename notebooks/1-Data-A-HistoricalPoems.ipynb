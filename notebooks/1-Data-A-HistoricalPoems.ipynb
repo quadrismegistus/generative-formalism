{
 "cells": [
  {
   "cell_type": "code",
   "execution_count": 1,
   "metadata": {},
   "outputs": [
    {
     "data": {
      "text/markdown": [
       "# Corpus: Chadwyck-Healey poetry collections"
      ],
      "text/plain": [
       "<IPython.core.display.Markdown object>"
      ]
     },
     "metadata": {},
     "output_type": "display_data"
    },
    {
     "data": {
      "text/markdown": [
       "## Loading corpus from source"
      ],
      "text/plain": [
       "<IPython.core.display.Markdown object>"
      ]
     },
     "metadata": {},
     "output_type": "display_data"
    },
    {
     "data": {
      "text/markdown": [
       "### Checking for Chadwyck-Healey access"
      ],
      "text/plain": [
       "<IPython.core.display.Markdown object>"
      ]
     },
     "metadata": {},
     "output_type": "display_data"
    },
    {
     "data": {
      "text/markdown": [
       "\n",
       "* ✓ Chadwyck-Healey corpus path: `{REPO}/data/chadwyck_poetry/txt`\n",
       "* ✓ Chadwyck-Healey metadata path: `{REPO}/data/raw/corpus/chadwyck_corpus_metadata.csv.gz`\n",
       "* ✓ Metadata file URL set in environment (.env or shell)\n",
       "* ✓ Corpus text file URL set in environment (.env or shell)\n"
      ],
      "text/plain": [
       "<IPython.core.display.Markdown object>"
      ]
     },
     "metadata": {},
     "output_type": "display_data"
    },
    {
     "data": {
      "text/markdown": [
       "Paths and/or URLs for Chadwyck-Healey corpus exist, loading corpus..."
      ],
      "text/plain": [
       "<IPython.core.display.Markdown object>"
      ]
     },
     "metadata": {},
     "output_type": "display_data"
    },
    {
     "data": {
      "text/markdown": [
       "## Loading corpus"
      ],
      "text/plain": [
       "<IPython.core.display.Markdown object>"
      ]
     },
     "metadata": {},
     "output_type": "display_data"
    },
    {
     "data": {
      "text/markdown": [
       "##### `get_chadwyck_corpus_texts`: Load poem text content for all poems in the metadata DataFrame."
      ],
      "text/plain": [
       "<IPython.core.display.Markdown object>"
      ]
     },
     "metadata": {},
     "output_type": "display_data"
    },
    {
     "data": {
      "text/markdown": [
       "##### `get_chadwyck_corpus`: Load metadata and poem texts into a single corpus DataFrame."
      ],
      "text/plain": [
       "<IPython.core.display.Markdown object>"
      ]
     },
     "metadata": {},
     "output_type": "display_data"
    },
    {
     "data": {
      "text/markdown": [
       "* Loading Chadwyck-Healey corpus (metadata + txt)"
      ],
      "text/plain": [
       "<IPython.core.display.Markdown object>"
      ]
     },
     "metadata": {},
     "output_type": "display_data"
    },
    {
     "data": {
      "text/markdown": [
       "* Loading from `/Users/ryan/github/generative-formalism/data/raw/corpus/chadwyck_corpus_metadata.csv.gz`"
      ],
      "text/plain": [
       "<IPython.core.display.Markdown object>"
      ]
     },
     "metadata": {},
     "output_type": "display_data"
    },
    {
     "data": {
      "text/markdown": [
       "* Loading 204514 texts"
      ],
      "text/plain": [
       "<IPython.core.display.Markdown object>"
      ]
     },
     "metadata": {},
     "output_type": "display_data"
    },
    {
     "data": {
      "application/vnd.jupyter.widget-view+json": {
       "model_id": "7b3d1a142c5c420980281517500d83f3",
       "version_major": 2,
       "version_minor": 0
      },
      "text/plain": [
       "  :   0%|          | 0/204514 [00:00<?, ?it/s]"
      ]
     },
     "metadata": {},
     "output_type": "display_data"
    },
    {
     "data": {
      "text/html": [
       "<div>\n",
       "<style scoped>\n",
       "    .dataframe tbody tr th:only-of-type {\n",
       "        vertical-align: middle;\n",
       "    }\n",
       "\n",
       "    .dataframe tbody tr th {\n",
       "        vertical-align: top;\n",
       "    }\n",
       "\n",
       "    .dataframe thead th {\n",
       "        text-align: right;\n",
       "    }\n",
       "</style>\n",
       "<table border=\"1\" class=\"dataframe\">\n",
       "  <thead>\n",
       "    <tr style=\"text-align: right;\">\n",
       "      <th></th>\n",
       "      <th>id_hash</th>\n",
       "      <th>period_meta</th>\n",
       "      <th>subcorpus</th>\n",
       "      <th>author</th>\n",
       "      <th>author_dob</th>\n",
       "      <th>title</th>\n",
       "      <th>year</th>\n",
       "      <th>num_lines</th>\n",
       "      <th>volume</th>\n",
       "      <th>line</th>\n",
       "      <th>rhyme</th>\n",
       "      <th>genre</th>\n",
       "      <th>period</th>\n",
       "      <th>txt</th>\n",
       "    </tr>\n",
       "    <tr>\n",
       "      <th>id</th>\n",
       "      <th></th>\n",
       "      <th></th>\n",
       "      <th></th>\n",
       "      <th></th>\n",
       "      <th></th>\n",
       "      <th></th>\n",
       "      <th></th>\n",
       "      <th></th>\n",
       "      <th></th>\n",
       "      <th></th>\n",
       "      <th></th>\n",
       "      <th></th>\n",
       "      <th></th>\n",
       "      <th></th>\n",
       "    </tr>\n",
       "  </thead>\n",
       "  <tbody>\n",
       "    <tr>\n",
       "      <th>english/dibdinch/Z200338473</th>\n",
       "      <td>20</td>\n",
       "      <td>1800-1834 Early Nineteenth-Century</td>\n",
       "      <td>English Poetry</td>\n",
       "      <td>Dibdin, Charles, 1768-1833</td>\n",
       "      <td>1768.0</td>\n",
       "      <td>HAPPY HARRY.</td>\n",
       "      <td>1798</td>\n",
       "      <td>42</td>\n",
       "      <td>Mirth and Metre (1807)</td>\n",
       "      <td>They call me Happy Harry!</td>\n",
       "      <td>y</td>\n",
       "      <td>NaN</td>\n",
       "      <td>1750-1800</td>\n",
       "      <td>A Jolly miller, blithe, I sing,\\nThey call me ...</td>\n",
       "    </tr>\n",
       "    <tr>\n",
       "      <th>american/am0474/Z200161406</th>\n",
       "      <td>20</td>\n",
       "      <td>1835-1869 Mid Nineteenth-Century</td>\n",
       "      <td>American Poetry</td>\n",
       "      <td>Pierpont, John, 1785-1866</td>\n",
       "      <td>1785.0</td>\n",
       "      <td>THE GOOD GIFTS OF GOD PERVERTED.</td>\n",
       "      <td>1815</td>\n",
       "      <td>25</td>\n",
       "      <td>Cold water melodies, and Washingtonian songste...</td>\n",
       "      <td>&amp;indent;God gave the gift to man;</td>\n",
       "      <td>y</td>\n",
       "      <td>NaN</td>\n",
       "      <td>1750-1800</td>\n",
       "      <td>God gave the gift to man;\\n        But man wit...</td>\n",
       "    </tr>\n",
       "    <tr>\n",
       "      <th>...</th>\n",
       "      <td>...</td>\n",
       "      <td>...</td>\n",
       "      <td>...</td>\n",
       "      <td>...</td>\n",
       "      <td>...</td>\n",
       "      <td>...</td>\n",
       "      <td>...</td>\n",
       "      <td>...</td>\n",
       "      <td>...</td>\n",
       "      <td>...</td>\n",
       "      <td>...</td>\n",
       "      <td>...</td>\n",
       "      <td>...</td>\n",
       "      <td>...</td>\n",
       "    </tr>\n",
       "    <tr>\n",
       "      <th>english/knevetra/Z300410811</th>\n",
       "      <td>999992</td>\n",
       "      <td>1603-1660 Jacobean and Caroline</td>\n",
       "      <td>English Poetry</td>\n",
       "      <td>Knevet, Ralph, 1600-1671</td>\n",
       "      <td>1600.0</td>\n",
       "      <td>[6] Blindnes</td>\n",
       "      <td>1630</td>\n",
       "      <td>18</td>\n",
       "      <td>The Shorter Poems (1966)</td>\n",
       "      <td>&amp;indent;Our eyes are veyl'd with flesh and bloud:</td>\n",
       "      <td>y</td>\n",
       "      <td>NaN</td>\n",
       "      <td>1600-1650</td>\n",
       "      <td>Our eyes are veiled with flesh and blood:\\n   ...</td>\n",
       "    </tr>\n",
       "    <tr>\n",
       "      <th>american/am0966/Z200178140</th>\n",
       "      <td>999994</td>\n",
       "      <td>1800-1834 Early Nineteenth-Century</td>\n",
       "      <td>American Poetry</td>\n",
       "      <td>Freneau, Philip Morin, 1752-1832</td>\n",
       "      <td>1752.0</td>\n",
       "      <td>OCTOBER'S ADDRESS:</td>\n",
       "      <td>1782</td>\n",
       "      <td>44</td>\n",
       "      <td>Poems [1929]</td>\n",
       "      <td>October came the thirtieth day:</td>\n",
       "      <td>y</td>\n",
       "      <td>NaN</td>\n",
       "      <td>1750-1800</td>\n",
       "      <td>October came the thirtieth day:\\nAnd thus I he...</td>\n",
       "    </tr>\n",
       "  </tbody>\n",
       "</table>\n",
       "<p>204514 rows × 14 columns</p>\n",
       "</div>"
      ],
      "text/plain": [
       "                             id_hash                         period_meta        subcorpus                            author  author_dob                             title  year  num_lines  \\\n",
       "id                                                                                                                                                                                           \n",
       "english/dibdinch/Z200338473       20  1800-1834 Early Nineteenth-Century   English Poetry        Dibdin, Charles, 1768-1833      1768.0                      HAPPY HARRY.  1798         42   \n",
       "american/am0474/Z200161406        20    1835-1869 Mid Nineteenth-Century  American Poetry         Pierpont, John, 1785-1866      1785.0  THE GOOD GIFTS OF GOD PERVERTED.  1815         25   \n",
       "...                              ...                                 ...              ...                               ...         ...                               ...   ...        ...   \n",
       "english/knevetra/Z300410811   999992     1603-1660 Jacobean and Caroline   English Poetry          Knevet, Ralph, 1600-1671      1600.0                      [6] Blindnes  1630         18   \n",
       "american/am0966/Z200178140    999994  1800-1834 Early Nineteenth-Century  American Poetry  Freneau, Philip Morin, 1752-1832      1752.0                OCTOBER'S ADDRESS:  1782         44   \n",
       "\n",
       "                                                                        volume                                               line rhyme genre     period  \\\n",
       "id                                                                                                                                                         \n",
       "english/dibdinch/Z200338473                             Mirth and Metre (1807)                          They call me Happy Harry!     y   NaN  1750-1800   \n",
       "american/am0474/Z200161406   Cold water melodies, and Washingtonian songste...                  &indent;God gave the gift to man;     y   NaN  1750-1800   \n",
       "...                                                                        ...                                                ...   ...   ...        ...   \n",
       "english/knevetra/Z300410811                           The Shorter Poems (1966)  &indent;Our eyes are veyl'd with flesh and bloud:     y   NaN  1600-1650   \n",
       "american/am0966/Z200178140                                        Poems [1929]                    October came the thirtieth day:     y   NaN  1750-1800   \n",
       "\n",
       "                                                                           txt  \n",
       "id                                                                              \n",
       "english/dibdinch/Z200338473  A Jolly miller, blithe, I sing,\\nThey call me ...  \n",
       "american/am0474/Z200161406   God gave the gift to man;\\n        But man wit...  \n",
       "...                                                                        ...  \n",
       "english/knevetra/Z300410811  Our eyes are veiled with flesh and blood:\\n   ...  \n",
       "american/am0966/Z200178140   October came the thirtieth day:\\nAnd thus I he...  \n",
       "\n",
       "[204514 rows x 14 columns]"
      ]
     },
     "metadata": {},
     "output_type": "display_data"
    },
    {
     "data": {
      "text/markdown": [
       "## Replicating corpus sampling"
      ],
      "text/plain": [
       "<IPython.core.display.Markdown object>"
      ]
     },
     "metadata": {},
     "output_type": "display_data"
    },
    {
     "data": {
      "text/markdown": [
       "##### `get_chadwyck_corpus_sampled_by`: Load or generate a sampled corpus by the specified criteria."
      ],
      "text/plain": [
       "<IPython.core.display.Markdown object>"
      ]
     },
     "metadata": {},
     "output_type": "display_data"
    },
    {
     "data": {
      "text/markdown": [
       "### Sampling by rhyme annotation"
      ],
      "text/plain": [
       "<IPython.core.display.Markdown object>"
      ]
     },
     "metadata": {},
     "output_type": "display_data"
    },
    {
     "data": {
      "text/markdown": [
       "*Getting corpus sampled by `rhyme`"
      ],
      "text/plain": [
       "<IPython.core.display.Markdown object>"
      ]
     },
     "metadata": {},
     "output_type": "display_data"
    },
    {
     "data": {
      "text/markdown": [
       "* Generating `rhyme` sample"
      ],
      "text/plain": [
       "<IPython.core.display.Markdown object>"
      ]
     },
     "metadata": {},
     "output_type": "display_data"
    },
    {
     "data": {
      "text/markdown": [
       "* Loading Chadwyck-Healey corpus (metadata + txt)"
      ],
      "text/plain": [
       "<IPython.core.display.Markdown object>"
      ]
     },
     "metadata": {},
     "output_type": "display_data"
    },
    {
     "data": {
      "text/markdown": [
       "* Sampling corpus by rhyme (min 10, max 1000)"
      ],
      "text/plain": [
       "<IPython.core.display.Markdown object>"
      ]
     },
     "metadata": {},
     "output_type": "display_data"
    },
    {
     "data": {
      "text/markdown": [
       "* Original sample size: 146309"
      ],
      "text/plain": [
       "<IPython.core.display.Markdown object>"
      ]
     },
     "metadata": {},
     "output_type": "display_data"
    },
    {
     "data": {
      "text/markdown": [
       "* Final sample size: 2000\n"
      ],
      "text/plain": [
       "<IPython.core.display.Markdown object>"
      ]
     },
     "metadata": {},
     "output_type": "display_data"
    },
    {
     "data": {
      "text/markdown": [
       "Breakdown for rhyme:\n",
       "```md\n",
       "n    1000\n",
       "y    1000\n",
       "```\n"
      ],
      "text/plain": [
       "<IPython.core.display.Markdown object>"
      ]
     },
     "metadata": {},
     "output_type": "display_data"
    },
    {
     "data": {
      "text/markdown": [
       "* Saved sample to `{REPO}/data/data_as_replicated/corpus_sample_by_rhyme.csv.gz`"
      ],
      "text/plain": [
       "<IPython.core.display.Markdown object>"
      ]
     },
     "metadata": {},
     "output_type": "display_data"
    },
    {
     "data": {
      "text/html": [
       "<div>\n",
       "<style scoped>\n",
       "    .dataframe tbody tr th:only-of-type {\n",
       "        vertical-align: middle;\n",
       "    }\n",
       "\n",
       "    .dataframe tbody tr th {\n",
       "        vertical-align: top;\n",
       "    }\n",
       "\n",
       "    .dataframe thead th {\n",
       "        text-align: right;\n",
       "    }\n",
       "</style>\n",
       "<table border=\"1\" class=\"dataframe\">\n",
       "  <thead>\n",
       "    <tr style=\"text-align: right;\">\n",
       "      <th></th>\n",
       "      <th>id_hash</th>\n",
       "      <th>period_meta</th>\n",
       "      <th>subcorpus</th>\n",
       "      <th>author</th>\n",
       "      <th>author_dob</th>\n",
       "      <th>title</th>\n",
       "      <th>year</th>\n",
       "      <th>num_lines</th>\n",
       "      <th>volume</th>\n",
       "      <th>line</th>\n",
       "      <th>rhyme</th>\n",
       "      <th>genre</th>\n",
       "      <th>period</th>\n",
       "      <th>txt</th>\n",
       "    </tr>\n",
       "    <tr>\n",
       "      <th>id</th>\n",
       "      <th></th>\n",
       "      <th></th>\n",
       "      <th></th>\n",
       "      <th></th>\n",
       "      <th></th>\n",
       "      <th></th>\n",
       "      <th></th>\n",
       "      <th></th>\n",
       "      <th></th>\n",
       "      <th></th>\n",
       "      <th></th>\n",
       "      <th></th>\n",
       "      <th></th>\n",
       "      <th></th>\n",
       "    </tr>\n",
       "  </thead>\n",
       "  <tbody>\n",
       "    <tr>\n",
       "      <th>english/tupperma/Z200513986</th>\n",
       "      <td>596586</td>\n",
       "      <td>1835-1869 Mid Nineteenth-Century</td>\n",
       "      <td>English Poetry</td>\n",
       "      <td>Tupper, Martin Farquhar, 1810-1889</td>\n",
       "      <td>1810.0</td>\n",
       "      <td>HORACE'S PHILOSOPHY.</td>\n",
       "      <td>1840</td>\n",
       "      <td>14</td>\n",
       "      <td>Three Hundred Sonnets (1860)</td>\n",
       "      <td>Wisely for us within night's sable veil</td>\n",
       "      <td>y</td>\n",
       "      <td>Sonnet</td>\n",
       "      <td>1800-1850</td>\n",
       "      <td>Wisely for us within night's sable veil\\nGod h...</td>\n",
       "    </tr>\n",
       "    <tr>\n",
       "      <th>english/youngedw/Z300545598</th>\n",
       "      <td>791330</td>\n",
       "      <td>1700-1749 Early Eighteenth-Century</td>\n",
       "      <td>English Poetry</td>\n",
       "      <td>Young, Edward, 1683-1765</td>\n",
       "      <td>1683.0</td>\n",
       "      <td>THE DEDICATION. TO MR. VOLTAIRE.</td>\n",
       "      <td>1713</td>\n",
       "      <td>54</td>\n",
       "      <td>The complete works (1854)</td>\n",
       "      <td>&amp;indent;From frozen climes to milder skies;</td>\n",
       "      <td>y</td>\n",
       "      <td>NaN</td>\n",
       "      <td>1650-1700</td>\n",
       "      <td>My Muse, a bird of passage, flies\\n    From fr...</td>\n",
       "    </tr>\n",
       "    <tr>\n",
       "      <th>...</th>\n",
       "      <td>...</td>\n",
       "      <td>...</td>\n",
       "      <td>...</td>\n",
       "      <td>...</td>\n",
       "      <td>...</td>\n",
       "      <td>...</td>\n",
       "      <td>...</td>\n",
       "      <td>...</td>\n",
       "      <td>...</td>\n",
       "      <td>...</td>\n",
       "      <td>...</td>\n",
       "      <td>...</td>\n",
       "      <td>...</td>\n",
       "      <td>...</td>\n",
       "    </tr>\n",
       "    <tr>\n",
       "      <th>english/rossetdg/Z300478101</th>\n",
       "      <td>976291</td>\n",
       "      <td>1835-1869 Mid Nineteenth-Century</td>\n",
       "      <td>English Poetry</td>\n",
       "      <td>Rossetti, Dante Gabriel, 1828-1882</td>\n",
       "      <td>1828.0</td>\n",
       "      <td>X FROM PARIS TO BRUSSELS  (11 P.M. 15 October ...</td>\n",
       "      <td>1858</td>\n",
       "      <td>31</td>\n",
       "      <td>The Works (1911)</td>\n",
       "      <td>A journey takes two days of passport work</td>\n",
       "      <td>n</td>\n",
       "      <td>NaN</td>\n",
       "      <td>1800-1850</td>\n",
       "      <td>In France (to baffle thieves and murderers)\\nA...</td>\n",
       "    </tr>\n",
       "    <tr>\n",
       "      <th>english/westwood/Z300534057</th>\n",
       "      <td>637643</td>\n",
       "      <td>1835-1869 Mid Nineteenth-Century</td>\n",
       "      <td>English Poetry</td>\n",
       "      <td>Westwood, T. (Thomas), 1814?-1888</td>\n",
       "      <td>1814.0</td>\n",
       "      <td>[I saw a flower in a pathless wood]</td>\n",
       "      <td>1844</td>\n",
       "      <td>30</td>\n",
       "      <td>Poems (1840)</td>\n",
       "      <td>I saw a flower in a pathless wood,</td>\n",
       "      <td>n</td>\n",
       "      <td>NaN</td>\n",
       "      <td>1800-1850</td>\n",
       "      <td>I saw a flower in a pathless wood,\\nDeep hidde...</td>\n",
       "    </tr>\n",
       "  </tbody>\n",
       "</table>\n",
       "<p>2000 rows × 14 columns</p>\n",
       "</div>"
      ],
      "text/plain": [
       "                             id_hash                         period_meta       subcorpus                              author  author_dob                                              title  year  \\\n",
       "id                                                                                                                                                                                                  \n",
       "english/tupperma/Z200513986   596586    1835-1869 Mid Nineteenth-Century  English Poetry  Tupper, Martin Farquhar, 1810-1889      1810.0                               HORACE'S PHILOSOPHY.  1840   \n",
       "english/youngedw/Z300545598   791330  1700-1749 Early Eighteenth-Century  English Poetry            Young, Edward, 1683-1765      1683.0                   THE DEDICATION. TO MR. VOLTAIRE.  1713   \n",
       "...                              ...                                 ...             ...                                 ...         ...                                                ...   ...   \n",
       "english/rossetdg/Z300478101   976291    1835-1869 Mid Nineteenth-Century  English Poetry  Rossetti, Dante Gabriel, 1828-1882      1828.0  X FROM PARIS TO BRUSSELS  (11 P.M. 15 October ...  1858   \n",
       "english/westwood/Z300534057   637643    1835-1869 Mid Nineteenth-Century  English Poetry   Westwood, T. (Thomas), 1814?-1888      1814.0                [I saw a flower in a pathless wood]  1844   \n",
       "\n",
       "                             num_lines                        volume                                         line rhyme   genre     period                                                txt  \n",
       "id                                                                                                                                                                                             \n",
       "english/tupperma/Z200513986         14  Three Hundred Sonnets (1860)      Wisely for us within night's sable veil     y  Sonnet  1800-1850  Wisely for us within night's sable veil\\nGod h...  \n",
       "english/youngedw/Z300545598         54     The complete works (1854)  &indent;From frozen climes to milder skies;     y     NaN  1650-1700  My Muse, a bird of passage, flies\\n    From fr...  \n",
       "...                                ...                           ...                                          ...   ...     ...        ...                                                ...  \n",
       "english/rossetdg/Z300478101         31              The Works (1911)    A journey takes two days of passport work     n     NaN  1800-1850  In France (to baffle thieves and murderers)\\nA...  \n",
       "english/westwood/Z300534057         30                  Poems (1840)           I saw a flower in a pathless wood,     n     NaN  1800-1850  I saw a flower in a pathless wood,\\nDeep hidde...  \n",
       "\n",
       "[2000 rows x 14 columns]"
      ]
     },
     "metadata": {},
     "output_type": "display_data"
    },
    {
     "data": {
      "text/markdown": [
       "----"
      ],
      "text/plain": [
       "<IPython.core.display.Markdown object>"
      ]
     },
     "metadata": {},
     "output_type": "display_data"
    },
    {
     "data": {
      "text/markdown": [
       "### Sampling by period"
      ],
      "text/plain": [
       "<IPython.core.display.Markdown object>"
      ]
     },
     "metadata": {},
     "output_type": "display_data"
    },
    {
     "data": {
      "text/markdown": [
       "*Getting corpus sampled by `period`"
      ],
      "text/plain": [
       "<IPython.core.display.Markdown object>"
      ]
     },
     "metadata": {},
     "output_type": "display_data"
    },
    {
     "data": {
      "text/markdown": [
       "* Generating `period` sample"
      ],
      "text/plain": [
       "<IPython.core.display.Markdown object>"
      ]
     },
     "metadata": {},
     "output_type": "display_data"
    },
    {
     "data": {
      "text/markdown": [
       "* Loading Chadwyck-Healey corpus (metadata + txt)"
      ],
      "text/plain": [
       "<IPython.core.display.Markdown object>"
      ]
     },
     "metadata": {},
     "output_type": "display_data"
    },
    {
     "data": {
      "text/markdown": [
       "* Sampling corpus by period (min 10, max 1000)"
      ],
      "text/plain": [
       "<IPython.core.display.Markdown object>"
      ]
     },
     "metadata": {},
     "output_type": "display_data"
    },
    {
     "data": {
      "text/markdown": [
       "* Original sample size: 204514"
      ],
      "text/plain": [
       "<IPython.core.display.Markdown object>"
      ]
     },
     "metadata": {},
     "output_type": "display_data"
    },
    {
     "data": {
      "text/markdown": [
       "* Final sample size: 8000\n"
      ],
      "text/plain": [
       "<IPython.core.display.Markdown object>"
      ]
     },
     "metadata": {},
     "output_type": "display_data"
    },
    {
     "data": {
      "text/markdown": [
       "Breakdown for period:\n",
       "```md\n",
       "1600-1650    1000\n",
       "1650-1700    1000\n",
       "             ... \n",
       "1900-1950    1000\n",
       "1950-2000    1000\n",
       "```\n"
      ],
      "text/plain": [
       "<IPython.core.display.Markdown object>"
      ]
     },
     "metadata": {},
     "output_type": "display_data"
    },
    {
     "data": {
      "text/markdown": [
       "* Saved sample to `{REPO}/data/data_as_replicated/corpus_sample_by_period.csv.gz`"
      ],
      "text/plain": [
       "<IPython.core.display.Markdown object>"
      ]
     },
     "metadata": {},
     "output_type": "display_data"
    },
    {
     "data": {
      "text/html": [
       "<div>\n",
       "<style scoped>\n",
       "    .dataframe tbody tr th:only-of-type {\n",
       "        vertical-align: middle;\n",
       "    }\n",
       "\n",
       "    .dataframe tbody tr th {\n",
       "        vertical-align: top;\n",
       "    }\n",
       "\n",
       "    .dataframe thead th {\n",
       "        text-align: right;\n",
       "    }\n",
       "</style>\n",
       "<table border=\"1\" class=\"dataframe\">\n",
       "  <thead>\n",
       "    <tr style=\"text-align: right;\">\n",
       "      <th></th>\n",
       "      <th>id_hash</th>\n",
       "      <th>period_meta</th>\n",
       "      <th>subcorpus</th>\n",
       "      <th>author</th>\n",
       "      <th>author_dob</th>\n",
       "      <th>title</th>\n",
       "      <th>year</th>\n",
       "      <th>num_lines</th>\n",
       "      <th>volume</th>\n",
       "      <th>line</th>\n",
       "      <th>rhyme</th>\n",
       "      <th>genre</th>\n",
       "      <th>period</th>\n",
       "      <th>txt</th>\n",
       "    </tr>\n",
       "    <tr>\n",
       "      <th>id</th>\n",
       "      <th></th>\n",
       "      <th></th>\n",
       "      <th></th>\n",
       "      <th></th>\n",
       "      <th></th>\n",
       "      <th></th>\n",
       "      <th></th>\n",
       "      <th></th>\n",
       "      <th></th>\n",
       "      <th></th>\n",
       "      <th></th>\n",
       "      <th></th>\n",
       "      <th></th>\n",
       "      <th></th>\n",
       "    </tr>\n",
       "  </thead>\n",
       "  <tbody>\n",
       "    <tr>\n",
       "      <th>american/am0271/Z200153623</th>\n",
       "      <td>727927</td>\n",
       "      <td>1835-1869 Mid Nineteenth-Century</td>\n",
       "      <td>American Poetry</td>\n",
       "      <td>Menken, Adah Isaacs, 1835-1868</td>\n",
       "      <td>1835.0</td>\n",
       "      <td>KARAZAH TO KARL.</td>\n",
       "      <td>1865</td>\n",
       "      <td>20</td>\n",
       "      <td>Infelicia (1873)</td>\n",
       "      <td>&amp;indent;My soul is scarcely on her way,</td>\n",
       "      <td>y</td>\n",
       "      <td>NaN</td>\n",
       "      <td>1800-1850</td>\n",
       "      <td>Come back to me! my life is young,\\n    My sou...</td>\n",
       "    </tr>\n",
       "    <tr>\n",
       "      <th>english/wiltonri/Z200538941</th>\n",
       "      <td>341985</td>\n",
       "      <td>1835-1869 Mid Nineteenth-Century</td>\n",
       "      <td>English Poetry</td>\n",
       "      <td>Wilton, Richard, b. 1827</td>\n",
       "      <td>1827.0</td>\n",
       "      <td>Holy Scripture</td>\n",
       "      <td>1857</td>\n",
       "      <td>30</td>\n",
       "      <td>Lyra Pastoralis (1902)</td>\n",
       "      <td>&amp;indent;With Heavenly breezes fanned,</td>\n",
       "      <td>y</td>\n",
       "      <td>NaN</td>\n",
       "      <td>1800-1850</td>\n",
       "      <td>I have a garden fair,\\n    With Heavenly breez...</td>\n",
       "    </tr>\n",
       "    <tr>\n",
       "      <th>...</th>\n",
       "      <td>...</td>\n",
       "      <td>...</td>\n",
       "      <td>...</td>\n",
       "      <td>...</td>\n",
       "      <td>...</td>\n",
       "      <td>...</td>\n",
       "      <td>...</td>\n",
       "      <td>...</td>\n",
       "      <td>...</td>\n",
       "      <td>...</td>\n",
       "      <td>...</td>\n",
       "      <td>...</td>\n",
       "      <td>...</td>\n",
       "      <td>...</td>\n",
       "    </tr>\n",
       "    <tr>\n",
       "      <th>c20-english/ep30101/Z200604810</th>\n",
       "      <td>268050</td>\n",
       "      <td>1900-1999 Twentieth-Century</td>\n",
       "      <td>English Poetry</td>\n",
       "      <td>McGuckian, Medbh, 1950-</td>\n",
       "      <td>1950.0</td>\n",
       "      <td>The War Ending</td>\n",
       "      <td>1980</td>\n",
       "      <td>24</td>\n",
       "      <td>NaN</td>\n",
       "      <td>In the still world</td>\n",
       "      <td>NaN</td>\n",
       "      <td>NaN</td>\n",
       "      <td>1950-2000</td>\n",
       "      <td>In the still world\\nBetween the covers of a bo...</td>\n",
       "    </tr>\n",
       "    <tr>\n",
       "      <th>c20-english/ep30038/Z200602234</th>\n",
       "      <td>790048</td>\n",
       "      <td>1900-1999 Twentieth-Century</td>\n",
       "      <td>English Poetry</td>\n",
       "      <td>Dunmore, Helen, 1952-</td>\n",
       "      <td>1952.0</td>\n",
       "      <td>The surgeon husband</td>\n",
       "      <td>1982</td>\n",
       "      <td>21</td>\n",
       "      <td>NaN</td>\n",
       "      <td>Here at my worktop, foil&amp;hyphen;wrapping a sil...</td>\n",
       "      <td>NaN</td>\n",
       "      <td>NaN</td>\n",
       "      <td>1950-2000</td>\n",
       "      <td>Here at my worktop, foil-wrapping a silver sal...</td>\n",
       "    </tr>\n",
       "  </tbody>\n",
       "</table>\n",
       "<p>8000 rows × 14 columns</p>\n",
       "</div>"
      ],
      "text/plain": [
       "                                id_hash                       period_meta        subcorpus                          author  author_dob                title  year  num_lines                  volume  \\\n",
       "id                                                                                                                                                                                                     \n",
       "american/am0271/Z200153623       727927  1835-1869 Mid Nineteenth-Century  American Poetry  Menken, Adah Isaacs, 1835-1868      1835.0     KARAZAH TO KARL.  1865         20        Infelicia (1873)   \n",
       "english/wiltonri/Z200538941      341985  1835-1869 Mid Nineteenth-Century   English Poetry        Wilton, Richard, b. 1827      1827.0       Holy Scripture  1857         30  Lyra Pastoralis (1902)   \n",
       "...                                 ...                               ...              ...                             ...         ...                  ...   ...        ...                     ...   \n",
       "c20-english/ep30101/Z200604810   268050       1900-1999 Twentieth-Century   English Poetry         McGuckian, Medbh, 1950-      1950.0       The War Ending  1980         24                     NaN   \n",
       "c20-english/ep30038/Z200602234   790048       1900-1999 Twentieth-Century   English Poetry           Dunmore, Helen, 1952-      1952.0  The surgeon husband  1982         21                     NaN   \n",
       "\n",
       "                                                                             line rhyme genre     period                                                txt  \n",
       "id                                                                                                                                                           \n",
       "american/am0271/Z200153623                &indent;My soul is scarcely on her way,     y   NaN  1800-1850  Come back to me! my life is young,\\n    My sou...  \n",
       "english/wiltonri/Z200538941                 &indent;With Heavenly breezes fanned,     y   NaN  1800-1850  I have a garden fair,\\n    With Heavenly breez...  \n",
       "...                                                                           ...   ...   ...        ...                                                ...  \n",
       "c20-english/ep30101/Z200604810                                 In the still world   NaN   NaN  1950-2000  In the still world\\nBetween the covers of a bo...  \n",
       "c20-english/ep30038/Z200602234  Here at my worktop, foil&hyphen;wrapping a sil...   NaN   NaN  1950-2000  Here at my worktop, foil-wrapping a silver sal...  \n",
       "\n",
       "[8000 rows x 14 columns]"
      ]
     },
     "metadata": {},
     "output_type": "display_data"
    },
    {
     "data": {
      "text/markdown": [
       "----"
      ],
      "text/plain": [
       "<IPython.core.display.Markdown object>"
      ]
     },
     "metadata": {},
     "output_type": "display_data"
    },
    {
     "data": {
      "text/markdown": [
       "### Sampling by period/subcorpus"
      ],
      "text/plain": [
       "<IPython.core.display.Markdown object>"
      ]
     },
     "metadata": {},
     "output_type": "display_data"
    },
    {
     "data": {
      "text/markdown": [
       "*Getting corpus sampled by `period_subcorpus`"
      ],
      "text/plain": [
       "<IPython.core.display.Markdown object>"
      ]
     },
     "metadata": {},
     "output_type": "display_data"
    },
    {
     "data": {
      "text/markdown": [
       "* Generating `period_subcorpus` sample"
      ],
      "text/plain": [
       "<IPython.core.display.Markdown object>"
      ]
     },
     "metadata": {},
     "output_type": "display_data"
    },
    {
     "data": {
      "text/markdown": [
       "* Loading Chadwyck-Healey corpus (metadata + txt)"
      ],
      "text/plain": [
       "<IPython.core.display.Markdown object>"
      ]
     },
     "metadata": {},
     "output_type": "display_data"
    },
    {
     "data": {
      "text/markdown": [
       "* Sampling corpus by ['period', 'subcorpus'] (min 10, max 1000)"
      ],
      "text/plain": [
       "<IPython.core.display.Markdown object>"
      ]
     },
     "metadata": {},
     "output_type": "display_data"
    },
    {
     "data": {
      "text/markdown": [
       "* Original sample size: 204514"
      ],
      "text/plain": [
       "<IPython.core.display.Markdown object>"
      ]
     },
     "metadata": {},
     "output_type": "display_data"
    },
    {
     "data": {
      "text/markdown": [
       "* Final sample size: 22709\n"
      ],
      "text/plain": [
       "<IPython.core.display.Markdown object>"
      ]
     },
     "metadata": {},
     "output_type": "display_data"
    },
    {
     "data": {
      "text/markdown": [
       "Breakdown for period/subcorpus:\n",
       "```md\n",
       "1600-1650  American Poetry              361\n",
       "           English Poetry              1000\n",
       "                                       ... \n",
       "1950-2000  Modern Poetry               1000\n",
       "           The Faber Poetry Library     616\n",
       "```\n"
      ],
      "text/plain": [
       "<IPython.core.display.Markdown object>"
      ]
     },
     "metadata": {},
     "output_type": "display_data"
    },
    {
     "data": {
      "text/markdown": [
       "* Saved sample to `{REPO}/data/data_as_replicated/corpus_sample_by_period_subcorpus.csv.gz`"
      ],
      "text/plain": [
       "<IPython.core.display.Markdown object>"
      ]
     },
     "metadata": {},
     "output_type": "display_data"
    },
    {
     "data": {
      "text/html": [
       "<div>\n",
       "<style scoped>\n",
       "    .dataframe tbody tr th:only-of-type {\n",
       "        vertical-align: middle;\n",
       "    }\n",
       "\n",
       "    .dataframe tbody tr th {\n",
       "        vertical-align: top;\n",
       "    }\n",
       "\n",
       "    .dataframe thead th {\n",
       "        text-align: right;\n",
       "    }\n",
       "</style>\n",
       "<table border=\"1\" class=\"dataframe\">\n",
       "  <thead>\n",
       "    <tr style=\"text-align: right;\">\n",
       "      <th></th>\n",
       "      <th>id_hash</th>\n",
       "      <th>period_meta</th>\n",
       "      <th>subcorpus</th>\n",
       "      <th>author</th>\n",
       "      <th>author_dob</th>\n",
       "      <th>title</th>\n",
       "      <th>year</th>\n",
       "      <th>num_lines</th>\n",
       "      <th>volume</th>\n",
       "      <th>line</th>\n",
       "      <th>rhyme</th>\n",
       "      <th>genre</th>\n",
       "      <th>period</th>\n",
       "      <th>txt</th>\n",
       "    </tr>\n",
       "    <tr>\n",
       "      <th>id</th>\n",
       "      <th></th>\n",
       "      <th></th>\n",
       "      <th></th>\n",
       "      <th></th>\n",
       "      <th></th>\n",
       "      <th></th>\n",
       "      <th></th>\n",
       "      <th></th>\n",
       "      <th></th>\n",
       "      <th></th>\n",
       "      <th></th>\n",
       "      <th></th>\n",
       "      <th></th>\n",
       "      <th></th>\n",
       "    </tr>\n",
       "  </thead>\n",
       "  <tbody>\n",
       "    <tr>\n",
       "      <th>english/barlowge/Z300270773</th>\n",
       "      <td>487415</td>\n",
       "      <td>1870-1899 Later Nineteenth-Century</td>\n",
       "      <td>English Poetry</td>\n",
       "      <td>Barlow, George, 1847-1914</td>\n",
       "      <td>1847.0</td>\n",
       "      <td>LIX. “THE ARMY BEHIND THE MAN”</td>\n",
       "      <td>1877</td>\n",
       "      <td>14</td>\n",
       "      <td>The Poetical Works [1902–1914]</td>\n",
       "      <td>&amp;indent;The universe with peals of thunderous ...</td>\n",
       "      <td>y</td>\n",
       "      <td>NaN</td>\n",
       "      <td>1800-1850</td>\n",
       "      <td>As in a trance I saw a human from. -- \\n    Th...</td>\n",
       "    </tr>\n",
       "    <tr>\n",
       "      <th>american/am1318/Z300199111</th>\n",
       "      <td>914810</td>\n",
       "      <td>1835-1869 Mid Nineteenth-Century</td>\n",
       "      <td>American Poetry</td>\n",
       "      <td>Hosmer, William H. C. (William Howe Cuyler), 1...</td>\n",
       "      <td>1814.0</td>\n",
       "      <td>THE GRAYS AT AVON.  AN IMPROMPTU.</td>\n",
       "      <td>1844</td>\n",
       "      <td>36</td>\n",
       "      <td>The poetical works (1854)</td>\n",
       "      <td>&amp;indent;&amp;indent;With firm but measured tread,</td>\n",
       "      <td>y</td>\n",
       "      <td>NaN</td>\n",
       "      <td>1800-1850</td>\n",
       "      <td>They come! the gallant Grays -- \\n        With...</td>\n",
       "    </tr>\n",
       "    <tr>\n",
       "      <th>...</th>\n",
       "      <td>...</td>\n",
       "      <td>...</td>\n",
       "      <td>...</td>\n",
       "      <td>...</td>\n",
       "      <td>...</td>\n",
       "      <td>...</td>\n",
       "      <td>...</td>\n",
       "      <td>...</td>\n",
       "      <td>...</td>\n",
       "      <td>...</td>\n",
       "      <td>...</td>\n",
       "      <td>...</td>\n",
       "      <td>...</td>\n",
       "      <td>...</td>\n",
       "    </tr>\n",
       "    <tr>\n",
       "      <th>c20-african-american/da22025/Z200571299</th>\n",
       "      <td>102987</td>\n",
       "      <td>1900-1999 Twentieth-Century</td>\n",
       "      <td>African-American Poetry</td>\n",
       "      <td>Jones, Patricia Spears, 1955-</td>\n",
       "      <td>1955.0</td>\n",
       "      <td>Joss Sticks</td>\n",
       "      <td>1985</td>\n",
       "      <td>55</td>\n",
       "      <td>NaN</td>\n",
       "      <td>The coffin appears to hold two Frances Chungs:</td>\n",
       "      <td>NaN</td>\n",
       "      <td>NaN</td>\n",
       "      <td>1950-2000</td>\n",
       "      <td>The coffin appears to hold two Frances Chungs:...</td>\n",
       "    </tr>\n",
       "    <tr>\n",
       "      <th>c20-african-american/da20060/Z200329122</th>\n",
       "      <td>411624</td>\n",
       "      <td>1900-1999 Twentieth-Century</td>\n",
       "      <td>African-American Poetry</td>\n",
       "      <td>McClane, Kenneth A., 1951-</td>\n",
       "      <td>1951.0</td>\n",
       "      <td>LUST</td>\n",
       "      <td>1981</td>\n",
       "      <td>29</td>\n",
       "      <td>NaN</td>\n",
       "      <td>Anne sits</td>\n",
       "      <td>NaN</td>\n",
       "      <td>NaN</td>\n",
       "      <td>1950-2000</td>\n",
       "      <td>Anne sits\\nwith the sun\\nand the corn (high an...</td>\n",
       "    </tr>\n",
       "  </tbody>\n",
       "</table>\n",
       "<p>22709 rows × 14 columns</p>\n",
       "</div>"
      ],
      "text/plain": [
       "                                         id_hash                         period_meta                subcorpus                                             author  author_dob  \\\n",
       "id                                                                                                                                                                             \n",
       "english/barlowge/Z300270773               487415  1870-1899 Later Nineteenth-Century           English Poetry                          Barlow, George, 1847-1914      1847.0   \n",
       "american/am1318/Z300199111                914810    1835-1869 Mid Nineteenth-Century          American Poetry  Hosmer, William H. C. (William Howe Cuyler), 1...      1814.0   \n",
       "...                                          ...                                 ...                      ...                                                ...         ...   \n",
       "c20-african-american/da22025/Z200571299   102987         1900-1999 Twentieth-Century  African-American Poetry                      Jones, Patricia Spears, 1955-      1955.0   \n",
       "c20-african-american/da20060/Z200329122   411624         1900-1999 Twentieth-Century  African-American Poetry                         McClane, Kenneth A., 1951-      1951.0   \n",
       "\n",
       "                                                                     title  year  num_lines                          volume                                               line rhyme genre     period  \\\n",
       "id                                                                                                                                                                                                      \n",
       "english/barlowge/Z300270773                 LIX. “THE ARMY BEHIND THE MAN”  1877         14  The Poetical Works [1902–1914]  &indent;The universe with peals of thunderous ...     y   NaN  1800-1850   \n",
       "american/am1318/Z300199111               THE GRAYS AT AVON.  AN IMPROMPTU.  1844         36       The poetical works (1854)      &indent;&indent;With firm but measured tread,     y   NaN  1800-1850   \n",
       "...                                                                    ...   ...        ...                             ...                                                ...   ...   ...        ...   \n",
       "c20-african-american/da22025/Z200571299                        Joss Sticks  1985         55                             NaN     The coffin appears to hold two Frances Chungs:   NaN   NaN  1950-2000   \n",
       "c20-african-american/da20060/Z200329122                               LUST  1981         29                             NaN                                          Anne sits   NaN   NaN  1950-2000   \n",
       "\n",
       "                                                                                       txt  \n",
       "id                                                                                          \n",
       "english/barlowge/Z300270773              As in a trance I saw a human from. -- \\n    Th...  \n",
       "american/am1318/Z300199111               They come! the gallant Grays -- \\n        With...  \n",
       "...                                                                                    ...  \n",
       "c20-african-american/da22025/Z200571299  The coffin appears to hold two Frances Chungs:...  \n",
       "c20-african-american/da20060/Z200329122  Anne sits\\nwith the sun\\nand the corn (high an...  \n",
       "\n",
       "[22709 rows x 14 columns]"
      ]
     },
     "metadata": {},
     "output_type": "display_data"
    },
    {
     "data": {
      "text/markdown": [
       "----"
      ],
      "text/plain": [
       "<IPython.core.display.Markdown object>"
      ]
     },
     "metadata": {},
     "output_type": "display_data"
    },
    {
     "data": {
      "text/markdown": [
       "### Sampling by sonnet/period"
      ],
      "text/plain": [
       "<IPython.core.display.Markdown object>"
      ]
     },
     "metadata": {},
     "output_type": "display_data"
    },
    {
     "data": {
      "text/markdown": [
       "*Getting corpus sampled by `sonnet_period`"
      ],
      "text/plain": [
       "<IPython.core.display.Markdown object>"
      ]
     },
     "metadata": {},
     "output_type": "display_data"
    },
    {
     "data": {
      "text/markdown": [
       "* Generating `sonnet_period` sample"
      ],
      "text/plain": [
       "<IPython.core.display.Markdown object>"
      ]
     },
     "metadata": {},
     "output_type": "display_data"
    },
    {
     "data": {
      "text/markdown": [
       "* Loading Chadwyck-Healey corpus (metadata + txt)"
      ],
      "text/plain": [
       "<IPython.core.display.Markdown object>"
      ]
     },
     "metadata": {},
     "output_type": "display_data"
    },
    {
     "data": {
      "text/markdown": [
       "* Sampling corpus by period (min 10, max 154)"
      ],
      "text/plain": [
       "<IPython.core.display.Markdown object>"
      ]
     },
     "metadata": {},
     "output_type": "display_data"
    },
    {
     "data": {
      "text/markdown": [
       "* Original sample size: 7606"
      ],
      "text/plain": [
       "<IPython.core.display.Markdown object>"
      ]
     },
     "metadata": {},
     "output_type": "display_data"
    },
    {
     "data": {
      "text/markdown": [
       "* Final sample size: 999\n"
      ],
      "text/plain": [
       "<IPython.core.display.Markdown object>"
      ]
     },
     "metadata": {},
     "output_type": "display_data"
    },
    {
     "data": {
      "text/markdown": [
       "Breakdown for period:\n",
       "```md\n",
       "1600-1650    152\n",
       "1650-1700     65\n",
       "            ... \n",
       "1900-1950    154\n",
       "1950-2000     12\n",
       "```\n"
      ],
      "text/plain": [
       "<IPython.core.display.Markdown object>"
      ]
     },
     "metadata": {},
     "output_type": "display_data"
    },
    {
     "data": {
      "text/markdown": [
       "* Saved sample to `{REPO}/data/data_as_replicated/corpus_sample_by_sonnet_period.csv.gz`"
      ],
      "text/plain": [
       "<IPython.core.display.Markdown object>"
      ]
     },
     "metadata": {},
     "output_type": "display_data"
    },
    {
     "data": {
      "text/html": [
       "<div>\n",
       "<style scoped>\n",
       "    .dataframe tbody tr th:only-of-type {\n",
       "        vertical-align: middle;\n",
       "    }\n",
       "\n",
       "    .dataframe tbody tr th {\n",
       "        vertical-align: top;\n",
       "    }\n",
       "\n",
       "    .dataframe thead th {\n",
       "        text-align: right;\n",
       "    }\n",
       "</style>\n",
       "<table border=\"1\" class=\"dataframe\">\n",
       "  <thead>\n",
       "    <tr style=\"text-align: right;\">\n",
       "      <th></th>\n",
       "      <th>id_hash</th>\n",
       "      <th>period_meta</th>\n",
       "      <th>subcorpus</th>\n",
       "      <th>author</th>\n",
       "      <th>author_dob</th>\n",
       "      <th>title</th>\n",
       "      <th>year</th>\n",
       "      <th>num_lines</th>\n",
       "      <th>volume</th>\n",
       "      <th>line</th>\n",
       "      <th>rhyme</th>\n",
       "      <th>genre</th>\n",
       "      <th>period</th>\n",
       "      <th>txt</th>\n",
       "    </tr>\n",
       "    <tr>\n",
       "      <th>id</th>\n",
       "      <th></th>\n",
       "      <th></th>\n",
       "      <th></th>\n",
       "      <th></th>\n",
       "      <th></th>\n",
       "      <th></th>\n",
       "      <th></th>\n",
       "      <th></th>\n",
       "      <th></th>\n",
       "      <th></th>\n",
       "      <th></th>\n",
       "      <th></th>\n",
       "      <th></th>\n",
       "      <th></th>\n",
       "    </tr>\n",
       "  </thead>\n",
       "  <tbody>\n",
       "    <tr>\n",
       "      <th>english/devereau/Z300336833</th>\n",
       "      <td>54584</td>\n",
       "      <td>1870-1899 Later Nineteenth-Century</td>\n",
       "      <td>English Poetry</td>\n",
       "      <td>De Vere, Aubrey, 1814-1902</td>\n",
       "      <td>1814.0</td>\n",
       "      <td>V.  TO E.—4.</td>\n",
       "      <td>1844</td>\n",
       "      <td>14</td>\n",
       "      <td>The Poetical Works (1884)</td>\n",
       "      <td>Where is the ear that catches as a whole</td>\n",
       "      <td>y</td>\n",
       "      <td>Sonnet</td>\n",
       "      <td>1800-1850</td>\n",
       "      <td>The ocean murmurs on his circling shores -- \\n...</td>\n",
       "    </tr>\n",
       "    <tr>\n",
       "      <th>english/barneswi/Z300272888</th>\n",
       "      <td>122945</td>\n",
       "      <td>1835-1869 Mid Nineteenth-Century</td>\n",
       "      <td>English Poetry</td>\n",
       "      <td>Barnes, William, 1801-1886</td>\n",
       "      <td>1801.0</td>\n",
       "      <td>SONNET XXVII. HUMAN LIFE.</td>\n",
       "      <td>1831</td>\n",
       "      <td>14</td>\n",
       "      <td>Poems, partly of rural life (1846)</td>\n",
       "      <td>Through waving boughs the wand'ring zephyrs sigh,</td>\n",
       "      <td>y</td>\n",
       "      <td>Sonnet</td>\n",
       "      <td>1800-1850</td>\n",
       "      <td>Through waving boughs the wandering zephyrs si...</td>\n",
       "    </tr>\n",
       "    <tr>\n",
       "      <th>...</th>\n",
       "      <td>...</td>\n",
       "      <td>...</td>\n",
       "      <td>...</td>\n",
       "      <td>...</td>\n",
       "      <td>...</td>\n",
       "      <td>...</td>\n",
       "      <td>...</td>\n",
       "      <td>...</td>\n",
       "      <td>...</td>\n",
       "      <td>...</td>\n",
       "      <td>...</td>\n",
       "      <td>...</td>\n",
       "      <td>...</td>\n",
       "      <td>...</td>\n",
       "    </tr>\n",
       "    <tr>\n",
       "      <th>english/miltonjo/Z300437812</th>\n",
       "      <td>19371</td>\n",
       "      <td>1603-1660 Jacobean and Caroline</td>\n",
       "      <td>English Poetry</td>\n",
       "      <td>Milton, John, 1608-1674</td>\n",
       "      <td>1608.0</td>\n",
       "      <td>XII. On the same.</td>\n",
       "      <td>1638</td>\n",
       "      <td>14</td>\n",
       "      <td>Poems Upon Several Occasions (1673)</td>\n",
       "      <td>I did but prompt the age to quit their cloggs</td>\n",
       "      <td>y</td>\n",
       "      <td>Sonnet</td>\n",
       "      <td>1600-1650</td>\n",
       "      <td>I did but prompt the age to quit their clogs\\n...</td>\n",
       "    </tr>\n",
       "    <tr>\n",
       "      <th>english/griffinb/Z200383296</th>\n",
       "      <td>44591</td>\n",
       "      <td>1500-1580 Tudor</td>\n",
       "      <td>English Poetry</td>\n",
       "      <td>Griffin, Bartholomew, d. 1602</td>\n",
       "      <td>1602.0</td>\n",
       "      <td>SONNET. XIIII.  [When silent sleepe had closed...</td>\n",
       "      <td>1632</td>\n",
       "      <td>14</td>\n",
       "      <td>Fidessa, more chaste then kinde (1596)</td>\n",
       "      <td>&amp;indent;My watchfull minde did then begin to m...</td>\n",
       "      <td>y</td>\n",
       "      <td>Sonnet</td>\n",
       "      <td>1600-1650</td>\n",
       "      <td>When silent sleep had closed up mine eyes,\\n  ...</td>\n",
       "    </tr>\n",
       "  </tbody>\n",
       "</table>\n",
       "<p>999 rows × 14 columns</p>\n",
       "</div>"
      ],
      "text/plain": [
       "                             id_hash                         period_meta       subcorpus                         author  author_dob                                              title  year  \\\n",
       "id                                                                                                                                                                                             \n",
       "english/devereau/Z300336833    54584  1870-1899 Later Nineteenth-Century  English Poetry     De Vere, Aubrey, 1814-1902      1814.0                                       V.  TO E.—4.  1844   \n",
       "english/barneswi/Z300272888   122945    1835-1869 Mid Nineteenth-Century  English Poetry     Barnes, William, 1801-1886      1801.0                          SONNET XXVII. HUMAN LIFE.  1831   \n",
       "...                              ...                                 ...             ...                            ...         ...                                                ...   ...   \n",
       "english/miltonjo/Z300437812    19371     1603-1660 Jacobean and Caroline  English Poetry        Milton, John, 1608-1674      1608.0                                  XII. On the same.  1638   \n",
       "english/griffinb/Z200383296    44591                     1500-1580 Tudor  English Poetry  Griffin, Bartholomew, d. 1602      1602.0  SONNET. XIIII.  [When silent sleepe had closed...  1632   \n",
       "\n",
       "                             num_lines                                  volume                                               line rhyme   genre     period  \\\n",
       "id                                                                                                                                                           \n",
       "english/devereau/Z300336833         14               The Poetical Works (1884)           Where is the ear that catches as a whole     y  Sonnet  1800-1850   \n",
       "english/barneswi/Z300272888         14      Poems, partly of rural life (1846)  Through waving boughs the wand'ring zephyrs sigh,     y  Sonnet  1800-1850   \n",
       "...                                ...                                     ...                                                ...   ...     ...        ...   \n",
       "english/miltonjo/Z300437812         14     Poems Upon Several Occasions (1673)      I did but prompt the age to quit their cloggs     y  Sonnet  1600-1650   \n",
       "english/griffinb/Z200383296         14  Fidessa, more chaste then kinde (1596)  &indent;My watchfull minde did then begin to m...     y  Sonnet  1600-1650   \n",
       "\n",
       "                                                                           txt  \n",
       "id                                                                              \n",
       "english/devereau/Z300336833  The ocean murmurs on his circling shores -- \\n...  \n",
       "english/barneswi/Z300272888  Through waving boughs the wandering zephyrs si...  \n",
       "...                                                                        ...  \n",
       "english/miltonjo/Z300437812  I did but prompt the age to quit their clogs\\n...  \n",
       "english/griffinb/Z200383296  When silent sleep had closed up mine eyes,\\n  ...  \n",
       "\n",
       "[999 rows x 14 columns]"
      ]
     },
     "metadata": {},
     "output_type": "display_data"
    },
    {
     "data": {
      "text/markdown": [
       "----"
      ],
      "text/plain": [
       "<IPython.core.display.Markdown object>"
      ]
     },
     "metadata": {},
     "output_type": "display_data"
    },
    {
     "data": {
      "text/markdown": [
       "## Loading samples used in paper"
      ],
      "text/plain": [
       "<IPython.core.display.Markdown object>"
      ]
     },
     "metadata": {},
     "output_type": "display_data"
    },
    {
     "data": {
      "text/markdown": [
       "### Sample by rhyme annotation"
      ],
      "text/plain": [
       "<IPython.core.display.Markdown object>"
      ]
     },
     "metadata": {},
     "output_type": "display_data"
    },
    {
     "data": {
      "text/html": [
       "<div>\n",
       "<style scoped>\n",
       "    .dataframe tbody tr th:only-of-type {\n",
       "        vertical-align: middle;\n",
       "    }\n",
       "\n",
       "    .dataframe tbody tr th {\n",
       "        vertical-align: top;\n",
       "    }\n",
       "\n",
       "    .dataframe thead th {\n",
       "        text-align: right;\n",
       "    }\n",
       "</style>\n",
       "<table border=\"1\" class=\"dataframe\">\n",
       "  <thead>\n",
       "    <tr style=\"text-align: right;\">\n",
       "      <th></th>\n",
       "      <th>id_hash</th>\n",
       "      <th>period_meta</th>\n",
       "      <th>subcorpus</th>\n",
       "      <th>author</th>\n",
       "      <th>author_dob</th>\n",
       "      <th>title</th>\n",
       "      <th>year</th>\n",
       "      <th>num_lines</th>\n",
       "      <th>volume</th>\n",
       "      <th>line</th>\n",
       "      <th>rhyme</th>\n",
       "      <th>genre</th>\n",
       "      <th>period</th>\n",
       "      <th>txt</th>\n",
       "    </tr>\n",
       "    <tr>\n",
       "      <th>id</th>\n",
       "      <th></th>\n",
       "      <th></th>\n",
       "      <th></th>\n",
       "      <th></th>\n",
       "      <th></th>\n",
       "      <th></th>\n",
       "      <th></th>\n",
       "      <th></th>\n",
       "      <th></th>\n",
       "      <th></th>\n",
       "      <th></th>\n",
       "      <th></th>\n",
       "      <th></th>\n",
       "      <th></th>\n",
       "    </tr>\n",
       "  </thead>\n",
       "  <tbody>\n",
       "    <tr>\n",
       "      <th>english-ed2/ep2438/Z300661875</th>\n",
       "      <td>1</td>\n",
       "      <td></td>\n",
       "      <td>English Poetry</td>\n",
       "      <td>Price, Herbert, b. 1858</td>\n",
       "      <td>1858.0</td>\n",
       "      <td>THE FORSAKEN GARDEN</td>\n",
       "      <td>1888</td>\n",
       "      <td>35</td>\n",
       "      <td>Poems and Sonnets by Herbert Price (1914)</td>\n",
       "      <td>In the garden we loved that is now a waste,</td>\n",
       "      <td>y</td>\n",
       "      <td></td>\n",
       "      <td>1850-1900</td>\n",
       "      <td>Ah! sweet were the days, and the nights and th...</td>\n",
       "    </tr>\n",
       "    <tr>\n",
       "      <th>english/pennecu1/Z200459978</th>\n",
       "      <td>1</td>\n",
       "      <td>1660-1700 Restoration</td>\n",
       "      <td>English Poetry</td>\n",
       "      <td>Pennecuik, Alexander, 1652-1722</td>\n",
       "      <td>1652.0</td>\n",
       "      <td>THE CITY AND COUNTRY MOUSE.</td>\n",
       "      <td>1682</td>\n",
       "      <td>50</td>\n",
       "      <td>The Works (1815)</td>\n",
       "      <td>&amp;indent;Met with a city mouse, right smooth an...</td>\n",
       "      <td>y</td>\n",
       "      <td></td>\n",
       "      <td>1650-1700</td>\n",
       "      <td>A country mouse, upon a winter's day,\\n    Met...</td>\n",
       "    </tr>\n",
       "    <tr>\n",
       "      <th>...</th>\n",
       "      <td>...</td>\n",
       "      <td>...</td>\n",
       "      <td>...</td>\n",
       "      <td>...</td>\n",
       "      <td>...</td>\n",
       "      <td>...</td>\n",
       "      <td>...</td>\n",
       "      <td>...</td>\n",
       "      <td>...</td>\n",
       "      <td>...</td>\n",
       "      <td>...</td>\n",
       "      <td>...</td>\n",
       "      <td>...</td>\n",
       "      <td>...</td>\n",
       "    </tr>\n",
       "    <tr>\n",
       "      <th>american/am1066/Z200187826</th>\n",
       "      <td>219178</td>\n",
       "      <td>1835-1869 Mid Nineteenth-Century</td>\n",
       "      <td>American Poetry</td>\n",
       "      <td>Whitman, Walt, 1819-1892</td>\n",
       "      <td>1819.0</td>\n",
       "      <td>KOSMOS.</td>\n",
       "      <td>1849</td>\n",
       "      <td>10</td>\n",
       "      <td>Leaves of grass (1860–61)</td>\n",
       "      <td>Who is the amplitude of the earth, and the coa...</td>\n",
       "      <td>n</td>\n",
       "      <td></td>\n",
       "      <td>1800-1850</td>\n",
       "      <td>Who includes diversity, and is Nature,\\nWho is...</td>\n",
       "    </tr>\n",
       "    <tr>\n",
       "      <th>english/wattsala/Z200522075</th>\n",
       "      <td>219367</td>\n",
       "      <td>1800-1834 Early Nineteenth-Century</td>\n",
       "      <td>English Poetry</td>\n",
       "      <td>Watts, Alaric Alexander, 1797-1864</td>\n",
       "      <td>1797.0</td>\n",
       "      <td>THE MELODY OF YOUTH.</td>\n",
       "      <td>1827</td>\n",
       "      <td>34</td>\n",
       "      <td>Lyrics of the Heart (1851)</td>\n",
       "      <td>Delicious strain! upon my charmed ear,</td>\n",
       "      <td>n</td>\n",
       "      <td></td>\n",
       "      <td>1750-1800</td>\n",
       "      <td>Delicious strain! upon my charmed ear,\\nAs eve...</td>\n",
       "    </tr>\n",
       "  </tbody>\n",
       "</table>\n",
       "<p>2000 rows × 14 columns</p>\n",
       "</div>"
      ],
      "text/plain": [
       "                               id_hash                         period_meta        subcorpus                              author  author_dob                        title  year  num_lines  \\\n",
       "id                                                                                                                                                                                          \n",
       "english-ed2/ep2438/Z300661875        1                                       English Poetry             Price, Herbert, b. 1858      1858.0          THE FORSAKEN GARDEN  1888         35   \n",
       "english/pennecu1/Z200459978          1               1660-1700 Restoration   English Poetry     Pennecuik, Alexander, 1652-1722      1652.0  THE CITY AND COUNTRY MOUSE.  1682         50   \n",
       "...                                ...                                 ...              ...                                 ...         ...                          ...   ...        ...   \n",
       "american/am1066/Z200187826      219178    1835-1869 Mid Nineteenth-Century  American Poetry            Whitman, Walt, 1819-1892      1819.0                      KOSMOS.  1849         10   \n",
       "english/wattsala/Z200522075     219367  1800-1834 Early Nineteenth-Century   English Poetry  Watts, Alaric Alexander, 1797-1864      1797.0         THE MELODY OF YOUTH.  1827         34   \n",
       "\n",
       "                                                                  volume                                               line rhyme genre     period                                                txt  \n",
       "id                                                                                                                                                                                                     \n",
       "english-ed2/ep2438/Z300661875  Poems and Sonnets by Herbert Price (1914)        In the garden we loved that is now a waste,     y        1850-1900  Ah! sweet were the days, and the nights and th...  \n",
       "english/pennecu1/Z200459978                             The Works (1815)  &indent;Met with a city mouse, right smooth an...     y        1650-1700  A country mouse, upon a winter's day,\\n    Met...  \n",
       "...                                                                  ...                                                ...   ...   ...        ...                                                ...  \n",
       "american/am1066/Z200187826                     Leaves of grass (1860–61)  Who is the amplitude of the earth, and the coa...     n        1800-1850  Who includes diversity, and is Nature,\\nWho is...  \n",
       "english/wattsala/Z200522075                   Lyrics of the Heart (1851)             Delicious strain! upon my charmed ear,     n        1750-1800  Delicious strain! upon my charmed ear,\\nAs eve...  \n",
       "\n",
       "[2000 rows x 14 columns]"
      ]
     },
     "metadata": {},
     "output_type": "display_data"
    },
    {
     "data": {
      "text/markdown": [
       "Breakdown for rhyme:\n",
       "```md\n",
       "y    1000\n",
       "n    1000\n",
       "```\n"
      ],
      "text/plain": [
       "<IPython.core.display.Markdown object>"
      ]
     },
     "metadata": {},
     "output_type": "display_data"
    },
    {
     "data": {
      "text/markdown": [
       "----"
      ],
      "text/plain": [
       "<IPython.core.display.Markdown object>"
      ]
     },
     "metadata": {},
     "output_type": "display_data"
    },
    {
     "data": {
      "text/markdown": [
       "### Sample by period"
      ],
      "text/plain": [
       "<IPython.core.display.Markdown object>"
      ]
     },
     "metadata": {},
     "output_type": "display_data"
    },
    {
     "data": {
      "text/html": [
       "<div>\n",
       "<style scoped>\n",
       "    .dataframe tbody tr th:only-of-type {\n",
       "        vertical-align: middle;\n",
       "    }\n",
       "\n",
       "    .dataframe tbody tr th {\n",
       "        vertical-align: top;\n",
       "    }\n",
       "\n",
       "    .dataframe thead th {\n",
       "        text-align: right;\n",
       "    }\n",
       "</style>\n",
       "<table border=\"1\" class=\"dataframe\">\n",
       "  <thead>\n",
       "    <tr style=\"text-align: right;\">\n",
       "      <th></th>\n",
       "      <th>id_hash</th>\n",
       "      <th>period_meta</th>\n",
       "      <th>subcorpus</th>\n",
       "      <th>author</th>\n",
       "      <th>author_dob</th>\n",
       "      <th>title</th>\n",
       "      <th>year</th>\n",
       "      <th>num_lines</th>\n",
       "      <th>volume</th>\n",
       "      <th>line</th>\n",
       "      <th>rhyme</th>\n",
       "      <th>genre</th>\n",
       "      <th>period</th>\n",
       "      <th>txt</th>\n",
       "    </tr>\n",
       "    <tr>\n",
       "      <th>id</th>\n",
       "      <th></th>\n",
       "      <th></th>\n",
       "      <th></th>\n",
       "      <th></th>\n",
       "      <th></th>\n",
       "      <th></th>\n",
       "      <th></th>\n",
       "      <th></th>\n",
       "      <th></th>\n",
       "      <th></th>\n",
       "      <th></th>\n",
       "      <th></th>\n",
       "      <th></th>\n",
       "      <th></th>\n",
       "    </tr>\n",
       "  </thead>\n",
       "  <tbody>\n",
       "    <tr>\n",
       "      <th>english-ed2/ep2438/Z300661875</th>\n",
       "      <td>1</td>\n",
       "      <td></td>\n",
       "      <td>English Poetry</td>\n",
       "      <td>Price, Herbert, b. 1858</td>\n",
       "      <td>1858.0</td>\n",
       "      <td>THE FORSAKEN GARDEN</td>\n",
       "      <td>1888</td>\n",
       "      <td>35</td>\n",
       "      <td>Poems and Sonnets by Herbert Price (1914)</td>\n",
       "      <td>In the garden we loved that is now a waste,</td>\n",
       "      <td>y</td>\n",
       "      <td></td>\n",
       "      <td>1850-1900</td>\n",
       "      <td>Ah! sweet were the days, and the nights and th...</td>\n",
       "    </tr>\n",
       "    <tr>\n",
       "      <th>english/pennecu1/Z200459978</th>\n",
       "      <td>1</td>\n",
       "      <td>1660-1700 Restoration</td>\n",
       "      <td>English Poetry</td>\n",
       "      <td>Pennecuik, Alexander, 1652-1722</td>\n",
       "      <td>1652.0</td>\n",
       "      <td>THE CITY AND COUNTRY MOUSE.</td>\n",
       "      <td>1682</td>\n",
       "      <td>50</td>\n",
       "      <td>The Works (1815)</td>\n",
       "      <td>&amp;indent;Met with a city mouse, right smooth an...</td>\n",
       "      <td>y</td>\n",
       "      <td></td>\n",
       "      <td>1650-1700</td>\n",
       "      <td>A country mouse, upon a winter's day,\\n    Met...</td>\n",
       "    </tr>\n",
       "    <tr>\n",
       "      <th>...</th>\n",
       "      <td>...</td>\n",
       "      <td>...</td>\n",
       "      <td>...</td>\n",
       "      <td>...</td>\n",
       "      <td>...</td>\n",
       "      <td>...</td>\n",
       "      <td>...</td>\n",
       "      <td>...</td>\n",
       "      <td>...</td>\n",
       "      <td>...</td>\n",
       "      <td>...</td>\n",
       "      <td>...</td>\n",
       "      <td>...</td>\n",
       "      <td>...</td>\n",
       "    </tr>\n",
       "    <tr>\n",
       "      <th>c20-english/ep20015/Z200594449</th>\n",
       "      <td>135926</td>\n",
       "      <td>1900-1999 Twentieth-Century</td>\n",
       "      <td>English Poetry</td>\n",
       "      <td>McMillan, Ian, 1956-</td>\n",
       "      <td>1956.0</td>\n",
       "      <td>Elegy for an Hour of Daylight</td>\n",
       "      <td>1986</td>\n",
       "      <td>27</td>\n",
       "      <td></td>\n",
       "      <td>The tilt of the Earth is beautiful;</td>\n",
       "      <td></td>\n",
       "      <td></td>\n",
       "      <td>1950-2000</td>\n",
       "      <td>The tilt of the Earth is beautiful;\\nthe day i...</td>\n",
       "    </tr>\n",
       "    <tr>\n",
       "      <th>c20-english/ep20160/Z300601647</th>\n",
       "      <td>135947</td>\n",
       "      <td>1900-1999 Twentieth-Century</td>\n",
       "      <td>English Poetry</td>\n",
       "      <td>Bhatt, Sujata, 1956-.</td>\n",
       "      <td>1956.0</td>\n",
       "      <td>Bear's Garlic at Nevern</td>\n",
       "      <td>1986</td>\n",
       "      <td>87</td>\n",
       "      <td></td>\n",
       "      <td>‘Look, look!’ You call out</td>\n",
       "      <td></td>\n",
       "      <td></td>\n",
       "      <td>1950-2000</td>\n",
       "      <td>'Look, look!' You call out\\n    as you run:\\n\\...</td>\n",
       "    </tr>\n",
       "  </tbody>\n",
       "</table>\n",
       "<p>8000 rows × 14 columns</p>\n",
       "</div>"
      ],
      "text/plain": [
       "                                id_hash                  period_meta       subcorpus                           author  author_dob                          title  year  num_lines  \\\n",
       "id                                                                                                                                                                                  \n",
       "english-ed2/ep2438/Z300661875         1                               English Poetry          Price, Herbert, b. 1858      1858.0            THE FORSAKEN GARDEN  1888         35   \n",
       "english/pennecu1/Z200459978           1        1660-1700 Restoration  English Poetry  Pennecuik, Alexander, 1652-1722      1652.0    THE CITY AND COUNTRY MOUSE.  1682         50   \n",
       "...                                 ...                          ...             ...                              ...         ...                            ...   ...        ...   \n",
       "c20-english/ep20015/Z200594449   135926  1900-1999 Twentieth-Century  English Poetry             McMillan, Ian, 1956-      1956.0  Elegy for an Hour of Daylight  1986         27   \n",
       "c20-english/ep20160/Z300601647   135947  1900-1999 Twentieth-Century  English Poetry            Bhatt, Sujata, 1956-.      1956.0        Bear's Garlic at Nevern  1986         87   \n",
       "\n",
       "                                                                   volume                                               line rhyme genre     period                                                txt  \n",
       "id                                                                                                                                                                                                      \n",
       "english-ed2/ep2438/Z300661875   Poems and Sonnets by Herbert Price (1914)        In the garden we loved that is now a waste,     y        1850-1900  Ah! sweet were the days, and the nights and th...  \n",
       "english/pennecu1/Z200459978                              The Works (1815)  &indent;Met with a city mouse, right smooth an...     y        1650-1700  A country mouse, upon a winter's day,\\n    Met...  \n",
       "...                                                                   ...                                                ...   ...   ...        ...                                                ...  \n",
       "c20-english/ep20015/Z200594449                                                           The tilt of the Earth is beautiful;              1950-2000  The tilt of the Earth is beautiful;\\nthe day i...  \n",
       "c20-english/ep20160/Z300601647                                                                    ‘Look, look!’ You call out              1950-2000  'Look, look!' You call out\\n    as you run:\\n\\...  \n",
       "\n",
       "[8000 rows x 14 columns]"
      ]
     },
     "metadata": {},
     "output_type": "display_data"
    },
    {
     "data": {
      "text/markdown": [
       "Breakdown for period:\n",
       "```md\n",
       "1850-1900    1000\n",
       "1650-1700    1000\n",
       "             ... \n",
       "1750-1800    1000\n",
       "1950-2000    1000\n",
       "```\n"
      ],
      "text/plain": [
       "<IPython.core.display.Markdown object>"
      ]
     },
     "metadata": {},
     "output_type": "display_data"
    },
    {
     "data": {
      "text/markdown": [
       "----"
      ],
      "text/plain": [
       "<IPython.core.display.Markdown object>"
      ]
     },
     "metadata": {},
     "output_type": "display_data"
    },
    {
     "data": {
      "text/markdown": [
       "### Sample by period/subcorpus"
      ],
      "text/plain": [
       "<IPython.core.display.Markdown object>"
      ]
     },
     "metadata": {},
     "output_type": "display_data"
    },
    {
     "data": {
      "text/html": [
       "<div>\n",
       "<style scoped>\n",
       "    .dataframe tbody tr th:only-of-type {\n",
       "        vertical-align: middle;\n",
       "    }\n",
       "\n",
       "    .dataframe tbody tr th {\n",
       "        vertical-align: top;\n",
       "    }\n",
       "\n",
       "    .dataframe thead th {\n",
       "        text-align: right;\n",
       "    }\n",
       "</style>\n",
       "<table border=\"1\" class=\"dataframe\">\n",
       "  <thead>\n",
       "    <tr style=\"text-align: right;\">\n",
       "      <th></th>\n",
       "      <th>id_hash</th>\n",
       "      <th>period_meta</th>\n",
       "      <th>subcorpus</th>\n",
       "      <th>author</th>\n",
       "      <th>author_dob</th>\n",
       "      <th>title</th>\n",
       "      <th>year</th>\n",
       "      <th>num_lines</th>\n",
       "      <th>volume</th>\n",
       "      <th>line</th>\n",
       "      <th>rhyme</th>\n",
       "      <th>genre</th>\n",
       "      <th>period</th>\n",
       "      <th>txt</th>\n",
       "    </tr>\n",
       "    <tr>\n",
       "      <th>id</th>\n",
       "      <th></th>\n",
       "      <th></th>\n",
       "      <th></th>\n",
       "      <th></th>\n",
       "      <th></th>\n",
       "      <th></th>\n",
       "      <th></th>\n",
       "      <th></th>\n",
       "      <th></th>\n",
       "      <th></th>\n",
       "      <th></th>\n",
       "      <th></th>\n",
       "      <th></th>\n",
       "      <th></th>\n",
       "    </tr>\n",
       "  </thead>\n",
       "  <tbody>\n",
       "    <tr>\n",
       "      <th>c20-english/ep20152/Z200586158</th>\n",
       "      <td>2</td>\n",
       "      <td>1900-1999 Twentieth-Century</td>\n",
       "      <td>English Poetry</td>\n",
       "      <td>Rosenberg, Isaac, 1890-1918</td>\n",
       "      <td>1890.0</td>\n",
       "      <td>‘I KNOW YOU GOLDEN’</td>\n",
       "      <td>1920</td>\n",
       "      <td>12</td>\n",
       "      <td></td>\n",
       "      <td>I know you golden</td>\n",
       "      <td></td>\n",
       "      <td></td>\n",
       "      <td>1850-1900</td>\n",
       "      <td>I know you golden\\nAs summer and pale\\nAs the ...</td>\n",
       "    </tr>\n",
       "    <tr>\n",
       "      <th>english/kerpeter/Z300410015</th>\n",
       "      <td>3</td>\n",
       "      <td>1660-1700 Restoration</td>\n",
       "      <td>English Poetry</td>\n",
       "      <td>Ker, Patrick, fl. 1691</td>\n",
       "      <td>1691.0</td>\n",
       "      <td>On the Memory of a Married Maid.</td>\n",
       "      <td>1721</td>\n",
       "      <td>16</td>\n",
       "      <td>Flosculum Poeticum (1684)</td>\n",
       "      <td>A Marrie'd&amp;hyphen;Virgin to remain.</td>\n",
       "      <td>y</td>\n",
       "      <td></td>\n",
       "      <td>1650-1700</td>\n",
       "      <td>Within this Coffin here does lie,\\nA Pattern o...</td>\n",
       "    </tr>\n",
       "    <tr>\n",
       "      <th>...</th>\n",
       "      <td>...</td>\n",
       "      <td>...</td>\n",
       "      <td>...</td>\n",
       "      <td>...</td>\n",
       "      <td>...</td>\n",
       "      <td>...</td>\n",
       "      <td>...</td>\n",
       "      <td>...</td>\n",
       "      <td>...</td>\n",
       "      <td>...</td>\n",
       "      <td>...</td>\n",
       "      <td>...</td>\n",
       "      <td>...</td>\n",
       "      <td>...</td>\n",
       "    </tr>\n",
       "    <tr>\n",
       "      <th>c20-african-american/da22011/Z300262800</th>\n",
       "      <td>999421</td>\n",
       "      <td>1900-1999 Twentieth-Century</td>\n",
       "      <td>African-American Poetry</td>\n",
       "      <td>Jackson, Angela, 1951-</td>\n",
       "      <td>1951.0</td>\n",
       "      <td>george, after all, means farmer</td>\n",
       "      <td>1981</td>\n",
       "      <td>39</td>\n",
       "      <td></td>\n",
       "      <td>he carried a tomato plant &amp;</td>\n",
       "      <td></td>\n",
       "      <td></td>\n",
       "      <td>1950-2000</td>\n",
       "      <td>he carried a tomato plant &amp;\\nwatermelon\\nacros...</td>\n",
       "    </tr>\n",
       "    <tr>\n",
       "      <th>c20-english/ent0801/Z300576356</th>\n",
       "      <td>999841</td>\n",
       "      <td>1900-1999 Twentieth-Century</td>\n",
       "      <td>Modern Poetry</td>\n",
       "      <td>Cornford, Frances Darwin, 1886-1960</td>\n",
       "      <td>1886.0</td>\n",
       "      <td>THE WATCH</td>\n",
       "      <td>1916</td>\n",
       "      <td>10</td>\n",
       "      <td></td>\n",
       "      <td>I wakened on my hot, hard bed,</td>\n",
       "      <td></td>\n",
       "      <td></td>\n",
       "      <td>1850-1900</td>\n",
       "      <td>I wakened on my hight, hard bed,\\nUpon the pil...</td>\n",
       "    </tr>\n",
       "  </tbody>\n",
       "</table>\n",
       "<p>22718 rows × 14 columns</p>\n",
       "</div>"
      ],
      "text/plain": [
       "                                         id_hash                  period_meta                subcorpus                               author  author_dob                             title  year  \\\n",
       "id                                                                                                                                                                                                \n",
       "c20-english/ep20152/Z200586158                 2  1900-1999 Twentieth-Century           English Poetry          Rosenberg, Isaac, 1890-1918      1890.0               ‘I KNOW YOU GOLDEN’  1920   \n",
       "english/kerpeter/Z300410015                    3        1660-1700 Restoration           English Poetry               Ker, Patrick, fl. 1691      1691.0  On the Memory of a Married Maid.  1721   \n",
       "...                                          ...                          ...                      ...                                  ...         ...                               ...   ...   \n",
       "c20-african-american/da22011/Z300262800   999421  1900-1999 Twentieth-Century  African-American Poetry               Jackson, Angela, 1951-      1951.0   george, after all, means farmer  1981   \n",
       "c20-english/ent0801/Z300576356            999841  1900-1999 Twentieth-Century            Modern Poetry  Cornford, Frances Darwin, 1886-1960      1886.0                         THE WATCH  1916   \n",
       "\n",
       "                                         num_lines                     volume                                 line rhyme genre     period                                                txt  \n",
       "id                                                                                                                                                                                            \n",
       "c20-english/ep20152/Z200586158                  12                                               I know you golden              1850-1900  I know you golden\\nAs summer and pale\\nAs the ...  \n",
       "english/kerpeter/Z300410015                     16  Flosculum Poeticum (1684)  A Marrie'd&hyphen;Virgin to remain.     y        1650-1700  Within this Coffin here does lie,\\nA Pattern o...  \n",
       "...                                            ...                        ...                                  ...   ...   ...        ...                                                ...  \n",
       "c20-african-american/da22011/Z300262800         39                                     he carried a tomato plant &              1950-2000  he carried a tomato plant &\\nwatermelon\\nacros...  \n",
       "c20-english/ent0801/Z300576356                  10                                  I wakened on my hot, hard bed,              1850-1900  I wakened on my hight, hard bed,\\nUpon the pil...  \n",
       "\n",
       "[22718 rows x 14 columns]"
      ]
     },
     "metadata": {},
     "output_type": "display_data"
    },
    {
     "data": {
      "text/markdown": [
       "Breakdown for period/subcorpus:\n",
       "```md\n",
       "                                    count\n",
       "period    subcorpus                      \n",
       "1600-1650 American Poetry             361\n",
       "          English Poetry             1000\n",
       "...                                   ...\n",
       "1950-2000 Modern Poetry              1000\n",
       "          The Faber Poetry Library    616\n",
       "\n",
       "[32 rows x 1 columns]\n",
       "```\n"
      ],
      "text/plain": [
       "<IPython.core.display.Markdown object>"
      ]
     },
     "metadata": {},
     "output_type": "display_data"
    },
    {
     "data": {
      "text/markdown": [
       "----"
      ],
      "text/plain": [
       "<IPython.core.display.Markdown object>"
      ]
     },
     "metadata": {},
     "output_type": "display_data"
    },
    {
     "data": {
      "text/markdown": [
       "### Sample by sonnet/period"
      ],
      "text/plain": [
       "<IPython.core.display.Markdown object>"
      ]
     },
     "metadata": {},
     "output_type": "display_data"
    },
    {
     "data": {
      "text/html": [
       "<div>\n",
       "<style scoped>\n",
       "    .dataframe tbody tr th:only-of-type {\n",
       "        vertical-align: middle;\n",
       "    }\n",
       "\n",
       "    .dataframe tbody tr th {\n",
       "        vertical-align: top;\n",
       "    }\n",
       "\n",
       "    .dataframe thead th {\n",
       "        text-align: right;\n",
       "    }\n",
       "</style>\n",
       "<table border=\"1\" class=\"dataframe\">\n",
       "  <thead>\n",
       "    <tr style=\"text-align: right;\">\n",
       "      <th></th>\n",
       "      <th>id_hash</th>\n",
       "      <th>period_meta</th>\n",
       "      <th>subcorpus</th>\n",
       "      <th>author</th>\n",
       "      <th>author_dob</th>\n",
       "      <th>title</th>\n",
       "      <th>year</th>\n",
       "      <th>num_lines</th>\n",
       "      <th>volume</th>\n",
       "      <th>line</th>\n",
       "      <th>rhyme</th>\n",
       "      <th>genre</th>\n",
       "      <th>period</th>\n",
       "      <th>txt</th>\n",
       "    </tr>\n",
       "    <tr>\n",
       "      <th>id</th>\n",
       "      <th></th>\n",
       "      <th></th>\n",
       "      <th></th>\n",
       "      <th></th>\n",
       "      <th></th>\n",
       "      <th></th>\n",
       "      <th></th>\n",
       "      <th></th>\n",
       "      <th></th>\n",
       "      <th></th>\n",
       "      <th></th>\n",
       "      <th></th>\n",
       "      <th></th>\n",
       "      <th></th>\n",
       "    </tr>\n",
       "  </thead>\n",
       "  <tbody>\n",
       "    <tr>\n",
       "      <th>c20-english/abarnett/Z300683485</th>\n",
       "      <td>1592</td>\n",
       "      <td></td>\n",
       "      <td>English Poetry</td>\n",
       "      <td>Barnett, Anthony, 1941-</td>\n",
       "      <td>1941.0</td>\n",
       "      <td>SONNET II, 217 (239)</td>\n",
       "      <td>1971</td>\n",
       "      <td>14</td>\n",
       "      <td></td>\n",
       "      <td>The day dawned, and held</td>\n",
       "      <td></td>\n",
       "      <td></td>\n",
       "      <td>1900-1950</td>\n",
       "      <td>The day dawned, and held\\nand o, joy!\\nappeare...</td>\n",
       "    </tr>\n",
       "    <tr>\n",
       "      <th>english/smithcha/Z300489005</th>\n",
       "      <td>2155</td>\n",
       "      <td>1750-1799 Later Eighteenth-Century</td>\n",
       "      <td>English Poetry</td>\n",
       "      <td>Smith, Charlotte Turner, 1749-1806</td>\n",
       "      <td>1749.0</td>\n",
       "      <td>SONNET LXXXII. TO THE SHADE OF BURNS.</td>\n",
       "      <td>1779</td>\n",
       "      <td>14</td>\n",
       "      <td>Elegiac sonnets (1797–1800)</td>\n",
       "      <td>&amp;indent;Who, amid Scotia's mountain solitude,</td>\n",
       "      <td>y</td>\n",
       "      <td>Sonnet</td>\n",
       "      <td>1700-1750</td>\n",
       "      <td>Mute is thy wild harp, now, O Bard sublime!\\n ...</td>\n",
       "    </tr>\n",
       "    <tr>\n",
       "      <th>...</th>\n",
       "      <td>...</td>\n",
       "      <td>...</td>\n",
       "      <td>...</td>\n",
       "      <td>...</td>\n",
       "      <td>...</td>\n",
       "      <td>...</td>\n",
       "      <td>...</td>\n",
       "      <td>...</td>\n",
       "      <td>...</td>\n",
       "      <td>...</td>\n",
       "      <td>...</td>\n",
       "      <td>...</td>\n",
       "      <td>...</td>\n",
       "      <td>...</td>\n",
       "    </tr>\n",
       "    <tr>\n",
       "      <th>english/stuarthy/Z300500668</th>\n",
       "      <td>997488</td>\n",
       "      <td>1835-1869 Mid Nineteenth-Century</td>\n",
       "      <td>English Poetry</td>\n",
       "      <td>Stuart-Wortley, Emmeline, Lady, 1806-1855</td>\n",
       "      <td>1806.0</td>\n",
       "      <td>SONNET.  [Beautiful Spring, thy young ambrosia...</td>\n",
       "      <td>1836</td>\n",
       "      <td>14</td>\n",
       "      <td>Queen Berengaria's Courtesy, and Other Poems (...</td>\n",
       "      <td>&amp;indent;Now dwells caressingly upon the air,</td>\n",
       "      <td>y</td>\n",
       "      <td></td>\n",
       "      <td>1800-1850</td>\n",
       "      <td>Beautiful Spring, thy young ambrosial breath\\n...</td>\n",
       "    </tr>\n",
       "    <tr>\n",
       "      <th>english/rossetdg/Z400477967</th>\n",
       "      <td>997737</td>\n",
       "      <td>1835-1869 Mid Nineteenth-Century</td>\n",
       "      <td>English Poetry</td>\n",
       "      <td>Rossetti, Dante Gabriel, 1828-1882</td>\n",
       "      <td>1828.0</td>\n",
       "      <td>SONNET XIV YOUTH'S SPRING&amp;hyphen;TRIBUTE</td>\n",
       "      <td>1858</td>\n",
       "      <td>14</td>\n",
       "      <td>The Works (1911)</td>\n",
       "      <td>&amp;indent;I lay, and spread your hair on either ...</td>\n",
       "      <td>y</td>\n",
       "      <td>Sonnet</td>\n",
       "      <td>1800-1850</td>\n",
       "      <td>On this sweet bank your head thrice sweet and ...</td>\n",
       "    </tr>\n",
       "  </tbody>\n",
       "</table>\n",
       "<p>999 rows × 14 columns</p>\n",
       "</div>"
      ],
      "text/plain": [
       "                                 id_hash                         period_meta       subcorpus                                     author  author_dob  \\\n",
       "id                                                                                                                                                    \n",
       "c20-english/abarnett/Z300683485     1592                                      English Poetry                    Barnett, Anthony, 1941-      1941.0   \n",
       "english/smithcha/Z300489005         2155  1750-1799 Later Eighteenth-Century  English Poetry         Smith, Charlotte Turner, 1749-1806      1749.0   \n",
       "...                                  ...                                 ...             ...                                        ...         ...   \n",
       "english/stuarthy/Z300500668       997488    1835-1869 Mid Nineteenth-Century  English Poetry  Stuart-Wortley, Emmeline, Lady, 1806-1855      1806.0   \n",
       "english/rossetdg/Z400477967       997737    1835-1869 Mid Nineteenth-Century  English Poetry         Rossetti, Dante Gabriel, 1828-1882      1828.0   \n",
       "\n",
       "                                                                             title  year  num_lines                                             volume  \\\n",
       "id                                                                                                                                                       \n",
       "c20-english/abarnett/Z300683485                               SONNET II, 217 (239)  1971         14                                                      \n",
       "english/smithcha/Z300489005                  SONNET LXXXII. TO THE SHADE OF BURNS.  1779         14                        Elegiac sonnets (1797–1800)   \n",
       "...                                                                            ...   ...        ...                                                ...   \n",
       "english/stuarthy/Z300500668      SONNET.  [Beautiful Spring, thy young ambrosia...  1836         14  Queen Berengaria's Courtesy, and Other Poems (...   \n",
       "english/rossetdg/Z400477967               SONNET XIV YOUTH'S SPRING&hyphen;TRIBUTE  1858         14                                   The Works (1911)   \n",
       "\n",
       "                                                                              line rhyme   genre     period                                                txt  \n",
       "id                                                                                                                                                              \n",
       "c20-english/abarnett/Z300683485                           The day dawned, and held                1900-1950  The day dawned, and held\\nand o, joy!\\nappeare...  \n",
       "english/smithcha/Z300489005          &indent;Who, amid Scotia's mountain solitude,     y  Sonnet  1700-1750  Mute is thy wild harp, now, O Bard sublime!\\n ...  \n",
       "...                                                                            ...   ...     ...        ...                                                ...  \n",
       "english/stuarthy/Z300500668           &indent;Now dwells caressingly upon the air,     y          1800-1850  Beautiful Spring, thy young ambrosial breath\\n...  \n",
       "english/rossetdg/Z400477967      &indent;I lay, and spread your hair on either ...     y  Sonnet  1800-1850  On this sweet bank your head thrice sweet and ...  \n",
       "\n",
       "[999 rows x 14 columns]"
      ]
     },
     "metadata": {},
     "output_type": "display_data"
    },
    {
     "data": {
      "text/markdown": [
       "Breakdown for sonnet/period:\n",
       "```md\n",
       "           count\n",
       "period          \n",
       "1600-1650    152\n",
       "1650-1700     65\n",
       "...          ...\n",
       "1900-1950    154\n",
       "1950-2000     12\n",
       "\n",
       "[8 rows x 1 columns]\n",
       "```\n"
      ],
      "text/plain": [
       "<IPython.core.display.Markdown object>"
      ]
     },
     "metadata": {},
     "output_type": "display_data"
    },
    {
     "data": {
      "text/markdown": [
       "----"
      ],
      "text/plain": [
       "<IPython.core.display.Markdown object>"
      ]
     },
     "metadata": {},
     "output_type": "display_data"
    }
   ],
   "source": [
    "# Code\n",
    "import sys\n",
    "sys.path.append('../')\n",
    "from generative_formalism import *\n",
    "pd.options.display.max_rows = 5\n",
    "\n",
    "\n",
    "# Markdown header\n",
    "printm(f'# Corpus: Chadwyck-Healey poetry collections')\n",
    "printm(f'## Loading corpus from source')\n",
    "\n",
    "\n",
    "# Checking if paths exist\n",
    "printm(f'### Checking for Chadwyck-Healey access')\n",
    "\n",
    "if not check_chadwyck_healey_paths():\n",
    "    printm(f'Paths and/or URLs for Chadwyck-Healey corpus do not exist, skipping...')\n",
    "else:\n",
    "    printm(f'Paths and/or URLs for Chadwyck-Healey corpus exist, loading corpus...')\n",
    "\n",
    "    printm(f'## Loading corpus')    \n",
    "    documentation(get_chadwyck_corpus_metadata)\n",
    "    documentation(get_chadwyck_corpus_texts)\n",
    "    documentation(get_chadwyck_corpus)\n",
    "    \n",
    "    df_corpus = get_chadwyck_corpus()\n",
    "    display(df_corpus)\n",
    "    \n",
    "\n",
    "    printm(f'## Replicating corpus sampling')\n",
    "    documentation(get_chadwyck_corpus_sampled_by)\n",
    "    \n",
    "    printm(f'### Sampling by rhyme annotation')\n",
    "    df_smpl_by_rhyme_replicated = get_chadwyck_corpus_sampled_by('rhyme', as_replicated=True, force=True)\n",
    "    display(df_smpl_by_rhyme_replicated)\n",
    "    assert len(df_smpl_by_rhyme_replicated) == 2000\n",
    "    printm('----')\n",
    "\n",
    "    printm(f'### Sampling by period')\n",
    "    df_smpl_by_period_replicated = get_chadwyck_corpus_sampled_by('period', as_replicated=True, force=True)\n",
    "    display(df_smpl_by_period_replicated)\n",
    "    assert len(df_smpl_by_period_replicated) == 8000\n",
    "    printm('----')\n",
    "    \n",
    "    printm(f'### Sampling by period/subcorpus')\n",
    "    df_smpl_by_period_subcorpus_replicated = get_chadwyck_corpus_sampled_by('period_subcorpus',as_replicated=True,force=True)\n",
    "    display(df_smpl_by_period_subcorpus_replicated)\n",
    "    assert len(df_smpl_by_period_subcorpus_replicated) > 20_000\n",
    "    printm('----')\n",
    "    \n",
    "    printm(f'### Sampling by sonnet/period')\n",
    "    df_smpl_by_sonnet_period_replicated = get_chadwyck_corpus_sampled_by('sonnet_period', as_replicated=True, force=True)\n",
    "    display(df_smpl_by_sonnet_period_replicated)\n",
    "    printm('----')\n",
    "\n",
    "\n",
    "\n",
    "printm(f'## Loading samples used in paper')\n",
    "printm(f'### Sample by rhyme annotation')\n",
    "df_smpl_by_rhyme_in_paper = get_chadwyck_corpus_sampled_by('rhyme', verbose=True)\n",
    "display(df_smpl_by_rhyme_in_paper)\n",
    "describe_qual(df_smpl_by_rhyme_in_paper.rhyme)\n",
    "assert len(df_smpl_by_rhyme_in_paper) == 2000\n",
    "printm('----')\n",
    "\n",
    "\n",
    "printm(f'### Sample by period')\n",
    "df_smpl_by_period_in_paper = get_chadwyck_corpus_sampled_by('period')\n",
    "display(df_smpl_by_period_in_paper)\n",
    "describe_qual(df_smpl_by_period_in_paper.period)\n",
    "assert len(df_smpl_by_period_in_paper) == 8000\n",
    "printm('----')\n",
    "\n",
    "\n",
    "printm(f'### Sample by period/subcorpus')\n",
    "df_smpl_by_period_subcorpus_in_paper = get_chadwyck_corpus_sampled_by('period_subcorpus')\n",
    "display(df_smpl_by_period_subcorpus_in_paper)\n",
    "describe_qual_grouped(df_smpl_by_period_subcorpus_in_paper, ['period','subcorpus'], name='period/subcorpus')\n",
    "assert len(df_smpl_by_period_subcorpus_in_paper) > 20_000\n",
    "printm('----')\n",
    "\n",
    "\n",
    "printm(f'### Sample by sonnet/period')\n",
    "df_smpl_by_sonnet_period_in_paper = get_chadwyck_corpus_sampled_by('sonnet_period')\n",
    "display(df_smpl_by_sonnet_period_in_paper)\n",
    "describe_qual_grouped(df_smpl_by_sonnet_period_in_paper, ['period'], name='sonnet/period')\n",
    "printm('----')"
   ]
  }
 ],
 "metadata": {
  "kernelspec": {
   "display_name": "venv",
   "language": "python",
   "name": "python3"
  },
  "language_info": {
   "codemirror_mode": {
    "name": "ipython",
    "version": 3
   },
   "file_extension": ".py",
   "mimetype": "text/x-python",
   "name": "python",
   "nbconvert_exporter": "python",
   "pygments_lexer": "ipython3",
   "version": "3.11.7"
  }
 },
 "nbformat": 4,
 "nbformat_minor": 4
}
