{
 "cells": [
  {
   "cell_type": "markdown",
   "metadata": {},
   "source": [
    "# Prompting for un/rhyming poems"
   ]
  },
  {
   "cell_type": "markdown",
   "metadata": {},
   "source": [
    "## Setting prompts and models\n",
    "\n",
    "Edit `PROMPTS` and `MODEL_LIST` in `constants.py` to change prompts and models."
   ]
  },
  {
   "cell_type": "code",
   "execution_count": 1,
   "metadata": {
    "execution": {
     "iopub.execute_input": "2025-09-15T21:51:08.309432Z",
     "iopub.status.busy": "2025-09-15T21:51:08.309334Z",
     "iopub.status.idle": "2025-09-15T21:51:10.339830Z",
     "shell.execute_reply": "2025-09-15T21:51:10.339410Z"
    }
   },
   "outputs": [],
   "source": [
    "# Imports\n",
    "import sys\n",
    "sys.path.append('../')\n",
    "from generative_formalism import *"
   ]
  },
  {
   "cell_type": "markdown",
   "metadata": {},
   "source": [
    "### Setting prompts"
   ]
  },
  {
   "cell_type": "code",
   "execution_count": 2,
   "metadata": {
    "execution": {
     "iopub.execute_input": "2025-09-15T21:51:10.341667Z",
     "iopub.status.busy": "2025-09-15T21:51:10.341416Z",
     "iopub.status.idle": "2025-09-15T21:51:10.344774Z",
     "shell.execute_reply": "2025-09-15T21:51:10.344551Z"
    }
   },
   "outputs": [
    {
     "data": {
      "text/markdown": [
       "##### `describe_prompts`\n",
       "\n",
       "```md\n",
       "Print a description of the prompts with statistics and details.\n",
       "    \n",
       "    Args:\n",
       "        prompts: List of prompt strings to describe. Defaults to PROMPT_LIST.\n",
       "        prompt_to_type: Dictionary mapping prompts to their types. Defaults to PROMPT_TO_TYPE.\n",
       "    \n",
       "```\n",
       "----\n"
      ],
      "text/plain": [
       "<IPython.core.display.Markdown object>"
      ]
     },
     "metadata": {},
     "output_type": "display_data"
    }
   ],
   "source": [
    "documentation(describe_prompts, signature=False)"
   ]
  },
  {
   "cell_type": "code",
   "execution_count": 3,
   "metadata": {
    "execution": {
     "iopub.execute_input": "2025-09-15T21:51:10.362858Z",
     "iopub.status.busy": "2025-09-15T21:51:10.362720Z",
     "iopub.status.idle": "2025-09-15T21:51:10.364778Z",
     "shell.execute_reply": "2025-09-15T21:51:10.364492Z"
    }
   },
   "outputs": [
    {
     "name": "stdout",
     "output_type": "stream",
     "text": [
      "* 23 unique prompts\n",
      "* 3 prompt types\n",
      "\n",
      "* List of prompts:\n",
      "  ['Write a poem in ballad stanzas.',\n",
      " \"Write an ryhmed poem in the style of Shakespeare's sonnets.\",\n",
      " 'Write a long poem that does rhyme.',\n",
      " 'Write a poem in the style of Emily Dickinson.',\n",
      " 'Write a poem in heroic couplets.',\n",
      " 'Write an rhyming poem.',\n",
      " 'Write a poem (with 20+ lines) that rhymes.',\n",
      " 'Write a poem that does rhyme.',\n",
      " 'Write a short poem that does rhyme.',\n",
      " 'Write a poem that does NOT rhyme.',\n",
      " 'Write a poem (with 20+ lines) that does NOT rhyme.',\n",
      " 'Write a long poem that does NOT rhyme.',\n",
      " 'Write a poem in the style of Walt Whitman.',\n",
      " 'Write a poem in free verse.',\n",
      " 'Write a poem in blank verse.',\n",
      " 'Write an unrhymed poem.',\n",
      " 'Write a short poem that does NOT rhyme.',\n",
      " 'Write a poem (with 20+ lines).',\n",
      " 'Write a long poem.',\n",
      " 'Write a poem in groups of two lines.',\n",
      " 'Write a poem.',\n",
      " 'Write a poem in stanzas of 4 lines each.',\n",
      " 'Write a short poem.']\n",
      "\n",
      "* List of prompt types:\n",
      "  {'DO_rhyme': ['Write a poem in ballad stanzas.',\n",
      "              \"Write an ryhmed poem in the style of Shakespeare's sonnets.\",\n",
      "              'Write a long poem that does rhyme.',\n",
      "              'Write a poem in the style of Emily Dickinson.',\n",
      "              'Write a poem in heroic couplets.',\n",
      "              'Write an rhyming poem.',\n",
      "              'Write a poem (with 20+ lines) that rhymes.',\n",
      "              'Write a poem that does rhyme.',\n",
      "              'Write a short poem that does rhyme.'],\n",
      " 'MAYBE_rhyme': ['Write a poem (with 20+ lines).',\n",
      "                 'Write a long poem.',\n",
      "                 'Write a poem in groups of two lines.',\n",
      "                 'Write a poem.',\n",
      "                 'Write a poem in stanzas of 4 lines each.',\n",
      "                 'Write a short poem.'],\n",
      " 'do_NOT_rhyme': ['Write a poem that does NOT rhyme.',\n",
      "                  'Write a poem (with 20+ lines) that does NOT rhyme.',\n",
      "                  'Write a long poem that does NOT rhyme.',\n",
      "                  'Write a poem in the style of Walt Whitman.',\n",
      "                  'Write a poem in free verse.',\n",
      "                  'Write a poem in blank verse.',\n",
      "                  'Write an unrhymed poem.',\n",
      "                  'Write a short poem that does NOT rhyme.']}\n",
      "\n"
     ]
    }
   ],
   "source": [
    "describe_prompts(\n",
    "    prompts=PROMPT_LIST,\n",
    "    prompt_to_type=PROMPT_TO_TYPE\n",
    ")"
   ]
  },
  {
   "cell_type": "code",
   "execution_count": 4,
   "metadata": {
    "execution": {
     "iopub.execute_input": "2025-09-15T21:51:10.366008Z",
     "iopub.status.busy": "2025-09-15T21:51:10.365912Z",
     "iopub.status.idle": "2025-09-15T21:51:10.367720Z",
     "shell.execute_reply": "2025-09-15T21:51:10.367479Z"
    }
   },
   "outputs": [
    {
     "name": "stdout",
     "output_type": "stream",
     "text": [
      "* 11 models (counting parameter changes)\n",
      "  * 6 model types (ChatGPT, Claude, DeepSeek, Gemini, Llama, Olmo)\n",
      "  * Using models:\n",
      "  {   'ChatGPT': ['gpt-3.5-turbo', 'gpt-4-turbo'],\n",
      "    'Claude': [   'claude-3-haiku-20240307',\n",
      "                  'claude-3-opus-20240229',\n",
      "                  'claude-3-sonnet-20240229'],\n",
      "    'DeepSeek': ['deepseek/deepseek-chat'],\n",
      "    'Gemini': ['gemini-pro'],\n",
      "    'Llama': ['ollama/llama3.1:70b', 'ollama/llama3.1:8b'],\n",
      "    'Olmo': ['ollama/olmo2', 'ollama/olmo2:13b']}\n",
      "  \n"
     ]
    }
   ],
   "source": [
    "describe_models(models=MODEL_LIST, model_to_type=MODEL_TO_TYPE)"
   ]
  },
  {
   "cell_type": "markdown",
   "metadata": {},
   "source": [
    "### Prompting models"
   ]
  },
  {
   "cell_type": "code",
   "execution_count": 5,
   "metadata": {
    "execution": {
     "iopub.execute_input": "2025-09-15T21:51:10.368970Z",
     "iopub.status.busy": "2025-09-15T21:51:10.368889Z",
     "iopub.status.idle": "2025-09-15T21:51:10.373029Z",
     "shell.execute_reply": "2025-09-15T21:51:10.372795Z"
    }
   },
   "outputs": [
    {
     "data": {
      "text/markdown": [
       "##### `check_api_keys`\n",
       "\n",
       "```md\n",
       "\n",
       "    Check if the API keys are set in the environment.\n",
       "\n",
       "    Defaults to the environment variables set in the .env file.\n",
       "\n",
       "    Variables used:\n",
       "    - GEMINI_API_KEY: Google Gemini API key\n",
       "    - OPENAI_API_KEY: OpenAI API key\n",
       "    - ANTHROPIC_API_KEY: Anthropic (Claude) API key\n",
       "    - DEEPSEEK_API_KEY: DeepSeek API key\n",
       "    \n",
       "```\n",
       "----\n"
      ],
      "text/plain": [
       "<IPython.core.display.Markdown object>"
      ]
     },
     "metadata": {},
     "output_type": "display_data"
    },
    {
     "data": {
      "text/markdown": [
       "##### `generate_rhyme_prompt_text`\n",
       "\n",
       "```md\n",
       "\n",
       "    Convenience function for generate_text using rhyme stash.\n",
       "\n",
       "    Args:\n",
       "        args: Arguments for generate_text\n",
       "        stash: Stash to use for caching. Defaults to STASH_GENAI_RHYME_PROMPTS.\n",
       "        verbose: Whether to print verbose output. Defaults to True.\n",
       "        kwargs: Keyword arguments for generate_text\n",
       "\n",
       "    Returns:\n",
       "        str: The generated text\n",
       "    \n",
       "```\n",
       "----\n"
      ],
      "text/plain": [
       "<IPython.core.display.Markdown object>"
      ]
     },
     "metadata": {},
     "output_type": "display_data"
    },
    {
     "data": {
      "text/markdown": [
       "##### `generate_text`\n",
       "\n",
       "```md\n",
       "Generate text with caching support (synchronous interface).\n",
       "    \n",
       "    This is the main text generation function that includes caching capabilities.\n",
       "    Results are cached based on the combination of model, prompt, temperature, and system_prompt.\n",
       "    \n",
       "    Args:\n",
       "        model: The model identifier\n",
       "        prompt: The user prompt/input text\n",
       "        temperature: Sampling temperature for text generation (0.0-1.0)\n",
       "        system_prompt: Optional system prompt/instruction\n",
       "        verbose: If True, print the complete response to stdout\n",
       "        force: If True, bypass cache and force new generation\n",
       "        stash: Cache storage backend for results\n",
       "        \n",
       "    Returns:\n",
       "        str: The complete generated text response (from cache or new generation)\n",
       "    \n",
       "```\n",
       "----\n"
      ],
      "text/plain": [
       "<IPython.core.display.Markdown object>"
      ]
     },
     "metadata": {},
     "output_type": "display_data"
    },
    {
     "data": {
      "text/markdown": [
       "##### `stream_llm`\n",
       "\n",
       "```md\n",
       "Universal streaming interface for language models.\n",
       "    \n",
       "    Automatically routes to the appropriate streaming function based on the model name.\n",
       "    Google models (containing 'gemini') use the Google Generative AI API,\n",
       "    all others use LiteLLM.\n",
       "    \n",
       "    Args:\n",
       "        model: The model identifier\n",
       "        prompt: The user prompt/input text\n",
       "        temperature: Sampling temperature for text generation (0.0-1.0)\n",
       "        system_prompt: Optional system prompt/instruction\n",
       "        verbose: If True, print tokens to stdout as they're generated\n",
       "        \n",
       "    Yields:\n",
       "        str: Individual tokens/text chunks from the model response\n",
       "    \n",
       "```\n",
       "----\n"
      ],
      "text/plain": [
       "<IPython.core.display.Markdown object>"
      ]
     },
     "metadata": {},
     "output_type": "display_data"
    },
    {
     "name": "stdout",
     "output_type": "stream",
     "text": [
      "✓ Gemini API key\n",
      "✓ OpenAI API key\n",
      "✓ Anthropic API key\n",
      "✓ DeepSeek API key\n"
     ]
    }
   ],
   "source": [
    "documentation(check_api_keys)\n",
    "documentation(generate_rhyme_prompt_text)\n",
    "documentation(generate_text)\n",
    "documentation(stream_llm)\n",
    "\n",
    "check_api_keys()"
   ]
  },
  {
   "cell_type": "markdown",
   "metadata": {},
   "source": [
    "#### Demo of prompting a model"
   ]
  },
  {
   "cell_type": "code",
   "execution_count": 6,
   "metadata": {
    "execution": {
     "iopub.execute_input": "2025-09-15T21:51:10.374169Z",
     "iopub.status.busy": "2025-09-15T21:51:10.374101Z",
     "iopub.status.idle": "2025-09-15T21:51:11.760205Z",
     "shell.execute_reply": "2025-09-15T21:51:11.759932Z"
    }
   },
   "outputs": [
    {
     "name": "stdout",
     "output_type": "stream",
     "text": [
      "* Demo model: claude-3-haiku-20240307\n",
      "* Demo prompt: Write a poem that does NOT rhyme.\n",
      "\n",
      "* Generating text\n",
      "  * model: claude-3-haiku-20240307\n",
      "  * prompt: Write a poem that does NOT rhyme.\n",
      "  * temperature: 0.7\n",
      "  * force: True\n",
      "  * stash: LMDBHashStash(~/github/generative-formalism/data/stash/genai_rhyme_prompts/lmdb.hashstash.lz4+b64/data.db)\n",
      "  * from_cache: False\n",
      "\n"
     ]
    },
    {
     "name": "stdout",
     "output_type": "stream",
     "text": [
      "Here"
     ]
    },
    {
     "name": "stdout",
     "output_type": "stream",
     "text": [
      " is"
     ]
    },
    {
     "name": "stdout",
     "output_type": "stream",
     "text": [
      " a poem that does"
     ]
    },
    {
     "name": "stdout",
     "output_type": "stream",
     "text": [
      " not rhyme:"
     ]
    },
    {
     "name": "stdout",
     "output_type": "stream",
     "text": [
      "\n",
      "\n",
      "Whis"
     ]
    },
    {
     "name": "stdout",
     "output_type": "stream",
     "text": [
      "pers in"
     ]
    },
    {
     "name": "stdout",
     "output_type": "stream",
     "text": [
      " the wind,"
     ]
    },
    {
     "name": "stdout",
     "output_type": "stream",
     "text": [
      "\n",
      "Ech"
     ]
    },
    {
     "name": "stdout",
     "output_type": "stream",
     "text": [
      "oing"
     ]
    },
    {
     "name": "stdout",
     "output_type": "stream",
     "text": [
      " through the trees,"
     ]
    },
    {
     "name": "stdout",
     "output_type": "stream",
     "text": [
      "\n",
      "Carrying"
     ]
    },
    {
     "name": "stdout",
     "output_type": "stream",
     "text": [
      " secrets"
     ]
    },
    {
     "name": "stdout",
     "output_type": "stream",
     "text": [
      " of the past"
     ]
    },
    {
     "name": "stdout",
     "output_type": "stream",
     "text": [
      ",\n",
      "Un"
     ]
    },
    {
     "name": "stdout",
     "output_type": "stream",
     "text": [
      "he"
     ]
    },
    {
     "name": "stdout",
     "output_type": "stream",
     "text": [
      "ard by all"
     ]
    },
    {
     "name": "stdout",
     "output_type": "stream",
     "text": [
      " but the"
     ]
    },
    {
     "name": "stdout",
     "output_type": "stream",
     "text": [
      " bre"
     ]
    },
    {
     "name": "stdout",
     "output_type": "stream",
     "text": [
      "eze."
     ]
    },
    {
     "name": "stdout",
     "output_type": "stream",
     "text": [
      "\n",
      "\n",
      "Shadows dance on the"
     ]
    },
    {
     "name": "stdout",
     "output_type": "stream",
     "text": [
      " wall"
     ]
    },
    {
     "name": "stdout",
     "output_type": "stream",
     "text": [
      ",\n",
      "Flick"
     ]
    },
    {
     "name": "stdout",
     "output_type": "stream",
     "text": [
      "ering in"
     ]
    },
    {
     "name": "stdout",
     "output_type": "stream",
     "text": [
      " the fire"
     ]
    },
    {
     "name": "stdout",
     "output_type": "stream",
     "text": [
      "light,"
     ]
    },
    {
     "name": "stdout",
     "output_type": "stream",
     "text": [
      "\n",
      "Telling"
     ]
    },
    {
     "name": "stdout",
     "output_type": "stream",
     "text": [
      " tales of ancient"
     ]
    },
    {
     "name": "stdout",
     "output_type": "stream",
     "text": [
      " times,"
     ]
    },
    {
     "name": "stdout",
     "output_type": "stream",
     "text": [
      "\n",
      "F"
     ]
    },
    {
     "name": "stdout",
     "output_type": "stream",
     "text": [
      "ading with"
     ]
    },
    {
     "name": "stdout",
     "output_type": "stream",
     "text": [
      " the dying"
     ]
    },
    {
     "name": "stdout",
     "output_type": "stream",
     "text": [
      " night"
     ]
    },
    {
     "name": "stdout",
     "output_type": "stream",
     "text": [
      ".\n",
      "\n",
      "Foot"
     ]
    },
    {
     "name": "stdout",
     "output_type": "stream",
     "text": [
      "steps in"
     ]
    },
    {
     "name": "stdout",
     "output_type": "stream",
     "text": [
      " the distance"
     ]
    },
    {
     "name": "stdout",
     "output_type": "stream",
     "text": [
      ",\n",
      "Approaching"
     ]
    },
    {
     "name": "stdout",
     "output_type": "stream",
     "text": [
      " with a steady"
     ]
    },
    {
     "name": "stdout",
     "output_type": "stream",
     "text": [
      " beat,"
     ]
    },
    {
     "name": "stdout",
     "output_type": "stream",
     "text": [
      "\n",
      "Bringing with"
     ]
    },
    {
     "name": "stdout",
     "output_type": "stream",
     "text": [
      " them new"
     ]
    },
    {
     "name": "stdout",
     "output_type": "stream",
     "text": [
      " begin"
     ]
    },
    {
     "name": "stdout",
     "output_type": "stream",
     "text": [
      "nings,"
     ]
    },
    {
     "name": "stdout",
     "output_type": "stream",
     "text": [
      "\n",
      "Leaving"
     ]
    },
    {
     "name": "stdout",
     "output_type": "stream",
     "text": [
      " the"
     ]
    },
    {
     "name": "stdout",
     "output_type": "stream",
     "text": [
      " ol"
     ]
    },
    {
     "name": "stdout",
     "output_type": "stream",
     "text": [
      "d to"
     ]
    },
    {
     "name": "stdout",
     "output_type": "stream",
     "text": [
      " retreat"
     ]
    },
    {
     "name": "stdout",
     "output_type": "stream",
     "text": [
      ".\n",
      "\n",
      "The"
     ]
    },
    {
     "name": "stdout",
     "output_type": "stream",
     "text": [
      " worl"
     ]
    },
    {
     "name": "stdout",
     "output_type": "stream",
     "text": [
      "d is a tapest"
     ]
    },
    {
     "name": "stdout",
     "output_type": "stream",
     "text": [
      "ry,"
     ]
    },
    {
     "name": "stdout",
     "output_type": "stream",
     "text": [
      "\n",
      "Woven"
     ]
    },
    {
     "name": "stdout",
     "output_type": "stream",
     "text": [
      " with"
     ]
    },
    {
     "name": "stdout",
     "output_type": "stream",
     "text": [
      " threads of life"
     ]
    },
    {
     "name": "stdout",
     "output_type": "stream",
     "text": [
      ",\n",
      "Each"
     ]
    },
    {
     "name": "stdout",
     "output_type": "stream",
     "text": [
      " moment"
     ]
    },
    {
     "name": "stdout",
     "output_type": "stream",
     "text": [
      " a unique"
     ]
    },
    {
     "name": "stdout",
     "output_type": "stream",
     "text": [
      " design"
     ]
    },
    {
     "name": "stdout",
     "output_type": "stream",
     "text": [
      ",\n",
      "Unt"
     ]
    },
    {
     "name": "stdout",
     "output_type": "stream",
     "text": [
      "ou"
     ]
    },
    {
     "name": "stdout",
     "output_type": "stream",
     "text": [
      "ched by the blade"
     ]
    },
    {
     "name": "stdout",
     "output_type": "stream",
     "text": [
      " of str"
     ]
    },
    {
     "name": "stdout",
     "output_type": "stream",
     "text": [
      "ife."
     ]
    }
   ],
   "source": [
    "if REPLICATE_LLM_DEMO:\n",
    "    demo_model, demo_prompt = get_demo_model_prompt()\n",
    "    # demo_model, demo_prompt = get_random_model_prompt()  # or a random one\n",
    "    print(f'* Demo model: {demo_model}')\n",
    "    print(f'* Demo prompt: {demo_prompt}\\n')\n",
    "\n",
    "    response_str = generate_rhyme_prompt_text(\n",
    "        model=demo_model,\n",
    "        prompt=demo_prompt,\n",
    "        verbose=True,\n",
    "        force=True\n",
    "    )"
   ]
  }
 ],
 "metadata": {
  "kernelspec": {
   "display_name": "venv",
   "language": "python",
   "name": "python3"
  },
  "language_info": {
   "codemirror_mode": {
    "name": "ipython",
    "version": 3
   },
   "file_extension": ".py",
   "mimetype": "text/x-python",
   "name": "python",
   "nbconvert_exporter": "python",
   "pygments_lexer": "ipython3",
   "version": "3.12.1"
  }
 },
 "nbformat": 4,
 "nbformat_minor": 2
}
